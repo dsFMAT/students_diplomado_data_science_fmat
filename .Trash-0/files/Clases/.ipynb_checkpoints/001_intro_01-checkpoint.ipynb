{
 "cells": [
  {
   "cell_type": "markdown",
   "id": "e63bb2fa-dafa-4f71-99ad-2ed176060c55",
   "metadata": {},
   "source": [
    "# NumPy\n",
    "\n",
    "- Paquete FUNDAMENTAL para cómputo científico en Python\n",
    "- Provee un ***multidimensional array*** y derivados\n",
    "- Una variedad de métodos y funcionalidades para ***súper rapidisísimas* operaciones** con los *arrays*\n",
    "    - Para darnos una idea: **NumPy** es la abreviatura de ***\"Numerical Python\"***.\n",
    "      \n",
    "## **[`ndarray`](https://numpy.org/devdocs/reference/generated/numpy.ndarray.html#numpy.ndarray)** --> El objeto *core* de NumPy\n",
    "\n",
    "- Es verdad que es un \"contenedor\" más como lo son las listas, diccionarios, tuplas,... pero\n",
    "  \n",
    "![it's so more much than that!](../www/love-actually-mr-bean.gif \"it's so more much than that!\")\n",
    "\n",
    "- Una de las tantas bellezas que tiene este objeto es que, la gran mayoría de las operaciones luce igual sin importar cuántas dimensiones tenga el arreglo\n",
    "- Algunas consideraciones aparte para:\n",
    "    - $0D$ *array* es para los escalares\n",
    "    - $1D$ *array* es para arreglos unidimensionales como un \"vector\" (de R) o una fila de una tabla o una columna\n",
    "    - $2D$ *array* es para matrices... antes existía una clase $matrix$ en *Numpy*, pero ha sido deprecada...\n",
    "- $3D$ *\"y más allá\" arreglos...*\n",
    "\n",
    "### ¿Por qué no quedarnos con lo que nos da Python?\n",
    "\n",
    "- Las listas son excelentes contenedores para un uso general\n",
    "- Pueden ser **\"heterogéneas\"**\n",
    "- Son bastantes rápidas cuando se usan para ejecutar operaciones individuales para un puñado de elementos.\n",
    "- Otros contenedores podrían ser más apropiados que otros dependiendo de unos tipos de datos u otros\n",
    "- **NumPY SE VA A LOS CIELOS** cuando lidiamos con una **gran cantidad de datos** ***\"homogéneos\"***\n",
    "    - Mejora en velocidad,\n",
    "    - Reduce consumo de memoria\n",
    "    - Ofrece una sintaxis de alto novel para desempeñar tareas que comunmente procesamos\n",
    " \n",
    "- Pero, todo hay que decirlo:\n",
    "    - Tienen un tamaño fijo, no pueden crecer dinámicamente como las listas de python\n",
    "    - Cambiar el tamaño de un `ndarray` creará un nuevo arreglo y borrará el original\n",
    "    - Como ya mencionamos antes, se requiere que todos los elementos de un `ndarray` sean del mismo tipo de dato y, por lo mento, ocuparán el mismo espacio en memoria, con la excepeción de los arreglos con `dtype` `objects` y que, por lo tanto, se permite que cada elemento tengan diferentes tamaños\n",
    " \n",
    "- Si queremos desarrollar código y/o paquetería, usar los `ndarray` puede ser una gran idea. Tan es así que hoy por hoy, una cada vez mayor cantidad de paquetes de python para usos matemáticos y/o científicos, están basados en ***array* de NumPy** o, al menos, usándolos como *inspiración* y/o se optimizan al utilizarlos...\n",
    "    - pandas\n",
    "    - matplotlib\n",
    "    - seaborn\n",
    "    - PyTorch\n",
    "    - TensorFlow\n",
    "    - Keras,..."
   ]
  },
  {
   "cell_type": "markdown",
   "id": "deadc292-771f-4b70-a36d-bb0016076835",
   "metadata": {},
   "source": [
    "### Por ejemplo... *versus* con un poco de aritmética...\n",
    "\n",
    "- `list` + escalar?\n",
    "- `list` + `list`?\n",
    "- `list`* escalar?\n",
    "- `list` * `list`?\n",
    "\n",
    "Cómo lograrlo con `ndarray`?"
   ]
  },
  {
   "cell_type": "code",
   "execution_count": null,
   "id": "fb49eb76-c3c9-4aa5-99d8-b677a34caa6c",
   "metadata": {},
   "outputs": [],
   "source": [
    "a = [1,2,3]\n",
    "a"
   ]
  },
  {
   "cell_type": "code",
   "execution_count": null,
   "id": "36e6310c-94d3-4db3-aa89-f47c63e5e194",
   "metadata": {},
   "outputs": [],
   "source": [
    "b = [4,5,6]\n",
    "b"
   ]
  },
  {
   "cell_type": "markdown",
   "id": "6614a4d4-7308-4fca-b6ca-0645bdff9df6",
   "metadata": {},
   "source": [
    "### Suma con escalar"
   ]
  },
  {
   "cell_type": "code",
   "execution_count": null,
   "id": "a587819d-1653-42fb-9d43-d61edfdcad07",
   "metadata": {},
   "outputs": [],
   "source": [
    "a+3"
   ]
  },
  {
   "cell_type": "code",
   "execution_count": null,
   "id": "d60ff3fc-6140-4bc5-baca-f62579052001",
   "metadata": {},
   "outputs": [],
   "source": [
    "b+5"
   ]
  },
  {
   "cell_type": "markdown",
   "id": "e1e0c64c-d96d-4348-a907-a87b443b641b",
   "metadata": {},
   "source": [
    "- y entonces???\n",
    "- Y no hay forma de hacerlo desde Python \"solito\"?\n",
    "- Les suena [**List Comprehensions**](https://github.com/dsFMAT/introduction_to_python/blob/main/Notebooks_Clases/005_%20Loops.ipynb)? (**¡¡GRACIAS PROFE HENRRY!!**)"
   ]
  },
  {
   "cell_type": "markdown",
   "id": "d7b75d81-4786-41aa-84fc-8a703b21a1fe",
   "metadata": {},
   "source": []
  },
  {
   "cell_type": "code",
   "execution_count": null,
   "id": "ff8959dd-cacf-4f44-a1fd-2261411de7fc",
   "metadata": {},
   "outputs": [],
   "source": []
  },
  {
   "cell_type": "code",
   "execution_count": null,
   "id": "a5390b98-d6b1-4e18-8189-93ea80ce1ce4",
   "metadata": {},
   "outputs": [],
   "source": [
    "import numpy as np # como nos enseñó el Profe Henrry a importar módulos!!! GRACIAS PROFE!!!\n",
    "a_np = np.array(a)\n",
    "b_np = np.array(b)"
   ]
  },
  {
   "cell_type": "markdown",
   "id": "53f69bfc-aace-4374-bf3a-8a9da48b67d6",
   "metadata": {},
   "source": [
    "- Mientras tanto...\n",
    "\n",
    "![Mientras tanto...](../www/star-wars.gif)"
   ]
  },
  {
   "cell_type": "code",
   "execution_count": null,
   "id": "c5160e55-fcaf-48e6-84b5-6dac5c3d73e5",
   "metadata": {},
   "outputs": [],
   "source": [
    "a_np +3"
   ]
  },
  {
   "cell_type": "code",
   "execution_count": null,
   "id": "d91c0cd3-9746-4a2e-a2ac-18cc01bf6fc0",
   "metadata": {},
   "outputs": [],
   "source": [
    "b_np+3"
   ]
  },
  {
   "cell_type": "code",
   "execution_count": null,
   "id": "ad2f1ab2-86e8-4905-89e5-754dbf1437d4",
   "metadata": {},
   "outputs": [],
   "source": []
  },
  {
   "cell_type": "code",
   "execution_count": null,
   "id": "d96f3710-1d71-483e-ab7f-8e76eed0ba10",
   "metadata": {},
   "outputs": [],
   "source": []
  },
  {
   "cell_type": "code",
   "execution_count": null,
   "id": "016409d3-5392-4d27-8e8c-86c1891d2331",
   "metadata": {},
   "outputs": [],
   "source": []
  },
  {
   "cell_type": "code",
   "execution_count": null,
   "id": "8a438873-024b-479c-92df-a61eb45e3a8d",
   "metadata": {},
   "outputs": [],
   "source": []
  },
  {
   "cell_type": "code",
   "execution_count": null,
   "id": "1a469bc9-5c17-4111-a666-ddf8002182a4",
   "metadata": {},
   "outputs": [],
   "source": []
  },
  {
   "cell_type": "code",
   "execution_count": null,
   "id": "7c2e1b2a-689f-49b2-a88f-5c5ce9d18789",
   "metadata": {},
   "outputs": [],
   "source": []
  },
  {
   "cell_type": "code",
   "execution_count": null,
   "id": "7f6dc786-2151-4776-ba94-f06e4d1f2191",
   "metadata": {},
   "outputs": [],
   "source": [
    "[x+3 for x in a]"
   ]
  },
  {
   "cell_type": "code",
   "execution_count": null,
   "id": "28ad4431-ed6f-42e8-abd9-7e2bc5e44052",
   "metadata": {},
   "outputs": [],
   "source": []
  },
  {
   "cell_type": "code",
   "execution_count": null,
   "id": "8ba333d3-2cb5-4fcb-90b4-c0cbf01883ab",
   "metadata": {},
   "outputs": [],
   "source": []
  },
  {
   "cell_type": "code",
   "execution_count": null,
   "id": "16e9c564-86be-4a74-96df-ab8d508a6224",
   "metadata": {},
   "outputs": [],
   "source": []
  },
  {
   "cell_type": "code",
   "execution_count": null,
   "id": "6b9b2bb9-5863-4788-9972-97ea3847c759",
   "metadata": {},
   "outputs": [],
   "source": []
  },
  {
   "cell_type": "code",
   "execution_count": null,
   "id": "63e43778-b18e-4341-b904-34feb0619432",
   "metadata": {},
   "outputs": [],
   "source": []
  },
  {
   "cell_type": "code",
   "execution_count": null,
   "id": "79413282-27d7-4998-816e-55731b1d7014",
   "metadata": {},
   "outputs": [],
   "source": []
  },
  {
   "cell_type": "code",
   "execution_count": null,
   "id": "03f005b0-25f6-4f9b-87cd-9bff1e194ff7",
   "metadata": {},
   "outputs": [],
   "source": [
    "[x+5 for x in b]"
   ]
  },
  {
   "cell_type": "markdown",
   "id": "38bbc0b3-bbe0-4e0c-b455-08142884ae6c",
   "metadata": {},
   "source": [
    "- Cuál les gusta más?"
   ]
  },
  {
   "cell_type": "markdown",
   "id": "8175799d-d44e-49a8-9d37-c224f57473d6",
   "metadata": {},
   "source": [
    "### Multiplicación de cada elemento por un escalar"
   ]
  },
  {
   "cell_type": "code",
   "execution_count": null,
   "id": "519fe220-4032-4b2e-a3fd-9492dd457273",
   "metadata": {},
   "outputs": [],
   "source": [
    "a*3"
   ]
  },
  {
   "cell_type": "code",
   "execution_count": null,
   "id": "72915c58-16d8-40ad-a90b-f6e61c9a2549",
   "metadata": {},
   "outputs": [],
   "source": [
    "b*5"
   ]
  },
  {
   "cell_type": "markdown",
   "id": "e663106c-c052-4903-8daa-41f329e98864",
   "metadata": {},
   "source": [
    "- Eso queremos?\n",
    "- ¿Cómo hacemos para que cada elemento se multiplique por el escalar y no que se repitan los elemento N veces?\n",
    "- ¿Cómo lo harían con **List Comprehensions**?"
   ]
  },
  {
   "cell_type": "code",
   "execution_count": null,
   "id": "2e9a8e64-1a4d-4eec-9d17-67b5d0c56fa2",
   "metadata": {},
   "outputs": [],
   "source": []
  },
  {
   "cell_type": "code",
   "execution_count": null,
   "id": "53b460ff-cf08-48d3-a192-99b9b0e53eea",
   "metadata": {},
   "outputs": [],
   "source": []
  },
  {
   "cell_type": "markdown",
   "id": "b002a3f8-f248-437c-ae49-a0b9b357125c",
   "metadata": {},
   "source": [
    "- Con **numpy**:"
   ]
  },
  {
   "cell_type": "code",
   "execution_count": null,
   "id": "03494cba-848c-4851-bcd6-0c2d0bbddc07",
   "metadata": {},
   "outputs": [],
   "source": [
    "a_np*3"
   ]
  },
  {
   "cell_type": "code",
   "execution_count": null,
   "id": "19438d0a-cdc3-4894-90b6-364434dbdee2",
   "metadata": {},
   "outputs": [],
   "source": [
    "b_np*5"
   ]
  },
  {
   "cell_type": "code",
   "execution_count": null,
   "id": "25f0d2e2-b7da-4356-8680-f27221f6cc3e",
   "metadata": {},
   "outputs": [],
   "source": []
  },
  {
   "cell_type": "code",
   "execution_count": null,
   "id": "f37b6e56-f4e2-48b5-aa7f-ff97585faeaa",
   "metadata": {},
   "outputs": [],
   "source": []
  },
  {
   "cell_type": "code",
   "execution_count": null,
   "id": "33be347a-28f5-411e-b227-d43a4b81b6c4",
   "metadata": {},
   "outputs": [],
   "source": [
    "[x*3 for x in a]"
   ]
  },
  {
   "cell_type": "code",
   "execution_count": null,
   "id": "729c24fe-384a-4db5-ba63-7abfd7c95792",
   "metadata": {},
   "outputs": [],
   "source": [
    "[x*5 for x in b]"
   ]
  },
  {
   "cell_type": "markdown",
   "id": "8229da6d-1113-45ef-ad71-31f1876668c0",
   "metadata": {},
   "source": [
    "### Suma entre elementos de dos arreglos"
   ]
  },
  {
   "cell_type": "code",
   "execution_count": null,
   "id": "a38eae80-cc91-48d8-9eb1-a5595dc6fac1",
   "metadata": {},
   "outputs": [],
   "source": [
    "a+b"
   ]
  },
  {
   "cell_type": "code",
   "execution_count": null,
   "id": "c34d1559-5ad7-4a1f-b2b0-257368104c80",
   "metadata": {},
   "outputs": [],
   "source": [
    "a_np+b_np"
   ]
  },
  {
   "cell_type": "code",
   "execution_count": null,
   "id": "452f73ab-037c-46b6-9627-a0d32f828312",
   "metadata": {},
   "outputs": [],
   "source": [
    "[x+y for x,y in zip(a,b)]"
   ]
  },
  {
   "cell_type": "code",
   "execution_count": null,
   "id": "5399a0d0-4453-48a6-ba2c-3e97fa4bd0ae",
   "metadata": {},
   "outputs": [],
   "source": []
  },
  {
   "cell_type": "markdown",
   "id": "f7cdc949-dec7-4696-9e00-ef0a686e5614",
   "metadata": {},
   "source": [
    "### Multiplicación entre elementos de dos arreglos"
   ]
  },
  {
   "cell_type": "code",
   "execution_count": null,
   "id": "398e7e11-14bf-44ec-ac8d-a62b0066f95d",
   "metadata": {},
   "outputs": [],
   "source": [
    "a*b"
   ]
  },
  {
   "cell_type": "code",
   "execution_count": null,
   "id": "f60fbdd4-5d5e-42e7-84e7-6bc4e67ba54e",
   "metadata": {},
   "outputs": [],
   "source": [
    "a_np*b_np"
   ]
  },
  {
   "cell_type": "markdown",
   "id": "19886971-aebb-46e9-9788-ecc5e8affc96",
   "metadata": {},
   "source": [
    "¿**List Comprehensions**?"
   ]
  },
  {
   "cell_type": "code",
   "execution_count": null,
   "id": "dcbc7b5c-7f5e-45ce-b7c8-69b17fbaf553",
   "metadata": {},
   "outputs": [],
   "source": []
  },
  {
   "cell_type": "code",
   "execution_count": null,
   "id": "bcead977-be25-4919-89c3-1e3f7cc8be78",
   "metadata": {},
   "outputs": [],
   "source": []
  },
  {
   "cell_type": "markdown",
   "id": "e403dd12-4fe6-4fc2-b2ce-490fc7bb6798",
   "metadata": {},
   "source": [
    "## El otro lado de la moneda...\n",
    "\n",
    "Se acuerdan que las listas son como una especie de Barneybolsa?"
   ]
  },
  {
   "cell_type": "code",
   "execution_count": null,
   "id": "66c797cb-7b7a-4c43-8249-5cfad0fb7a89",
   "metadata": {},
   "outputs": [],
   "source": [
    "list_barney_bolsa = [[1,23],'la ',('barni',' bolsa'),[{'te':'ayudará','en ella':'todo encontrarás'}]]\n",
    "list_barney_bolsa"
   ]
  },
  {
   "cell_type": "markdown",
   "id": "ad90a070-a2ae-441a-bd3e-04d1dbe6af48",
   "metadata": {},
   "source": [
    "- Funcionaría con las `tuples`?"
   ]
  },
  {
   "cell_type": "code",
   "execution_count": null,
   "id": "623f19be-fdf4-4c0a-8ec3-4352bff08567",
   "metadata": {},
   "outputs": [],
   "source": [
    "tuple_barney_bolsa = ([1,23],'la ',('barni',' bolsa'),[{'te':'ayudará','en ella':'todo encontrarás'}])\n",
    "tuple_barney_bolsa"
   ]
  },
  {
   "cell_type": "markdown",
   "id": "97525791-9cf6-4963-bfaa-ab432d944553",
   "metadata": {},
   "source": [
    "- Y con los diccionarios, ni qué decir..."
   ]
  },
  {
   "cell_type": "code",
   "execution_count": null,
   "id": "fc89d5f9-1eb1-4e93-9ef4-f0c538b49772",
   "metadata": {},
   "outputs": [],
   "source": [
    "dict_barney_bolsa = {}\n",
    "for index, element in enumerate(list_barney_bolsa):\n",
    "    dict_barney_bolsa['element_%s'%index] = element\n",
    "dict_barney_bolsa"
   ]
  },
  {
   "cell_type": "markdown",
   "id": "0978af45-94a1-4e69-8fcc-0be29eb756ed",
   "metadata": {},
   "source": [
    "- Y, ahora, qué pasaría desde **NumPy** con los `ndarray`?"
   ]
  },
  {
   "cell_type": "code",
   "execution_count": null,
   "id": "fb144479-773a-4e80-b1f9-f8a5391b8048",
   "metadata": {},
   "outputs": [],
   "source": [
    "tuple_barney_bolsa = ([1,23],'la ',('barni',' bolsa'),[{'te':'ayudará','en ella':'todo encontrarás'}])\n",
    "tuple_barney_bolsa"
   ]
  },
  {
   "cell_type": "markdown",
   "id": "d2cf67a4-1e51-4837-9e09-c300ce0fccfc",
   "metadata": {},
   "source": [
    "- Y ahora...\n",
    "- Recordemos que parte de lo que más importante de NumPy es su alta eficiencia al momento de procesar tareas\n",
    "- Para lograrlo, en parte, es por ello por lo que \"piden tantos requisitos\"... como, por ejemplo, que los elementos sean de un tipo\n",
    "- Hay ciertos casos en donde pueden no ser idénticos, pero se necesita de que guarden cierta armonía que les permita ser coercionados a un mismo tipo"
   ]
  },
  {
   "cell_type": "markdown",
   "id": "96441544-4b79-42d8-bc50-28976e729ccc",
   "metadata": {},
   "source": [
    "### Más golpes al corazón </3..."
   ]
  },
  {
   "cell_type": "code",
   "execution_count": null,
   "id": "171b8131-7a7c-4de5-b2a9-4a5497b92603",
   "metadata": {},
   "outputs": [],
   "source": [
    "list_str = ['avinash','jay']\n",
    "list_str* 2"
   ]
  },
  {
   "cell_type": "code",
   "execution_count": null,
   "id": "5a3b7cfa-2d0e-4eda-a0ef-c7f16ecbe2c0",
   "metadata": {},
   "outputs": [],
   "source": [
    "np_str = np.array(list_str)\n",
    "np_str * 2"
   ]
  },
  {
   "cell_type": "markdown",
   "id": "be3a4811-7c9d-4996-a2ee-d46356a6da0e",
   "metadata": {},
   "source": [
    "- Ni con eso, *strings*, puede Numpy????\n",
    "- Podemos hacer algo al respecto?\n",
    "- Pilas con el `dtype`\n",
    "- Numpy lo \"induce\" pero podemos especificarlo con este argumento"
   ]
  },
  {
   "cell_type": "code",
   "execution_count": null,
   "id": "f089b454-b034-4b8b-ac39-652b2b541830",
   "metadata": {},
   "outputs": [],
   "source": [
    "np_str = np.array(list_str, dtype=object)\n",
    "np_str* 2"
   ]
  },
  {
   "cell_type": "markdown",
   "id": "822a7ce6-981e-4aa3-9bef-fc67f5f54e0f",
   "metadata": {},
   "source": [
    "- Aún así, fijémonos en la eficiencia que consigue NumPy en el uso de la memoria:"
   ]
  },
  {
   "cell_type": "code",
   "execution_count": null,
   "id": "61d14540-063e-4fe3-a85e-ca4f98f62677",
   "metadata": {},
   "outputs": [],
   "source": [
    "try:\n",
    "    import pympler\n",
    "except ImportError as e:\n",
    "    !pip install pympler"
   ]
  },
  {
   "cell_type": "code",
   "execution_count": null,
   "id": "5ec738dc-1c0c-4f7c-ba3f-222c234e26fd",
   "metadata": {},
   "outputs": [],
   "source": [
    "from pympler.asizeof import asizesof"
   ]
  },
  {
   "cell_type": "code",
   "execution_count": null,
   "id": "ba20a552-fb2d-4e0a-8ee2-c814b0e55f84",
   "metadata": {},
   "outputs": [],
   "source": [
    "ar1 = np.array(['this is a string', 'string']*1000, dtype=object)\n",
    "ar2 = np.array(['this is a string', 'string']*1000, dtype=str)\n",
    "asizesof(ar2)[0]/asizesof(ar1)[0]  # 7.944444444444445"
   ]
  },
  {
   "cell_type": "markdown",
   "id": "fbbb00e2-3c3c-48a5-bf37-ee37b9d536ac",
   "metadata": {},
   "source": [
    "- También podríamos usar `np.char.multiply`"
   ]
  },
  {
   "cell_type": "code",
   "execution_count": null,
   "id": "2fe911a1-e4a8-4e9c-aa39-4d1145d455db",
   "metadata": {},
   "outputs": [],
   "source": [
    "np.char.multiply(ar2, 2)"
   ]
  },
  {
   "cell_type": "markdown",
   "id": "a1835b02-6082-4de6-8195-c3f669e2b0ea",
   "metadata": {},
   "source": [
    "- Chequemos los tiempos de ejecución"
   ]
  },
  {
   "cell_type": "code",
   "execution_count": null,
   "id": "ad340a4f-0447-4f07-9ff7-e3a076db15c0",
   "metadata": {},
   "outputs": [],
   "source": [
    "import timeit\n",
    "setup = \"import numpy as np; from __main__ import ar1, ar2\"\n",
    "t1 = min(timeit.repeat(\"ar1*2\", setup, number=1000))\n",
    "t2 = min(timeit.repeat(\"np.char.multiply(ar2, 2)\", setup, number=1000))\n",
    "t2 / t1   # 6.611172061718781"
   ]
  },
  {
   "cell_type": "markdown",
   "id": "fc0ec6d3-4d57-46d4-83be-8c813a8f1734",
   "metadata": {},
   "source": [
    "## Un pequeño resumen\n",
    "\n",
    "Los arreglos de NumPy son:\n",
    "- Más compactos, especialmente cuando hay más de una dimensión\n",
    "- Más rápido que las listas cuando la operación puede ser vectorizada\n",
    "- Considerar que son un poco más lentas que las llistas cuando se agregan elementos al final\n",
    "- Usualmente homogéneos: Pueden trabajar más rápido sólo cuando se tienen elementos de un tipo"
   ]
  },
  {
   "cell_type": "code",
   "execution_count": null,
   "id": "a5d50162-33e4-4664-afdd-d65e286d2b77",
   "metadata": {},
   "outputs": [],
   "source": []
  }
 ],
 "metadata": {
  "kernelspec": {
   "display_name": "Python 3 (ipykernel)",
   "language": "python",
   "name": "python3"
  },
  "language_info": {
   "codemirror_mode": {
    "name": "ipython",
    "version": 3
   },
   "file_extension": ".py",
   "mimetype": "text/x-python",
   "name": "python",
   "nbconvert_exporter": "python",
   "pygments_lexer": "ipython3",
   "version": "3.8.19"
  }
 },
 "nbformat": 4,
 "nbformat_minor": 5
}
