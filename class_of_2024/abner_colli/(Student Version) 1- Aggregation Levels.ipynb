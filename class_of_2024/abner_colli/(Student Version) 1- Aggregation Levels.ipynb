{
 "cells": [
  {
   "cell_type": "markdown",
   "metadata": {
    "slideshow": {
     "slide_type": "slide"
    }
   },
   "source": [
    "#### Diplomado en Ciencia de Datos\n",
    "Módulo 2: Business Intelligence  \n",
    "## **Tema 1: Niveles de Medida y Agregación**\n",
    "\n",
    "*Notebook by [Pedro V Hernandez Serrano](https://github.com/pedrohserrano)*"
   ]
  },
  {
   "cell_type": "markdown",
   "metadata": {},
   "source": [
    "---\n",
    "![](../img/header.jpg)"
   ]
  },
  {
   "cell_type": "markdown",
   "metadata": {},
   "source": [
    "# Niveles de medida\n",
    "\n",
    "En matemáticas y estadística, **el nivel de medida de una variable es una clasificación acordada con el fin de describir la naturaleza de la información contenida dentro de los números asignados a los objetos** y, por lo tanto, dentro de una variable (Salkind, N. J., 1998)\n",
    "\n",
    "Entender el nivel de medida de una variable es importante en la visualización de datos porque determina los tipos de visualizaciones y operaciones estadísticas que se pueden aplicar.\n",
    "\n",
    "# Niveles de agregación\n",
    "\n",
    "La agregación de datos se refiere al **proceso de transformar datos individuales a un formato resumido mediante la aplicación de operaciones como agrupación, suma, promedio o recuento**. Esto se logra mediante métodos como \"group by\" o \"pivot\", que organizan y condensan puntos de datos individuales en una descripción general de nivel superior, lo que facilita la identificación de patrones, tendencias y perspectivas en diferentes categorías o dimensiones. Permitiendo un análisis y una visualización más eficiente.\n"
   ]
  },
  {
   "cell_type": "markdown",
   "metadata": {
    "tags": []
   },
   "source": [
    "**The Pandas Cheatsheet (el acordeon de la paquetería pandas)**.  \n",
    "\n",
    "✅ [Data Wrangling with Pandas](https://pandas.pydata.org/Pandas_Cheat_Sheet.pdf)"
   ]
  },
  {
   "cell_type": "markdown",
   "metadata": {
    "jp-MarkdownHeadingCollapsed": true,
    "tags": []
   },
   "source": [
    "---\n",
    "## Regla general para agrupar en Python\n",
    "\n",
    "```python\n",
    "______.groupby('categorical_____')['numerical_____'].agg(['operation_____'])\n",
    "\n",
    "# Example\n",
    "dataset.groupby('continent')['lifeExp'].agg(['mean'])\n",
    "```"
   ]
  },
  {
   "cell_type": "markdown",
   "metadata": {},
   "source": [
    "## The Data: Global flows\n",
    "\n",
    "Para este notebook, usaremos el [ejemplo de Gapminder](https://www.gapminder.org/fw/world-health-chart/), un dataset que ya está contenido en la biblioteca de Plotly, pero también en un CSV en este repo. El dataset contiene información sobre la esperanza de vida, la población y el PIB per cápita de los países por año.\n",
    "\n",
    "Este dataset se hizo famoso ya que se ha utilizado constantemente para ilustrar el poder de la visualización de datos en diferentes conferencias, presentaciones, paneles e infografías.\n",
    "\n",
    "Aquí abajo hay un video que explica los datos de Gapminder en un buen ejercicio de visualización de datos en la vida real (haz clic en reproducir ►).  \n",
    "También te dejo un enlace al video. "
   ]
  },
  {
   "cell_type": "code",
   "execution_count": null,
   "metadata": {
    "tags": []
   },
   "outputs": [],
   "source": [
    "import pandas as pd\n",
    "dataset = pd.read_csv('../data/gapminder_data_world_health.csv')"
   ]
  },
  {
   "cell_type": "code",
   "execution_count": null,
   "metadata": {
    "tags": []
   },
   "outputs": [],
   "source": [
    "dataset"
   ]
  },
  {
   "cell_type": "markdown",
   "metadata": {
    "slideshow": {
     "slide_type": "slide"
    },
    "tags": []
   },
   "source": [
    "# EJERCICIO 1\n",
    "\n",
    "1. Describe las variables del dataset en los correspondientes tipos de datos y medidas. \n",
    "- Cuales variables son categoricas y cuales son numéricas?\n",
    "- Cuales son continuas de intervalo, continuas de ratio, nominales y ordinales?\n",
    "\n",
    "2. Utiliza la función de pandas `dataset.dtypes`\n",
    "- Describe cual es la relación entre los \"data types\" que utiliza pandas y las que describiste el el punto anterior"
   ]
  },
  {
   "cell_type": "code",
   "execution_count": null,
   "metadata": {},
   "outputs": [],
   "source": [
    "\n",
    "\n",
    "\n"
   ]
  },
  {
   "cell_type": "markdown",
   "metadata": {
    "slideshow": {
     "slide_type": "slide"
    },
    "tags": []
   },
   "source": [
    "# EJERCICIO 2\n",
    "\n",
    "- Utiliza la función `groupby` para agrupar los datos por continente y calcula el promedio de la columna `lifeExp` (esperanza de vida) para cada grupo."
   ]
  },
  {
   "cell_type": "code",
   "execution_count": null,
   "metadata": {
    "tags": []
   },
   "outputs": [],
   "source": [
    "# ______.groupby('categorical_____')['numerical_____'].agg(['operation_____'])\n",
    "\n",
    "\n"
   ]
  },
  {
   "cell_type": "markdown",
   "metadata": {
    "slideshow": {
     "slide_type": "slide"
    },
    "tags": []
   },
   "source": [
    "# EJERCICIO 3\n",
    "\n",
    "- Extiende el ejercicio anterior para que, además del promedio de `lifeExp`, también calcules el valor máximo y mínimo de la esperanza de vida para cada continente."
   ]
  },
  {
   "cell_type": "code",
   "execution_count": null,
   "metadata": {
    "tags": []
   },
   "outputs": [],
   "source": [
    "# ______.groupby('categorical_____')['numerical_____'].agg(['operation_____'])\n",
    "\n",
    "\n"
   ]
  },
  {
   "cell_type": "markdown",
   "metadata": {},
   "source": [
    "# EJERCICIO 4\n",
    "\n",
    "- Crea una tabla dinámica (pivot table) que muestre el promedio de `lifeExp` para cada continente (filas), con los años como columnas  \n",
    "Nota: ve los ejemplos de como se usa la función `pivot_table` de pandas. [Ejemplos](https://pandas.pydata.org/docs/reference/api/pandas.pivot_table.html)"
   ]
  },
  {
   "cell_type": "code",
   "execution_count": null,
   "metadata": {},
   "outputs": [],
   "source": [
    "\n",
    "\n"
   ]
  },
  {
   "cell_type": "markdown",
   "metadata": {
    "tags": []
   },
   "source": [
    "# EJERCICIO 5 \n",
    "\n",
    "- Agrupa los datos por continente y calcula la suma de la columna `iso_num` para cada grupo.  \n",
    "Reflexiona sobre el significado de esta suma en el contexto de los datos."
   ]
  },
  {
   "cell_type": "code",
   "execution_count": null,
   "metadata": {
    "tags": []
   },
   "outputs": [],
   "source": [
    "# ______.groupby('categorical_____')['numerical_____'].agg(['operation_____'])\n",
    "\n",
    "\n"
   ]
  },
  {
   "cell_type": "markdown",
   "metadata": {},
   "source": [
    "## 🎉🎉 Congrats!!  \n",
    "\n",
    "## You've finished the notebook"
   ]
  }
 ],
 "metadata": {
  "celltoolbar": "Slideshow",
  "environment": {
   "kernel": "conda-base-py",
   "name": "workbench-notebooks.m124",
   "type": "gcloud",
   "uri": "us-docker.pkg.dev/deeplearning-platform-release/gcr.io/workbench-notebooks:m124"
  },
  "kernelspec": {
   "display_name": "Python 3 (ipykernel)",
   "language": "python",
   "name": "python3"
  },
  "language_info": {
   "codemirror_mode": {
    "name": "ipython",
    "version": 3
   },
   "file_extension": ".py",
   "mimetype": "text/x-python",
   "name": "python",
   "nbconvert_exporter": "python",
   "pygments_lexer": "ipython3",
   "version": "3.11.5"
  }
 },
 "nbformat": 4,
 "nbformat_minor": 4
}
