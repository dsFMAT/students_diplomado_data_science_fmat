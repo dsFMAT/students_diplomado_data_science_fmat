{
 "cells": [
  {
   "cell_type": "markdown",
   "id": "4f7040f6-5da7-47f6-b077-8b8100f444a8",
   "metadata": {},
   "source": [
    "# Ejercicio\n",
    "\n",
    "Transformar una lista usando operaciones básicas\n",
    "\n",
    "Objetivo: Usar las operaciones de listas append, insert, del, pop, remove y modificación de elementos existentes para transformar la lista inicial en la lista objetivo.\n",
    "\n",
    "**Usar todas las opciones de manipulación de listas vistas en este notebook**\n",
    "\n",
    "Lista inicial:\n"
   ]
  },
  {
   "cell_type": "code",
   "execution_count": null,
   "id": "bcc50554-b848-4324-9fe5-a57092fdeacf",
   "metadata": {},
   "outputs": [],
   "source": [
    "\n",
    "my_list = ['this', 'list', 'is', 'twenty', '25']\n"
   ]
  },
  {
   "cell_type": "code",
   "execution_count": null,
   "id": "3a16781f-4372-4823-a1ea-0dcdb8ef869c",
   "metadata": {},
   "outputs": [],
   "source": [
    "\n",
    "my_list = ['this list', 'is', 'fifty', '50']\n"
   ]
  },
  {
   "cell_type": "code",
   "execution_count": 3,
   "id": "c293eba2-fb1d-45d5-8c12-8c8cbf7a09bc",
   "metadata": {},
   "outputs": [
    {
     "name": "stdout",
     "output_type": "stream",
     "text": [
      "['this', 'is', 'twenty', '25']\n",
      "['this list', 'is', 'twenty', '25']\n",
      "['this list', 'is', '25']\n",
      "['this list', 'is', 'fifty', '25']\n",
      "['this list', 'is', 'fifty', '25']\n"
     ]
    }
   ],
   "source": [
    "my_list = ['this', 'list', 'is', 'twenty', '25']\n",
    "\n",
    "# Eliminar el elemento 'list'\n",
    "my_list.remove('list')\n",
    "print(my_list)  # ['this', 'is', 'twenty', '25']\n",
    "\n",
    "# Modificar el primer elemento\n",
    "my_list[0] = 'this list'\n",
    "print(my_list)  # ['this list', 'is', 'twenty', '25']\n",
    "\n",
    "# Eliminar el tercer elemento ('twenty')\n",
    "del my_list[2]\n",
    "print(my_list)  # ['this list', 'is', '25']\n",
    "\n",
    "# Insertar 'fifty' en la tercera posición\n",
    "my_list.insert(2, 'fifty')\n",
    "print(my_list)  # ['this list', 'is', 'fifty', '25']\n",
    "\n",
    "# Eliminar '25' y volver a insertarlo en la cuarta posición\n",
    "my_list.remove('25')\n",
    "my_list.insert(3, '25')\n",
    "print(my_list)  # ['this list', 'is', 'fifty', '25']"
   ]
  },
  {
   "cell_type": "code",
   "execution_count": null,
   "id": "66924e3b-760c-49cc-9cf0-58402eb9e170",
   "metadata": {},
   "outputs": [],
   "source": []
  }
 ],
 "metadata": {
  "kernelspec": {
   "display_name": "Python 3 (ipykernel)",
   "language": "python",
   "name": "python3"
  },
  "language_info": {
   "codemirror_mode": {
    "name": "ipython",
    "version": 3
   },
   "file_extension": ".py",
   "mimetype": "text/x-python",
   "name": "python",
   "nbconvert_exporter": "python",
   "pygments_lexer": "ipython3",
   "version": "3.8.19"
  }
 },
 "nbformat": 4,
 "nbformat_minor": 5
}
