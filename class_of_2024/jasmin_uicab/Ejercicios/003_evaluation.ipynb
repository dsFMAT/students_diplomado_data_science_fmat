{
 "cells": [
  {
   "cell_type": "markdown",
   "id": "e3c1f71f-6296-4b85-bd3b-a566bf4099c6",
   "metadata": {},
   "source": [
    "## Ejercicio\n",
    "\n",
    "Teniendo las siguientes calificaciones, determine si un alumno excenta, para excentar, tiene que tener un promedio minimo de 80 y no reprobar ni un quiz, el minimo aprobatorio es 80 \n",
    "\n",
    "Hints: \n",
    "* Haga uso de suma y división para calcular el promedio\n",
    "* La variable excent debe de contener un booleano\n",
    "* Devolver un mensaje mencionando si el alumno excenta o no.\n",
    "\n",
    "  *i.e El alumno excenta: False*"
   ]
  },
  {
   "cell_type": "code",
   "execution_count": 3,
   "id": "29e8f73e-c2d5-4434-ad63-39008b19653e",
   "metadata": {},
   "outputs": [
    {
     "name": "stdout",
     "output_type": "stream",
     "text": [
      "El alumno excenta: False\n"
     ]
    }
   ],
   "source": [
    "quiz_1 = 85\n",
    "quiz_2 = 78\n",
    "quiz_3 = 92\n",
    "minimum_to_excent = 80\n",
    "\n",
    "\n",
    "avg =(quiz_1 + quiz_2 + quiz_3) / 3 \n",
    "\n",
    "\n",
    "excent = (avg >= minimum_to_excent)and(quiz_1 >= minimum_to_excent)and(quiz_2 >= minimum_to_excent)and(quiz_3 >= minimum_to_excent) \n",
    "\n",
    "msg= f\"El alumno excenta: {excent}\"\n",
    "\n",
    "print(msg)\n"
   ]
  },
  {
   "cell_type": "code",
   "execution_count": null,
   "id": "16bce948-d1d5-483f-a517-77e9ac67ffb2",
   "metadata": {},
   "outputs": [],
   "source": []
  }
 ],
 "metadata": {
  "kernelspec": {
   "display_name": "Python 3 (ipykernel)",
   "language": "python",
   "name": "python3"
  },
  "language_info": {
   "codemirror_mode": {
    "name": "ipython",
    "version": 3
   },
   "file_extension": ".py",
   "mimetype": "text/x-python",
   "name": "python",
   "nbconvert_exporter": "python",
   "pygments_lexer": "ipython3",
   "version": "3.8.19"
  }
 },
 "nbformat": 4,
 "nbformat_minor": 5
}
