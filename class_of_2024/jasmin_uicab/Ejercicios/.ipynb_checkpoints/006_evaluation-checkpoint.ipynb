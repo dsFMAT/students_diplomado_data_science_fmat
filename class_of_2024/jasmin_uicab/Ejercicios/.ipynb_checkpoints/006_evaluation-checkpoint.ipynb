{
 "cells": [
  {
   "cell_type": "markdown",
   "id": "a52a8052-0fa2-4a86-877d-63d2904bdd77",
   "metadata": {},
   "source": [
    "# Ejercicio"
   ]
  },
  {
   "cell_type": "markdown",
   "id": "4f259ee4-ecce-48b0-8219-1fffbe77de06",
   "metadata": {},
   "source": [
    "# Función para Calcular el Área de un Rectángulo \n",
    "\n",
    "Escribe una función llamada calcular_area_rectangulo que reciba dos parámetros, ancho y alto, y retorne el área del rectángulo. Prueba la función con diferentes valores de ancho y alto.\n",
    "\n",
    "Instrucciones:\n",
    "\n",
    "* Define la función calcular_area_rectangulo que reciba dos parámetros: ancho y alto.\n",
    "* Calcula el área del rectángulo usando la fórmula ancho * alto.\n",
    "* Retorna el área calculada.\n",
    "* Llama a la función con diferentes valores y muestra los resultados.\n"
   ]
  },
  {
   "cell_type": "code",
   "execution_count": 2,
   "id": "445b32ba-730f-4e14-a24d-5f0800bab7a0",
   "metadata": {},
   "outputs": [
    {
     "name": "stdout",
     "output_type": "stream",
     "text": [
      "El área del rectángulo con ancho 10 y alto 20 es: 200\n",
      "El área del rectángulo con ancho 4 y alto 8 es: 32\n",
      "El área del rectángulo con ancho 9 y alto 3 es: 27\n"
     ]
    }
   ],
   "source": [
    "# Función para calcular el área del rectángulo\n",
    "def calcular_area_rectangulo(ancho, alto):\n",
    "    return ancho * alto\n",
    "\n",
    "# Lista de pares de valores de ancho y alto\n",
    "valores_prueba = [(10, 20), (4, 8), (9, 3)]\n",
    "\n",
    "# Calcular y mostrar el área\n",
    "for ancho, alto in valores_prueba:\n",
    "    area = calcular_area_rectangulo(ancho, alto)\n",
    "    print(f\"El área del rectángulo con ancho {ancho} y alto {alto} es: {area}\")"
   ]
  },
  {
   "cell_type": "code",
   "execution_count": null,
   "id": "8125da82-0a4a-41d9-af3b-d8eb9aecfa40",
   "metadata": {},
   "outputs": [],
   "source": []
  }
 ],
 "metadata": {
  "kernelspec": {
   "display_name": "Python 3 (ipykernel)",
   "language": "python",
   "name": "python3"
  },
  "language_info": {
   "codemirror_mode": {
    "name": "ipython",
    "version": 3
   },
   "file_extension": ".py",
   "mimetype": "text/x-python",
   "name": "python",
   "nbconvert_exporter": "python",
   "pygments_lexer": "ipython3",
   "version": "3.8.19"
  }
 },
 "nbformat": 4,
 "nbformat_minor": 5
}
