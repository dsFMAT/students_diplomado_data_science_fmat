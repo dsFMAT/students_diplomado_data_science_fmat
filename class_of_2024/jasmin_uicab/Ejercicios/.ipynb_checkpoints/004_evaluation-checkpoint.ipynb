{
 "cells": [
  {
   "cell_type": "markdown",
   "id": "3e4522f4-30d4-4d03-b33b-f39cb4a4a55a",
   "metadata": {},
   "source": [
    "## Ejercicios: "
   ]
  },
  {
   "cell_type": "markdown",
   "id": "50b5e4c9-20c0-4e59-b3d6-aabd21d4ba11",
   "metadata": {},
   "source": [
    "### Ejercicio 1: Verificar la Edad para Votar\n",
    "\n",
    "Escribe un script que verifique si una persona es elegible para votar. Una persona puede votar si tiene 18 años o más.\n"
   ]
  },
  {
   "cell_type": "code",
   "execution_count": 20,
   "id": "3e80eb96-43fd-4c39-a6a1-4c4fd4f5a111",
   "metadata": {},
   "outputs": [
    {
     "name": "stdin",
     "output_type": "stream",
     "text": [
      "introduce tu edad: 16\n"
     ]
    }
   ],
   "source": [
    "age = int(input(\"introduce tu edad:\")) "
   ]
  },
  {
   "cell_type": "code",
   "execution_count": 21,
   "id": "fa10d321-bba5-4539-b970-d0e68060c8d4",
   "metadata": {},
   "outputs": [
    {
     "name": "stdout",
     "output_type": "stream",
     "text": [
      "no puedes votar\n"
     ]
    }
   ],
   "source": [
    "votar= age >=18\n",
    "\n",
    "if votar:\n",
    "    msg = \"si puedes votar.\"\n",
    "else:\n",
    "    msg = \"no puedes votar\"\n",
    "\n",
    "print(msg)\n"
   ]
  },
  {
   "cell_type": "markdown",
   "id": "5e804b58-d17c-4713-9605-b6ed569e38bb",
   "metadata": {},
   "source": [
    "### Ejercicio 2. Clasificar un Número\n",
    "\n",
    "Escribe un programa que clasifique un número como positivo, negativo o cero. Usa la sentencia `elif`"
   ]
  },
  {
   "cell_type": "code",
   "execution_count": 1,
   "id": "dbec776f-3127-449c-bf66-c70a475d2080",
   "metadata": {},
   "outputs": [
    {
     "name": "stdin",
     "output_type": "stream",
     "text": [
      "Introduce un número:  17\n"
     ]
    }
   ],
   "source": [
    "number = float(input(\"Introduce un número: \"))"
   ]
  },
  {
   "cell_type": "code",
   "execution_count": 2,
   "id": "55c0da4f-ece5-4b37-b4e2-ff4a94bd1227",
   "metadata": {},
   "outputs": [
    {
     "name": "stdout",
     "output_type": "stream",
     "text": [
      "El número es positivo.\n"
     ]
    }
   ],
   "source": [
    "msg = \"El número es positivo.\" if number > 0 else \"El número es negativo.\" if number < 0 else \"El número es cero.\"\n",
    "\n",
    "print(msg)"
   ]
  },
  {
   "cell_type": "markdown",
   "id": "00dbba2b-da89-4e0d-8d80-aa6af7162c70",
   "metadata": {},
   "source": [
    "### Ejercicio 3: Calcular la Tarifa de Envío\n",
    "\n",
    "Escribe un programa que determine la tarifa de envío basada en el peso del paquete.\n",
    "\n",
    "* Si el peso es menor o igual a 1 kg, la tarifa es de \\$5 .\n",
    "* Si el peso es mayor a 1 kg y menor o igual a 5 kg, la tarifa es de \\$10.\n",
    "* Si el peso es mayor a 5 kg, la tarifa es de \\$15."
   ]
  },
  {
   "cell_type": "code",
   "execution_count": 3,
   "id": "d8a87b9c-d506-400c-87fc-d647a8c2d3e7",
   "metadata": {},
   "outputs": [],
   "source": [
    "weight = 8"
   ]
  },
  {
   "cell_type": "code",
   "execution_count": 4,
   "id": "07eb7436-d3cb-46b8-a65f-6be2e2804bf4",
   "metadata": {},
   "outputs": [
    {
     "name": "stdout",
     "output_type": "stream",
     "text": [
      "La tarifa de envío es:$15\n"
     ]
    }
   ],
   "source": [
    "#peso \n",
    "\n",
    "if weight <= 1:\n",
    "    tarifa = 5\n",
    "elif weight <= 5:\n",
    "    tarifa = 10\n",
    "else:\n",
    "    tarifa = 15\n",
    "\n",
    "#imprimir tarifa\n",
    "\n",
    "print(f\"La tarifa de envío es:${tarifa}\")\n",
    "\n"
   ]
  },
  {
   "cell_type": "markdown",
   "id": "5188a9f2-98ef-4a93-b0b7-1238f6846af4",
   "metadata": {},
   "source": [
    "### Ejercicio 4. Verificar si un número es par y positivo\n",
    "\n",
    "Escribe un programa que determine si un número es par y positivo. Usa condiciones multiples\n",
    "\n"
   ]
  },
  {
   "cell_type": "code",
   "execution_count": 5,
   "id": "691ec6a4-f165-4047-b556-adc2ddc135f8",
   "metadata": {},
   "outputs": [],
   "source": [
    "numero = 4\n"
   ]
  },
  {
   "cell_type": "code",
   "execution_count": 6,
   "id": "a1a405b5-3f9d-4ba5-9530-a52f3767fac3",
   "metadata": {},
   "outputs": [
    {
     "name": "stdout",
     "output_type": "stream",
     "text": [
      "El número es par y positivo\n"
     ]
    }
   ],
   "source": [
    "if numero > 0 and numero % 2 == 0:\n",
    "    mensaje = \"El número es par y positivo\"\n",
    "else:\n",
    "    mensaje = \"El número no es par y positivo\"\n",
    "print(mensaje)"
   ]
  },
  {
   "cell_type": "code",
   "execution_count": null,
   "id": "0bf8c1e2-523f-4088-ac87-15018736fd31",
   "metadata": {},
   "outputs": [],
   "source": []
  }
 ],
 "metadata": {
  "kernelspec": {
   "display_name": "Python 3 (ipykernel)",
   "language": "python",
   "name": "python3"
  },
  "language_info": {
   "codemirror_mode": {
    "name": "ipython",
    "version": 3
   },
   "file_extension": ".py",
   "mimetype": "text/x-python",
   "name": "python",
   "nbconvert_exporter": "python",
   "pygments_lexer": "ipython3",
   "version": "3.8.19"
  }
 },
 "nbformat": 4,
 "nbformat_minor": 5
}
