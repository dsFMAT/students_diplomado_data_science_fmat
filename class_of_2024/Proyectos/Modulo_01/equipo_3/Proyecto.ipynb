{
 "cells": [
  {
   "cell_type": "markdown",
   "id": "a3c95ee7-abfa-4891-8d70-7be57e35b753",
   "metadata": {},
   "source": [
    "##Importando Librerias "
   ]
  },
  {
   "cell_type": "code",
   "execution_count": null,
   "id": "9e274e1c-70f6-457c-9603-e75c6bbf1f06",
   "metadata": {},
   "outputs": [],
   "source": [
    "import pandas as pd\n",
    "import sqlite3\n",
    "import numpy as np\n",
    "from sklearn.model_selection import train_test_split\n",
    "from sklearn.linear_model import LogisticRegression"
   ]
  },
  {
   "cell_type": "code",
   "execution_count": null,
   "id": "e5b07a84-6286-431b-ab94-8f0b7759f261",
   "metadata": {},
   "outputs": [],
   "source": [
    "#Creacion de las tablas como data frames"
   ]
  },
  {
   "cell_type": "code",
   "execution_count": null,
   "id": "eb3cc146-5288-461a-a75d-a0044a01c71a",
   "metadata": {},
   "outputs": [],
   "source": [
    "database = \"../data/raw/database.sqlite\"\n",
    "conn = sqlite3.connect(database)\n",
    "\n",
    "tables = pd.read_sql(\"\"\"SELECT *\n",
    "                        FROM sqlite_master\n",
    "                        WHERE type='table';\"\"\", conn)\n",
    "\n",
    "conn.close()\n",
    "tables\n",
    "\n",
    "\n",
    "\n",
    "conn = sqlite3.connect(database)\n",
    "\n",
    "\n",
    "dict_tables_db = {}\n",
    "lista_no_tablas = ['sqlite_sequence']\n",
    "for tabletmp in tables.name:\n",
    "    if tabletmp not in lista_no_tablas:\n",
    "        query = \"SELECT * from %s\"%tabletmp\n",
    "        print(query)\n",
    "        dict_tables_db[tabletmp] = pd.read_sql_query(query, conn)\n",
    "\n",
    "\n",
    "conn.close()\n",
    "\n",
    "\n",
    "[display(x) for x in dict_tables_db.values()]"
   ]
  },
  {
   "cell_type": "code",
   "execution_count": null,
   "id": "c4d41c98-22d3-47a4-857e-237de91fbc70",
   "metadata": {},
   "outputs": [],
   "source": [
    "# Iterando sobre el diccionario que contiene las tablas "
   ]
  },
  {
   "cell_type": "code",
   "execution_count": null,
   "id": "84241050-5ce9-458b-b962-d1bb23e485a7",
   "metadata": {},
   "outputs": [],
   "source": [
    "for key,tabletbp in dict_tables_db.items():\n",
    "    print(key)"
   ]
  },
  {
   "cell_type": "code",
   "execution_count": null,
   "id": "1db66266-369b-430e-b89a-04d15f150fc4",
   "metadata": {},
   "outputs": [],
   "source": [
    "#Resuemn de lo que contiene cada tabla "
   ]
  },
  {
   "cell_type": "code",
   "execution_count": null,
   "id": "c3fa32b6-06bb-4ec3-850d-c9daa97da20e",
   "metadata": {},
   "outputs": [],
   "source": [
    "for key,tabletbp in dict_tables_db.items():\n",
    "    print(key)\n",
    "    print(tabletbp.shape)\n",
    "    display(tabletbp.describe())"
   ]
  },
  {
   "cell_type": "code",
   "execution_count": null,
   "id": "70344b8a-a1ca-46cf-9790-14d236dd8be2",
   "metadata": {},
   "outputs": [],
   "source": [
    "#este si es el df para cada tabla"
   ]
  },
  {
   "cell_type": "code",
   "execution_count": null,
   "id": "8114390f-e326-4c51-8e39-9b021bc97a27",
   "metadata": {},
   "outputs": [],
   "source": [
    "df_player_atr = dict_tables_db['Player_Attributes']\n",
    "df_player = dict_tables_db['Player']\n",
    "df_match = dict_tables_db['Match']\n",
    "df_league = dict_tables_db['League']\n",
    "df_country = dict_tables_db['Country']\n",
    "df_team = dict_tables_db['Team']\n",
    "df_team_atr = dict_tables_db['Team_Attributes']"
   ]
  },
  {
   "cell_type": "code",
   "execution_count": null,
   "id": "48183f62-6c47-4392-b7c1-42e500a93040",
   "metadata": {},
   "outputs": [],
   "source": [
    "#en estas llaves se unen las tablas objetivo\n",
    "[x for x in df_player_atr.columns if x in df_player.columns]"
   ]
  },
  {
   "cell_type": "code",
   "execution_count": null,
   "id": "19cbda39-d885-4869-8225-6f999090198f",
   "metadata": {},
   "outputs": [],
   "source": [
    "df_team.columns"
   ]
  },
  {
   "cell_type": "code",
   "execution_count": null,
   "id": "ef141c16-c28e-4d6d-b6d3-3719ee421320",
   "metadata": {},
   "outputs": [],
   "source": [
    "#Join de las tablas df_player_atr y df_player"
   ]
  },
  {
   "cell_type": "code",
   "execution_count": null,
   "id": "48c36356-624f-414a-a132-4f084c5dd378",
   "metadata": {},
   "outputs": [],
   "source": [
    "df_player_atr['penalties']"
   ]
  },
  {
   "cell_type": "code",
   "execution_count": null,
   "id": "f0f1ede2-47b6-43de-be10-64f1ff45f8fe",
   "metadata": {},
   "outputs": [],
   "source": [
    "df_player.head()"
   ]
  },
  {
   "cell_type": "code",
   "execution_count": null,
   "id": "b122fdb1-4961-40c7-824d-64781aa80dfa",
   "metadata": {},
   "outputs": [],
   "source": [
    "#las llaves son player_api_id y player_fifa_api_id (se llaman igual en ambas tablas\n",
    "\n",
    "\n",
    "df_players = df_player_atr[['player_fifa_api_id', 'player_api_id', 'date', 'overall_rating','potential', 'preferred_foot', 'attacking_work_rate','defensive_work_rate', 'crossing', 'finishing', 'heading_accuracy','short_passing', 'volleys', 'dribbling', 'curve', 'free_kick_accuracy','long_passing', 'ball_control', 'acceleration', 'sprint_speed','agility', 'reactions', 'balance', 'shot_power', 'jumping', 'stamina','strength', 'long_shots', 'aggression', 'interceptions', 'positioning','vision', 'penalties', 'marking', 'standing_tackle', 'sliding_tackle','gk_diving', 'gk_handling', 'gk_kicking', 'gk_positioning','gk_reflexes']].merge(\n",
    "    df_player[['player_fifa_api_id','player_api_id','height','weight']],\n",
    "    how='left',left_on='player_fifa_api_id', right_on = 'player_fifa_api_id'\n",
    ")\n",
    "\n",
    "\n"
   ]
  },
  {
   "cell_type": "code",
   "execution_count": null,
   "id": "0416fb8a-b580-4ae3-acc4-0072dfbf3a46",
   "metadata": {},
   "outputs": [],
   "source": [
    "\n",
    "#distintos valores en cada columna\n",
    "valores_unicos = {col: df_players[col].unique() for col in df_players.columns}\n",
    "valores_unicos\n"
   ]
  },
  {
   "cell_type": "code",
   "execution_count": 81,
   "id": "fa079ff4-bddb-4b7c-aa3f-378b913b3f3a",
   "metadata": {},
   "outputs": [
    {
     "data": {
      "text/plain": [
       "attacking_work_rate\n",
       "medium    125070\n",
       "high       42823\n",
       "low         8569\n",
       "None        3639\n",
       "norm         348\n",
       "y            106\n",
       "le           104\n",
       "stoc          89\n",
       "Name: count, dtype: int64"
      ]
     },
     "execution_count": 81,
     "metadata": {},
     "output_type": "execute_result"
    }
   ],
   "source": [
    "#group by para ver valores distintos en las col attacking y defensive\n",
    "\n",
    "df_players['attacking_work_rate'].value_counts()\n",
    "\n",
    "#proporcion = (89+104+106+348)/(3639+8569+42823+125070)\n",
    "#proporcion = 0.003592428692789046"
   ]
  },
  {
   "cell_type": "code",
   "execution_count": null,
   "id": "10b4e7f9-d964-406e-b014-beeb8ada5f55",
   "metadata": {},
   "outputs": [],
   "source": [
    "df_players[df_players['overall_rating'].isna()]"
   ]
  },
  {
   "cell_type": "code",
   "execution_count": 87,
   "id": "7115c204-f6f1-430e-a945-646d08cbc42f",
   "metadata": {},
   "outputs": [
    {
     "data": {
      "text/html": [
       "<div>\n",
       "<style scoped>\n",
       "    .dataframe tbody tr th:only-of-type {\n",
       "        vertical-align: middle;\n",
       "    }\n",
       "\n",
       "    .dataframe tbody tr th {\n",
       "        vertical-align: top;\n",
       "    }\n",
       "\n",
       "    .dataframe thead th {\n",
       "        text-align: right;\n",
       "    }\n",
       "</style>\n",
       "<table border=\"1\" class=\"dataframe\">\n",
       "  <thead>\n",
       "    <tr style=\"text-align: right;\">\n",
       "      <th></th>\n",
       "      <th>player_fifa_api_id</th>\n",
       "      <th>player_api_id_x</th>\n",
       "      <th>date</th>\n",
       "      <th>overall_rating</th>\n",
       "      <th>potential</th>\n",
       "      <th>preferred_foot</th>\n",
       "      <th>attacking_work_rate</th>\n",
       "      <th>defensive_work_rate</th>\n",
       "      <th>crossing</th>\n",
       "      <th>finishing</th>\n",
       "      <th>...</th>\n",
       "      <th>standing_tackle</th>\n",
       "      <th>sliding_tackle</th>\n",
       "      <th>gk_diving</th>\n",
       "      <th>gk_handling</th>\n",
       "      <th>gk_kicking</th>\n",
       "      <th>gk_positioning</th>\n",
       "      <th>gk_reflexes</th>\n",
       "      <th>player_api_id_y</th>\n",
       "      <th>height</th>\n",
       "      <th>weight</th>\n",
       "    </tr>\n",
       "  </thead>\n",
       "  <tbody>\n",
       "    <tr>\n",
       "      <th>0</th>\n",
       "      <td>218353</td>\n",
       "      <td>505942</td>\n",
       "      <td>2016-02-18 00:00:00</td>\n",
       "      <td>67.0</td>\n",
       "      <td>71.0</td>\n",
       "      <td>right</td>\n",
       "      <td>medium</td>\n",
       "      <td>medium</td>\n",
       "      <td>49.0</td>\n",
       "      <td>44.0</td>\n",
       "      <td>...</td>\n",
       "      <td>69.0</td>\n",
       "      <td>69.0</td>\n",
       "      <td>6.0</td>\n",
       "      <td>11.0</td>\n",
       "      <td>10.0</td>\n",
       "      <td>8.0</td>\n",
       "      <td>8.0</td>\n",
       "      <td>505942.0</td>\n",
       "      <td>182.88</td>\n",
       "      <td>187.0</td>\n",
       "    </tr>\n",
       "    <tr>\n",
       "      <th>1</th>\n",
       "      <td>218353</td>\n",
       "      <td>505942</td>\n",
       "      <td>2015-11-19 00:00:00</td>\n",
       "      <td>67.0</td>\n",
       "      <td>71.0</td>\n",
       "      <td>right</td>\n",
       "      <td>medium</td>\n",
       "      <td>medium</td>\n",
       "      <td>49.0</td>\n",
       "      <td>44.0</td>\n",
       "      <td>...</td>\n",
       "      <td>69.0</td>\n",
       "      <td>69.0</td>\n",
       "      <td>6.0</td>\n",
       "      <td>11.0</td>\n",
       "      <td>10.0</td>\n",
       "      <td>8.0</td>\n",
       "      <td>8.0</td>\n",
       "      <td>505942.0</td>\n",
       "      <td>182.88</td>\n",
       "      <td>187.0</td>\n",
       "    </tr>\n",
       "    <tr>\n",
       "      <th>2</th>\n",
       "      <td>218353</td>\n",
       "      <td>505942</td>\n",
       "      <td>2015-09-21 00:00:00</td>\n",
       "      <td>62.0</td>\n",
       "      <td>66.0</td>\n",
       "      <td>right</td>\n",
       "      <td>medium</td>\n",
       "      <td>medium</td>\n",
       "      <td>49.0</td>\n",
       "      <td>44.0</td>\n",
       "      <td>...</td>\n",
       "      <td>66.0</td>\n",
       "      <td>69.0</td>\n",
       "      <td>6.0</td>\n",
       "      <td>11.0</td>\n",
       "      <td>10.0</td>\n",
       "      <td>8.0</td>\n",
       "      <td>8.0</td>\n",
       "      <td>505942.0</td>\n",
       "      <td>182.88</td>\n",
       "      <td>187.0</td>\n",
       "    </tr>\n",
       "    <tr>\n",
       "      <th>3</th>\n",
       "      <td>218353</td>\n",
       "      <td>505942</td>\n",
       "      <td>2015-03-20 00:00:00</td>\n",
       "      <td>61.0</td>\n",
       "      <td>65.0</td>\n",
       "      <td>right</td>\n",
       "      <td>medium</td>\n",
       "      <td>medium</td>\n",
       "      <td>48.0</td>\n",
       "      <td>43.0</td>\n",
       "      <td>...</td>\n",
       "      <td>63.0</td>\n",
       "      <td>66.0</td>\n",
       "      <td>5.0</td>\n",
       "      <td>10.0</td>\n",
       "      <td>9.0</td>\n",
       "      <td>7.0</td>\n",
       "      <td>7.0</td>\n",
       "      <td>505942.0</td>\n",
       "      <td>182.88</td>\n",
       "      <td>187.0</td>\n",
       "    </tr>\n",
       "    <tr>\n",
       "      <th>4</th>\n",
       "      <td>218353</td>\n",
       "      <td>505942</td>\n",
       "      <td>2007-02-22 00:00:00</td>\n",
       "      <td>61.0</td>\n",
       "      <td>65.0</td>\n",
       "      <td>right</td>\n",
       "      <td>medium</td>\n",
       "      <td>medium</td>\n",
       "      <td>48.0</td>\n",
       "      <td>43.0</td>\n",
       "      <td>...</td>\n",
       "      <td>63.0</td>\n",
       "      <td>66.0</td>\n",
       "      <td>5.0</td>\n",
       "      <td>10.0</td>\n",
       "      <td>9.0</td>\n",
       "      <td>7.0</td>\n",
       "      <td>7.0</td>\n",
       "      <td>505942.0</td>\n",
       "      <td>182.88</td>\n",
       "      <td>187.0</td>\n",
       "    </tr>\n",
       "    <tr>\n",
       "      <th>...</th>\n",
       "      <td>...</td>\n",
       "      <td>...</td>\n",
       "      <td>...</td>\n",
       "      <td>...</td>\n",
       "      <td>...</td>\n",
       "      <td>...</td>\n",
       "      <td>...</td>\n",
       "      <td>...</td>\n",
       "      <td>...</td>\n",
       "      <td>...</td>\n",
       "      <td>...</td>\n",
       "      <td>...</td>\n",
       "      <td>...</td>\n",
       "      <td>...</td>\n",
       "      <td>...</td>\n",
       "      <td>...</td>\n",
       "      <td>...</td>\n",
       "      <td>...</td>\n",
       "      <td>...</td>\n",
       "      <td>...</td>\n",
       "      <td>...</td>\n",
       "    </tr>\n",
       "    <tr>\n",
       "      <th>183973</th>\n",
       "      <td>102359</td>\n",
       "      <td>39902</td>\n",
       "      <td>2009-08-30 00:00:00</td>\n",
       "      <td>83.0</td>\n",
       "      <td>85.0</td>\n",
       "      <td>right</td>\n",
       "      <td>medium</td>\n",
       "      <td>low</td>\n",
       "      <td>84.0</td>\n",
       "      <td>77.0</td>\n",
       "      <td>...</td>\n",
       "      <td>31.0</td>\n",
       "      <td>30.0</td>\n",
       "      <td>9.0</td>\n",
       "      <td>20.0</td>\n",
       "      <td>84.0</td>\n",
       "      <td>20.0</td>\n",
       "      <td>20.0</td>\n",
       "      <td>39902.0</td>\n",
       "      <td>180.34</td>\n",
       "      <td>176.0</td>\n",
       "    </tr>\n",
       "    <tr>\n",
       "      <th>183974</th>\n",
       "      <td>102359</td>\n",
       "      <td>39902</td>\n",
       "      <td>2009-02-22 00:00:00</td>\n",
       "      <td>78.0</td>\n",
       "      <td>80.0</td>\n",
       "      <td>right</td>\n",
       "      <td>medium</td>\n",
       "      <td>low</td>\n",
       "      <td>74.0</td>\n",
       "      <td>76.0</td>\n",
       "      <td>...</td>\n",
       "      <td>31.0</td>\n",
       "      <td>30.0</td>\n",
       "      <td>9.0</td>\n",
       "      <td>20.0</td>\n",
       "      <td>73.0</td>\n",
       "      <td>20.0</td>\n",
       "      <td>20.0</td>\n",
       "      <td>39902.0</td>\n",
       "      <td>180.34</td>\n",
       "      <td>176.0</td>\n",
       "    </tr>\n",
       "    <tr>\n",
       "      <th>183975</th>\n",
       "      <td>102359</td>\n",
       "      <td>39902</td>\n",
       "      <td>2008-08-30 00:00:00</td>\n",
       "      <td>77.0</td>\n",
       "      <td>80.0</td>\n",
       "      <td>right</td>\n",
       "      <td>medium</td>\n",
       "      <td>low</td>\n",
       "      <td>74.0</td>\n",
       "      <td>71.0</td>\n",
       "      <td>...</td>\n",
       "      <td>31.0</td>\n",
       "      <td>30.0</td>\n",
       "      <td>9.0</td>\n",
       "      <td>20.0</td>\n",
       "      <td>73.0</td>\n",
       "      <td>20.0</td>\n",
       "      <td>20.0</td>\n",
       "      <td>39902.0</td>\n",
       "      <td>180.34</td>\n",
       "      <td>176.0</td>\n",
       "    </tr>\n",
       "    <tr>\n",
       "      <th>183976</th>\n",
       "      <td>102359</td>\n",
       "      <td>39902</td>\n",
       "      <td>2007-08-30 00:00:00</td>\n",
       "      <td>78.0</td>\n",
       "      <td>81.0</td>\n",
       "      <td>right</td>\n",
       "      <td>medium</td>\n",
       "      <td>low</td>\n",
       "      <td>74.0</td>\n",
       "      <td>64.0</td>\n",
       "      <td>...</td>\n",
       "      <td>32.0</td>\n",
       "      <td>30.0</td>\n",
       "      <td>9.0</td>\n",
       "      <td>20.0</td>\n",
       "      <td>73.0</td>\n",
       "      <td>20.0</td>\n",
       "      <td>20.0</td>\n",
       "      <td>39902.0</td>\n",
       "      <td>180.34</td>\n",
       "      <td>176.0</td>\n",
       "    </tr>\n",
       "    <tr>\n",
       "      <th>183977</th>\n",
       "      <td>102359</td>\n",
       "      <td>39902</td>\n",
       "      <td>2007-02-22 00:00:00</td>\n",
       "      <td>80.0</td>\n",
       "      <td>81.0</td>\n",
       "      <td>right</td>\n",
       "      <td>medium</td>\n",
       "      <td>low</td>\n",
       "      <td>74.0</td>\n",
       "      <td>68.0</td>\n",
       "      <td>...</td>\n",
       "      <td>32.0</td>\n",
       "      <td>30.0</td>\n",
       "      <td>9.0</td>\n",
       "      <td>9.0</td>\n",
       "      <td>78.0</td>\n",
       "      <td>7.0</td>\n",
       "      <td>15.0</td>\n",
       "      <td>39902.0</td>\n",
       "      <td>180.34</td>\n",
       "      <td>176.0</td>\n",
       "    </tr>\n",
       "  </tbody>\n",
       "</table>\n",
       "<p>183142 rows × 44 columns</p>\n",
       "</div>"
      ],
      "text/plain": [
       "        player_fifa_api_id  player_api_id_x                 date  \\\n",
       "0                   218353           505942  2016-02-18 00:00:00   \n",
       "1                   218353           505942  2015-11-19 00:00:00   \n",
       "2                   218353           505942  2015-09-21 00:00:00   \n",
       "3                   218353           505942  2015-03-20 00:00:00   \n",
       "4                   218353           505942  2007-02-22 00:00:00   \n",
       "...                    ...              ...                  ...   \n",
       "183973              102359            39902  2009-08-30 00:00:00   \n",
       "183974              102359            39902  2009-02-22 00:00:00   \n",
       "183975              102359            39902  2008-08-30 00:00:00   \n",
       "183976              102359            39902  2007-08-30 00:00:00   \n",
       "183977              102359            39902  2007-02-22 00:00:00   \n",
       "\n",
       "        overall_rating  potential preferred_foot attacking_work_rate  \\\n",
       "0                 67.0       71.0          right              medium   \n",
       "1                 67.0       71.0          right              medium   \n",
       "2                 62.0       66.0          right              medium   \n",
       "3                 61.0       65.0          right              medium   \n",
       "4                 61.0       65.0          right              medium   \n",
       "...                ...        ...            ...                 ...   \n",
       "183973            83.0       85.0          right              medium   \n",
       "183974            78.0       80.0          right              medium   \n",
       "183975            77.0       80.0          right              medium   \n",
       "183976            78.0       81.0          right              medium   \n",
       "183977            80.0       81.0          right              medium   \n",
       "\n",
       "       defensive_work_rate  crossing  finishing  ...  standing_tackle  \\\n",
       "0                   medium      49.0       44.0  ...             69.0   \n",
       "1                   medium      49.0       44.0  ...             69.0   \n",
       "2                   medium      49.0       44.0  ...             66.0   \n",
       "3                   medium      48.0       43.0  ...             63.0   \n",
       "4                   medium      48.0       43.0  ...             63.0   \n",
       "...                    ...       ...        ...  ...              ...   \n",
       "183973                 low      84.0       77.0  ...             31.0   \n",
       "183974                 low      74.0       76.0  ...             31.0   \n",
       "183975                 low      74.0       71.0  ...             31.0   \n",
       "183976                 low      74.0       64.0  ...             32.0   \n",
       "183977                 low      74.0       68.0  ...             32.0   \n",
       "\n",
       "        sliding_tackle  gk_diving  gk_handling  gk_kicking  gk_positioning  \\\n",
       "0                 69.0        6.0         11.0        10.0             8.0   \n",
       "1                 69.0        6.0         11.0        10.0             8.0   \n",
       "2                 69.0        6.0         11.0        10.0             8.0   \n",
       "3                 66.0        5.0         10.0         9.0             7.0   \n",
       "4                 66.0        5.0         10.0         9.0             7.0   \n",
       "...                ...        ...          ...         ...             ...   \n",
       "183973            30.0        9.0         20.0        84.0            20.0   \n",
       "183974            30.0        9.0         20.0        73.0            20.0   \n",
       "183975            30.0        9.0         20.0        73.0            20.0   \n",
       "183976            30.0        9.0         20.0        73.0            20.0   \n",
       "183977            30.0        9.0          9.0        78.0             7.0   \n",
       "\n",
       "        gk_reflexes  player_api_id_y  height  weight  \n",
       "0               8.0         505942.0  182.88   187.0  \n",
       "1               8.0         505942.0  182.88   187.0  \n",
       "2               8.0         505942.0  182.88   187.0  \n",
       "3               7.0         505942.0  182.88   187.0  \n",
       "4               7.0         505942.0  182.88   187.0  \n",
       "...             ...              ...     ...     ...  \n",
       "183973         20.0          39902.0  180.34   176.0  \n",
       "183974         20.0          39902.0  180.34   176.0  \n",
       "183975         20.0          39902.0  180.34   176.0  \n",
       "183976         20.0          39902.0  180.34   176.0  \n",
       "183977         15.0          39902.0  180.34   176.0  \n",
       "\n",
       "[183142 rows x 44 columns]"
      ]
     },
     "execution_count": 87,
     "metadata": {},
     "output_type": "execute_result"
    }
   ],
   "source": [
    "df_players_clean = df_players.dropna(subset=['overall_rating'])\n",
    "df_players_clean"
   ]
  },
  {
   "cell_type": "code",
   "execution_count": 92,
   "id": "63fdb5b9-615f-48a8-9f83-027e7fbd76c8",
   "metadata": {
    "scrolled": true
   },
   "outputs": [
    {
     "data": {
      "text/plain": [
       "attacking_work_rate\n",
       "medium    125070\n",
       "high       42823\n",
       "low         8569\n",
       "None        3639\n",
       "Name: count, dtype: int64"
      ]
     },
     "execution_count": 92,
     "metadata": {},
     "output_type": "execute_result"
    }
   ],
   "source": [
    "df_players_clean = df_players[df_players['attacking_work_rate'].isin(['medium', 'high', 'low', 'None'])]\n",
    "df_players_clean['attacking_work_rate'].value_counts()"
   ]
  },
  {
   "cell_type": "code",
   "execution_count": 95,
   "id": "3e392437-85c9-4eca-b289-f738d50b21ca",
   "metadata": {},
   "outputs": [
    {
     "data": {
      "text/plain": [
       "defensive_work_rate\n",
       "medium    130846\n",
       "high       27041\n",
       "low        18432\n",
       "o           1550\n",
       "Name: count, dtype: int64"
      ]
     },
     "execution_count": 95,
     "metadata": {},
     "output_type": "execute_result"
    }
   ],
   "source": [
    "df_players_clean = df_players[df_players['defensive_work_rate'].isin(['medium', 'high', 'low', 'o'])]\n",
    "df_players_clean['defensive_work_rate'].value_counts()"
   ]
  },
  {
   "cell_type": "code",
   "execution_count": 98,
   "id": "8925e452-4741-48df-be4f-53bd991a1607",
   "metadata": {},
   "outputs": [
    {
     "data": {
      "text/plain": [
       "player_fifa_api_id       int64\n",
       "player_api_id_x          int64\n",
       "date                    object\n",
       "overall_rating         float64\n",
       "potential              float64\n",
       "preferred_foot          object\n",
       "attacking_work_rate     object\n",
       "defensive_work_rate     object\n",
       "crossing               float64\n",
       "finishing              float64\n",
       "heading_accuracy       float64\n",
       "short_passing          float64\n",
       "volleys                float64\n",
       "dribbling              float64\n",
       "curve                  float64\n",
       "free_kick_accuracy     float64\n",
       "long_passing           float64\n",
       "ball_control           float64\n",
       "acceleration           float64\n",
       "sprint_speed           float64\n",
       "agility                float64\n",
       "reactions              float64\n",
       "balance                float64\n",
       "shot_power             float64\n",
       "jumping                float64\n",
       "stamina                float64\n",
       "strength               float64\n",
       "long_shots             float64\n",
       "aggression             float64\n",
       "interceptions          float64\n",
       "positioning            float64\n",
       "vision                 float64\n",
       "penalties              float64\n",
       "marking                float64\n",
       "standing_tackle        float64\n",
       "sliding_tackle         float64\n",
       "gk_diving              float64\n",
       "gk_handling            float64\n",
       "gk_kicking             float64\n",
       "gk_positioning         float64\n",
       "gk_reflexes            float64\n",
       "player_api_id_y        float64\n",
       "height                 float64\n",
       "weight                 float64\n",
       "dtype: object"
      ]
     },
     "execution_count": 98,
     "metadata": {},
     "output_type": "execute_result"
    }
   ],
   "source": [
    "#distintos valores en cada columna\n",
    "#valores_unicos = {col: df_players_clean[col].unique() for col in df_players_clean.columns}\n",
    "#valores_unicos\n",
    "\n",
    "df_players_clean.dtypes"
   ]
  },
  {
   "cell_type": "code",
   "execution_count": 99,
   "id": "764cb460-c514-4d0d-9ff9-773495fa88e1",
   "metadata": {},
   "outputs": [
    {
     "data": {
      "text/plain": [
       "<Axes: >"
      ]
     },
     "execution_count": 99,
     "metadata": {},
     "output_type": "execute_result"
    },
    {
     "data": {
      "image/png": "[encoded data removed]",
      "text/plain": [
       "<Figure size 640x480 with 1 Axes>"
      ]
     },
     "metadata": {},
     "output_type": "display_data"
    }
   ],
   "source": [
    "df_players_clean['overall_rating'].hist()"
   ]
  },
  {
   "cell_type": "code",
   "execution_count": 100,
   "id": "b3b68260-c15c-4be8-9c3d-5a16ad7f4b18",
   "metadata": {},
   "outputs": [
    {
     "data": {
      "text/plain": [
       "69.0"
      ]
     },
     "execution_count": 100,
     "metadata": {},
     "output_type": "execute_result"
    }
   ],
   "source": [
    "df_players['overall_rating'].median()"
   ]
  },
  {
   "cell_type": "code",
   "execution_count": null,
   "id": "2e413396-94f6-460a-980f-bded9ce90f83",
   "metadata": {},
   "outputs": [],
   "source": [
    "#Cambios de variables categoricas a valores numericos"
   ]
  },
  {
   "cell_type": "code",
   "execution_count": 96,
   "id": "0c2aed6d-62b1-4353-9dc7-be8413852977",
   "metadata": {},
   "outputs": [],
   "source": [
    "dict_categorias_preferred_foot = {\n",
    "    1:'right',\n",
    "    0:'left'\n",
    "}\n",
    "\n",
    "\n",
    "dict_categorias_attacking_work_rate = {\n",
    "    'high':2,\n",
    "    'low':-1,\n",
    "    'medium':1,\n",
    "     None:0\n",
    "}\n",
    "\n",
    "\n",
    "dict_categorias_defensive_work_rate = {\n",
    "    'high':2,\n",
    "    'medium':1,\n",
    "    'o':0,\n",
    "    'low':-1\n",
    "}"
   ]
  },
  {
   "cell_type": "code",
   "execution_count": null,
   "id": "1eaa99d4-32d8-41fe-abfd-073cbef02115",
   "metadata": {},
   "outputs": [],
   "source": [
    "#Creacion de la variable target"
   ]
  },
  {
   "cell_type": "code",
   "execution_count": null,
   "id": "8b943516-6009-4550-9884-20a5bb8cee56",
   "metadata": {},
   "outputs": [],
   "source": [
    "df_players_clean.loc[:, 'target_variable'] = df_players_clean['overall_rating'].apply(lambda x: 1 if x >= 70 else 0)\n",
    "df_players_clean"
   ]
  },
  {
   "cell_type": "code",
   "execution_count": null,
   "id": "a1cdc1b4-18d5-46fc-84d8-91f7e856d6a8",
   "metadata": {},
   "outputs": [],
   "source": [
    "#Split de los datos, para no generar likecht eliminamos overall_rating de la estamos usando para crear la variable target\n",
    "\n",
    "\n",
    "feature_cols = ['player_fifa_api_id',\n",
    "       'potential', 'preferred_foot', 'attacking_work_rate',\n",
    "       'defensive_work_rate', 'crossing', 'finishing', 'heading_accuracy',\n",
    "       'short_passing', 'volleys', 'dribbling', 'curve', 'free_kick_accuracy',\n",
    "       'long_passing', 'ball_control', 'acceleration', 'sprint_speed',\n",
    "       'agility', 'reactions', 'balance', 'shot_power', 'jumping', 'stamina',\n",
    "       'strength', 'long_shots', 'aggression', 'interceptions', 'positioning',\n",
    "       'vision', 'penalties', 'marking', 'standing_tackle', 'sliding_tackle',\n",
    "       'gk_diving', 'gk_handling', 'gk_kicking', 'gk_positioning',\n",
    "       'gk_reflexes','player_name', 'birthday', 'height',\n",
    "       'weight']\n",
    "X = df_players_clean[feature_cols] # Features\n",
    "y = df_players_clean.target_variable # Target variable"
   ]
  },
  {
   "cell_type": "code",
   "execution_count": null,
   "id": "04682958-2290-43e5-a598-7d4cf4484ce5",
   "metadata": {},
   "outputs": [],
   "source": [
    "# split X and y into training and testing sets\n",
    "\n",
    "X_train, X_test, y_train, y_test = train_test_split(X, y, test_size=0.20, random_state=16)"
   ]
  },
  {
   "cell_type": "code",
   "execution_count": null,
   "id": "c1306f32-5d91-4ca0-8f19-cf33c13ef34a",
   "metadata": {},
   "outputs": [],
   "source": [
    "# instantiate the model (using the default parameters)\n",
    "logreg = LogisticRegression(random_state=16)\n",
    "logreg\n"
   ]
  },
  {
   "cell_type": "code",
   "execution_count": null,
   "id": "3aca05b5-16b9-4f60-8a22-ef6a7f0223f9",
   "metadata": {},
   "outputs": [],
   "source": [
    "# fit the model with data\n",
    "logreg.fit(X_train, y_train)\n",
    "\n"
   ]
  }
 ],
 "metadata": {
  "kernelspec": {
   "display_name": "Python 3 (ipykernel)",
   "language": "python",
   "name": "python3"
  },
  "language_info": {
   "codemirror_mode": {
    "name": "ipython",
    "version": 3
   },
   "file_extension": ".py",
   "mimetype": "text/x-python",
   "name": "python",
   "nbconvert_exporter": "python",
   "pygments_lexer": "ipython3",
   "version": "3.8.19"
  }
 },
 "nbformat": 4,
 "nbformat_minor": 5
}
