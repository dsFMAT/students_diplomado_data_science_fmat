{
 "cells": [
  {
   "cell_type": "markdown",
   "id": "dd5f4184-623a-4a22-bf5b-e0971d2a8826",
   "metadata": {},
   "source": [
    "# Análisis de datos de Airbnbs en Nueva York"
   ]
  },
  {
   "cell_type": "markdown",
   "id": "03b70bb8-b3ae-4567-b3a3-a123aeff9169",
   "metadata": {},
   "source": [
    "En los últimos años la plataforma Airbnb ha ganado gran popularidad en Nueva York, lo que ha generado preocupaciones sobre su impacto en la disponibilidad de viviendas a largo plazo y el aumento en los precios de alquiler (gentrificación). En el siguiente notebook, se explora el uso de la plataforma despues de la aprobación del 5 de septiembre del 2023 de la Ley de Registro de Alquileres a Corto Plazo, diseñada para regular la oferta de propiedades en plataformas como Airbnb. Esta ley ha impuesto restricciones significativas, limitando los alquileres a corto plazo no registrados. El objetivo de este análisis es comparar cómo han cambiado la oferta y las tendencias de uso de Airbnb antes y después de la implementación de esta ley."
   ]
  },
  {
   "cell_type": "markdown",
   "id": "402106d2-340a-4585-9f73-a93bf4112940",
   "metadata": {},
   "source": [
    "![Imagen](logo_Airbnb.jpg)"
   ]
  },
  {
   "cell_type": "markdown",
   "id": "11e1bc34-a432-4dbc-9b2b-4fdb744af157",
   "metadata": {},
   "source": [
    "Este trabajo se divide en # secciones:\n",
    "- 1.\n",
    "- 2.\n"
   ]
  },
  {
   "cell_type": "markdown",
   "id": "e005c6d6-3fdf-47c5-91cf-d12a03203efc",
   "metadata": {},
   "source": [
    "En la primera sección ... .\n",
    "En la segunda sección ....\n",
    "\n",
    "Poner en esta parte el objetivo del trabajo"
   ]
  },
  {
   "cell_type": "markdown",
   "id": "448ad432-495d-4c0d-9de1-1abbb7c488a1",
   "metadata": {},
   "source": [
    "## Resumen"
   ]
  },
  {
   "cell_type": "markdown",
   "id": "b0c5738c-72d5-42b3-bf27-01485b10a4fc",
   "metadata": {},
   "source": [
    "Aquí va el resumen"
   ]
  },
  {
   "cell_type": "markdown",
   "id": "44524309-2274-4110-9683-e0694a8e2af5",
   "metadata": {},
   "source": [
    "_______________________________"
   ]
  },
  {
   "cell_type": "markdown",
   "id": "f0b7140e-b99d-4f47-a677-a6bfd545a6fa",
   "metadata": {},
   "source": [
    "##### Fecha: Septiembre 2024 \n",
    "##### Autores: Abner Colli Sanchez, María Dolores Matus Basto y Samuel Muñoz Villarino "
   ]
  },
  {
   "cell_type": "markdown",
   "id": "d4c55f1e-3a3f-4ad3-a992-31ddf85e716a",
   "metadata": {},
   "source": [
    "______________________________________"
   ]
  },
  {
   "cell_type": "markdown",
   "id": "40e4ed89-8e12-4abb-8184-edb30e522c5f",
   "metadata": {},
   "source": [
    "## 1. Como se usa Airbnb?"
   ]
  },
  {
   "cell_type": "markdown",
   "id": "60b81c6f-f6d2-4733-ab2f-a5fe887dc02d",
   "metadata": {},
   "source": [
    "[Airbnb](https://airbnb.mx/) es una plataforma en línea que permite a los usuarios (huespedes) buscar y reservar alojamiento en todo el mundo, así como ofrecer sus [propiedades (ya sean habitaciones, apartamentos, casas o cualquier otro tipo de alojamiento)](https://www.airbnb.com/help/article/5/what-does-the-room-type-of-a-listing-m) para alquilar (anfitriones). Los huespedes pueden buscar y reservar alojamientos en función de su ubicación, presupuesto y fechas. Tanto los anfitriones como los huéspedes cuentan con verificación de identidad."
   ]
  },
  {
   "cell_type": "markdown",
   "id": "b18a400a-bcfe-4cd4-aeb2-1a9e50cacf06",
   "metadata": {},
   "source": [
    "### 1.1 Anfitrion\n",
    "\n",
    "Para [registrar una propiedad en Airbnb](https://www.airbnb.mx/host/homes) y ser el anfitrión se realizan los siguientes pasos:\n",
    "\n",
    "1. **Descripción del espacio**:Agregar algunos datos básicos, tales como: la ubicación, cuántos huéspedes pueden quedarse, entre otros.\n",
    "\n",
    "2. **Hacer que destaque**:Agregar al menos cinco fotos, un título y una descripción.\n",
    "\n",
    "3. **Terminar y publicar**:Elegir un precio inicial, verificar algunos detalles y publicar un anuncio.\n"
   ]
  },
  {
   "cell_type": "markdown",
   "id": "688f409f-afc4-47e1-927e-d5e6cf608f76",
   "metadata": {},
   "source": [
    "### 1.2 Huesped \n",
    "\n",
    "Para acceder a [Airbnb como huesped](https://airbnb.mx/), se realizan los siguientes pasos: \n",
    "1. Registrarse a Airbnb e iniciar sección\n",
    "2. Completar el perfil y verificar identidad\n",
    "3. Elegir un Airbnb de acuerdo a su ubicación, presupuesto y fechas\n",
    "4. Revisar las fotos, evaluaciones y reglas de la casa \n",
    "5. Contactar al anfitrión para cualquier pregunta \n",
    "6. Confirmar la hora de llegada y salida con el anfitrión \n",
    "7. Solicitar instrucciones para acceder al alojamiento \n",
    "8. Verificar si el anfitrión estará para entregar las llaves o si se utilizará otro método de acceso \n",
    "9. Consultar las instrucciones para la llegada en la información del viaje\n",
    "\n",
    "![Imagen](Airbnb_huesped.jpg)"
   ]
  },
  {
   "cell_type": "markdown",
   "id": "cbd3047b-91c5-4a3b-ba6a-f40411e1a59e",
   "metadata": {},
   "source": [
    "## 2. Descripción de los datos utilizados"
   ]
  },
  {
   "cell_type": "markdown",
   "id": "f278f861-c4e4-4ef9-bef0-cea0294da14e",
   "metadata": {},
   "source": [
    "### Recopilación de datos de Airbnb"
   ]
  },
  {
   "cell_type": "markdown",
   "id": "20c6c4e6-de4c-40fb-a3c7-04363f46645e",
   "metadata": {},
   "source": [
    "Los datos utilizados provienen del proyecto [Inside Airbnb](https://insideairbnb.com/) [Nueva York](https://insideairbnb.com/new-york-city/), el cual es un proyecto con el objetivo de proporcionar datos y promover la concienciación sobre el impacto de Airbnb en las comunidades residenciales. Su objetivo es trabajar para lograr una visión en la que las comunidades están empoderadas con datos e información para que puedan comprender, decidir y controlar el rol que desempeña el alquiler de viviendas residenciales a los turistas. El proyecto cuenta con la colaboración y contribuciones de diversas personas y organizaciones. "
   ]
  },
  {
   "cell_type": "markdown",
   "id": "25a6311e-d895-4430-8c79-e5857c036b85",
   "metadata": {},
   "source": [
    "Paquetes por instalar: \n",
    "- Numpy\n",
    "- Panda"
   ]
  },
  {
   "cell_type": "markdown",
   "id": "be11bdd0-78f5-42ca-a6f8-d865a231e2d4",
   "metadata": {},
   "source": [
    "Los datos de los Airbnbs de Nueva York fueron obtenidos en la sección [Get the Data](https://insideairbnb.com/get-the-data/), cuya última actualización se realizó el 4 de septiembre de 2024, se seleccionaron los siguientes archivos para su análisis:\n",
    "- listings.csv: contiene información detallada sobre los Airbnbs de la ciudad de Nueva York, como \n",
    "precios, ubicación y características de las propiedades.\n",
    "- neighbourhoods.csv: proporciona información sobre los vecindarios donde se encuentran los Airbnbs.\n",
    "- reviews.csv: contiene las fechas en que se realizaron los comentarios de los usuarios que se han alojado en las \n",
    "propiedades de Airbnb.\n",
    "\n",
    "\n"
   ]
  },
  {
   "cell_type": "markdown",
   "id": "08362e18-1d85-4697-9b34-297a024de262",
   "metadata": {},
   "source": [
    "#### Extraer y leer los datos"
   ]
  },
  {
   "cell_type": "code",
   "execution_count": 1,
   "id": "c3d25a70-2425-4a48-8568-e6b7c5d6fa03",
   "metadata": {},
   "outputs": [],
   "source": [
    "import pandas as pd\n",
    "\n",
    "data_listings = pd.read_csv(\"listings_NY.csv\")\n",
    "data_neighbourhoods = pd.read_csv(\"neighbourhoods_NY.csv\")\n",
    "data_reviews = pd.read_csv(\"reviews_NY.csv\")"
   ]
  },
  {
   "cell_type": "markdown",
   "id": "02cad47c-209c-437b-b909-8e69af9a0cb2",
   "metadata": {},
   "source": [
    "Se tiene la información de 37541 Airbnbs en Nueva York, las cuales registraron reseñas de usuarios entre el 25 de mayo de 2009 y el 04 de septiembre del presente año, distribuidos en 225 vecindarios y cuyas propiedades pertenecen a 22458 anfitriones diferentes."
   ]
  },
  {
   "cell_type": "code",
   "execution_count": 2,
   "id": "3dee20fd-7102-4406-86fc-227da89ae68e",
   "metadata": {},
   "outputs": [
    {
     "name": "stdout",
     "output_type": "stream",
     "text": [
      "(37541, 18)\n",
      "2009-05-25\n",
      "2024-09-04\n",
      "(230, 2)\n",
      "(947328, 2)\n",
      "22458\n",
      "26001\n",
      "225\n"
     ]
    }
   ],
   "source": [
    "print(data_listings.shape)\n",
    "print(min(data_reviews.date))\n",
    "print(max(data_reviews.date))\n",
    "print(data_neighbourhoods.shape)\n",
    "print(data_reviews.shape)\n",
    "print(data_listings.host_id.nunique())\n",
    "print(data_reviews.listing_id.nunique())\n",
    "print(data_listings.neighbourhood.nunique())"
   ]
  },
  {
   "cell_type": "markdown",
   "id": "23928c83-ae7d-4078-98e7-819c83d74e7d",
   "metadata": {},
   "source": [
    "### Análisis descriptivo de los datos de Airbnb"
   ]
  },
  {
   "cell_type": "markdown",
   "id": "6fb89b70-06b8-4537-86db-1b78320a4907",
   "metadata": {},
   "source": [
    "La siguiente sección ... . El proposito de esta sección es ..."
   ]
  },
  {
   "cell_type": "code",
   "execution_count": 3,
   "id": "44454f01-e0d7-4c0e-83f9-70ca97846598",
   "metadata": {},
   "outputs": [
    {
     "data": {
      "text/plain": [
       "Index(['id', 'name', 'host_id', 'host_name', 'neighbourhood_group',\n",
       "       'neighbourhood', 'latitude', 'longitude', 'room_type', 'price',\n",
       "       'minimum_nights', 'number_of_reviews', 'last_review',\n",
       "       'reviews_per_month', 'calculated_host_listings_count',\n",
       "       'availability_365', 'number_of_reviews_ltm', 'license'],\n",
       "      dtype='object')"
      ]
     },
     "execution_count": 3,
     "metadata": {},
     "output_type": "execute_result"
    }
   ],
   "source": [
    "data_listings.columns"
   ]
  },
  {
   "cell_type": "markdown",
   "id": "ac4a4694-6922-482e-ae19-e184ab52acce",
   "metadata": {},
   "source": [
    "### Variables"
   ]
  },
  {
   "cell_type": "markdown",
   "id": "1bdfac43-9af3-4970-b1fa-b82a75aa16f5",
   "metadata": {},
   "source": [
    "Las bases de datos utilizadas en este trabajo son públicas, se omite el nombre de los anfitriones por evitar que se identifiquen a los anfitriones para preservar su privacidad."
   ]
  },
  {
   "cell_type": "code",
   "execution_count": 4,
   "id": "e8aa59bd-5eab-43e3-9301-e6bbcf268445",
   "metadata": {},
   "outputs": [
    {
     "data": {
      "text/html": [
       "<div>\n",
       "<style scoped>\n",
       "    .dataframe tbody tr th:only-of-type {\n",
       "        vertical-align: middle;\n",
       "    }\n",
       "\n",
       "    .dataframe tbody tr th {\n",
       "        vertical-align: top;\n",
       "    }\n",
       "\n",
       "    .dataframe thead th {\n",
       "        text-align: right;\n",
       "    }\n",
       "</style>\n",
       "<table border=\"1\" class=\"dataframe\">\n",
       "  <thead>\n",
       "    <tr style=\"text-align: right;\">\n",
       "      <th></th>\n",
       "      <th>id</th>\n",
       "      <th>name</th>\n",
       "      <th>host_id</th>\n",
       "      <th>neighbourhood_group</th>\n",
       "      <th>neighbourhood</th>\n",
       "      <th>latitude</th>\n",
       "      <th>longitude</th>\n",
       "      <th>room_type</th>\n",
       "      <th>price</th>\n",
       "      <th>minimum_nights</th>\n",
       "      <th>number_of_reviews</th>\n",
       "      <th>last_review</th>\n",
       "      <th>reviews_per_month</th>\n",
       "      <th>calculated_host_listings_count</th>\n",
       "      <th>availability_365</th>\n",
       "      <th>number_of_reviews_ltm</th>\n",
       "      <th>license</th>\n",
       "    </tr>\n",
       "  </thead>\n",
       "  <tbody>\n",
       "    <tr>\n",
       "      <th>0</th>\n",
       "      <td>1189243425411300671</td>\n",
       "      <td>The Grand III</td>\n",
       "      <td>61391963</td>\n",
       "      <td>Manhattan</td>\n",
       "      <td>Murray Hill</td>\n",
       "      <td>40.750251</td>\n",
       "      <td>-73.977745</td>\n",
       "      <td>Entire home/apt</td>\n",
       "      <td>58.0</td>\n",
       "      <td>30</td>\n",
       "      <td>1</td>\n",
       "      <td>2024-08-02</td>\n",
       "      <td>0.86</td>\n",
       "      <td>130</td>\n",
       "      <td>357</td>\n",
       "      <td>1</td>\n",
       "      <td>NaN</td>\n",
       "    </tr>\n",
       "    <tr>\n",
       "      <th>1</th>\n",
       "      <td>651593916026998398</td>\n",
       "      <td>Cheerful one bedroom townhouse with backyard</td>\n",
       "      <td>136812643</td>\n",
       "      <td>Brooklyn</td>\n",
       "      <td>Flatlands</td>\n",
       "      <td>40.624760</td>\n",
       "      <td>-73.935560</td>\n",
       "      <td>Private room</td>\n",
       "      <td>80.0</td>\n",
       "      <td>30</td>\n",
       "      <td>0</td>\n",
       "      <td>NaN</td>\n",
       "      <td>NaN</td>\n",
       "      <td>1</td>\n",
       "      <td>365</td>\n",
       "      <td>0</td>\n",
       "      <td>NaN</td>\n",
       "    </tr>\n",
       "    <tr>\n",
       "      <th>2</th>\n",
       "      <td>310325</td>\n",
       "      <td>Large Sunny Bedroom with Bay Window</td>\n",
       "      <td>745069</td>\n",
       "      <td>Manhattan</td>\n",
       "      <td>Harlem</td>\n",
       "      <td>40.823590</td>\n",
       "      <td>-73.946010</td>\n",
       "      <td>Private room</td>\n",
       "      <td>75.0</td>\n",
       "      <td>30</td>\n",
       "      <td>31</td>\n",
       "      <td>2019-09-28</td>\n",
       "      <td>0.21</td>\n",
       "      <td>2</td>\n",
       "      <td>335</td>\n",
       "      <td>0</td>\n",
       "      <td>NaN</td>\n",
       "    </tr>\n",
       "    <tr>\n",
       "      <th>3</th>\n",
       "      <td>572612125615500056</td>\n",
       "      <td>Room by Sunny &amp; Bay! Sunset Park &amp; Bay Ridge</td>\n",
       "      <td>358089614</td>\n",
       "      <td>Brooklyn</td>\n",
       "      <td>Sunset Park</td>\n",
       "      <td>40.639520</td>\n",
       "      <td>-74.014840</td>\n",
       "      <td>Private room</td>\n",
       "      <td>45.0</td>\n",
       "      <td>30</td>\n",
       "      <td>6</td>\n",
       "      <td>2024-07-30</td>\n",
       "      <td>0.21</td>\n",
       "      <td>2</td>\n",
       "      <td>336</td>\n",
       "      <td>1</td>\n",
       "      <td>NaN</td>\n",
       "    </tr>\n",
       "    <tr>\n",
       "      <th>4</th>\n",
       "      <td>1020282701018874374</td>\n",
       "      <td>Trendy Private Bedroom</td>\n",
       "      <td>483056418</td>\n",
       "      <td>Brooklyn</td>\n",
       "      <td>Bedford-Stuyvesant</td>\n",
       "      <td>40.678946</td>\n",
       "      <td>-73.943759</td>\n",
       "      <td>Private room</td>\n",
       "      <td>47.0</td>\n",
       "      <td>30</td>\n",
       "      <td>0</td>\n",
       "      <td>NaN</td>\n",
       "      <td>NaN</td>\n",
       "      <td>24</td>\n",
       "      <td>269</td>\n",
       "      <td>0</td>\n",
       "      <td>NaN</td>\n",
       "    </tr>\n",
       "  </tbody>\n",
       "</table>\n",
       "</div>"
      ],
      "text/plain": [
       "                    id                                          name  \\\n",
       "0  1189243425411300671                                 The Grand III   \n",
       "1   651593916026998398  Cheerful one bedroom townhouse with backyard   \n",
       "2               310325           Large Sunny Bedroom with Bay Window   \n",
       "3   572612125615500056  Room by Sunny & Bay! Sunset Park & Bay Ridge   \n",
       "4  1020282701018874374                        Trendy Private Bedroom   \n",
       "\n",
       "     host_id neighbourhood_group       neighbourhood   latitude  longitude  \\\n",
       "0   61391963           Manhattan         Murray Hill  40.750251 -73.977745   \n",
       "1  136812643            Brooklyn           Flatlands  40.624760 -73.935560   \n",
       "2     745069           Manhattan              Harlem  40.823590 -73.946010   \n",
       "3  358089614            Brooklyn         Sunset Park  40.639520 -74.014840   \n",
       "4  483056418            Brooklyn  Bedford-Stuyvesant  40.678946 -73.943759   \n",
       "\n",
       "         room_type  price  minimum_nights  number_of_reviews last_review  \\\n",
       "0  Entire home/apt   58.0              30                  1  2024-08-02   \n",
       "1     Private room   80.0              30                  0         NaN   \n",
       "2     Private room   75.0              30                 31  2019-09-28   \n",
       "3     Private room   45.0              30                  6  2024-07-30   \n",
       "4     Private room   47.0              30                  0         NaN   \n",
       "\n",
       "   reviews_per_month  calculated_host_listings_count  availability_365  \\\n",
       "0               0.86                             130               357   \n",
       "1                NaN                               1               365   \n",
       "2               0.21                               2               335   \n",
       "3               0.21                               2               336   \n",
       "4                NaN                              24               269   \n",
       "\n",
       "   number_of_reviews_ltm license  \n",
       "0                      1     NaN  \n",
       "1                      0     NaN  \n",
       "2                      0     NaN  \n",
       "3                      1     NaN  \n",
       "4                      0     NaN  "
      ]
     },
     "execution_count": 4,
     "metadata": {},
     "output_type": "execute_result"
    }
   ],
   "source": [
    "data_listings_final2 = data_listings.drop(columns = ['host_name'])\n",
    "data_listings_final2.head()"
   ]
  },
  {
   "cell_type": "code",
   "execution_count": 5,
   "id": "eb75571d-b02d-4830-bfa7-c372f50c32c6",
   "metadata": {},
   "outputs": [],
   "source": [
    "data_listings_final = data_listings_final2.drop(columns = ['name','license',  'latitude', 'longitude', 'availability_365', 'number_of_reviews_ltm','calculated_host_listings_count', 'reviews_per_month'])\n"
   ]
  },
  {
   "cell_type": "markdown",
   "id": "e0ce1411-8abe-4397-a4da-26dad5e103e8",
   "metadata": {},
   "source": [
    "Las variables elegidas en este trabajo son:\n",
    "- id: Identificador único de Airbnb\n",
    "- host_id: Identificador único de Airbnb para el anfitrión/usuario\n",
    "- neighbourhood_group: Grupo de vecindario en el que se ubica el Airbnb\n",
    "- neighbourhood: Vecindario en el que se ubica el Airbnb                      \n",
    "- room_type: Todas las casas se agrupan en los siguientes tres tipos de habitaciones: Alojamiento completo, habitación privada y habitación compartida.                 \n",
    "- price: Precio diario en moneda local                        \n",
    "- minimum_nights: Número mínimo de noches de estancia para el alojamiento                 \n",
    "- number_of_reviews: El número de reseñas que tiene el anuncio.                  \n",
    "- last_review: La fecha de la última/más reciente reseña\n",
    "- date: Fecha en la que se realizó la reseña. "
   ]
  },
  {
   "cell_type": "code",
   "execution_count": 6,
   "id": "ff8a1f94-33f4-4041-bdf7-3993b1afd940",
   "metadata": {},
   "outputs": [
    {
     "data": {
      "text/html": [
       "<div>\n",
       "<style scoped>\n",
       "    .dataframe tbody tr th:only-of-type {\n",
       "        vertical-align: middle;\n",
       "    }\n",
       "\n",
       "    .dataframe tbody tr th {\n",
       "        vertical-align: top;\n",
       "    }\n",
       "\n",
       "    .dataframe thead th {\n",
       "        text-align: right;\n",
       "    }\n",
       "</style>\n",
       "<table border=\"1\" class=\"dataframe\">\n",
       "  <thead>\n",
       "    <tr style=\"text-align: right;\">\n",
       "      <th></th>\n",
       "      <th>id</th>\n",
       "      <th>host_id</th>\n",
       "      <th>neighbourhood_group</th>\n",
       "      <th>neighbourhood</th>\n",
       "      <th>room_type</th>\n",
       "      <th>price</th>\n",
       "      <th>minimum_nights</th>\n",
       "      <th>number_of_reviews</th>\n",
       "      <th>last_review</th>\n",
       "      <th>date</th>\n",
       "    </tr>\n",
       "  </thead>\n",
       "  <tbody>\n",
       "    <tr>\n",
       "      <th>0</th>\n",
       "      <td>2595</td>\n",
       "      <td>2845</td>\n",
       "      <td>Manhattan</td>\n",
       "      <td>Midtown</td>\n",
       "      <td>Entire home/apt</td>\n",
       "      <td>240.0</td>\n",
       "      <td>30</td>\n",
       "      <td>49</td>\n",
       "      <td>2022-06-21</td>\n",
       "      <td>2009-11-21</td>\n",
       "    </tr>\n",
       "    <tr>\n",
       "      <th>1</th>\n",
       "      <td>2595</td>\n",
       "      <td>2845</td>\n",
       "      <td>Manhattan</td>\n",
       "      <td>Midtown</td>\n",
       "      <td>Entire home/apt</td>\n",
       "      <td>240.0</td>\n",
       "      <td>30</td>\n",
       "      <td>49</td>\n",
       "      <td>2022-06-21</td>\n",
       "      <td>2009-12-05</td>\n",
       "    </tr>\n",
       "    <tr>\n",
       "      <th>2</th>\n",
       "      <td>2595</td>\n",
       "      <td>2845</td>\n",
       "      <td>Manhattan</td>\n",
       "      <td>Midtown</td>\n",
       "      <td>Entire home/apt</td>\n",
       "      <td>240.0</td>\n",
       "      <td>30</td>\n",
       "      <td>49</td>\n",
       "      <td>2022-06-21</td>\n",
       "      <td>2009-12-10</td>\n",
       "    </tr>\n",
       "    <tr>\n",
       "      <th>3</th>\n",
       "      <td>2595</td>\n",
       "      <td>2845</td>\n",
       "      <td>Manhattan</td>\n",
       "      <td>Midtown</td>\n",
       "      <td>Entire home/apt</td>\n",
       "      <td>240.0</td>\n",
       "      <td>30</td>\n",
       "      <td>49</td>\n",
       "      <td>2022-06-21</td>\n",
       "      <td>2010-04-09</td>\n",
       "    </tr>\n",
       "    <tr>\n",
       "      <th>4</th>\n",
       "      <td>2595</td>\n",
       "      <td>2845</td>\n",
       "      <td>Manhattan</td>\n",
       "      <td>Midtown</td>\n",
       "      <td>Entire home/apt</td>\n",
       "      <td>240.0</td>\n",
       "      <td>30</td>\n",
       "      <td>49</td>\n",
       "      <td>2022-06-21</td>\n",
       "      <td>2010-05-25</td>\n",
       "    </tr>\n",
       "  </tbody>\n",
       "</table>\n",
       "</div>"
      ],
      "text/plain": [
       "     id  host_id neighbourhood_group neighbourhood        room_type  price  \\\n",
       "0  2595     2845           Manhattan       Midtown  Entire home/apt  240.0   \n",
       "1  2595     2845           Manhattan       Midtown  Entire home/apt  240.0   \n",
       "2  2595     2845           Manhattan       Midtown  Entire home/apt  240.0   \n",
       "3  2595     2845           Manhattan       Midtown  Entire home/apt  240.0   \n",
       "4  2595     2845           Manhattan       Midtown  Entire home/apt  240.0   \n",
       "\n",
       "   minimum_nights  number_of_reviews last_review        date  \n",
       "0              30                 49  2022-06-21  2009-11-21  \n",
       "1              30                 49  2022-06-21  2009-12-05  \n",
       "2              30                 49  2022-06-21  2009-12-10  \n",
       "3              30                 49  2022-06-21  2010-04-09  \n",
       "4              30                 49  2022-06-21  2010-05-25  "
      ]
     },
     "execution_count": 6,
     "metadata": {},
     "output_type": "execute_result"
    }
   ],
   "source": [
    "df_final = data_listings_final.merge(\n",
    "    data_reviews,\n",
    "    how='right',left_on='id', right_on = 'listing_id'\n",
    ")\n",
    "df_final=df_final.drop(columns=['listing_id'])\n",
    "df_final.head()"
   ]
  },
  {
   "cell_type": "code",
   "execution_count": 7,
   "id": "c81aaedb-fa6d-4c82-b5a7-18cc155db19b",
   "metadata": {},
   "outputs": [
    {
     "data": {
      "text/html": [
       "<div>\n",
       "<style scoped>\n",
       "    .dataframe tbody tr th:only-of-type {\n",
       "        vertical-align: middle;\n",
       "    }\n",
       "\n",
       "    .dataframe tbody tr th {\n",
       "        vertical-align: top;\n",
       "    }\n",
       "\n",
       "    .dataframe thead th {\n",
       "        text-align: right;\n",
       "    }\n",
       "</style>\n",
       "<table border=\"1\" class=\"dataframe\">\n",
       "  <thead>\n",
       "    <tr style=\"text-align: right;\">\n",
       "      <th></th>\n",
       "      <th>id</th>\n",
       "      <th>host_id</th>\n",
       "      <th>neighbourhood_group</th>\n",
       "      <th>neighbourhood</th>\n",
       "      <th>room_type</th>\n",
       "      <th>price</th>\n",
       "      <th>minimum_nights</th>\n",
       "      <th>number_of_reviews</th>\n",
       "      <th>last_review</th>\n",
       "      <th>date</th>\n",
       "    </tr>\n",
       "  </thead>\n",
       "  <tbody>\n",
       "    <tr>\n",
       "      <th>0</th>\n",
       "      <td>2595</td>\n",
       "      <td>2845</td>\n",
       "      <td>Manhattan</td>\n",
       "      <td>Midtown</td>\n",
       "      <td>Entire home/apt</td>\n",
       "      <td>240.0</td>\n",
       "      <td>30</td>\n",
       "      <td>49</td>\n",
       "      <td>2022-06-21</td>\n",
       "      <td>2009-11-21</td>\n",
       "    </tr>\n",
       "    <tr>\n",
       "      <th>1</th>\n",
       "      <td>2595</td>\n",
       "      <td>2845</td>\n",
       "      <td>Manhattan</td>\n",
       "      <td>Midtown</td>\n",
       "      <td>Entire home/apt</td>\n",
       "      <td>240.0</td>\n",
       "      <td>30</td>\n",
       "      <td>49</td>\n",
       "      <td>2022-06-21</td>\n",
       "      <td>2009-12-05</td>\n",
       "    </tr>\n",
       "    <tr>\n",
       "      <th>2</th>\n",
       "      <td>2595</td>\n",
       "      <td>2845</td>\n",
       "      <td>Manhattan</td>\n",
       "      <td>Midtown</td>\n",
       "      <td>Entire home/apt</td>\n",
       "      <td>240.0</td>\n",
       "      <td>30</td>\n",
       "      <td>49</td>\n",
       "      <td>2022-06-21</td>\n",
       "      <td>2009-12-10</td>\n",
       "    </tr>\n",
       "    <tr>\n",
       "      <th>3</th>\n",
       "      <td>2595</td>\n",
       "      <td>2845</td>\n",
       "      <td>Manhattan</td>\n",
       "      <td>Midtown</td>\n",
       "      <td>Entire home/apt</td>\n",
       "      <td>240.0</td>\n",
       "      <td>30</td>\n",
       "      <td>49</td>\n",
       "      <td>2022-06-21</td>\n",
       "      <td>2010-04-09</td>\n",
       "    </tr>\n",
       "    <tr>\n",
       "      <th>4</th>\n",
       "      <td>2595</td>\n",
       "      <td>2845</td>\n",
       "      <td>Manhattan</td>\n",
       "      <td>Midtown</td>\n",
       "      <td>Entire home/apt</td>\n",
       "      <td>240.0</td>\n",
       "      <td>30</td>\n",
       "      <td>49</td>\n",
       "      <td>2022-06-21</td>\n",
       "      <td>2010-05-25</td>\n",
       "    </tr>\n",
       "  </tbody>\n",
       "</table>\n",
       "</div>"
      ],
      "text/plain": [
       "     id  host_id neighbourhood_group neighbourhood        room_type  price  \\\n",
       "0  2595     2845           Manhattan       Midtown  Entire home/apt  240.0   \n",
       "1  2595     2845           Manhattan       Midtown  Entire home/apt  240.0   \n",
       "2  2595     2845           Manhattan       Midtown  Entire home/apt  240.0   \n",
       "3  2595     2845           Manhattan       Midtown  Entire home/apt  240.0   \n",
       "4  2595     2845           Manhattan       Midtown  Entire home/apt  240.0   \n",
       "\n",
       "   minimum_nights  number_of_reviews last_review        date  \n",
       "0              30                 49  2022-06-21  2009-11-21  \n",
       "1              30                 49  2022-06-21  2009-12-05  \n",
       "2              30                 49  2022-06-21  2009-12-10  \n",
       "3              30                 49  2022-06-21  2010-04-09  \n",
       "4              30                 49  2022-06-21  2010-05-25  "
      ]
     },
     "execution_count": 7,
     "metadata": {},
     "output_type": "execute_result"
    }
   ],
   "source": [
    "df_final_sin_precio_na = df_final.dropna(subset = ['price'])\n",
    "df_final_sin_precio_na.head()"
   ]
  },
  {
   "cell_type": "markdown",
   "id": "236226f7-c420-4be3-af56-5439707a5c2b",
   "metadata": {},
   "source": [
    "                    "
   ]
  },
  {
   "cell_type": "code",
   "execution_count": 8,
   "id": "9f126444-865c-4172-ae99-c64b146c4189",
   "metadata": {},
   "outputs": [
    {
     "data": {
      "text/plain": [
       "id                       int64\n",
       "host_id                  int64\n",
       "neighbourhood_group     object\n",
       "neighbourhood           object\n",
       "room_type               object\n",
       "price                  float64\n",
       "minimum_nights           int64\n",
       "number_of_reviews        int64\n",
       "last_review             object\n",
       "date                    object\n",
       "dtype: object"
      ]
     },
     "execution_count": 8,
     "metadata": {},
     "output_type": "execute_result"
    }
   ],
   "source": [
    "df_final.dtypes"
   ]
  },
  {
   "cell_type": "markdown",
   "id": "4e4ee5e7-449e-4f39-b5f6-dca731c65370",
   "metadata": {},
   "source": [
    "> ## "
   ]
  },
  {
   "cell_type": "markdown",
   "id": "cfc76a23-cf7a-46ac-9f58-c25928269d6f",
   "metadata": {},
   "source": [
    "## 3.  Descubriendo ideas clave al analizar los datos de los anuncios de Airbnb de acuerdo a la \"Ley Local 18 - Ley de Registro de Alquileres a Corto Plazo\""
   ]
  },
  {
   "cell_type": "markdown",
   "id": "6e18de8f-7d21-4b1e-901a-66d41605b0d5",
   "metadata": {},
   "source": [
    "La ciudad de Nueva York ha implementado restricciones a Airbnb y otros sitios de alquileres a corto plazo para regular el mercado de alquileres y evitar que se exploten a los inquilinos: \n",
    "##### Ley Local 18 - Ley de Registro de Alquileres a Corto Plazo\n",
    "Esta ley, que entró en vigor en septiembre de 2023. Consta de lo siguiente:\n",
    "- Exige que los anfitriones de alquileres a corto plazo se registren en la ciudad y que estén físicamente presentes durante el alquiler, es decir, solo permite a los anfitriones alojar como máximo a dos personas a la vez y les obliga a estar físicamente presentes en la vivienda durante la estancia, que no puede superar los 30 días.\n",
    "- Tanto el anfitrion como los visitantes están obligados a dejar las puertas abiertas, más bien no cerrarlas con llave, para que los ocupantes puedan acceder en todo momento a todas las habitaciones.\n",
    "- Prohíbe que plataformas como Airbnb gestionen estancias breves que no estén registradas. \n",
    "- Queda descartada totalmente la posibilidad de alquilar un apartamento entero.\n",
    "\n",
    "##### Objetivo de la ley\n",
    "La ley busca regular un mercado en el que muchos anfitriones alquilaban unidades que no cumplían con los requisitos ademas de aumentar los precios y contribuir negativamente a la escasez de viviendas en la ciudad para residentes locales. \n",
    "\n",
    "\n",
    "\n"
   ]
  },
  {
   "cell_type": "markdown",
   "id": "0d4c8fa7-51f6-448a-8e02-1e3ecbb1bb0d",
   "metadata": {},
   "source": [
    "\n",
    "\n",
    "![Imagen](Airbnb_noti.jpg)"
   ]
  },
  {
   "cell_type": "code",
   "execution_count": null,
   "id": "e258baa9-919e-4879-96f3-6f423b639f91",
   "metadata": {},
   "outputs": [],
   "source": []
  },
  {
   "cell_type": "markdown",
   "id": "162e02e6-04a5-4bdf-aafd-ec8dbb470b73",
   "metadata": {},
   "source": [
    "En la Figura # se presenta una gráfica que representa..."
   ]
  },
  {
   "cell_type": "code",
   "execution_count": 9,
   "id": "c58aeea3-c843-419d-900b-65d5d3234c7b",
   "metadata": {},
   "outputs": [
    {
     "data": {
      "text/html": [
       "\n",
       "        <iframe\n",
       "            width=\"974\"\n",
       "            height=\"500\"\n",
       "            src=\"https://lookerstudio.google.com/embed/reporting/516f65e0-aaef-4a25-86ab-e1e99f1340db/page/CkkCE\"\n",
       "            frameborder=\"0\"\n",
       "            allowfullscreen\n",
       "            \n",
       "        ></iframe>\n",
       "        "
      ],
      "text/plain": [
       "<IPython.lib.display.IFrame at 0x7f0d22f5fb20>"
      ]
     },
     "execution_count": 9,
     "metadata": {},
     "output_type": "execute_result"
    }
   ],
   "source": [
    "import IPython\n",
    "src1= 'https://lookerstudio.google.com/embed/reporting/516f65e0-aaef-4a25-86ab-e1e99f1340db/page/CkkCE'\n",
    "IPython.display.IFrame(src1, width=974, height=500)"
   ]
  },
  {
   "cell_type": "markdown",
   "id": "70b258d4-62f4-49b4-9a59-f7e05a459b72",
   "metadata": {},
   "source": [
    "<center> Figura #. ... <center>"
   ]
  },
  {
   "cell_type": "code",
   "execution_count": null,
   "id": "08785c84-de00-4bc5-a24e-1cc176ec3888",
   "metadata": {},
   "outputs": [],
   "source": [
    "\n"
   ]
  }
 ],
 "metadata": {
  "kernelspec": {
   "display_name": "Python 3 (ipykernel)",
   "language": "python",
   "name": "python3"
  },
  "language_info": {
   "codemirror_mode": {
    "name": "ipython",
    "version": 3
   },
   "file_extension": ".py",
   "mimetype": "text/x-python",
   "name": "python",
   "nbconvert_exporter": "python",
   "pygments_lexer": "ipython3",
   "version": "3.8.19"
  }
 },
 "nbformat": 4,
 "nbformat_minor": 5
}
