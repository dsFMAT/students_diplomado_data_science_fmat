{
 "cells": [
  {
   "cell_type": "markdown",
   "id": "dd5f4184-623a-4a22-bf5b-e0971d2a8826",
   "metadata": {},
   "source": [
    "# Análisis de datos de Airbnbs en Nueva York"
   ]
  },
  {
   "cell_type": "markdown",
   "id": "03b70bb8-b3ae-4567-b3a3-a123aeff9169",
   "metadata": {},
   "source": [
    "En el siguiente notebook, se explora ..."
   ]
  },
  {
   "cell_type": "markdown",
   "id": "402106d2-340a-4585-9f73-a93bf4112940",
   "metadata": {},
   "source": [
    "![Imagen](logo_Airbnb.jpg)"
   ]
  },
  {
   "cell_type": "markdown",
   "id": "11e1bc34-a432-4dbc-9b2b-4fdb744af157",
   "metadata": {},
   "source": [
    "Este trabajo se divide en # secciones:\n",
    "- 1.\n",
    "- 2.\n"
   ]
  },
  {
   "cell_type": "markdown",
   "id": "e005c6d6-3fdf-47c5-91cf-d12a03203efc",
   "metadata": {},
   "source": [
    "En la primera sección ... .\n",
    "En la segunda sección ....\n",
    "\n",
    "Poner en esta parte el objetivo del trabajo"
   ]
  },
  {
   "cell_type": "markdown",
   "id": "448ad432-495d-4c0d-9de1-1abbb7c488a1",
   "metadata": {},
   "source": [
    "## Resumen"
   ]
  },
  {
   "cell_type": "markdown",
   "id": "b0c5738c-72d5-42b3-bf27-01485b10a4fc",
   "metadata": {},
   "source": [
    "Aquí va el resumen"
   ]
  },
  {
   "cell_type": "markdown",
   "id": "44524309-2274-4110-9683-e0694a8e2af5",
   "metadata": {},
   "source": [
    "_______________________________"
   ]
  },
  {
   "cell_type": "markdown",
   "id": "f0b7140e-b99d-4f47-a677-a6bfd545a6fa",
   "metadata": {},
   "source": [
    "##### Fecha: Septiembre 2024 \n",
    "##### Autores: Abner Colli Sanchez, María Dolores Matus Basto y Samuel Muñoz Villarino "
   ]
  },
  {
   "cell_type": "markdown",
   "id": "d4c55f1e-3a3f-4ad3-a992-31ddf85e716a",
   "metadata": {},
   "source": [
    "______________________________________"
   ]
  },
  {
   "cell_type": "markdown",
   "id": "40e4ed89-8e12-4abb-8184-edb30e522c5f",
   "metadata": {},
   "source": [
    "## 1. Acceder a la plataforma de Airbnb como anfitrión o huesped"
   ]
  },
  {
   "cell_type": "markdown",
   "id": "05a9d209-6fa3-4d72-928f-8d74d2d71baa",
   "metadata": {},
   "source": [
    "[Airbnb](https://airbnb.mx/) es una plataforma en línea que permite a los usuarios (huespedes) buscar y reservar alojamiento en todo el mundo, así como ofrecer sus propiedades (ya sean habitaciones, apartamentos, casas o cualquier otro tipo de alojamiento) para alquilar (anfitriones). Los huespedes pueden buscar y reservar alojamientos en función de su ubicación, presupuesto y fechas. Tanto los anfitriones como los huéspedes cuentan con verificación de identidad."
   ]
  },
  {
   "cell_type": "markdown",
   "id": "b09f617d-eac1-41c8-912e-f2a338f32eda",
   "metadata": {},
   "source": [
    "### 1.1 Anfitrion\n",
    "\n",
    "Para [registrar una propiedad en Airbnb](https://www.airbnb.mx/host/homes) y ser el anfitrión se realizan los siguientes pasos:\n",
    "1. ##### Descripción del espacio\n",
    "Agregar algunos datos básicos, como dónde está ubicado y cuántos huéspedes pueden quedarse.\n",
    "\n",
    "2. ##### Hacer que destaque\n",
    "Agregar al menos cinco fotos, un título y una descripción.\n",
    "\n",
    "3. ##### Terminar y publicar\n",
    "Elegir un precio inicial, verificar algunos detalles y publicar un anuncio.\n",
    "\n",
    "Aibnb te ofrece, por ejemplo:\n",
    "- Acompañamiento personalizado de un Superanfitrión: Guía de un Superanfitrión en esa zona.\n",
    "- Asistencia especializada por parte de Airbnb: Los anfitriones nuevos tienen acceso directo a un equipo de Atención al Cliente exclusivo para resolver problemas relacionados con su cuenta, con la facturación y muchos otros aspectos.\n",
    " ![Imagen](Airbnb_anfitrion.jpg)"
   ]
  },
  {
   "cell_type": "markdown",
   "id": "d47f93c4-33e4-4758-842d-38f4ed8c986e",
   "metadata": {},
   "source": [
    "### 1.2 Huesped \n",
    "\n",
    "Para acceder a [Airbnb como huesped](https://airbnb.mx/), se realizan los siguientes pasos: \n",
    "- Registrarse a Airbnb e iniciar sección\n",
    "- Completar el perfil y verificar identidad\n",
    "- Elegir un Airbnb de acuerdo a su ubicación, presupuesto y fechas\n",
    "- Revisar las fotos, evaluaciones y reglas de la casa \n",
    "- Contactar al anfitrión para cualquier pregunta \n",
    "- Confirmar la hora de llegada y salida con el anfitrión \n",
    "- Solicitar instrucciones para acceder al alojamiento \n",
    "- Verificar si el anfitrión estará para entregar las llaves o si se utilizará otro método de acceso \n",
    "- Consultar las instrucciones para la llegada en la información del viaje\n",
    "\n",
    "- ![Imagen](Airbnb_huesped.jpg)"
   ]
  },
  {
   "cell_type": "markdown",
   "id": "f71a72f3-9288-45e7-8e10-3274235bf8ef",
   "metadata": {},
   "source": []
  },
  {
   "cell_type": "markdown",
   "id": "cbd3047b-91c5-4a3b-ba6a-f40411e1a59e",
   "metadata": {},
   "source": [
    "## 2. Descripción de los datos utilizados"
   ]
  },
  {
   "cell_type": "markdown",
   "id": "2c733201-9a24-433e-a567-e8419f42b846",
   "metadata": {},
   "source": [
    "En esta sección se presenta el analísis de los datos  ..."
   ]
  },
  {
   "cell_type": "markdown",
   "id": "f278f861-c4e4-4ef9-bef0-cea0294da14e",
   "metadata": {},
   "source": [
    "### Recopilación de datos de Airbnb"
   ]
  },
  {
   "cell_type": "markdown",
   "id": "2b441e19-27fa-4f53-a058-03fa1c576c72",
   "metadata": {},
   "source": [
    "Los datos utilizados provienen del proyecto [Inside Airbnb](https://insideairbnb.com/), el cual es un proyecto con el objetivo de proporcionar datos y promover la concienciación sobre el impacto de Airbnb en las comunidades residenciales. Su objetivo es trabajar para lograr una visión en la que las comunidades están empoderadas con datos e información para que puedan comprender, decidir y controlar el rol que desempeña el alquiler de viviendas residenciales a los turistas. El proyecto cuenta con la colaboración y contribuciones de diversas personas y organizaciones. "
   ]
  },
  {
   "cell_type": "markdown",
   "id": "cb8b85a5-0e1f-4091-9b70-f07984799659",
   "metadata": {},
   "source": [
    "En este trabajo se eligió realizar el análisis de datos de Airbnbs en la ciudad de Nueva York, EUA ya que..."
   ]
  },
  {
   "cell_type": "markdown",
   "id": "be9109a0-d484-4ba5-b73a-11578b0a42f3",
   "metadata": {},
   "source": [
    "Los datos de los Airbnbs de Nueva York fueron obtenidos en https://insideairbnb.com/get-the-data/, cuya última actualización se realizó el 4 de septiembre de 2024. \n"
   ]
  },
  {
   "cell_type": "markdown",
   "id": "25a6311e-d895-4430-8c79-e5857c036b85",
   "metadata": {},
   "source": [
    "Paquetes por instalar: ...."
   ]
  },
  {
   "cell_type": "markdown",
   "id": "4b735ec3-0ea6-4c26-8b3f-91da18b72191",
   "metadata": {},
   "source": [
    "https://insideairbnb.com/new-york-city/"
   ]
  },
  {
   "cell_type": "markdown",
   "id": "fbdceb31-85bd-48d0-b152-a381efeb0bcd",
   "metadata": {},
   "source": [
    "- listings.csv:\n",
    "- neighbourhoods.csv:\n",
    "- reviews.csv:"
   ]
  },
  {
   "cell_type": "markdown",
   "id": "08362e18-1d85-4697-9b34-297a024de262",
   "metadata": {},
   "source": [
    "#### Extraer y leer los datos"
   ]
  },
  {
   "cell_type": "code",
   "execution_count": 1,
   "id": "c3d25a70-2425-4a48-8568-e6b7c5d6fa03",
   "metadata": {},
   "outputs": [],
   "source": [
    "import pandas as pd\n",
    "\n",
    "data_listings = pd.read_csv(\"listings_NY.csv\")\n",
    "data_nh = pd.read_csv(\"neighbourhoods_NY.csv\")\n",
    "data_reviews = pd.read_csv(\"reviews_NY.csv\")"
   ]
  },
  {
   "cell_type": "code",
   "execution_count": 2,
   "id": "5c88553e-7718-4013-b8d2-e4e6b6c60d43",
   "metadata": {
    "scrolled": true
   },
   "outputs": [
    {
     "data": {
      "text/html": [
       "<div>\n",
       "<style scoped>\n",
       "    .dataframe tbody tr th:only-of-type {\n",
       "        vertical-align: middle;\n",
       "    }\n",
       "\n",
       "    .dataframe tbody tr th {\n",
       "        vertical-align: top;\n",
       "    }\n",
       "\n",
       "    .dataframe thead th {\n",
       "        text-align: right;\n",
       "    }\n",
       "</style>\n",
       "<table border=\"1\" class=\"dataframe\">\n",
       "  <thead>\n",
       "    <tr style=\"text-align: right;\">\n",
       "      <th></th>\n",
       "      <th>id</th>\n",
       "      <th>name</th>\n",
       "      <th>host_id</th>\n",
       "      <th>host_name</th>\n",
       "      <th>neighbourhood_group</th>\n",
       "      <th>neighbourhood</th>\n",
       "      <th>latitude</th>\n",
       "      <th>longitude</th>\n",
       "      <th>room_type</th>\n",
       "      <th>price</th>\n",
       "      <th>minimum_nights</th>\n",
       "      <th>number_of_reviews</th>\n",
       "      <th>last_review</th>\n",
       "      <th>reviews_per_month</th>\n",
       "      <th>calculated_host_listings_count</th>\n",
       "      <th>availability_365</th>\n",
       "      <th>number_of_reviews_ltm</th>\n",
       "      <th>license</th>\n",
       "    </tr>\n",
       "  </thead>\n",
       "  <tbody>\n",
       "    <tr>\n",
       "      <th>0</th>\n",
       "      <td>1189243425411300671</td>\n",
       "      <td>The Grand III</td>\n",
       "      <td>61391963</td>\n",
       "      <td>Stay With Vibe</td>\n",
       "      <td>Manhattan</td>\n",
       "      <td>Murray Hill</td>\n",
       "      <td>40.750251</td>\n",
       "      <td>-73.977745</td>\n",
       "      <td>Entire home/apt</td>\n",
       "      <td>58.0</td>\n",
       "      <td>30</td>\n",
       "      <td>1</td>\n",
       "      <td>2024-08-02</td>\n",
       "      <td>0.86</td>\n",
       "      <td>130</td>\n",
       "      <td>357</td>\n",
       "      <td>1</td>\n",
       "      <td>NaN</td>\n",
       "    </tr>\n",
       "    <tr>\n",
       "      <th>1</th>\n",
       "      <td>651593916026998398</td>\n",
       "      <td>Cheerful one bedroom townhouse with backyard</td>\n",
       "      <td>136812643</td>\n",
       "      <td>Marah</td>\n",
       "      <td>Brooklyn</td>\n",
       "      <td>Flatlands</td>\n",
       "      <td>40.624760</td>\n",
       "      <td>-73.935560</td>\n",
       "      <td>Private room</td>\n",
       "      <td>80.0</td>\n",
       "      <td>30</td>\n",
       "      <td>0</td>\n",
       "      <td>NaN</td>\n",
       "      <td>NaN</td>\n",
       "      <td>1</td>\n",
       "      <td>365</td>\n",
       "      <td>0</td>\n",
       "      <td>NaN</td>\n",
       "    </tr>\n",
       "    <tr>\n",
       "      <th>2</th>\n",
       "      <td>310325</td>\n",
       "      <td>Large Sunny Bedroom with Bay Window</td>\n",
       "      <td>745069</td>\n",
       "      <td>Kimberly</td>\n",
       "      <td>Manhattan</td>\n",
       "      <td>Harlem</td>\n",
       "      <td>40.823590</td>\n",
       "      <td>-73.946010</td>\n",
       "      <td>Private room</td>\n",
       "      <td>75.0</td>\n",
       "      <td>30</td>\n",
       "      <td>31</td>\n",
       "      <td>2019-09-28</td>\n",
       "      <td>0.21</td>\n",
       "      <td>2</td>\n",
       "      <td>335</td>\n",
       "      <td>0</td>\n",
       "      <td>NaN</td>\n",
       "    </tr>\n",
       "    <tr>\n",
       "      <th>3</th>\n",
       "      <td>572612125615500056</td>\n",
       "      <td>Room by Sunny &amp; Bay! Sunset Park &amp; Bay Ridge</td>\n",
       "      <td>358089614</td>\n",
       "      <td>Joshua</td>\n",
       "      <td>Brooklyn</td>\n",
       "      <td>Sunset Park</td>\n",
       "      <td>40.639520</td>\n",
       "      <td>-74.014840</td>\n",
       "      <td>Private room</td>\n",
       "      <td>45.0</td>\n",
       "      <td>30</td>\n",
       "      <td>6</td>\n",
       "      <td>2024-07-30</td>\n",
       "      <td>0.21</td>\n",
       "      <td>2</td>\n",
       "      <td>336</td>\n",
       "      <td>1</td>\n",
       "      <td>NaN</td>\n",
       "    </tr>\n",
       "    <tr>\n",
       "      <th>4</th>\n",
       "      <td>1020282701018874374</td>\n",
       "      <td>Trendy Private Bedroom</td>\n",
       "      <td>483056418</td>\n",
       "      <td>Kristina</td>\n",
       "      <td>Brooklyn</td>\n",
       "      <td>Bedford-Stuyvesant</td>\n",
       "      <td>40.678946</td>\n",
       "      <td>-73.943759</td>\n",
       "      <td>Private room</td>\n",
       "      <td>47.0</td>\n",
       "      <td>30</td>\n",
       "      <td>0</td>\n",
       "      <td>NaN</td>\n",
       "      <td>NaN</td>\n",
       "      <td>24</td>\n",
       "      <td>269</td>\n",
       "      <td>0</td>\n",
       "      <td>NaN</td>\n",
       "    </tr>\n",
       "  </tbody>\n",
       "</table>\n",
       "</div>"
      ],
      "text/plain": [
       "                    id                                          name  \\\n",
       "0  1189243425411300671                                 The Grand III   \n",
       "1   651593916026998398  Cheerful one bedroom townhouse with backyard   \n",
       "2               310325           Large Sunny Bedroom with Bay Window   \n",
       "3   572612125615500056  Room by Sunny & Bay! Sunset Park & Bay Ridge   \n",
       "4  1020282701018874374                        Trendy Private Bedroom   \n",
       "\n",
       "     host_id       host_name neighbourhood_group       neighbourhood  \\\n",
       "0   61391963  Stay With Vibe           Manhattan         Murray Hill   \n",
       "1  136812643           Marah            Brooklyn           Flatlands   \n",
       "2     745069        Kimberly           Manhattan              Harlem   \n",
       "3  358089614          Joshua            Brooklyn         Sunset Park   \n",
       "4  483056418        Kristina            Brooklyn  Bedford-Stuyvesant   \n",
       "\n",
       "    latitude  longitude        room_type  price  minimum_nights  \\\n",
       "0  40.750251 -73.977745  Entire home/apt   58.0              30   \n",
       "1  40.624760 -73.935560     Private room   80.0              30   \n",
       "2  40.823590 -73.946010     Private room   75.0              30   \n",
       "3  40.639520 -74.014840     Private room   45.0              30   \n",
       "4  40.678946 -73.943759     Private room   47.0              30   \n",
       "\n",
       "   number_of_reviews last_review  reviews_per_month  \\\n",
       "0                  1  2024-08-02               0.86   \n",
       "1                  0         NaN                NaN   \n",
       "2                 31  2019-09-28               0.21   \n",
       "3                  6  2024-07-30               0.21   \n",
       "4                  0         NaN                NaN   \n",
       "\n",
       "   calculated_host_listings_count  availability_365  number_of_reviews_ltm  \\\n",
       "0                             130               357                      1   \n",
       "1                               1               365                      0   \n",
       "2                               2               335                      0   \n",
       "3                               2               336                      1   \n",
       "4                              24               269                      0   \n",
       "\n",
       "  license  \n",
       "0     NaN  \n",
       "1     NaN  \n",
       "2     NaN  \n",
       "3     NaN  \n",
       "4     NaN  "
      ]
     },
     "execution_count": 2,
     "metadata": {},
     "output_type": "execute_result"
    }
   ],
   "source": [
    "data_listings.head()"
   ]
  },
  {
   "cell_type": "code",
   "execution_count": 3,
   "id": "2b32e48c-9da1-4a9e-83e1-5657d750f9dc",
   "metadata": {
    "scrolled": true
   },
   "outputs": [
    {
     "data": {
      "text/html": [
       "<div>\n",
       "<style scoped>\n",
       "    .dataframe tbody tr th:only-of-type {\n",
       "        vertical-align: middle;\n",
       "    }\n",
       "\n",
       "    .dataframe tbody tr th {\n",
       "        vertical-align: top;\n",
       "    }\n",
       "\n",
       "    .dataframe thead th {\n",
       "        text-align: right;\n",
       "    }\n",
       "</style>\n",
       "<table border=\"1\" class=\"dataframe\">\n",
       "  <thead>\n",
       "    <tr style=\"text-align: right;\">\n",
       "      <th></th>\n",
       "      <th>neighbourhood_group</th>\n",
       "      <th>neighbourhood</th>\n",
       "    </tr>\n",
       "  </thead>\n",
       "  <tbody>\n",
       "    <tr>\n",
       "      <th>0</th>\n",
       "      <td>Bronx</td>\n",
       "      <td>Allerton</td>\n",
       "    </tr>\n",
       "    <tr>\n",
       "      <th>1</th>\n",
       "      <td>Bronx</td>\n",
       "      <td>Baychester</td>\n",
       "    </tr>\n",
       "    <tr>\n",
       "      <th>2</th>\n",
       "      <td>Bronx</td>\n",
       "      <td>Belmont</td>\n",
       "    </tr>\n",
       "    <tr>\n",
       "      <th>3</th>\n",
       "      <td>Bronx</td>\n",
       "      <td>Bronxdale</td>\n",
       "    </tr>\n",
       "    <tr>\n",
       "      <th>4</th>\n",
       "      <td>Bronx</td>\n",
       "      <td>Castle Hill</td>\n",
       "    </tr>\n",
       "  </tbody>\n",
       "</table>\n",
       "</div>"
      ],
      "text/plain": [
       "  neighbourhood_group neighbourhood\n",
       "0               Bronx      Allerton\n",
       "1               Bronx    Baychester\n",
       "2               Bronx       Belmont\n",
       "3               Bronx     Bronxdale\n",
       "4               Bronx   Castle Hill"
      ]
     },
     "execution_count": 3,
     "metadata": {},
     "output_type": "execute_result"
    }
   ],
   "source": [
    "data_nh.head()"
   ]
  },
  {
   "cell_type": "code",
   "execution_count": 4,
   "id": "b3febee6-0852-47e3-a432-1618905a7a75",
   "metadata": {},
   "outputs": [
    {
     "data": {
      "text/html": [
       "<div>\n",
       "<style scoped>\n",
       "    .dataframe tbody tr th:only-of-type {\n",
       "        vertical-align: middle;\n",
       "    }\n",
       "\n",
       "    .dataframe tbody tr th {\n",
       "        vertical-align: top;\n",
       "    }\n",
       "\n",
       "    .dataframe thead th {\n",
       "        text-align: right;\n",
       "    }\n",
       "</style>\n",
       "<table border=\"1\" class=\"dataframe\">\n",
       "  <thead>\n",
       "    <tr style=\"text-align: right;\">\n",
       "      <th></th>\n",
       "      <th>listing_id</th>\n",
       "      <th>date</th>\n",
       "    </tr>\n",
       "  </thead>\n",
       "  <tbody>\n",
       "    <tr>\n",
       "      <th>0</th>\n",
       "      <td>2595</td>\n",
       "      <td>2009-11-21</td>\n",
       "    </tr>\n",
       "    <tr>\n",
       "      <th>1</th>\n",
       "      <td>2595</td>\n",
       "      <td>2009-12-05</td>\n",
       "    </tr>\n",
       "    <tr>\n",
       "      <th>2</th>\n",
       "      <td>2595</td>\n",
       "      <td>2009-12-10</td>\n",
       "    </tr>\n",
       "    <tr>\n",
       "      <th>3</th>\n",
       "      <td>2595</td>\n",
       "      <td>2010-04-09</td>\n",
       "    </tr>\n",
       "    <tr>\n",
       "      <th>4</th>\n",
       "      <td>2595</td>\n",
       "      <td>2010-05-25</td>\n",
       "    </tr>\n",
       "  </tbody>\n",
       "</table>\n",
       "</div>"
      ],
      "text/plain": [
       "   listing_id        date\n",
       "0        2595  2009-11-21\n",
       "1        2595  2009-12-05\n",
       "2        2595  2009-12-10\n",
       "3        2595  2010-04-09\n",
       "4        2595  2010-05-25"
      ]
     },
     "execution_count": 4,
     "metadata": {},
     "output_type": "execute_result"
    }
   ],
   "source": [
    "data_reviews.head()"
   ]
  },
  {
   "cell_type": "code",
   "execution_count": 5,
   "id": "3dee20fd-7102-4406-86fc-227da89ae68e",
   "metadata": {},
   "outputs": [
    {
     "data": {
      "text/plain": [
       "(37541, 18)"
      ]
     },
     "execution_count": 5,
     "metadata": {},
     "output_type": "execute_result"
    }
   ],
   "source": [
    "data_listings.shape"
   ]
  },
  {
   "cell_type": "code",
   "execution_count": 6,
   "id": "d0096574-9e73-4a75-9289-86a84cde72c9",
   "metadata": {},
   "outputs": [
    {
     "data": {
      "text/plain": [
       "(230, 2)"
      ]
     },
     "execution_count": 6,
     "metadata": {},
     "output_type": "execute_result"
    }
   ],
   "source": [
    "data_nh.shape"
   ]
  },
  {
   "cell_type": "code",
   "execution_count": 7,
   "id": "0be0308c-3d3e-4a72-a168-068de38785d8",
   "metadata": {},
   "outputs": [
    {
     "data": {
      "text/plain": [
       "(947328, 2)"
      ]
     },
     "execution_count": 7,
     "metadata": {},
     "output_type": "execute_result"
    }
   ],
   "source": [
    "data_reviews.shape"
   ]
  },
  {
   "cell_type": "markdown",
   "id": "23928c83-ae7d-4078-98e7-819c83d74e7d",
   "metadata": {},
   "source": [
    "### Análisis descriptivo de los datos de Airbnb"
   ]
  },
  {
   "cell_type": "markdown",
   "id": "6fb89b70-06b8-4537-86db-1b78320a4907",
   "metadata": {},
   "source": [
    "La siguiente sección ... . El proposito de esta sección es ..."
   ]
  },
  {
   "cell_type": "code",
   "execution_count": 8,
   "id": "44454f01-e0d7-4c0e-83f9-70ca97846598",
   "metadata": {},
   "outputs": [
    {
     "data": {
      "text/plain": [
       "Index(['id', 'name', 'host_id', 'host_name', 'neighbourhood_group',\n",
       "       'neighbourhood', 'latitude', 'longitude', 'room_type', 'price',\n",
       "       'minimum_nights', 'number_of_reviews', 'last_review',\n",
       "       'reviews_per_month', 'calculated_host_listings_count',\n",
       "       'availability_365', 'number_of_reviews_ltm', 'license'],\n",
       "      dtype='object')"
      ]
     },
     "execution_count": 8,
     "metadata": {},
     "output_type": "execute_result"
    }
   ],
   "source": [
    "data_listings.columns"
   ]
  },
  {
   "cell_type": "markdown",
   "id": "56424704-345f-4300-a7ad-b1c53226c9e7",
   "metadata": {},
   "source": [
    "> ### Consideraciones éticas"
   ]
  },
  {
   "cell_type": "markdown",
   "id": "1bdfac43-9af3-4970-b1fa-b82a75aa16f5",
   "metadata": {},
   "source": [
    "Las bases de datos utilizadas en este trabajo son públicas, se omite el nombre de los anfitriones por evitar que se identifiquen para preservar su privacidad."
   ]
  },
  {
   "cell_type": "markdown",
   "id": "ac4a4694-6922-482e-ae19-e184ab52acce",
   "metadata": {},
   "source": [
    "> ### Variables"
   ]
  },
  {
   "cell_type": "markdown",
   "id": "1626d595-9cee-4bcf-b7e2-633c18247d00",
   "metadata": {},
   "source": [
    "Las variables elegidas en este trabajo son:"
   ]
  },
  {
   "cell_type": "markdown",
   "id": "4e4ee5e7-449e-4f39-b5f6-dca731c65370",
   "metadata": {},
   "source": [
    " <>"
   ]
  },
  {
   "cell_type": "code",
   "execution_count": 9,
   "id": "e480ad51-5bac-4de6-aa39-be9bfeee09c5",
   "metadata": {},
   "outputs": [
    {
     "data": {
      "text/plain": [
       "22458"
      ]
     },
     "execution_count": 9,
     "metadata": {},
     "output_type": "execute_result"
    }
   ],
   "source": [
    "len(data_listings.host_id.unique())"
   ]
  },
  {
   "cell_type": "code",
   "execution_count": 10,
   "id": "9a468322-82ac-47e7-aa7c-24409c3afe67",
   "metadata": {},
   "outputs": [
    {
     "data": {
      "text/plain": [
       "Index(['listing_id', 'date'], dtype='object')"
      ]
     },
     "execution_count": 10,
     "metadata": {},
     "output_type": "execute_result"
    }
   ],
   "source": [
    "data_reviews.columns"
   ]
  },
  {
   "cell_type": "code",
   "execution_count": 11,
   "id": "2fa4e030-4b4d-4853-a698-bff11ce07641",
   "metadata": {},
   "outputs": [
    {
     "data": {
      "text/plain": [
       "'2024-09-04'"
      ]
     },
     "execution_count": 11,
     "metadata": {},
     "output_type": "execute_result"
    }
   ],
   "source": [
    "max(data_reviews.date)"
   ]
  },
  {
   "cell_type": "code",
   "execution_count": 12,
   "id": "09514b98-072e-4b3e-8a67-36db4979c823",
   "metadata": {},
   "outputs": [
    {
     "data": {
      "text/plain": [
       "'2009-05-25'"
      ]
     },
     "execution_count": 12,
     "metadata": {},
     "output_type": "execute_result"
    }
   ],
   "source": [
    "min(data_reviews.date)"
   ]
  },
  {
   "cell_type": "code",
   "execution_count": 13,
   "id": "5b53a144-faac-4c72-bb03-2f115914901a",
   "metadata": {},
   "outputs": [
    {
     "data": {
      "text/plain": [
       "26001"
      ]
     },
     "execution_count": 13,
     "metadata": {},
     "output_type": "execute_result"
    }
   ],
   "source": [
    "len(data_reviews.listing_id.unique())"
   ]
  },
  {
   "cell_type": "code",
   "execution_count": 14,
   "id": "3d66adda-37cb-460a-aa55-83e3fc80eb09",
   "metadata": {},
   "outputs": [
    {
     "data": {
      "text/plain": [
       "Index(['neighbourhood_group', 'neighbourhood'], dtype='object')"
      ]
     },
     "execution_count": 14,
     "metadata": {},
     "output_type": "execute_result"
    }
   ],
   "source": [
    "data_nh.columns"
   ]
  },
  {
   "cell_type": "code",
   "execution_count": 15,
   "id": "62e41d10-279e-4e07-b0b0-6ca4cb397ffa",
   "metadata": {},
   "outputs": [
    {
     "data": {
      "text/plain": [
       "230"
      ]
     },
     "execution_count": 15,
     "metadata": {},
     "output_type": "execute_result"
    }
   ],
   "source": [
    "len(data_nh.neighbourhood)"
   ]
  },
  {
   "cell_type": "code",
   "execution_count": 16,
   "id": "4959be4f-cbdf-4976-8cbd-92292f5cfbc5",
   "metadata": {},
   "outputs": [
    {
     "data": {
      "text/plain": [
       "225"
      ]
     },
     "execution_count": 16,
     "metadata": {},
     "output_type": "execute_result"
    }
   ],
   "source": [
    "len(data_listings.neighbourhood.unique())"
   ]
  },
  {
   "cell_type": "markdown",
   "id": "989bde42-c877-4051-ac35-4168488ea500",
   "metadata": {},
   "source": []
  },
  {
   "cell_type": "code",
   "execution_count": 17,
   "id": "c58aeea3-c843-419d-900b-65d5d3234c7b",
   "metadata": {},
   "outputs": [
    {
     "data": {
      "text/html": [
       "\n",
       "        <iframe\n",
       "            width=\"974\"\n",
       "            height=\"500\"\n",
       "            src=\"https://lookerstudio.google.com/embed/reporting/516f65e0-aaef-4a25-86ab-e1e99f1340db/page/CkkCE\"\n",
       "            frameborder=\"0\"\n",
       "            allowfullscreen\n",
       "            \n",
       "        ></iframe>\n",
       "        "
      ],
      "text/plain": [
       "<IPython.lib.display.IFrame at 0x7f4efc3c5190>"
      ]
     },
     "execution_count": 17,
     "metadata": {},
     "output_type": "execute_result"
    }
   ],
   "source": [
    "import IPython\n",
    "src1= 'https://lookerstudio.google.com/embed/reporting/516f65e0-aaef-4a25-86ab-e1e99f1340db/page/CkkCE'\n",
    "IPython.display.IFrame(src1, width=974, height=500)"
   ]
  },
  {
   "cell_type": "markdown",
   "id": "70b258d4-62f4-49b4-9a59-f7e05a459b72",
   "metadata": {},
   "source": [
    "<center> Figura #. Número de Airbnb por año. <center>"
   ]
  },
  {
   "cell_type": "markdown",
   "id": "6eddc2ef-abfa-420e-8245-ab63088bef22",
   "metadata": {},
   "source": [
    "Comparar el número de airbnbs por host"
   ]
  },
  {
   "cell_type": "code",
   "execution_count": null,
   "id": "08785c84-de00-4bc5-a24e-1cc176ec3888",
   "metadata": {},
   "outputs": [],
   "source": []
  }
 ],
 "metadata": {
  "kernelspec": {
   "display_name": "Python 3 (ipykernel)",
   "language": "python",
   "name": "python3"
  },
  "language_info": {
   "codemirror_mode": {
    "name": "ipython",
    "version": 3
   },
   "file_extension": ".py",
   "mimetype": "text/x-python",
   "name": "python",
   "nbconvert_exporter": "python",
   "pygments_lexer": "ipython3",
   "version": "3.8.19"
  }
 },
 "nbformat": 4,
 "nbformat_minor": 5
}
