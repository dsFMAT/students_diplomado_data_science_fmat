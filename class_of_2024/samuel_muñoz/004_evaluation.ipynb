{
 "cells": [
  {
   "cell_type": "markdown",
   "id": "3e4522f4-30d4-4d03-b33b-f39cb4a4a55a",
   "metadata": {},
   "source": [
    "## Ejercicios: "
   ]
  },
  {
   "cell_type": "markdown",
   "id": "50b5e4c9-20c0-4e59-b3d6-aabd21d4ba11",
   "metadata": {},
   "source": [
    "### Ejercicio 1: Verificar la Edad para Votar\n",
    "\n",
    "Escribe un script que verifique si una persona es elegible para votar. Una persona puede votar si tiene 18 años o más.\n"
   ]
  },
  {
   "cell_type": "code",
   "execution_count": 15,
   "id": "3b3fd414-939e-48ca-8424-bce7230a0893",
   "metadata": {},
   "outputs": [
    {
     "name": "stdin",
     "output_type": "stream",
     "text": [
      "Digita la edad:  20\n"
     ]
    },
    {
     "name": "stdout",
     "output_type": "stream",
     "text": [
      "La persona tiene la edad suficiente para votar\n"
     ]
    }
   ],
   "source": [
    "age = int(input(\"Digita la edad: \"))\n",
    "\n",
    "if age >= 18:\n",
    "    print(\"La persona tiene la edad suficiente para votar\")\n",
    "else:\n",
    "    print(\"La persona es menor de edad y no puede votar\")"
   ]
  },
  {
   "cell_type": "markdown",
   "id": "5e804b58-d17c-4713-9605-b6ed569e38bb",
   "metadata": {},
   "source": [
    "### Ejercicio 2. Clasificar un Número\n",
    "\n",
    "Escribe un programa que clasifique un número como positivo, negativo o cero. Usa la sentencia `elif`"
   ]
  },
  {
   "cell_type": "code",
   "execution_count": 17,
   "id": "dbec776f-3127-449c-bf66-c70a475d2080",
   "metadata": {},
   "outputs": [
    {
     "name": "stdin",
     "output_type": "stream",
     "text": [
      "Digita un numero:  0.5\n"
     ]
    },
    {
     "name": "stdout",
     "output_type": "stream",
     "text": [
      "El número es positivo\n"
     ]
    }
   ],
   "source": [
    "number= float(input(\"Digita un numero: \"))\n",
    "\n",
    "if number > 0:\n",
    "    print(\"El número es positivo\")\n",
    "elif number < 0:\n",
    "    print(\"El numero es negativo\")\n",
    "else:\n",
    "    print(\"El numero es 0\")"
   ]
  },
  {
   "cell_type": "markdown",
   "id": "00dbba2b-da89-4e0d-8d80-aa6af7162c70",
   "metadata": {},
   "source": [
    "### Ejercicio 3: Calcular la Tarifa de Envío\n",
    "\n",
    "Escribe un programa que determine la tarifa de envío basada en el peso del paquete.\n",
    "\n",
    "* Si el peso es menor o igual a 1 kg, la tarifa es de \\$5 .\n",
    "* Si el peso es mayor a 1 kg y menor o igual a 5 kg, la tarifa es de \\$10.\n",
    "* Si el peso es mayor a 5 kg, la tarifa es de \\$15."
   ]
  },
  {
   "cell_type": "code",
   "execution_count": 18,
   "id": "d8a87b9c-d506-400c-87fc-d647a8c2d3e7",
   "metadata": {},
   "outputs": [
    {
     "name": "stdin",
     "output_type": "stream",
     "text": [
      "Digita el peso del paquete:  20\n"
     ]
    },
    {
     "name": "stdout",
     "output_type": "stream",
     "text": [
      "Dado que el peso del paquete es 20.0, la tarifa de envío es de: 15\n"
     ]
    }
   ],
   "source": [
    "weight = float(input(\"Digita el peso del paquete: \"))\n",
    "\n",
    "if weight <= 1:\n",
    "    tarifa = 5\n",
    "elif weight > 1 and weight <= 5:\n",
    "    tarifa = 10\n",
    "else:\n",
    "    tarifa = 15\n",
    "\n",
    "print(f\"Dado que el peso del paquete es {weight}, la tarifa de envío es de: {tarifa}\")"
   ]
  },
  {
   "cell_type": "markdown",
   "id": "5188a9f2-98ef-4a93-b0b7-1238f6846af4",
   "metadata": {},
   "source": [
    "### Ejercicio 4. Verificar si un número es par y positivo\n",
    "\n",
    "Escribe un programa que determine si un número es par y positivo. Usa condiciones multiples\n",
    "\n"
   ]
  },
  {
   "cell_type": "code",
   "execution_count": 19,
   "id": "691ec6a4-f165-4047-b556-adc2ddc135f8",
   "metadata": {},
   "outputs": [
    {
     "name": "stdin",
     "output_type": "stream",
     "text": [
      "Digita un numero entero:  22\n"
     ]
    },
    {
     "name": "stdout",
     "output_type": "stream",
     "text": [
      "El número dado es par y positivo\n"
     ]
    }
   ],
   "source": [
    "numero = int(input(\"Digita un numero entero: \"))\n",
    "\n",
    "if numero % 2 == 0 and numero > 0:\n",
    "    print(\"El número dado es par y positivo\")\n",
    "else:\n",
    "    print(\"El número dado no cumple las condiciones para que sea par y positivo\")"
   ]
  }
 ],
 "metadata": {
  "kernelspec": {
   "display_name": "Python 3 (ipykernel)",
   "language": "python",
   "name": "python3"
  },
  "language_info": {
   "codemirror_mode": {
    "name": "ipython",
    "version": 3
   },
   "file_extension": ".py",
   "mimetype": "text/x-python",
   "name": "python",
   "nbconvert_exporter": "python",
   "pygments_lexer": "ipython3",
   "version": "3.8.19"
  }
 },
 "nbformat": 4,
 "nbformat_minor": 5
}
