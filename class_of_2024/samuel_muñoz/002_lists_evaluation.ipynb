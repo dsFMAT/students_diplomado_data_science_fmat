{
 "cells": [
  {
   "cell_type": "markdown",
   "id": "4f7040f6-5da7-47f6-b077-8b8100f444a8",
   "metadata": {},
   "source": [
    "# Ejercicio\n",
    "\n",
    "Transformar una lista usando operaciones básicas\n",
    "\n",
    "Objetivo: Usar las operaciones de listas append, insert, del, pop, remove y modificación de elementos existentes para transformar la lista inicial en la lista objetivo.\n",
    "\n",
    "**Usar todas las opciones de manipulación de listas vistas en este notebook**\n",
    "\n",
    "Lista inicial:\n"
   ]
  },
  {
   "cell_type": "code",
   "execution_count": 39,
   "id": "bcc50554-b848-4324-9fe5-a57092fdeacf",
   "metadata": {},
   "outputs": [],
   "source": [
    "\n",
    "my_list = ['this', 'list', 'is', 'twenty', '25']\n"
   ]
  },
  {
   "cell_type": "code",
   "execution_count": null,
   "id": "3a16781f-4372-4823-a1ea-0dcdb8ef869c",
   "metadata": {},
   "outputs": [],
   "source": [
    "\n",
    "my_list = ['this list', 'is', 'fifty', '50']\n"
   ]
  },
  {
   "cell_type": "code",
   "execution_count": 41,
   "id": "853b359c-ab58-4186-856b-567499b10cb0",
   "metadata": {},
   "outputs": [
    {
     "ename": "IndexError",
     "evalue": "list assignment index out of range",
     "output_type": "error",
     "traceback": [
      "\u001b[0;31m---------------------------------------------------------------------------\u001b[0m",
      "\u001b[0;31mIndexError\u001b[0m                                Traceback (most recent call last)",
      "Cell \u001b[0;32mIn[41], line 5\u001b[0m\n\u001b[1;32m      3\u001b[0m \u001b[38;5;28;01mdel\u001b[39;00m my_list[\u001b[38;5;241m1\u001b[39m], my_list[\u001b[38;5;241m1\u001b[39m]\n\u001b[1;32m      4\u001b[0m my_list[\u001b[38;5;241m2\u001b[39m] \u001b[38;5;241m=\u001b[39m \u001b[38;5;124m'\u001b[39m\u001b[38;5;124mfifty\u001b[39m\u001b[38;5;124m'\u001b[39m\n\u001b[0;32m----> 5\u001b[0m \u001b[43mmy_list\u001b[49m\u001b[43m[\u001b[49m\u001b[38;5;241;43m3\u001b[39;49m\u001b[43m]\u001b[49m \u001b[38;5;241m=\u001b[39m \u001b[38;5;124m'\u001b[39m\u001b[38;5;124m50\u001b[39m\u001b[38;5;124m'\u001b[39m\n\u001b[1;32m      6\u001b[0m \u001b[38;5;28mprint\u001b[39m(my_list)\n\u001b[1;32m      7\u001b[0m \u001b[38;5;66;03m## Resultado\u001b[39;00m\n",
      "\u001b[0;31mIndexError\u001b[0m: list assignment index out of range"
     ]
    }
   ],
   "source": [
    "## Responde el ejercicio en esta celda\n",
    "my_list.insert(0, my_list[0] + \" \" +  my_list[1])\n",
    "del my_list[1], my_list[1]\n",
    "my_list[2] = 'fifty'\n",
    "my_list[3] = '50'\n",
    "print(my_list)\n",
    "## Resultado\n",
    "\n",
    "\n",
    "\n"
   ]
  }
 ],
 "metadata": {
  "kernelspec": {
   "display_name": "Python 3 (ipykernel)",
   "language": "python",
   "name": "python3"
  },
  "language_info": {
   "codemirror_mode": {
    "name": "ipython",
    "version": 3
   },
   "file_extension": ".py",
   "mimetype": "text/x-python",
   "name": "python",
   "nbconvert_exporter": "python",
   "pygments_lexer": "ipython3",
   "version": "3.8.19"
  }
 },
 "nbformat": 4,
 "nbformat_minor": 5
}
