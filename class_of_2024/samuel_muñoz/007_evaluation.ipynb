{
 "cells": [
  {
   "cell_type": "markdown",
   "id": "24eff452-17c0-421d-8744-7f1120c23a25",
   "metadata": {},
   "source": [
    "# Ejercicio"
   ]
  },
  {
   "cell_type": "markdown",
   "id": "27571c32-e596-42f8-a6df-981125147842",
   "metadata": {},
   "source": [
    "Instrucciones:\n",
    "\n",
    "1. Crea un diccionario llamado libro con las siguientes llaves y valores:\n",
    "\n",
    "'title': 'Cien Años de Soledad'\n",
    "'author': 'Gabriel García Márquez'\n",
    "'year': 1967\n",
    "\n",
    "2. Imprime el valor asociado a la llave 'título' y 'autor' del diccionario libro.\n",
    "\n",
    "3. Agrega una nueva entrada al diccionario: 'genre': 'Realismo mágico'.\n",
    "\n",
    "5. Modifica el valor asociado a la llave 'year' para que sea 1968.\n",
    "\n",
    "6. Elimina la entrada con la llave 'autor'.\n",
    "\n",
    "7. Muestra todas las llaves del diccionario usando el método keys().\n",
    "\n",
    "8. Muestra todos los valores del diccionario usando el método values().\n",
    "\n",
    "9. Muestra todos los pares llave-valor del diccionario usando el método items().\n",
    "\n",
    "10. Usa el método get() para obtener el valor asociado a la llave 'género'.\n",
    "\n",
    "11. Crea un diccionario llamado inventary con las siguientes llaves y valores:\n",
    "\n",
    "* 'pencils': 20\n",
    "* 'books': 10\n",
    "* 'erasers': 5\n",
    "\n",
    "12. Agrega una nueva entrada: 'markers': 15.\n",
    "\n",
    "13. Modifica el valor asociado a la llave 'books' para que sea 12.\n",
    "\n",
    "14. Muestra el diccionario resultante."
   ]
  },
  {
   "cell_type": "code",
   "execution_count": 17,
   "id": "0cdb85fe-7dc4-46dd-973f-6f14f951e7bf",
   "metadata": {},
   "outputs": [
    {
     "name": "stdout",
     "output_type": "stream",
     "text": [
      "{'title': 'Cien Años de Soledad', 'author': 'Gabriel García Márquez', 'year': 1967}\n"
     ]
    }
   ],
   "source": [
    "### Inciso 1\n",
    "libro = {'title': 'Cien Años de Soledad',\n",
    "         'author': 'Gabriel García Márquez',\n",
    "         'year': 1967}\n",
    "print(libro)"
   ]
  },
  {
   "cell_type": "code",
   "execution_count": 18,
   "id": "1eaad9b8-baa2-4c40-b8a2-f3ac186257e2",
   "metadata": {},
   "outputs": [
    {
     "name": "stdout",
     "output_type": "stream",
     "text": [
      "Cien Años de Soledad\n",
      "Gabriel García Márquez\n"
     ]
    }
   ],
   "source": [
    "### Inciso 2\n",
    "print(libro['title'])\n",
    "print(libro['author'])"
   ]
  },
  {
   "cell_type": "code",
   "execution_count": 19,
   "id": "8f6a70d9-c552-4ae8-8498-454ac3d08d65",
   "metadata": {},
   "outputs": [
    {
     "name": "stdout",
     "output_type": "stream",
     "text": [
      "{'title': 'Cien Años de Soledad', 'author': 'Gabriel García Márquez', 'year': 1967, 'genre': 'Realismo mágico'}\n"
     ]
    }
   ],
   "source": [
    "### Inciso 3\n",
    "libro['genre'] = 'Realismo mágico'\n",
    "print(libro)"
   ]
  },
  {
   "cell_type": "code",
   "execution_count": 20,
   "id": "27403390-93d3-471f-a9c0-887d27d9505c",
   "metadata": {},
   "outputs": [
    {
     "name": "stdout",
     "output_type": "stream",
     "text": [
      "{'title': 'Cien Años de Soledad', 'author': 'Gabriel García Márquez', 'year': 1968, 'genre': 'Realismo mágico'}\n"
     ]
    }
   ],
   "source": [
    "### Inciso 4\n",
    "libro['year'] = 1968\n",
    "print(libro)"
   ]
  },
  {
   "cell_type": "code",
   "execution_count": 21,
   "id": "397eecec-8a10-455a-ad54-5416bac4fe8e",
   "metadata": {},
   "outputs": [
    {
     "name": "stdout",
     "output_type": "stream",
     "text": [
      "{'title': 'Cien Años de Soledad', 'year': 1968, 'genre': 'Realismo mágico'}\n"
     ]
    }
   ],
   "source": [
    "### Inciso 5\n",
    "del libro['author']\n",
    "print(libro)"
   ]
  },
  {
   "cell_type": "code",
   "execution_count": 22,
   "id": "5491c798-51f0-4a7e-8431-aff291f5d12c",
   "metadata": {},
   "outputs": [
    {
     "name": "stdout",
     "output_type": "stream",
     "text": [
      "dict_keys(['title', 'year', 'genre'])\n"
     ]
    }
   ],
   "source": [
    "### Inciso 6\n",
    "print(libro.keys())"
   ]
  },
  {
   "cell_type": "code",
   "execution_count": 23,
   "id": "42c89e32-a3fb-4da4-957a-83e007220203",
   "metadata": {},
   "outputs": [
    {
     "name": "stdout",
     "output_type": "stream",
     "text": [
      "dict_values(['Cien Años de Soledad', 1968, 'Realismo mágico'])\n"
     ]
    }
   ],
   "source": [
    "### Inciso 7\n",
    "print(libro.values())"
   ]
  },
  {
   "cell_type": "code",
   "execution_count": 24,
   "id": "bbf211bd-cc45-4e28-a5bd-7ebeff1f1be8",
   "metadata": {},
   "outputs": [
    {
     "name": "stdout",
     "output_type": "stream",
     "text": [
      "dict_items([('title', 'Cien Años de Soledad'), ('year', 1968), ('genre', 'Realismo mágico')])\n"
     ]
    }
   ],
   "source": [
    "### Inciso 8\n",
    "print(libro.items())"
   ]
  },
  {
   "cell_type": "code",
   "execution_count": 25,
   "id": "017372a6-4b4b-47ce-95a1-466a1d3ae24d",
   "metadata": {},
   "outputs": [
    {
     "name": "stdout",
     "output_type": "stream",
     "text": [
      "Realismo mágico\n"
     ]
    }
   ],
   "source": [
    "### Inciso 9\n",
    "print(libro.get('genre'))"
   ]
  },
  {
   "cell_type": "code",
   "execution_count": 26,
   "id": "e2602082-885e-401d-9f04-98549b6c6f49",
   "metadata": {},
   "outputs": [
    {
     "name": "stdout",
     "output_type": "stream",
     "text": [
      "{'pencils': 20, 'books': 10, 'erasers': 5}\n"
     ]
    }
   ],
   "source": [
    "### Inciso 10\n",
    "\n",
    "inventory = {'pencils': 20,\n",
    "         'books': 10,\n",
    "         'erasers': 5}\n",
    "print(inventory)"
   ]
  },
  {
   "cell_type": "code",
   "execution_count": 28,
   "id": "eda75a51-aca8-432f-9d56-53f8a9c86a7e",
   "metadata": {},
   "outputs": [
    {
     "name": "stdout",
     "output_type": "stream",
     "text": [
      "{'pencils': 20, 'books': 10, 'erasers': 5, 'markers': 15}\n"
     ]
    }
   ],
   "source": [
    "### Inciso 11\n",
    "inventory['markers'] = 15\n",
    "print(inventory)"
   ]
  },
  {
   "cell_type": "code",
   "execution_count": 29,
   "id": "a55f4209-1cc3-4451-b429-2aaaefa16aa4",
   "metadata": {},
   "outputs": [
    {
     "name": "stdout",
     "output_type": "stream",
     "text": [
      "{'pencils': 20, 'books': 12, 'erasers': 5, 'markers': 15}\n"
     ]
    }
   ],
   "source": [
    "### Inciso 12\n",
    "inventory['books'] = 12\n",
    "print(inventory)"
   ]
  },
  {
   "cell_type": "code",
   "execution_count": 30,
   "id": "89ade80a-dbb6-4f9a-b800-5fb803d854d4",
   "metadata": {},
   "outputs": [
    {
     "name": "stdout",
     "output_type": "stream",
     "text": [
      "dict_items([('pencils', 20), ('books', 12), ('erasers', 5), ('markers', 15)])\n"
     ]
    }
   ],
   "source": [
    "### Inciso 13\n",
    "print(inventory.items())"
   ]
  },
  {
   "cell_type": "markdown",
   "id": "44324513-2a6d-4ffa-9db7-e4a6e4785da9",
   "metadata": {},
   "source": [
    "# Ejercicio Opcional"
   ]
  },
  {
   "cell_type": "markdown",
   "id": "d3f3f9aa-a02b-494b-8e5e-0b82d41bd85b",
   "metadata": {},
   "source": [
    "Vamos a crear un programa para gestionar una lista de contactos utilizando diccionarios. El programa permitirá al usuario realizar las siguientes operaciones:\n",
    "\n",
    "* Añadir un nuevo contacto.\n",
    "* Modificar el número de teléfono de un contacto existente.\n",
    "* Eliminar un contacto.\n",
    "* Mostrar todos los contactos.\n",
    "\n",
    "Instrucciones:\n",
    "\n",
    "1. Define un diccionario llamado contactos para almacenar los nombres como llaves y los números de teléfono como valores.\n",
    "2. Crea funciones para cada una de las operaciones:\n",
    "    * agregar_contacto(contactos, nombre, telefono)\n",
    "    * modificar_contacto(contactos, nombre, telefono)\n",
    "    * eliminar_contacto(contactos, nombre)\n",
    "    * mostrar_contactos(contactos)\n",
    "3. Implementa un menú que permita al usuario elegir la operación que desea realizar.\n",
    "4. Utiliza un ciclo para mantener el programa en ejecución hasta que el usuario decida salir.\n",
    "\n",
    "Hint: Usa la siguiente estructura\n"
   ]
  },
  {
   "cell_type": "code",
   "execution_count": 34,
   "id": "18637e21-4b7e-4844-84e9-b28459977138",
   "metadata": {},
   "outputs": [
    {
     "name": "stdout",
     "output_type": "stream",
     "text": [
      "\n",
      "Gestión de Contactos\n",
      "1. Agregar contacto\n",
      "2. Modificar contacto\n",
      "3. Eliminar contacto\n",
      "4. Mostrar contactos\n",
      "5. Salir\n"
     ]
    },
    {
     "name": "stdin",
     "output_type": "stream",
     "text": [
      "Elige una opción (1-5):  1\n",
      "Introduce el nombre del contacto:  Samuel\n",
      "Introduce el número de teléfono:  93823\n"
     ]
    },
    {
     "name": "stdout",
     "output_type": "stream",
     "text": [
      "Contacto 'Samuel' agregado con número 93823.\n",
      "\n",
      "Gestión de Contactos\n",
      "1. Agregar contacto\n",
      "2. Modificar contacto\n",
      "3. Eliminar contacto\n",
      "4. Mostrar contactos\n",
      "5. Salir\n"
     ]
    },
    {
     "name": "stdin",
     "output_type": "stream",
     "text": [
      "Elige una opción (1-5):  ee\n"
     ]
    },
    {
     "name": "stdout",
     "output_type": "stream",
     "text": [
      "Opción no válida. Inténtalo de nuevo.\n",
      "\n",
      "Gestión de Contactos\n",
      "1. Agregar contacto\n",
      "2. Modificar contacto\n",
      "3. Eliminar contacto\n",
      "4. Mostrar contactos\n",
      "5. Salir\n"
     ]
    },
    {
     "name": "stdin",
     "output_type": "stream",
     "text": [
      "Elige una opción (1-5):  5\n"
     ]
    },
    {
     "name": "stdout",
     "output_type": "stream",
     "text": [
      "Saliendo del programa.\n"
     ]
    }
   ],
   "source": [
    "# Definir el diccionario de contactos\n",
    "contactos = {}\n",
    "\n",
    "# Función para agregar un nuevo contacto\n",
    "def agregar_contacto(contactos, nombre, telefono):\n",
    "    if nombre in contactos:\n",
    "        print(f\"El contacto '{nombre}' ya existe.\")\n",
    "    else:\n",
    "        contactos[nombre] = telefono\n",
    "        print(f\"Contacto '{nombre}' agregado con número {telefono}.\")\n",
    "\n",
    "# Función para modificar el número de teléfono de un contacto existente\n",
    "def modificar_contacto(contactos, nombre, telefono):\n",
    "    if nombre in contactos:\n",
    "        \n",
    "        print(f\"Número de teléfono del contacto '{nombre}' actualizado a {telefono}.\")\n",
    "    else:\n",
    "        print(f\"El contacto '{nombre}' no existe.\")\n",
    "\n",
    "# Función para eliminar un contacto\n",
    "def eliminar_contacto(contactos, nombre):\n",
    "    if nombre in contactos:\n",
    "        \n",
    "        print(f\"Contacto '{nombre}' eliminado.\")\n",
    "    else:\n",
    "        print(f\"El contacto '{nombre}' no existe.\")\n",
    "\n",
    "# Función para mostrar todos los contactos\n",
    "def mostrar_contactos(contactos):\n",
    "    if contactos:\n",
    "        print(\"\\nLista de contactos:\")\n",
    "        for nombre, telefono in contactos:\n",
    "            print(f\"Nombre: {nombre}, Teléfono: {telefono}\")\n",
    "    else:\n",
    "        print(\"No hay contactos en la lista.\")\n",
    "\n",
    "# Menú para gestionar los contactos\n",
    "def menu():\n",
    "    while True:\n",
    "        print(\"\\nGestión de Contactos\")\n",
    "        print(\"1. Agregar contacto\")\n",
    "        print(\"2. Modificar contacto\")\n",
    "        print(\"3. Eliminar contacto\")\n",
    "        print(\"4. Mostrar contactos\")\n",
    "        print(\"5. Salir\")\n",
    "\n",
    "        opcion = input(\"Elige una opción (1-5): \")\n",
    "\n",
    "        if opcion == '1':\n",
    "            nombre = input(\"Introduce el nombre del contacto: \")\n",
    "            telefono = input(\"Introduce el número de teléfono: \")\n",
    "            agregar_contacto(contactos, nombre, telefono)\n",
    "        elif opcion == '2':\n",
    "            nombre = input(\"Introduce el nombre del contacto: \")\n",
    "            telefono = input(\"Introduce el nuevo número de teléfono: \")\n",
    "            modificar_contacto(contactos, nombre, telefono)\n",
    "        elif opcion == '3':\n",
    "            nombre = input(\"Introduce el nombre del contacto: \")\n",
    "            eliminar_contacto(contactos, nombre)\n",
    "        elif opcion == '4':\n",
    "            mostrar_contactos(contactos)\n",
    "        elif opcion == '5':\n",
    "            print(\"Saliendo del programa.\")\n",
    "            break\n",
    "        else:\n",
    "            print(\"Opción no válida. Inténtalo de nuevo.\")\n",
    "\n",
    "# Ejecutar el menú\n",
    "menu()\n"
   ]
  },
  {
   "cell_type": "code",
   "execution_count": null,
   "id": "e97eba19-6511-41eb-b392-63e430a6967d",
   "metadata": {},
   "outputs": [],
   "source": []
  }
 ],
 "metadata": {
  "kernelspec": {
   "display_name": "Python 3 (ipykernel)",
   "language": "python",
   "name": "python3"
  },
  "language_info": {
   "codemirror_mode": {
    "name": "ipython",
    "version": 3
   },
   "file_extension": ".py",
   "mimetype": "text/x-python",
   "name": "python",
   "nbconvert_exporter": "python",
   "pygments_lexer": "ipython3",
   "version": "3.8.19"
  }
 },
 "nbformat": 4,
 "nbformat_minor": 5
}
