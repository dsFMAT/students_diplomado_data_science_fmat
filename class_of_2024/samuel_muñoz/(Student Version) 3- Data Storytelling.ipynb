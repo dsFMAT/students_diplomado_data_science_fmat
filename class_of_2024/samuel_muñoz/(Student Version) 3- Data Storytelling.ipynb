{
 "cells": [
  {
   "cell_type": "markdown",
   "metadata": {
    "slideshow": {
     "slide_type": "slide"
    }
   },
   "source": [
    "#### Diplomado en Ciencia de Datos\n",
    "Módulo 2: Business Intelligence  \n",
    "## **Tema 3: Data Storytelling**\n",
    "\n",
    "*Notebook by [Pedro V Hernandez Serrano](https://github.com/pedrohserrano)*"
   ]
  },
  {
   "cell_type": "markdown",
   "metadata": {},
   "source": [
    "---\n",
    "![](../img/header.jpg)"
   ]
  },
  {
   "cell_type": "markdown",
   "metadata": {
    "id": "p7PZsxSeh8ij",
    "tags": []
   },
   "source": [
    "# Creando narrativas de datos desde un jupyter notebook\n",
    "\n",
    "El poder de los lenguajes de programación es tal que nos permite crear **librerías (o paquetes)** reutilizables cuyo propósito es resolver tareas específicas. Mi ejemplo favorito del uso de python en la visualización de datos evento científico reciente, en el que la Dra. Katie Bouman lideró el equipo que \"tomó una fotografía\" de un agujero negro por primera vez en la historia utilizando únicamente bibliotecas de Python para lograrlo. Historia aquí: [\"how imaging a blackhole gives us one more reason to embrace python for larger datasets?](https://analyticsindiamag.com/how-imaging-a-blackhole-gives-us-one-more-reason-to-embrace-python-for-larger-datasets/)\n",
    "\n",
    "Los ejemplos que se dan en este notebook se han adaptado del [artículo de anuncio de Medium](https://medium.com/@plotlygraphs/introducing-plotly-express-808df010143d) que presenta [Plotly Express](https://plotly.express): una **biblioteca** basada en `Plotly.py` para la exploración rápida de datos y la generación de gráficas."
   ]
  },
  {
   "cell_type": "markdown",
   "metadata": {
    "id": "j7T4yWUbULxL"
   },
   "source": [
    "**Nota:** Dado que **Plotly Express** es una biblioteca externa, es necesario instalarla antes de ejecutarla.\n",
    "\n",
    "```shell\n",
    "!pip install plotly\n",
    "```"
   ]
  },
  {
   "cell_type": "markdown",
   "metadata": {},
   "source": [
    "**EN CASO DE NO TENER INSTALADO `plotly`:**"
   ]
  },
  {
   "cell_type": "code",
   "execution_count": 1,
   "metadata": {},
   "outputs": [
    {
     "name": "stdout",
     "output_type": "stream",
     "text": [
      "Collecting plotly\n",
      "  Downloading plotly-5.24.1-py3-none-any.whl.metadata (7.3 kB)\n",
      "Collecting tenacity>=6.2.0 (from plotly)\n",
      "  Downloading tenacity-9.0.0-py3-none-any.whl.metadata (1.2 kB)\n",
      "Requirement already satisfied: packaging in /opt/venv/lib/python3.8/site-packages (from plotly) (24.1)\n",
      "Downloading plotly-5.24.1-py3-none-any.whl (19.1 MB)\n",
      "\u001b[2K   \u001b[90m━━━━━━━━━━━━━━━━━━━━━━━━━━━━━━━━━━━━━━━━\u001b[0m \u001b[32m19.1/19.1 MB\u001b[0m \u001b[31m6.5 MB/s\u001b[0m eta \u001b[36m0:00:00\u001b[0m00:01\u001b[0m00:01\u001b[0m\n",
      "\u001b[?25hDownloading tenacity-9.0.0-py3-none-any.whl (28 kB)\n",
      "Installing collected packages: tenacity, plotly\n",
      "Successfully installed plotly-5.24.1 tenacity-9.0.0\n",
      "\n",
      "\u001b[1m[\u001b[0m\u001b[34;49mnotice\u001b[0m\u001b[1;39;49m]\u001b[0m\u001b[39;49m A new release of pip is available: \u001b[0m\u001b[31;49m24.1.2\u001b[0m\u001b[39;49m -> \u001b[0m\u001b[32;49m24.2\u001b[0m\n",
      "\u001b[1m[\u001b[0m\u001b[34;49mnotice\u001b[0m\u001b[1;39;49m]\u001b[0m\u001b[39;49m To update, run: \u001b[0m\u001b[32;49mpip install --upgrade pip\u001b[0m\n"
     ]
    }
   ],
   "source": [
    "!pip install plotly"
   ]
  },
  {
   "cell_type": "markdown",
   "metadata": {},
   "source": [
    "**Ahora Reinicia el kernel de este notebook en el menú `Kernel > Restart Kernel`**\n",
    "\n",
    "En caso de ya tener instalado `plotly`, continúa con los siguientes pasos"
   ]
  },
  {
   "cell_type": "code",
   "execution_count": 1,
   "metadata": {
    "slideshow": {
     "slide_type": "subslide"
    },
    "tags": []
   },
   "outputs": [],
   "source": [
    "import plotly.express as px\n",
    "import plotly.io as pio\n",
    "pio.renderers.default = 'iframe'"
   ]
  },
  {
   "cell_type": "markdown",
   "metadata": {},
   "source": [
    "## The Data: Global flows\n",
    "\n",
    "Para este notebook, usaremos el [ejemplo de Gapminder](https://www.gapminder.org/fw/world-health-chart/), un dataset que ya está contenido en la biblioteca de Plotly, pero también en un CSV en este repo. El dataset contiene información sobre la esperanza de vida, la población y el PIB per cápita de los países por año."
   ]
  },
  {
   "cell_type": "code",
   "execution_count": 3,
   "metadata": {
    "tags": []
   },
   "outputs": [
    {
     "data": {
      "text/html": [
       "<div>\n",
       "<style scoped>\n",
       "    .dataframe tbody tr th:only-of-type {\n",
       "        vertical-align: middle;\n",
       "    }\n",
       "\n",
       "    .dataframe tbody tr th {\n",
       "        vertical-align: top;\n",
       "    }\n",
       "\n",
       "    .dataframe thead th {\n",
       "        text-align: right;\n",
       "    }\n",
       "</style>\n",
       "<table border=\"1\" class=\"dataframe\">\n",
       "  <thead>\n",
       "    <tr style=\"text-align: right;\">\n",
       "      <th></th>\n",
       "      <th>country</th>\n",
       "      <th>continent</th>\n",
       "      <th>year</th>\n",
       "      <th>lifeExp</th>\n",
       "      <th>pop</th>\n",
       "      <th>gdpPercap</th>\n",
       "      <th>iso_alpha</th>\n",
       "      <th>iso_num</th>\n",
       "    </tr>\n",
       "  </thead>\n",
       "  <tbody>\n",
       "    <tr>\n",
       "      <th>0</th>\n",
       "      <td>Afghanistan</td>\n",
       "      <td>Asia</td>\n",
       "      <td>1952</td>\n",
       "      <td>28.801</td>\n",
       "      <td>8425333</td>\n",
       "      <td>779.445314</td>\n",
       "      <td>AFG</td>\n",
       "      <td>4</td>\n",
       "    </tr>\n",
       "    <tr>\n",
       "      <th>1</th>\n",
       "      <td>Afghanistan</td>\n",
       "      <td>Asia</td>\n",
       "      <td>1957</td>\n",
       "      <td>30.332</td>\n",
       "      <td>9240934</td>\n",
       "      <td>820.853030</td>\n",
       "      <td>AFG</td>\n",
       "      <td>4</td>\n",
       "    </tr>\n",
       "    <tr>\n",
       "      <th>2</th>\n",
       "      <td>Afghanistan</td>\n",
       "      <td>Asia</td>\n",
       "      <td>1962</td>\n",
       "      <td>31.997</td>\n",
       "      <td>10267083</td>\n",
       "      <td>853.100710</td>\n",
       "      <td>AFG</td>\n",
       "      <td>4</td>\n",
       "    </tr>\n",
       "    <tr>\n",
       "      <th>3</th>\n",
       "      <td>Afghanistan</td>\n",
       "      <td>Asia</td>\n",
       "      <td>1967</td>\n",
       "      <td>34.020</td>\n",
       "      <td>11537966</td>\n",
       "      <td>836.197138</td>\n",
       "      <td>AFG</td>\n",
       "      <td>4</td>\n",
       "    </tr>\n",
       "    <tr>\n",
       "      <th>4</th>\n",
       "      <td>Afghanistan</td>\n",
       "      <td>Asia</td>\n",
       "      <td>1972</td>\n",
       "      <td>36.088</td>\n",
       "      <td>13079460</td>\n",
       "      <td>739.981106</td>\n",
       "      <td>AFG</td>\n",
       "      <td>4</td>\n",
       "    </tr>\n",
       "    <tr>\n",
       "      <th>...</th>\n",
       "      <td>...</td>\n",
       "      <td>...</td>\n",
       "      <td>...</td>\n",
       "      <td>...</td>\n",
       "      <td>...</td>\n",
       "      <td>...</td>\n",
       "      <td>...</td>\n",
       "      <td>...</td>\n",
       "    </tr>\n",
       "    <tr>\n",
       "      <th>1699</th>\n",
       "      <td>Zimbabwe</td>\n",
       "      <td>Africa</td>\n",
       "      <td>1987</td>\n",
       "      <td>62.351</td>\n",
       "      <td>9216418</td>\n",
       "      <td>706.157306</td>\n",
       "      <td>ZWE</td>\n",
       "      <td>716</td>\n",
       "    </tr>\n",
       "    <tr>\n",
       "      <th>1700</th>\n",
       "      <td>Zimbabwe</td>\n",
       "      <td>Africa</td>\n",
       "      <td>1992</td>\n",
       "      <td>60.377</td>\n",
       "      <td>10704340</td>\n",
       "      <td>693.420786</td>\n",
       "      <td>ZWE</td>\n",
       "      <td>716</td>\n",
       "    </tr>\n",
       "    <tr>\n",
       "      <th>1701</th>\n",
       "      <td>Zimbabwe</td>\n",
       "      <td>Africa</td>\n",
       "      <td>1997</td>\n",
       "      <td>46.809</td>\n",
       "      <td>11404948</td>\n",
       "      <td>792.449960</td>\n",
       "      <td>ZWE</td>\n",
       "      <td>716</td>\n",
       "    </tr>\n",
       "    <tr>\n",
       "      <th>1702</th>\n",
       "      <td>Zimbabwe</td>\n",
       "      <td>Africa</td>\n",
       "      <td>2002</td>\n",
       "      <td>39.989</td>\n",
       "      <td>11926563</td>\n",
       "      <td>672.038623</td>\n",
       "      <td>ZWE</td>\n",
       "      <td>716</td>\n",
       "    </tr>\n",
       "    <tr>\n",
       "      <th>1703</th>\n",
       "      <td>Zimbabwe</td>\n",
       "      <td>Africa</td>\n",
       "      <td>2007</td>\n",
       "      <td>43.487</td>\n",
       "      <td>12311143</td>\n",
       "      <td>469.709298</td>\n",
       "      <td>ZWE</td>\n",
       "      <td>716</td>\n",
       "    </tr>\n",
       "  </tbody>\n",
       "</table>\n",
       "<p>1704 rows × 8 columns</p>\n",
       "</div>"
      ],
      "text/plain": [
       "          country continent  year  lifeExp       pop   gdpPercap iso_alpha  \\\n",
       "0     Afghanistan      Asia  1952   28.801   8425333  779.445314       AFG   \n",
       "1     Afghanistan      Asia  1957   30.332   9240934  820.853030       AFG   \n",
       "2     Afghanistan      Asia  1962   31.997  10267083  853.100710       AFG   \n",
       "3     Afghanistan      Asia  1967   34.020  11537966  836.197138       AFG   \n",
       "4     Afghanistan      Asia  1972   36.088  13079460  739.981106       AFG   \n",
       "...           ...       ...   ...      ...       ...         ...       ...   \n",
       "1699     Zimbabwe    Africa  1987   62.351   9216418  706.157306       ZWE   \n",
       "1700     Zimbabwe    Africa  1992   60.377  10704340  693.420786       ZWE   \n",
       "1701     Zimbabwe    Africa  1997   46.809  11404948  792.449960       ZWE   \n",
       "1702     Zimbabwe    Africa  2002   39.989  11926563  672.038623       ZWE   \n",
       "1703     Zimbabwe    Africa  2007   43.487  12311143  469.709298       ZWE   \n",
       "\n",
       "      iso_num  \n",
       "0           4  \n",
       "1           4  \n",
       "2           4  \n",
       "3           4  \n",
       "4           4  \n",
       "...       ...  \n",
       "1699      716  \n",
       "1700      716  \n",
       "1701      716  \n",
       "1702      716  \n",
       "1703      716  \n",
       "\n",
       "[1704 rows x 8 columns]"
      ]
     },
     "execution_count": 3,
     "metadata": {},
     "output_type": "execute_result"
    }
   ],
   "source": [
    "import pandas as pd\n",
    "dataset = pd.read_csv('../../../data-visualization-with-python/data/gapminder_data_world_health.csv')\n",
    "dataset"
   ]
  },
  {
   "cell_type": "markdown",
   "metadata": {
    "tags": []
   },
   "source": [
    "---\n",
    "## Regla general para graficar en Plotly express\n",
    "\n",
    "```python\n",
    "px._______(data = ____, x=_____, y=_____, other_paremeters=____)\n",
    "\n",
    "\n",
    "px.scatter(data=dataset, x=variable_x, y=variable_y)\n",
    "```"
   ]
  },
  {
   "cell_type": "markdown",
   "metadata": {
    "id": "2VjxrvxYkbh1"
   },
   "source": [
    "**Creating advanced visualizations**\n",
    "\n",
    "The following command will: Use the `data2007` cut. Take the `gdpPercap` as **X** axis and `lifeExp` as **Y** axis value. Render a scatter plot.  \n",
    "**Note:** you can hover your cursor on the plot and explore individual data elements."
   ]
  },
  {
   "cell_type": "markdown",
   "metadata": {
    "id": "O-bnM-8llsIj"
   },
   "source": [
    "# EJERCICIO 1\n",
    "\n",
    "- Haz un query que filtre el año 1997 y se cree un subset\n",
    "- Crea una gráfica de disperción con la función `px.scatter` que compare el GDP per capita y la esperanza de vida"
   ]
  },
  {
   "cell_type": "code",
   "execution_count": 10,
   "metadata": {
    "tags": []
   },
   "outputs": [
    {
     "data": {
      "text/html": [
       "<iframe\n",
       "    scrolling=\"no\"\n",
       "    width=\"100%\"\n",
       "    height=\"545px\"\n",
       "    src=\"iframe_figures/figure_10.html\"\n",
       "    frameborder=\"0\"\n",
       "    allowfullscreen\n",
       "></iframe>\n"
      ]
     },
     "metadata": {},
     "output_type": "display_data"
    }
   ],
   "source": [
    "# px._______(data = ____, x=_____, y=_____, other_paremeters=____)\n",
    "\n",
    "dataset_1997 = dataset[(dataset[\"year\"] == 1997)]\n",
    "dataset_1997\n",
    "\n",
    "px.scatter(dataset_1997,x=\"gdpPercap\", y=\"lifeExp\")\n"
   ]
  },
  {
   "cell_type": "markdown",
   "metadata": {
    "id": "en4ywIG2pb8L"
   },
   "source": [
    "**Adding Color and Size**"
   ]
  },
  {
   "cell_type": "markdown",
   "metadata": {
    "id": "xkPY-SjNw50q"
   },
   "source": [
    "The following command is very similar than the last one, except that this contains **new parameters** within the function: `color`, `size` and `size_max`.   \n",
    "\n",
    "**Note:** You can scroll down the values and also use the zoom option in the plot"
   ]
  },
  {
   "cell_type": "markdown",
   "metadata": {
    "id": "DfqVA7VuyCP-",
    "tags": []
   },
   "source": [
    "# EJERCICIO 2\n",
    "\n",
    "- Utiliza el mismo subset del datos del 2007\n",
    "- Crea de nuevo una gráfica de disperción incluyendo nuevos parámetros: `color`, `size` y `size_max`\n",
    "Nota: `color` tiene que ser una variable categórica, y `size` una variable numérica"
   ]
  },
  {
   "cell_type": "code",
   "execution_count": 12,
   "metadata": {
    "tags": []
   },
   "outputs": [
    {
     "data": {
      "text/html": [
       "<iframe\n",
       "    scrolling=\"no\"\n",
       "    width=\"100%\"\n",
       "    height=\"545px\"\n",
       "    src=\"iframe_figures/figure_12.html\"\n",
       "    frameborder=\"0\"\n",
       "    allowfullscreen\n",
       "></iframe>\n"
      ]
     },
     "metadata": {},
     "output_type": "display_data"
    }
   ],
   "source": [
    "# px._______(data = ____, x=_____, y=_____, other_paremeters=____)\n",
    "\n",
    "px.scatter(dataset_1997,x=\"gdpPercap\", y=\"lifeExp\", color= \"continent\", size = \"lifeExp\")\n"
   ]
  },
  {
   "cell_type": "markdown",
   "metadata": {
    "id": "gpO-KtNcFUlE"
   },
   "source": [
    "**Understanding a graphic**"
   ]
  },
  {
   "cell_type": "markdown",
   "metadata": {
    "id": "2GIHizJFFWY6"
   },
   "source": [
    "Everytime a new parameter is added to the formula, the plotting result is changing."
   ]
  },
  {
   "cell_type": "markdown",
   "metadata": {
    "id": "hvF5zaw-JV-y",
    "tags": []
   },
   "source": [
    "# EJERCICIO 3\n",
    "\n",
    "- Utiliza la misma gráfica de dispersión, ahora queremos responder algunas preguntas para la narrativa de datos\n",
    "- Agrega los siguientes parámetros para tener una mejor gráfica\n",
    "```python\n",
    "facet_col=\"continent\", log_x=True, trendline=\"ols\", hover_name=\"country\"\n",
    "```\n",
    "Responde: \n",
    "- Si se cambia `log_x=False` por `log_x=True`, que es lo que pasa?\n",
    "- Que pais tiene el GPD per capita más bajo en asia?\n",
    "- Que paises tienen la esperanza de vida más alta en Africa"
   ]
  },
  {
   "cell_type": "code",
   "execution_count": 20,
   "metadata": {
    "tags": []
   },
   "outputs": [
    {
     "data": {
      "text/html": [
       "<iframe\n",
       "    scrolling=\"no\"\n",
       "    width=\"100%\"\n",
       "    height=\"545px\"\n",
       "    src=\"iframe_figures/figure_20.html\"\n",
       "    frameborder=\"0\"\n",
       "    allowfullscreen\n",
       "></iframe>\n"
      ]
     },
     "metadata": {},
     "output_type": "display_data"
    }
   ],
   "source": [
    "# px._______(data = ____, x=_____, y=_____, other_paremeters=____)\n",
    "\n",
    "px.scatter(dataset_1997,x=\"gdpPercap\", y=\"lifeExp\", color= \"continent\", size = \"lifeExp\"\n",
    "           , facet_col=\"continent\", log_x=True, trendline=\"ols\", hover_name=\"country\")\n",
    "\n",
    "# Responde:\n",
    "\n",
    "''' con log_x = False se grafica las cordenadas tal cual viene en la base, si se cambia el argumento a True\n",
    "    se grafica el argumento x (en este caso gdpPercap) en escala logaritmica\n",
    "\n",
    "    Myanmar cuenta con el gdpPercap más bajo en el continente asiatico, con un valor de 415\n",
    "\n",
    "    Los 3 paises con la esperanza de vida mas alta en Africa son Reunion, Tunisia y Libia, con 74.77,\n",
    "    71.97 y 71.56 respectivamente '''\n",
    "\n"
   ]
  },
  {
   "cell_type": "markdown",
   "metadata": {
    "id": "NOUbCBD-Yit0"
   },
   "source": [
    "**Quantity over time**"
   ]
  },
  {
   "cell_type": "markdown",
   "metadata": {
    "id": "_xpCbceR27g7"
   },
   "source": [
    "Creating a country subset so that we can analyse data over time. Take the `year` as X axis and `lifeExp` (Population) as Y axis value. Render an horizontal bar plot.  "
   ]
  },
  {
   "cell_type": "markdown",
   "metadata": {
    "id": "Z-7cnQUe4Kea"
   },
   "source": [
    "# EJERCICIO 4 \n",
    "\n",
    "- Elije un país para aplicar el filtro/query\n",
    "- Crea una gráfica de barras `px.bar()` donde los años sean el eje x y la población el eje y\n",
    "- Encuentra el botón para descargar la imagen y descargala en el mismo folder de tareas"
   ]
  },
  {
   "cell_type": "code",
   "execution_count": 25,
   "metadata": {
    "tags": []
   },
   "outputs": [
    {
     "data": {
      "text/html": [
       "<iframe\n",
       "    scrolling=\"no\"\n",
       "    width=\"100%\"\n",
       "    height=\"545px\"\n",
       "    src=\"iframe_figures/figure_25.html\"\n",
       "    frameborder=\"0\"\n",
       "    allowfullscreen\n",
       "></iframe>\n"
      ]
     },
     "metadata": {},
     "output_type": "display_data"
    }
   ],
   "source": [
    "# px._______(data = ____, x=_____, y=_____)\n",
    "\n",
    "dataset_mex = dataset[(dataset[\"country\"] == \"Mexico\")]\n",
    "dataset_mex\n",
    "\n",
    "px.bar(dataset_mex, x= \"year\", y = \"pop\")\n"
   ]
  },
  {
   "cell_type": "markdown",
   "metadata": {
    "id": "snmrNAabKmqr",
    "tags": []
   },
   "source": [
    "**Animated plot**\n",
    "\n",
    "There is a new play/stop button inside the graph, click on it and enjoy the visuals!  \n",
    "## What would it be your **data story**?"
   ]
  },
  {
   "cell_type": "markdown",
   "metadata": {
    "id": "Z-7cnQUe4Kea"
   },
   "source": [
    "# EJERCICIO 5 \n",
    "\n",
    "- La misma función `px.scatter` tiene parámetros para animarla!\n",
    "- Utiliza la misma gráfica e incluye ahora  `animation_frame=\"year\"`, `animation_group=\"country\"` y ve lo que sucede"
   ]
  },
  {
   "cell_type": "code",
   "execution_count": 31,
   "metadata": {
    "tags": []
   },
   "outputs": [
    {
     "data": {
      "text/html": [
       "<iframe\n",
       "    scrolling=\"no\"\n",
       "    width=\"100%\"\n",
       "    height=\"545px\"\n",
       "    src=\"iframe_figures/figure_31.html\"\n",
       "    frameborder=\"0\"\n",
       "    allowfullscreen\n",
       "></iframe>\n"
      ]
     },
     "metadata": {},
     "output_type": "display_data"
    }
   ],
   "source": [
    "# px._______(data = ____, x=_____, y=_____)\n",
    "\n",
    "px.scatter(dataset, x=\"gdpPercap\", y=\"lifeExp\", color= \"continent\", size = \"lifeExp\",\n",
    "          animation_frame=\"year\", animation_group=\"country\")\n"
   ]
  },
  {
   "cell_type": "markdown",
   "metadata": {},
   "source": [
    "Because this is geographic data, we can also represent it as an animated map, which makes it clear that `px` can make way more than just scatterplots."
   ]
  },
  {
   "cell_type": "markdown",
   "metadata": {},
   "source": [
    "## 🎉🎉 Congrats!!  \n",
    "\n",
    "## You've finished the notebook"
   ]
  }
 ],
 "metadata": {
  "jupytext": {
   "formats": "ipynb,md"
  },
  "kernelspec": {
   "display_name": "Python 3 (ipykernel)",
   "language": "python",
   "name": "python3"
  },
  "language_info": {
   "codemirror_mode": {
    "name": "ipython",
    "version": 3
   },
   "file_extension": ".py",
   "mimetype": "text/x-python",
   "name": "python",
   "nbconvert_exporter": "python",
   "pygments_lexer": "ipython3",
   "version": "3.8.19"
  }
 },
 "nbformat": 4,
 "nbformat_minor": 4
}
