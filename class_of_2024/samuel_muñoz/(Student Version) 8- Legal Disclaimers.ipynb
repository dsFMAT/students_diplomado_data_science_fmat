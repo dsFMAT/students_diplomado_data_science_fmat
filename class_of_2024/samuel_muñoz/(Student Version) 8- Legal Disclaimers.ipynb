{
 "cells": [
  {
   "cell_type": "markdown",
   "id": "6746de20-d093-4a16-860d-b9720a48907d",
   "metadata": {
    "slideshow": {
     "slide_type": "slide"
    }
   },
   "source": [
    "#### Diplomado en Ciencia de Datos\n",
    "Módulo 2: Business Intelligence  \n",
    "## Tema 8: Legal Disclaimers\n",
    "\n",
    "*Notebook by [Pedro V Hernandez Serrano](https://github.com/pedrohserrano)*"
   ]
  },
  {
   "cell_type": "markdown",
   "id": "71f6c9b7-0d73-47a7-a665-f8699f86e329",
   "metadata": {},
   "source": [
    "---\n",
    "![](../img/header.jpg)"
   ]
  },
  {
   "cell_type": "markdown",
   "id": "00d5c027-0cda-4d2b-9ed2-9cde545746ae",
   "metadata": {
    "tags": []
   },
   "source": [
    "# Preparando el Reporte final\n",
    "\n",
    "En este notebook vamos a escribir los disclaimers legales (o descargo de responsabilidades) que corresponden a los 3 tipos de disclaimers\n",
    "\n",
    "![](../img/disclaimers.png)\n",
    "\n",
    "**IMPORTANTE: La idea es que usen las respuestas de estos ejercicios en su reporte final** 😃"
   ]
  },
  {
   "cell_type": "markdown",
   "id": "891afd0f-ea20-4985-bf22-09112944c2d5",
   "metadata": {
    "tags": []
   },
   "source": [
    "---\n",
    "# EJERCICIO 1\n",
    "\n",
    "- **Escenario**: Imagina que tu organización está utilizando los datos de Inside Airbnb para analizar el mercado de alquileres en varias ciudades.\n",
    "    - Escribe un breve párrafo explicando cómo se obtuvieron los datos de Inside Airbnb y cómo piensan utilizarlos en el análisis. \n",
    "    - Menciona de manera breve los disclaimers y texto de transparencia en cuanto al origen de los datos como aparecen en el sitio: [**Inside Airbnb**](https://insideairbnb.com/)"
   ]
  },
  {
   "cell_type": "markdown",
   "id": "9cd4a155-5c61-4721-aa11-80c062e3b7fe",
   "metadata": {},
   "source": [
    "Los datos utilizados son publicos, provienen del proyecto Inside Airbnb Nueva York, el cual tiene el objetivo de proporcionar datos y promover la concientización sobre el impacto de Airbnb en las comunidades residenciales. De igual forma, trabajar para lograr una visión en la que las comunidades estén empoderadas con datos e información para que puedan comprender, decidir y controlar el rol que desempeña el alquiler de viviendas residenciales a los turistas. El proyecto cuenta con la colaboración y contribuciones de diversas personas y organizaciones.\n",
    "\n",
    "Los datos de los Airbnbs de Nueva York fueron obtenidos en la sección Get the Data, cuya última actualización se realizó el 4 de septiembre de 2024, se seleccionaron los siguientes archivos para su análisis:\n",
    "\n",
    "listings.csv: contiene información detallada sobre los Airbnbs de la ciudad de Nueva York, como precios, ubicación y características de las propiedades.\n",
    "neighbourhoods.csv: proporciona información sobre los vecindarios donde se encuentran los Airbnbs.\n",
    "reviews.csv: contiene las fechas en que se realizaron los comentarios de los usuarios que se han alojado en las propiedades de Airbnb.\n",
    "\n",
    "Se omite el nombre de los anfitriones para preservar su privacidad. Los datos serán utilizados para comparar cómo han cambiado la oferta y las tendencias de uso de Airbnb antes y después de la ley implementada en Nueva York sobre el uso de los Airbnb.\n",
    "\n"
   ]
  },
  {
   "cell_type": "markdown",
   "id": "cc573db4-e5c0-4315-ad4b-39f05b6ff98a",
   "metadata": {
    "tags": []
   },
   "source": [
    "---\n",
    "# EJERCICIO 2\n",
    "\n",
    "- Basado en el mismo escenario\n",
    "    - Escribe un breve párrafo sobre la licencia bajo la cual estás utilizando los datos de Inside Airbnb.\n",
    "    - Explica si es posible usar estos datos para fines comerciales, y qué requisitos debes cumplir en cuanto a los términos de uso de la licencia en caso que el analisis se haga público."
   ]
  },
  {
   "cell_type": "markdown",
   "id": "a9957444-9437-44bf-a848-c90eda0ddc62",
   "metadata": {
    "tags": []
   },
   "source": [
    "\n",
    "Estamos utilizando los datos de la plataforma de renta de apartamentos bajo una licencia de acceso público que permite el uso de la información para fines no comerciales y académicos. Sin embargo, para cualquier análisis que se haga público y que implique la difusión de estos datos, debemos cumplir con los términos de uso establecidos en la licencia. Esto incluye la obligación de atribuir adecuadamente a la plataforma como fuente de los datos, no modificar la información original, y garantizar que el análisis respete las restricciones sobre el uso comercial. Cualquier uso que busque fines comerciales requeriría una licencia adicional y la obtención de permisos específicos de la plataforma.\n"
   ]
  },
  {
   "cell_type": "markdown",
   "id": "54aabf13-f954-44be-8c02-65c457bb19e6",
   "metadata": {},
   "source": [
    "---\n",
    "# EJERCICIO 3\n",
    "\n",
    "- Aunque los datos no incluyen información sensible de los Airbnb hosts, existe la posibilidad de que ciertos datos, combinados con otras fuentes, puedan llevar a la identificación de propietarios individuales.\n",
    "    - Escribe un breve párrafo describiendo cómo asegurarás que los resultados de tu análisis respeten las normativas de protección de dato.\n",
    "    - **Hint:** Que puedes decir sobre **Anonimización?** Checa el siguiente video para aprender un [método de anonimización simple](https://www.youtube.com/watch?v=3JjwQHMFDvc)"
   ]
  },
  {
   "cell_type": "markdown",
   "id": "e73f5aa8-ffa8-4a10-9e3a-04755771f7ad",
   "metadata": {},
   "source": [
    "\n",
    "Dado que los datos de Inside Airbnb provienen de información disponible públicamente en el sitio de Airbnb, se tiene información tales como nombre e identificador, por lo que se procederá a eliminar datos personales, tales como los nombres de los anfitriones y de los Airbnbs, así como implementar un proceso de anonimización que consiste en ocultar algunos caracteres del identificador de cada anfitrión y con esto asegurar que los resultados del análisis del presente trabajo respeten las normativas de protección de datos. Los datos son resumenes y no se hace referencia a algún anfitrión en especifico en ningún reporte o gráfica.\n",
    "\n",
    "\n"
   ]
  },
  {
   "cell_type": "markdown",
   "id": "3d4de1c4-219e-42d1-8679-f70bce01b0d9",
   "metadata": {},
   "source": [
    "## 🎉🎉 Congrats!!  \n",
    "\n",
    "## You've finished the notebook"
   ]
  }
 ],
 "metadata": {
  "kernelspec": {
   "display_name": "Python 3 (ipykernel)",
   "language": "python",
   "name": "python3"
  },
  "language_info": {
   "codemirror_mode": {
    "name": "ipython",
    "version": 3
   },
   "file_extension": ".py",
   "mimetype": "text/x-python",
   "name": "python",
   "nbconvert_exporter": "python",
   "pygments_lexer": "ipython3",
   "version": "3.8.19"
  }
 },
 "nbformat": 4,
 "nbformat_minor": 5
}
