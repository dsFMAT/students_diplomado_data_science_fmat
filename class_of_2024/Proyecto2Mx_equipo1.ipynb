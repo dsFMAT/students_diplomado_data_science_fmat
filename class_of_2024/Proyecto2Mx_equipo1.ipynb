{
  "nbformat": 4,
  "nbformat_minor": 0,
  "metadata": {
    "colab": {
      "provenance": []
    },
    "kernelspec": {
      "name": "python3",
      "display_name": "Python 3"
    },
    "language_info": {
      "name": "python"
    }
  },
  "cells": [
    {
      "cell_type": "markdown",
      "source": [
        "# **Análisis Zonas Ciudad de México**"
      ],
      "metadata": {
        "id": "4HHcJ8TEIpat"
      }
    },
    {
      "cell_type": "markdown",
      "source": [
        "**Objetivo de Negocio**: Identificar la mejor zona para invertir en la CDMX asegurando una alta ocupación y satisfacción de los huéspedes.\n",
        "\n",
        "**Objetivo analítico** : Identificar patrones y tendencias para la toma de decisiones de inversión a través de datos históricos de Airbnb"
      ],
      "metadata": {
        "id": "srmkEAsS2uwj"
      }
    },
    {
      "cell_type": "markdown",
      "source": [
        "**Caso de estudio**: El Sr. Martínez desea invertir en una propiedad en la CDMX la cuál tiene interés de invertir en un airbnb considerando que en un futuro se posicione como uno de los favoritos por los huéspedes, para esto desea conocer cuáles es la zonas en la cuál su inversión sea la mejor así como las características adicionales requeridas para su inversión"
      ],
      "metadata": {
        "id": "xuycywkP32Qo"
      }
    },
    {
      "cell_type": "markdown",
      "source": [
        "**Metas específicas**:\n",
        "\n",
        "* Determinar qué zonas tienen la mayor tasa de ocupación.\n",
        "\n",
        "* Identificar los ingresos promedio por zona.\n",
        "\n",
        "* Evaluar la relación entre ingresos y ocupación para recomendar la zona más rentable"
      ],
      "metadata": {
        "id": "zU_6YwTdzPvJ"
      }
    },
    {
      "cell_type": "markdown",
      "source": [
        "El siguiente notebook contiene el análisis de los datos compartido en la página [InsideAirbnb](https://insideairbnb.com/get-the-data/) de la Ciudad de México, los cuáles se encuentran actualizados históricamente hasta el mes de Junio de 2024 y no contiene información que comprometa la confidencialidad de los residente y/o anfitriones.\n",
        "\n",
        "El contenido del notebook integra lo siguiente:\n",
        "\n",
        "\n",
        "*   Carga de datos,contenido y limpieza de datos\n",
        "*   Análisis de tipos de propiedades\n",
        "*   Zonas con visitantes\n",
        "*   Precios\n",
        "*   Demanda, popularidad y disponibilidad\n",
        "*   Reviews y satisfacción\n",
        "\n",
        "\n"
      ],
      "metadata": {
        "id": "UnnI9TWtNhqS"
      }
    },
    {
      "cell_type": "markdown",
      "source": [
        "# Extracción de Información"
      ],
      "metadata": {
        "id": "kpWf-mHZrRqH"
      }
    },
    {
      "cell_type": "code",
      "execution_count": 2,
      "metadata": {
        "id": "a8cmtiCIo4Jy"
      },
      "outputs": [],
      "source": [
        "## Importación de librerías requeridas\n",
        "import pandas as pd\n",
        "import numpy as np\n",
        "import plotly.express as px\n",
        "import plotly.io as pio\n",
        "import IPython"
      ]
    },
    {
      "cell_type": "code",
      "source": [
        "from google.colab import drive\n",
        "drive.mount('/content/drive')"
      ],
      "metadata": {
        "colab": {
          "base_uri": "https://localhost:8080/"
        },
        "id": "ZjPsT2fzo7aW",
        "outputId": "65e813b8-1d7b-46f9-a94d-06decd946826"
      },
      "execution_count": 2,
      "outputs": [
        {
          "output_type": "stream",
          "name": "stdout",
          "text": [
            "Mounted at /content/drive\n"
          ]
        }
      ]
    },
    {
      "cell_type": "code",
      "source": [
        "## Carga de bases de datos\n",
        "path_listings = \"/content/drive/MyDrive/listings_detailed.csv\"\n",
        "listings = pd.read_csv(path_listings)\n",
        "\n",
        "path_reviews = \"/content/drive/MyDrive/reviews.csv\"\n",
        "reviews = pd.read_csv(path_reviews)\n",
        "\n",
        "path_neighbourhoods = \"/content/drive/MyDrive/neighbourhoods.csv\"\n",
        "neighbourhoods = pd.read_csv(path_neighbourhoods)\n",
        "\n",
        "path_calendar = \"/content/drive/MyDrive/calendar.csv\"\n",
        "calendar = pd.read_csv(path_calendar)"
      ],
      "metadata": {
        "id": "yX815EG9pXpo"
      },
      "execution_count": 4,
      "outputs": []
    },
    {
      "cell_type": "markdown",
      "source": [
        "Las bases de datos a utilizar contienen información sobre los airbnb de la CDMX:\n",
        "- Listings: Nombre del apartamento, nombre host, localidad, ubicación, tipo apartamento, precio, número de reviews\n",
        "- calendar: Disponibilidad, fechas, precio, minimo de noches y maximo de noches del airbnb\n",
        "- Reviews: Contiene id como identificador y fecha de reviews\n",
        "- Neighbourhoods: Información de las localidades"
      ],
      "metadata": {
        "id": "hl6gbJtOf6Ec"
      }
    },
    {
      "cell_type": "markdown",
      "source": [
        "**Disclaimer**:\n",
        "\n",
        "Inside Airbnb obtiene datos de alquileres a corto plazo a través de la recopilación de información pública en el sitio web de Airbnb, incluyendo listados, precios y calificaciones. Nuestra organización utilizará estos datos para analizar el mercado de alquileres en varias ciudades, identificando tendencias y evaluando la competitividad de precios. Es importante mencionar que estos datos son proporcionados con fines educativos y de investigación, y pueden no representar la totalidad del mercado, por lo que su uso debe ser considerado con precaución."
      ],
      "metadata": {
        "id": "S2wrkfgtYlJu"
      }
    },
    {
      "cell_type": "markdown",
      "source": [
        "## Análisis Zonas"
      ],
      "metadata": {
        "id": "8BGes5bEveud"
      }
    },
    {
      "cell_type": "markdown",
      "source": [
        "## Calendario"
      ],
      "metadata": {
        "id": "4M_RnvYnqQ8u"
      }
    },
    {
      "cell_type": "markdown",
      "source": [
        "El tabla de calendario registra el precio, la disponibilidad y otros detalles del calendario del listado para cada día de los próximos 365 días"
      ],
      "metadata": {
        "id": "_urHXbvvvmg2"
      }
    },
    {
      "cell_type": "code",
      "source": [
        "calendar.head()"
      ],
      "metadata": {
        "colab": {
          "base_uri": "https://localhost:8080/",
          "height": 206
        },
        "id": "PgCoTFUAuPH6",
        "outputId": "0232bbf9-18cc-4bf5-e9f2-979285d3f4ed"
      },
      "execution_count": 5,
      "outputs": [
        {
          "output_type": "execute_result",
          "data": {
            "text/plain": [
              "   listing_id        date available       price  adjusted_price  \\\n",
              "0       44616  2024-06-28         f  $18,000.00             NaN   \n",
              "1      898633  2024-06-28         f      $93.00             NaN   \n",
              "2      898633  2024-06-29         f      $93.00             NaN   \n",
              "3      898633  2024-06-30         f      $93.00             NaN   \n",
              "4      898633  2024-07-01         f      $93.00             NaN   \n",
              "\n",
              "   minimum_nights  maximum_nights  \n",
              "0             1.0           365.0  \n",
              "1             3.0            48.0  \n",
              "2             3.0            48.0  \n",
              "3             3.0            48.0  \n",
              "4             3.0            48.0  "
            ],
            "text/html": [
              "\n",
              "  <div id=\"df-1853dd3a-3f8e-4aa4-a00c-36b7a42d0d89\" class=\"colab-df-container\">\n",
              "    <div>\n",
              "<style scoped>\n",
              "    .dataframe tbody tr th:only-of-type {\n",
              "        vertical-align: middle;\n",
              "    }\n",
              "\n",
              "    .dataframe tbody tr th {\n",
              "        vertical-align: top;\n",
              "    }\n",
              "\n",
              "    .dataframe thead th {\n",
              "        text-align: right;\n",
              "    }\n",
              "</style>\n",
              "<table border=\"1\" class=\"dataframe\">\n",
              "  <thead>\n",
              "    <tr style=\"text-align: right;\">\n",
              "      <th></th>\n",
              "      <th>listing_id</th>\n",
              "      <th>date</th>\n",
              "      <th>available</th>\n",
              "      <th>price</th>\n",
              "      <th>adjusted_price</th>\n",
              "      <th>minimum_nights</th>\n",
              "      <th>maximum_nights</th>\n",
              "    </tr>\n",
              "  </thead>\n",
              "  <tbody>\n",
              "    <tr>\n",
              "      <th>0</th>\n",
              "      <td>44616</td>\n",
              "      <td>2024-06-28</td>\n",
              "      <td>f</td>\n",
              "      <td>$18,000.00</td>\n",
              "      <td>NaN</td>\n",
              "      <td>1.0</td>\n",
              "      <td>365.0</td>\n",
              "    </tr>\n",
              "    <tr>\n",
              "      <th>1</th>\n",
              "      <td>898633</td>\n",
              "      <td>2024-06-28</td>\n",
              "      <td>f</td>\n",
              "      <td>$93.00</td>\n",
              "      <td>NaN</td>\n",
              "      <td>3.0</td>\n",
              "      <td>48.0</td>\n",
              "    </tr>\n",
              "    <tr>\n",
              "      <th>2</th>\n",
              "      <td>898633</td>\n",
              "      <td>2024-06-29</td>\n",
              "      <td>f</td>\n",
              "      <td>$93.00</td>\n",
              "      <td>NaN</td>\n",
              "      <td>3.0</td>\n",
              "      <td>48.0</td>\n",
              "    </tr>\n",
              "    <tr>\n",
              "      <th>3</th>\n",
              "      <td>898633</td>\n",
              "      <td>2024-06-30</td>\n",
              "      <td>f</td>\n",
              "      <td>$93.00</td>\n",
              "      <td>NaN</td>\n",
              "      <td>3.0</td>\n",
              "      <td>48.0</td>\n",
              "    </tr>\n",
              "    <tr>\n",
              "      <th>4</th>\n",
              "      <td>898633</td>\n",
              "      <td>2024-07-01</td>\n",
              "      <td>f</td>\n",
              "      <td>$93.00</td>\n",
              "      <td>NaN</td>\n",
              "      <td>3.0</td>\n",
              "      <td>48.0</td>\n",
              "    </tr>\n",
              "  </tbody>\n",
              "</table>\n",
              "</div>\n",
              "    <div class=\"colab-df-buttons\">\n",
              "\n",
              "  <div class=\"colab-df-container\">\n",
              "    <button class=\"colab-df-convert\" onclick=\"convertToInteractive('df-1853dd3a-3f8e-4aa4-a00c-36b7a42d0d89')\"\n",
              "            title=\"Convert this dataframe to an interactive table.\"\n",
              "            style=\"display:none;\">\n",
              "\n",
              "  <svg xmlns=\"http://www.w3.org/2000/svg\" height=\"24px\" viewBox=\"0 -960 960 960\">\n",
              "    <path d=\"M120-120v-720h720v720H120Zm60-500h600v-160H180v160Zm220 220h160v-160H400v160Zm0 220h160v-160H400v160ZM180-400h160v-160H180v160Zm440 0h160v-160H620v160ZM180-180h160v-160H180v160Zm440 0h160v-160H620v160Z\"/>\n",
              "  </svg>\n",
              "    </button>\n",
              "\n",
              "  <style>\n",
              "    .colab-df-container {\n",
              "      display:flex;\n",
              "      gap: 12px;\n",
              "    }\n",
              "\n",
              "    .colab-df-convert {\n",
              "      background-color: #E8F0FE;\n",
              "      border: none;\n",
              "      border-radius: 50%;\n",
              "      cursor: pointer;\n",
              "      display: none;\n",
              "      fill: #1967D2;\n",
              "      height: 32px;\n",
              "      padding: 0 0 0 0;\n",
              "      width: 32px;\n",
              "    }\n",
              "\n",
              "    .colab-df-convert:hover {\n",
              "      background-color: #E2EBFA;\n",
              "      box-shadow: 0px 1px 2px rgba(60, 64, 67, 0.3), 0px 1px 3px 1px rgba(60, 64, 67, 0.15);\n",
              "      fill: #174EA6;\n",
              "    }\n",
              "\n",
              "    .colab-df-buttons div {\n",
              "      margin-bottom: 4px;\n",
              "    }\n",
              "\n",
              "    [theme=dark] .colab-df-convert {\n",
              "      background-color: #3B4455;\n",
              "      fill: #D2E3FC;\n",
              "    }\n",
              "\n",
              "    [theme=dark] .colab-df-convert:hover {\n",
              "      background-color: #434B5C;\n",
              "      box-shadow: 0px 1px 3px 1px rgba(0, 0, 0, 0.15);\n",
              "      filter: drop-shadow(0px 1px 2px rgba(0, 0, 0, 0.3));\n",
              "      fill: #FFFFFF;\n",
              "    }\n",
              "  </style>\n",
              "\n",
              "    <script>\n",
              "      const buttonEl =\n",
              "        document.querySelector('#df-1853dd3a-3f8e-4aa4-a00c-36b7a42d0d89 button.colab-df-convert');\n",
              "      buttonEl.style.display =\n",
              "        google.colab.kernel.accessAllowed ? 'block' : 'none';\n",
              "\n",
              "      async function convertToInteractive(key) {\n",
              "        const element = document.querySelector('#df-1853dd3a-3f8e-4aa4-a00c-36b7a42d0d89');\n",
              "        const dataTable =\n",
              "          await google.colab.kernel.invokeFunction('convertToInteractive',\n",
              "                                                    [key], {});\n",
              "        if (!dataTable) return;\n",
              "\n",
              "        const docLinkHtml = 'Like what you see? Visit the ' +\n",
              "          '<a target=\"_blank\" href=https://colab.research.google.com/notebooks/data_table.ipynb>data table notebook</a>'\n",
              "          + ' to learn more about interactive tables.';\n",
              "        element.innerHTML = '';\n",
              "        dataTable['output_type'] = 'display_data';\n",
              "        await google.colab.output.renderOutput(dataTable, element);\n",
              "        const docLink = document.createElement('div');\n",
              "        docLink.innerHTML = docLinkHtml;\n",
              "        element.appendChild(docLink);\n",
              "      }\n",
              "    </script>\n",
              "  </div>\n",
              "\n",
              "\n",
              "<div id=\"df-890bbd6d-df03-4f2a-afc4-a4da140017c4\">\n",
              "  <button class=\"colab-df-quickchart\" onclick=\"quickchart('df-890bbd6d-df03-4f2a-afc4-a4da140017c4')\"\n",
              "            title=\"Suggest charts\"\n",
              "            style=\"display:none;\">\n",
              "\n",
              "<svg xmlns=\"http://www.w3.org/2000/svg\" height=\"24px\"viewBox=\"0 0 24 24\"\n",
              "     width=\"24px\">\n",
              "    <g>\n",
              "        <path d=\"M19 3H5c-1.1 0-2 .9-2 2v14c0 1.1.9 2 2 2h14c1.1 0 2-.9 2-2V5c0-1.1-.9-2-2-2zM9 17H7v-7h2v7zm4 0h-2V7h2v10zm4 0h-2v-4h2v4z\"/>\n",
              "    </g>\n",
              "</svg>\n",
              "  </button>\n",
              "\n",
              "<style>\n",
              "  .colab-df-quickchart {\n",
              "      --bg-color: #E8F0FE;\n",
              "      --fill-color: #1967D2;\n",
              "      --hover-bg-color: #E2EBFA;\n",
              "      --hover-fill-color: #174EA6;\n",
              "      --disabled-fill-color: #AAA;\n",
              "      --disabled-bg-color: #DDD;\n",
              "  }\n",
              "\n",
              "  [theme=dark] .colab-df-quickchart {\n",
              "      --bg-color: #3B4455;\n",
              "      --fill-color: #D2E3FC;\n",
              "      --hover-bg-color: #434B5C;\n",
              "      --hover-fill-color: #FFFFFF;\n",
              "      --disabled-bg-color: #3B4455;\n",
              "      --disabled-fill-color: #666;\n",
              "  }\n",
              "\n",
              "  .colab-df-quickchart {\n",
              "    background-color: var(--bg-color);\n",
              "    border: none;\n",
              "    border-radius: 50%;\n",
              "    cursor: pointer;\n",
              "    display: none;\n",
              "    fill: var(--fill-color);\n",
              "    height: 32px;\n",
              "    padding: 0;\n",
              "    width: 32px;\n",
              "  }\n",
              "\n",
              "  .colab-df-quickchart:hover {\n",
              "    background-color: var(--hover-bg-color);\n",
              "    box-shadow: 0 1px 2px rgba(60, 64, 67, 0.3), 0 1px 3px 1px rgba(60, 64, 67, 0.15);\n",
              "    fill: var(--button-hover-fill-color);\n",
              "  }\n",
              "\n",
              "  .colab-df-quickchart-complete:disabled,\n",
              "  .colab-df-quickchart-complete:disabled:hover {\n",
              "    background-color: var(--disabled-bg-color);\n",
              "    fill: var(--disabled-fill-color);\n",
              "    box-shadow: none;\n",
              "  }\n",
              "\n",
              "  .colab-df-spinner {\n",
              "    border: 2px solid var(--fill-color);\n",
              "    border-color: transparent;\n",
              "    border-bottom-color: var(--fill-color);\n",
              "    animation:\n",
              "      spin 1s steps(1) infinite;\n",
              "  }\n",
              "\n",
              "  @keyframes spin {\n",
              "    0% {\n",
              "      border-color: transparent;\n",
              "      border-bottom-color: var(--fill-color);\n",
              "      border-left-color: var(--fill-color);\n",
              "    }\n",
              "    20% {\n",
              "      border-color: transparent;\n",
              "      border-left-color: var(--fill-color);\n",
              "      border-top-color: var(--fill-color);\n",
              "    }\n",
              "    30% {\n",
              "      border-color: transparent;\n",
              "      border-left-color: var(--fill-color);\n",
              "      border-top-color: var(--fill-color);\n",
              "      border-right-color: var(--fill-color);\n",
              "    }\n",
              "    40% {\n",
              "      border-color: transparent;\n",
              "      border-right-color: var(--fill-color);\n",
              "      border-top-color: var(--fill-color);\n",
              "    }\n",
              "    60% {\n",
              "      border-color: transparent;\n",
              "      border-right-color: var(--fill-color);\n",
              "    }\n",
              "    80% {\n",
              "      border-color: transparent;\n",
              "      border-right-color: var(--fill-color);\n",
              "      border-bottom-color: var(--fill-color);\n",
              "    }\n",
              "    90% {\n",
              "      border-color: transparent;\n",
              "      border-bottom-color: var(--fill-color);\n",
              "    }\n",
              "  }\n",
              "</style>\n",
              "\n",
              "  <script>\n",
              "    async function quickchart(key) {\n",
              "      const quickchartButtonEl =\n",
              "        document.querySelector('#' + key + ' button');\n",
              "      quickchartButtonEl.disabled = true;  // To prevent multiple clicks.\n",
              "      quickchartButtonEl.classList.add('colab-df-spinner');\n",
              "      try {\n",
              "        const charts = await google.colab.kernel.invokeFunction(\n",
              "            'suggestCharts', [key], {});\n",
              "      } catch (error) {\n",
              "        console.error('Error during call to suggestCharts:', error);\n",
              "      }\n",
              "      quickchartButtonEl.classList.remove('colab-df-spinner');\n",
              "      quickchartButtonEl.classList.add('colab-df-quickchart-complete');\n",
              "    }\n",
              "    (() => {\n",
              "      let quickchartButtonEl =\n",
              "        document.querySelector('#df-890bbd6d-df03-4f2a-afc4-a4da140017c4 button');\n",
              "      quickchartButtonEl.style.display =\n",
              "        google.colab.kernel.accessAllowed ? 'block' : 'none';\n",
              "    })();\n",
              "  </script>\n",
              "</div>\n",
              "\n",
              "    </div>\n",
              "  </div>\n"
            ],
            "application/vnd.google.colaboratory.intrinsic+json": {
              "type": "dataframe",
              "variable_name": "calendar"
            }
          },
          "metadata": {},
          "execution_count": 5
        }
      ]
    },
    {
      "cell_type": "code",
      "source": [
        "calendar.shape"
      ],
      "metadata": {
        "colab": {
          "base_uri": "https://localhost:8080/"
        },
        "id": "_zkoTih5Vjh5",
        "outputId": "56e8562e-2c9b-47d8-b2a8-e867db928ad2"
      },
      "execution_count": 8,
      "outputs": [
        {
          "output_type": "execute_result",
          "data": {
            "text/plain": [
              "(9685643, 7)"
            ]
          },
          "metadata": {},
          "execution_count": 8
        }
      ]
    },
    {
      "cell_type": "code",
      "source": [
        "listings.shape"
      ],
      "metadata": {
        "colab": {
          "base_uri": "https://localhost:8080/"
        },
        "id": "AmTVww-RXZ1V",
        "outputId": "30c4969b-6239-4a7f-e4ee-643dacb66c90"
      },
      "execution_count": 20,
      "outputs": [
        {
          "output_type": "execute_result",
          "data": {
            "text/plain": [
              "(26536, 75)"
            ]
          },
          "metadata": {},
          "execution_count": 20
        }
      ]
    },
    {
      "cell_type": "code",
      "source": [
        "calendar.dtypes"
      ],
      "metadata": {
        "colab": {
          "base_uri": "https://localhost:8080/",
          "height": 304
        },
        "id": "TkumNicLy23f",
        "outputId": "1351170f-9242-4963-a8ee-33ed25597421"
      },
      "execution_count": 9,
      "outputs": [
        {
          "output_type": "execute_result",
          "data": {
            "text/plain": [
              "listing_id          int64\n",
              "date               object\n",
              "available          object\n",
              "price              object\n",
              "adjusted_price    float64\n",
              "minimum_nights    float64\n",
              "maximum_nights    float64\n",
              "dtype: object"
            ],
            "text/html": [
              "<div>\n",
              "<style scoped>\n",
              "    .dataframe tbody tr th:only-of-type {\n",
              "        vertical-align: middle;\n",
              "    }\n",
              "\n",
              "    .dataframe tbody tr th {\n",
              "        vertical-align: top;\n",
              "    }\n",
              "\n",
              "    .dataframe thead th {\n",
              "        text-align: right;\n",
              "    }\n",
              "</style>\n",
              "<table border=\"1\" class=\"dataframe\">\n",
              "  <thead>\n",
              "    <tr style=\"text-align: right;\">\n",
              "      <th></th>\n",
              "      <th>0</th>\n",
              "    </tr>\n",
              "  </thead>\n",
              "  <tbody>\n",
              "    <tr>\n",
              "      <th>listing_id</th>\n",
              "      <td>int64</td>\n",
              "    </tr>\n",
              "    <tr>\n",
              "      <th>date</th>\n",
              "      <td>object</td>\n",
              "    </tr>\n",
              "    <tr>\n",
              "      <th>available</th>\n",
              "      <td>object</td>\n",
              "    </tr>\n",
              "    <tr>\n",
              "      <th>price</th>\n",
              "      <td>object</td>\n",
              "    </tr>\n",
              "    <tr>\n",
              "      <th>adjusted_price</th>\n",
              "      <td>float64</td>\n",
              "    </tr>\n",
              "    <tr>\n",
              "      <th>minimum_nights</th>\n",
              "      <td>float64</td>\n",
              "    </tr>\n",
              "    <tr>\n",
              "      <th>maximum_nights</th>\n",
              "      <td>float64</td>\n",
              "    </tr>\n",
              "  </tbody>\n",
              "</table>\n",
              "</div><br><label><b>dtype:</b> object</label>"
            ]
          },
          "metadata": {},
          "execution_count": 9
        }
      ]
    },
    {
      "cell_type": "markdown",
      "source": [
        "Al realizar una inspección, se ha observado que las variables de precio y disponibilidad están almacenadas en un formato no numérico. Por lo tanto, es necesario transformar estas variables en un tipo de dato numérico para facilitar el análisis.\n",
        "\n"
      ],
      "metadata": {
        "id": "nRXEgY44y8Hi"
      }
    },
    {
      "cell_type": "markdown",
      "source": [
        "Primeramente, es necesario cambiar el tipo de valor de texto a númerico de la columna Price"
      ],
      "metadata": {
        "id": "dP_C_a6hupE_"
      }
    },
    {
      "cell_type": "code",
      "source": [
        "# Eliminar símbolos de dólar y comas, y luego convertir a número\n",
        "calendar['price_numeric'] = calendar['price'].replace({'\\$': '', ',': ''}, regex=True).astype(float)"
      ],
      "metadata": {
        "id": "N8rbMxMaum2t"
      },
      "execution_count": 22,
      "outputs": []
    },
    {
      "cell_type": "markdown",
      "source": [
        "Se busca analizar la ocupación y el precio promedio por zona para estimar los ingresos potenciales, considerando el nivel de disponibilidad actual."
      ],
      "metadata": {
        "id": "H1aLUoAGz1PW"
      }
    },
    {
      "cell_type": "code",
      "source": [
        "df_alcaldia = listings[['id','neighbourhood_cleansed','price_numeric']]\n",
        "\n",
        "df_calendar_alcaldia = pd.merge(df_alcaldia, calendar, how='inner', left_on='id', right_on='listing_id')"
      ],
      "metadata": {
        "id": "H1RGJauZtxha"
      },
      "execution_count": 11,
      "outputs": []
    },
    {
      "cell_type": "code",
      "source": [
        "df_calendar_alcaldia.head()"
      ],
      "metadata": {
        "colab": {
          "base_uri": "https://localhost:8080/",
          "height": 206
        },
        "id": "aUK3fgIk1SgA",
        "outputId": "7ba128c6-48a5-430a-c8b7-ab409c0676a0"
      },
      "execution_count": 13,
      "outputs": [
        {
          "output_type": "execute_result",
          "data": {
            "text/plain": [
              "       id neighbourhood_cleansed  listing_id        date available   price  \\\n",
              "0  898633             Cuauhtémoc      898633  2024-06-28         f  $93.00   \n",
              "1  898633             Cuauhtémoc      898633  2024-06-29         f  $93.00   \n",
              "2  898633             Cuauhtémoc      898633  2024-06-30         f  $93.00   \n",
              "3  898633             Cuauhtémoc      898633  2024-07-01         f  $93.00   \n",
              "4  898633             Cuauhtémoc      898633  2024-07-02         f  $93.00   \n",
              "\n",
              "   adjusted_price  minimum_nights  maximum_nights  price_numeric  \n",
              "0             NaN             3.0            48.0           93.0  \n",
              "1             NaN             3.0            48.0           93.0  \n",
              "2             NaN             3.0            48.0           93.0  \n",
              "3             NaN             3.0            48.0           93.0  \n",
              "4             NaN             3.0            48.0           93.0  "
            ],
            "text/html": [
              "\n",
              "  <div id=\"df-1f99a7e7-423a-4e0d-a225-58bcb34dff62\" class=\"colab-df-container\">\n",
              "    <div>\n",
              "<style scoped>\n",
              "    .dataframe tbody tr th:only-of-type {\n",
              "        vertical-align: middle;\n",
              "    }\n",
              "\n",
              "    .dataframe tbody tr th {\n",
              "        vertical-align: top;\n",
              "    }\n",
              "\n",
              "    .dataframe thead th {\n",
              "        text-align: right;\n",
              "    }\n",
              "</style>\n",
              "<table border=\"1\" class=\"dataframe\">\n",
              "  <thead>\n",
              "    <tr style=\"text-align: right;\">\n",
              "      <th></th>\n",
              "      <th>id</th>\n",
              "      <th>neighbourhood_cleansed</th>\n",
              "      <th>listing_id</th>\n",
              "      <th>date</th>\n",
              "      <th>available</th>\n",
              "      <th>price</th>\n",
              "      <th>adjusted_price</th>\n",
              "      <th>minimum_nights</th>\n",
              "      <th>maximum_nights</th>\n",
              "      <th>price_numeric</th>\n",
              "    </tr>\n",
              "  </thead>\n",
              "  <tbody>\n",
              "    <tr>\n",
              "      <th>0</th>\n",
              "      <td>898633</td>\n",
              "      <td>Cuauhtémoc</td>\n",
              "      <td>898633</td>\n",
              "      <td>2024-06-28</td>\n",
              "      <td>f</td>\n",
              "      <td>$93.00</td>\n",
              "      <td>NaN</td>\n",
              "      <td>3.0</td>\n",
              "      <td>48.0</td>\n",
              "      <td>93.0</td>\n",
              "    </tr>\n",
              "    <tr>\n",
              "      <th>1</th>\n",
              "      <td>898633</td>\n",
              "      <td>Cuauhtémoc</td>\n",
              "      <td>898633</td>\n",
              "      <td>2024-06-29</td>\n",
              "      <td>f</td>\n",
              "      <td>$93.00</td>\n",
              "      <td>NaN</td>\n",
              "      <td>3.0</td>\n",
              "      <td>48.0</td>\n",
              "      <td>93.0</td>\n",
              "    </tr>\n",
              "    <tr>\n",
              "      <th>2</th>\n",
              "      <td>898633</td>\n",
              "      <td>Cuauhtémoc</td>\n",
              "      <td>898633</td>\n",
              "      <td>2024-06-30</td>\n",
              "      <td>f</td>\n",
              "      <td>$93.00</td>\n",
              "      <td>NaN</td>\n",
              "      <td>3.0</td>\n",
              "      <td>48.0</td>\n",
              "      <td>93.0</td>\n",
              "    </tr>\n",
              "    <tr>\n",
              "      <th>3</th>\n",
              "      <td>898633</td>\n",
              "      <td>Cuauhtémoc</td>\n",
              "      <td>898633</td>\n",
              "      <td>2024-07-01</td>\n",
              "      <td>f</td>\n",
              "      <td>$93.00</td>\n",
              "      <td>NaN</td>\n",
              "      <td>3.0</td>\n",
              "      <td>48.0</td>\n",
              "      <td>93.0</td>\n",
              "    </tr>\n",
              "    <tr>\n",
              "      <th>4</th>\n",
              "      <td>898633</td>\n",
              "      <td>Cuauhtémoc</td>\n",
              "      <td>898633</td>\n",
              "      <td>2024-07-02</td>\n",
              "      <td>f</td>\n",
              "      <td>$93.00</td>\n",
              "      <td>NaN</td>\n",
              "      <td>3.0</td>\n",
              "      <td>48.0</td>\n",
              "      <td>93.0</td>\n",
              "    </tr>\n",
              "  </tbody>\n",
              "</table>\n",
              "</div>\n",
              "    <div class=\"colab-df-buttons\">\n",
              "\n",
              "  <div class=\"colab-df-container\">\n",
              "    <button class=\"colab-df-convert\" onclick=\"convertToInteractive('df-1f99a7e7-423a-4e0d-a225-58bcb34dff62')\"\n",
              "            title=\"Convert this dataframe to an interactive table.\"\n",
              "            style=\"display:none;\">\n",
              "\n",
              "  <svg xmlns=\"http://www.w3.org/2000/svg\" height=\"24px\" viewBox=\"0 -960 960 960\">\n",
              "    <path d=\"M120-120v-720h720v720H120Zm60-500h600v-160H180v160Zm220 220h160v-160H400v160Zm0 220h160v-160H400v160ZM180-400h160v-160H180v160Zm440 0h160v-160H620v160ZM180-180h160v-160H180v160Zm440 0h160v-160H620v160Z\"/>\n",
              "  </svg>\n",
              "    </button>\n",
              "\n",
              "  <style>\n",
              "    .colab-df-container {\n",
              "      display:flex;\n",
              "      gap: 12px;\n",
              "    }\n",
              "\n",
              "    .colab-df-convert {\n",
              "      background-color: #E8F0FE;\n",
              "      border: none;\n",
              "      border-radius: 50%;\n",
              "      cursor: pointer;\n",
              "      display: none;\n",
              "      fill: #1967D2;\n",
              "      height: 32px;\n",
              "      padding: 0 0 0 0;\n",
              "      width: 32px;\n",
              "    }\n",
              "\n",
              "    .colab-df-convert:hover {\n",
              "      background-color: #E2EBFA;\n",
              "      box-shadow: 0px 1px 2px rgba(60, 64, 67, 0.3), 0px 1px 3px 1px rgba(60, 64, 67, 0.15);\n",
              "      fill: #174EA6;\n",
              "    }\n",
              "\n",
              "    .colab-df-buttons div {\n",
              "      margin-bottom: 4px;\n",
              "    }\n",
              "\n",
              "    [theme=dark] .colab-df-convert {\n",
              "      background-color: #3B4455;\n",
              "      fill: #D2E3FC;\n",
              "    }\n",
              "\n",
              "    [theme=dark] .colab-df-convert:hover {\n",
              "      background-color: #434B5C;\n",
              "      box-shadow: 0px 1px 3px 1px rgba(0, 0, 0, 0.15);\n",
              "      filter: drop-shadow(0px 1px 2px rgba(0, 0, 0, 0.3));\n",
              "      fill: #FFFFFF;\n",
              "    }\n",
              "  </style>\n",
              "\n",
              "    <script>\n",
              "      const buttonEl =\n",
              "        document.querySelector('#df-1f99a7e7-423a-4e0d-a225-58bcb34dff62 button.colab-df-convert');\n",
              "      buttonEl.style.display =\n",
              "        google.colab.kernel.accessAllowed ? 'block' : 'none';\n",
              "\n",
              "      async function convertToInteractive(key) {\n",
              "        const element = document.querySelector('#df-1f99a7e7-423a-4e0d-a225-58bcb34dff62');\n",
              "        const dataTable =\n",
              "          await google.colab.kernel.invokeFunction('convertToInteractive',\n",
              "                                                    [key], {});\n",
              "        if (!dataTable) return;\n",
              "\n",
              "        const docLinkHtml = 'Like what you see? Visit the ' +\n",
              "          '<a target=\"_blank\" href=https://colab.research.google.com/notebooks/data_table.ipynb>data table notebook</a>'\n",
              "          + ' to learn more about interactive tables.';\n",
              "        element.innerHTML = '';\n",
              "        dataTable['output_type'] = 'display_data';\n",
              "        await google.colab.output.renderOutput(dataTable, element);\n",
              "        const docLink = document.createElement('div');\n",
              "        docLink.innerHTML = docLinkHtml;\n",
              "        element.appendChild(docLink);\n",
              "      }\n",
              "    </script>\n",
              "  </div>\n",
              "\n",
              "\n",
              "<div id=\"df-b25db8f0-e07f-4c67-8f5a-e757a3b17853\">\n",
              "  <button class=\"colab-df-quickchart\" onclick=\"quickchart('df-b25db8f0-e07f-4c67-8f5a-e757a3b17853')\"\n",
              "            title=\"Suggest charts\"\n",
              "            style=\"display:none;\">\n",
              "\n",
              "<svg xmlns=\"http://www.w3.org/2000/svg\" height=\"24px\"viewBox=\"0 0 24 24\"\n",
              "     width=\"24px\">\n",
              "    <g>\n",
              "        <path d=\"M19 3H5c-1.1 0-2 .9-2 2v14c0 1.1.9 2 2 2h14c1.1 0 2-.9 2-2V5c0-1.1-.9-2-2-2zM9 17H7v-7h2v7zm4 0h-2V7h2v10zm4 0h-2v-4h2v4z\"/>\n",
              "    </g>\n",
              "</svg>\n",
              "  </button>\n",
              "\n",
              "<style>\n",
              "  .colab-df-quickchart {\n",
              "      --bg-color: #E8F0FE;\n",
              "      --fill-color: #1967D2;\n",
              "      --hover-bg-color: #E2EBFA;\n",
              "      --hover-fill-color: #174EA6;\n",
              "      --disabled-fill-color: #AAA;\n",
              "      --disabled-bg-color: #DDD;\n",
              "  }\n",
              "\n",
              "  [theme=dark] .colab-df-quickchart {\n",
              "      --bg-color: #3B4455;\n",
              "      --fill-color: #D2E3FC;\n",
              "      --hover-bg-color: #434B5C;\n",
              "      --hover-fill-color: #FFFFFF;\n",
              "      --disabled-bg-color: #3B4455;\n",
              "      --disabled-fill-color: #666;\n",
              "  }\n",
              "\n",
              "  .colab-df-quickchart {\n",
              "    background-color: var(--bg-color);\n",
              "    border: none;\n",
              "    border-radius: 50%;\n",
              "    cursor: pointer;\n",
              "    display: none;\n",
              "    fill: var(--fill-color);\n",
              "    height: 32px;\n",
              "    padding: 0;\n",
              "    width: 32px;\n",
              "  }\n",
              "\n",
              "  .colab-df-quickchart:hover {\n",
              "    background-color: var(--hover-bg-color);\n",
              "    box-shadow: 0 1px 2px rgba(60, 64, 67, 0.3), 0 1px 3px 1px rgba(60, 64, 67, 0.15);\n",
              "    fill: var(--button-hover-fill-color);\n",
              "  }\n",
              "\n",
              "  .colab-df-quickchart-complete:disabled,\n",
              "  .colab-df-quickchart-complete:disabled:hover {\n",
              "    background-color: var(--disabled-bg-color);\n",
              "    fill: var(--disabled-fill-color);\n",
              "    box-shadow: none;\n",
              "  }\n",
              "\n",
              "  .colab-df-spinner {\n",
              "    border: 2px solid var(--fill-color);\n",
              "    border-color: transparent;\n",
              "    border-bottom-color: var(--fill-color);\n",
              "    animation:\n",
              "      spin 1s steps(1) infinite;\n",
              "  }\n",
              "\n",
              "  @keyframes spin {\n",
              "    0% {\n",
              "      border-color: transparent;\n",
              "      border-bottom-color: var(--fill-color);\n",
              "      border-left-color: var(--fill-color);\n",
              "    }\n",
              "    20% {\n",
              "      border-color: transparent;\n",
              "      border-left-color: var(--fill-color);\n",
              "      border-top-color: var(--fill-color);\n",
              "    }\n",
              "    30% {\n",
              "      border-color: transparent;\n",
              "      border-left-color: var(--fill-color);\n",
              "      border-top-color: var(--fill-color);\n",
              "      border-right-color: var(--fill-color);\n",
              "    }\n",
              "    40% {\n",
              "      border-color: transparent;\n",
              "      border-right-color: var(--fill-color);\n",
              "      border-top-color: var(--fill-color);\n",
              "    }\n",
              "    60% {\n",
              "      border-color: transparent;\n",
              "      border-right-color: var(--fill-color);\n",
              "    }\n",
              "    80% {\n",
              "      border-color: transparent;\n",
              "      border-right-color: var(--fill-color);\n",
              "      border-bottom-color: var(--fill-color);\n",
              "    }\n",
              "    90% {\n",
              "      border-color: transparent;\n",
              "      border-bottom-color: var(--fill-color);\n",
              "    }\n",
              "  }\n",
              "</style>\n",
              "\n",
              "  <script>\n",
              "    async function quickchart(key) {\n",
              "      const quickchartButtonEl =\n",
              "        document.querySelector('#' + key + ' button');\n",
              "      quickchartButtonEl.disabled = true;  // To prevent multiple clicks.\n",
              "      quickchartButtonEl.classList.add('colab-df-spinner');\n",
              "      try {\n",
              "        const charts = await google.colab.kernel.invokeFunction(\n",
              "            'suggestCharts', [key], {});\n",
              "      } catch (error) {\n",
              "        console.error('Error during call to suggestCharts:', error);\n",
              "      }\n",
              "      quickchartButtonEl.classList.remove('colab-df-spinner');\n",
              "      quickchartButtonEl.classList.add('colab-df-quickchart-complete');\n",
              "    }\n",
              "    (() => {\n",
              "      let quickchartButtonEl =\n",
              "        document.querySelector('#df-b25db8f0-e07f-4c67-8f5a-e757a3b17853 button');\n",
              "      quickchartButtonEl.style.display =\n",
              "        google.colab.kernel.accessAllowed ? 'block' : 'none';\n",
              "    })();\n",
              "  </script>\n",
              "</div>\n",
              "\n",
              "    </div>\n",
              "  </div>\n"
            ],
            "application/vnd.google.colaboratory.intrinsic+json": {
              "type": "dataframe",
              "variable_name": "df_calendar_alcaldia"
            }
          },
          "metadata": {},
          "execution_count": 13
        }
      ]
    },
    {
      "cell_type": "code",
      "source": [
        "print(f\"El rango de fechas es de: {df_calendar_alcaldia.date.min()}, hasta {df_calendar_alcaldia.date.max()}\")"
      ],
      "metadata": {
        "colab": {
          "base_uri": "https://localhost:8080/"
        },
        "id": "PxDvIwmi1-cm",
        "outputId": "50104e38-befd-47b6-9bab-90e3b2670659"
      },
      "execution_count": 14,
      "outputs": [
        {
          "output_type": "stream",
          "name": "stdout",
          "text": [
            "El rango de fechas es de: 2024-06-27, hasta 2025-06-27\n"
          ]
        }
      ]
    },
    {
      "cell_type": "code",
      "source": [
        "# Convertir la columna 'available' a 1 para 't' y 0 para 'f'\n",
        "df_calendar_alcaldia['available_binary'] = df_calendar_alcaldia['available'].apply(lambda x: 1 if x == 't' else 0)\n"
      ],
      "metadata": {
        "id": "VHz9gVSD2qae"
      },
      "execution_count": 15,
      "outputs": []
    },
    {
      "cell_type": "code",
      "source": [
        "\n",
        "#---------------------------------------------------------------------------------------------------------------------------------------------------------------------------------------------------------------------------------------------------\n",
        "# Agrupar por 'neighbourhood_cleansed' y calcular el porcentaje de ocupación promedio y el precio mediana\n",
        "df_resumen_ocupacion_precio = df_calendar_alcaldia.groupby('neighbourhood_cleansed').agg(\n",
        "    porcentaje_disponibilidad=('available_binary', 'mean'),  # Promedio de disponibilidad\n",
        "    precio_mediana=('price_numeric', 'median')                # Precio Mediana\n",
        ")\n",
        "\n",
        "# Agrupar por 'neighbourhood_cleansed' y calcular el porcentaje de ocupación promedio y el precio promedio\n",
        "df_resumen_ocupacion_precio2 = df_calendar_alcaldia.groupby('neighbourhood_cleansed').agg(\n",
        "    porcentaje_disponibilidad=('available_binary', 'mean'),  # Promedio de disponibilidad\n",
        "    precio_promedio=('price_numeric', 'mean')                # Precio Media\n",
        ")\n",
        "\n",
        "# Le sacamos el complemento a la disponibilidad, que es la ocupación\n",
        "df_resumen_ocupacion_precio['porcentaje_ocupacion'] = 1 - df_resumen_ocupacion_precio['porcentaje_disponibilidad']\n",
        "df_resumen_ocupacion_precio2['porcentaje_ocupacion'] = 1 - df_resumen_ocupacion_precio2['porcentaje_disponibilidad']\n",
        "\n",
        "\n",
        "# Calcular el Ingreso Anual estimado\n",
        "df_resumen_ocupacion_precio['Ingreso_Anual'] = df_resumen_ocupacion_precio['precio_mediana'] * 365 * (df_resumen_ocupacion_precio['porcentaje_ocupacion'])\n",
        "df_resumen_ocupacion_precio2['Ingreso_Anual'] = df_resumen_ocupacion_precio2['precio_promedio'] * 365 * (df_resumen_ocupacion_precio2['porcentaje_ocupacion'])\n",
        "\n",
        "# Ordenar por 'Ingreso_Anual' en orden descendente\n",
        "df_resumen_ocupacion_precio = df_resumen_ocupacion_precio.sort_values(by='Ingreso_Anual', ascending=False)\n",
        "df_resumen_ocupacion_precio2 = df_resumen_ocupacion_precio2.sort_values(by='Ingreso_Anual', ascending=False)\n",
        "\n",
        "\n"
      ],
      "metadata": {
        "id": "zblBwdeEjKj7"
      },
      "execution_count": 16,
      "outputs": []
    },
    {
      "cell_type": "code",
      "source": [
        "# Mostrar el resultado Mediana\n",
        "\n",
        "df_resumen_ocupacion_precio.head()"
      ],
      "metadata": {
        "colab": {
          "base_uri": "https://localhost:8080/",
          "height": 238
        },
        "id": "8AD7FpEw4d5k",
        "outputId": "93d45fa3-1372-441e-ff2a-6fa03dd22b5a"
      },
      "execution_count": 17,
      "outputs": [
        {
          "output_type": "execute_result",
          "data": {
            "text/plain": [
              "                        porcentaje_disponibilidad  precio_mediana  \\\n",
              "neighbourhood_cleansed                                              \n",
              "Miguel Hidalgo                           0.624188           950.0   \n",
              "Cuauhtémoc                               0.619896           850.0   \n",
              "La Magdalena Contreras                   0.574022           750.0   \n",
              "Cuajimalpa de Morelos                    0.648989           900.0   \n",
              "Benito Juárez                            0.586535           686.0   \n",
              "\n",
              "                        porcentaje_ocupacion  Ingreso_Anual  \n",
              "neighbourhood_cleansed                                       \n",
              "Miguel Hidalgo                      0.375812  130312.668405  \n",
              "Cuauhtémoc                          0.380104  117927.112041  \n",
              "La Magdalena Contreras              0.425978  116611.510791  \n",
              "Cuajimalpa de Morelos               0.351011  115306.961830  \n",
              "Benito Juárez                       0.413465  103527.612369  "
            ],
            "text/html": [
              "\n",
              "  <div id=\"df-7ecb43b4-4890-487d-a327-2eef0043a631\" class=\"colab-df-container\">\n",
              "    <div>\n",
              "<style scoped>\n",
              "    .dataframe tbody tr th:only-of-type {\n",
              "        vertical-align: middle;\n",
              "    }\n",
              "\n",
              "    .dataframe tbody tr th {\n",
              "        vertical-align: top;\n",
              "    }\n",
              "\n",
              "    .dataframe thead th {\n",
              "        text-align: right;\n",
              "    }\n",
              "</style>\n",
              "<table border=\"1\" class=\"dataframe\">\n",
              "  <thead>\n",
              "    <tr style=\"text-align: right;\">\n",
              "      <th></th>\n",
              "      <th>porcentaje_disponibilidad</th>\n",
              "      <th>precio_mediana</th>\n",
              "      <th>porcentaje_ocupacion</th>\n",
              "      <th>Ingreso_Anual</th>\n",
              "    </tr>\n",
              "    <tr>\n",
              "      <th>neighbourhood_cleansed</th>\n",
              "      <th></th>\n",
              "      <th></th>\n",
              "      <th></th>\n",
              "      <th></th>\n",
              "    </tr>\n",
              "  </thead>\n",
              "  <tbody>\n",
              "    <tr>\n",
              "      <th>Miguel Hidalgo</th>\n",
              "      <td>0.624188</td>\n",
              "      <td>950.0</td>\n",
              "      <td>0.375812</td>\n",
              "      <td>130312.668405</td>\n",
              "    </tr>\n",
              "    <tr>\n",
              "      <th>Cuauhtémoc</th>\n",
              "      <td>0.619896</td>\n",
              "      <td>850.0</td>\n",
              "      <td>0.380104</td>\n",
              "      <td>117927.112041</td>\n",
              "    </tr>\n",
              "    <tr>\n",
              "      <th>La Magdalena Contreras</th>\n",
              "      <td>0.574022</td>\n",
              "      <td>750.0</td>\n",
              "      <td>0.425978</td>\n",
              "      <td>116611.510791</td>\n",
              "    </tr>\n",
              "    <tr>\n",
              "      <th>Cuajimalpa de Morelos</th>\n",
              "      <td>0.648989</td>\n",
              "      <td>900.0</td>\n",
              "      <td>0.351011</td>\n",
              "      <td>115306.961830</td>\n",
              "    </tr>\n",
              "    <tr>\n",
              "      <th>Benito Juárez</th>\n",
              "      <td>0.586535</td>\n",
              "      <td>686.0</td>\n",
              "      <td>0.413465</td>\n",
              "      <td>103527.612369</td>\n",
              "    </tr>\n",
              "  </tbody>\n",
              "</table>\n",
              "</div>\n",
              "    <div class=\"colab-df-buttons\">\n",
              "\n",
              "  <div class=\"colab-df-container\">\n",
              "    <button class=\"colab-df-convert\" onclick=\"convertToInteractive('df-7ecb43b4-4890-487d-a327-2eef0043a631')\"\n",
              "            title=\"Convert this dataframe to an interactive table.\"\n",
              "            style=\"display:none;\">\n",
              "\n",
              "  <svg xmlns=\"http://www.w3.org/2000/svg\" height=\"24px\" viewBox=\"0 -960 960 960\">\n",
              "    <path d=\"M120-120v-720h720v720H120Zm60-500h600v-160H180v160Zm220 220h160v-160H400v160Zm0 220h160v-160H400v160ZM180-400h160v-160H180v160Zm440 0h160v-160H620v160ZM180-180h160v-160H180v160Zm440 0h160v-160H620v160Z\"/>\n",
              "  </svg>\n",
              "    </button>\n",
              "\n",
              "  <style>\n",
              "    .colab-df-container {\n",
              "      display:flex;\n",
              "      gap: 12px;\n",
              "    }\n",
              "\n",
              "    .colab-df-convert {\n",
              "      background-color: #E8F0FE;\n",
              "      border: none;\n",
              "      border-radius: 50%;\n",
              "      cursor: pointer;\n",
              "      display: none;\n",
              "      fill: #1967D2;\n",
              "      height: 32px;\n",
              "      padding: 0 0 0 0;\n",
              "      width: 32px;\n",
              "    }\n",
              "\n",
              "    .colab-df-convert:hover {\n",
              "      background-color: #E2EBFA;\n",
              "      box-shadow: 0px 1px 2px rgba(60, 64, 67, 0.3), 0px 1px 3px 1px rgba(60, 64, 67, 0.15);\n",
              "      fill: #174EA6;\n",
              "    }\n",
              "\n",
              "    .colab-df-buttons div {\n",
              "      margin-bottom: 4px;\n",
              "    }\n",
              "\n",
              "    [theme=dark] .colab-df-convert {\n",
              "      background-color: #3B4455;\n",
              "      fill: #D2E3FC;\n",
              "    }\n",
              "\n",
              "    [theme=dark] .colab-df-convert:hover {\n",
              "      background-color: #434B5C;\n",
              "      box-shadow: 0px 1px 3px 1px rgba(0, 0, 0, 0.15);\n",
              "      filter: drop-shadow(0px 1px 2px rgba(0, 0, 0, 0.3));\n",
              "      fill: #FFFFFF;\n",
              "    }\n",
              "  </style>\n",
              "\n",
              "    <script>\n",
              "      const buttonEl =\n",
              "        document.querySelector('#df-7ecb43b4-4890-487d-a327-2eef0043a631 button.colab-df-convert');\n",
              "      buttonEl.style.display =\n",
              "        google.colab.kernel.accessAllowed ? 'block' : 'none';\n",
              "\n",
              "      async function convertToInteractive(key) {\n",
              "        const element = document.querySelector('#df-7ecb43b4-4890-487d-a327-2eef0043a631');\n",
              "        const dataTable =\n",
              "          await google.colab.kernel.invokeFunction('convertToInteractive',\n",
              "                                                    [key], {});\n",
              "        if (!dataTable) return;\n",
              "\n",
              "        const docLinkHtml = 'Like what you see? Visit the ' +\n",
              "          '<a target=\"_blank\" href=https://colab.research.google.com/notebooks/data_table.ipynb>data table notebook</a>'\n",
              "          + ' to learn more about interactive tables.';\n",
              "        element.innerHTML = '';\n",
              "        dataTable['output_type'] = 'display_data';\n",
              "        await google.colab.output.renderOutput(dataTable, element);\n",
              "        const docLink = document.createElement('div');\n",
              "        docLink.innerHTML = docLinkHtml;\n",
              "        element.appendChild(docLink);\n",
              "      }\n",
              "    </script>\n",
              "  </div>\n",
              "\n",
              "\n",
              "<div id=\"df-5e623a95-4b92-4e2e-9485-717539f98ede\">\n",
              "  <button class=\"colab-df-quickchart\" onclick=\"quickchart('df-5e623a95-4b92-4e2e-9485-717539f98ede')\"\n",
              "            title=\"Suggest charts\"\n",
              "            style=\"display:none;\">\n",
              "\n",
              "<svg xmlns=\"http://www.w3.org/2000/svg\" height=\"24px\"viewBox=\"0 0 24 24\"\n",
              "     width=\"24px\">\n",
              "    <g>\n",
              "        <path d=\"M19 3H5c-1.1 0-2 .9-2 2v14c0 1.1.9 2 2 2h14c1.1 0 2-.9 2-2V5c0-1.1-.9-2-2-2zM9 17H7v-7h2v7zm4 0h-2V7h2v10zm4 0h-2v-4h2v4z\"/>\n",
              "    </g>\n",
              "</svg>\n",
              "  </button>\n",
              "\n",
              "<style>\n",
              "  .colab-df-quickchart {\n",
              "      --bg-color: #E8F0FE;\n",
              "      --fill-color: #1967D2;\n",
              "      --hover-bg-color: #E2EBFA;\n",
              "      --hover-fill-color: #174EA6;\n",
              "      --disabled-fill-color: #AAA;\n",
              "      --disabled-bg-color: #DDD;\n",
              "  }\n",
              "\n",
              "  [theme=dark] .colab-df-quickchart {\n",
              "      --bg-color: #3B4455;\n",
              "      --fill-color: #D2E3FC;\n",
              "      --hover-bg-color: #434B5C;\n",
              "      --hover-fill-color: #FFFFFF;\n",
              "      --disabled-bg-color: #3B4455;\n",
              "      --disabled-fill-color: #666;\n",
              "  }\n",
              "\n",
              "  .colab-df-quickchart {\n",
              "    background-color: var(--bg-color);\n",
              "    border: none;\n",
              "    border-radius: 50%;\n",
              "    cursor: pointer;\n",
              "    display: none;\n",
              "    fill: var(--fill-color);\n",
              "    height: 32px;\n",
              "    padding: 0;\n",
              "    width: 32px;\n",
              "  }\n",
              "\n",
              "  .colab-df-quickchart:hover {\n",
              "    background-color: var(--hover-bg-color);\n",
              "    box-shadow: 0 1px 2px rgba(60, 64, 67, 0.3), 0 1px 3px 1px rgba(60, 64, 67, 0.15);\n",
              "    fill: var(--button-hover-fill-color);\n",
              "  }\n",
              "\n",
              "  .colab-df-quickchart-complete:disabled,\n",
              "  .colab-df-quickchart-complete:disabled:hover {\n",
              "    background-color: var(--disabled-bg-color);\n",
              "    fill: var(--disabled-fill-color);\n",
              "    box-shadow: none;\n",
              "  }\n",
              "\n",
              "  .colab-df-spinner {\n",
              "    border: 2px solid var(--fill-color);\n",
              "    border-color: transparent;\n",
              "    border-bottom-color: var(--fill-color);\n",
              "    animation:\n",
              "      spin 1s steps(1) infinite;\n",
              "  }\n",
              "\n",
              "  @keyframes spin {\n",
              "    0% {\n",
              "      border-color: transparent;\n",
              "      border-bottom-color: var(--fill-color);\n",
              "      border-left-color: var(--fill-color);\n",
              "    }\n",
              "    20% {\n",
              "      border-color: transparent;\n",
              "      border-left-color: var(--fill-color);\n",
              "      border-top-color: var(--fill-color);\n",
              "    }\n",
              "    30% {\n",
              "      border-color: transparent;\n",
              "      border-left-color: var(--fill-color);\n",
              "      border-top-color: var(--fill-color);\n",
              "      border-right-color: var(--fill-color);\n",
              "    }\n",
              "    40% {\n",
              "      border-color: transparent;\n",
              "      border-right-color: var(--fill-color);\n",
              "      border-top-color: var(--fill-color);\n",
              "    }\n",
              "    60% {\n",
              "      border-color: transparent;\n",
              "      border-right-color: var(--fill-color);\n",
              "    }\n",
              "    80% {\n",
              "      border-color: transparent;\n",
              "      border-right-color: var(--fill-color);\n",
              "      border-bottom-color: var(--fill-color);\n",
              "    }\n",
              "    90% {\n",
              "      border-color: transparent;\n",
              "      border-bottom-color: var(--fill-color);\n",
              "    }\n",
              "  }\n",
              "</style>\n",
              "\n",
              "  <script>\n",
              "    async function quickchart(key) {\n",
              "      const quickchartButtonEl =\n",
              "        document.querySelector('#' + key + ' button');\n",
              "      quickchartButtonEl.disabled = true;  // To prevent multiple clicks.\n",
              "      quickchartButtonEl.classList.add('colab-df-spinner');\n",
              "      try {\n",
              "        const charts = await google.colab.kernel.invokeFunction(\n",
              "            'suggestCharts', [key], {});\n",
              "      } catch (error) {\n",
              "        console.error('Error during call to suggestCharts:', error);\n",
              "      }\n",
              "      quickchartButtonEl.classList.remove('colab-df-spinner');\n",
              "      quickchartButtonEl.classList.add('colab-df-quickchart-complete');\n",
              "    }\n",
              "    (() => {\n",
              "      let quickchartButtonEl =\n",
              "        document.querySelector('#df-5e623a95-4b92-4e2e-9485-717539f98ede button');\n",
              "      quickchartButtonEl.style.display =\n",
              "        google.colab.kernel.accessAllowed ? 'block' : 'none';\n",
              "    })();\n",
              "  </script>\n",
              "</div>\n",
              "\n",
              "    </div>\n",
              "  </div>\n"
            ],
            "application/vnd.google.colaboratory.intrinsic+json": {
              "type": "dataframe",
              "variable_name": "df_resumen_ocupacion_precio",
              "summary": "{\n  \"name\": \"df_resumen_ocupacion_precio\",\n  \"rows\": 16,\n  \"fields\": [\n    {\n      \"column\": \"neighbourhood_cleansed\",\n      \"properties\": {\n        \"dtype\": \"string\",\n        \"num_unique_values\": 16,\n        \"samples\": [\n          \"Miguel Hidalgo\",\n          \"Cuauht\\u00e9moc\",\n          \"\\u00c1lvaro Obreg\\u00f3n\"\n        ],\n        \"semantic_type\": \"\",\n        \"description\": \"\"\n      }\n    },\n    {\n      \"column\": \"porcentaje_disponibilidad\",\n      \"properties\": {\n        \"dtype\": \"number\",\n        \"std\": 0.042442684298778635,\n        \"min\": 0.56720585475699,\n        \"max\": 0.7104277327369304,\n        \"num_unique_values\": 16,\n        \"samples\": [\n          0.6241884112327577,\n          0.6198964962427642,\n          0.6130193385053078\n        ],\n        \"semantic_type\": \"\",\n        \"description\": \"\"\n      }\n    },\n    {\n      \"column\": \"precio_mediana\",\n      \"properties\": {\n        \"dtype\": \"number\",\n        \"std\": 163.65713333572316,\n        \"min\": 350.0,\n        \"max\": 950.0,\n        \"num_unique_values\": 14,\n        \"samples\": [\n          650.0,\n          500.0,\n          950.0\n        ],\n        \"semantic_type\": \"\",\n        \"description\": \"\"\n      }\n    },\n    {\n      \"column\": \"porcentaje_ocupacion\",\n      \"properties\": {\n        \"dtype\": \"number\",\n        \"std\": 0.042442684298778635,\n        \"min\": 0.2895722672630696,\n        \"max\": 0.43279414524300996,\n        \"num_unique_values\": 16,\n        \"samples\": [\n          0.3758115887672423,\n          0.3801035037572358,\n          0.38698066149469224\n        ],\n        \"semantic_type\": \"\",\n        \"description\": \"\"\n      }\n    },\n    {\n      \"column\": \"Ingreso_Anual\",\n      \"properties\": {\n        \"dtype\": \"number\",\n        \"std\": 24592.755388606154,\n        \"min\": 36992.857142857145,\n        \"max\": 130312.66840504127,\n        \"num_unique_values\": 16,\n        \"samples\": [\n          130312.66840504127,\n          117927.1120406824,\n          98873.55901189387\n        ],\n        \"semantic_type\": \"\",\n        \"description\": \"\"\n      }\n    }\n  ]\n}"
            }
          },
          "metadata": {},
          "execution_count": 17
        }
      ]
    },
    {
      "cell_type": "code",
      "source": [
        "# Mostrar el resultado Media\n",
        "\n",
        "df_resumen_ocupacion_precio2.head()"
      ],
      "metadata": {
        "colab": {
          "base_uri": "https://localhost:8080/",
          "height": 238
        },
        "id": "2ChTde9M4pQG",
        "outputId": "8e381183-a6c0-443e-d96c-fd9db3414114"
      },
      "execution_count": 18,
      "outputs": [
        {
          "output_type": "execute_result",
          "data": {
            "text/plain": [
              "                        porcentaje_disponibilidad  precio_promedio  \\\n",
              "neighbourhood_cleansed                                               \n",
              "Iztacalco                                0.640925      2591.898438   \n",
              "Xochimilco                               0.648868      2573.794326   \n",
              "Iztapalapa                               0.643670      1915.041667   \n",
              "Miguel Hidalgo                           0.624188      1479.736419   \n",
              "Cuauhtémoc                               0.619896      1365.147509   \n",
              "\n",
              "                        porcentaje_ocupacion  Ingreso_Anual  \n",
              "neighbourhood_cleansed                                       \n",
              "Iztacalco                           0.359075  339700.688965  \n",
              "Xochimilco                          0.351132  329865.512550  \n",
              "Iztapalapa                          0.356330  249071.479798  \n",
              "Miguel Hidalgo                      0.375812  202977.264515  \n",
              "Cuauhtémoc                          0.380104  189397.533234  "
            ],
            "text/html": [
              "\n",
              "  <div id=\"df-1382ee2b-e30c-4df5-aaab-f0ef12b0ebba\" class=\"colab-df-container\">\n",
              "    <div>\n",
              "<style scoped>\n",
              "    .dataframe tbody tr th:only-of-type {\n",
              "        vertical-align: middle;\n",
              "    }\n",
              "\n",
              "    .dataframe tbody tr th {\n",
              "        vertical-align: top;\n",
              "    }\n",
              "\n",
              "    .dataframe thead th {\n",
              "        text-align: right;\n",
              "    }\n",
              "</style>\n",
              "<table border=\"1\" class=\"dataframe\">\n",
              "  <thead>\n",
              "    <tr style=\"text-align: right;\">\n",
              "      <th></th>\n",
              "      <th>porcentaje_disponibilidad</th>\n",
              "      <th>precio_promedio</th>\n",
              "      <th>porcentaje_ocupacion</th>\n",
              "      <th>Ingreso_Anual</th>\n",
              "    </tr>\n",
              "    <tr>\n",
              "      <th>neighbourhood_cleansed</th>\n",
              "      <th></th>\n",
              "      <th></th>\n",
              "      <th></th>\n",
              "      <th></th>\n",
              "    </tr>\n",
              "  </thead>\n",
              "  <tbody>\n",
              "    <tr>\n",
              "      <th>Iztacalco</th>\n",
              "      <td>0.640925</td>\n",
              "      <td>2591.898438</td>\n",
              "      <td>0.359075</td>\n",
              "      <td>339700.688965</td>\n",
              "    </tr>\n",
              "    <tr>\n",
              "      <th>Xochimilco</th>\n",
              "      <td>0.648868</td>\n",
              "      <td>2573.794326</td>\n",
              "      <td>0.351132</td>\n",
              "      <td>329865.512550</td>\n",
              "    </tr>\n",
              "    <tr>\n",
              "      <th>Iztapalapa</th>\n",
              "      <td>0.643670</td>\n",
              "      <td>1915.041667</td>\n",
              "      <td>0.356330</td>\n",
              "      <td>249071.479798</td>\n",
              "    </tr>\n",
              "    <tr>\n",
              "      <th>Miguel Hidalgo</th>\n",
              "      <td>0.624188</td>\n",
              "      <td>1479.736419</td>\n",
              "      <td>0.375812</td>\n",
              "      <td>202977.264515</td>\n",
              "    </tr>\n",
              "    <tr>\n",
              "      <th>Cuauhtémoc</th>\n",
              "      <td>0.619896</td>\n",
              "      <td>1365.147509</td>\n",
              "      <td>0.380104</td>\n",
              "      <td>189397.533234</td>\n",
              "    </tr>\n",
              "  </tbody>\n",
              "</table>\n",
              "</div>\n",
              "    <div class=\"colab-df-buttons\">\n",
              "\n",
              "  <div class=\"colab-df-container\">\n",
              "    <button class=\"colab-df-convert\" onclick=\"convertToInteractive('df-1382ee2b-e30c-4df5-aaab-f0ef12b0ebba')\"\n",
              "            title=\"Convert this dataframe to an interactive table.\"\n",
              "            style=\"display:none;\">\n",
              "\n",
              "  <svg xmlns=\"http://www.w3.org/2000/svg\" height=\"24px\" viewBox=\"0 -960 960 960\">\n",
              "    <path d=\"M120-120v-720h720v720H120Zm60-500h600v-160H180v160Zm220 220h160v-160H400v160Zm0 220h160v-160H400v160ZM180-400h160v-160H180v160Zm440 0h160v-160H620v160ZM180-180h160v-160H180v160Zm440 0h160v-160H620v160Z\"/>\n",
              "  </svg>\n",
              "    </button>\n",
              "\n",
              "  <style>\n",
              "    .colab-df-container {\n",
              "      display:flex;\n",
              "      gap: 12px;\n",
              "    }\n",
              "\n",
              "    .colab-df-convert {\n",
              "      background-color: #E8F0FE;\n",
              "      border: none;\n",
              "      border-radius: 50%;\n",
              "      cursor: pointer;\n",
              "      display: none;\n",
              "      fill: #1967D2;\n",
              "      height: 32px;\n",
              "      padding: 0 0 0 0;\n",
              "      width: 32px;\n",
              "    }\n",
              "\n",
              "    .colab-df-convert:hover {\n",
              "      background-color: #E2EBFA;\n",
              "      box-shadow: 0px 1px 2px rgba(60, 64, 67, 0.3), 0px 1px 3px 1px rgba(60, 64, 67, 0.15);\n",
              "      fill: #174EA6;\n",
              "    }\n",
              "\n",
              "    .colab-df-buttons div {\n",
              "      margin-bottom: 4px;\n",
              "    }\n",
              "\n",
              "    [theme=dark] .colab-df-convert {\n",
              "      background-color: #3B4455;\n",
              "      fill: #D2E3FC;\n",
              "    }\n",
              "\n",
              "    [theme=dark] .colab-df-convert:hover {\n",
              "      background-color: #434B5C;\n",
              "      box-shadow: 0px 1px 3px 1px rgba(0, 0, 0, 0.15);\n",
              "      filter: drop-shadow(0px 1px 2px rgba(0, 0, 0, 0.3));\n",
              "      fill: #FFFFFF;\n",
              "    }\n",
              "  </style>\n",
              "\n",
              "    <script>\n",
              "      const buttonEl =\n",
              "        document.querySelector('#df-1382ee2b-e30c-4df5-aaab-f0ef12b0ebba button.colab-df-convert');\n",
              "      buttonEl.style.display =\n",
              "        google.colab.kernel.accessAllowed ? 'block' : 'none';\n",
              "\n",
              "      async function convertToInteractive(key) {\n",
              "        const element = document.querySelector('#df-1382ee2b-e30c-4df5-aaab-f0ef12b0ebba');\n",
              "        const dataTable =\n",
              "          await google.colab.kernel.invokeFunction('convertToInteractive',\n",
              "                                                    [key], {});\n",
              "        if (!dataTable) return;\n",
              "\n",
              "        const docLinkHtml = 'Like what you see? Visit the ' +\n",
              "          '<a target=\"_blank\" href=https://colab.research.google.com/notebooks/data_table.ipynb>data table notebook</a>'\n",
              "          + ' to learn more about interactive tables.';\n",
              "        element.innerHTML = '';\n",
              "        dataTable['output_type'] = 'display_data';\n",
              "        await google.colab.output.renderOutput(dataTable, element);\n",
              "        const docLink = document.createElement('div');\n",
              "        docLink.innerHTML = docLinkHtml;\n",
              "        element.appendChild(docLink);\n",
              "      }\n",
              "    </script>\n",
              "  </div>\n",
              "\n",
              "\n",
              "<div id=\"df-f1c3cf08-3d4c-40a4-83a6-b02b1ae15969\">\n",
              "  <button class=\"colab-df-quickchart\" onclick=\"quickchart('df-f1c3cf08-3d4c-40a4-83a6-b02b1ae15969')\"\n",
              "            title=\"Suggest charts\"\n",
              "            style=\"display:none;\">\n",
              "\n",
              "<svg xmlns=\"http://www.w3.org/2000/svg\" height=\"24px\"viewBox=\"0 0 24 24\"\n",
              "     width=\"24px\">\n",
              "    <g>\n",
              "        <path d=\"M19 3H5c-1.1 0-2 .9-2 2v14c0 1.1.9 2 2 2h14c1.1 0 2-.9 2-2V5c0-1.1-.9-2-2-2zM9 17H7v-7h2v7zm4 0h-2V7h2v10zm4 0h-2v-4h2v4z\"/>\n",
              "    </g>\n",
              "</svg>\n",
              "  </button>\n",
              "\n",
              "<style>\n",
              "  .colab-df-quickchart {\n",
              "      --bg-color: #E8F0FE;\n",
              "      --fill-color: #1967D2;\n",
              "      --hover-bg-color: #E2EBFA;\n",
              "      --hover-fill-color: #174EA6;\n",
              "      --disabled-fill-color: #AAA;\n",
              "      --disabled-bg-color: #DDD;\n",
              "  }\n",
              "\n",
              "  [theme=dark] .colab-df-quickchart {\n",
              "      --bg-color: #3B4455;\n",
              "      --fill-color: #D2E3FC;\n",
              "      --hover-bg-color: #434B5C;\n",
              "      --hover-fill-color: #FFFFFF;\n",
              "      --disabled-bg-color: #3B4455;\n",
              "      --disabled-fill-color: #666;\n",
              "  }\n",
              "\n",
              "  .colab-df-quickchart {\n",
              "    background-color: var(--bg-color);\n",
              "    border: none;\n",
              "    border-radius: 50%;\n",
              "    cursor: pointer;\n",
              "    display: none;\n",
              "    fill: var(--fill-color);\n",
              "    height: 32px;\n",
              "    padding: 0;\n",
              "    width: 32px;\n",
              "  }\n",
              "\n",
              "  .colab-df-quickchart:hover {\n",
              "    background-color: var(--hover-bg-color);\n",
              "    box-shadow: 0 1px 2px rgba(60, 64, 67, 0.3), 0 1px 3px 1px rgba(60, 64, 67, 0.15);\n",
              "    fill: var(--button-hover-fill-color);\n",
              "  }\n",
              "\n",
              "  .colab-df-quickchart-complete:disabled,\n",
              "  .colab-df-quickchart-complete:disabled:hover {\n",
              "    background-color: var(--disabled-bg-color);\n",
              "    fill: var(--disabled-fill-color);\n",
              "    box-shadow: none;\n",
              "  }\n",
              "\n",
              "  .colab-df-spinner {\n",
              "    border: 2px solid var(--fill-color);\n",
              "    border-color: transparent;\n",
              "    border-bottom-color: var(--fill-color);\n",
              "    animation:\n",
              "      spin 1s steps(1) infinite;\n",
              "  }\n",
              "\n",
              "  @keyframes spin {\n",
              "    0% {\n",
              "      border-color: transparent;\n",
              "      border-bottom-color: var(--fill-color);\n",
              "      border-left-color: var(--fill-color);\n",
              "    }\n",
              "    20% {\n",
              "      border-color: transparent;\n",
              "      border-left-color: var(--fill-color);\n",
              "      border-top-color: var(--fill-color);\n",
              "    }\n",
              "    30% {\n",
              "      border-color: transparent;\n",
              "      border-left-color: var(--fill-color);\n",
              "      border-top-color: var(--fill-color);\n",
              "      border-right-color: var(--fill-color);\n",
              "    }\n",
              "    40% {\n",
              "      border-color: transparent;\n",
              "      border-right-color: var(--fill-color);\n",
              "      border-top-color: var(--fill-color);\n",
              "    }\n",
              "    60% {\n",
              "      border-color: transparent;\n",
              "      border-right-color: var(--fill-color);\n",
              "    }\n",
              "    80% {\n",
              "      border-color: transparent;\n",
              "      border-right-color: var(--fill-color);\n",
              "      border-bottom-color: var(--fill-color);\n",
              "    }\n",
              "    90% {\n",
              "      border-color: transparent;\n",
              "      border-bottom-color: var(--fill-color);\n",
              "    }\n",
              "  }\n",
              "</style>\n",
              "\n",
              "  <script>\n",
              "    async function quickchart(key) {\n",
              "      const quickchartButtonEl =\n",
              "        document.querySelector('#' + key + ' button');\n",
              "      quickchartButtonEl.disabled = true;  // To prevent multiple clicks.\n",
              "      quickchartButtonEl.classList.add('colab-df-spinner');\n",
              "      try {\n",
              "        const charts = await google.colab.kernel.invokeFunction(\n",
              "            'suggestCharts', [key], {});\n",
              "      } catch (error) {\n",
              "        console.error('Error during call to suggestCharts:', error);\n",
              "      }\n",
              "      quickchartButtonEl.classList.remove('colab-df-spinner');\n",
              "      quickchartButtonEl.classList.add('colab-df-quickchart-complete');\n",
              "    }\n",
              "    (() => {\n",
              "      let quickchartButtonEl =\n",
              "        document.querySelector('#df-f1c3cf08-3d4c-40a4-83a6-b02b1ae15969 button');\n",
              "      quickchartButtonEl.style.display =\n",
              "        google.colab.kernel.accessAllowed ? 'block' : 'none';\n",
              "    })();\n",
              "  </script>\n",
              "</div>\n",
              "\n",
              "    </div>\n",
              "  </div>\n"
            ],
            "application/vnd.google.colaboratory.intrinsic+json": {
              "type": "dataframe",
              "variable_name": "df_resumen_ocupacion_precio2",
              "summary": "{\n  \"name\": \"df_resumen_ocupacion_precio2\",\n  \"rows\": 16,\n  \"fields\": [\n    {\n      \"column\": \"neighbourhood_cleansed\",\n      \"properties\": {\n        \"dtype\": \"string\",\n        \"num_unique_values\": 16,\n        \"samples\": [\n          \"Iztacalco\",\n          \"Xochimilco\",\n          \"Cuajimalpa de Morelos\"\n        ],\n        \"semantic_type\": \"\",\n        \"description\": \"\"\n      }\n    },\n    {\n      \"column\": \"porcentaje_disponibilidad\",\n      \"properties\": {\n        \"dtype\": \"number\",\n        \"std\": 0.042442684298778635,\n        \"min\": 0.56720585475699,\n        \"max\": 0.7104277327369304,\n        \"num_unique_values\": 16,\n        \"samples\": [\n          0.6409246575342465,\n          0.6488681628291072,\n          0.6489894617059173\n        ],\n        \"semantic_type\": \"\",\n        \"description\": \"\"\n      }\n    },\n    {\n      \"column\": \"precio_promedio\",\n      \"properties\": {\n        \"dtype\": \"number\",\n        \"std\": 614.3039198195381,\n        \"min\": 547.1020408163265,\n        \"max\": 2591.8984375,\n        \"num_unique_values\": 16,\n        \"samples\": [\n          2591.8984375,\n          2573.794326241135,\n          1405.725367356026\n        ],\n        \"semantic_type\": \"\",\n        \"description\": \"\"\n      }\n    },\n    {\n      \"column\": \"porcentaje_ocupacion\",\n      \"properties\": {\n        \"dtype\": \"number\",\n        \"std\": 0.042442684298778635,\n        \"min\": 0.2895722672630696,\n        \"max\": 0.43279414524300996,\n        \"num_unique_values\": 16,\n        \"samples\": [\n          0.35907534246575346,\n          0.3511318371708928,\n          0.3510105382940827\n        ],\n        \"semantic_type\": \"\",\n        \"description\": \"\"\n      }\n    },\n    {\n      \"column\": \"Ingreso_Anual\",\n      \"properties\": {\n        \"dtype\": \"number\",\n        \"std\": 77847.39341351506,\n        \"min\": 57825.33610995418,\n        \"max\": 339700.68896484375,\n        \"num_unique_values\": 16,\n        \"samples\": [\n          339700.68896484375,\n          329865.51254967053,\n          180099.91252958932\n        ],\n        \"semantic_type\": \"\",\n        \"description\": \"\"\n      }\n    }\n  ]\n}"
            }
          },
          "metadata": {},
          "execution_count": 18
        }
      ]
    },
    {
      "cell_type": "markdown",
      "source": [
        "Selecciono las primeras cuatro zonas para realizar un análisis más detallado basado en la mediana.\n",
        "\n"
      ],
      "metadata": {
        "id": "Dwb8Rgvl6VQr"
      }
    },
    {
      "cell_type": "markdown",
      "source": [
        "De acuerdo con divesos portales inmobiliarios como [Mudafy](https://mudafy.com.mx/d/valor-metro-cuadrado-cdmx) y [Clau](https://www.clau.com/precios/ciudad-de-mexico), las alcaldías de Miguel Hidalgo, Cuautémoc y Cuajimalpa de Morelos son las que tienen un precio más elevado por m2. Sin embargo, La Magdalena Contreras\t es de las que tienen un precio mas bajo, por lo que su retorno de inversión sería de menor tiempo en comparación de sus peer's más cercano que es la alcaldía Cuautémoc y Cuajimalpa de Morelos\t."
      ],
      "metadata": {
        "id": "ZwHvKMWqTHTk"
      }
    },
    {
      "cell_type": "markdown",
      "source": [
        "![image.png](data:image/png;base64,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)"
      ],
      "metadata": {
        "id": "Gr8deFaHyft7"
      }
    },
    {
      "cell_type": "markdown",
      "source": [
        "## Listings"
      ],
      "metadata": {
        "id": "n4KBO_NT6lZW"
      }
    },
    {
      "cell_type": "markdown",
      "source": [
        "## Magdalena Contreras"
      ],
      "metadata": {
        "id": "43h4cvg6Ompi"
      }
    },
    {
      "cell_type": "code",
      "source": [
        "listings_Magdalena = listings[listings[\"neighbourhood_cleansed\"] == 'La Magdalena Contreras']"
      ],
      "metadata": {
        "id": "d6WsoIuGIuHV"
      },
      "execution_count": null,
      "outputs": []
    },
    {
      "cell_type": "code",
      "source": [
        "print(f\"Hay {listings_Magdalena.shape[0]} apartamentos en La Magdalena Contreras y {listings_Magdalena[listings_Magdalena['number_of_reviews']>0].shape[0]} con reviews\" )"
      ],
      "metadata": {
        "colab": {
          "base_uri": "https://localhost:8080/"
        },
        "id": "x-tDqZSHbj5J",
        "outputId": "d5caf94f-4122-4985-9210-93269e95c13d"
      },
      "execution_count": null,
      "outputs": [
        {
          "output_type": "stream",
          "name": "stdout",
          "text": [
            "Hay 139 apartamentos en La Magdalena Contreras y 103 con reviews\n"
          ]
        }
      ]
    },
    {
      "cell_type": "markdown",
      "source": [
        "El número de apartamentos por alcaldía está distribuido de la siguiente forma."
      ],
      "metadata": {
        "id": "RNjOMwcJGH-m"
      }
    },
    {
      "cell_type": "code",
      "source": [
        "agg_df_host = listings_Magdalena.groupby(['room_type']).agg({'calculated_host_listings_count': 'count'}).reset_index()\n",
        "agg_df_host = agg_df_host.sort_values(by='calculated_host_listings_count', ascending=True)"
      ],
      "metadata": {
        "id": "Eo0k08OzAYQP"
      },
      "execution_count": null,
      "outputs": []
    },
    {
      "cell_type": "markdown",
      "source": [
        "El tipo de apartamento de mayor interés a rentar es un departamento privado, probablemente porque al igual que un departamento entero este igual ofrece comodidad y flexibilidad. Este tipo de alojamiento ofrece una experiencia más cercana a la de estar en casa, lo que cumple con las expectativas de muchos viajeros.\n",
        "\n",
        "En consecuencia, invertir en departamentos privados podría ser una de las mejores decisiones, dado que son los más rentados y presentan una alta demanda.\n",
        "\n",
        "Como se puede observar el tipo apartamento compartido es el menos popular, entendble debido a lo mencionado anteriormente"
      ],
      "metadata": {
        "id": "i2k9muOsDTkM"
      }
    },
    {
      "cell_type": "code",
      "source": [
        "fig = px.bar(agg_df_host,\n",
        "             x='calculated_host_listings_count',\n",
        "             y='room_type',\n",
        "             orientation='h',\n",
        "             text='calculated_host_listings_count',\n",
        "             labels={'calculated_host_listings_count': 'Cantidad de viviendas', 'room_type': 'Tipo de habitación'},\n",
        "             title=\"Cantidad de viviendas rentadas por tipo de apartamento en La Mgdalena Contreras\")\n",
        "\n",
        "fig.show()"
      ],
      "metadata": {
        "colab": {
          "base_uri": "https://localhost:8080/",
          "height": 542
        },
        "id": "oONs8ztMAxSA",
        "outputId": "049af84e-b2c8-483f-9cc9-6dccf18cc8f1"
      },
      "execution_count": null,
      "outputs": [
        {
          "output_type": "display_data",
          "data": {
            "text/html": [
              "<html>\n",
              "<head><meta charset=\"utf-8\" /></head>\n",
              "<body>\n",
              "    <div>            <script src=\"https://cdnjs.cloudflare.com/ajax/libs/mathjax/2.7.5/MathJax.js?config=TeX-AMS-MML_SVG\"></script><script type=\"text/javascript\">if (window.MathJax && window.MathJax.Hub && window.MathJax.Hub.Config) {window.MathJax.Hub.Config({SVG: {font: \"STIX-Web\"}});}</script>                <script type=\"text/javascript\">window.PlotlyConfig = {MathJaxConfig: 'local'};</script>\n",
              "        <script charset=\"utf-8\" src=\"https://cdn.plot.ly/plotly-2.35.2.min.js\"></script>                <div id=\"8c80769e-cb48-404a-b306-75e3f273ba6e\" class=\"plotly-graph-div\" style=\"height:525px; width:100%;\"></div>            <script type=\"text/javascript\">                                    window.PLOTLYENV=window.PLOTLYENV || {};                                    if (document.getElementById(\"8c80769e-cb48-404a-b306-75e3f273ba6e\")) {                    Plotly.newPlot(                        \"8c80769e-cb48-404a-b306-75e3f273ba6e\",                        [{\"alignmentgroup\":\"True\",\"hovertemplate\":\"Cantidad de viviendas=%{text}\\u003cbr\\u003eTipo de habitaci\\u00f3n=%{y}\\u003cextra\\u003e\\u003c\\u002fextra\\u003e\",\"legendgroup\":\"\",\"marker\":{\"color\":\"#636efa\",\"pattern\":{\"shape\":\"\"}},\"name\":\"\",\"offsetgroup\":\"\",\"orientation\":\"h\",\"showlegend\":false,\"text\":[1.0,65.0,73.0],\"textposition\":\"auto\",\"x\":[1,65,73],\"xaxis\":\"x\",\"y\":[\"Shared room\",\"Entire home\\u002fapt\",\"Private room\"],\"yaxis\":\"y\",\"type\":\"bar\"}],                        {\"template\":{\"data\":{\"histogram2dcontour\":[{\"type\":\"histogram2dcontour\",\"colorbar\":{\"outlinewidth\":0,\"ticks\":\"\"},\"colorscale\":[[0.0,\"#0d0887\"],[0.1111111111111111,\"#46039f\"],[0.2222222222222222,\"#7201a8\"],[0.3333333333333333,\"#9c179e\"],[0.4444444444444444,\"#bd3786\"],[0.5555555555555556,\"#d8576b\"],[0.6666666666666666,\"#ed7953\"],[0.7777777777777778,\"#fb9f3a\"],[0.8888888888888888,\"#fdca26\"],[1.0,\"#f0f921\"]]}],\"choropleth\":[{\"type\":\"choropleth\",\"colorbar\":{\"outlinewidth\":0,\"ticks\":\"\"}}],\"histogram2d\":[{\"type\":\"histogram2d\",\"colorbar\":{\"outlinewidth\":0,\"ticks\":\"\"},\"colorscale\":[[0.0,\"#0d0887\"],[0.1111111111111111,\"#46039f\"],[0.2222222222222222,\"#7201a8\"],[0.3333333333333333,\"#9c179e\"],[0.4444444444444444,\"#bd3786\"],[0.5555555555555556,\"#d8576b\"],[0.6666666666666666,\"#ed7953\"],[0.7777777777777778,\"#fb9f3a\"],[0.8888888888888888,\"#fdca26\"],[1.0,\"#f0f921\"]]}],\"heatmap\":[{\"type\":\"heatmap\",\"colorbar\":{\"outlinewidth\":0,\"ticks\":\"\"},\"colorscale\":[[0.0,\"#0d0887\"],[0.1111111111111111,\"#46039f\"],[0.2222222222222222,\"#7201a8\"],[0.3333333333333333,\"#9c179e\"],[0.4444444444444444,\"#bd3786\"],[0.5555555555555556,\"#d8576b\"],[0.6666666666666666,\"#ed7953\"],[0.7777777777777778,\"#fb9f3a\"],[0.8888888888888888,\"#fdca26\"],[1.0,\"#f0f921\"]]}],\"heatmapgl\":[{\"type\":\"heatmapgl\",\"colorbar\":{\"outlinewidth\":0,\"ticks\":\"\"},\"colorscale\":[[0.0,\"#0d0887\"],[0.1111111111111111,\"#46039f\"],[0.2222222222222222,\"#7201a8\"],[0.3333333333333333,\"#9c179e\"],[0.4444444444444444,\"#bd3786\"],[0.5555555555555556,\"#d8576b\"],[0.6666666666666666,\"#ed7953\"],[0.7777777777777778,\"#fb9f3a\"],[0.8888888888888888,\"#fdca26\"],[1.0,\"#f0f921\"]]}],\"contourcarpet\":[{\"type\":\"contourcarpet\",\"colorbar\":{\"outlinewidth\":0,\"ticks\":\"\"}}],\"contour\":[{\"type\":\"contour\",\"colorbar\":{\"outlinewidth\":0,\"ticks\":\"\"},\"colorscale\":[[0.0,\"#0d0887\"],[0.1111111111111111,\"#46039f\"],[0.2222222222222222,\"#7201a8\"],[0.3333333333333333,\"#9c179e\"],[0.4444444444444444,\"#bd3786\"],[0.5555555555555556,\"#d8576b\"],[0.6666666666666666,\"#ed7953\"],[0.7777777777777778,\"#fb9f3a\"],[0.8888888888888888,\"#fdca26\"],[1.0,\"#f0f921\"]]}],\"surface\":[{\"type\":\"surface\",\"colorbar\":{\"outlinewidth\":0,\"ticks\":\"\"},\"colorscale\":[[0.0,\"#0d0887\"],[0.1111111111111111,\"#46039f\"],[0.2222222222222222,\"#7201a8\"],[0.3333333333333333,\"#9c179e\"],[0.4444444444444444,\"#bd3786\"],[0.5555555555555556,\"#d8576b\"],[0.6666666666666666,\"#ed7953\"],[0.7777777777777778,\"#fb9f3a\"],[0.8888888888888888,\"#fdca26\"],[1.0,\"#f0f921\"]]}],\"mesh3d\":[{\"type\":\"mesh3d\",\"colorbar\":{\"outlinewidth\":0,\"ticks\":\"\"}}],\"scatter\":[{\"fillpattern\":{\"fillmode\":\"overlay\",\"size\":10,\"solidity\":0.2},\"type\":\"scatter\"}],\"parcoords\":[{\"type\":\"parcoords\",\"line\":{\"colorbar\":{\"outlinewidth\":0,\"ticks\":\"\"}}}],\"scatterpolargl\":[{\"type\":\"scatterpolargl\",\"marker\":{\"colorbar\":{\"outlinewidth\":0,\"ticks\":\"\"}}}],\"bar\":[{\"error_x\":{\"color\":\"#2a3f5f\"},\"error_y\":{\"color\":\"#2a3f5f\"},\"marker\":{\"line\":{\"color\":\"#E5ECF6\",\"width\":0.5},\"pattern\":{\"fillmode\":\"overlay\",\"size\":10,\"solidity\":0.2}},\"type\":\"bar\"}],\"scattergeo\":[{\"type\":\"scattergeo\",\"marker\":{\"colorbar\":{\"outlinewidth\":0,\"ticks\":\"\"}}}],\"scatterpolar\":[{\"type\":\"scatterpolar\",\"marker\":{\"colorbar\":{\"outlinewidth\":0,\"ticks\":\"\"}}}],\"histogram\":[{\"marker\":{\"pattern\":{\"fillmode\":\"overlay\",\"size\":10,\"solidity\":0.2}},\"type\":\"histogram\"}],\"scattergl\":[{\"type\":\"scattergl\",\"marker\":{\"colorbar\":{\"outlinewidth\":0,\"ticks\":\"\"}}}],\"scatter3d\":[{\"type\":\"scatter3d\",\"line\":{\"colorbar\":{\"outlinewidth\":0,\"ticks\":\"\"}},\"marker\":{\"colorbar\":{\"outlinewidth\":0,\"ticks\":\"\"}}}],\"scattermapbox\":[{\"type\":\"scattermapbox\",\"marker\":{\"colorbar\":{\"outlinewidth\":0,\"ticks\":\"\"}}}],\"scatterternary\":[{\"type\":\"scatterternary\",\"marker\":{\"colorbar\":{\"outlinewidth\":0,\"ticks\":\"\"}}}],\"scattercarpet\":[{\"type\":\"scattercarpet\",\"marker\":{\"colorbar\":{\"outlinewidth\":0,\"ticks\":\"\"}}}],\"carpet\":[{\"aaxis\":{\"endlinecolor\":\"#2a3f5f\",\"gridcolor\":\"white\",\"linecolor\":\"white\",\"minorgridcolor\":\"white\",\"startlinecolor\":\"#2a3f5f\"},\"baxis\":{\"endlinecolor\":\"#2a3f5f\",\"gridcolor\":\"white\",\"linecolor\":\"white\",\"minorgridcolor\":\"white\",\"startlinecolor\":\"#2a3f5f\"},\"type\":\"carpet\"}],\"table\":[{\"cells\":{\"fill\":{\"color\":\"#EBF0F8\"},\"line\":{\"color\":\"white\"}},\"header\":{\"fill\":{\"color\":\"#C8D4E3\"},\"line\":{\"color\":\"white\"}},\"type\":\"table\"}],\"barpolar\":[{\"marker\":{\"line\":{\"color\":\"#E5ECF6\",\"width\":0.5},\"pattern\":{\"fillmode\":\"overlay\",\"size\":10,\"solidity\":0.2}},\"type\":\"barpolar\"}],\"pie\":[{\"automargin\":true,\"type\":\"pie\"}]},\"layout\":{\"autotypenumbers\":\"strict\",\"colorway\":[\"#636efa\",\"#EF553B\",\"#00cc96\",\"#ab63fa\",\"#FFA15A\",\"#19d3f3\",\"#FF6692\",\"#B6E880\",\"#FF97FF\",\"#FECB52\"],\"font\":{\"color\":\"#2a3f5f\"},\"hovermode\":\"closest\",\"hoverlabel\":{\"align\":\"left\"},\"paper_bgcolor\":\"white\",\"plot_bgcolor\":\"#E5ECF6\",\"polar\":{\"bgcolor\":\"#E5ECF6\",\"angularaxis\":{\"gridcolor\":\"white\",\"linecolor\":\"white\",\"ticks\":\"\"},\"radialaxis\":{\"gridcolor\":\"white\",\"linecolor\":\"white\",\"ticks\":\"\"}},\"ternary\":{\"bgcolor\":\"#E5ECF6\",\"aaxis\":{\"gridcolor\":\"white\",\"linecolor\":\"white\",\"ticks\":\"\"},\"baxis\":{\"gridcolor\":\"white\",\"linecolor\":\"white\",\"ticks\":\"\"},\"caxis\":{\"gridcolor\":\"white\",\"linecolor\":\"white\",\"ticks\":\"\"}},\"coloraxis\":{\"colorbar\":{\"outlinewidth\":0,\"ticks\":\"\"}},\"colorscale\":{\"sequential\":[[0.0,\"#0d0887\"],[0.1111111111111111,\"#46039f\"],[0.2222222222222222,\"#7201a8\"],[0.3333333333333333,\"#9c179e\"],[0.4444444444444444,\"#bd3786\"],[0.5555555555555556,\"#d8576b\"],[0.6666666666666666,\"#ed7953\"],[0.7777777777777778,\"#fb9f3a\"],[0.8888888888888888,\"#fdca26\"],[1.0,\"#f0f921\"]],\"sequentialminus\":[[0.0,\"#0d0887\"],[0.1111111111111111,\"#46039f\"],[0.2222222222222222,\"#7201a8\"],[0.3333333333333333,\"#9c179e\"],[0.4444444444444444,\"#bd3786\"],[0.5555555555555556,\"#d8576b\"],[0.6666666666666666,\"#ed7953\"],[0.7777777777777778,\"#fb9f3a\"],[0.8888888888888888,\"#fdca26\"],[1.0,\"#f0f921\"]],\"diverging\":[[0,\"#8e0152\"],[0.1,\"#c51b7d\"],[0.2,\"#de77ae\"],[0.3,\"#f1b6da\"],[0.4,\"#fde0ef\"],[0.5,\"#f7f7f7\"],[0.6,\"#e6f5d0\"],[0.7,\"#b8e186\"],[0.8,\"#7fbc41\"],[0.9,\"#4d9221\"],[1,\"#276419\"]]},\"xaxis\":{\"gridcolor\":\"white\",\"linecolor\":\"white\",\"ticks\":\"\",\"title\":{\"standoff\":15},\"zerolinecolor\":\"white\",\"automargin\":true,\"zerolinewidth\":2},\"yaxis\":{\"gridcolor\":\"white\",\"linecolor\":\"white\",\"ticks\":\"\",\"title\":{\"standoff\":15},\"zerolinecolor\":\"white\",\"automargin\":true,\"zerolinewidth\":2},\"scene\":{\"xaxis\":{\"backgroundcolor\":\"#E5ECF6\",\"gridcolor\":\"white\",\"linecolor\":\"white\",\"showbackground\":true,\"ticks\":\"\",\"zerolinecolor\":\"white\",\"gridwidth\":2},\"yaxis\":{\"backgroundcolor\":\"#E5ECF6\",\"gridcolor\":\"white\",\"linecolor\":\"white\",\"showbackground\":true,\"ticks\":\"\",\"zerolinecolor\":\"white\",\"gridwidth\":2},\"zaxis\":{\"backgroundcolor\":\"#E5ECF6\",\"gridcolor\":\"white\",\"linecolor\":\"white\",\"showbackground\":true,\"ticks\":\"\",\"zerolinecolor\":\"white\",\"gridwidth\":2}},\"shapedefaults\":{\"line\":{\"color\":\"#2a3f5f\"}},\"annotationdefaults\":{\"arrowcolor\":\"#2a3f5f\",\"arrowhead\":0,\"arrowwidth\":1},\"geo\":{\"bgcolor\":\"white\",\"landcolor\":\"#E5ECF6\",\"subunitcolor\":\"white\",\"showland\":true,\"showlakes\":true,\"lakecolor\":\"white\"},\"title\":{\"x\":0.05},\"mapbox\":{\"style\":\"light\"}}},\"xaxis\":{\"anchor\":\"y\",\"domain\":[0.0,1.0],\"title\":{\"text\":\"Cantidad de viviendas\"}},\"yaxis\":{\"anchor\":\"x\",\"domain\":[0.0,1.0],\"title\":{\"text\":\"Tipo de habitaci\\u00f3n\"}},\"legend\":{\"tracegroupgap\":0},\"title\":{\"text\":\"Cantidad de viviendas rentadas por tipo de apartamento en La Mgdalena Contreras\"},\"barmode\":\"relative\"},                        {\"responsive\": true}                    ).then(function(){\n",
              "                            \n",
              "var gd = document.getElementById('8c80769e-cb48-404a-b306-75e3f273ba6e');\n",
              "var x = new MutationObserver(function (mutations, observer) {{\n",
              "        var display = window.getComputedStyle(gd).display;\n",
              "        if (!display || display === 'none') {{\n",
              "            console.log([gd, 'removed!']);\n",
              "            Plotly.purge(gd);\n",
              "            observer.disconnect();\n",
              "        }}\n",
              "}});\n",
              "\n",
              "// Listen for the removal of the full notebook cells\n",
              "var notebookContainer = gd.closest('#notebook-container');\n",
              "if (notebookContainer) {{\n",
              "    x.observe(notebookContainer, {childList: true});\n",
              "}}\n",
              "\n",
              "// Listen for the clearing of the current output cell\n",
              "var outputEl = gd.closest('.output');\n",
              "if (outputEl) {{\n",
              "    x.observe(outputEl, {childList: true});\n",
              "}}\n",
              "\n",
              "                        })                };                            </script>        </div>\n",
              "</body>\n",
              "</html>"
            ]
          },
          "metadata": {}
        }
      ]
    },
    {
      "cell_type": "code",
      "source": [
        "#Convirtiendo la columna de price a numérico\n",
        "listings_Magdalena.loc[:, 'price_numeric'] = listings_Magdalena['price'].replace({'\\$': '', ',': ''}, regex=True).astype(float)"
      ],
      "metadata": {
        "id": "MpniqwA-JVMV"
      },
      "execution_count": null,
      "outputs": []
    },
    {
      "cell_type": "code",
      "source": [
        "px.box(\n",
        "    listings_Magdalena,\n",
        "    x=\"room_type\",\n",
        "    y=\"price_numeric\",\n",
        "    labels={'price_numeric': 'Precio', 'room_type': 'Tipo de Habitación'},\n",
        "    title=\"BoxPlot de los Precios de las Viviendas por Tipo de Habitación\"\n",
        ")"
      ],
      "metadata": {
        "colab": {
          "base_uri": "https://localhost:8080/",
          "height": 542
        },
        "id": "D53RCmvVEbJX",
        "outputId": "560a6347-9ae9-459c-a666-bc81b0fc2588"
      },
      "execution_count": null,
      "outputs": [
        {
          "output_type": "display_data",
          "data": {
            "text/html": [
              "<html>\n",
              "<head><meta charset=\"utf-8\" /></head>\n",
              "<body>\n",
              "    <div>            <script src=\"https://cdnjs.cloudflare.com/ajax/libs/mathjax/2.7.5/MathJax.js?config=TeX-AMS-MML_SVG\"></script><script type=\"text/javascript\">if (window.MathJax && window.MathJax.Hub && window.MathJax.Hub.Config) {window.MathJax.Hub.Config({SVG: {font: \"STIX-Web\"}});}</script>                <script type=\"text/javascript\">window.PlotlyConfig = {MathJaxConfig: 'local'};</script>\n",
              "        <script charset=\"utf-8\" src=\"https://cdn.plot.ly/plotly-2.35.2.min.js\"></script>                <div id=\"a5129e9c-4fdc-4d78-8b81-608897361edd\" class=\"plotly-graph-div\" style=\"height:525px; width:100%;\"></div>            <script type=\"text/javascript\">                                    window.PLOTLYENV=window.PLOTLYENV || {};                                    if (document.getElementById(\"a5129e9c-4fdc-4d78-8b81-608897361edd\")) {                    Plotly.newPlot(                        \"a5129e9c-4fdc-4d78-8b81-608897361edd\",                        [{\"alignmentgroup\":\"True\",\"hovertemplate\":\"Tipo de Habitaci\\u00f3n=%{x}\\u003cbr\\u003ePrecio=%{y}\\u003cextra\\u003e\\u003c\\u002fextra\\u003e\",\"legendgroup\":\"\",\"marker\":{\"color\":\"#636efa\"},\"name\":\"\",\"notched\":false,\"offsetgroup\":\"\",\"orientation\":\"v\",\"showlegend\":false,\"x\":[\"Private room\",\"Private room\",\"Private room\",\"Private room\",\"Private room\",\"Entire home\\u002fapt\",\"Entire home\\u002fapt\",\"Private room\",\"Private room\",\"Private room\",\"Entire home\\u002fapt\",\"Private room\",\"Private room\",\"Private room\",\"Private room\",\"Private room\",\"Private room\",\"Private room\",\"Private room\",\"Private room\",\"Private room\",\"Private room\",\"Private room\",\"Entire home\\u002fapt\",\"Private room\",\"Private room\",\"Private room\",\"Private room\",\"Private room\",\"Entire home\\u002fapt\",\"Entire home\\u002fapt\",\"Entire home\\u002fapt\",\"Private room\",\"Entire home\\u002fapt\",\"Private room\",\"Private room\",\"Entire home\\u002fapt\",\"Private room\",\"Private room\",\"Private room\",\"Shared room\",\"Private room\",\"Private room\",\"Private room\",\"Entire home\\u002fapt\",\"Entire home\\u002fapt\",\"Entire home\\u002fapt\",\"Private room\",\"Entire home\\u002fapt\",\"Private room\",\"Entire home\\u002fapt\",\"Private room\",\"Entire home\\u002fapt\",\"Entire home\\u002fapt\",\"Private room\",\"Entire home\\u002fapt\",\"Private room\",\"Private room\",\"Entire home\\u002fapt\",\"Private room\",\"Private room\",\"Private room\",\"Entire home\\u002fapt\",\"Private room\",\"Private room\",\"Private room\",\"Private room\",\"Entire home\\u002fapt\",\"Private room\",\"Private room\",\"Entire home\\u002fapt\",\"Private room\",\"Entire home\\u002fapt\",\"Private room\",\"Private room\",\"Private room\",\"Private room\",\"Private room\",\"Private room\",\"Entire home\\u002fapt\",\"Entire home\\u002fapt\",\"Entire home\\u002fapt\",\"Entire home\\u002fapt\",\"Entire home\\u002fapt\",\"Private room\",\"Private room\",\"Entire home\\u002fapt\",\"Entire home\\u002fapt\",\"Entire home\\u002fapt\",\"Private room\",\"Entire home\\u002fapt\",\"Entire home\\u002fapt\",\"Entire home\\u002fapt\",\"Private room\",\"Entire home\\u002fapt\",\"Private room\",\"Entire home\\u002fapt\",\"Entire home\\u002fapt\",\"Entire home\\u002fapt\",\"Entire home\\u002fapt\",\"Private room\",\"Entire home\\u002fapt\",\"Private room\",\"Entire home\\u002fapt\",\"Entire home\\u002fapt\",\"Entire home\\u002fapt\",\"Entire home\\u002fapt\",\"Entire home\\u002fapt\",\"Entire home\\u002fapt\",\"Entire home\\u002fapt\",\"Entire home\\u002fapt\",\"Entire home\\u002fapt\",\"Entire home\\u002fapt\",\"Entire home\\u002fapt\",\"Entire home\\u002fapt\",\"Entire home\\u002fapt\",\"Entire home\\u002fapt\",\"Private room\",\"Entire home\\u002fapt\",\"Entire home\\u002fapt\",\"Entire home\\u002fapt\",\"Entire home\\u002fapt\",\"Private room\",\"Private room\",\"Private room\",\"Private room\",\"Entire home\\u002fapt\",\"Entire home\\u002fapt\",\"Entire home\\u002fapt\",\"Private room\",\"Private room\",\"Entire home\\u002fapt\",\"Entire home\\u002fapt\",\"Entire home\\u002fapt\",\"Private room\",\"Private room\",\"Entire home\\u002fapt\",\"Entire home\\u002fapt\",\"Private room\"],\"x0\":\" \",\"xaxis\":\"x\",\"y\":[443.0,916.0,980.0,550.0,325.0,null,700.0,null,307.0,329.0,1200.0,null,null,null,null,null,null,950.0,750.0,650.0,582.0,582.0,null,650.0,null,null,400.0,350.0,null,593.0,null,690.0,null,2480.0,null,null,null,2200.0,null,550.0,null,null,null,200.0,1400.0,2500.0,1245.0,450.0,null,2000.0,329.0,1800.0,528.0,261.0,null,3000.0,490.0,460.0,2250.0,224.0,428.0,850.0,1300.0,456.0,null,350.0,243.0,249.0,750.0,300.0,249.0,303.0,1000.0,419.0,4371.0,4878.0,3877.0,null,285.0,420.0,275.0,800.0,249.0,862.0,850.0,850.0,700.0,850.0,690.0,2500.0,null,780.0,2000.0,2000.0,1200.0,null,null,1700.0,550.0,3571.0,220.0,1993.0,836.0,null,1443.0,1600.0,1300.0,1436.0,537.0,789.0,875.0,875.0,740.0,289.0,1850.0,850.0,3000.0,450.0,1850.0,2148.0,2025.0,1850.0,799.0,500.0,1300.0,650.0,770.0,330.0,306.0,799.0,800.0,3640.0,1520.0,650.0,1126.0,750.0,750.0,1200.0,799.0],\"y0\":\" \",\"yaxis\":\"y\",\"type\":\"box\"}],                        {\"template\":{\"data\":{\"histogram2dcontour\":[{\"type\":\"histogram2dcontour\",\"colorbar\":{\"outlinewidth\":0,\"ticks\":\"\"},\"colorscale\":[[0.0,\"#0d0887\"],[0.1111111111111111,\"#46039f\"],[0.2222222222222222,\"#7201a8\"],[0.3333333333333333,\"#9c179e\"],[0.4444444444444444,\"#bd3786\"],[0.5555555555555556,\"#d8576b\"],[0.6666666666666666,\"#ed7953\"],[0.7777777777777778,\"#fb9f3a\"],[0.8888888888888888,\"#fdca26\"],[1.0,\"#f0f921\"]]}],\"choropleth\":[{\"type\":\"choropleth\",\"colorbar\":{\"outlinewidth\":0,\"ticks\":\"\"}}],\"histogram2d\":[{\"type\":\"histogram2d\",\"colorbar\":{\"outlinewidth\":0,\"ticks\":\"\"},\"colorscale\":[[0.0,\"#0d0887\"],[0.1111111111111111,\"#46039f\"],[0.2222222222222222,\"#7201a8\"],[0.3333333333333333,\"#9c179e\"],[0.4444444444444444,\"#bd3786\"],[0.5555555555555556,\"#d8576b\"],[0.6666666666666666,\"#ed7953\"],[0.7777777777777778,\"#fb9f3a\"],[0.8888888888888888,\"#fdca26\"],[1.0,\"#f0f921\"]]}],\"heatmap\":[{\"type\":\"heatmap\",\"colorbar\":{\"outlinewidth\":0,\"ticks\":\"\"},\"colorscale\":[[0.0,\"#0d0887\"],[0.1111111111111111,\"#46039f\"],[0.2222222222222222,\"#7201a8\"],[0.3333333333333333,\"#9c179e\"],[0.4444444444444444,\"#bd3786\"],[0.5555555555555556,\"#d8576b\"],[0.6666666666666666,\"#ed7953\"],[0.7777777777777778,\"#fb9f3a\"],[0.8888888888888888,\"#fdca26\"],[1.0,\"#f0f921\"]]}],\"heatmapgl\":[{\"type\":\"heatmapgl\",\"colorbar\":{\"outlinewidth\":0,\"ticks\":\"\"},\"colorscale\":[[0.0,\"#0d0887\"],[0.1111111111111111,\"#46039f\"],[0.2222222222222222,\"#7201a8\"],[0.3333333333333333,\"#9c179e\"],[0.4444444444444444,\"#bd3786\"],[0.5555555555555556,\"#d8576b\"],[0.6666666666666666,\"#ed7953\"],[0.7777777777777778,\"#fb9f3a\"],[0.8888888888888888,\"#fdca26\"],[1.0,\"#f0f921\"]]}],\"contourcarpet\":[{\"type\":\"contourcarpet\",\"colorbar\":{\"outlinewidth\":0,\"ticks\":\"\"}}],\"contour\":[{\"type\":\"contour\",\"colorbar\":{\"outlinewidth\":0,\"ticks\":\"\"},\"colorscale\":[[0.0,\"#0d0887\"],[0.1111111111111111,\"#46039f\"],[0.2222222222222222,\"#7201a8\"],[0.3333333333333333,\"#9c179e\"],[0.4444444444444444,\"#bd3786\"],[0.5555555555555556,\"#d8576b\"],[0.6666666666666666,\"#ed7953\"],[0.7777777777777778,\"#fb9f3a\"],[0.8888888888888888,\"#fdca26\"],[1.0,\"#f0f921\"]]}],\"surface\":[{\"type\":\"surface\",\"colorbar\":{\"outlinewidth\":0,\"ticks\":\"\"},\"colorscale\":[[0.0,\"#0d0887\"],[0.1111111111111111,\"#46039f\"],[0.2222222222222222,\"#7201a8\"],[0.3333333333333333,\"#9c179e\"],[0.4444444444444444,\"#bd3786\"],[0.5555555555555556,\"#d8576b\"],[0.6666666666666666,\"#ed7953\"],[0.7777777777777778,\"#fb9f3a\"],[0.8888888888888888,\"#fdca26\"],[1.0,\"#f0f921\"]]}],\"mesh3d\":[{\"type\":\"mesh3d\",\"colorbar\":{\"outlinewidth\":0,\"ticks\":\"\"}}],\"scatter\":[{\"fillpattern\":{\"fillmode\":\"overlay\",\"size\":10,\"solidity\":0.2},\"type\":\"scatter\"}],\"parcoords\":[{\"type\":\"parcoords\",\"line\":{\"colorbar\":{\"outlinewidth\":0,\"ticks\":\"\"}}}],\"scatterpolargl\":[{\"type\":\"scatterpolargl\",\"marker\":{\"colorbar\":{\"outlinewidth\":0,\"ticks\":\"\"}}}],\"bar\":[{\"error_x\":{\"color\":\"#2a3f5f\"},\"error_y\":{\"color\":\"#2a3f5f\"},\"marker\":{\"line\":{\"color\":\"#E5ECF6\",\"width\":0.5},\"pattern\":{\"fillmode\":\"overlay\",\"size\":10,\"solidity\":0.2}},\"type\":\"bar\"}],\"scattergeo\":[{\"type\":\"scattergeo\",\"marker\":{\"colorbar\":{\"outlinewidth\":0,\"ticks\":\"\"}}}],\"scatterpolar\":[{\"type\":\"scatterpolar\",\"marker\":{\"colorbar\":{\"outlinewidth\":0,\"ticks\":\"\"}}}],\"histogram\":[{\"marker\":{\"pattern\":{\"fillmode\":\"overlay\",\"size\":10,\"solidity\":0.2}},\"type\":\"histogram\"}],\"scattergl\":[{\"type\":\"scattergl\",\"marker\":{\"colorbar\":{\"outlinewidth\":0,\"ticks\":\"\"}}}],\"scatter3d\":[{\"type\":\"scatter3d\",\"line\":{\"colorbar\":{\"outlinewidth\":0,\"ticks\":\"\"}},\"marker\":{\"colorbar\":{\"outlinewidth\":0,\"ticks\":\"\"}}}],\"scattermapbox\":[{\"type\":\"scattermapbox\",\"marker\":{\"colorbar\":{\"outlinewidth\":0,\"ticks\":\"\"}}}],\"scatterternary\":[{\"type\":\"scatterternary\",\"marker\":{\"colorbar\":{\"outlinewidth\":0,\"ticks\":\"\"}}}],\"scattercarpet\":[{\"type\":\"scattercarpet\",\"marker\":{\"colorbar\":{\"outlinewidth\":0,\"ticks\":\"\"}}}],\"carpet\":[{\"aaxis\":{\"endlinecolor\":\"#2a3f5f\",\"gridcolor\":\"white\",\"linecolor\":\"white\",\"minorgridcolor\":\"white\",\"startlinecolor\":\"#2a3f5f\"},\"baxis\":{\"endlinecolor\":\"#2a3f5f\",\"gridcolor\":\"white\",\"linecolor\":\"white\",\"minorgridcolor\":\"white\",\"startlinecolor\":\"#2a3f5f\"},\"type\":\"carpet\"}],\"table\":[{\"cells\":{\"fill\":{\"color\":\"#EBF0F8\"},\"line\":{\"color\":\"white\"}},\"header\":{\"fill\":{\"color\":\"#C8D4E3\"},\"line\":{\"color\":\"white\"}},\"type\":\"table\"}],\"barpolar\":[{\"marker\":{\"line\":{\"color\":\"#E5ECF6\",\"width\":0.5},\"pattern\":{\"fillmode\":\"overlay\",\"size\":10,\"solidity\":0.2}},\"type\":\"barpolar\"}],\"pie\":[{\"automargin\":true,\"type\":\"pie\"}]},\"layout\":{\"autotypenumbers\":\"strict\",\"colorway\":[\"#636efa\",\"#EF553B\",\"#00cc96\",\"#ab63fa\",\"#FFA15A\",\"#19d3f3\",\"#FF6692\",\"#B6E880\",\"#FF97FF\",\"#FECB52\"],\"font\":{\"color\":\"#2a3f5f\"},\"hovermode\":\"closest\",\"hoverlabel\":{\"align\":\"left\"},\"paper_bgcolor\":\"white\",\"plot_bgcolor\":\"#E5ECF6\",\"polar\":{\"bgcolor\":\"#E5ECF6\",\"angularaxis\":{\"gridcolor\":\"white\",\"linecolor\":\"white\",\"ticks\":\"\"},\"radialaxis\":{\"gridcolor\":\"white\",\"linecolor\":\"white\",\"ticks\":\"\"}},\"ternary\":{\"bgcolor\":\"#E5ECF6\",\"aaxis\":{\"gridcolor\":\"white\",\"linecolor\":\"white\",\"ticks\":\"\"},\"baxis\":{\"gridcolor\":\"white\",\"linecolor\":\"white\",\"ticks\":\"\"},\"caxis\":{\"gridcolor\":\"white\",\"linecolor\":\"white\",\"ticks\":\"\"}},\"coloraxis\":{\"colorbar\":{\"outlinewidth\":0,\"ticks\":\"\"}},\"colorscale\":{\"sequential\":[[0.0,\"#0d0887\"],[0.1111111111111111,\"#46039f\"],[0.2222222222222222,\"#7201a8\"],[0.3333333333333333,\"#9c179e\"],[0.4444444444444444,\"#bd3786\"],[0.5555555555555556,\"#d8576b\"],[0.6666666666666666,\"#ed7953\"],[0.7777777777777778,\"#fb9f3a\"],[0.8888888888888888,\"#fdca26\"],[1.0,\"#f0f921\"]],\"sequentialminus\":[[0.0,\"#0d0887\"],[0.1111111111111111,\"#46039f\"],[0.2222222222222222,\"#7201a8\"],[0.3333333333333333,\"#9c179e\"],[0.4444444444444444,\"#bd3786\"],[0.5555555555555556,\"#d8576b\"],[0.6666666666666666,\"#ed7953\"],[0.7777777777777778,\"#fb9f3a\"],[0.8888888888888888,\"#fdca26\"],[1.0,\"#f0f921\"]],\"diverging\":[[0,\"#8e0152\"],[0.1,\"#c51b7d\"],[0.2,\"#de77ae\"],[0.3,\"#f1b6da\"],[0.4,\"#fde0ef\"],[0.5,\"#f7f7f7\"],[0.6,\"#e6f5d0\"],[0.7,\"#b8e186\"],[0.8,\"#7fbc41\"],[0.9,\"#4d9221\"],[1,\"#276419\"]]},\"xaxis\":{\"gridcolor\":\"white\",\"linecolor\":\"white\",\"ticks\":\"\",\"title\":{\"standoff\":15},\"zerolinecolor\":\"white\",\"automargin\":true,\"zerolinewidth\":2},\"yaxis\":{\"gridcolor\":\"white\",\"linecolor\":\"white\",\"ticks\":\"\",\"title\":{\"standoff\":15},\"zerolinecolor\":\"white\",\"automargin\":true,\"zerolinewidth\":2},\"scene\":{\"xaxis\":{\"backgroundcolor\":\"#E5ECF6\",\"gridcolor\":\"white\",\"linecolor\":\"white\",\"showbackground\":true,\"ticks\":\"\",\"zerolinecolor\":\"white\",\"gridwidth\":2},\"yaxis\":{\"backgroundcolor\":\"#E5ECF6\",\"gridcolor\":\"white\",\"linecolor\":\"white\",\"showbackground\":true,\"ticks\":\"\",\"zerolinecolor\":\"white\",\"gridwidth\":2},\"zaxis\":{\"backgroundcolor\":\"#E5ECF6\",\"gridcolor\":\"white\",\"linecolor\":\"white\",\"showbackground\":true,\"ticks\":\"\",\"zerolinecolor\":\"white\",\"gridwidth\":2}},\"shapedefaults\":{\"line\":{\"color\":\"#2a3f5f\"}},\"annotationdefaults\":{\"arrowcolor\":\"#2a3f5f\",\"arrowhead\":0,\"arrowwidth\":1},\"geo\":{\"bgcolor\":\"white\",\"landcolor\":\"#E5ECF6\",\"subunitcolor\":\"white\",\"showland\":true,\"showlakes\":true,\"lakecolor\":\"white\"},\"title\":{\"x\":0.05},\"mapbox\":{\"style\":\"light\"}}},\"xaxis\":{\"anchor\":\"y\",\"domain\":[0.0,1.0],\"title\":{\"text\":\"Tipo de Habitaci\\u00f3n\"}},\"yaxis\":{\"anchor\":\"x\",\"domain\":[0.0,1.0],\"title\":{\"text\":\"Precio\"}},\"legend\":{\"tracegroupgap\":0},\"title\":{\"text\":\"BoxPlot de los Precios de las Viviendas por Tipo de Habitaci\\u00f3n\"},\"boxmode\":\"group\"},                        {\"responsive\": true}                    ).then(function(){\n",
              "                            \n",
              "var gd = document.getElementById('a5129e9c-4fdc-4d78-8b81-608897361edd');\n",
              "var x = new MutationObserver(function (mutations, observer) {{\n",
              "        var display = window.getComputedStyle(gd).display;\n",
              "        if (!display || display === 'none') {{\n",
              "            console.log([gd, 'removed!']);\n",
              "            Plotly.purge(gd);\n",
              "            observer.disconnect();\n",
              "        }}\n",
              "}});\n",
              "\n",
              "// Listen for the removal of the full notebook cells\n",
              "var notebookContainer = gd.closest('#notebook-container');\n",
              "if (notebookContainer) {{\n",
              "    x.observe(notebookContainer, {childList: true});\n",
              "}}\n",
              "\n",
              "// Listen for the clearing of the current output cell\n",
              "var outputEl = gd.closest('.output');\n",
              "if (outputEl) {{\n",
              "    x.observe(outputEl, {childList: true});\n",
              "}}\n",
              "\n",
              "                        })                };                            </script>        </div>\n",
              "</body>\n",
              "</html>"
            ]
          },
          "metadata": {}
        }
      ]
    },
    {
      "cell_type": "markdown",
      "source": [
        "Como es natural las habitaciones enteras se rentan a un mejor precio que las privadas. Sin embargo, existen habitaciones privadas con buenos precios\n",
        "\n"
      ],
      "metadata": {
        "id": "uu94t4bEFeqe"
      }
    },
    {
      "cell_type": "code",
      "source": [
        "fig = px.histogram(listings_Magdalena, x='price_numeric', color='room_type',\n",
        "                   barmode='overlay',\n",
        "                   nbins=30,\n",
        "                   labels={'price_numeric': 'Precio', 'room_type': 'Tipo de Cuarto'},\n",
        "                   title='Distribución de Precios por Tipo de Cuarto')\n",
        "\n",
        "# Mostrar la gráfica\n",
        "fig.show()"
      ],
      "metadata": {
        "colab": {
          "base_uri": "https://localhost:8080/",
          "height": 542
        },
        "id": "Lkt4l9HbdevF",
        "outputId": "3b5a2dd2-0c36-48c9-d6bb-b397c208f194"
      },
      "execution_count": null,
      "outputs": [
        {
          "output_type": "display_data",
          "data": {
            "text/html": [
              "<html>\n",
              "<head><meta charset=\"utf-8\" /></head>\n",
              "<body>\n",
              "    <div>            <script src=\"https://cdnjs.cloudflare.com/ajax/libs/mathjax/2.7.5/MathJax.js?config=TeX-AMS-MML_SVG\"></script><script type=\"text/javascript\">if (window.MathJax && window.MathJax.Hub && window.MathJax.Hub.Config) {window.MathJax.Hub.Config({SVG: {font: \"STIX-Web\"}});}</script>                <script type=\"text/javascript\">window.PlotlyConfig = {MathJaxConfig: 'local'};</script>\n",
              "        <script charset=\"utf-8\" src=\"https://cdn.plot.ly/plotly-2.35.2.min.js\"></script>                <div id=\"bf726ec0-fca1-4d26-bd83-9a1b52e000c9\" class=\"plotly-graph-div\" style=\"height:525px; width:100%;\"></div>            <script type=\"text/javascript\">                                    window.PLOTLYENV=window.PLOTLYENV || {};                                    if (document.getElementById(\"bf726ec0-fca1-4d26-bd83-9a1b52e000c9\")) {                    Plotly.newPlot(                        \"bf726ec0-fca1-4d26-bd83-9a1b52e000c9\",                        [{\"alignmentgroup\":\"True\",\"bingroup\":\"x\",\"hovertemplate\":\"Tipo de Cuarto=Private room\\u003cbr\\u003ePrecio=%{x}\\u003cbr\\u003ecount=%{y}\\u003cextra\\u003e\\u003c\\u002fextra\\u003e\",\"legendgroup\":\"Private room\",\"marker\":{\"color\":\"#636efa\",\"opacity\":0.5,\"pattern\":{\"shape\":\"\"}},\"name\":\"Private room\",\"nbinsx\":30,\"offsetgroup\":\"Private room\",\"orientation\":\"v\",\"showlegend\":true,\"x\":[443.0,916.0,980.0,550.0,325.0,null,307.0,329.0,null,null,null,null,null,null,950.0,750.0,650.0,582.0,582.0,null,null,null,400.0,350.0,null,null,null,null,2200.0,null,550.0,null,null,200.0,450.0,2000.0,1800.0,null,490.0,460.0,224.0,428.0,850.0,456.0,null,350.0,243.0,750.0,300.0,303.0,419.0,4371.0,4878.0,3877.0,null,285.0,850.0,850.0,2500.0,2000.0,null,220.0,836.0,450.0,799.0,500.0,1300.0,650.0,799.0,800.0,1126.0,750.0,799.0],\"xaxis\":\"x\",\"yaxis\":\"y\",\"type\":\"histogram\"},{\"alignmentgroup\":\"True\",\"bingroup\":\"x\",\"hovertemplate\":\"Tipo de Cuarto=Entire home\\u002fapt\\u003cbr\\u003ePrecio=%{x}\\u003cbr\\u003ecount=%{y}\\u003cextra\\u003e\\u003c\\u002fextra\\u003e\",\"legendgroup\":\"Entire home\\u002fapt\",\"marker\":{\"color\":\"#EF553B\",\"opacity\":0.5,\"pattern\":{\"shape\":\"\"}},\"name\":\"Entire home\\u002fapt\",\"nbinsx\":30,\"offsetgroup\":\"Entire home\\u002fapt\",\"orientation\":\"v\",\"showlegend\":true,\"x\":[null,700.0,1200.0,650.0,593.0,null,690.0,2480.0,null,1400.0,2500.0,1245.0,null,329.0,528.0,261.0,3000.0,2250.0,1300.0,249.0,249.0,1000.0,420.0,275.0,800.0,249.0,862.0,700.0,850.0,690.0,null,780.0,2000.0,1200.0,null,1700.0,550.0,3571.0,1993.0,null,1443.0,1600.0,1300.0,1436.0,537.0,789.0,875.0,875.0,740.0,289.0,1850.0,850.0,3000.0,1850.0,2148.0,2025.0,1850.0,770.0,330.0,306.0,3640.0,1520.0,650.0,750.0,1200.0],\"xaxis\":\"x\",\"yaxis\":\"y\",\"type\":\"histogram\"},{\"alignmentgroup\":\"True\",\"bingroup\":\"x\",\"hovertemplate\":\"Tipo de Cuarto=Shared room\\u003cbr\\u003ePrecio=%{x}\\u003cbr\\u003ecount=%{y}\\u003cextra\\u003e\\u003c\\u002fextra\\u003e\",\"legendgroup\":\"Shared room\",\"marker\":{\"color\":\"#00cc96\",\"opacity\":0.5,\"pattern\":{\"shape\":\"\"}},\"name\":\"Shared room\",\"nbinsx\":30,\"offsetgroup\":\"Shared room\",\"orientation\":\"v\",\"showlegend\":true,\"x\":[null],\"xaxis\":\"x\",\"yaxis\":\"y\",\"type\":\"histogram\"}],                        {\"template\":{\"data\":{\"histogram2dcontour\":[{\"type\":\"histogram2dcontour\",\"colorbar\":{\"outlinewidth\":0,\"ticks\":\"\"},\"colorscale\":[[0.0,\"#0d0887\"],[0.1111111111111111,\"#46039f\"],[0.2222222222222222,\"#7201a8\"],[0.3333333333333333,\"#9c179e\"],[0.4444444444444444,\"#bd3786\"],[0.5555555555555556,\"#d8576b\"],[0.6666666666666666,\"#ed7953\"],[0.7777777777777778,\"#fb9f3a\"],[0.8888888888888888,\"#fdca26\"],[1.0,\"#f0f921\"]]}],\"choropleth\":[{\"type\":\"choropleth\",\"colorbar\":{\"outlinewidth\":0,\"ticks\":\"\"}}],\"histogram2d\":[{\"type\":\"histogram2d\",\"colorbar\":{\"outlinewidth\":0,\"ticks\":\"\"},\"colorscale\":[[0.0,\"#0d0887\"],[0.1111111111111111,\"#46039f\"],[0.2222222222222222,\"#7201a8\"],[0.3333333333333333,\"#9c179e\"],[0.4444444444444444,\"#bd3786\"],[0.5555555555555556,\"#d8576b\"],[0.6666666666666666,\"#ed7953\"],[0.7777777777777778,\"#fb9f3a\"],[0.8888888888888888,\"#fdca26\"],[1.0,\"#f0f921\"]]}],\"heatmap\":[{\"type\":\"heatmap\",\"colorbar\":{\"outlinewidth\":0,\"ticks\":\"\"},\"colorscale\":[[0.0,\"#0d0887\"],[0.1111111111111111,\"#46039f\"],[0.2222222222222222,\"#7201a8\"],[0.3333333333333333,\"#9c179e\"],[0.4444444444444444,\"#bd3786\"],[0.5555555555555556,\"#d8576b\"],[0.6666666666666666,\"#ed7953\"],[0.7777777777777778,\"#fb9f3a\"],[0.8888888888888888,\"#fdca26\"],[1.0,\"#f0f921\"]]}],\"heatmapgl\":[{\"type\":\"heatmapgl\",\"colorbar\":{\"outlinewidth\":0,\"ticks\":\"\"},\"colorscale\":[[0.0,\"#0d0887\"],[0.1111111111111111,\"#46039f\"],[0.2222222222222222,\"#7201a8\"],[0.3333333333333333,\"#9c179e\"],[0.4444444444444444,\"#bd3786\"],[0.5555555555555556,\"#d8576b\"],[0.6666666666666666,\"#ed7953\"],[0.7777777777777778,\"#fb9f3a\"],[0.8888888888888888,\"#fdca26\"],[1.0,\"#f0f921\"]]}],\"contourcarpet\":[{\"type\":\"contourcarpet\",\"colorbar\":{\"outlinewidth\":0,\"ticks\":\"\"}}],\"contour\":[{\"type\":\"contour\",\"colorbar\":{\"outlinewidth\":0,\"ticks\":\"\"},\"colorscale\":[[0.0,\"#0d0887\"],[0.1111111111111111,\"#46039f\"],[0.2222222222222222,\"#7201a8\"],[0.3333333333333333,\"#9c179e\"],[0.4444444444444444,\"#bd3786\"],[0.5555555555555556,\"#d8576b\"],[0.6666666666666666,\"#ed7953\"],[0.7777777777777778,\"#fb9f3a\"],[0.8888888888888888,\"#fdca26\"],[1.0,\"#f0f921\"]]}],\"surface\":[{\"type\":\"surface\",\"colorbar\":{\"outlinewidth\":0,\"ticks\":\"\"},\"colorscale\":[[0.0,\"#0d0887\"],[0.1111111111111111,\"#46039f\"],[0.2222222222222222,\"#7201a8\"],[0.3333333333333333,\"#9c179e\"],[0.4444444444444444,\"#bd3786\"],[0.5555555555555556,\"#d8576b\"],[0.6666666666666666,\"#ed7953\"],[0.7777777777777778,\"#fb9f3a\"],[0.8888888888888888,\"#fdca26\"],[1.0,\"#f0f921\"]]}],\"mesh3d\":[{\"type\":\"mesh3d\",\"colorbar\":{\"outlinewidth\":0,\"ticks\":\"\"}}],\"scatter\":[{\"fillpattern\":{\"fillmode\":\"overlay\",\"size\":10,\"solidity\":0.2},\"type\":\"scatter\"}],\"parcoords\":[{\"type\":\"parcoords\",\"line\":{\"colorbar\":{\"outlinewidth\":0,\"ticks\":\"\"}}}],\"scatterpolargl\":[{\"type\":\"scatterpolargl\",\"marker\":{\"colorbar\":{\"outlinewidth\":0,\"ticks\":\"\"}}}],\"bar\":[{\"error_x\":{\"color\":\"#2a3f5f\"},\"error_y\":{\"color\":\"#2a3f5f\"},\"marker\":{\"line\":{\"color\":\"#E5ECF6\",\"width\":0.5},\"pattern\":{\"fillmode\":\"overlay\",\"size\":10,\"solidity\":0.2}},\"type\":\"bar\"}],\"scattergeo\":[{\"type\":\"scattergeo\",\"marker\":{\"colorbar\":{\"outlinewidth\":0,\"ticks\":\"\"}}}],\"scatterpolar\":[{\"type\":\"scatterpolar\",\"marker\":{\"colorbar\":{\"outlinewidth\":0,\"ticks\":\"\"}}}],\"histogram\":[{\"marker\":{\"pattern\":{\"fillmode\":\"overlay\",\"size\":10,\"solidity\":0.2}},\"type\":\"histogram\"}],\"scattergl\":[{\"type\":\"scattergl\",\"marker\":{\"colorbar\":{\"outlinewidth\":0,\"ticks\":\"\"}}}],\"scatter3d\":[{\"type\":\"scatter3d\",\"line\":{\"colorbar\":{\"outlinewidth\":0,\"ticks\":\"\"}},\"marker\":{\"colorbar\":{\"outlinewidth\":0,\"ticks\":\"\"}}}],\"scattermapbox\":[{\"type\":\"scattermapbox\",\"marker\":{\"colorbar\":{\"outlinewidth\":0,\"ticks\":\"\"}}}],\"scatterternary\":[{\"type\":\"scatterternary\",\"marker\":{\"colorbar\":{\"outlinewidth\":0,\"ticks\":\"\"}}}],\"scattercarpet\":[{\"type\":\"scattercarpet\",\"marker\":{\"colorbar\":{\"outlinewidth\":0,\"ticks\":\"\"}}}],\"carpet\":[{\"aaxis\":{\"endlinecolor\":\"#2a3f5f\",\"gridcolor\":\"white\",\"linecolor\":\"white\",\"minorgridcolor\":\"white\",\"startlinecolor\":\"#2a3f5f\"},\"baxis\":{\"endlinecolor\":\"#2a3f5f\",\"gridcolor\":\"white\",\"linecolor\":\"white\",\"minorgridcolor\":\"white\",\"startlinecolor\":\"#2a3f5f\"},\"type\":\"carpet\"}],\"table\":[{\"cells\":{\"fill\":{\"color\":\"#EBF0F8\"},\"line\":{\"color\":\"white\"}},\"header\":{\"fill\":{\"color\":\"#C8D4E3\"},\"line\":{\"color\":\"white\"}},\"type\":\"table\"}],\"barpolar\":[{\"marker\":{\"line\":{\"color\":\"#E5ECF6\",\"width\":0.5},\"pattern\":{\"fillmode\":\"overlay\",\"size\":10,\"solidity\":0.2}},\"type\":\"barpolar\"}],\"pie\":[{\"automargin\":true,\"type\":\"pie\"}]},\"layout\":{\"autotypenumbers\":\"strict\",\"colorway\":[\"#636efa\",\"#EF553B\",\"#00cc96\",\"#ab63fa\",\"#FFA15A\",\"#19d3f3\",\"#FF6692\",\"#B6E880\",\"#FF97FF\",\"#FECB52\"],\"font\":{\"color\":\"#2a3f5f\"},\"hovermode\":\"closest\",\"hoverlabel\":{\"align\":\"left\"},\"paper_bgcolor\":\"white\",\"plot_bgcolor\":\"#E5ECF6\",\"polar\":{\"bgcolor\":\"#E5ECF6\",\"angularaxis\":{\"gridcolor\":\"white\",\"linecolor\":\"white\",\"ticks\":\"\"},\"radialaxis\":{\"gridcolor\":\"white\",\"linecolor\":\"white\",\"ticks\":\"\"}},\"ternary\":{\"bgcolor\":\"#E5ECF6\",\"aaxis\":{\"gridcolor\":\"white\",\"linecolor\":\"white\",\"ticks\":\"\"},\"baxis\":{\"gridcolor\":\"white\",\"linecolor\":\"white\",\"ticks\":\"\"},\"caxis\":{\"gridcolor\":\"white\",\"linecolor\":\"white\",\"ticks\":\"\"}},\"coloraxis\":{\"colorbar\":{\"outlinewidth\":0,\"ticks\":\"\"}},\"colorscale\":{\"sequential\":[[0.0,\"#0d0887\"],[0.1111111111111111,\"#46039f\"],[0.2222222222222222,\"#7201a8\"],[0.3333333333333333,\"#9c179e\"],[0.4444444444444444,\"#bd3786\"],[0.5555555555555556,\"#d8576b\"],[0.6666666666666666,\"#ed7953\"],[0.7777777777777778,\"#fb9f3a\"],[0.8888888888888888,\"#fdca26\"],[1.0,\"#f0f921\"]],\"sequentialminus\":[[0.0,\"#0d0887\"],[0.1111111111111111,\"#46039f\"],[0.2222222222222222,\"#7201a8\"],[0.3333333333333333,\"#9c179e\"],[0.4444444444444444,\"#bd3786\"],[0.5555555555555556,\"#d8576b\"],[0.6666666666666666,\"#ed7953\"],[0.7777777777777778,\"#fb9f3a\"],[0.8888888888888888,\"#fdca26\"],[1.0,\"#f0f921\"]],\"diverging\":[[0,\"#8e0152\"],[0.1,\"#c51b7d\"],[0.2,\"#de77ae\"],[0.3,\"#f1b6da\"],[0.4,\"#fde0ef\"],[0.5,\"#f7f7f7\"],[0.6,\"#e6f5d0\"],[0.7,\"#b8e186\"],[0.8,\"#7fbc41\"],[0.9,\"#4d9221\"],[1,\"#276419\"]]},\"xaxis\":{\"gridcolor\":\"white\",\"linecolor\":\"white\",\"ticks\":\"\",\"title\":{\"standoff\":15},\"zerolinecolor\":\"white\",\"automargin\":true,\"zerolinewidth\":2},\"yaxis\":{\"gridcolor\":\"white\",\"linecolor\":\"white\",\"ticks\":\"\",\"title\":{\"standoff\":15},\"zerolinecolor\":\"white\",\"automargin\":true,\"zerolinewidth\":2},\"scene\":{\"xaxis\":{\"backgroundcolor\":\"#E5ECF6\",\"gridcolor\":\"white\",\"linecolor\":\"white\",\"showbackground\":true,\"ticks\":\"\",\"zerolinecolor\":\"white\",\"gridwidth\":2},\"yaxis\":{\"backgroundcolor\":\"#E5ECF6\",\"gridcolor\":\"white\",\"linecolor\":\"white\",\"showbackground\":true,\"ticks\":\"\",\"zerolinecolor\":\"white\",\"gridwidth\":2},\"zaxis\":{\"backgroundcolor\":\"#E5ECF6\",\"gridcolor\":\"white\",\"linecolor\":\"white\",\"showbackground\":true,\"ticks\":\"\",\"zerolinecolor\":\"white\",\"gridwidth\":2}},\"shapedefaults\":{\"line\":{\"color\":\"#2a3f5f\"}},\"annotationdefaults\":{\"arrowcolor\":\"#2a3f5f\",\"arrowhead\":0,\"arrowwidth\":1},\"geo\":{\"bgcolor\":\"white\",\"landcolor\":\"#E5ECF6\",\"subunitcolor\":\"white\",\"showland\":true,\"showlakes\":true,\"lakecolor\":\"white\"},\"title\":{\"x\":0.05},\"mapbox\":{\"style\":\"light\"}}},\"xaxis\":{\"anchor\":\"y\",\"domain\":[0.0,1.0],\"title\":{\"text\":\"Precio\"}},\"yaxis\":{\"anchor\":\"x\",\"domain\":[0.0,1.0],\"title\":{\"text\":\"count\"}},\"legend\":{\"title\":{\"text\":\"Tipo de Cuarto\"},\"tracegroupgap\":0},\"title\":{\"text\":\"Distribuci\\u00f3n de Precios por Tipo de Cuarto\"},\"barmode\":\"overlay\"},                        {\"responsive\": true}                    ).then(function(){\n",
              "                            \n",
              "var gd = document.getElementById('bf726ec0-fca1-4d26-bd83-9a1b52e000c9');\n",
              "var x = new MutationObserver(function (mutations, observer) {{\n",
              "        var display = window.getComputedStyle(gd).display;\n",
              "        if (!display || display === 'none') {{\n",
              "            console.log([gd, 'removed!']);\n",
              "            Plotly.purge(gd);\n",
              "            observer.disconnect();\n",
              "        }}\n",
              "}});\n",
              "\n",
              "// Listen for the removal of the full notebook cells\n",
              "var notebookContainer = gd.closest('#notebook-container');\n",
              "if (notebookContainer) {{\n",
              "    x.observe(notebookContainer, {childList: true});\n",
              "}}\n",
              "\n",
              "// Listen for the clearing of the current output cell\n",
              "var outputEl = gd.closest('.output');\n",
              "if (outputEl) {{\n",
              "    x.observe(outputEl, {childList: true});\n",
              "}}\n",
              "\n",
              "                        })                };                            </script>        </div>\n",
              "</body>\n",
              "</html>"
            ]
          },
          "metadata": {}
        }
      ]
    },
    {
      "cell_type": "markdown",
      "source": [
        "En el rango de precios estándar, que abarca aproximadamente entre 600 MXN y 1,000 MXN, las casas/departamentos completos ofrecen mejores precios por día. Esto sugiere que invertir en este tipo de propiedades puede ser una decisión estratégica."
      ],
      "metadata": {
        "id": "6xGKO-BAVZiq"
      }
    },
    {
      "cell_type": "code",
      "source": [
        "fig = px.scatter(listings_Magdalena, x=\"price_numeric\", y=\"review_scores_rating\", color=\"room_type\",symbol = \"room_type\" ,trendline=\"ols\",\n",
        "             orientation='h',\n",
        "             labels={'price_numeric': 'Precio', 'review_scores_rating': 'Rating'},\n",
        "             title=\"Precio de los alojamientos vs Calificaciones por tipo de habitación\")\n",
        "fig.show()"
      ],
      "metadata": {
        "id": "lq01CzkfPP3l",
        "colab": {
          "base_uri": "https://localhost:8080/",
          "height": 542
        },
        "outputId": "8916c340-22f3-4c2f-a51f-84ebc38cdfb8"
      },
      "execution_count": null,
      "outputs": [
        {
          "output_type": "display_data",
          "data": {
            "text/html": [
              "<html>\n",
              "<head><meta charset=\"utf-8\" /></head>\n",
              "<body>\n",
              "    <div>            <script src=\"https://cdnjs.cloudflare.com/ajax/libs/mathjax/2.7.5/MathJax.js?config=TeX-AMS-MML_SVG\"></script><script type=\"text/javascript\">if (window.MathJax && window.MathJax.Hub && window.MathJax.Hub.Config) {window.MathJax.Hub.Config({SVG: {font: \"STIX-Web\"}});}</script>                <script type=\"text/javascript\">window.PlotlyConfig = {MathJaxConfig: 'local'};</script>\n",
              "        <script charset=\"utf-8\" src=\"https://cdn.plot.ly/plotly-2.35.2.min.js\"></script>                <div id=\"8719e0dd-64a2-4518-9132-79aecbd6dff0\" class=\"plotly-graph-div\" style=\"height:525px; width:100%;\"></div>            <script type=\"text/javascript\">                                    window.PLOTLYENV=window.PLOTLYENV || {};                                    if (document.getElementById(\"8719e0dd-64a2-4518-9132-79aecbd6dff0\")) {                    Plotly.newPlot(                        \"8719e0dd-64a2-4518-9132-79aecbd6dff0\",                        [{\"hovertemplate\":\"room_type=Private room\\u003cbr\\u003ePrecio=%{x}\\u003cbr\\u003eRating=%{y}\\u003cextra\\u003e\\u003c\\u002fextra\\u003e\",\"legendgroup\":\"Private room\",\"marker\":{\"color\":\"#636efa\",\"symbol\":\"circle\"},\"mode\":\"markers\",\"name\":\"Private room\",\"orientation\":\"h\",\"showlegend\":true,\"x\":[443.0,916.0,980.0,550.0,325.0,null,307.0,329.0,null,null,null,null,null,null,950.0,750.0,650.0,582.0,582.0,null,null,null,400.0,350.0,null,null,null,null,2200.0,null,550.0,null,null,200.0,450.0,2000.0,1800.0,null,490.0,460.0,224.0,428.0,850.0,456.0,null,350.0,243.0,750.0,300.0,303.0,419.0,4371.0,4878.0,3877.0,null,285.0,850.0,850.0,2500.0,2000.0,null,220.0,836.0,450.0,799.0,500.0,1300.0,650.0,799.0,800.0,1126.0,750.0,799.0],\"xaxis\":\"x\",\"y\":[5.0,5.0,4.7,4.68,4.91,5.0,4.86,4.89,null,null,4.76,4.81,5.0,5.0,4.91,4.5,4.17,4.62,4.73,4.92,null,5.0,null,4.76,null,null,5.0,null,4.25,null,4.78,null,4.7,null,4.67,4.83,5.0,null,5.0,4.94,4.83,4.97,5.0,5.0,5.0,4.94,4.73,5.0,5.0,4.88,4.9,null,null,null,null,4.75,5.0,5.0,4.67,4.0,null,null,4.75,5.0,5.0,5.0,4.77,4.86,5.0,null,null,4.83,null],\"yaxis\":\"y\",\"type\":\"scatter\"},{\"hovertemplate\":\"\\u003cb\\u003eOLS trendline\\u003c\\u002fb\\u003e\\u003cbr\\u003ereview_scores_rating = -0.000169182 * price_numeric + 4.9439\\u003cbr\\u003eR\\u003csup\\u003e2\\u003c\\u002fsup\\u003e=0.165846\\u003cbr\\u003e\\u003cbr\\u003eroom_type=Private room\\u003cbr\\u003ePrecio=%{x}\\u003cbr\\u003eRating=%{y} \\u003cb\\u003e(trend)\\u003c\\u002fb\\u003e\\u003cextra\\u003e\\u003c\\u002fextra\\u003e\",\"legendgroup\":\"Private room\",\"marker\":{\"color\":\"#636efa\",\"symbol\":\"circle\"},\"mode\":\"lines\",\"name\":\"Private room\",\"showlegend\":false,\"x\":[224.0,243.0,285.0,300.0,303.0,307.0,325.0,329.0,350.0,350.0,419.0,428.0,443.0,450.0,450.0,456.0,460.0,490.0,500.0,550.0,550.0,582.0,582.0,650.0,650.0,750.0,750.0,750.0,799.0,799.0,836.0,850.0,850.0,850.0,916.0,950.0,980.0,1300.0,1800.0,2000.0,2000.0,2200.0,2500.0],\"xaxis\":\"x\",\"y\":[4.906007559370214,4.902793103952073,4.89568746565934,4.89314973769765,4.892642192105312,4.891965464648861,4.888920191094833,4.888243463638382,4.884690644492015,4.884690644492015,4.87301709586824,4.871494459091227,4.868956731129536,4.867772458080747,4.867772458080747,4.866757366896071,4.8660806394396205,4.86100518351624,4.859313364875113,4.850854271669479,4.850854271669479,4.845440452017873,4.845440452017873,4.83393608525821,4.83393608525821,4.817017898846942,4.817017898846942,4.817017898846942,4.80872798750542,4.80872798750542,4.802468258533251,4.8000997124356735,4.8000997124356735,4.8000997124356735,4.788933709404236,4.783181526024404,4.778106070101024,4.723967873584965,4.639376941528623,4.605540568706085,4.605540568706085,4.571704195883549,4.5209496366497435],\"yaxis\":\"y\",\"type\":\"scatter\"},{\"hovertemplate\":\"room_type=Entire home\\u002fapt\\u003cbr\\u003ePrecio=%{x}\\u003cbr\\u003eRating=%{y}\\u003cextra\\u003e\\u003c\\u002fextra\\u003e\",\"legendgroup\":\"Entire home\\u002fapt\",\"marker\":{\"color\":\"#EF553B\",\"symbol\":\"diamond\"},\"mode\":\"markers\",\"name\":\"Entire home\\u002fapt\",\"orientation\":\"h\",\"showlegend\":true,\"x\":[null,700.0,1200.0,650.0,593.0,null,690.0,2480.0,null,1400.0,2500.0,1245.0,null,329.0,528.0,261.0,3000.0,2250.0,1300.0,249.0,249.0,1000.0,420.0,275.0,800.0,249.0,862.0,700.0,850.0,690.0,null,780.0,2000.0,1200.0,null,1700.0,550.0,3571.0,1993.0,null,1443.0,1600.0,1300.0,1436.0,537.0,789.0,875.0,875.0,740.0,289.0,1850.0,850.0,3000.0,1850.0,2148.0,2025.0,1850.0,770.0,330.0,306.0,3640.0,1520.0,650.0,750.0,1200.0],\"xaxis\":\"x\",\"y\":[4.89,null,4.68,4.94,4.71,4.0,4.94,5.0,5.0,4.78,4.86,4.88,null,4.38,4.75,4.23,4.5,null,5.0,4.17,4.29,null,5.0,4.2,5.0,2.75,4.89,4.86,4.93,4.85,null,4.57,null,4.99,4.75,4.92,4.64,4.0,null,5.0,null,5.0,null,4.8,4.89,4.67,4.9,4.82,5.0,4.78,4.81,5.0,5.0,5.0,5.0,5.0,null,5.0,4.92,null,null,null,null,null,5.0],\"yaxis\":\"y\",\"type\":\"scatter\"},{\"hovertemplate\":\"\\u003cb\\u003eOLS trendline\\u003c\\u002fb\\u003e\\u003cbr\\u003ereview_scores_rating = 8.67949e-05 * price_numeric + 4.64263\\u003cbr\\u003eR\\u003csup\\u003e2\\u003c\\u002fsup\\u003e=0.031571\\u003cbr\\u003e\\u003cbr\\u003eroom_type=Entire home\\u002fapt\\u003cbr\\u003ePrecio=%{x}\\u003cbr\\u003eRating=%{y} \\u003cb\\u003e(trend)\\u003c\\u002fb\\u003e\\u003cextra\\u003e\\u003c\\u002fextra\\u003e\",\"legendgroup\":\"Entire home\\u002fapt\",\"marker\":{\"color\":\"#EF553B\",\"symbol\":\"diamond\"},\"mode\":\"lines\",\"name\":\"Entire home\\u002fapt\",\"showlegend\":false,\"x\":[249.0,249.0,249.0,261.0,275.0,289.0,329.0,330.0,420.0,528.0,537.0,550.0,593.0,650.0,690.0,690.0,700.0,740.0,770.0,780.0,789.0,800.0,850.0,850.0,862.0,875.0,875.0,1200.0,1200.0,1200.0,1245.0,1300.0,1400.0,1436.0,1600.0,1700.0,1850.0,1850.0,2025.0,2148.0,2480.0,2500.0,3000.0,3000.0,3571.0],\"xaxis\":\"x\",\"y\":[4.664237715403072,4.664237715403072,4.664237715403072,4.665279253938773,4.666494382230424,4.6677095105220765,4.67118130564108,4.671268100519055,4.6790796395368135,4.6884534863581235,4.689234640259899,4.690362973673576,4.694095153426505,4.699042461471086,4.7025142565900895,4.7025142565900895,4.70338220536984,4.7068540004888435,4.709457846828097,4.710325795607847,4.711106949509624,4.71206169316735,4.7164014370661045,4.7164014370661045,4.717442975601806,4.7185713090154815,4.7185713090154815,4.746779644357387,4.746779644357387,4.746779644357387,4.750685413866266,4.755459132154897,4.764138619952407,4.7672632355595095,4.7814975955474255,4.790177083344935,4.803196315041199,4.803196315041199,4.818385418686841,4.829061188677778,4.857877088165509,4.859612985725011,4.9030104247125585,4.9030104247125585,4.952570300036338],\"yaxis\":\"y\",\"type\":\"scatter\"},{\"hovertemplate\":\"room_type=Shared room\\u003cbr\\u003ePrecio=%{x}\\u003cbr\\u003eRating=%{y}\\u003cextra\\u003e\\u003c\\u002fextra\\u003e\",\"legendgroup\":\"Shared room\",\"marker\":{\"color\":\"#00cc96\",\"symbol\":\"square\"},\"mode\":\"markers\",\"name\":\"Shared room\",\"orientation\":\"h\",\"showlegend\":true,\"x\":[null],\"xaxis\":\"x\",\"y\":[null],\"yaxis\":\"y\",\"type\":\"scatter\"},{\"hovertemplate\":\"room_type=Shared room\\u003cextra\\u003e\\u003c\\u002fextra\\u003e\",\"legendgroup\":\"Shared room\",\"marker\":{\"color\":\"#00cc96\",\"symbol\":\"square\"},\"mode\":\"lines\",\"name\":\"Shared room\",\"showlegend\":false,\"xaxis\":\"x\",\"yaxis\":\"y\",\"type\":\"scatter\"}],                        {\"template\":{\"data\":{\"histogram2dcontour\":[{\"type\":\"histogram2dcontour\",\"colorbar\":{\"outlinewidth\":0,\"ticks\":\"\"},\"colorscale\":[[0.0,\"#0d0887\"],[0.1111111111111111,\"#46039f\"],[0.2222222222222222,\"#7201a8\"],[0.3333333333333333,\"#9c179e\"],[0.4444444444444444,\"#bd3786\"],[0.5555555555555556,\"#d8576b\"],[0.6666666666666666,\"#ed7953\"],[0.7777777777777778,\"#fb9f3a\"],[0.8888888888888888,\"#fdca26\"],[1.0,\"#f0f921\"]]}],\"choropleth\":[{\"type\":\"choropleth\",\"colorbar\":{\"outlinewidth\":0,\"ticks\":\"\"}}],\"histogram2d\":[{\"type\":\"histogram2d\",\"colorbar\":{\"outlinewidth\":0,\"ticks\":\"\"},\"colorscale\":[[0.0,\"#0d0887\"],[0.1111111111111111,\"#46039f\"],[0.2222222222222222,\"#7201a8\"],[0.3333333333333333,\"#9c179e\"],[0.4444444444444444,\"#bd3786\"],[0.5555555555555556,\"#d8576b\"],[0.6666666666666666,\"#ed7953\"],[0.7777777777777778,\"#fb9f3a\"],[0.8888888888888888,\"#fdca26\"],[1.0,\"#f0f921\"]]}],\"heatmap\":[{\"type\":\"heatmap\",\"colorbar\":{\"outlinewidth\":0,\"ticks\":\"\"},\"colorscale\":[[0.0,\"#0d0887\"],[0.1111111111111111,\"#46039f\"],[0.2222222222222222,\"#7201a8\"],[0.3333333333333333,\"#9c179e\"],[0.4444444444444444,\"#bd3786\"],[0.5555555555555556,\"#d8576b\"],[0.6666666666666666,\"#ed7953\"],[0.7777777777777778,\"#fb9f3a\"],[0.8888888888888888,\"#fdca26\"],[1.0,\"#f0f921\"]]}],\"heatmapgl\":[{\"type\":\"heatmapgl\",\"colorbar\":{\"outlinewidth\":0,\"ticks\":\"\"},\"colorscale\":[[0.0,\"#0d0887\"],[0.1111111111111111,\"#46039f\"],[0.2222222222222222,\"#7201a8\"],[0.3333333333333333,\"#9c179e\"],[0.4444444444444444,\"#bd3786\"],[0.5555555555555556,\"#d8576b\"],[0.6666666666666666,\"#ed7953\"],[0.7777777777777778,\"#fb9f3a\"],[0.8888888888888888,\"#fdca26\"],[1.0,\"#f0f921\"]]}],\"contourcarpet\":[{\"type\":\"contourcarpet\",\"colorbar\":{\"outlinewidth\":0,\"ticks\":\"\"}}],\"contour\":[{\"type\":\"contour\",\"colorbar\":{\"outlinewidth\":0,\"ticks\":\"\"},\"colorscale\":[[0.0,\"#0d0887\"],[0.1111111111111111,\"#46039f\"],[0.2222222222222222,\"#7201a8\"],[0.3333333333333333,\"#9c179e\"],[0.4444444444444444,\"#bd3786\"],[0.5555555555555556,\"#d8576b\"],[0.6666666666666666,\"#ed7953\"],[0.7777777777777778,\"#fb9f3a\"],[0.8888888888888888,\"#fdca26\"],[1.0,\"#f0f921\"]]}],\"surface\":[{\"type\":\"surface\",\"colorbar\":{\"outlinewidth\":0,\"ticks\":\"\"},\"colorscale\":[[0.0,\"#0d0887\"],[0.1111111111111111,\"#46039f\"],[0.2222222222222222,\"#7201a8\"],[0.3333333333333333,\"#9c179e\"],[0.4444444444444444,\"#bd3786\"],[0.5555555555555556,\"#d8576b\"],[0.6666666666666666,\"#ed7953\"],[0.7777777777777778,\"#fb9f3a\"],[0.8888888888888888,\"#fdca26\"],[1.0,\"#f0f921\"]]}],\"mesh3d\":[{\"type\":\"mesh3d\",\"colorbar\":{\"outlinewidth\":0,\"ticks\":\"\"}}],\"scatter\":[{\"fillpattern\":{\"fillmode\":\"overlay\",\"size\":10,\"solidity\":0.2},\"type\":\"scatter\"}],\"parcoords\":[{\"type\":\"parcoords\",\"line\":{\"colorbar\":{\"outlinewidth\":0,\"ticks\":\"\"}}}],\"scatterpolargl\":[{\"type\":\"scatterpolargl\",\"marker\":{\"colorbar\":{\"outlinewidth\":0,\"ticks\":\"\"}}}],\"bar\":[{\"error_x\":{\"color\":\"#2a3f5f\"},\"error_y\":{\"color\":\"#2a3f5f\"},\"marker\":{\"line\":{\"color\":\"#E5ECF6\",\"width\":0.5},\"pattern\":{\"fillmode\":\"overlay\",\"size\":10,\"solidity\":0.2}},\"type\":\"bar\"}],\"scattergeo\":[{\"type\":\"scattergeo\",\"marker\":{\"colorbar\":{\"outlinewidth\":0,\"ticks\":\"\"}}}],\"scatterpolar\":[{\"type\":\"scatterpolar\",\"marker\":{\"colorbar\":{\"outlinewidth\":0,\"ticks\":\"\"}}}],\"histogram\":[{\"marker\":{\"pattern\":{\"fillmode\":\"overlay\",\"size\":10,\"solidity\":0.2}},\"type\":\"histogram\"}],\"scattergl\":[{\"type\":\"scattergl\",\"marker\":{\"colorbar\":{\"outlinewidth\":0,\"ticks\":\"\"}}}],\"scatter3d\":[{\"type\":\"scatter3d\",\"line\":{\"colorbar\":{\"outlinewidth\":0,\"ticks\":\"\"}},\"marker\":{\"colorbar\":{\"outlinewidth\":0,\"ticks\":\"\"}}}],\"scattermapbox\":[{\"type\":\"scattermapbox\",\"marker\":{\"colorbar\":{\"outlinewidth\":0,\"ticks\":\"\"}}}],\"scatterternary\":[{\"type\":\"scatterternary\",\"marker\":{\"colorbar\":{\"outlinewidth\":0,\"ticks\":\"\"}}}],\"scattercarpet\":[{\"type\":\"scattercarpet\",\"marker\":{\"colorbar\":{\"outlinewidth\":0,\"ticks\":\"\"}}}],\"carpet\":[{\"aaxis\":{\"endlinecolor\":\"#2a3f5f\",\"gridcolor\":\"white\",\"linecolor\":\"white\",\"minorgridcolor\":\"white\",\"startlinecolor\":\"#2a3f5f\"},\"baxis\":{\"endlinecolor\":\"#2a3f5f\",\"gridcolor\":\"white\",\"linecolor\":\"white\",\"minorgridcolor\":\"white\",\"startlinecolor\":\"#2a3f5f\"},\"type\":\"carpet\"}],\"table\":[{\"cells\":{\"fill\":{\"color\":\"#EBF0F8\"},\"line\":{\"color\":\"white\"}},\"header\":{\"fill\":{\"color\":\"#C8D4E3\"},\"line\":{\"color\":\"white\"}},\"type\":\"table\"}],\"barpolar\":[{\"marker\":{\"line\":{\"color\":\"#E5ECF6\",\"width\":0.5},\"pattern\":{\"fillmode\":\"overlay\",\"size\":10,\"solidity\":0.2}},\"type\":\"barpolar\"}],\"pie\":[{\"automargin\":true,\"type\":\"pie\"}]},\"layout\":{\"autotypenumbers\":\"strict\",\"colorway\":[\"#636efa\",\"#EF553B\",\"#00cc96\",\"#ab63fa\",\"#FFA15A\",\"#19d3f3\",\"#FF6692\",\"#B6E880\",\"#FF97FF\",\"#FECB52\"],\"font\":{\"color\":\"#2a3f5f\"},\"hovermode\":\"closest\",\"hoverlabel\":{\"align\":\"left\"},\"paper_bgcolor\":\"white\",\"plot_bgcolor\":\"#E5ECF6\",\"polar\":{\"bgcolor\":\"#E5ECF6\",\"angularaxis\":{\"gridcolor\":\"white\",\"linecolor\":\"white\",\"ticks\":\"\"},\"radialaxis\":{\"gridcolor\":\"white\",\"linecolor\":\"white\",\"ticks\":\"\"}},\"ternary\":{\"bgcolor\":\"#E5ECF6\",\"aaxis\":{\"gridcolor\":\"white\",\"linecolor\":\"white\",\"ticks\":\"\"},\"baxis\":{\"gridcolor\":\"white\",\"linecolor\":\"white\",\"ticks\":\"\"},\"caxis\":{\"gridcolor\":\"white\",\"linecolor\":\"white\",\"ticks\":\"\"}},\"coloraxis\":{\"colorbar\":{\"outlinewidth\":0,\"ticks\":\"\"}},\"colorscale\":{\"sequential\":[[0.0,\"#0d0887\"],[0.1111111111111111,\"#46039f\"],[0.2222222222222222,\"#7201a8\"],[0.3333333333333333,\"#9c179e\"],[0.4444444444444444,\"#bd3786\"],[0.5555555555555556,\"#d8576b\"],[0.6666666666666666,\"#ed7953\"],[0.7777777777777778,\"#fb9f3a\"],[0.8888888888888888,\"#fdca26\"],[1.0,\"#f0f921\"]],\"sequentialminus\":[[0.0,\"#0d0887\"],[0.1111111111111111,\"#46039f\"],[0.2222222222222222,\"#7201a8\"],[0.3333333333333333,\"#9c179e\"],[0.4444444444444444,\"#bd3786\"],[0.5555555555555556,\"#d8576b\"],[0.6666666666666666,\"#ed7953\"],[0.7777777777777778,\"#fb9f3a\"],[0.8888888888888888,\"#fdca26\"],[1.0,\"#f0f921\"]],\"diverging\":[[0,\"#8e0152\"],[0.1,\"#c51b7d\"],[0.2,\"#de77ae\"],[0.3,\"#f1b6da\"],[0.4,\"#fde0ef\"],[0.5,\"#f7f7f7\"],[0.6,\"#e6f5d0\"],[0.7,\"#b8e186\"],[0.8,\"#7fbc41\"],[0.9,\"#4d9221\"],[1,\"#276419\"]]},\"xaxis\":{\"gridcolor\":\"white\",\"linecolor\":\"white\",\"ticks\":\"\",\"title\":{\"standoff\":15},\"zerolinecolor\":\"white\",\"automargin\":true,\"zerolinewidth\":2},\"yaxis\":{\"gridcolor\":\"white\",\"linecolor\":\"white\",\"ticks\":\"\",\"title\":{\"standoff\":15},\"zerolinecolor\":\"white\",\"automargin\":true,\"zerolinewidth\":2},\"scene\":{\"xaxis\":{\"backgroundcolor\":\"#E5ECF6\",\"gridcolor\":\"white\",\"linecolor\":\"white\",\"showbackground\":true,\"ticks\":\"\",\"zerolinecolor\":\"white\",\"gridwidth\":2},\"yaxis\":{\"backgroundcolor\":\"#E5ECF6\",\"gridcolor\":\"white\",\"linecolor\":\"white\",\"showbackground\":true,\"ticks\":\"\",\"zerolinecolor\":\"white\",\"gridwidth\":2},\"zaxis\":{\"backgroundcolor\":\"#E5ECF6\",\"gridcolor\":\"white\",\"linecolor\":\"white\",\"showbackground\":true,\"ticks\":\"\",\"zerolinecolor\":\"white\",\"gridwidth\":2}},\"shapedefaults\":{\"line\":{\"color\":\"#2a3f5f\"}},\"annotationdefaults\":{\"arrowcolor\":\"#2a3f5f\",\"arrowhead\":0,\"arrowwidth\":1},\"geo\":{\"bgcolor\":\"white\",\"landcolor\":\"#E5ECF6\",\"subunitcolor\":\"white\",\"showland\":true,\"showlakes\":true,\"lakecolor\":\"white\"},\"title\":{\"x\":0.05},\"mapbox\":{\"style\":\"light\"}}},\"xaxis\":{\"anchor\":\"y\",\"domain\":[0.0,1.0],\"title\":{\"text\":\"Precio\"}},\"yaxis\":{\"anchor\":\"x\",\"domain\":[0.0,1.0],\"title\":{\"text\":\"Rating\"}},\"legend\":{\"title\":{\"text\":\"room_type\"},\"tracegroupgap\":0},\"title\":{\"text\":\"Precio de los alojamientos vs Calificaciones por tipo de habitaci\\u00f3n\"}},                        {\"responsive\": true}                    ).then(function(){\n",
              "                            \n",
              "var gd = document.getElementById('8719e0dd-64a2-4518-9132-79aecbd6dff0');\n",
              "var x = new MutationObserver(function (mutations, observer) {{\n",
              "        var display = window.getComputedStyle(gd).display;\n",
              "        if (!display || display === 'none') {{\n",
              "            console.log([gd, 'removed!']);\n",
              "            Plotly.purge(gd);\n",
              "            observer.disconnect();\n",
              "        }}\n",
              "}});\n",
              "\n",
              "// Listen for the removal of the full notebook cells\n",
              "var notebookContainer = gd.closest('#notebook-container');\n",
              "if (notebookContainer) {{\n",
              "    x.observe(notebookContainer, {childList: true});\n",
              "}}\n",
              "\n",
              "// Listen for the clearing of the current output cell\n",
              "var outputEl = gd.closest('.output');\n",
              "if (outputEl) {{\n",
              "    x.observe(outputEl, {childList: true});\n",
              "}}\n",
              "\n",
              "                        })                };                            </script>        </div>\n",
              "</body>\n",
              "</html>"
            ]
          },
          "metadata": {}
        }
      ]
    },
    {
      "cell_type": "markdown",
      "source": [
        "**Habitación privada**: Los precios varían bastante, pero en general, los alojamientos con precios más bajos tienden a tener mejores calificaciones. A medida que el precio aumenta, la calificación tiende a ser ligeramente más baja o mantenerse constante.\n",
        "\n",
        "\n",
        "**Casa/Apartamento completo**: Estos alojamientos tienen una tendencia a mostrar calificaciones ligeramente más altas en precios mayores, lo que sugiere que los huéspedes pueden estar más dispuestos a pagar por una experiencia más completa y privada, manteniendo una alta satisfacción."
      ],
      "metadata": {
        "id": "VmsPsK7I8fqX"
      }
    },
    {
      "cell_type": "code",
      "source": [
        "reviews_Magdalena = ['room_type','review_scores_accuracy','review_scores_cleanliness','review_scores_checkin','review_scores_communication','review_scores_location','review_scores_value']\n",
        "\n",
        "listings_Magdalena_reviews = listings_Magdalena[reviews_Magdalena]"
      ],
      "metadata": {
        "id": "qSofynUj9jwf"
      },
      "execution_count": null,
      "outputs": []
    },
    {
      "cell_type": "code",
      "source": [
        "# Agrupar por 'room_type' y calcular el promedio de las columnas de puntuación\n",
        "listings_promedios = listings_Magdalena_reviews.groupby('room_type').mean().reset_index()\n",
        "\n",
        "# Mostrar el DataFrame con los promedios\n",
        "listings_promedios"
      ],
      "metadata": {
        "colab": {
          "base_uri": "https://localhost:8080/",
          "height": 216
        },
        "id": "-zOMj43cAFZJ",
        "outputId": "346baf7a-0ebb-467b-859d-9f0d3db08fcf"
      },
      "execution_count": null,
      "outputs": [
        {
          "output_type": "execute_result",
          "data": {
            "text/plain": [
              "         room_type  review_scores_accuracy  review_scores_cleanliness  \\\n",
              "0  Entire home/apt                4.741800                   4.735200   \n",
              "1     Private room                4.848113                   4.854717   \n",
              "2      Shared room                     NaN                        NaN   \n",
              "\n",
              "   review_scores_checkin  review_scores_communication  review_scores_location  \\\n",
              "0               4.775400                     4.791000                4.605800   \n",
              "1               4.889811                     4.900377                4.843962   \n",
              "2                    NaN                          NaN                     NaN   \n",
              "\n",
              "   review_scores_value  \n",
              "0             4.715400  \n",
              "1             4.803396  \n",
              "2                  NaN  "
            ],
            "text/html": [
              "\n",
              "  <div id=\"df-554feed3-5404-44bf-9053-fa1aea5e4103\" class=\"colab-df-container\">\n",
              "    <div>\n",
              "<style scoped>\n",
              "    .dataframe tbody tr th:only-of-type {\n",
              "        vertical-align: middle;\n",
              "    }\n",
              "\n",
              "    .dataframe tbody tr th {\n",
              "        vertical-align: top;\n",
              "    }\n",
              "\n",
              "    .dataframe thead th {\n",
              "        text-align: right;\n",
              "    }\n",
              "</style>\n",
              "<table border=\"1\" class=\"dataframe\">\n",
              "  <thead>\n",
              "    <tr style=\"text-align: right;\">\n",
              "      <th></th>\n",
              "      <th>room_type</th>\n",
              "      <th>review_scores_accuracy</th>\n",
              "      <th>review_scores_cleanliness</th>\n",
              "      <th>review_scores_checkin</th>\n",
              "      <th>review_scores_communication</th>\n",
              "      <th>review_scores_location</th>\n",
              "      <th>review_scores_value</th>\n",
              "    </tr>\n",
              "  </thead>\n",
              "  <tbody>\n",
              "    <tr>\n",
              "      <th>0</th>\n",
              "      <td>Entire home/apt</td>\n",
              "      <td>4.741800</td>\n",
              "      <td>4.735200</td>\n",
              "      <td>4.775400</td>\n",
              "      <td>4.791000</td>\n",
              "      <td>4.605800</td>\n",
              "      <td>4.715400</td>\n",
              "    </tr>\n",
              "    <tr>\n",
              "      <th>1</th>\n",
              "      <td>Private room</td>\n",
              "      <td>4.848113</td>\n",
              "      <td>4.854717</td>\n",
              "      <td>4.889811</td>\n",
              "      <td>4.900377</td>\n",
              "      <td>4.843962</td>\n",
              "      <td>4.803396</td>\n",
              "    </tr>\n",
              "    <tr>\n",
              "      <th>2</th>\n",
              "      <td>Shared room</td>\n",
              "      <td>NaN</td>\n",
              "      <td>NaN</td>\n",
              "      <td>NaN</td>\n",
              "      <td>NaN</td>\n",
              "      <td>NaN</td>\n",
              "      <td>NaN</td>\n",
              "    </tr>\n",
              "  </tbody>\n",
              "</table>\n",
              "</div>\n",
              "    <div class=\"colab-df-buttons\">\n",
              "\n",
              "  <div class=\"colab-df-container\">\n",
              "    <button class=\"colab-df-convert\" onclick=\"convertToInteractive('df-554feed3-5404-44bf-9053-fa1aea5e4103')\"\n",
              "            title=\"Convert this dataframe to an interactive table.\"\n",
              "            style=\"display:none;\">\n",
              "\n",
              "  <svg xmlns=\"http://www.w3.org/2000/svg\" height=\"24px\" viewBox=\"0 -960 960 960\">\n",
              "    <path d=\"M120-120v-720h720v720H120Zm60-500h600v-160H180v160Zm220 220h160v-160H400v160Zm0 220h160v-160H400v160ZM180-400h160v-160H180v160Zm440 0h160v-160H620v160ZM180-180h160v-160H180v160Zm440 0h160v-160H620v160Z\"/>\n",
              "  </svg>\n",
              "    </button>\n",
              "\n",
              "  <style>\n",
              "    .colab-df-container {\n",
              "      display:flex;\n",
              "      gap: 12px;\n",
              "    }\n",
              "\n",
              "    .colab-df-convert {\n",
              "      background-color: #E8F0FE;\n",
              "      border: none;\n",
              "      border-radius: 50%;\n",
              "      cursor: pointer;\n",
              "      display: none;\n",
              "      fill: #1967D2;\n",
              "      height: 32px;\n",
              "      padding: 0 0 0 0;\n",
              "      width: 32px;\n",
              "    }\n",
              "\n",
              "    .colab-df-convert:hover {\n",
              "      background-color: #E2EBFA;\n",
              "      box-shadow: 0px 1px 2px rgba(60, 64, 67, 0.3), 0px 1px 3px 1px rgba(60, 64, 67, 0.15);\n",
              "      fill: #174EA6;\n",
              "    }\n",
              "\n",
              "    .colab-df-buttons div {\n",
              "      margin-bottom: 4px;\n",
              "    }\n",
              "\n",
              "    [theme=dark] .colab-df-convert {\n",
              "      background-color: #3B4455;\n",
              "      fill: #D2E3FC;\n",
              "    }\n",
              "\n",
              "    [theme=dark] .colab-df-convert:hover {\n",
              "      background-color: #434B5C;\n",
              "      box-shadow: 0px 1px 3px 1px rgba(0, 0, 0, 0.15);\n",
              "      filter: drop-shadow(0px 1px 2px rgba(0, 0, 0, 0.3));\n",
              "      fill: #FFFFFF;\n",
              "    }\n",
              "  </style>\n",
              "\n",
              "    <script>\n",
              "      const buttonEl =\n",
              "        document.querySelector('#df-554feed3-5404-44bf-9053-fa1aea5e4103 button.colab-df-convert');\n",
              "      buttonEl.style.display =\n",
              "        google.colab.kernel.accessAllowed ? 'block' : 'none';\n",
              "\n",
              "      async function convertToInteractive(key) {\n",
              "        const element = document.querySelector('#df-554feed3-5404-44bf-9053-fa1aea5e4103');\n",
              "        const dataTable =\n",
              "          await google.colab.kernel.invokeFunction('convertToInteractive',\n",
              "                                                    [key], {});\n",
              "        if (!dataTable) return;\n",
              "\n",
              "        const docLinkHtml = 'Like what you see? Visit the ' +\n",
              "          '<a target=\"_blank\" href=https://colab.research.google.com/notebooks/data_table.ipynb>data table notebook</a>'\n",
              "          + ' to learn more about interactive tables.';\n",
              "        element.innerHTML = '';\n",
              "        dataTable['output_type'] = 'display_data';\n",
              "        await google.colab.output.renderOutput(dataTable, element);\n",
              "        const docLink = document.createElement('div');\n",
              "        docLink.innerHTML = docLinkHtml;\n",
              "        element.appendChild(docLink);\n",
              "      }\n",
              "    </script>\n",
              "  </div>\n",
              "\n",
              "\n",
              "<div id=\"df-db04db78-7919-4e98-b160-bd1ee2d5f153\">\n",
              "  <button class=\"colab-df-quickchart\" onclick=\"quickchart('df-db04db78-7919-4e98-b160-bd1ee2d5f153')\"\n",
              "            title=\"Suggest charts\"\n",
              "            style=\"display:none;\">\n",
              "\n",
              "<svg xmlns=\"http://www.w3.org/2000/svg\" height=\"24px\"viewBox=\"0 0 24 24\"\n",
              "     width=\"24px\">\n",
              "    <g>\n",
              "        <path d=\"M19 3H5c-1.1 0-2 .9-2 2v14c0 1.1.9 2 2 2h14c1.1 0 2-.9 2-2V5c0-1.1-.9-2-2-2zM9 17H7v-7h2v7zm4 0h-2V7h2v10zm4 0h-2v-4h2v4z\"/>\n",
              "    </g>\n",
              "</svg>\n",
              "  </button>\n",
              "\n",
              "<style>\n",
              "  .colab-df-quickchart {\n",
              "      --bg-color: #E8F0FE;\n",
              "      --fill-color: #1967D2;\n",
              "      --hover-bg-color: #E2EBFA;\n",
              "      --hover-fill-color: #174EA6;\n",
              "      --disabled-fill-color: #AAA;\n",
              "      --disabled-bg-color: #DDD;\n",
              "  }\n",
              "\n",
              "  [theme=dark] .colab-df-quickchart {\n",
              "      --bg-color: #3B4455;\n",
              "      --fill-color: #D2E3FC;\n",
              "      --hover-bg-color: #434B5C;\n",
              "      --hover-fill-color: #FFFFFF;\n",
              "      --disabled-bg-color: #3B4455;\n",
              "      --disabled-fill-color: #666;\n",
              "  }\n",
              "\n",
              "  .colab-df-quickchart {\n",
              "    background-color: var(--bg-color);\n",
              "    border: none;\n",
              "    border-radius: 50%;\n",
              "    cursor: pointer;\n",
              "    display: none;\n",
              "    fill: var(--fill-color);\n",
              "    height: 32px;\n",
              "    padding: 0;\n",
              "    width: 32px;\n",
              "  }\n",
              "\n",
              "  .colab-df-quickchart:hover {\n",
              "    background-color: var(--hover-bg-color);\n",
              "    box-shadow: 0 1px 2px rgba(60, 64, 67, 0.3), 0 1px 3px 1px rgba(60, 64, 67, 0.15);\n",
              "    fill: var(--button-hover-fill-color);\n",
              "  }\n",
              "\n",
              "  .colab-df-quickchart-complete:disabled,\n",
              "  .colab-df-quickchart-complete:disabled:hover {\n",
              "    background-color: var(--disabled-bg-color);\n",
              "    fill: var(--disabled-fill-color);\n",
              "    box-shadow: none;\n",
              "  }\n",
              "\n",
              "  .colab-df-spinner {\n",
              "    border: 2px solid var(--fill-color);\n",
              "    border-color: transparent;\n",
              "    border-bottom-color: var(--fill-color);\n",
              "    animation:\n",
              "      spin 1s steps(1) infinite;\n",
              "  }\n",
              "\n",
              "  @keyframes spin {\n",
              "    0% {\n",
              "      border-color: transparent;\n",
              "      border-bottom-color: var(--fill-color);\n",
              "      border-left-color: var(--fill-color);\n",
              "    }\n",
              "    20% {\n",
              "      border-color: transparent;\n",
              "      border-left-color: var(--fill-color);\n",
              "      border-top-color: var(--fill-color);\n",
              "    }\n",
              "    30% {\n",
              "      border-color: transparent;\n",
              "      border-left-color: var(--fill-color);\n",
              "      border-top-color: var(--fill-color);\n",
              "      border-right-color: var(--fill-color);\n",
              "    }\n",
              "    40% {\n",
              "      border-color: transparent;\n",
              "      border-right-color: var(--fill-color);\n",
              "      border-top-color: var(--fill-color);\n",
              "    }\n",
              "    60% {\n",
              "      border-color: transparent;\n",
              "      border-right-color: var(--fill-color);\n",
              "    }\n",
              "    80% {\n",
              "      border-color: transparent;\n",
              "      border-right-color: var(--fill-color);\n",
              "      border-bottom-color: var(--fill-color);\n",
              "    }\n",
              "    90% {\n",
              "      border-color: transparent;\n",
              "      border-bottom-color: var(--fill-color);\n",
              "    }\n",
              "  }\n",
              "</style>\n",
              "\n",
              "  <script>\n",
              "    async function quickchart(key) {\n",
              "      const quickchartButtonEl =\n",
              "        document.querySelector('#' + key + ' button');\n",
              "      quickchartButtonEl.disabled = true;  // To prevent multiple clicks.\n",
              "      quickchartButtonEl.classList.add('colab-df-spinner');\n",
              "      try {\n",
              "        const charts = await google.colab.kernel.invokeFunction(\n",
              "            'suggestCharts', [key], {});\n",
              "      } catch (error) {\n",
              "        console.error('Error during call to suggestCharts:', error);\n",
              "      }\n",
              "      quickchartButtonEl.classList.remove('colab-df-spinner');\n",
              "      quickchartButtonEl.classList.add('colab-df-quickchart-complete');\n",
              "    }\n",
              "    (() => {\n",
              "      let quickchartButtonEl =\n",
              "        document.querySelector('#df-db04db78-7919-4e98-b160-bd1ee2d5f153 button');\n",
              "      quickchartButtonEl.style.display =\n",
              "        google.colab.kernel.accessAllowed ? 'block' : 'none';\n",
              "    })();\n",
              "  </script>\n",
              "</div>\n",
              "\n",
              "  <div id=\"id_c2db79b0-2e76-4ff4-b9f9-c71fe282e3fa\">\n",
              "    <style>\n",
              "      .colab-df-generate {\n",
              "        background-color: #E8F0FE;\n",
              "        border: none;\n",
              "        border-radius: 50%;\n",
              "        cursor: pointer;\n",
              "        display: none;\n",
              "        fill: #1967D2;\n",
              "        height: 32px;\n",
              "        padding: 0 0 0 0;\n",
              "        width: 32px;\n",
              "      }\n",
              "\n",
              "      .colab-df-generate:hover {\n",
              "        background-color: #E2EBFA;\n",
              "        box-shadow: 0px 1px 2px rgba(60, 64, 67, 0.3), 0px 1px 3px 1px rgba(60, 64, 67, 0.15);\n",
              "        fill: #174EA6;\n",
              "      }\n",
              "\n",
              "      [theme=dark] .colab-df-generate {\n",
              "        background-color: #3B4455;\n",
              "        fill: #D2E3FC;\n",
              "      }\n",
              "\n",
              "      [theme=dark] .colab-df-generate:hover {\n",
              "        background-color: #434B5C;\n",
              "        box-shadow: 0px 1px 3px 1px rgba(0, 0, 0, 0.15);\n",
              "        filter: drop-shadow(0px 1px 2px rgba(0, 0, 0, 0.3));\n",
              "        fill: #FFFFFF;\n",
              "      }\n",
              "    </style>\n",
              "    <button class=\"colab-df-generate\" onclick=\"generateWithVariable('listings_promedios')\"\n",
              "            title=\"Generate code using this dataframe.\"\n",
              "            style=\"display:none;\">\n",
              "\n",
              "  <svg xmlns=\"http://www.w3.org/2000/svg\" height=\"24px\"viewBox=\"0 0 24 24\"\n",
              "       width=\"24px\">\n",
              "    <path d=\"M7,19H8.4L18.45,9,17,7.55,7,17.6ZM5,21V16.75L18.45,3.32a2,2,0,0,1,2.83,0l1.4,1.43a1.91,1.91,0,0,1,.58,1.4,1.91,1.91,0,0,1-.58,1.4L9.25,21ZM18.45,9,17,7.55Zm-12,3A5.31,5.31,0,0,0,4.9,8.1,5.31,5.31,0,0,0,1,6.5,5.31,5.31,0,0,0,4.9,4.9,5.31,5.31,0,0,0,6.5,1,5.31,5.31,0,0,0,8.1,4.9,5.31,5.31,0,0,0,12,6.5,5.46,5.46,0,0,0,6.5,12Z\"/>\n",
              "  </svg>\n",
              "    </button>\n",
              "    <script>\n",
              "      (() => {\n",
              "      const buttonEl =\n",
              "        document.querySelector('#id_c2db79b0-2e76-4ff4-b9f9-c71fe282e3fa button.colab-df-generate');\n",
              "      buttonEl.style.display =\n",
              "        google.colab.kernel.accessAllowed ? 'block' : 'none';\n",
              "\n",
              "      buttonEl.onclick = () => {\n",
              "        google.colab.notebook.generateWithVariable('listings_promedios');\n",
              "      }\n",
              "      })();\n",
              "    </script>\n",
              "  </div>\n",
              "\n",
              "    </div>\n",
              "  </div>\n"
            ],
            "application/vnd.google.colaboratory.intrinsic+json": {
              "type": "dataframe",
              "variable_name": "listings_promedios",
              "summary": "{\n  \"name\": \"listings_promedios\",\n  \"rows\": 3,\n  \"fields\": [\n    {\n      \"column\": \"room_type\",\n      \"properties\": {\n        \"dtype\": \"string\",\n        \"num_unique_values\": 3,\n        \"samples\": [\n          \"Entire home/apt\",\n          \"Private room\",\n          \"Shared room\"\n        ],\n        \"semantic_type\": \"\",\n        \"description\": \"\"\n      }\n    },\n    {\n      \"column\": \"review_scores_accuracy\",\n      \"properties\": {\n        \"dtype\": \"number\",\n        \"std\": 0.07517478998629597,\n        \"min\": 4.7418000000000005,\n        \"max\": 4.848113207547169,\n        \"num_unique_values\": 2,\n        \"samples\": [\n          4.848113207547169,\n          4.7418000000000005\n        ],\n        \"semantic_type\": \"\",\n        \"description\": \"\"\n      }\n    },\n    {\n      \"column\": \"review_scores_cleanliness\",\n      \"properties\": {\n        \"dtype\": \"number\",\n        \"std\": 0.08451126782543558,\n        \"min\": 4.7352,\n        \"max\": 4.854716981132076,\n        \"num_unique_values\": 2,\n        \"samples\": [\n          4.854716981132076,\n          4.7352\n        ],\n        \"semantic_type\": \"\",\n        \"description\": \"\"\n      }\n    },\n    {\n      \"column\": \"review_scores_checkin\",\n      \"properties\": {\n        \"dtype\": \"number\",\n        \"std\": 0.08090102075016993,\n        \"min\": 4.7754,\n        \"max\": 4.889811320754718,\n        \"num_unique_values\": 2,\n        \"samples\": [\n          4.889811320754718,\n          4.7754\n        ],\n        \"semantic_type\": \"\",\n        \"description\": \"\"\n      }\n    },\n    {\n      \"column\": \"review_scores_communication\",\n      \"properties\": {\n        \"dtype\": \"number\",\n        \"std\": 0.07734147189695151,\n        \"min\": 4.791,\n        \"max\": 4.900377358490567,\n        \"num_unique_values\": 2,\n        \"samples\": [\n          4.900377358490567,\n          4.791\n        ],\n        \"semantic_type\": \"\",\n        \"description\": \"\"\n      }\n    },\n    {\n      \"column\": \"review_scores_location\",\n      \"properties\": {\n        \"dtype\": \"number\",\n        \"std\": 0.16840615200387477,\n        \"min\": 4.6057999999999995,\n        \"max\": 4.843962264150944,\n        \"num_unique_values\": 2,\n        \"samples\": [\n          4.843962264150944,\n          4.6057999999999995\n        ],\n        \"semantic_type\": \"\",\n        \"description\": \"\"\n      }\n    },\n    {\n      \"column\": \"review_scores_value\",\n      \"properties\": {\n        \"dtype\": \"number\",\n        \"std\": 0.06222272841694053,\n        \"min\": 4.7154,\n        \"max\": 4.803396226415095,\n        \"num_unique_values\": 2,\n        \"samples\": [\n          4.803396226415095,\n          4.7154\n        ],\n        \"semantic_type\": \"\",\n        \"description\": \"\"\n      }\n    }\n  ]\n}"
            }
          },
          "metadata": {},
          "execution_count": 96
        }
      ]
    },
    {
      "cell_type": "code",
      "source": [
        "src= 'https://lookerstudio.google.com/embed/reporting/a485830b-3b2a-42ec-a824-ebc43ef2c2ee/page/p_a86e8ahhld'\n",
        "IPython.display.IFrame(src,width=650, height=300)"
      ],
      "metadata": {
        "colab": {
          "base_uri": "https://localhost:8080/",
          "height": 321
        },
        "id": "JJ8XlDxSPDR4",
        "outputId": "b4f0ebc9-3513-4912-ffcb-db00dc7acdb4"
      },
      "execution_count": null,
      "outputs": [
        {
          "output_type": "execute_result",
          "data": {
            "text/plain": [
              "<IPython.lib.display.IFrame at 0x7dabfebe2920>"
            ],
            "text/html": [
              "\n",
              "        <iframe\n",
              "            width=\"650\"\n",
              "            height=\"300\"\n",
              "            src=\"https://lookerstudio.google.com/embed/reporting/a485830b-3b2a-42ec-a824-ebc43ef2c2ee/page/p_a86e8ahhld\"\n",
              "            frameborder=\"0\"\n",
              "            allowfullscreen\n",
              "            \n",
              "        ></iframe>\n",
              "        "
            ]
          },
          "metadata": {},
          "execution_count": 97
        }
      ]
    },
    {
      "cell_type": "markdown",
      "source": [
        "Los datos sugieren que, aunque los precios de los alojamientos completos tienden a ser más altos, las habitaciones privadas tienden a tener una ligera ventaja en las calificaciones generales de los usuarios. Esto sugiere que invertir en habitaciones privadas podría ofrecer una buena relación entre precio y satisfacción del cliente considerando que en los reviews todos los puntos mencionados son importantes para brindar una buena experiencia"
      ],
      "metadata": {
        "id": "uaXMe_DJBQoN"
      }
    },
    {
      "cell_type": "code",
      "source": [],
      "metadata": {
        "id": "9tEMYCRXnNGp"
      },
      "execution_count": null,
      "outputs": []
    },
    {
      "cell_type": "markdown",
      "source": [
        "# Adicionales"
      ],
      "metadata": {
        "id": "bpwb4MgEnNtw"
      }
    },
    {
      "cell_type": "markdown",
      "source": [
        "Complementando para dar mayor guía en como debe realizar su inversión, se analiza las características promedio de los departamentos que se encuentran en la Magdalena Contreras como es por ejemplo, n. habitaciones, baños, camas ya que como se mencionaba al inicio se busca tener una muy buena experienca del cliente, para enfocar es características se toma los tipos de habitación con review mayor o iguales a 4.5"
      ],
      "metadata": {
        "id": "wvmy9ydanRrw"
      }
    },
    {
      "cell_type": "code",
      "source": [
        "src= 'https://lookerstudio.google.com/embed/reporting/a485830b-3b2a-42ec-a824-ebc43ef2c2ee/page/p_g8b8b8xhld'\n",
        "IPython.display.IFrame(src,width=650, height=300)"
      ],
      "metadata": {
        "id": "TmcyoBhJnQs1",
        "colab": {
          "base_uri": "https://localhost:8080/",
          "height": 321
        },
        "outputId": "44b211db-c91c-43b1-ffad-72b126fac699"
      },
      "execution_count": null,
      "outputs": [
        {
          "output_type": "execute_result",
          "data": {
            "text/plain": [
              "<IPython.lib.display.IFrame at 0x7eae9f8b5570>"
            ],
            "text/html": [
              "\n",
              "        <iframe\n",
              "            width=\"650\"\n",
              "            height=\"300\"\n",
              "            src=\"https://lookerstudio.google.com/embed/reporting/a485830b-3b2a-42ec-a824-ebc43ef2c2ee/page/p_g8b8b8xhld\"\n",
              "            frameborder=\"0\"\n",
              "            allowfullscreen\n",
              "            \n",
              "        ></iframe>\n",
              "        "
            ]
          },
          "metadata": {},
          "execution_count": 9
        }
      ]
    },
    {
      "cell_type": "markdown",
      "source": [
        "Como se muestra en el gráfico, los valores de un apartamento entero son ligeramente más variables que los de una habitación privada, la satisfacción respecto a su alojamiento en habitación privada se mantiene de forma constante aunque se tenga más cantidad en las características, por lo que al realizar la inversión de acuerdo se puede sugerir que sea 1 baño, 1 habitación 1 cama para mantener una experiencia adicional y continuar siendo un lugar rentable y favorito por los huespedes\n"
      ],
      "metadata": {
        "id": "6xvXQ1mqu5fW"
      }
    },
    {
      "cell_type": "markdown",
      "source": [
        "# Conclusión"
      ],
      "metadata": {
        "id": "D4tDDT6ROL2L"
      }
    },
    {
      "cell_type": "markdown",
      "source": [
        "Consideramos que una buena oportunidad de inversión es en la Magdalena Contreras en el concepto de habitaciones privadas por 3 ejes principales\n",
        "\n",
        "1.- Mismo nivel de ingresos potenciales **pero mejor retorno de inversión en el corto plazo**.\n",
        "\n",
        "2.- Costo de Entrada Más Bajo: Los departamentos con habitaciones privadas generalmente tienen precios de compra y alquiler más bajos en comparación con los alojamientos enteros. Sim embargo, **los datos muestran mayor satisfacción del cliente a este tipo de alojamientos lo que encamina al punto 3**.\n",
        "\n",
        "3.- Mayor Rentabilidad: La demanda de habitaciones privadas a menudo es alta entre los estudiantes y viajeros, **lo que puede traducirse en tasas de ocupación más elevadas**. Esto puede generar un flujo de ingresos constante y mayor rentabilidad en comparación con unidades que ofrecen solo un espacio privado.\n",
        "\n",
        "Asì mismo se recomendará seguir todas las instrucciones de las nuevas reformas emitidas por la ciudad de México, cuidando el número de noches alojadas y también si se excede la cantidad seguir la regulasción por Leyes Mercantiles"
      ],
      "metadata": {
        "id": "GW-zUN_IOz5T"
      }
    },
    {
      "cell_type": "code",
      "source": [],
      "metadata": {
        "id": "rb82deuLdCl3"
      },
      "execution_count": null,
      "outputs": []
    },
    {
      "cell_type": "markdown",
      "source": [
        "#Link al tablero"
      ],
      "metadata": {
        "id": "_GUybmpzdDFX"
      }
    },
    {
      "cell_type": "code",
      "source": [
        "src= 'https://lookerstudio.google.com/embed/reporting/a485830b-3b2a-42ec-a824-ebc43ef2c2ee/page/p_g8b8b8xhld'\n",
        "IPython.display.IFrame(src,width=900, height=600)"
      ],
      "metadata": {
        "id": "g9TQ8sQrO0PG",
        "colab": {
          "base_uri": "https://localhost:8080/",
          "height": 621
        },
        "outputId": "37ed6972-38e3-45a6-f1bd-6f9f2e9131a4"
      },
      "execution_count": 5,
      "outputs": [
        {
          "output_type": "execute_result",
          "data": {
            "text/plain": [
              "<IPython.lib.display.IFrame at 0x79ef51a39ea0>"
            ],
            "text/html": [
              "\n",
              "        <iframe\n",
              "            width=\"900\"\n",
              "            height=\"600\"\n",
              "            src=\"https://lookerstudio.google.com/embed/reporting/a485830b-3b2a-42ec-a824-ebc43ef2c2ee/page/p_g8b8b8xhld\"\n",
              "            frameborder=\"0\"\n",
              "            allowfullscreen\n",
              "            \n",
              "        ></iframe>\n",
              "        "
            ]
          },
          "metadata": {},
          "execution_count": 5
        }
      ]
    },
    {
      "cell_type": "code",
      "source": [],
      "metadata": {
        "id": "Dd3kn-VocxgS"
      },
      "execution_count": null,
      "outputs": []
    }
  ]
}