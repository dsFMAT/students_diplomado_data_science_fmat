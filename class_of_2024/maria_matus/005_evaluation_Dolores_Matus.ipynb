{
 "cells": [
  {
   "cell_type": "markdown",
   "id": "52ddf98b-7411-425a-9d04-363ce9f9d2dd",
   "metadata": {},
   "source": [
    "## Ejercicios"
   ]
  },
  {
   "cell_type": "markdown",
   "id": "401e4b7a-5462-4b1f-b545-626947dde1b2",
   "metadata": {},
   "source": [
    "Iterar sobre la lista colors usando un ciclo for para imprimir cada elemento de la lista\n"
   ]
  },
  {
   "cell_type": "code",
   "execution_count": 2,
   "id": "bb0d2b3d-e73e-42ce-94d2-fb0193344511",
   "metadata": {},
   "outputs": [
    {
     "name": "stdout",
     "output_type": "stream",
     "text": [
      "rojo\n",
      "verde\n",
      "azul\n"
     ]
    }
   ],
   "source": [
    "colors = [\"rojo\", \"verde\", \"azul\"]\n",
    "for color in colors:\n",
    "    print(color)"
   ]
  },
  {
   "cell_type": "markdown",
   "id": "be3a3b81-ea4a-49d2-8d3e-025470777bde",
   "metadata": {},
   "source": [
    "Escribe un script que utilice un ciclo while para contar del 1 al 5. El script debe imprimir cada número en una nueva línea.\n"
   ]
  },
  {
   "cell_type": "code",
   "execution_count": 5,
   "id": "11685b50-b956-49b4-a009-88360b55b45e",
   "metadata": {},
   "outputs": [
    {
     "name": "stdout",
     "output_type": "stream",
     "text": [
      "1\n",
      "2\n",
      "3\n",
      "4\n",
      "5\n"
     ]
    }
   ],
   "source": [
    "conteo = 1\n",
    "while conteo <6:\n",
    "    print(conteo)\n",
    "    conteo +=1"
   ]
  },
  {
   "cell_type": "code",
   "execution_count": 4,
   "id": "f774f03c-27a0-4ab2-b94a-811ff9924dee",
   "metadata": {},
   "outputs": [
    {
     "name": "stdout",
     "output_type": "stream",
     "text": [
      "1\n",
      "2\n",
      "3\n",
      "4\n",
      "5\n"
     ]
    }
   ],
   "source": [
    "conteo = 1\n",
    "while conteo <=5:\n",
    "    print(conteo)\n",
    "    conteo +=1"
   ]
  },
  {
   "cell_type": "markdown",
   "id": "4ccec020-cc6f-44f4-a5f6-12a1c8d7f4ed",
   "metadata": {},
   "source": [
    "Crea e imprime una lista que contenga la longitud de cada palabra en una lista de palabras, usando list comprehensions"
   ]
  },
  {
   "cell_type": "code",
   "execution_count": 12,
   "id": "b370dcea-3916-4cf5-ba76-90942f1c05b4",
   "metadata": {},
   "outputs": [],
   "source": [
    "words = [\"apple\", \"banana\", \"cherry\", \"date\"]\n"
   ]
  },
  {
   "cell_type": "code",
   "execution_count": 13,
   "id": "f17e5886-a133-45e1-9674-a673d827e1f6",
   "metadata": {},
   "outputs": [
    {
     "name": "stdout",
     "output_type": "stream",
     "text": [
      "[5, 6, 6, 4]\n"
     ]
    }
   ],
   "source": [
    "long_palabras = [len(palabras) for palabras in words]\n",
    "print(long_palabras)"
   ]
  },
  {
   "cell_type": "code",
   "execution_count": null,
   "id": "e3d45e87-b30e-4c41-ab48-ab3f754880ae",
   "metadata": {},
   "outputs": [],
   "source": []
  }
 ],
 "metadata": {
  "kernelspec": {
   "display_name": "Python 3 (ipykernel)",
   "language": "python",
   "name": "python3"
  },
  "language_info": {
   "codemirror_mode": {
    "name": "ipython",
    "version": 3
   },
   "file_extension": ".py",
   "mimetype": "text/x-python",
   "name": "python",
   "nbconvert_exporter": "python",
   "pygments_lexer": "ipython3",
   "version": "3.8.19"
  }
 },
 "nbformat": 4,
 "nbformat_minor": 5
}
