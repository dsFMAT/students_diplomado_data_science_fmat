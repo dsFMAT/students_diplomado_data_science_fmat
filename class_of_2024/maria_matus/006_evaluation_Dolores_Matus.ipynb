{
 "cells": [
  {
   "cell_type": "markdown",
   "id": "a52a8052-0fa2-4a86-877d-63d2904bdd77",
   "metadata": {},
   "source": [
    "# Ejercicio"
   ]
  },
  {
   "cell_type": "markdown",
   "id": "4f259ee4-ecce-48b0-8219-1fffbe77de06",
   "metadata": {},
   "source": [
    "# Función para Calcular el Área de un Rectángulo \n",
    "\n",
    "Escribe una función llamada calcular_area_rectangulo que reciba dos parámetros, ancho y alto, y retorne el área del rectángulo. Prueba la función con diferentes valores de ancho y alto.\n",
    "\n",
    "Instrucciones:\n",
    "\n",
    "* Define la función calcular_area_rectangulo que reciba dos parámetros: ancho y alto.\n",
    "* Calcula el área del rectángulo usando la fórmula ancho * alto.\n",
    "* Retorna el área calculada.\n",
    "* Llama a la función con diferentes valores y muestra los resultados.\n"
   ]
  },
  {
   "cell_type": "code",
   "execution_count": 1,
   "id": "445b32ba-730f-4e14-a24d-5f0800bab7a0",
   "metadata": {},
   "outputs": [],
   "source": [
    "def calcular_area_rectangulo(ancho, alto):\n",
    "    area = ancho * alto\n",
    "    if area >0:\n",
    "        return(area)\n",
    "    else:\n",
    "        print(\"Verificar valores de ancho y alto, solo se admiten valores positivos.\")"
   ]
  },
  {
   "cell_type": "code",
   "execution_count": 2,
   "id": "6513823e-7ad3-4d3c-b914-5fe571508f4f",
   "metadata": {},
   "outputs": [
    {
     "data": {
      "text/plain": [
       "400"
      ]
     },
     "execution_count": 2,
     "metadata": {},
     "output_type": "execute_result"
    }
   ],
   "source": [
    "calcular_area_rectangulo(ancho= 10, alto= 40)"
   ]
  },
  {
   "cell_type": "code",
   "execution_count": 3,
   "id": "81ab5f05-5e8d-46b5-b7a6-4be859ba6349",
   "metadata": {},
   "outputs": [
    {
     "name": "stdout",
     "output_type": "stream",
     "text": [
      "Verificar valores de ancho y alto, solo se admiten valores positivos.\n"
     ]
    }
   ],
   "source": [
    "calcular_area_rectangulo(ancho= 0, alto= 40)"
   ]
  },
  {
   "cell_type": "code",
   "execution_count": 6,
   "id": "d39e5162-f719-4ab8-87b8-d0751cafb428",
   "metadata": {},
   "outputs": [
    {
     "data": {
      "text/plain": [
       "67.5"
      ]
     },
     "execution_count": 6,
     "metadata": {},
     "output_type": "execute_result"
    }
   ],
   "source": [
    "calcular_area_rectangulo(ancho= 5, alto= 13.5)"
   ]
  },
  {
   "cell_type": "code",
   "execution_count": 7,
   "id": "794d071c-8081-45bd-818e-696a58fcb353",
   "metadata": {},
   "outputs": [
    {
     "data": {
      "text/plain": [
       "5538.0"
      ]
     },
     "execution_count": 7,
     "metadata": {},
     "output_type": "execute_result"
    }
   ],
   "source": [
    "calcular_area_rectangulo(ancho= 65, alto= 85.2)"
   ]
  },
  {
   "cell_type": "code",
   "execution_count": 8,
   "id": "cbc45a0f-3537-40b8-9912-beb2dfcdefd9",
   "metadata": {},
   "outputs": [
    {
     "data": {
      "text/plain": [
       "1725"
      ]
     },
     "execution_count": 8,
     "metadata": {},
     "output_type": "execute_result"
    }
   ],
   "source": [
    "calcular_area_rectangulo(ancho= 75, alto= 23)"
   ]
  },
  {
   "cell_type": "code",
   "execution_count": null,
   "id": "215643d3-344b-4370-9632-0bff12250429",
   "metadata": {},
   "outputs": [],
   "source": []
  },
  {
   "cell_type": "code",
   "execution_count": null,
   "id": "cb879a71-e238-47cd-9748-4abdea156f0e",
   "metadata": {},
   "outputs": [],
   "source": []
  }
 ],
 "metadata": {
  "kernelspec": {
   "display_name": "Python 3 (ipykernel)",
   "language": "python",
   "name": "python3"
  },
  "language_info": {
   "codemirror_mode": {
    "name": "ipython",
    "version": 3
   },
   "file_extension": ".py",
   "mimetype": "text/x-python",
   "name": "python",
   "nbconvert_exporter": "python",
   "pygments_lexer": "ipython3",
   "version": "3.8.19"
  }
 },
 "nbformat": 4,
 "nbformat_minor": 5
}
