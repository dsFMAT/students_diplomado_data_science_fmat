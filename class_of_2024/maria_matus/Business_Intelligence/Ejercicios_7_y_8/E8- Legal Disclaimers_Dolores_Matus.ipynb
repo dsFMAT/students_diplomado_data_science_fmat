{
 "cells": [
  {
   "cell_type": "markdown",
   "id": "6746de20-d093-4a16-860d-b9720a48907d",
   "metadata": {
    "slideshow": {
     "slide_type": "slide"
    }
   },
   "source": [
    "#### Diplomado en Ciencia de Datos\n",
    "Módulo 2: Business Intelligence  \n",
    "## Tema 8: Legal Disclaimers\n",
    "\n",
    "*Notebook by [Pedro V Hernandez Serrano](https://github.com/pedrohserrano)*"
   ]
  },
  {
   "cell_type": "markdown",
   "id": "71f6c9b7-0d73-47a7-a665-f8699f86e329",
   "metadata": {},
   "source": [
    "---\n",
    "![](../img/header.jpg)"
   ]
  },
  {
   "cell_type": "markdown",
   "id": "00d5c027-0cda-4d2b-9ed2-9cde545746ae",
   "metadata": {
    "tags": []
   },
   "source": [
    "# Preparando el Reporte final\n",
    "\n",
    "En este notebook vamos a escribir los disclaimers legales (o descargo de responsabilidades) que corresponden a los 3 tipos de disclaimers\n",
    "\n",
    "![](../img/disclaimers.png)\n",
    "\n",
    "**IMPORTANTE: La idea es que usen las respuestas de estos ejercicios en su reporte final** 😃"
   ]
  },
  {
   "cell_type": "markdown",
   "id": "891afd0f-ea20-4985-bf22-09112944c2d5",
   "metadata": {
    "tags": []
   },
   "source": [
    "---\n",
    "# EJERCICIO 1\n",
    "\n",
    "- **Escenario**: Imagina que tu organización está utilizando los datos de Inside Airbnb para analizar el mercado de alquileres en varias ciudades.\n",
    "    - Escribe un breve párrafo explicando cómo se obtuvieron los datos de Inside Airbnb y cómo piensan utilizarlos en el análisis. \n",
    "    - Menciona de manera breve los disclaimers y texto de transparencia en cuanto al origen de los datos como aparecen en el sitio: [**Inside Airbnb**](https://insideairbnb.com/)"
   ]
  },
  {
   "cell_type": "markdown",
   "id": "29fde06b-e8f7-4338-b5d1-b79547a9e7d4",
   "metadata": {},
   "source": [
    "___________________________"
   ]
  },
  {
   "cell_type": "markdown",
   "id": "ad027c3b-1c5c-4165-9329-c8519bb33aac",
   "metadata": {},
   "source": [
    "Los datos utilizados son publicos, provienen del proyecto [Inside Airbnb](https://insideairbnb.com/) [Nueva York](https://insideairbnb.com/new-york-city/), el cual es un proyecto con el objetivo de proporcionar datos y promover la concienciación sobre el impacto de Airbnb en las comunidades residenciales. Su objetivo es trabajar para lograr una visión en la que las comunidades están empoderadas con datos e información para que puedan comprender, decidir y controlar el rol que desempeña el alquiler de viviendas residenciales a los turistas. El proyecto cuenta con la colaboración y contribuciones de diversas personas y organizaciones. \n",
    "\n",
    "Los datos de los Airbnbs de Nueva York fueron obtenidos en la sección [Get the Data](https://insideairbnb.com/get-the-data/), cuya última actualización se realizó el 4 de septiembre de 2024, se seleccionaron los siguientes archivos para su análisis:\n",
    "- listings.csv: contiene información detallada sobre los Airbnbs de la ciudad de Nueva York, como \n",
    "precios, ubicación y características de las propiedades.\n",
    "- neighbourhoods.csv: proporciona información sobre los vecindarios donde se encuentran los Airbnbs.\n",
    "- reviews.csv: contiene las fechas en que se realizaron los comentarios de los usuarios que se han alojado en las \n",
    "propiedades de Airbnb.\n",
    "\n",
    "Se omite el nombre de los anfitriones por evitar que se identifiquen para preservar su privacidad. Los datos serán utilizados para analizar el mercado de alquileres en varias ciudad, en nuestro caso, en Nueva York, en la cual se implementó una ley que tiene como objetivo  un mercado en el que muchos anfitriones alquilaban unidades que no cumplían con los requisitos ademas de aumentar los precios y contribuir negativamente a la escasez de viviendas en la ciudad para residentes locales. \n",
    "\n"
   ]
  },
  {
   "cell_type": "markdown",
   "id": "cc573db4-e5c0-4315-ad4b-39f05b6ff98a",
   "metadata": {
    "tags": []
   },
   "source": [
    "---\n",
    "# EJERCICIO 2\n",
    "\n",
    "- Basado en el mismo escenario\n",
    "    - Escribe un breve párrafo sobre la licencia bajo la cual estás utilizando los datos de Inside Airbnb.\n",
    "    - Explica si es posible usar estos datos para fines comerciales, y qué requisitos debes cumplir en cuanto a los términos de uso de la licencia en caso que el analisis se haga público."
   ]
  },
  {
   "cell_type": "markdown",
   "id": "c9a3d450-4438-44bf-9057-f53d3b462521",
   "metadata": {},
   "source": [
    "________________________________________________________"
   ]
  },
  {
   "cell_type": "markdown",
   "id": "bf9df835-a23a-413a-8022-b6c71b80a188",
   "metadata": {},
   "source": [
    "Los datos utilizados en este trabajos provienen de información pública de Inside Airbnb. Sin embargo, el uso de estos datos para fines comerciales no está permitido sin la obtención de un permiso adicional. En caso de que el análisis se haga público, se debe hacer mención que los datos provienen de Inside Airbnb como fuente de datos, respetar la privacidad de los anfitriones, evitando incluir infomación que los identifique. "
   ]
  },
  {
   "cell_type": "markdown",
   "id": "54aabf13-f954-44be-8c02-65c457bb19e6",
   "metadata": {},
   "source": [
    "---\n",
    "# EJERCICIO 3\n",
    "\n",
    "- Aunque los datos no incluyen información sensible de los Airbnb hosts, existe la posibilidad de que ciertos datos, combinados con otras fuentes, puedan llevar a la identificación de propietarios individuales.\n",
    "    - Escribe un breve párrafo describiendo cómo asegurarás que los resultados de tu análisis respeten las normativas de protección de dato.\n",
    "    - **Hint:** Que puedes decir sobre **Anonimización?** Checa el siguiente video para aprender un [método de anonimización simple](https://www.youtube.com/watch?v=3JjwQHMFDvc)"
   ]
  },
  {
   "cell_type": "markdown",
   "id": "ed87b012-6fa3-4857-ab7d-37923406b246",
   "metadata": {
    "tags": []
   },
   "source": [
    "_____________________________________\n",
    "\n"
   ]
  },
  {
   "cell_type": "markdown",
   "id": "a09ff1a4-0d0a-44de-ade1-e3f7084429e3",
   "metadata": {},
   "source": [
    "Dado que los datos de Inside Airbnb provienen de información disponible públicamente en el sitio de Airbnb, se tiene información tales como nombre e identificador, por lo que se procederá a eliminar datos personales, tales como los nombres de los anfitriones y de los Airbnbs, así como implementar un proceso de anonimización que consiste en ocultar algunos caracteres del identificador de cada anfitrión y con esto asegurar que los resultados del análisis del presente trabajo respeten las normativas de protección de datos. \n"
   ]
  },
  {
   "cell_type": "markdown",
   "id": "3d4de1c4-219e-42d1-8679-f70bce01b0d9",
   "metadata": {},
   "source": [
    "## 🎉🎉 Congrats!!  \n",
    "\n",
    "## You've finished the notebook"
   ]
  }
 ],
 "metadata": {
  "kernelspec": {
   "display_name": "Python 3 (ipykernel)",
   "language": "python",
   "name": "python3"
  },
  "language_info": {
   "codemirror_mode": {
    "name": "ipython",
    "version": 3
   },
   "file_extension": ".py",
   "mimetype": "text/x-python",
   "name": "python",
   "nbconvert_exporter": "python",
   "pygments_lexer": "ipython3",
   "version": "3.8.19"
  }
 },
 "nbformat": 4,
 "nbformat_minor": 5
}
