{
 "cells": [
  {
   "cell_type": "markdown",
   "id": "6746de20-d093-4a16-860d-b9720a48907d",
   "metadata": {
    "slideshow": {
     "slide_type": "slide"
    }
   },
   "source": [
    "#### Diplomado en Ciencia de Datos\n",
    "Módulo 2: Business Intelligence  \n",
    "## Tema 7: Bussines Reports\n",
    "\n",
    "*Notebook by [Pedro V Hernandez Serrano](https://github.com/pedrohserrano)*"
   ]
  },
  {
   "cell_type": "markdown",
   "id": "71f6c9b7-0d73-47a7-a665-f8699f86e329",
   "metadata": {},
   "source": [
    "---\n",
    "![](../header.jpg)"
   ]
  },
  {
   "cell_type": "markdown",
   "id": "00d5c027-0cda-4d2b-9ed2-9cde545746ae",
   "metadata": {
    "tags": []
   },
   "source": [
    "# Preparando el Reporte final\n",
    "\n",
    "En este notebook vamos a practicar en [Looker Studio](https://lookerstudio.google.com/) lo que se ha visto las últimas clases utilizando los datos de Airbnb."
   ]
  },
  {
   "cell_type": "markdown",
   "id": "891afd0f-ea20-4985-bf22-09112944c2d5",
   "metadata": {
    "tags": []
   },
   "source": [
    "---\n",
    "# EJERCICIO 1\n",
    "\n",
    "- Analiza el rendimiento de los neighborhoods en términos de satisfacción del huésped considerando múltiples categorías de review: limpieza (`review_scores_cleanliness`), comunicación (`review_scores_communication`), ubicación (`review_scores_location`), valor (`review_scores_value`).\n",
    "- Posibles gráficas:\n",
    "    - Heatmap para visualizar varias categorías de review en diferentes neighborhoods.\n",
    "    - Gráfico de barras apiladas para comparar las puntuaciones promedio de cada categoría por neighborhood."
   ]
  },
  {
   "cell_type": "code",
   "execution_count": 1,
   "id": "717331a7-a2b2-4477-b630-d2bfc755dfd5",
   "metadata": {},
   "outputs": [
    {
     "data": {
      "text/html": [
       "<div>\n",
       "<style scoped>\n",
       "    .dataframe tbody tr th:only-of-type {\n",
       "        vertical-align: middle;\n",
       "    }\n",
       "\n",
       "    .dataframe tbody tr th {\n",
       "        vertical-align: top;\n",
       "    }\n",
       "\n",
       "    .dataframe thead th {\n",
       "        text-align: right;\n",
       "    }\n",
       "</style>\n",
       "<table border=\"1\" class=\"dataframe\">\n",
       "  <thead>\n",
       "    <tr style=\"text-align: right;\">\n",
       "      <th></th>\n",
       "      <th>id</th>\n",
       "      <th>listing_url</th>\n",
       "      <th>scrape_id</th>\n",
       "      <th>last_scraped</th>\n",
       "      <th>source</th>\n",
       "      <th>name</th>\n",
       "      <th>description</th>\n",
       "      <th>neighborhood_overview</th>\n",
       "      <th>picture_url</th>\n",
       "      <th>host_id</th>\n",
       "      <th>...</th>\n",
       "      <th>review_scores_communication</th>\n",
       "      <th>review_scores_location</th>\n",
       "      <th>review_scores_value</th>\n",
       "      <th>license</th>\n",
       "      <th>instant_bookable</th>\n",
       "      <th>calculated_host_listings_count</th>\n",
       "      <th>calculated_host_listings_count_entire_homes</th>\n",
       "      <th>calculated_host_listings_count_private_rooms</th>\n",
       "      <th>calculated_host_listings_count_shared_rooms</th>\n",
       "      <th>reviews_per_month</th>\n",
       "    </tr>\n",
       "  </thead>\n",
       "  <tbody>\n",
       "    <tr>\n",
       "      <th>0</th>\n",
       "      <td>739333866230665371</td>\n",
       "      <td>https://www.airbnb.com/rooms/739333866230665371</td>\n",
       "      <td>20240904164109</td>\n",
       "      <td>2024-09-04</td>\n",
       "      <td>city scrape</td>\n",
       "      <td>Lovely room 2 windows tv work desk ac included</td>\n",
       "      <td>Lovely vocation room, has work desk , tv, 2 wi...</td>\n",
       "      <td>NaN</td>\n",
       "      <td>https://a0.muscache.com/pictures/miso/Hosting-...</td>\n",
       "      <td>3013025</td>\n",
       "      <td>...</td>\n",
       "      <td>NaN</td>\n",
       "      <td>NaN</td>\n",
       "      <td>NaN</td>\n",
       "      <td>NaN</td>\n",
       "      <td>f</td>\n",
       "      <td>1</td>\n",
       "      <td>0</td>\n",
       "      <td>1</td>\n",
       "      <td>0</td>\n",
       "      <td>NaN</td>\n",
       "    </tr>\n",
       "    <tr>\n",
       "      <th>1</th>\n",
       "      <td>572612125615500056</td>\n",
       "      <td>https://www.airbnb.com/rooms/572612125615500056</td>\n",
       "      <td>20240904164109</td>\n",
       "      <td>2024-09-04</td>\n",
       "      <td>city scrape</td>\n",
       "      <td>Room by Sunny &amp; Bay! Sunset Park &amp; Bay Ridge</td>\n",
       "      <td>Cozy room in a charming Sunset Park apartment....</td>\n",
       "      <td>NaN</td>\n",
       "      <td>https://a0.muscache.com/pictures/5f44a178-6043...</td>\n",
       "      <td>358089614</td>\n",
       "      <td>...</td>\n",
       "      <td>4.83</td>\n",
       "      <td>4.67</td>\n",
       "      <td>4.67</td>\n",
       "      <td>NaN</td>\n",
       "      <td>t</td>\n",
       "      <td>2</td>\n",
       "      <td>0</td>\n",
       "      <td>2</td>\n",
       "      <td>0</td>\n",
       "      <td>0.21</td>\n",
       "    </tr>\n",
       "    <tr>\n",
       "      <th>2</th>\n",
       "      <td>45267941</td>\n",
       "      <td>https://www.airbnb.com/rooms/45267941</td>\n",
       "      <td>20240904164109</td>\n",
       "      <td>2024-09-04</td>\n",
       "      <td>city scrape</td>\n",
       "      <td>Private Room in Luxury Apartment</td>\n",
       "      <td>NaN</td>\n",
       "      <td>NaN</td>\n",
       "      <td>https://a0.muscache.com/pictures/3c15a88e-b08a...</td>\n",
       "      <td>39162543</td>\n",
       "      <td>...</td>\n",
       "      <td>NaN</td>\n",
       "      <td>NaN</td>\n",
       "      <td>NaN</td>\n",
       "      <td>NaN</td>\n",
       "      <td>f</td>\n",
       "      <td>3</td>\n",
       "      <td>2</td>\n",
       "      <td>1</td>\n",
       "      <td>0</td>\n",
       "      <td>NaN</td>\n",
       "    </tr>\n",
       "    <tr>\n",
       "      <th>3</th>\n",
       "      <td>838141198693830649</td>\n",
       "      <td>https://www.airbnb.com/rooms/838141198693830649</td>\n",
       "      <td>20240904164109</td>\n",
       "      <td>2024-09-04</td>\n",
       "      <td>city scrape</td>\n",
       "      <td>Modern renovated huge apartment</td>\n",
       "      <td>NaN</td>\n",
       "      <td>NaN</td>\n",
       "      <td>https://a0.muscache.com/pictures/prohost-api/H...</td>\n",
       "      <td>148571080</td>\n",
       "      <td>...</td>\n",
       "      <td>NaN</td>\n",
       "      <td>NaN</td>\n",
       "      <td>NaN</td>\n",
       "      <td>NaN</td>\n",
       "      <td>f</td>\n",
       "      <td>5</td>\n",
       "      <td>5</td>\n",
       "      <td>0</td>\n",
       "      <td>0</td>\n",
       "      <td>NaN</td>\n",
       "    </tr>\n",
       "    <tr>\n",
       "      <th>4</th>\n",
       "      <td>1082660771919357919</td>\n",
       "      <td>https://www.airbnb.com/rooms/1082660771919357919</td>\n",
       "      <td>20240904164109</td>\n",
       "      <td>2024-09-04</td>\n",
       "      <td>city scrape</td>\n",
       "      <td>Summertime Park Slope townhouse</td>\n",
       "      <td>425 10th Street is what dreams are made of!  S...</td>\n",
       "      <td>NaN</td>\n",
       "      <td>https://a0.muscache.com/pictures/hosting/Hosti...</td>\n",
       "      <td>394869975</td>\n",
       "      <td>...</td>\n",
       "      <td>NaN</td>\n",
       "      <td>NaN</td>\n",
       "      <td>NaN</td>\n",
       "      <td>NaN</td>\n",
       "      <td>f</td>\n",
       "      <td>3</td>\n",
       "      <td>3</td>\n",
       "      <td>0</td>\n",
       "      <td>0</td>\n",
       "      <td>NaN</td>\n",
       "    </tr>\n",
       "  </tbody>\n",
       "</table>\n",
       "<p>5 rows × 75 columns</p>\n",
       "</div>"
      ],
      "text/plain": [
       "                    id                                       listing_url  \\\n",
       "0   739333866230665371   https://www.airbnb.com/rooms/739333866230665371   \n",
       "1   572612125615500056   https://www.airbnb.com/rooms/572612125615500056   \n",
       "2             45267941             https://www.airbnb.com/rooms/45267941   \n",
       "3   838141198693830649   https://www.airbnb.com/rooms/838141198693830649   \n",
       "4  1082660771919357919  https://www.airbnb.com/rooms/1082660771919357919   \n",
       "\n",
       "        scrape_id last_scraped       source  \\\n",
       "0  20240904164109   2024-09-04  city scrape   \n",
       "1  20240904164109   2024-09-04  city scrape   \n",
       "2  20240904164109   2024-09-04  city scrape   \n",
       "3  20240904164109   2024-09-04  city scrape   \n",
       "4  20240904164109   2024-09-04  city scrape   \n",
       "\n",
       "                                             name  \\\n",
       "0  Lovely room 2 windows tv work desk ac included   \n",
       "1    Room by Sunny & Bay! Sunset Park & Bay Ridge   \n",
       "2                Private Room in Luxury Apartment   \n",
       "3                 Modern renovated huge apartment   \n",
       "4                 Summertime Park Slope townhouse   \n",
       "\n",
       "                                         description neighborhood_overview  \\\n",
       "0  Lovely vocation room, has work desk , tv, 2 wi...                   NaN   \n",
       "1  Cozy room in a charming Sunset Park apartment....                   NaN   \n",
       "2                                                NaN                   NaN   \n",
       "3                                                NaN                   NaN   \n",
       "4  425 10th Street is what dreams are made of!  S...                   NaN   \n",
       "\n",
       "                                         picture_url    host_id  ...  \\\n",
       "0  https://a0.muscache.com/pictures/miso/Hosting-...    3013025  ...   \n",
       "1  https://a0.muscache.com/pictures/5f44a178-6043...  358089614  ...   \n",
       "2  https://a0.muscache.com/pictures/3c15a88e-b08a...   39162543  ...   \n",
       "3  https://a0.muscache.com/pictures/prohost-api/H...  148571080  ...   \n",
       "4  https://a0.muscache.com/pictures/hosting/Hosti...  394869975  ...   \n",
       "\n",
       "  review_scores_communication review_scores_location review_scores_value  \\\n",
       "0                         NaN                    NaN                 NaN   \n",
       "1                        4.83                   4.67                4.67   \n",
       "2                         NaN                    NaN                 NaN   \n",
       "3                         NaN                    NaN                 NaN   \n",
       "4                         NaN                    NaN                 NaN   \n",
       "\n",
       "  license instant_bookable calculated_host_listings_count  \\\n",
       "0     NaN                f                              1   \n",
       "1     NaN                t                              2   \n",
       "2     NaN                f                              3   \n",
       "3     NaN                f                              5   \n",
       "4     NaN                f                              3   \n",
       "\n",
       "  calculated_host_listings_count_entire_homes  \\\n",
       "0                                           0   \n",
       "1                                           0   \n",
       "2                                           2   \n",
       "3                                           5   \n",
       "4                                           3   \n",
       "\n",
       "  calculated_host_listings_count_private_rooms  \\\n",
       "0                                            1   \n",
       "1                                            2   \n",
       "2                                            1   \n",
       "3                                            0   \n",
       "4                                            0   \n",
       "\n",
       "  calculated_host_listings_count_shared_rooms reviews_per_month  \n",
       "0                                           0               NaN  \n",
       "1                                           0              0.21  \n",
       "2                                           0               NaN  \n",
       "3                                           0               NaN  \n",
       "4                                           0               NaN  \n",
       "\n",
       "[5 rows x 75 columns]"
      ]
     },
     "execution_count": 1,
     "metadata": {},
     "output_type": "execute_result"
    }
   ],
   "source": [
    "import pandas as pd\n",
    "\n",
    "dataset = pd.read_csv(\"listings_gz.csv\")\n",
    "dataset.head(5)"
   ]
  },
  {
   "cell_type": "code",
   "execution_count": 2,
   "id": "0e852fd5-f8bc-4524-84f0-c0732fe141eb",
   "metadata": {},
   "outputs": [
    {
     "data": {
      "text/plain": [
       "Index(['id', 'listing_url', 'scrape_id', 'last_scraped', 'source', 'name',\n",
       "       'description', 'neighborhood_overview', 'picture_url', 'host_id',\n",
       "       'host_url', 'host_name', 'host_since', 'host_location', 'host_about',\n",
       "       'host_response_time', 'host_response_rate', 'host_acceptance_rate',\n",
       "       'host_is_superhost', 'host_thumbnail_url', 'host_picture_url',\n",
       "       'host_neighbourhood', 'host_listings_count',\n",
       "       'host_total_listings_count', 'host_verifications',\n",
       "       'host_has_profile_pic', 'host_identity_verified', 'neighbourhood',\n",
       "       'neighbourhood_cleansed', 'neighbourhood_group_cleansed', 'latitude',\n",
       "       'longitude', 'property_type', 'room_type', 'accommodates', 'bathrooms',\n",
       "       'bathrooms_text', 'bedrooms', 'beds', 'amenities', 'price',\n",
       "       'minimum_nights', 'maximum_nights', 'minimum_minimum_nights',\n",
       "       'maximum_minimum_nights', 'minimum_maximum_nights',\n",
       "       'maximum_maximum_nights', 'minimum_nights_avg_ntm',\n",
       "       'maximum_nights_avg_ntm', 'calendar_updated', 'has_availability',\n",
       "       'availability_30', 'availability_60', 'availability_90',\n",
       "       'availability_365', 'calendar_last_scraped', 'number_of_reviews',\n",
       "       'number_of_reviews_ltm', 'number_of_reviews_l30d', 'first_review',\n",
       "       'last_review', 'review_scores_rating', 'review_scores_accuracy',\n",
       "       'review_scores_cleanliness', 'review_scores_checkin',\n",
       "       'review_scores_communication', 'review_scores_location',\n",
       "       'review_scores_value', 'license', 'instant_bookable',\n",
       "       'calculated_host_listings_count',\n",
       "       'calculated_host_listings_count_entire_homes',\n",
       "       'calculated_host_listings_count_private_rooms',\n",
       "       'calculated_host_listings_count_shared_rooms', 'reviews_per_month'],\n",
       "      dtype='object')"
      ]
     },
     "execution_count": 2,
     "metadata": {},
     "output_type": "execute_result"
    }
   ],
   "source": [
    "dataset.columns"
   ]
  },
  {
   "cell_type": "code",
   "execution_count": 27,
   "id": "08e56f45-8ee2-471f-baf8-8ab84dc6aebc",
   "metadata": {},
   "outputs": [
    {
     "data": {
      "text/plain": [
       "id                                                int64\n",
       "listing_url                                      object\n",
       "scrape_id                                         int64\n",
       "last_scraped                                     object\n",
       "source                                           object\n",
       "                                                 ...   \n",
       "calculated_host_listings_count                    int64\n",
       "calculated_host_listings_count_entire_homes       int64\n",
       "calculated_host_listings_count_private_rooms      int64\n",
       "calculated_host_listings_count_shared_rooms       int64\n",
       "reviews_per_month                               float64\n",
       "Length: 75, dtype: object"
      ]
     },
     "execution_count": 27,
     "metadata": {},
     "output_type": "execute_result"
    }
   ],
   "source": [
    "dataset.dtypes"
   ]
  },
  {
   "cell_type": "code",
   "execution_count": 4,
   "id": "b5c703b2-d777-4538-8c3d-cd9622c05ca9",
   "metadata": {},
   "outputs": [
    {
     "data": {
      "text/plain": [
       "dtype('float64')"
      ]
     },
     "execution_count": 4,
     "metadata": {},
     "output_type": "execute_result"
    }
   ],
   "source": [
    "dataset.review_scores_cleanliness.dtypes"
   ]
  },
  {
   "cell_type": "code",
   "execution_count": 5,
   "id": "720393ec-2ac5-48fe-a2ce-7f75a61a74d0",
   "metadata": {},
   "outputs": [
    {
     "data": {
      "text/plain": [
       "count    26000.000000\n",
       "mean         4.656433\n",
       "std          0.501060\n",
       "min          0.000000\n",
       "25%          4.530000\n",
       "50%          4.810000\n",
       "75%          5.000000\n",
       "max          5.000000\n",
       "Name: review_scores_cleanliness, dtype: float64"
      ]
     },
     "execution_count": 5,
     "metadata": {},
     "output_type": "execute_result"
    }
   ],
   "source": [
    "dataset.review_scores_cleanliness.describe()"
   ]
  },
  {
   "cell_type": "code",
   "execution_count": 6,
   "id": "0bfdf4c8-febd-483a-9dae-c7fe49aa6bc0",
   "metadata": {},
   "outputs": [
    {
     "data": {
      "text/plain": [
       "dtype('float64')"
      ]
     },
     "execution_count": 6,
     "metadata": {},
     "output_type": "execute_result"
    }
   ],
   "source": [
    "dataset.review_scores_communication.dtypes"
   ]
  },
  {
   "cell_type": "code",
   "execution_count": 7,
   "id": "abcc1a9b-520e-42b3-ad72-cdb64dce1e7c",
   "metadata": {},
   "outputs": [
    {
     "data": {
      "text/plain": [
       "dtype('float64')"
      ]
     },
     "execution_count": 7,
     "metadata": {},
     "output_type": "execute_result"
    }
   ],
   "source": [
    "dataset.review_scores_location.dtypes"
   ]
  },
  {
   "cell_type": "code",
   "execution_count": 9,
   "id": "c1e24314-0a0f-4231-a0af-b3707f87e0bb",
   "metadata": {},
   "outputs": [
    {
     "data": {
      "text/plain": [
       "511"
      ]
     },
     "execution_count": 9,
     "metadata": {},
     "output_type": "execute_result"
    }
   ],
   "source": [
    "dataset.host_neighbourhood.nunique()"
   ]
  },
  {
   "cell_type": "markdown",
   "id": "035fd563-aa27-435c-9c44-9973022babfd",
   "metadata": {},
   "source": [
    "- Gráfico de barras apiladas para comparar las puntuaciones promedio de cada categoría (limpieza, comunicación, ubicación y valor) por neighbourhood (seleccionando 10 de estos)."
   ]
  },
  {
   "cell_type": "code",
   "execution_count": 18,
   "id": "302bfa60-4078-4de3-89b0-aeb7c2ad1ea8",
   "metadata": {},
   "outputs": [
    {
     "data": {
      "text/html": [
       "\n",
       "        <iframe\n",
       "            width=\"974\"\n",
       "            height=\"500\"\n",
       "            src=\"https://lookerstudio.google.com/embed/reporting/6c60a077-1f23-4d8b-a38f-6c9e29e61cd6/page/3gPDE\"\n",
       "            frameborder=\"0\"\n",
       "            allowfullscreen\n",
       "            \n",
       "        ></iframe>\n",
       "        "
      ],
      "text/plain": [
       "<IPython.lib.display.IFrame at 0x7f89598dadf0>"
      ]
     },
     "execution_count": 18,
     "metadata": {},
     "output_type": "execute_result"
    }
   ],
   "source": [
    "import IPython\n",
    "\n",
    "src0= 'https://lookerstudio.google.com/embed/reporting/6c60a077-1f23-4d8b-a38f-6c9e29e61cd6/page/3gPDE'\n",
    "\n",
    "IPython.display.IFrame(src0, width=974, height=500)\n"
   ]
  },
  {
   "cell_type": "markdown",
   "id": "cc573db4-e5c0-4315-ad4b-39f05b6ff98a",
   "metadata": {
    "tags": []
   },
   "source": [
    "---\n",
    "# EJERCICIO 2\n",
    "\n",
    "- Analiza la correlación entre el precio de los listings y las puntuaciones de las reviews en cada neighborhood.\n",
    "- Posibles gráficas:\n",
    "    - Scatter plot con `price` en el eje X y `review_scores_rating` en el eje Y, desglosado por neighborhood.\n",
    "    - Bubble plot con `price` en el eje X, `review_scores_rating` en el eje Y, y el tamaño de la burbuja representando la `availability_365`."
   ]
  },
  {
   "cell_type": "markdown",
   "id": "cdbeb519-7bf5-4272-93bf-d7e50603235f",
   "metadata": {},
   "source": [
    "- Gráfica de correlación entre el precio y el rating de las reseñas."
   ]
  },
  {
   "cell_type": "code",
   "execution_count": 11,
   "id": "56c894d5-00ec-4794-a903-f7bc993027e8",
   "metadata": {
    "tags": []
   },
   "outputs": [
    {
     "data": {
      "text/html": [
       "\n",
       "        <iframe\n",
       "            width=\"974\"\n",
       "            height=\"500\"\n",
       "            src=\"https://lookerstudio.google.com/embed/reporting/6c60a077-1f23-4d8b-a38f-6c9e29e61cd6/page/p_bnrobb9gld\"\n",
       "            frameborder=\"0\"\n",
       "            allowfullscreen\n",
       "            \n",
       "        ></iframe>\n",
       "        "
      ],
      "text/plain": [
       "<IPython.lib.display.IFrame at 0x7f895fa45c40>"
      ]
     },
     "execution_count": 11,
     "metadata": {},
     "output_type": "execute_result"
    }
   ],
   "source": [
    "import IPython\n",
    "\n",
    "src0= 'https://lookerstudio.google.com/embed/reporting/6c60a077-1f23-4d8b-a38f-6c9e29e61cd6/page/p_bnrobb9gld'\n",
    "\n",
    "IPython.display.IFrame(src0, width=974, height=500)"
   ]
  },
  {
   "cell_type": "markdown",
   "id": "54aabf13-f954-44be-8c02-65c457bb19e6",
   "metadata": {},
   "source": [
    "---\n",
    "# EJERCICIO 3\n",
    "\n",
    "- Analiza la relación entre la disponibilidad de los listings y su popularidad en cada neighborhood.\n",
    "- Posibles gráficas:\n",
    "    - Line plot con `availability_365` en el eje X y `number_of_reviews` en el eje Y, desglosado por neighborhood.\n",
    "\t- Scatter plot con `availability_365` en el eje X y `number_of_reviews` en el eje Y, color por neighborhood.\n",
    "- Nota: Es posible que se tenga que procesar `availability_365`"
   ]
  },
  {
   "cell_type": "markdown",
   "id": "0e2842e0-3565-45ff-9168-ca118af45570",
   "metadata": {},
   "source": [
    "---\n",
    "# EJERCICIO 4\n",
    "\n",
    "- Analiza los mejores y peores neighborhoods en cuanto a puntuación de reviews. Compara sus características como disponibilidad, tipo de habitación y precios.\n",
    "- Posibles gráficas:\n",
    "    - Gráfico de barras apiladas para comparar el tipo de habitación (`room_type`) en los neighborhoods con mejores y peores `review_scores_rating`.\n",
    "    - Tabla dinámica para comparar la disponibilidad promedio (`availability_365`) y los precios (`price`) entre los neighborhoods con mejores y peores reviews"
   ]
  },
  {
   "cell_type": "markdown",
   "id": "9588e98e-db7a-4976-9e95-1ae5e9854718",
   "metadata": {},
   "source": [
    "- Gráfico de barras para comparar el tiepo de habitación en los neighborhoods con mejores ratings."
   ]
  },
  {
   "cell_type": "code",
   "execution_count": null,
   "id": "a0a0e169-2175-4c7c-9cf9-9e13a37a273d",
   "metadata": {},
   "outputs": [],
   "source": []
  },
  {
   "cell_type": "code",
   "execution_count": 12,
   "id": "74fce850-4627-4c01-8406-1b16cca59c61",
   "metadata": {},
   "outputs": [
    {
     "data": {
      "text/html": [
       "\n",
       "        <iframe\n",
       "            width=\"974\"\n",
       "            height=\"500\"\n",
       "            src=\"https://lookerstudio.google.com/embed/reporting/6c60a077-1f23-4d8b-a38f-6c9e29e61cd6/page/p_xh5z3i9gld\"\n",
       "            frameborder=\"0\"\n",
       "            allowfullscreen\n",
       "            \n",
       "        ></iframe>\n",
       "        "
      ],
      "text/plain": [
       "<IPython.lib.display.IFrame at 0x7f895fa45310>"
      ]
     },
     "execution_count": 12,
     "metadata": {},
     "output_type": "execute_result"
    }
   ],
   "source": [
    "src0= 'https://lookerstudio.google.com/embed/reporting/6c60a077-1f23-4d8b-a38f-6c9e29e61cd6/page/p_xh5z3i9gld'\n",
    "\n",
    "IPython.display.IFrame(src0, width=974, height=500)"
   ]
  },
  {
   "cell_type": "markdown",
   "id": "1cc36645-30d0-405d-b377-f89a3901acda",
   "metadata": {},
   "source": [
    "- Tabla dinámica para comparar la disponibilidad promedio y los precios entre los neighborhoods con peores reviews"
   ]
  },
  {
   "cell_type": "code",
   "execution_count": 17,
   "id": "c363c078-e7a8-4357-8386-e6113544aea2",
   "metadata": {},
   "outputs": [
    {
     "data": {
      "text/html": [
       "\n",
       "        <iframe\n",
       "            width=\"974\"\n",
       "            height=\"500\"\n",
       "            src=\"https://lookerstudio.google.com/embed/reporting/6c60a077-1f23-4d8b-a38f-6c9e29e61cd6/page/p_k3b75pahld\"\n",
       "            frameborder=\"0\"\n",
       "            allowfullscreen\n",
       "            \n",
       "        ></iframe>\n",
       "        "
      ],
      "text/plain": [
       "<IPython.lib.display.IFrame at 0x7f895fa38e80>"
      ]
     },
     "execution_count": 17,
     "metadata": {},
     "output_type": "execute_result"
    }
   ],
   "source": [
    "src0= 'https://lookerstudio.google.com/embed/reporting/6c60a077-1f23-4d8b-a38f-6c9e29e61cd6/page/p_k3b75pahld'\n",
    "\n",
    "IPython.display.IFrame(src0, width=974, height=500)"
   ]
  },
  {
   "cell_type": "markdown",
   "id": "5262d20b-09e0-42f8-ba6b-a87c25e982ae",
   "metadata": {},
   "source": [
    "- Tabla dinámica para comparar la disponibilidad promedio y los precios entre los neighborhoods con mejores reviews"
   ]
  },
  {
   "cell_type": "code",
   "execution_count": 13,
   "id": "72c499bc-26ff-4e9f-a67e-c585bd2d6691",
   "metadata": {},
   "outputs": [
    {
     "data": {
      "text/html": [
       "\n",
       "        <iframe\n",
       "            width=\"974\"\n",
       "            height=\"500\"\n",
       "            src=\"https://lookerstudio.google.com/embed/reporting/6c60a077-1f23-4d8b-a38f-6c9e29e61cd6/page/p_75qgwzahld\"\n",
       "            frameborder=\"0\"\n",
       "            allowfullscreen\n",
       "            \n",
       "        ></iframe>\n",
       "        "
      ],
      "text/plain": [
       "<IPython.lib.display.IFrame at 0x7f895fa45220>"
      ]
     },
     "execution_count": 13,
     "metadata": {},
     "output_type": "execute_result"
    }
   ],
   "source": [
    "src0= 'https://lookerstudio.google.com/embed/reporting/6c60a077-1f23-4d8b-a38f-6c9e29e61cd6/page/p_75qgwzahld'\n",
    "\n",
    "IPython.display.IFrame(src0, width=974, height=500)"
   ]
  },
  {
   "cell_type": "code",
   "execution_count": null,
   "id": "f88d37d2-4ad9-4eb8-aad5-4781fa7d9a4d",
   "metadata": {},
   "outputs": [],
   "source": []
  },
  {
   "cell_type": "markdown",
   "id": "386a41c6-dbec-47c8-99ae-2d876af34f53",
   "metadata": {},
   "source": [
    "---\n",
    "# EJERCICIO 5\n",
    "\n",
    "- Analiza la relación entre el número de listings que un host gestiona y sus puntuaciones de reviews\n",
    "- Posibles gráficas:\n",
    "    - Scatter plot con `calculated_host_listings_count` en el eje X y `review_scores_rating` en el eje Y, desglosado por neighborhood.\n",
    "    - Box plot para comparar la distribución de puntuaciones de reviews en diferentes rangos de `calculated_host_listings_count`"
   ]
  },
  {
   "cell_type": "code",
   "execution_count": 14,
   "id": "cf3d10b4-dc34-46b2-9cda-e70bf64ba30f",
   "metadata": {},
   "outputs": [
    {
     "data": {
      "text/html": [
       "\n",
       "        <iframe\n",
       "            width=\"974\"\n",
       "            height=\"500\"\n",
       "            src=\"https://lookerstudio.google.com/embed/reporting/6c60a077-1f23-4d8b-a38f-6c9e29e61cd6/page/p_ch7r1abhld\"\n",
       "            frameborder=\"0\"\n",
       "            allowfullscreen\n",
       "            \n",
       "        ></iframe>\n",
       "        "
      ],
      "text/plain": [
       "<IPython.lib.display.IFrame at 0x7f895f9cf280>"
      ]
     },
     "execution_count": 14,
     "metadata": {},
     "output_type": "execute_result"
    }
   ],
   "source": [
    "src0= 'https://lookerstudio.google.com/embed/reporting/6c60a077-1f23-4d8b-a38f-6c9e29e61cd6/page/p_ch7r1abhld'\n",
    "\n",
    "IPython.display.IFrame(src0, width=974, height=500)"
   ]
  },
  {
   "cell_type": "markdown",
   "id": "1c467b2c-3cbf-41a4-9688-6dd5d88bfbd9",
   "metadata": {},
   "source": [
    "---\n",
    "# EJERCICIO 6\n",
    "\n",
    "- Clasifica los listings en categorías de rango de precios y visualiza la distribución de los tipos de habitación dentro de esos rangos\n",
    "- Posibles gráficas:\n",
    "    - Box plot para mostrar la distribución de `room_type` en cada `price_range`.\n",
    "    - Gráfico de barras apiladas que muestre la cantidad de tipos de habitación (`room_type`) en cada `price_range`"
   ]
  },
  {
   "cell_type": "markdown",
   "id": "3d4de1c4-219e-42d1-8679-f70bce01b0d9",
   "metadata": {},
   "source": [
    "## 🎉🎉 Congrats!!  \n",
    "\n",
    "## You've finished the notebook"
   ]
  },
  {
   "cell_type": "markdown",
   "id": "5518af24-a594-4b3f-b145-03f522ceecb9",
   "metadata": {},
   "source": [
    "No concluí los ejercicios por falta de tiempo."
   ]
  },
  {
   "cell_type": "code",
   "execution_count": null,
   "id": "28b29563-24fb-4151-b89a-ce7de83bfab5",
   "metadata": {},
   "outputs": [],
   "source": []
  }
 ],
 "metadata": {
  "kernelspec": {
   "display_name": "Python 3 (ipykernel)",
   "language": "python",
   "name": "python3"
  },
  "language_info": {
   "codemirror_mode": {
    "name": "ipython",
    "version": 3
   },
   "file_extension": ".py",
   "mimetype": "text/x-python",
   "name": "python",
   "nbconvert_exporter": "python",
   "pygments_lexer": "ipython3",
   "version": "3.8.19"
  }
 },
 "nbformat": 4,
 "nbformat_minor": 5
}
