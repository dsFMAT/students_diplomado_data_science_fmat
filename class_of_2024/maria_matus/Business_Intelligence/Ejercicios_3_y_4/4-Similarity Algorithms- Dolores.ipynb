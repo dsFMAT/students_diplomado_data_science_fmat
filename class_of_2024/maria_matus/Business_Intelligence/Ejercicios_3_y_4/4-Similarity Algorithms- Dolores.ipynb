{
 "cells": [
  {
   "cell_type": "markdown",
   "id": "6746de20-d093-4a16-860d-b9720a48907d",
   "metadata": {
    "slideshow": {
     "slide_type": "slide"
    }
   },
   "source": [
    "#### Diplomado en Ciencia de Datos\n",
    "Módulo 2: Business Intelligence  \n",
    "## Tema 4: Consideraciones Éticas\n",
    "\n",
    "*Notebook by [Pedro V Hernandez Serrano](https://github.com/pedrohserrano)*"
   ]
  },
  {
   "cell_type": "markdown",
   "id": "71f6c9b7-0d73-47a7-a665-f8699f86e329",
   "metadata": {},
   "source": [
    "---\n",
    "![](../header.jpg)"
   ]
  },
  {
   "cell_type": "markdown",
   "id": "00d5c027-0cda-4d2b-9ed2-9cde545746ae",
   "metadata": {
    "tags": []
   },
   "source": [
    "# Consideraciones éticas en el uso de Algorítmos de Similitud\n",
    "\n",
    "Los algoritmos de similitud miden cuán parecidos son dos objetos en función de características específicas, como en las distancias Euclidiana, Manhattan o la Similitud Coseno. Sin embargo, **es importante considerar el contexto y las implicaciones éticas al definir \"similitud\"**. La interpretación de similitud puede ser problemática cuando se asume que características seleccionadas (como ingresos o nivel educativo) son suficientes para capturar la esencia de los datos. En aplicaciones como contratación o análisis de crédito, esta suposición puede llevar a decisiones injustas o discriminatorias.\n",
    "\n",
    "La relevancia contextual también es clave: **lo que define similitud en un contexto (como investigación médica) puede no ser adecuado en otro (como marketing), y no considerar estas diferencias puede llevar a conclusiones erróneas**. Finalmente, el impacto en la toma de decisiones es crítico. Los algoritmos de similitud influyen en decisiones importantes y deben evitar causar daño a grupos o individuos. Asumir que dos objetos similares en un espacio matemático son iguales en la vida real puede tener graves consecuencias si no se toma en cuenta el contexto.\n",
    "\n",
    "Al utilizar estos algoritmos, es fundamental reflexionar sobre el impacto de las decisiones basadas en ellos para garantizar que no refuercen desigualdades ni causen daños involuntarios.\n"
   ]
  },
  {
   "cell_type": "markdown",
   "id": "c003aa50-75b6-4d68-a02c-f826f0bfaca8",
   "metadata": {
    "tags": []
   },
   "source": [
    "**Original blog implementing the most popular similarity algorithms**  \n",
    "\n",
    "✅ [dataaspirant.com](https://dataaspirant.com/five-most-popular-similarity-measures-implementation-in-python/)"
   ]
  },
  {
   "cell_type": "markdown",
   "id": "c69d20a1-a8c6-4f4f-a828-5b9611491795",
   "metadata": {},
   "source": [
    "![](https://i0.wp.com/dataaspirant.com/wp-content/uploads/2015/04/cover_post_final.png?w=1000&ssl=1)"
   ]
  },
  {
   "cell_type": "markdown",
   "id": "0fe9da70-42d9-4f73-8f37-3cbfc803512c",
   "metadata": {
    "tags": []
   },
   "source": [
    "---\n",
    "# EJERCICIO 1\n",
    "\n",
    "- Desarrolla una funcion en Python que calcule la [distancia euclidiana](https://www.google.com/search?sca_esv=08fa89593227d7c4&sca_upv=1&sxsrf=ADLYWILxL5ZB2RJ2Ur94L62oXEBk5CorNg:1725814856550&q=euclidean+distance+formula&source=lnms&fbs=AEQNm0Aa4sjWe7Rqy32pFwRj0UkWd8nbOJfsBGGB5IQQO6L3J_86uWOeqwdnV0yaSF-x2joQcoZ-0Q2Udkt2zEybT7HdNV1kobqvEwEVRYBCltlBtd67W1w89UVGf7QOAkvJWcD0qzhOT-WizJ4nyd1QOGdS_33AboApQh8NDOYXDdgzT_HrFjEfW4zkALzuIfB9KacfX-PQ&sa=X&ved=2ahUKEwiMteOr6bOIAxVX9rsIHW25HdMQ0pQJegQIDRAB&biw=1920&bih=974&dpr=1)\n",
    "- Prueba la función con los siguientes vectores:  \n",
    " `v1 = [0,1,2,5,6]`  \n",
    " `v2 = [0,2,3,5,7]`  \n",
    "- El resultado debe ser aprox `1.73`"
   ]
  },
  {
   "cell_type": "code",
   "execution_count": 1,
   "id": "8a7736d8-6d2f-4ce7-8fc8-02999ef3c6ab",
   "metadata": {},
   "outputs": [],
   "source": [
    "import numpy as np"
   ]
  },
  {
   "cell_type": "code",
   "execution_count": 2,
   "id": "37f9cacc-44ab-415e-8631-3ff8beba9443",
   "metadata": {},
   "outputs": [
    {
     "data": {
      "text/plain": [
       "1.7320508075688772"
      ]
     },
     "execution_count": 2,
     "metadata": {},
     "output_type": "execute_result"
    }
   ],
   "source": [
    "\n",
    "np.sqrt((0-0)^2+(2-1)^2+(3-2)^2+(5-5)^2+(7-6)^2)"
   ]
  },
  {
   "cell_type": "code",
   "execution_count": 3,
   "id": "586d21a0-f335-4b80-9e93-b1a7b2d935f7",
   "metadata": {},
   "outputs": [],
   "source": [
    "v1=[0,1,2,5,6]\n",
    "v2 = [0,2,3,5,7]\n",
    "v1_np=np.array(v1)\n",
    "v2_np = np.array(v2)"
   ]
  },
  {
   "cell_type": "code",
   "execution_count": 4,
   "id": "73146dc8-44c0-4455-bb02-7bb8b05a7e69",
   "metadata": {},
   "outputs": [
    {
     "data": {
      "text/plain": [
       "1.7320508075688772"
      ]
     },
     "execution_count": 4,
     "metadata": {},
     "output_type": "execute_result"
    }
   ],
   "source": [
    "np.sqrt(np.sum((v2_np-v1_np)))"
   ]
  },
  {
   "cell_type": "code",
   "execution_count": 5,
   "id": "6ab60aef-4c0c-40c2-a54c-acbbd7fff2f3",
   "metadata": {
    "slideshow": {
     "slide_type": "subslide"
    },
    "tags": []
   },
   "outputs": [],
   "source": [
    "def euclidean_distance(x, y):\n",
    "    x_np=np.array(x)\n",
    "    y_np = np.array(y)\n",
    "    d=np.sqrt(np.sum((y_np-x_np)))\n",
    "    return(d)"
   ]
  },
  {
   "cell_type": "code",
   "execution_count": 6,
   "id": "bae87156-a4f0-4c04-bb63-421133176d42",
   "metadata": {},
   "outputs": [
    {
     "data": {
      "text/plain": [
       "1.7320508075688772"
      ]
     },
     "execution_count": 6,
     "metadata": {},
     "output_type": "execute_result"
    }
   ],
   "source": [
    "euclidean_distance(v1, v2)"
   ]
  },
  {
   "cell_type": "markdown",
   "id": "95b787db-0c79-404d-bd2c-e2a4f9ebf65c",
   "metadata": {
    "tags": []
   },
   "source": [
    "---\n",
    "# EJERCICIO 2\n",
    "\n",
    "- Desarrolla una funcion en Python que calcule la [distancia manhattan](https://www.google.com/search?q=manhattan+distance+formula&sca_esv=08fa89593227d7c4&sca_upv=1&biw=1920&bih=974&ei=V9jdZtmAEoiwi-gP-9nf-AI&oq=euclidean+distance+formula&gs_lp=Egxnd3Mtd2l6LXNlcnAiGmV1Y2xpZGVhbiBkaXN0YW5jZSBmb3JtdWxhKgIIADIKEAAYsAMY1gQYRzIKEAAYsAMY1gQYRzIKEAAYsAMY1gQYRzIKEAAYsAMY1gQYRzIKEAAYsAMY1gQYRzIKEAAYsAMY1gQYRzIKEAAYsAMY1gQYRzIKEAAYsAMY1gQYRzINEAAYgAQYsAMYQxiKBTINEAAYgAQYsAMYQxiKBUiLElAAWABwAngBkAEAmAEAoAEAqgEAuAEDyAEAmAICoAIQmAMAiAYBkAYKkgcBMqAHAA&sclient=gws-wiz-serp)\n",
    "- Prueba la función con los siguientes vectores:  \n",
    " `v1 = [0,1,2,5,6]`  \n",
    " `v2 = [0,2,3,5,7]`  \n",
    "- El resultado debe ser `3`"
   ]
  },
  {
   "cell_type": "code",
   "execution_count": 7,
   "id": "0f4b6543-0300-4d2c-aa74-eead59072c4f",
   "metadata": {},
   "outputs": [
    {
     "data": {
      "text/plain": [
       "3"
      ]
     },
     "execution_count": 7,
     "metadata": {},
     "output_type": "execute_result"
    }
   ],
   "source": [
    "np.abs(0-0)+np.abs(1-2)+np.abs(2-3)+np.abs(5-5)+np.abs(6-7)"
   ]
  },
  {
   "cell_type": "code",
   "execution_count": 8,
   "id": "bebed712-29c3-4f61-aac2-9cc5c26a4747",
   "metadata": {},
   "outputs": [
    {
     "data": {
      "text/plain": [
       "3"
      ]
     },
     "execution_count": 8,
     "metadata": {},
     "output_type": "execute_result"
    }
   ],
   "source": [
    "np.sum(np.abs(v2_np-v1_np))"
   ]
  },
  {
   "cell_type": "code",
   "execution_count": 9,
   "id": "be069a86-c57e-4645-84bf-a62d097843af",
   "metadata": {
    "slideshow": {
     "slide_type": "subslide"
    },
    "tags": []
   },
   "outputs": [],
   "source": [
    "def manhattan_distance(x, y):\n",
    "    x_np=np.array(x)\n",
    "    y_np = np.array(y)\n",
    "    m=np.sum(np.abs(x_np-y_np))\n",
    "    return(m)"
   ]
  },
  {
   "cell_type": "code",
   "execution_count": 10,
   "id": "22766bd5-2033-4745-afa5-e8f0ebe5a877",
   "metadata": {},
   "outputs": [
    {
     "data": {
      "text/plain": [
       "3"
      ]
     },
     "execution_count": 10,
     "metadata": {},
     "output_type": "execute_result"
    }
   ],
   "source": [
    "manhattan_distance(v1, v2)"
   ]
  },
  {
   "cell_type": "markdown",
   "id": "06c971d7-29cb-472d-a0f2-cd696de4cbd3",
   "metadata": {},
   "source": [
    "---\n",
    "# EJERCICIO 3 (Opcional)\n",
    "\n",
    "- Desarrolla una funcion en Python que calcule la [distancia coseno](https://en.wikipedia.org/wiki/Cosine_similarity)\n",
    "- Prueba la función con los siguientes vectores:  \n",
    " `v1 = [0,1,2,5,6]`  \n",
    " `v2 = [0,2,3,5,7]`  \n",
    "- El resultado debe ser `0.99`"
   ]
  },
  {
   "cell_type": "code",
   "execution_count": 11,
   "id": "f5c10a75-2fbd-4d63-8065-9244cf295ee1",
   "metadata": {},
   "outputs": [
    {
     "data": {
      "text/plain": [
       "array([ 0,  2,  6, 25, 42])"
      ]
     },
     "execution_count": 11,
     "metadata": {},
     "output_type": "execute_result"
    }
   ],
   "source": [
    "v1_np*v2_np"
   ]
  },
  {
   "cell_type": "code",
   "execution_count": 12,
   "id": "ccfdab73-0e43-4a2c-afaf-7327af2f61b5",
   "metadata": {},
   "outputs": [
    {
     "data": {
      "text/plain": [
       "75"
      ]
     },
     "execution_count": 12,
     "metadata": {},
     "output_type": "execute_result"
    }
   ],
   "source": [
    "sum(v1_np*v2_np)"
   ]
  },
  {
   "cell_type": "code",
   "execution_count": 13,
   "id": "ba672472-0e9a-4da5-9538-28dbb388792c",
   "metadata": {},
   "outputs": [
    {
     "data": {
      "text/plain": [
       "array([ 0,  1,  4, 25, 36])"
      ]
     },
     "execution_count": 13,
     "metadata": {},
     "output_type": "execute_result"
    }
   ],
   "source": [
    "(v1_np**2)"
   ]
  },
  {
   "cell_type": "code",
   "execution_count": 14,
   "id": "177cffb3-3de4-4201-ac72-c427d39068b8",
   "metadata": {},
   "outputs": [
    {
     "data": {
      "text/plain": [
       "array([ 0,  4,  9, 25, 49])"
      ]
     },
     "execution_count": 14,
     "metadata": {},
     "output_type": "execute_result"
    }
   ],
   "source": [
    "(v2_np**2)"
   ]
  },
  {
   "cell_type": "code",
   "execution_count": 15,
   "id": "7fdbabc4-4bf1-41a4-93cb-dbfad50f6884",
   "metadata": {},
   "outputs": [
    {
     "data": {
      "text/plain": [
       "8.12403840463596"
      ]
     },
     "execution_count": 15,
     "metadata": {},
     "output_type": "execute_result"
    }
   ],
   "source": [
    "np.sqrt(np.sum(v1_np**2))"
   ]
  },
  {
   "cell_type": "code",
   "execution_count": 16,
   "id": "5a5b520f-bed2-4047-8d32-2f387078f80d",
   "metadata": {},
   "outputs": [
    {
     "data": {
      "text/plain": [
       "9.327379053088816"
      ]
     },
     "execution_count": 16,
     "metadata": {},
     "output_type": "execute_result"
    }
   ],
   "source": [
    "np.sqrt(np.sum(v2_np**2))"
   ]
  },
  {
   "cell_type": "code",
   "execution_count": 17,
   "id": "211cae06-8343-4d08-a214-0a97c1b4d648",
   "metadata": {},
   "outputs": [
    {
     "data": {
      "text/plain": [
       "75.77598564189054"
      ]
     },
     "execution_count": 17,
     "metadata": {},
     "output_type": "execute_result"
    }
   ],
   "source": [
    "(np.sqrt(np.sum(v1_np**2))*np.sqrt(np.sum(v2_np**2)))"
   ]
  },
  {
   "cell_type": "code",
   "execution_count": 18,
   "id": "f12fc64d-6420-4283-b367-1a91c13177fa",
   "metadata": {},
   "outputs": [
    {
     "data": {
      "text/plain": [
       "0.9897594780811196"
      ]
     },
     "execution_count": 18,
     "metadata": {},
     "output_type": "execute_result"
    }
   ],
   "source": [
    "sc=np.sum(v1_np*v2_np)/((np.sqrt(np.sum(v1_np**2)))*(np.sqrt(np.sum(v2_np**2))))\n",
    "sc"
   ]
  },
  {
   "cell_type": "code",
   "execution_count": 19,
   "id": "6ac4c3a0-8e98-4259-bf48-d39dfa362044",
   "metadata": {},
   "outputs": [
    {
     "data": {
      "text/plain": [
       "0.9897594780811196"
      ]
     },
     "execution_count": 19,
     "metadata": {},
     "output_type": "execute_result"
    }
   ],
   "source": [
    "sc=np.sum(v1_np*v2_np)/((np.sqrt(np.sum(v1_np**2)))*(np.sqrt(np.sum(v2_np**2))))\n",
    "sc"
   ]
  },
  {
   "cell_type": "code",
   "execution_count": 20,
   "id": "230a1391-8d93-41ce-8566-ef11d46e7214",
   "metadata": {},
   "outputs": [],
   "source": [
    "def cosine_similarity(x, y):\n",
    "    x_np=np.array(x)\n",
    "    y_np = np.array(y)\n",
    "    sc=np.sum(x_np*y_np)/((np.sqrt(np.sum(x_np**2)))*(np.sqrt(np.sum(y_np**2))))\n",
    "    return(sc)"
   ]
  },
  {
   "cell_type": "code",
   "execution_count": 21,
   "id": "9b096274-caec-49ca-ab5c-db36773600c5",
   "metadata": {},
   "outputs": [
    {
     "data": {
      "text/plain": [
       "0.9897594780811196"
      ]
     },
     "execution_count": 21,
     "metadata": {},
     "output_type": "execute_result"
    }
   ],
   "source": [
    "cosine_similarity(v1,v2)"
   ]
  },
  {
   "cell_type": "markdown",
   "id": "ab6abe64-05cc-4888-a0da-5912284421f4",
   "metadata": {},
   "source": [
    "## Constructing a Similarity Network from a Dataset"
   ]
  },
  {
   "cell_type": "markdown",
   "id": "c3f46078-e9f5-4819-bc1a-1a2512feb597",
   "metadata": {},
   "source": [
    "The idea is to compute one similarity alorithm N*N times across the dataset, then take the top M similar records and constructa network"
   ]
  },
  {
   "cell_type": "code",
   "execution_count": 24,
   "id": "c586de43-c77d-4ccb-bd0b-1387244501ac",
   "metadata": {
    "tags": []
   },
   "outputs": [
    {
     "data": {
      "text/html": [
       "<div>\n",
       "<style scoped>\n",
       "    .dataframe tbody tr th:only-of-type {\n",
       "        vertical-align: middle;\n",
       "    }\n",
       "\n",
       "    .dataframe tbody tr th {\n",
       "        vertical-align: top;\n",
       "    }\n",
       "\n",
       "    .dataframe thead th {\n",
       "        text-align: right;\n",
       "    }\n",
       "</style>\n",
       "<table border=\"1\" class=\"dataframe\">\n",
       "  <thead>\n",
       "    <tr style=\"text-align: right;\">\n",
       "      <th></th>\n",
       "      <th>country</th>\n",
       "      <th>continent</th>\n",
       "      <th>year</th>\n",
       "      <th>lifeExp</th>\n",
       "      <th>pop</th>\n",
       "      <th>gdpPercap</th>\n",
       "      <th>iso_alpha</th>\n",
       "      <th>iso_num</th>\n",
       "    </tr>\n",
       "  </thead>\n",
       "  <tbody>\n",
       "    <tr>\n",
       "      <th>0</th>\n",
       "      <td>Afghanistan</td>\n",
       "      <td>Asia</td>\n",
       "      <td>1952</td>\n",
       "      <td>28.801</td>\n",
       "      <td>8425333</td>\n",
       "      <td>779.445314</td>\n",
       "      <td>AFG</td>\n",
       "      <td>4</td>\n",
       "    </tr>\n",
       "    <tr>\n",
       "      <th>1</th>\n",
       "      <td>Afghanistan</td>\n",
       "      <td>Asia</td>\n",
       "      <td>1957</td>\n",
       "      <td>30.332</td>\n",
       "      <td>9240934</td>\n",
       "      <td>820.853030</td>\n",
       "      <td>AFG</td>\n",
       "      <td>4</td>\n",
       "    </tr>\n",
       "    <tr>\n",
       "      <th>2</th>\n",
       "      <td>Afghanistan</td>\n",
       "      <td>Asia</td>\n",
       "      <td>1962</td>\n",
       "      <td>31.997</td>\n",
       "      <td>10267083</td>\n",
       "      <td>853.100710</td>\n",
       "      <td>AFG</td>\n",
       "      <td>4</td>\n",
       "    </tr>\n",
       "    <tr>\n",
       "      <th>3</th>\n",
       "      <td>Afghanistan</td>\n",
       "      <td>Asia</td>\n",
       "      <td>1967</td>\n",
       "      <td>34.020</td>\n",
       "      <td>11537966</td>\n",
       "      <td>836.197138</td>\n",
       "      <td>AFG</td>\n",
       "      <td>4</td>\n",
       "    </tr>\n",
       "    <tr>\n",
       "      <th>4</th>\n",
       "      <td>Afghanistan</td>\n",
       "      <td>Asia</td>\n",
       "      <td>1972</td>\n",
       "      <td>36.088</td>\n",
       "      <td>13079460</td>\n",
       "      <td>739.981106</td>\n",
       "      <td>AFG</td>\n",
       "      <td>4</td>\n",
       "    </tr>\n",
       "  </tbody>\n",
       "</table>\n",
       "</div>"
      ],
      "text/plain": [
       "       country continent  year  lifeExp       pop   gdpPercap iso_alpha  \\\n",
       "0  Afghanistan      Asia  1952   28.801   8425333  779.445314       AFG   \n",
       "1  Afghanistan      Asia  1957   30.332   9240934  820.853030       AFG   \n",
       "2  Afghanistan      Asia  1962   31.997  10267083  853.100710       AFG   \n",
       "3  Afghanistan      Asia  1967   34.020  11537966  836.197138       AFG   \n",
       "4  Afghanistan      Asia  1972   36.088  13079460  739.981106       AFG   \n",
       "\n",
       "   iso_num  \n",
       "0        4  \n",
       "1        4  \n",
       "2        4  \n",
       "3        4  \n",
       "4        4  "
      ]
     },
     "execution_count": 24,
     "metadata": {},
     "output_type": "execute_result"
    }
   ],
   "source": [
    "import pandas as pd\n",
    "\n",
    "dataset = pd.read_csv(\"../data/gapminder_data_world_health.csv\")\n",
    "dataset.head(5)"
   ]
  },
  {
   "cell_type": "markdown",
   "id": "48dfd4f6-35ef-463c-b50c-68cde6694515",
   "metadata": {},
   "source": [
    "---\n",
    "# EJERCICIO 4\n",
    "\n",
    "Con los datos de `gapminder_data_world_health.csv` utiliza el siguiente subset de la tabla como se muestra a continuación (es un query de el año 2007 en el que se tiene la esperanza de vida y la población indexada por país)"
   ]
  },
  {
   "cell_type": "code",
   "execution_count": 25,
   "id": "1466fb47-75cc-44eb-880f-cab87172599e",
   "metadata": {
    "tags": []
   },
   "outputs": [
    {
     "data": {
      "text/html": [
       "<div>\n",
       "<style scoped>\n",
       "    .dataframe tbody tr th:only-of-type {\n",
       "        vertical-align: middle;\n",
       "    }\n",
       "\n",
       "    .dataframe tbody tr th {\n",
       "        vertical-align: top;\n",
       "    }\n",
       "\n",
       "    .dataframe thead th {\n",
       "        text-align: right;\n",
       "    }\n",
       "</style>\n",
       "<table border=\"1\" class=\"dataframe\">\n",
       "  <thead>\n",
       "    <tr style=\"text-align: right;\">\n",
       "      <th></th>\n",
       "      <th>lifeExp</th>\n",
       "      <th>pop</th>\n",
       "    </tr>\n",
       "    <tr>\n",
       "      <th>country</th>\n",
       "      <th></th>\n",
       "      <th></th>\n",
       "    </tr>\n",
       "  </thead>\n",
       "  <tbody>\n",
       "    <tr>\n",
       "      <th>Afghanistan</th>\n",
       "      <td>43.828</td>\n",
       "      <td>31889923</td>\n",
       "    </tr>\n",
       "    <tr>\n",
       "      <th>Albania</th>\n",
       "      <td>76.423</td>\n",
       "      <td>3600523</td>\n",
       "    </tr>\n",
       "    <tr>\n",
       "      <th>Algeria</th>\n",
       "      <td>72.301</td>\n",
       "      <td>33333216</td>\n",
       "    </tr>\n",
       "    <tr>\n",
       "      <th>Angola</th>\n",
       "      <td>42.731</td>\n",
       "      <td>12420476</td>\n",
       "    </tr>\n",
       "    <tr>\n",
       "      <th>Argentina</th>\n",
       "      <td>75.320</td>\n",
       "      <td>40301927</td>\n",
       "    </tr>\n",
       "    <tr>\n",
       "      <th>Australia</th>\n",
       "      <td>81.235</td>\n",
       "      <td>20434176</td>\n",
       "    </tr>\n",
       "    <tr>\n",
       "      <th>Austria</th>\n",
       "      <td>79.829</td>\n",
       "      <td>8199783</td>\n",
       "    </tr>\n",
       "    <tr>\n",
       "      <th>Bahrain</th>\n",
       "      <td>75.635</td>\n",
       "      <td>708573</td>\n",
       "    </tr>\n",
       "    <tr>\n",
       "      <th>Bangladesh</th>\n",
       "      <td>64.062</td>\n",
       "      <td>150448339</td>\n",
       "    </tr>\n",
       "    <tr>\n",
       "      <th>Belgium</th>\n",
       "      <td>79.441</td>\n",
       "      <td>10392226</td>\n",
       "    </tr>\n",
       "  </tbody>\n",
       "</table>\n",
       "</div>"
      ],
      "text/plain": [
       "             lifeExp        pop\n",
       "country                        \n",
       "Afghanistan   43.828   31889923\n",
       "Albania       76.423    3600523\n",
       "Algeria       72.301   33333216\n",
       "Angola        42.731   12420476\n",
       "Argentina     75.320   40301927\n",
       "Australia     81.235   20434176\n",
       "Austria       79.829    8199783\n",
       "Bahrain       75.635     708573\n",
       "Bangladesh    64.062  150448339\n",
       "Belgium       79.441   10392226"
      ]
     },
     "execution_count": 25,
     "metadata": {},
     "output_type": "execute_result"
    }
   ],
   "source": [
    "df = dataset[dataset['year'] == 2007].set_index('country')\n",
    "df = df[['lifeExp', 'pop']]\n",
    "df.head(10)\n"
   ]
  },
  {
   "cell_type": "markdown",
   "id": "7be52fdd-4ceb-4167-b5d9-b3595b80119c",
   "metadata": {},
   "source": [
    "- **Utiliza el método Min-Max** para normalizar los vectores de Esperanza de vida y de Población, una vez que apliquemos las funciones de similitud es mejor tener los vectores en las misma escala: [Ejemplo aquí](https://www.geeksforgeeks.org/data-normalization-with-pandas/)"
   ]
  },
  {
   "cell_type": "code",
   "execution_count": 26,
   "id": "219df90b-4913-42d9-96ee-761f543bed78",
   "metadata": {
    "tags": []
   },
   "outputs": [
    {
     "name": "stdout",
     "output_type": "stream",
     "text": [
      "                     lifeExp       pop\n",
      "country                               \n",
      "Afghanistan         0.098046  0.024035\n",
      "Albania             0.856246  0.002579\n",
      "Algeria             0.760363  0.025130\n",
      "Angola              0.072528  0.009269\n",
      "Argentina           0.830589  0.030416\n",
      "...                      ...       ...\n",
      "Vietnam             0.805676  0.064516\n",
      "West Bank and Gaza  0.786439  0.002896\n",
      "Yemen, Rep.         0.536985  0.016695\n",
      "Zambia              0.064457  0.008757\n",
      "Zimbabwe            0.090114  0.009186\n",
      "\n",
      "[142 rows x 2 columns]\n"
     ]
    }
   ],
   "source": [
    "\n",
    "# apply normalization\n",
    "\n",
    "# copy the data \n",
    "df_min_max_scaled = df.copy() \n",
    "  \n",
    "# apply normalization techniques \n",
    "for column in df_min_max_scaled.columns: \n",
    "    df_min_max_scaled[column] = (df_min_max_scaled[column] - df_min_max_scaled[column].min()) / (df_min_max_scaled[column].max() - df_min_max_scaled[column].min())     \n",
    "\n",
    "df_scaled= df_min_max_scaled\n",
    "# view normalized data \n",
    "print(df_scaled)"
   ]
  },
  {
   "cell_type": "markdown",
   "id": "3f428dd4-5cff-4f6d-9f4c-fbc79bd19261",
   "metadata": {},
   "source": [
    "---\n",
    "# EJERCICIO 5\n",
    "\n",
    "**Crea un un nuevo dataset con los 3 paises más cercanos a cada país**, es decir un **dataset de \n",
    "distancias**, el resultado que se busca es como se ve en la imagen. Utilizarás el subset normalizado (ejercicio 4) para ello y una de las funciones que creaste (manhattan, euclideana o coseno)\n",
    "\n",
    "![](../distancias.png)\n",
    "\n",
    "**¿Cómo crear el dataset de distancias?**\n",
    "- Por cada país, necesitas calcular la distancia entre él y todos los demás países en el DataFrame. Evitando comparar cada país consigo mismo.\n",
    "- Cada iteración corresponde a cada país comparado, el país al que se le calculó la distancia, y la distancia entre ambos. (hint: una lista de tuplas o diccionarios puede ser útil aquí)\n",
    "- Después de hacer todas las comparaciones, convierte los resultados en un DataFrame con tres columnas: `nodeA`, `nodeB`, `distance`.\n",
    "- Para cada país (nodeA), agrupa las distancias calculadas y ordénalas de menor a mayor. Se quiere unicamente los tres países más cercanos a cada país (distancias más pequeñas para cada país)\n",
    "- No olvides revisar los resultados una vez que tengas la tabla final con los 3 países más cercanos para cada país"
   ]
  },
  {
   "cell_type": "code",
   "execution_count": 27,
   "id": "db832d68-f1d9-4e79-a032-adf3349266c7",
   "metadata": {},
   "outputs": [
    {
     "data": {
      "text/plain": [
       "'Afghanistan'"
      ]
     },
     "execution_count": 27,
     "metadata": {},
     "output_type": "execute_result"
    }
   ],
   "source": [
    "df_scaled.index[0]"
   ]
  },
  {
   "cell_type": "code",
   "execution_count": 28,
   "id": "7e75c9cc-0d53-4720-82c1-25577e3c40b6",
   "metadata": {},
   "outputs": [
    {
     "data": {
      "text/plain": [
       "lifeExp    0.098046\n",
       "pop        0.024035\n",
       "Name: Afghanistan, dtype: float64"
      ]
     },
     "execution_count": 28,
     "metadata": {},
     "output_type": "execute_result"
    }
   ],
   "source": [
    "df_scaled.iloc[0]"
   ]
  },
  {
   "cell_type": "code",
   "execution_count": 29,
   "id": "bff39052-aa4e-49b8-9af3-ff2ad04f617d",
   "metadata": {},
   "outputs": [
    {
     "name": "stdout",
     "output_type": "stream",
     "text": [
      "0.779656\n",
      "0.663412\n"
     ]
    }
   ],
   "source": [
    "x1=[0.098046, 0.024035]\n",
    "x2=[0.856246, 0.002579]\n",
    "x3=[0.760363, 0.025130]\n",
    "print(manhattan_distance(x1,x2))\n",
    "print(manhattan_distance(x1,x3))"
   ]
  },
  {
   "cell_type": "code",
   "execution_count": 30,
   "id": "db8d7b29-78f3-417a-a6ef-957791d33432",
   "metadata": {},
   "outputs": [
    {
     "data": {
      "text/plain": [
       "0.7796555946915817"
      ]
     },
     "execution_count": 30,
     "metadata": {},
     "output_type": "execute_result"
    }
   ],
   "source": [
    "manhattan_distance(df_scaled.iloc[0], df_scaled.iloc[1])"
   ]
  },
  {
   "cell_type": "code",
   "execution_count": 31,
   "id": "f3b91832-6ee9-4869-87b0-8a26f036eb4a",
   "metadata": {},
   "outputs": [
    {
     "data": {
      "text/plain": [
       "'Albania'"
      ]
     },
     "execution_count": 31,
     "metadata": {},
     "output_type": "execute_result"
    }
   ],
   "source": [
    "df_scaled.index[1]"
   ]
  },
  {
   "cell_type": "code",
   "execution_count": 32,
   "id": "a2834e28-7cfd-4ec6-addf-25f0ed65c538",
   "metadata": {},
   "outputs": [
    {
     "data": {
      "text/plain": [
       "142"
      ]
     },
     "execution_count": 32,
     "metadata": {},
     "output_type": "execute_result"
    }
   ],
   "source": [
    "len(df_scaled)"
   ]
  },
  {
   "cell_type": "code",
   "execution_count": 33,
   "id": "1b3ee8a5-199a-4d5a-9362-926b8f5b13a4",
   "metadata": {},
   "outputs": [],
   "source": [
    "d=[]\n",
    "n=len(df_scaled)\n",
    "\n",
    "for i in range(0,n):\n",
    "    for j in range(0,n):\n",
    "        if i == j:\n",
    "            continue\n",
    "        d.append([df_scaled.index[i], df_scaled.index[j], manhattan_distance(df_scaled.iloc[i], df_scaled.iloc[j])])\n"
   ]
  },
  {
   "cell_type": "code",
   "execution_count": null,
   "id": "48967cd3-cee3-434c-a904-f547296f7026",
   "metadata": {},
   "outputs": [],
   "source": []
  },
  {
   "cell_type": "code",
   "execution_count": 34,
   "id": "83860a3a-0384-4f5d-9418-038ca315a393",
   "metadata": {},
   "outputs": [
    {
     "data": {
      "text/plain": [
       "20022"
      ]
     },
     "execution_count": 34,
     "metadata": {},
     "output_type": "execute_result"
    }
   ],
   "source": [
    "len(d)"
   ]
  },
  {
   "cell_type": "code",
   "execution_count": 35,
   "id": "6196e26c-a73c-46d4-a2d6-80aabe3f248b",
   "metadata": {},
   "outputs": [],
   "source": [
    "df_manhathan = pd.DataFrame(\n",
    "    d,\n",
    "    columns=[\"nodeA\",\"nodeB\", \"distance\"],\n",
    ")"
   ]
  },
  {
   "cell_type": "code",
   "execution_count": 36,
   "id": "1092756e-a4e4-4844-9fa6-3d6e48a464d5",
   "metadata": {},
   "outputs": [
    {
     "data": {
      "text/html": [
       "<div>\n",
       "<style scoped>\n",
       "    .dataframe tbody tr th:only-of-type {\n",
       "        vertical-align: middle;\n",
       "    }\n",
       "\n",
       "    .dataframe tbody tr th {\n",
       "        vertical-align: top;\n",
       "    }\n",
       "\n",
       "    .dataframe thead th {\n",
       "        text-align: right;\n",
       "    }\n",
       "</style>\n",
       "<table border=\"1\" class=\"dataframe\">\n",
       "  <thead>\n",
       "    <tr style=\"text-align: right;\">\n",
       "      <th></th>\n",
       "      <th>nodeA</th>\n",
       "      <th>nodeB</th>\n",
       "      <th>distance</th>\n",
       "    </tr>\n",
       "  </thead>\n",
       "  <tbody>\n",
       "    <tr>\n",
       "      <th>0</th>\n",
       "      <td>Afghanistan</td>\n",
       "      <td>Albania</td>\n",
       "      <td>0.779656</td>\n",
       "    </tr>\n",
       "    <tr>\n",
       "      <th>1</th>\n",
       "      <td>Afghanistan</td>\n",
       "      <td>Algeria</td>\n",
       "      <td>0.663411</td>\n",
       "    </tr>\n",
       "    <tr>\n",
       "      <th>2</th>\n",
       "      <td>Afghanistan</td>\n",
       "      <td>Angola</td>\n",
       "      <td>0.040284</td>\n",
       "    </tr>\n",
       "    <tr>\n",
       "      <th>3</th>\n",
       "      <td>Afghanistan</td>\n",
       "      <td>Argentina</td>\n",
       "      <td>0.738923</td>\n",
       "    </tr>\n",
       "    <tr>\n",
       "      <th>4</th>\n",
       "      <td>Afghanistan</td>\n",
       "      <td>Australia</td>\n",
       "      <td>0.878821</td>\n",
       "    </tr>\n",
       "    <tr>\n",
       "      <th>...</th>\n",
       "      <td>...</td>\n",
       "      <td>...</td>\n",
       "      <td>...</td>\n",
       "    </tr>\n",
       "    <tr>\n",
       "      <th>20017</th>\n",
       "      <td>Zimbabwe</td>\n",
       "      <td>Venezuela</td>\n",
       "      <td>0.714331</td>\n",
       "    </tr>\n",
       "    <tr>\n",
       "      <th>20018</th>\n",
       "      <td>Zimbabwe</td>\n",
       "      <td>Vietnam</td>\n",
       "      <td>0.770891</td>\n",
       "    </tr>\n",
       "    <tr>\n",
       "      <th>20019</th>\n",
       "      <td>Zimbabwe</td>\n",
       "      <td>West Bank and Gaza</td>\n",
       "      <td>0.702614</td>\n",
       "    </tr>\n",
       "    <tr>\n",
       "      <th>20020</th>\n",
       "      <td>Zimbabwe</td>\n",
       "      <td>Yemen, Rep.</td>\n",
       "      <td>0.454380</td>\n",
       "    </tr>\n",
       "    <tr>\n",
       "      <th>20021</th>\n",
       "      <td>Zimbabwe</td>\n",
       "      <td>Zambia</td>\n",
       "      <td>0.026086</td>\n",
       "    </tr>\n",
       "  </tbody>\n",
       "</table>\n",
       "<p>20022 rows × 3 columns</p>\n",
       "</div>"
      ],
      "text/plain": [
       "             nodeA               nodeB  distance\n",
       "0      Afghanistan             Albania  0.779656\n",
       "1      Afghanistan             Algeria  0.663411\n",
       "2      Afghanistan              Angola  0.040284\n",
       "3      Afghanistan           Argentina  0.738923\n",
       "4      Afghanistan           Australia  0.878821\n",
       "...            ...                 ...       ...\n",
       "20017     Zimbabwe           Venezuela  0.714331\n",
       "20018     Zimbabwe             Vietnam  0.770891\n",
       "20019     Zimbabwe  West Bank and Gaza  0.702614\n",
       "20020     Zimbabwe         Yemen, Rep.  0.454380\n",
       "20021     Zimbabwe              Zambia  0.026086\n",
       "\n",
       "[20022 rows x 3 columns]"
      ]
     },
     "execution_count": 36,
     "metadata": {},
     "output_type": "execute_result"
    }
   ],
   "source": [
    "df_manhathan"
   ]
  },
  {
   "cell_type": "code",
   "execution_count": 37,
   "id": "23d7fcfd-d764-4cdf-9ce6-a59af4e0301b",
   "metadata": {
    "scrolled": true
   },
   "outputs": [
    {
     "data": {
      "text/html": [
       "<div>\n",
       "<style scoped>\n",
       "    .dataframe tbody tr th:only-of-type {\n",
       "        vertical-align: middle;\n",
       "    }\n",
       "\n",
       "    .dataframe tbody tr th {\n",
       "        vertical-align: top;\n",
       "    }\n",
       "\n",
       "    .dataframe thead th {\n",
       "        text-align: right;\n",
       "    }\n",
       "</style>\n",
       "<table border=\"1\" class=\"dataframe\">\n",
       "  <thead>\n",
       "    <tr style=\"text-align: right;\">\n",
       "      <th></th>\n",
       "      <th>nodeA</th>\n",
       "      <th>nodeB</th>\n",
       "      <th>distance</th>\n",
       "    </tr>\n",
       "  </thead>\n",
       "  <tbody>\n",
       "    <tr>\n",
       "      <th>140</th>\n",
       "      <td>Afghanistan</td>\n",
       "      <td>Zimbabwe</td>\n",
       "      <td>0.022782</td>\n",
       "    </tr>\n",
       "    <tr>\n",
       "      <th>2</th>\n",
       "      <td>Afghanistan</td>\n",
       "      <td>Angola</td>\n",
       "      <td>0.040284</td>\n",
       "    </tr>\n",
       "    <tr>\n",
       "      <th>20</th>\n",
       "      <td>Afghanistan</td>\n",
       "      <td>Central African Republic</td>\n",
       "      <td>0.042111</td>\n",
       "    </tr>\n",
       "    <tr>\n",
       "      <th>111</th>\n",
       "      <td>Afghanistan</td>\n",
       "      <td>Sierra Leone</td>\n",
       "      <td>0.048836</td>\n",
       "    </tr>\n",
       "    <tr>\n",
       "      <th>139</th>\n",
       "      <td>Afghanistan</td>\n",
       "      <td>Zambia</td>\n",
       "      <td>0.048867</td>\n",
       "    </tr>\n",
       "    <tr>\n",
       "      <th>...</th>\n",
       "      <td>...</td>\n",
       "      <td>...</td>\n",
       "      <td>...</td>\n",
       "    </tr>\n",
       "    <tr>\n",
       "      <th>54</th>\n",
       "      <td>Afghanistan</td>\n",
       "      <td>Hong Kong, China</td>\n",
       "      <td>0.911658</td>\n",
       "    </tr>\n",
       "    <tr>\n",
       "      <th>65</th>\n",
       "      <td>Afghanistan</td>\n",
       "      <td>Japan</td>\n",
       "      <td>0.974445</td>\n",
       "    </tr>\n",
       "    <tr>\n",
       "      <th>133</th>\n",
       "      <td>Afghanistan</td>\n",
       "      <td>United States</td>\n",
       "      <td>1.004724</td>\n",
       "    </tr>\n",
       "    <tr>\n",
       "      <th>57</th>\n",
       "      <td>Afghanistan</td>\n",
       "      <td>India</td>\n",
       "      <td>1.303452</td>\n",
       "    </tr>\n",
       "    <tr>\n",
       "      <th>23</th>\n",
       "      <td>Afghanistan</td>\n",
       "      <td>China</td>\n",
       "      <td>1.653634</td>\n",
       "    </tr>\n",
       "  </tbody>\n",
       "</table>\n",
       "<p>141 rows × 3 columns</p>\n",
       "</div>"
      ],
      "text/plain": [
       "           nodeA                     nodeB  distance\n",
       "140  Afghanistan                  Zimbabwe  0.022782\n",
       "2    Afghanistan                    Angola  0.040284\n",
       "20   Afghanistan  Central African Republic  0.042111\n",
       "111  Afghanistan              Sierra Leone  0.048836\n",
       "139  Afghanistan                    Zambia  0.048867\n",
       "..           ...                       ...       ...\n",
       "54   Afghanistan          Hong Kong, China  0.911658\n",
       "65   Afghanistan                     Japan  0.974445\n",
       "133  Afghanistan             United States  1.004724\n",
       "57   Afghanistan                     India  1.303452\n",
       "23   Afghanistan                     China  1.653634\n",
       "\n",
       "[141 rows x 3 columns]"
      ]
     },
     "execution_count": 37,
     "metadata": {},
     "output_type": "execute_result"
    }
   ],
   "source": [
    "df_manhathan[0:141].sort_values(\"distance\")"
   ]
  },
  {
   "cell_type": "code",
   "execution_count": 41,
   "id": "dd4119da-f928-4d5e-a67e-dbff88c06a15",
   "metadata": {
    "scrolled": true
   },
   "outputs": [
    {
     "data": {
      "text/html": [
       "<div>\n",
       "<style scoped>\n",
       "    .dataframe tbody tr th:only-of-type {\n",
       "        vertical-align: middle;\n",
       "    }\n",
       "\n",
       "    .dataframe tbody tr th {\n",
       "        vertical-align: top;\n",
       "    }\n",
       "\n",
       "    .dataframe thead th {\n",
       "        text-align: right;\n",
       "    }\n",
       "</style>\n",
       "<table border=\"1\" class=\"dataframe\">\n",
       "  <thead>\n",
       "    <tr style=\"text-align: right;\">\n",
       "      <th></th>\n",
       "      <th>nodeA</th>\n",
       "      <th>nodeB</th>\n",
       "      <th>distance</th>\n",
       "    </tr>\n",
       "  </thead>\n",
       "  <tbody>\n",
       "    <tr>\n",
       "      <th>140</th>\n",
       "      <td>Afghanistan</td>\n",
       "      <td>Zimbabwe</td>\n",
       "      <td>0.022782</td>\n",
       "    </tr>\n",
       "    <tr>\n",
       "      <th>2</th>\n",
       "      <td>Afghanistan</td>\n",
       "      <td>Angola</td>\n",
       "      <td>0.040284</td>\n",
       "    </tr>\n",
       "    <tr>\n",
       "      <th>20</th>\n",
       "      <td>Afghanistan</td>\n",
       "      <td>Central African Republic</td>\n",
       "      <td>0.042111</td>\n",
       "    </tr>\n",
       "  </tbody>\n",
       "</table>\n",
       "</div>"
      ],
      "text/plain": [
       "           nodeA                     nodeB  distance\n",
       "140  Afghanistan                  Zimbabwe  0.022782\n",
       "2    Afghanistan                    Angola  0.040284\n",
       "20   Afghanistan  Central African Republic  0.042111"
      ]
     },
     "execution_count": 41,
     "metadata": {},
     "output_type": "execute_result"
    }
   ],
   "source": [
    "d1=df_manhathan[0:141].sort_values(\"distance\")[0:3]\n",
    "d1"
   ]
  },
  {
   "cell_type": "code",
   "execution_count": null,
   "id": "52bbbb43-7aa3-48c4-9dcc-45abb5d0d091",
   "metadata": {},
   "outputs": [],
   "source": []
  },
  {
   "cell_type": "code",
   "execution_count": 42,
   "id": "f8c5c24f-e05c-4f0c-bbee-81d4cba00e1c",
   "metadata": {},
   "outputs": [],
   "source": [
    "df_f=df_manhathan.groupby('nodeA').apply(lambda z: z.nsmallest(3, 'distance')).reset_index(drop=True)\n"
   ]
  },
  {
   "cell_type": "code",
   "execution_count": 43,
   "id": "8d1fa33b-9d5a-4bf9-b22d-005ce3b0859d",
   "metadata": {},
   "outputs": [
    {
     "data": {
      "text/html": [
       "<div>\n",
       "<style scoped>\n",
       "    .dataframe tbody tr th:only-of-type {\n",
       "        vertical-align: middle;\n",
       "    }\n",
       "\n",
       "    .dataframe tbody tr th {\n",
       "        vertical-align: top;\n",
       "    }\n",
       "\n",
       "    .dataframe thead th {\n",
       "        text-align: right;\n",
       "    }\n",
       "</style>\n",
       "<table border=\"1\" class=\"dataframe\">\n",
       "  <thead>\n",
       "    <tr style=\"text-align: right;\">\n",
       "      <th></th>\n",
       "      <th>nodeA</th>\n",
       "      <th>nodeB</th>\n",
       "      <th>distance</th>\n",
       "    </tr>\n",
       "  </thead>\n",
       "  <tbody>\n",
       "    <tr>\n",
       "      <th>0</th>\n",
       "      <td>Afghanistan</td>\n",
       "      <td>Zimbabwe</td>\n",
       "      <td>0.022782</td>\n",
       "    </tr>\n",
       "    <tr>\n",
       "      <th>1</th>\n",
       "      <td>Afghanistan</td>\n",
       "      <td>Angola</td>\n",
       "      <td>0.040284</td>\n",
       "    </tr>\n",
       "    <tr>\n",
       "      <th>2</th>\n",
       "      <td>Afghanistan</td>\n",
       "      <td>Central African Republic</td>\n",
       "      <td>0.042111</td>\n",
       "    </tr>\n",
       "    <tr>\n",
       "      <th>3</th>\n",
       "      <td>Albania</td>\n",
       "      <td>Uruguay</td>\n",
       "      <td>0.001023</td>\n",
       "    </tr>\n",
       "    <tr>\n",
       "      <th>4</th>\n",
       "      <td>Albania</td>\n",
       "      <td>Reunion</td>\n",
       "      <td>0.002567</td>\n",
       "    </tr>\n",
       "    <tr>\n",
       "      <th>5</th>\n",
       "      <td>Albania</td>\n",
       "      <td>Czech Republic</td>\n",
       "      <td>0.006493</td>\n",
       "    </tr>\n",
       "    <tr>\n",
       "      <th>6</th>\n",
       "      <td>Algeria</td>\n",
       "      <td>Sri Lanka</td>\n",
       "      <td>0.012035</td>\n",
       "    </tr>\n",
       "    <tr>\n",
       "      <th>7</th>\n",
       "      <td>Algeria</td>\n",
       "      <td>Romania</td>\n",
       "      <td>0.012457</td>\n",
       "    </tr>\n",
       "    <tr>\n",
       "      <th>8</th>\n",
       "      <td>Algeria</td>\n",
       "      <td>Saudi Arabia</td>\n",
       "      <td>0.015420</td>\n",
       "    </tr>\n",
       "    <tr>\n",
       "      <th>9</th>\n",
       "      <td>Angola</td>\n",
       "      <td>Sierra Leone</td>\n",
       "      <td>0.008552</td>\n",
       "    </tr>\n",
       "    <tr>\n",
       "      <th>10</th>\n",
       "      <td>Angola</td>\n",
       "      <td>Zambia</td>\n",
       "      <td>0.008583</td>\n",
       "    </tr>\n",
       "    <tr>\n",
       "      <th>11</th>\n",
       "      <td>Angola</td>\n",
       "      <td>Lesotho</td>\n",
       "      <td>0.011127</td>\n",
       "    </tr>\n",
       "    <tr>\n",
       "      <th>12</th>\n",
       "      <td>Argentina</td>\n",
       "      <td>Poland</td>\n",
       "      <td>0.007005</td>\n",
       "    </tr>\n",
       "    <tr>\n",
       "      <th>13</th>\n",
       "      <td>Argentina</td>\n",
       "      <td>Ecuador</td>\n",
       "      <td>0.027717</td>\n",
       "    </tr>\n",
       "    <tr>\n",
       "      <th>14</th>\n",
       "      <td>Argentina</td>\n",
       "      <td>Panama</td>\n",
       "      <td>0.033156</td>\n",
       "    </tr>\n",
       "  </tbody>\n",
       "</table>\n",
       "</div>"
      ],
      "text/plain": [
       "          nodeA                     nodeB  distance\n",
       "0   Afghanistan                  Zimbabwe  0.022782\n",
       "1   Afghanistan                    Angola  0.040284\n",
       "2   Afghanistan  Central African Republic  0.042111\n",
       "3       Albania                   Uruguay  0.001023\n",
       "4       Albania                   Reunion  0.002567\n",
       "5       Albania            Czech Republic  0.006493\n",
       "6       Algeria                 Sri Lanka  0.012035\n",
       "7       Algeria                   Romania  0.012457\n",
       "8       Algeria              Saudi Arabia  0.015420\n",
       "9        Angola              Sierra Leone  0.008552\n",
       "10       Angola                    Zambia  0.008583\n",
       "11       Angola                   Lesotho  0.011127\n",
       "12    Argentina                    Poland  0.007005\n",
       "13    Argentina                   Ecuador  0.027717\n",
       "14    Argentina                    Panama  0.033156"
      ]
     },
     "execution_count": 43,
     "metadata": {},
     "output_type": "execute_result"
    }
   ],
   "source": [
    "df_f.head(15)"
   ]
  },
  {
   "cell_type": "markdown",
   "id": "a8e98e27-e2f7-4745-9565-586f2ab48eea",
   "metadata": {},
   "source": [
    "Comprobando que sean los valores:"
   ]
  },
  {
   "cell_type": "code",
   "execution_count": 44,
   "id": "25a57872-49b1-4c6e-9ca5-5b4f9eaee117",
   "metadata": {
    "scrolled": true
   },
   "outputs": [
    {
     "data": {
      "text/html": [
       "<div>\n",
       "<style scoped>\n",
       "    .dataframe tbody tr th:only-of-type {\n",
       "        vertical-align: middle;\n",
       "    }\n",
       "\n",
       "    .dataframe tbody tr th {\n",
       "        vertical-align: top;\n",
       "    }\n",
       "\n",
       "    .dataframe thead th {\n",
       "        text-align: right;\n",
       "    }\n",
       "</style>\n",
       "<table border=\"1\" class=\"dataframe\">\n",
       "  <thead>\n",
       "    <tr style=\"text-align: right;\">\n",
       "      <th></th>\n",
       "      <th>nodeA</th>\n",
       "      <th>nodeB</th>\n",
       "      <th>distance</th>\n",
       "    </tr>\n",
       "  </thead>\n",
       "  <tbody>\n",
       "    <tr>\n",
       "      <th>275</th>\n",
       "      <td>Albania</td>\n",
       "      <td>Uruguay</td>\n",
       "      <td>0.001023</td>\n",
       "    </tr>\n",
       "    <tr>\n",
       "      <th>245</th>\n",
       "      <td>Albania</td>\n",
       "      <td>Reunion</td>\n",
       "      <td>0.002567</td>\n",
       "    </tr>\n",
       "    <tr>\n",
       "      <th>173</th>\n",
       "      <td>Albania</td>\n",
       "      <td>Czech Republic</td>\n",
       "      <td>0.006493</td>\n",
       "    </tr>\n",
       "  </tbody>\n",
       "</table>\n",
       "</div>"
      ],
      "text/plain": [
       "       nodeA           nodeB  distance\n",
       "275  Albania         Uruguay  0.001023\n",
       "245  Albania         Reunion  0.002567\n",
       "173  Albania  Czech Republic  0.006493"
      ]
     },
     "execution_count": 44,
     "metadata": {},
     "output_type": "execute_result"
    }
   ],
   "source": [
    "d2=df_manhathan[142:282].sort_values(\"distance\")[0:3]\n",
    "d2"
   ]
  },
  {
   "cell_type": "code",
   "execution_count": 45,
   "id": "dc5f2261-e8f0-4f4c-acac-0c486135c93b",
   "metadata": {},
   "outputs": [
    {
     "data": {
      "text/html": [
       "<div>\n",
       "<style scoped>\n",
       "    .dataframe tbody tr th:only-of-type {\n",
       "        vertical-align: middle;\n",
       "    }\n",
       "\n",
       "    .dataframe tbody tr th {\n",
       "        vertical-align: top;\n",
       "    }\n",
       "\n",
       "    .dataframe thead th {\n",
       "        text-align: right;\n",
       "    }\n",
       "</style>\n",
       "<table border=\"1\" class=\"dataframe\">\n",
       "  <thead>\n",
       "    <tr style=\"text-align: right;\">\n",
       "      <th></th>\n",
       "      <th>nodeA</th>\n",
       "      <th>nodeB</th>\n",
       "      <th>distance</th>\n",
       "    </tr>\n",
       "  </thead>\n",
       "  <tbody>\n",
       "    <tr>\n",
       "      <th>400</th>\n",
       "      <td>Algeria</td>\n",
       "      <td>Sri Lanka</td>\n",
       "      <td>0.012035</td>\n",
       "    </tr>\n",
       "    <tr>\n",
       "      <th>387</th>\n",
       "      <td>Algeria</td>\n",
       "      <td>Romania</td>\n",
       "      <td>0.012457</td>\n",
       "    </tr>\n",
       "    <tr>\n",
       "      <th>390</th>\n",
       "      <td>Algeria</td>\n",
       "      <td>Saudi Arabia</td>\n",
       "      <td>0.015420</td>\n",
       "    </tr>\n",
       "  </tbody>\n",
       "</table>\n",
       "</div>"
      ],
      "text/plain": [
       "       nodeA         nodeB  distance\n",
       "400  Algeria     Sri Lanka  0.012035\n",
       "387  Algeria       Romania  0.012457\n",
       "390  Algeria  Saudi Arabia  0.015420"
      ]
     },
     "execution_count": 45,
     "metadata": {},
     "output_type": "execute_result"
    }
   ],
   "source": [
    "d3=df_manhathan[283:141*3].sort_values(\"distance\")[0:3]\n",
    "d3"
   ]
  },
  {
   "cell_type": "code",
   "execution_count": 46,
   "id": "e0608573-35b7-432a-8573-8e6aada973a7",
   "metadata": {},
   "outputs": [
    {
     "data": {
      "text/html": [
       "<div>\n",
       "<style scoped>\n",
       "    .dataframe tbody tr th:only-of-type {\n",
       "        vertical-align: middle;\n",
       "    }\n",
       "\n",
       "    .dataframe tbody tr th {\n",
       "        vertical-align: top;\n",
       "    }\n",
       "\n",
       "    .dataframe thead th {\n",
       "        text-align: right;\n",
       "    }\n",
       "</style>\n",
       "<table border=\"1\" class=\"dataframe\">\n",
       "  <thead>\n",
       "    <tr style=\"text-align: right;\">\n",
       "      <th></th>\n",
       "      <th>nodeA</th>\n",
       "      <th>nodeB</th>\n",
       "      <th>distance</th>\n",
       "    </tr>\n",
       "  </thead>\n",
       "  <tbody>\n",
       "    <tr>\n",
       "      <th>534</th>\n",
       "      <td>Angola</td>\n",
       "      <td>Sierra Leone</td>\n",
       "      <td>0.008552</td>\n",
       "    </tr>\n",
       "    <tr>\n",
       "      <th>562</th>\n",
       "      <td>Angola</td>\n",
       "      <td>Zambia</td>\n",
       "      <td>0.008583</td>\n",
       "    </tr>\n",
       "    <tr>\n",
       "      <th>495</th>\n",
       "      <td>Angola</td>\n",
       "      <td>Lesotho</td>\n",
       "      <td>0.011127</td>\n",
       "    </tr>\n",
       "  </tbody>\n",
       "</table>\n",
       "</div>"
      ],
      "text/plain": [
       "      nodeA         nodeB  distance\n",
       "534  Angola  Sierra Leone  0.008552\n",
       "562  Angola        Zambia  0.008583\n",
       "495  Angola       Lesotho  0.011127"
      ]
     },
     "execution_count": 46,
     "metadata": {},
     "output_type": "execute_result"
    }
   ],
   "source": [
    "d4=df_manhathan[141*3+1:141*4].sort_values(\"distance\")[0:3]\n",
    "d4"
   ]
  },
  {
   "cell_type": "markdown",
   "id": "29045c2c-fa13-4dd2-b1fe-36425ba8ed5f",
   "metadata": {},
   "source": [
    "---\n",
    "# EJERCICIO 6\n",
    "\n",
    "Reproduce el siguiente script.   \n",
    "El script utiliza la libreria `networkx` y `plotly` para visualizar una gráfica de red (network plot) visualizando la distancia (similitud) entre los paises basado en esperanza de vida y población.  \n",
    "\n",
    "**Nota:** Si el dataframe del ejercicio anterior no es correcto, la visualización no va a funcionar.\n",
    "\n",
    "**Responde lo siguiente:**\n",
    "- Cuales son los países más similares a México?\n",
    "- Explica cuales serían las consideraciones éticas al decir que México es similar a esos países en el contexto de las variables `lifeExp` y `pop`, dando contexto de el año seleccionado y del significado de la funcion de similitud utilizada"
   ]
  },
  {
   "cell_type": "code",
   "execution_count": 73,
   "id": "b16099a1-7220-42f4-9a9d-5d7f08ea41af",
   "metadata": {},
   "outputs": [
    {
     "data": {
      "text/html": [
       "<div>\n",
       "<style scoped>\n",
       "    .dataframe tbody tr th:only-of-type {\n",
       "        vertical-align: middle;\n",
       "    }\n",
       "\n",
       "    .dataframe tbody tr th {\n",
       "        vertical-align: top;\n",
       "    }\n",
       "\n",
       "    .dataframe thead th {\n",
       "        text-align: right;\n",
       "    }\n",
       "</style>\n",
       "<table border=\"1\" class=\"dataframe\">\n",
       "  <thead>\n",
       "    <tr style=\"text-align: right;\">\n",
       "      <th></th>\n",
       "      <th>nodeA</th>\n",
       "      <th>nodeB</th>\n",
       "      <th>distance</th>\n",
       "    </tr>\n",
       "  </thead>\n",
       "  <tbody>\n",
       "    <tr>\n",
       "      <th>0</th>\n",
       "      <td>Afghanistan</td>\n",
       "      <td>Zimbabwe</td>\n",
       "      <td>0.022782</td>\n",
       "    </tr>\n",
       "    <tr>\n",
       "      <th>1</th>\n",
       "      <td>Afghanistan</td>\n",
       "      <td>Angola</td>\n",
       "      <td>0.040284</td>\n",
       "    </tr>\n",
       "    <tr>\n",
       "      <th>2</th>\n",
       "      <td>Afghanistan</td>\n",
       "      <td>Central African Republic</td>\n",
       "      <td>0.042111</td>\n",
       "    </tr>\n",
       "    <tr>\n",
       "      <th>3</th>\n",
       "      <td>Albania</td>\n",
       "      <td>Uruguay</td>\n",
       "      <td>0.001023</td>\n",
       "    </tr>\n",
       "    <tr>\n",
       "      <th>4</th>\n",
       "      <td>Albania</td>\n",
       "      <td>Reunion</td>\n",
       "      <td>0.002567</td>\n",
       "    </tr>\n",
       "    <tr>\n",
       "      <th>...</th>\n",
       "      <td>...</td>\n",
       "      <td>...</td>\n",
       "      <td>...</td>\n",
       "    </tr>\n",
       "    <tr>\n",
       "      <th>421</th>\n",
       "      <td>Zambia</td>\n",
       "      <td>Angola</td>\n",
       "      <td>0.008583</td>\n",
       "    </tr>\n",
       "    <tr>\n",
       "      <th>422</th>\n",
       "      <td>Zambia</td>\n",
       "      <td>Lesotho</td>\n",
       "      <td>0.012221</td>\n",
       "    </tr>\n",
       "    <tr>\n",
       "      <th>423</th>\n",
       "      <td>Zimbabwe</td>\n",
       "      <td>Angola</td>\n",
       "      <td>0.017668</td>\n",
       "    </tr>\n",
       "    <tr>\n",
       "      <th>424</th>\n",
       "      <td>Zimbabwe</td>\n",
       "      <td>Afghanistan</td>\n",
       "      <td>0.022782</td>\n",
       "    </tr>\n",
       "    <tr>\n",
       "      <th>425</th>\n",
       "      <td>Zimbabwe</td>\n",
       "      <td>Sierra Leone</td>\n",
       "      <td>0.026054</td>\n",
       "    </tr>\n",
       "  </tbody>\n",
       "</table>\n",
       "<p>426 rows × 3 columns</p>\n",
       "</div>"
      ],
      "text/plain": [
       "           nodeA                     nodeB  distance\n",
       "0    Afghanistan                  Zimbabwe  0.022782\n",
       "1    Afghanistan                    Angola  0.040284\n",
       "2    Afghanistan  Central African Republic  0.042111\n",
       "3        Albania                   Uruguay  0.001023\n",
       "4        Albania                   Reunion  0.002567\n",
       "..           ...                       ...       ...\n",
       "421       Zambia                    Angola  0.008583\n",
       "422       Zambia                   Lesotho  0.012221\n",
       "423     Zimbabwe                    Angola  0.017668\n",
       "424     Zimbabwe               Afghanistan  0.022782\n",
       "425     Zimbabwe              Sierra Leone  0.026054\n",
       "\n",
       "[426 rows x 3 columns]"
      ]
     },
     "execution_count": 73,
     "metadata": {},
     "output_type": "execute_result"
    }
   ],
   "source": [
    "df_f"
   ]
  },
  {
   "cell_type": "code",
   "execution_count": 57,
   "id": "130f8a5b-2662-4421-a2c7-e5252daeb234",
   "metadata": {
    "tags": []
   },
   "outputs": [],
   "source": [
    "import networkx as nx\n",
    "df_network=df_f.copy()\n",
    "#Empty graph object\n",
    "g = nx.Graph()\n",
    "\n",
    "# Adding all nodes\n",
    "g.add_nodes_from(list(df_network.nodeA.unique()))\n",
    "\n",
    "# Adding all edges\n",
    "edges_list = [(row[1][0],row[1][1],row[1][2]) for row in df_network.iterrows()]\n",
    "g.add_weighted_edges_from(edges_list)"
   ]
  },
  {
   "cell_type": "code",
   "execution_count": 59,
   "id": "c15c6cb9-0159-4d94-9e91-81588931dd60",
   "metadata": {},
   "outputs": [],
   "source": [
    "import plotly.io as pio\n",
    "pio.renderers.default = 'iframe'"
   ]
  },
  {
   "cell_type": "code",
   "execution_count": 85,
   "id": "b656ac48-9df3-4989-b303-1ddc99707d49",
   "metadata": {
    "tags": []
   },
   "outputs": [
    {
     "data": {
      "text/html": [
       "<iframe\n",
       "    scrolling=\"no\"\n",
       "    width=\"1220px\"\n",
       "    height=\"1520\"\n",
       "    src=\"iframe_figures/figure_85.html\"\n",
       "    frameborder=\"0\"\n",
       "    allowfullscreen\n",
       "></iframe>\n"
      ]
     },
     "metadata": {},
     "output_type": "display_data"
    }
   ],
   "source": [
    "import plotly.graph_objects as go\n",
    "\n",
    "pos = nx.spring_layout(g, dim=2, iterations=75, weight='weight', scale=2)\n",
    "\n",
    "# Create a DataFrame for nodes\n",
    "node_x = []\n",
    "node_y = []\n",
    "for node in g.nodes():\n",
    "    x, y = pos[node]\n",
    "    node_x.append(x)\n",
    "    node_y.append(y)\n",
    "\n",
    "# Create a DataFrame for edges\n",
    "edge_x = []\n",
    "edge_y = []\n",
    "for edge in g.edges():\n",
    "    x0, y0 = pos[edge[0]]\n",
    "    x1, y1 = pos[edge[1]]\n",
    "    edge_x.append(x0)\n",
    "    edge_x.append(x1)\n",
    "    edge_x.append(None)  # For a break between edges\n",
    "    edge_y.append(y0)\n",
    "    edge_y.append(y1)\n",
    "    edge_y.append(None)  # For a break between edges\n",
    "\n",
    "# Create the plot\n",
    "fig = go.Figure()\n",
    "\n",
    "# Add edges to the plot\n",
    "fig.add_trace(go.Scatter(x=edge_x, y=edge_y,\n",
    "                         line=dict(width=0.5, color='gray'),\n",
    "                         hoverinfo='none',\n",
    "                         mode='lines'))\n",
    "\n",
    "# Add nodes to the plot\n",
    "fig.add_trace(go.Scatter(x=node_x, y=node_y,\n",
    "                         mode='markers+text',  # Show both markers and labels\n",
    "                         marker=dict(size=10, color='#9500ff'),\n",
    "                         text=[str(node) for node in g.nodes()],  # Add node labels\n",
    "                         textposition='top center',\n",
    "                         hoverinfo='text'))\n",
    "\n",
    "# Update layout for better aesthetics and set figure size\n",
    "fig.update_layout(\n",
    "    showlegend=False,\n",
    "    xaxis=dict(showgrid=False, zeroline=False),\n",
    "    yaxis=dict(showgrid=False, zeroline=False),\n",
    "    plot_bgcolor='white',\n",
    "    width=1200,  # Set the figure width\n",
    "    height=1500   # Set the figure height\n",
    ")\n",
    "\n",
    "# Display the plot\n",
    "fig.show()"
   ]
  },
  {
   "cell_type": "markdown",
   "id": "6ed2b24b-df32-464d-89ca-09467c3dafc1",
   "metadata": {},
   "source": [
    "**Responde lo siguiente:**\n",
    "- ¿Cuales son los países más similares a México? \\\n",
    "  R: Los más similares son Vietnam, Poland y Argentina\n",
    "- Explica cuales serían las consideraciones éticas al decir que México es similar a esos países en el contexto de las variables `lifeExp` y `pop`, dando contexto del año seleccionado y del significado de la funcion de similitud utilizada\\\n",
    "  R: En 2007, México, Argentina y Polonia tenían una esperanza de vida alta, de alrededor de 76 años y la de Vietnam también era alta, de aproximadamente 75 años. En cuanto a la cifra de la población, en ese año, la de México era mayor a 100 millones de habitantes, la de Vietnam alrededor de 85 millones y las de Polonia y Argentina eran menores a las de México, siendo alrededor de 38 y 40 millones, respectivamente. En el contexto de esperanza de vida y población, la distancia Manhattan entre dos países es la suma de las diferencias absolutas en sus valores de esperanza de vida y población. Se deben tener consideraciones éticas al comparar estos países, por ejemplo: \n",
    "    - que la esperanza de vida puede verse afectada por diversos factores, como calidad de vida, acceso a la salud, entre otros, lo cuales varian por país,  \n",
    "    - el contexto social, económico y cultural de cada uno de estos paises.\n"
   ]
  },
  {
   "cell_type": "code",
   "execution_count": 67,
   "id": "ded927f5-d409-4e75-bea6-020b589e4553",
   "metadata": {},
   "outputs": [],
   "source": [
    "data2007=dataset[dataset['year'] == 2007]"
   ]
  },
  {
   "cell_type": "code",
   "execution_count": 81,
   "id": "dccb7415-7d9d-4c8d-aac0-58f982dbfea9",
   "metadata": {},
   "outputs": [
    {
     "data": {
      "text/html": [
       "<div>\n",
       "<style scoped>\n",
       "    .dataframe tbody tr th:only-of-type {\n",
       "        vertical-align: middle;\n",
       "    }\n",
       "\n",
       "    .dataframe tbody tr th {\n",
       "        vertical-align: top;\n",
       "    }\n",
       "\n",
       "    .dataframe thead th {\n",
       "        text-align: right;\n",
       "    }\n",
       "</style>\n",
       "<table border=\"1\" class=\"dataframe\">\n",
       "  <thead>\n",
       "    <tr style=\"text-align: right;\">\n",
       "      <th></th>\n",
       "      <th>nodeA</th>\n",
       "      <th>nodeB</th>\n",
       "      <th>distance</th>\n",
       "    </tr>\n",
       "  </thead>\n",
       "  <tbody>\n",
       "    <tr>\n",
       "      <th>246</th>\n",
       "      <td>Mexico</td>\n",
       "      <td>Vietnam</td>\n",
       "      <td>0.063043</td>\n",
       "    </tr>\n",
       "    <tr>\n",
       "      <th>247</th>\n",
       "      <td>Mexico</td>\n",
       "      <td>Poland</td>\n",
       "      <td>0.067931</td>\n",
       "    </tr>\n",
       "    <tr>\n",
       "      <th>248</th>\n",
       "      <td>Mexico</td>\n",
       "      <td>Argentina</td>\n",
       "      <td>0.072231</td>\n",
       "    </tr>\n",
       "  </tbody>\n",
       "</table>\n",
       "</div>"
      ],
      "text/plain": [
       "      nodeA      nodeB  distance\n",
       "246  Mexico    Vietnam  0.063043\n",
       "247  Mexico     Poland  0.067931\n",
       "248  Mexico  Argentina  0.072231"
      ]
     },
     "execution_count": 81,
     "metadata": {},
     "output_type": "execute_result"
    }
   ],
   "source": [
    "df_f[df_f.nodeA==\"Mexico\"]"
   ]
  },
  {
   "cell_type": "code",
   "execution_count": 68,
   "id": "d50b6b9e-070c-4353-a18a-91e288b7aff6",
   "metadata": {},
   "outputs": [
    {
     "data": {
      "text/html": [
       "<div>\n",
       "<style scoped>\n",
       "    .dataframe tbody tr th:only-of-type {\n",
       "        vertical-align: middle;\n",
       "    }\n",
       "\n",
       "    .dataframe tbody tr th {\n",
       "        vertical-align: top;\n",
       "    }\n",
       "\n",
       "    .dataframe thead th {\n",
       "        text-align: right;\n",
       "    }\n",
       "</style>\n",
       "<table border=\"1\" class=\"dataframe\">\n",
       "  <thead>\n",
       "    <tr style=\"text-align: right;\">\n",
       "      <th></th>\n",
       "      <th>country</th>\n",
       "      <th>continent</th>\n",
       "      <th>year</th>\n",
       "      <th>lifeExp</th>\n",
       "      <th>pop</th>\n",
       "      <th>gdpPercap</th>\n",
       "      <th>iso_alpha</th>\n",
       "      <th>iso_num</th>\n",
       "    </tr>\n",
       "  </thead>\n",
       "  <tbody>\n",
       "    <tr>\n",
       "      <th>995</th>\n",
       "      <td>Mexico</td>\n",
       "      <td>Americas</td>\n",
       "      <td>2007</td>\n",
       "      <td>76.195</td>\n",
       "      <td>108700891</td>\n",
       "      <td>11977.57496</td>\n",
       "      <td>MEX</td>\n",
       "      <td>484</td>\n",
       "    </tr>\n",
       "  </tbody>\n",
       "</table>\n",
       "</div>"
      ],
      "text/plain": [
       "    country continent  year  lifeExp        pop    gdpPercap iso_alpha  \\\n",
       "995  Mexico  Americas  2007   76.195  108700891  11977.57496       MEX   \n",
       "\n",
       "     iso_num  \n",
       "995      484  "
      ]
     },
     "execution_count": 68,
     "metadata": {},
     "output_type": "execute_result"
    }
   ],
   "source": [
    "data2007[data2007.country==\"Mexico\"]"
   ]
  },
  {
   "cell_type": "code",
   "execution_count": 70,
   "id": "0beaeff1-e15f-443c-a847-c3c2b1476eda",
   "metadata": {},
   "outputs": [
    {
     "data": {
      "text/html": [
       "<div>\n",
       "<style scoped>\n",
       "    .dataframe tbody tr th:only-of-type {\n",
       "        vertical-align: middle;\n",
       "    }\n",
       "\n",
       "    .dataframe tbody tr th {\n",
       "        vertical-align: top;\n",
       "    }\n",
       "\n",
       "    .dataframe thead th {\n",
       "        text-align: right;\n",
       "    }\n",
       "</style>\n",
       "<table border=\"1\" class=\"dataframe\">\n",
       "  <thead>\n",
       "    <tr style=\"text-align: right;\">\n",
       "      <th></th>\n",
       "      <th>country</th>\n",
       "      <th>continent</th>\n",
       "      <th>year</th>\n",
       "      <th>lifeExp</th>\n",
       "      <th>pop</th>\n",
       "      <th>gdpPercap</th>\n",
       "      <th>iso_alpha</th>\n",
       "      <th>iso_num</th>\n",
       "    </tr>\n",
       "  </thead>\n",
       "  <tbody>\n",
       "    <tr>\n",
       "      <th>1655</th>\n",
       "      <td>Vietnam</td>\n",
       "      <td>Asia</td>\n",
       "      <td>2007</td>\n",
       "      <td>74.249</td>\n",
       "      <td>85262356</td>\n",
       "      <td>2441.576404</td>\n",
       "      <td>VNM</td>\n",
       "      <td>704</td>\n",
       "    </tr>\n",
       "  </tbody>\n",
       "</table>\n",
       "</div>"
      ],
      "text/plain": [
       "      country continent  year  lifeExp       pop    gdpPercap iso_alpha  \\\n",
       "1655  Vietnam      Asia  2007   74.249  85262356  2441.576404       VNM   \n",
       "\n",
       "      iso_num  \n",
       "1655      704  "
      ]
     },
     "execution_count": 70,
     "metadata": {},
     "output_type": "execute_result"
    }
   ],
   "source": [
    "data2007[data2007.country==\"Vietnam\"]"
   ]
  },
  {
   "cell_type": "code",
   "execution_count": 71,
   "id": "552e2115-c8ac-4e2c-91a7-2068e675c810",
   "metadata": {},
   "outputs": [
    {
     "data": {
      "text/html": [
       "<div>\n",
       "<style scoped>\n",
       "    .dataframe tbody tr th:only-of-type {\n",
       "        vertical-align: middle;\n",
       "    }\n",
       "\n",
       "    .dataframe tbody tr th {\n",
       "        vertical-align: top;\n",
       "    }\n",
       "\n",
       "    .dataframe thead th {\n",
       "        text-align: right;\n",
       "    }\n",
       "</style>\n",
       "<table border=\"1\" class=\"dataframe\">\n",
       "  <thead>\n",
       "    <tr style=\"text-align: right;\">\n",
       "      <th></th>\n",
       "      <th>country</th>\n",
       "      <th>continent</th>\n",
       "      <th>year</th>\n",
       "      <th>lifeExp</th>\n",
       "      <th>pop</th>\n",
       "      <th>gdpPercap</th>\n",
       "      <th>iso_alpha</th>\n",
       "      <th>iso_num</th>\n",
       "    </tr>\n",
       "  </thead>\n",
       "  <tbody>\n",
       "    <tr>\n",
       "      <th>1235</th>\n",
       "      <td>Poland</td>\n",
       "      <td>Europe</td>\n",
       "      <td>2007</td>\n",
       "      <td>75.563</td>\n",
       "      <td>38518241</td>\n",
       "      <td>15389.92468</td>\n",
       "      <td>POL</td>\n",
       "      <td>616</td>\n",
       "    </tr>\n",
       "  </tbody>\n",
       "</table>\n",
       "</div>"
      ],
      "text/plain": [
       "     country continent  year  lifeExp       pop    gdpPercap iso_alpha  \\\n",
       "1235  Poland    Europe  2007   75.563  38518241  15389.92468       POL   \n",
       "\n",
       "      iso_num  \n",
       "1235      616  "
      ]
     },
     "execution_count": 71,
     "metadata": {},
     "output_type": "execute_result"
    }
   ],
   "source": [
    "data2007[data2007.country==\"Poland\"]"
   ]
  },
  {
   "cell_type": "code",
   "execution_count": 72,
   "id": "72a59ec4-6657-4e73-90c4-2cfe40d919de",
   "metadata": {},
   "outputs": [
    {
     "data": {
      "text/html": [
       "<div>\n",
       "<style scoped>\n",
       "    .dataframe tbody tr th:only-of-type {\n",
       "        vertical-align: middle;\n",
       "    }\n",
       "\n",
       "    .dataframe tbody tr th {\n",
       "        vertical-align: top;\n",
       "    }\n",
       "\n",
       "    .dataframe thead th {\n",
       "        text-align: right;\n",
       "    }\n",
       "</style>\n",
       "<table border=\"1\" class=\"dataframe\">\n",
       "  <thead>\n",
       "    <tr style=\"text-align: right;\">\n",
       "      <th></th>\n",
       "      <th>country</th>\n",
       "      <th>continent</th>\n",
       "      <th>year</th>\n",
       "      <th>lifeExp</th>\n",
       "      <th>pop</th>\n",
       "      <th>gdpPercap</th>\n",
       "      <th>iso_alpha</th>\n",
       "      <th>iso_num</th>\n",
       "    </tr>\n",
       "  </thead>\n",
       "  <tbody>\n",
       "    <tr>\n",
       "      <th>59</th>\n",
       "      <td>Argentina</td>\n",
       "      <td>Americas</td>\n",
       "      <td>2007</td>\n",
       "      <td>75.32</td>\n",
       "      <td>40301927</td>\n",
       "      <td>12779.37964</td>\n",
       "      <td>ARG</td>\n",
       "      <td>32</td>\n",
       "    </tr>\n",
       "  </tbody>\n",
       "</table>\n",
       "</div>"
      ],
      "text/plain": [
       "      country continent  year  lifeExp       pop    gdpPercap iso_alpha  \\\n",
       "59  Argentina  Americas  2007    75.32  40301927  12779.37964       ARG   \n",
       "\n",
       "    iso_num  \n",
       "59       32  "
      ]
     },
     "execution_count": 72,
     "metadata": {},
     "output_type": "execute_result"
    }
   ],
   "source": [
    "data2007[data2007.country==\"Argentina\"]"
   ]
  },
  {
   "cell_type": "markdown",
   "id": "98f8676a-e0b6-4721-bd82-336ae1b276a4",
   "metadata": {},
   "source": [
    "La gráfica debe quedar como se ve en la imagen.   \n",
    "![](../countries_similarities.png)"
   ]
  },
  {
   "cell_type": "markdown",
   "id": "3d4de1c4-219e-42d1-8679-f70bce01b0d9",
   "metadata": {},
   "source": [
    "## 🎉🎉 Congrats!!  \n",
    "\n",
    "## You've finished the notebook"
   ]
  }
 ],
 "metadata": {
  "kernelspec": {
   "display_name": "Python 3 (ipykernel)",
   "language": "python",
   "name": "python3"
  },
  "language_info": {
   "codemirror_mode": {
    "name": "ipython",
    "version": 3
   },
   "file_extension": ".py",
   "mimetype": "text/x-python",
   "name": "python",
   "nbconvert_exporter": "python",
   "pygments_lexer": "ipython3",
   "version": "3.8.19"
  }
 },
 "nbformat": 4,
 "nbformat_minor": 5
}
