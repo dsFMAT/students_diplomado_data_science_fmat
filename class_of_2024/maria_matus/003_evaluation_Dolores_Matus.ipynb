{
 "cells": [
  {
   "cell_type": "markdown",
   "id": "e3c1f71f-6296-4b85-bd3b-a566bf4099c6",
   "metadata": {},
   "source": [
    "## Ejercicio\n",
    "\n",
    "Teniendo las siguientes calificaciones, determine si un alumno excenta, para excentar, tiene que tener un promedio minimo de 80 y no reprobar ni un quiz, el minimo aprobatorio es 80 \n",
    "\n",
    "Hints: \n",
    "* Haga uso de suma y división para calcular el promedio\n",
    "* La variable excent debe de contener un booleano\n",
    "* Devolver un mensaje mencionando si el alumno excenta o no.\n",
    "\n",
    "  *i.e El alumno excenta: False*"
   ]
  },
  {
   "cell_type": "code",
   "execution_count": 11,
   "id": "29e8f73e-c2d5-4434-ad63-39008b19653e",
   "metadata": {},
   "outputs": [
    {
     "name": "stdout",
     "output_type": "stream",
     "text": [
      "El alumno excenta: False\n"
     ]
    }
   ],
   "source": [
    "quiz_1 = 85\n",
    "quiz_2 = 78\n",
    "quiz_3 = 92\n",
    "minimum_to_excent = 80\n",
    "\n",
    "avg = (quiz_1 + quiz_2 + quiz_3)/3\n",
    "excent = quiz_1 >= minimum_to_excent  and quiz_2 >= minimum_to_excent and quiz_3 >= minimum_to_excent and avg >= minimum_to_excent\n",
    "msg= f\"El alumno excenta: {excent}\"\n",
    "print(msg)\n"
   ]
  },
  {
   "cell_type": "code",
   "execution_count": 12,
   "id": "57bd45f2-f7da-4826-b279-a7d84c0a3807",
   "metadata": {},
   "outputs": [],
   "source": [
    "#Agregué algo extra para practicar:"
   ]
  },
  {
   "cell_type": "code",
   "execution_count": 16,
   "id": "69a0499a-707c-493f-a20f-63a6df101e56",
   "metadata": {},
   "outputs": [
    {
     "name": "stdout",
     "output_type": "stream",
     "text": [
      "El alumno con  calificaciones: 85, 78, 92 y promedio: 85.0 excenta: False\n"
     ]
    }
   ],
   "source": [
    "quiz_1 = 85\n",
    "quiz_2 = 78\n",
    "quiz_3 = 92\n",
    "minimum_to_excent = 80\n",
    "\n",
    "avg = (quiz_1 + quiz_2 + quiz_3)/3\n",
    "excent = quiz_1 >= minimum_to_excent  and quiz_2 >= minimum_to_excent and quiz_3 >= minimum_to_excent and avg >= minimum_to_excent\n",
    "msg= f\"El alumno con  calificaciones: {quiz_1}, {quiz_2}, {quiz_3} y promedio: {avg} excenta: {excent}\"\n",
    "print(msg)\n"
   ]
  },
  {
   "cell_type": "code",
   "execution_count": 18,
   "id": "a8fc2883-6915-493b-9952-e2659534d3cf",
   "metadata": {},
   "outputs": [
    {
     "name": "stdout",
     "output_type": "stream",
     "text": [
      "El alumno con  calificaciones: 85, 87, 92 y promedio: 88.0 excenta: True\n"
     ]
    }
   ],
   "source": [
    "# Probando que funciona con otras calificaciones y otro minimo aprobatorio:\n",
    "\n",
    "quiz_1 = 85\n",
    "quiz_2 = 87\n",
    "quiz_3 = 92\n",
    "minimum_to_excent = 85\n",
    "\n",
    "avg = (quiz_1 + quiz_2 + quiz_3)/3\n",
    "excent = quiz_1 >= minimum_to_excent  and quiz_2 >= minimum_to_excent and quiz_3 >= minimum_to_excent and avg >= minimum_to_excent\n",
    "msg= f\"El alumno con  calificaciones: {quiz_1}, {quiz_2}, {quiz_3} y promedio: {avg} excenta: {excent}\"\n",
    "print(msg)"
   ]
  },
  {
   "cell_type": "code",
   "execution_count": null,
   "id": "f54319f7-4aa2-48b1-b8df-1197c6d86536",
   "metadata": {},
   "outputs": [],
   "source": []
  }
 ],
 "metadata": {
  "kernelspec": {
   "display_name": "Python 3 (ipykernel)",
   "language": "python",
   "name": "python3"
  },
  "language_info": {
   "codemirror_mode": {
    "name": "ipython",
    "version": 3
   },
   "file_extension": ".py",
   "mimetype": "text/x-python",
   "name": "python",
   "nbconvert_exporter": "python",
   "pygments_lexer": "ipython3",
   "version": "3.8.19"
  }
 },
 "nbformat": 4,
 "nbformat_minor": 5
}
