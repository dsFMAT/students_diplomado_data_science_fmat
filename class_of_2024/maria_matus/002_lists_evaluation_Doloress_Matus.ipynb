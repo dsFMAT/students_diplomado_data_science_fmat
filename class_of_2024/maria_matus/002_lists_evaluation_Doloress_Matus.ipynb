{
 "cells": [
  {
   "cell_type": "markdown",
   "id": "4f7040f6-5da7-47f6-b077-8b8100f444a8",
   "metadata": {},
   "source": [
    "# Ejercicio\n",
    "\n",
    "Transformar una lista usando operaciones básicas\n",
    "\n",
    "Objetivo: Usar las operaciones de listas append, insert, del, pop, remove y modificación de elementos existentes para transformar la lista inicial en la lista objetivo.\n",
    "\n",
    "**Usar todas las opciones de manipulación de listas vistas en este notebook**\n",
    "\n",
    "Lista inicial:\n"
   ]
  },
  {
   "cell_type": "code",
   "execution_count": 11,
   "id": "bcc50554-b848-4324-9fe5-a57092fdeacf",
   "metadata": {},
   "outputs": [],
   "source": [
    "\n",
    "my_list = ['this', 'list', 'is', 'twenty', '25']\n"
   ]
  },
  {
   "cell_type": "code",
   "execution_count": 12,
   "id": "3a16781f-4372-4823-a1ea-0dcdb8ef869c",
   "metadata": {},
   "outputs": [],
   "source": [
    "\n",
    "my_list_obj = ['this list', 'is', 'fifty', '50']\n"
   ]
  },
  {
   "cell_type": "code",
   "execution_count": 13,
   "id": "f953bd30-710a-4bd8-bcc4-8d2bef744516",
   "metadata": {},
   "outputs": [
    {
     "data": {
      "text/plain": [
       "False"
      ]
     },
     "execution_count": 13,
     "metadata": {},
     "output_type": "execute_result"
    }
   ],
   "source": [
    "my_list==my_list_obj"
   ]
  },
  {
   "cell_type": "code",
   "execution_count": 33,
   "id": "853b359c-ab58-4186-856b-567499b10cb0",
   "metadata": {},
   "outputs": [
    {
     "name": "stdout",
     "output_type": "stream",
     "text": [
      "Esta es la lista inicial: \n",
      "['this', 'list', 'is', 'twenty', '25'] \n",
      "\n",
      "Se agrega '50' al final de la lista: \n",
      "['this', 'list', 'is', 'twenty', '25', '50'] \n",
      "\n",
      "Se elimina el elemento de la entrada 3: \n",
      "['this', 'list', 'is', '25', '50'] \n",
      "\n",
      "Se modifica el elemento de la primera entrada: \n",
      "['this list', 'list', 'is', '25', '50'] \n",
      "\n",
      "Se remueve el elemento 'list': \n",
      "['this list', 'is', '25', '50'] \n",
      "\n",
      "Se agrega el elemento 'fifty' en la entrada 2: \n",
      "['this list', 'is', 'fifty', '25', '50'] \n",
      "\n",
      "Se elimina el elemento de la tercera entrada: \n",
      "['this list', 'is', 'fifty', '50'] \n",
      "Esta es la lista objetivo.\n"
     ]
    }
   ],
   "source": [
    "## Responde el ejercicio en esta celda\n",
    "\n",
    "#Lista inicial:\n",
    "my_list = ['this', 'list', 'is', 'twenty', '25']\n",
    "print(f\"Esta es la lista inicial: \\n{my_list} \\n\")\n",
    "\n",
    "my_list.append('50')\n",
    "print(f\"Se agrega '50' al final de la lista: \\n{my_list} \\n\")\n",
    "\n",
    "my_list.pop(3)\n",
    "print(f\"Se elimina el elemento de la entrada 3: \\n{my_list} \\n\")\n",
    "\n",
    "my_list[0]= 'this list'\n",
    "print(f\"Se modifica el elemento de la primera entrada: \\n{my_list} \\n\")\n",
    "\n",
    "my_list.remove('list')\n",
    "print(f\"Se remueve el elemento 'list': \\n{my_list} \\n\")\n",
    "\n",
    "my_list.insert(2, 'fifty')\n",
    "print(f\"Se agrega el elemento 'fifty' en la entrada 2: \\n{my_list} \\n\")\n",
    "\n",
    "del my_list[3]\n",
    "print(f\"Se elimina el elemento de la tercera entrada: \\n{my_list} \\nEsta es la lista objetivo.\")"
   ]
  },
  {
   "cell_type": "code",
   "execution_count": 34,
   "id": "57439d42-f4e1-47a9-9367-0a630e1c60a6",
   "metadata": {},
   "outputs": [
    {
     "data": {
      "text/plain": [
       "True"
      ]
     },
     "execution_count": 34,
     "metadata": {},
     "output_type": "execute_result"
    }
   ],
   "source": [
    "my_list == my_list_obj"
   ]
  },
  {
   "cell_type": "code",
   "execution_count": null,
   "id": "bfd90867-db62-4aae-8a30-160ddfc96a04",
   "metadata": {},
   "outputs": [],
   "source": []
  },
  {
   "cell_type": "code",
   "execution_count": null,
   "id": "6c245fc1-1cef-4e03-a903-414deea43c1d",
   "metadata": {},
   "outputs": [],
   "source": []
  }
 ],
 "metadata": {
  "kernelspec": {
   "display_name": "Python 3 (ipykernel)",
   "language": "python",
   "name": "python3"
  },
  "language_info": {
   "codemirror_mode": {
    "name": "ipython",
    "version": 3
   },
   "file_extension": ".py",
   "mimetype": "text/x-python",
   "name": "python",
   "nbconvert_exporter": "python",
   "pygments_lexer": "ipython3",
   "version": "3.8.19"
  }
 },
 "nbformat": 4,
 "nbformat_minor": 5
}
