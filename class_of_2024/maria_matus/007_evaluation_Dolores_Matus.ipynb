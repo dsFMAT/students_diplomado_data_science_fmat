{
 "cells": [
  {
   "cell_type": "markdown",
   "id": "24eff452-17c0-421d-8744-7f1120c23a25",
   "metadata": {},
   "source": [
    "# Ejercicio"
   ]
  },
  {
   "cell_type": "markdown",
   "id": "27571c32-e596-42f8-a6df-981125147842",
   "metadata": {},
   "source": [
    "Instrucciones:\n",
    "\n",
    "1. Crea un diccionario llamado libro con las siguientes llaves y valores:\n",
    "\n",
    "'title': 'Cien Años de Soledad'\n",
    "'author': 'Gabriel García Márquez'\n",
    "'year': 1967\n",
    "\n",
    "2. Imprime el valor asociado a la llave 'título' y 'autor' del diccionario libro.\n",
    "\n",
    "3. Agrega una nueva entrada al diccionario: 'genre': 'Realismo mágico'.\n",
    "\n",
    "5. Modifica el valor asociado a la llave 'year' para que sea 1968.\n",
    "\n",
    "6. Elimina la entrada con la llave 'autor'.\n",
    "\n",
    "7. Muestra todas las llaves del diccionario usando el método keys().\n",
    "\n",
    "8. Muestra todos los valores del diccionario usando el método values().\n",
    "\n",
    "9. Muestra todos los pares llave-valor del diccionario usando el método items().\n",
    "\n",
    "10. Usa el método get() para obtener el valor asociado a la llave 'género'.\n",
    "\n",
    "11. Crea un diccionario llamado inventary con las siguientes llaves y valores:\n",
    "\n",
    "* 'pencils': 20\n",
    "* 'books': 10\n",
    "* 'erasers': 5\n",
    "\n",
    "12. Agrega una nueva entrada: 'markers': 15.\n",
    "\n",
    "13. Modifica el valor asociado a la llave 'books' para que sea 12.\n",
    "\n",
    "14. Muestra el diccionario resultante."
   ]
  },
  {
   "cell_type": "code",
   "execution_count": 32,
   "id": "00a7ecc3-7d6f-497c-8f20-0d2116106043",
   "metadata": {},
   "outputs": [
    {
     "name": "stdout",
     "output_type": "stream",
     "text": [
      "{'title': 'Cien Años de Soledad', 'author': 'Gabriel García Márquez', 'year': 1967}\n"
     ]
    }
   ],
   "source": [
    "#1. Crea un diccionario llamado libro con las siguientes llaves y valores:\n",
    "\n",
    "libro = {\n",
    "    \"title\": \"Cien Años de Soledad\",\n",
    "    \"author\": \"Gabriel García Márquez\",\n",
    "    \"year\": 1967\n",
    "}\n",
    "print(libro)\n"
   ]
  },
  {
   "cell_type": "code",
   "execution_count": 33,
   "id": "7109611e-f407-4274-96e5-2adfb5433884",
   "metadata": {},
   "outputs": [
    {
     "name": "stdout",
     "output_type": "stream",
     "text": [
      "Título: Cien Años de Soledad\n",
      "Autor: Gabriel García Márquez\n"
     ]
    }
   ],
   "source": [
    "#2. Imprime el valor asociado a la llave 'título' y 'autor' del diccionario libro.\n",
    "\n",
    "titulo = libro[\"title\"] \n",
    "autor = libro[\"author\"]\n",
    "\n",
    "print(\"Título:\", titulo)\n",
    "print(\"Autor:\", autor)"
   ]
  },
  {
   "cell_type": "code",
   "execution_count": 34,
   "id": "5bc22aa4-694d-458f-bf6c-a3c6b96c50eb",
   "metadata": {},
   "outputs": [
    {
     "name": "stdout",
     "output_type": "stream",
     "text": [
      "{'title': 'Cien Años de Soledad', 'author': 'Gabriel García Márquez', 'year': 1967, 'genre': 'Realismo mágico'}\n"
     ]
    }
   ],
   "source": [
    "#3. Agrega una nueva entrada al diccionario: 'genre': 'Realismo mágico'.\n",
    "libro[\"genre\"] = 'Realismo mágico'\n",
    "print(libro)"
   ]
  },
  {
   "cell_type": "code",
   "execution_count": 35,
   "id": "08ded385-a083-45ea-a64c-6dfcda080252",
   "metadata": {},
   "outputs": [],
   "source": [
    "#No hay 4"
   ]
  },
  {
   "cell_type": "code",
   "execution_count": 36,
   "id": "cf2f0385-bfa3-4275-9fa6-2ad3382667c6",
   "metadata": {},
   "outputs": [
    {
     "name": "stdout",
     "output_type": "stream",
     "text": [
      "{'title': 'Cien Años de Soledad', 'author': 'Gabriel García Márquez', 'year': 1968, 'genre': 'Realismo mágico'}\n"
     ]
    }
   ],
   "source": [
    "#5. Modifica el valor asociado a la llave 'year' para que sea 1968.\n",
    "libro[\"year\"] = 1968\n",
    "print(libro)"
   ]
  },
  {
   "cell_type": "code",
   "execution_count": 37,
   "id": "d8942071-b9a0-4ab7-98d9-b4326d21c47c",
   "metadata": {},
   "outputs": [
    {
     "name": "stdout",
     "output_type": "stream",
     "text": [
      "{'title': 'Cien Años de Soledad', 'year': 1968, 'genre': 'Realismo mágico'}\n"
     ]
    }
   ],
   "source": [
    "#6. Elimina la entrada con la llave 'autor'.\n",
    "del libro[\"author\"]\n",
    "print(libro)"
   ]
  },
  {
   "cell_type": "code",
   "execution_count": 38,
   "id": "834eb5dc-40c3-4308-b66b-b636b4468dfa",
   "metadata": {},
   "outputs": [
    {
     "name": "stdout",
     "output_type": "stream",
     "text": [
      "Llaves: dict_keys(['title', 'year', 'genre'])\n"
     ]
    }
   ],
   "source": [
    "#7. Muestra todas las llaves del diccionario usando el método keys().\n",
    "llaves = libro.keys()\n",
    "print(\"Llaves:\", llaves)\n"
   ]
  },
  {
   "cell_type": "code",
   "execution_count": 39,
   "id": "6e89b98d-e7c5-4689-8dd7-7fa85b425a3a",
   "metadata": {},
   "outputs": [
    {
     "name": "stdout",
     "output_type": "stream",
     "text": [
      "Valores: dict_values(['Cien Años de Soledad', 1968, 'Realismo mágico'])\n"
     ]
    }
   ],
   "source": [
    "# 8. Muestra todos los valores del diccionario usando el método values().\n",
    "valores = libro.values()\n",
    "print(\"Valores:\", valores)\n"
   ]
  },
  {
   "cell_type": "code",
   "execution_count": 40,
   "id": "208a5336-ff61-4f9e-97d7-eafb8ab58917",
   "metadata": {},
   "outputs": [
    {
     "name": "stdout",
     "output_type": "stream",
     "text": [
      "Par llave-valor: dict_items([('title', 'Cien Años de Soledad'), ('year', 1968), ('genre', 'Realismo mágico')])\n"
     ]
    }
   ],
   "source": [
    "# 9. Muestra todos los pares llave-valor del diccionario usando el método items().\n",
    "\n",
    "items = libro.items()\n",
    "print(\"Par llave-valor:\", items)\n"
   ]
  },
  {
   "cell_type": "code",
   "execution_count": 41,
   "id": "2b10bc3f-40ae-483e-a177-fe6ef1c272b1",
   "metadata": {},
   "outputs": [
    {
     "name": "stdout",
     "output_type": "stream",
     "text": [
      "Género: Realismo mágico\n"
     ]
    }
   ],
   "source": [
    "# 10. Usa el método get() para obtener el valor asociado a la llave 'género'.\n",
    "genero = libro.get(\"genre\")\n",
    "print(\"Género:\", genero)"
   ]
  },
  {
   "cell_type": "code",
   "execution_count": 42,
   "id": "c0a3cdd3-abc1-4a20-a05e-10d7ddc51bed",
   "metadata": {},
   "outputs": [
    {
     "name": "stdout",
     "output_type": "stream",
     "text": [
      "{'pencils': 20, 'books': 10, 'erasers': 5}\n"
     ]
    }
   ],
   "source": [
    "#11. Crea un diccionario llamado inventary con las siguientes llaves y valores:\n",
    "#* 'pencils': 20\n",
    "#* 'books': 10\n",
    "#* 'erasers': 5\n",
    "\n",
    "inventary = {\n",
    "    \"pencils\": 20,\n",
    "    \"books\": 10,\n",
    "    \"erasers\": 5\n",
    "}\n",
    "print(inventary)"
   ]
  },
  {
   "cell_type": "code",
   "execution_count": 43,
   "id": "51be437f-4ecd-4783-b243-bf809588efb9",
   "metadata": {},
   "outputs": [
    {
     "name": "stdout",
     "output_type": "stream",
     "text": [
      "{'pencils': 20, 'books': 10, 'erasers': 5, 'markers': 15}\n"
     ]
    }
   ],
   "source": [
    "#12. Agrega una nueva entrada: 'markers': 15.\n",
    "\n",
    "inventary[\"markers\"] = 15\n",
    "print(inventary)"
   ]
  },
  {
   "cell_type": "code",
   "execution_count": 44,
   "id": "33590d06-fbdc-4a7e-bf61-a9c1a2e2abd3",
   "metadata": {},
   "outputs": [
    {
     "name": "stdout",
     "output_type": "stream",
     "text": [
      "{'pencils': 20, 'books': 12, 'erasers': 5, 'markers': 15}\n"
     ]
    }
   ],
   "source": [
    "#13. Modifica el valor asociado a la llave 'books' para que sea 12.\n",
    "\n",
    "inventary[\"books\"] = 12\n",
    "print(inventary)"
   ]
  },
  {
   "cell_type": "code",
   "execution_count": 45,
   "id": "c0b40ec8-def0-4a1e-930d-b9c3b3f2f337",
   "metadata": {},
   "outputs": [
    {
     "name": "stdout",
     "output_type": "stream",
     "text": [
      "Diccionario resultante:\n",
      "PENCILS: 20\n",
      "BOOKS: 12\n",
      "ERASERS: 5\n",
      "MARKERS: 15\n"
     ]
    }
   ],
   "source": [
    "#14. Muestra el diccionario resultante.\n",
    "print(\"Diccionario resultante:\")\n",
    "for llave, valor in inventary.items():\n",
    "    print(f\"{llave.upper()}: {valor}\")"
   ]
  },
  {
   "cell_type": "markdown",
   "id": "44324513-2a6d-4ffa-9db7-e4a6e4785da9",
   "metadata": {},
   "source": [
    "# Ejercicio Opcional"
   ]
  },
  {
   "cell_type": "markdown",
   "id": "d3f3f9aa-a02b-494b-8e5e-0b82d41bd85b",
   "metadata": {},
   "source": [
    "Vamos a crear un programa para gestionar una lista de contactos utilizando diccionarios. El programa permitirá al usuario realizar las siguientes operaciones:\n",
    "\n",
    "* Añadir un nuevo contacto.\n",
    "* Modificar el número de teléfono de un contacto existente.\n",
    "* Eliminar un contacto.\n",
    "* Mostrar todos los contactos.\n",
    "\n",
    "Instrucciones:\n",
    "\n",
    "1. Define un diccionario llamado contactos para almacenar los nombres como llaves y los números de teléfono como valores.\n",
    "2. Crea funciones para cada una de las operaciones:\n",
    "    * agregar_contacto(contactos, nombre, telefono)\n",
    "    * modificar_contacto(contactos, nombre, telefono)\n",
    "    * eliminar_contacto(contactos, nombre)\n",
    "    * mostrar_contactos(contactos)\n",
    "3. Implementa un menú que permita al usuario elegir la operación que desea realizar.\n",
    "4. Utiliza un ciclo para mantener el programa en ejecución hasta que el usuario decida salir.\n",
    "\n",
    "Hint: Usa la siguiente estructura\n"
   ]
  },
  {
   "cell_type": "code",
   "execution_count": 1,
   "id": "1ed8c00e-0b07-470c-ac7c-29b910583866",
   "metadata": {},
   "outputs": [
    {
     "name": "stdout",
     "output_type": "stream",
     "text": [
      "\n",
      "Gestión de Contactos\n",
      "1. Agregar contacto\n",
      "2. Modificar contacto\n",
      "3. Eliminar contacto\n",
      "4. Mostrar contactos\n",
      "5. Salir\n"
     ]
    },
    {
     "name": "stdin",
     "output_type": "stream",
     "text": [
      "Elige una opción (1-5):  1\n",
      "Introduce el nombre del contacto:  Henrry Nadal\n",
      "Introduce el número de teléfono:  5425245123\n"
     ]
    },
    {
     "name": "stdout",
     "output_type": "stream",
     "text": [
      "Contacto 'Henrry Nadal' agregado con número 5425245123.\n",
      "\n",
      "Gestión de Contactos\n",
      "1. Agregar contacto\n",
      "2. Modificar contacto\n",
      "3. Eliminar contacto\n",
      "4. Mostrar contactos\n",
      "5. Salir\n"
     ]
    },
    {
     "name": "stdin",
     "output_type": "stream",
     "text": [
      "Elige una opción (1-5):  1\n",
      "Introduce el nombre del contacto:  Alfredo Méndez\n",
      "Introduce el número de teléfono:  2345635480\n"
     ]
    },
    {
     "name": "stdout",
     "output_type": "stream",
     "text": [
      "Contacto 'Alfredo Méndez' agregado con número 2345635480.\n",
      "\n",
      "Gestión de Contactos\n",
      "1. Agregar contacto\n",
      "2. Modificar contacto\n",
      "3. Eliminar contacto\n",
      "4. Mostrar contactos\n",
      "5. Salir\n"
     ]
    },
    {
     "name": "stdin",
     "output_type": "stream",
     "text": [
      "Elige una opción (1-5):  1\n",
      "Introduce el nombre del contacto:  José Batún\n",
      "Introduce el número de teléfono:  8076519912\n"
     ]
    },
    {
     "name": "stdout",
     "output_type": "stream",
     "text": [
      "Contacto 'José Batún' agregado con número 8076519912.\n",
      "\n",
      "Gestión de Contactos\n",
      "1. Agregar contacto\n",
      "2. Modificar contacto\n",
      "3. Eliminar contacto\n",
      "4. Mostrar contactos\n",
      "5. Salir\n"
     ]
    },
    {
     "name": "stdin",
     "output_type": "stream",
     "text": [
      "Elige una opción (1-5):  2\n",
      "Introduce el nombre del contacto:  José Batún\n",
      "Introduce el nuevo número de teléfono:  99912333360\n"
     ]
    },
    {
     "name": "stdout",
     "output_type": "stream",
     "text": [
      "Número de teléfono del contacto 'José Batún' actualizado a 99912333360.\n",
      "\n",
      "Gestión de Contactos\n",
      "1. Agregar contacto\n",
      "2. Modificar contacto\n",
      "3. Eliminar contacto\n",
      "4. Mostrar contactos\n",
      "5. Salir\n"
     ]
    },
    {
     "name": "stdin",
     "output_type": "stream",
     "text": [
      "Elige una opción (1-5):  2\n",
      "Introduce el nombre del contacto:  Dolores Matus\n",
      "Introduce el nuevo número de teléfono:  8328787587587\n"
     ]
    },
    {
     "name": "stdout",
     "output_type": "stream",
     "text": [
      "El contacto 'Dolores Matus' no existe.\n",
      "\n",
      "Gestión de Contactos\n",
      "1. Agregar contacto\n",
      "2. Modificar contacto\n",
      "3. Eliminar contacto\n",
      "4. Mostrar contactos\n",
      "5. Salir\n"
     ]
    },
    {
     "name": "stdin",
     "output_type": "stream",
     "text": [
      "Elige una opción (1-5):  1\n",
      "Introduce el nombre del contacto:  Dolores Matus\n",
      "Introduce el número de teléfono:  2878373656\n"
     ]
    },
    {
     "name": "stdout",
     "output_type": "stream",
     "text": [
      "Contacto 'Dolores Matus' agregado con número 2878373656.\n",
      "\n",
      "Gestión de Contactos\n",
      "1. Agregar contacto\n",
      "2. Modificar contacto\n",
      "3. Eliminar contacto\n",
      "4. Mostrar contactos\n",
      "5. Salir\n"
     ]
    },
    {
     "name": "stdin",
     "output_type": "stream",
     "text": [
      "Elige una opción (1-5):  3\n",
      "Introduce el nombre del contacto:  Alfredo Méndez\n"
     ]
    },
    {
     "name": "stdout",
     "output_type": "stream",
     "text": [
      "Contacto 'Alfredo Méndez' eliminado.\n",
      "\n",
      "Gestión de Contactos\n",
      "1. Agregar contacto\n",
      "2. Modificar contacto\n",
      "3. Eliminar contacto\n",
      "4. Mostrar contactos\n",
      "5. Salir\n"
     ]
    },
    {
     "name": "stdin",
     "output_type": "stream",
     "text": [
      "Elige una opción (1-5):  4\n"
     ]
    },
    {
     "name": "stdout",
     "output_type": "stream",
     "text": [
      "\n",
      "Lista de contactos:\n",
      "Nombre: Henrry Nadal, Teléfono: 5425245123\n",
      "Nombre: José Batún, Teléfono: 99912333360\n",
      "Nombre: Dolores Matus, Teléfono: 2878373656\n",
      "\n",
      "Gestión de Contactos\n",
      "1. Agregar contacto\n",
      "2. Modificar contacto\n",
      "3. Eliminar contacto\n",
      "4. Mostrar contactos\n",
      "5. Salir\n"
     ]
    },
    {
     "name": "stdin",
     "output_type": "stream",
     "text": [
      "Elige una opción (1-5):  2\n",
      "Introduce el nombre del contacto:  Henrry Nadal\n",
      "Introduce el nuevo número de teléfono:  9873676870\n"
     ]
    },
    {
     "name": "stdout",
     "output_type": "stream",
     "text": [
      "Número de teléfono del contacto 'Henrry Nadal' actualizado a 9873676870.\n",
      "\n",
      "Gestión de Contactos\n",
      "1. Agregar contacto\n",
      "2. Modificar contacto\n",
      "3. Eliminar contacto\n",
      "4. Mostrar contactos\n",
      "5. Salir\n"
     ]
    },
    {
     "name": "stdin",
     "output_type": "stream",
     "text": [
      "Elige una opción (1-5):  4\n"
     ]
    },
    {
     "name": "stdout",
     "output_type": "stream",
     "text": [
      "\n",
      "Lista de contactos:\n",
      "Nombre: Henrry Nadal, Teléfono: 9873676870\n",
      "Nombre: José Batún, Teléfono: 99912333360\n",
      "Nombre: Dolores Matus, Teléfono: 2878373656\n",
      "\n",
      "Gestión de Contactos\n",
      "1. Agregar contacto\n",
      "2. Modificar contacto\n",
      "3. Eliminar contacto\n",
      "4. Mostrar contactos\n",
      "5. Salir\n"
     ]
    },
    {
     "name": "stdin",
     "output_type": "stream",
     "text": [
      "Elige una opción (1-5):  3\n",
      "Introduce el nombre del contacto:  José Batún\n"
     ]
    },
    {
     "name": "stdout",
     "output_type": "stream",
     "text": [
      "Contacto 'José Batún' eliminado.\n",
      "\n",
      "Gestión de Contactos\n",
      "1. Agregar contacto\n",
      "2. Modificar contacto\n",
      "3. Eliminar contacto\n",
      "4. Mostrar contactos\n",
      "5. Salir\n"
     ]
    },
    {
     "name": "stdin",
     "output_type": "stream",
     "text": [
      "Elige una opción (1-5):  4\n"
     ]
    },
    {
     "name": "stdout",
     "output_type": "stream",
     "text": [
      "\n",
      "Lista de contactos:\n",
      "Nombre: Henrry Nadal, Teléfono: 9873676870\n",
      "Nombre: Dolores Matus, Teléfono: 2878373656\n",
      "\n",
      "Gestión de Contactos\n",
      "1. Agregar contacto\n",
      "2. Modificar contacto\n",
      "3. Eliminar contacto\n",
      "4. Mostrar contactos\n",
      "5. Salir\n"
     ]
    },
    {
     "name": "stdin",
     "output_type": "stream",
     "text": [
      "Elige una opción (1-5):  5\n"
     ]
    },
    {
     "name": "stdout",
     "output_type": "stream",
     "text": [
      "Saliendo del programa.\n"
     ]
    }
   ],
   "source": [
    "# Definir el diccionario de contactos\n",
    "contactos = {}\n",
    "\n",
    "# Función para agregar un nuevo contacto\n",
    "def agregar_contacto(contactos, nombre, telefono):\n",
    "    if nombre in contactos:\n",
    "        print(f\"El contacto '{nombre}' ya existe.\")\n",
    "    else:\n",
    "        contactos[nombre] = telefono\n",
    "        print(f\"Contacto '{nombre}' agregado con número {telefono}.\")\n",
    "\n",
    "# Función para modificar el número de teléfono de un contacto existente\n",
    "def modificar_contacto(contactos, nombre, telefono):\n",
    "    if nombre in contactos:\n",
    "        contactos[nombre] = telefono\n",
    "        print(f\"Número de teléfono del contacto '{nombre}' actualizado a {telefono}.\")\n",
    "    else:\n",
    "        print(f\"El contacto '{nombre}' no existe.\")\n",
    "\n",
    "# Función para eliminar un contacto\n",
    "def eliminar_contacto(contactos, nombre):\n",
    "    if nombre in contactos:\n",
    "        del contactos[nombre]\n",
    "        print(f\"Contacto '{nombre}' eliminado.\")\n",
    "    else:\n",
    "        print(f\"El contacto '{nombre}' no existe.\")\n",
    "\n",
    "# Función para mostrar todos los contactos\n",
    "def mostrar_contactos(contactos):\n",
    "    if contactos:\n",
    "        print(\"\\nLista de contactos:\")\n",
    "        for nombre, telefono in contactos.items():\n",
    "            print(f\"Nombre: {nombre}, Teléfono: {telefono}\")\n",
    "    else:\n",
    "        print(\"No hay contactos en la lista.\")\n",
    "\n",
    "# Menú para gestionar los contactos\n",
    "def menu():\n",
    "    while True:\n",
    "        print(\"\\nGestión de Contactos\")\n",
    "        print(\"1. Agregar contacto\")\n",
    "        print(\"2. Modificar contacto\")\n",
    "        print(\"3. Eliminar contacto\")\n",
    "        print(\"4. Mostrar contactos\")\n",
    "        print(\"5. Salir\")\n",
    "\n",
    "        opcion = input(\"Elige una opción (1-5): \")\n",
    "\n",
    "        if opcion == '1':\n",
    "            nombre = input(\"Introduce el nombre del contacto: \")\n",
    "            telefono = input(\"Introduce el número de teléfono: \")\n",
    "            agregar_contacto(contactos, nombre, telefono)\n",
    "        elif opcion == '2':\n",
    "            nombre = input(\"Introduce el nombre del contacto: \")\n",
    "            telefono = input(\"Introduce el nuevo número de teléfono: \")\n",
    "            modificar_contacto(contactos, nombre, telefono)\n",
    "        elif opcion == '3':\n",
    "            nombre = input(\"Introduce el nombre del contacto: \")\n",
    "            eliminar_contacto(contactos, nombre)\n",
    "        elif opcion == '4':\n",
    "            mostrar_contactos(contactos)\n",
    "        elif opcion == '5':\n",
    "            print(\"Saliendo del programa.\")\n",
    "            break\n",
    "        else:\n",
    "            print(\"Opción no válida. Inténtalo de nuevo.\")\n",
    "\n",
    "# Ejecutar el menú\n",
    "menu()\n"
   ]
  },
  {
   "cell_type": "code",
   "execution_count": null,
   "id": "520903a1-e0b6-4c1e-ab5a-701fff451ae8",
   "metadata": {},
   "outputs": [],
   "source": []
  },
  {
   "cell_type": "code",
   "execution_count": null,
   "id": "cc5ff568-e972-4ec9-b092-037ccddd6197",
   "metadata": {},
   "outputs": [],
   "source": []
  }
 ],
 "metadata": {
  "kernelspec": {
   "display_name": "Python 3 (ipykernel)",
   "language": "python",
   "name": "python3"
  },
  "language_info": {
   "codemirror_mode": {
    "name": "ipython",
    "version": 3
   },
   "file_extension": ".py",
   "mimetype": "text/x-python",
   "name": "python",
   "nbconvert_exporter": "python",
   "pygments_lexer": "ipython3",
   "version": "3.8.19"
  }
 },
 "nbformat": 4,
 "nbformat_minor": 5
}
