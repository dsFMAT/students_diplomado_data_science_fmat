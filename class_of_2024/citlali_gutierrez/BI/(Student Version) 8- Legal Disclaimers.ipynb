{
 "cells": [
  {
   "cell_type": "markdown",
   "id": "6746de20-d093-4a16-860d-b9720a48907d",
   "metadata": {
    "slideshow": {
     "slide_type": "slide"
    }
   },
   "source": [
    "#### Diplomado en Ciencia de Datos\n",
    "Módulo 2: Business Intelligence  \n",
    "## Tema 8: Legal Disclaimers\n",
    "\n",
    "*Notebook by [Pedro V Hernandez Serrano](https://github.com/pedrohserrano)*"
   ]
  },
  {
   "cell_type": "markdown",
   "id": "71f6c9b7-0d73-47a7-a665-f8699f86e329",
   "metadata": {},
   "source": [
    "---\n",
    "![](../img/header.jpg)"
   ]
  },
  {
   "cell_type": "markdown",
   "id": "00d5c027-0cda-4d2b-9ed2-9cde545746ae",
   "metadata": {
    "tags": []
   },
   "source": [
    "# Preparando el Reporte final\n",
    "\n",
    "En este notebook vamos a escribir los disclaimers legales (o descargo de responsabilidades) que corresponden a los 3 tipos de disclaimers\n",
    "\n",
    "![](../img/disclaimers.png)\n",
    "\n",
    "**IMPORTANTE: La idea es que usen las respuestas de estos ejercicios en su reporte final** 😃"
   ]
  },
  {
   "cell_type": "markdown",
   "id": "891afd0f-ea20-4985-bf22-09112944c2d5",
   "metadata": {
    "tags": []
   },
   "source": [
    "---\n",
    "# EJERCICIO 1\n",
    "\n",
    "- **Escenario**: Imagina que tu organización está utilizando los datos de Inside Airbnb para analizar el mercado de alquileres en varias ciudades.\n",
    "    - Escribe un breve párrafo explicando cómo se obtuvieron los datos de Inside Airbnb y cómo piensan utilizarlos en el análisis. \n",
    "    - Menciona de manera breve los disclaimers y texto de transparencia en cuanto al origen de los datos como aparecen en el sitio: [**Inside Airbnb**](https://insideairbnb.com/)"
   ]
  },
  {
   "cell_type": "markdown",
   "id": "2a5cca34-89fe-489c-b4b0-f0ff61e38bb2",
   "metadata": {},
   "source": [
    "Los datos de Inside Airbnb se obtienen a través de web scraping, recopilando información pública de listados de Airbnb en diversas ciudades. Esta información incluye detalles sobre precios, ubicación, disponibilidad y características de los alojamientos. En nuestro análisis, planeamos utilizar estos datos para evaluar las tendencias del mercado de alquileres, identificar patrones de precios y entender el impacto del alquiler a corto plazo en las comunidades locales. Es importante mencionar que, según el sitio, los datos pueden no reflejar la realidad completa del mercado, ya que están basados en información pública y pueden estar sujetos a errores o cambios. Además, Inside Airbnb enfatiza que estos datos son solo una herramienta de análisis y no deben interpretarse como una representación exhaustiva de todas las propiedades disponibles.\n",
    "\n"
   ]
  },
  {
   "cell_type": "markdown",
   "id": "cc573db4-e5c0-4315-ad4b-39f05b6ff98a",
   "metadata": {
    "tags": []
   },
   "source": [
    "---\n",
    "# EJERCICIO 2\n",
    "\n",
    "- Basado en el mismo escenario\n",
    "    - Escribe un breve párrafo sobre la licencia bajo la cual estás utilizando los datos de Inside Airbnb.\n",
    "    - Explica si es posible usar estos datos para fines comerciales, y qué requisitos debes cumplir en cuanto a los términos de uso de la licencia en caso que el analisis se haga público."
   ]
  },
  {
   "cell_type": "markdown",
   "id": "b5ab706b-3405-482e-a06a-1c85b54f2bf0",
   "metadata": {
    "tags": []
   },
   "source": [
    "Los datos de Inside Airbnb se utilizan bajo una licencia de uso abierto que permite su uso y distribución, siempre y cuando se respete la atribución adecuada a la fuente. Estos datos pueden ser utilizados para fines comerciales, pero si el análisis se hace público, es fundamental cumplir con los requisitos de los términos de uso de la licencia. Esto incluye dar crédito a Inside Airbnb, indicar cualquier modificación realizada a los datos originales y asegurar que el análisis no implique una representación errónea de la información. Asimismo, se debe mencionar que los datos son de carácter público y están sujetos a las limitaciones y disclaimers establecidos por el sitio.\n",
    "\n"
   ]
  },
  {
   "cell_type": "markdown",
   "id": "54aabf13-f954-44be-8c02-65c457bb19e6",
   "metadata": {},
   "source": [
    "---\n",
    "# EJERCICIO 3\n",
    "\n",
    "- Aunque los datos no incluyen información sensible de los Airbnb hosts, existe la posibilidad de que ciertos datos, combinados con otras fuentes, puedan llevar a la identificación de propietarios individuales.\n",
    "    - Escribe un breve párrafo describiendo cómo asegurarás que los resultados de tu análisis respeten las normativas de protección de dato.\n",
    "    - **Hint:** Que puedes decir sobre **Anonimización?** Checa el siguiente video para aprender un [método de anonimización simple](https://www.youtube.com/watch?v=3JjwQHMFDvc)"
   ]
  },
  {
   "cell_type": "code",
   "execution_count": null,
   "id": "74fce850-4627-4c01-8406-1b16cca59c61",
   "metadata": {},
   "outputs": [],
   "source": [
    "\n",
    "\n"
   ]
  },
  {
   "cell_type": "markdown",
   "id": "3d4de1c4-219e-42d1-8679-f70bce01b0d9",
   "metadata": {},
   "source": [
    "## 🎉🎉 Congrats!!  \n",
    "\n",
    "## You've finished the notebook"
   ]
  }
 ],
 "metadata": {
  "kernelspec": {
   "display_name": "Python 3 (ipykernel)",
   "language": "python",
   "name": "python3"
  },
  "language_info": {
   "codemirror_mode": {
    "name": "ipython",
    "version": 3
   },
   "file_extension": ".py",
   "mimetype": "text/x-python",
   "name": "python",
   "nbconvert_exporter": "python",
   "pygments_lexer": "ipython3",
   "version": "3.8.19"
  }
 },
 "nbformat": 4,
 "nbformat_minor": 5
}
