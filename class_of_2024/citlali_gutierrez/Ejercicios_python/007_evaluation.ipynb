{
 "cells": [
  {
   "cell_type": "markdown",
   "id": "24eff452-17c0-421d-8744-7f1120c23a25",
   "metadata": {},
   "source": [
    "# Ejercicio"
   ]
  },
  {
   "cell_type": "markdown",
   "id": "27571c32-e596-42f8-a6df-981125147842",
   "metadata": {},
   "source": [
    "Instrucciones:\n",
    "\n",
    "1. Crea un diccionario llamado libro con las siguientes llaves y valores:\n",
    "\n",
    "'title': 'Cien Años de Soledad'\n",
    "'author': 'Gabriel García Márquez'\n",
    "'year': 1967\n",
    "\n",
    "2. Imprime el valor asociado a la llave 'título' y 'autor' del diccionario libro.\n",
    "\n",
    "3. Agrega una nueva entrada al diccionario: 'genre': 'Realismo mágico'.\n",
    "\n",
    "5. Modifica el valor asociado a la llave 'year' para que sea 1968.\n",
    "\n",
    "6. Elimina la entrada con la llave 'autor'.\n",
    "\n",
    "7. Muestra todas las llaves del diccionario usando el método keys().\n",
    "\n",
    "8. Muestra todos los valores del diccionario usando el método values().\n",
    "\n",
    "9. Muestra todos los pares llave-valor del diccionario usando el método items().\n",
    "\n",
    "10. Usa el método get() para obtener el valor asociado a la llave 'género'.\n",
    "\n",
    "11. Crea un diccionario llamado inventary con las siguientes llaves y valores:\n",
    "\n",
    "* 'pencils': 20\n",
    "* 'books': 10\n",
    "* 'erasers': 5\n",
    "\n",
    "12. Agrega una nueva entrada: 'markers': 15.\n",
    "\n",
    "13. Modifica el valor asociado a la llave 'books' para que sea 12.\n",
    "\n",
    "14. Muestra el diccionario resultante."
   ]
  },
  {
   "cell_type": "code",
   "execution_count": 3,
   "id": "0cdb85fe-7dc4-46dd-973f-6f14f951e7bf",
   "metadata": {},
   "outputs": [
    {
     "data": {
      "text/plain": [
       "{'title': 'Cien Años de Soledad',\n",
       " 'author': 'Gabriel García Márquez',\n",
       " 'year': 1967}"
      ]
     },
     "execution_count": 3,
     "metadata": {},
     "output_type": "execute_result"
    }
   ],
   "source": [
    "libro = {'title': 'Cien Años de Soledad' ,'author': 'Gabriel García Márquez', 'year': 1967}\n",
    "libro"
   ]
  },
  {
   "cell_type": "code",
   "execution_count": 4,
   "id": "352c0a01-3be6-467f-bbdf-bb88254b0e48",
   "metadata": {},
   "outputs": [
    {
     "name": "stdout",
     "output_type": "stream",
     "text": [
      "Cien Años de Soledad\n",
      "Gabriel García Márquez\n"
     ]
    }
   ],
   "source": [
    "print(libro[\"title\"])\n",
    "print(libro[\"author\"])"
   ]
  },
  {
   "cell_type": "code",
   "execution_count": 6,
   "id": "4e7f455c-5293-45c5-9a43-5989ba604fd3",
   "metadata": {},
   "outputs": [
    {
     "data": {
      "text/plain": [
       "{'title': 'Cien Años de Soledad',\n",
       " 'author': 'Gabriel García Márquez',\n",
       " 'year': 1967,\n",
       " 'genre': 'Realismo mágico'}"
      ]
     },
     "execution_count": 6,
     "metadata": {},
     "output_type": "execute_result"
    }
   ],
   "source": [
    "libro['genre'] = 'Realismo mágico'\n",
    "libro"
   ]
  },
  {
   "cell_type": "code",
   "execution_count": 7,
   "id": "38965cba-a4b8-49c4-b1c3-fedb3028fec1",
   "metadata": {},
   "outputs": [
    {
     "data": {
      "text/plain": [
       "{'title': 'Cien Años de Soledad',\n",
       " 'author': 'Gabriel García Márquez',\n",
       " 'year': '1968',\n",
       " 'genre': 'Realismo mágico'}"
      ]
     },
     "execution_count": 7,
     "metadata": {},
     "output_type": "execute_result"
    }
   ],
   "source": [
    "libro['year'] = '1968'\n",
    "libro"
   ]
  },
  {
   "cell_type": "code",
   "execution_count": 8,
   "id": "e3f21f32-6af4-4420-b383-e8d0cf7f985a",
   "metadata": {},
   "outputs": [
    {
     "data": {
      "text/plain": [
       "{'title': 'Cien Años de Soledad', 'year': '1968', 'genre': 'Realismo mágico'}"
      ]
     },
     "execution_count": 8,
     "metadata": {},
     "output_type": "execute_result"
    }
   ],
   "source": [
    "del libro['author']\n",
    "libro"
   ]
  },
  {
   "cell_type": "code",
   "execution_count": 9,
   "id": "8cd8623b-28cd-48fc-bd68-c33eb9b7fc31",
   "metadata": {},
   "outputs": [
    {
     "data": {
      "text/plain": [
       "dict_keys(['title', 'year', 'genre'])"
      ]
     },
     "execution_count": 9,
     "metadata": {},
     "output_type": "execute_result"
    }
   ],
   "source": [
    "libro.keys()"
   ]
  },
  {
   "cell_type": "code",
   "execution_count": 10,
   "id": "5f1d421c-6ec5-4d7b-9907-559e00b02a90",
   "metadata": {},
   "outputs": [
    {
     "data": {
      "text/plain": [
       "dict_values(['Cien Años de Soledad', '1968', 'Realismo mágico'])"
      ]
     },
     "execution_count": 10,
     "metadata": {},
     "output_type": "execute_result"
    }
   ],
   "source": [
    "libro.values()"
   ]
  },
  {
   "cell_type": "code",
   "execution_count": 11,
   "id": "1bfe97d1-455f-4657-8259-c7c1bed5f8ac",
   "metadata": {},
   "outputs": [
    {
     "data": {
      "text/plain": [
       "dict_items([('title', 'Cien Años de Soledad'), ('year', '1968'), ('genre', 'Realismo mágico')])"
      ]
     },
     "execution_count": 11,
     "metadata": {},
     "output_type": "execute_result"
    }
   ],
   "source": [
    "libro.items()"
   ]
  },
  {
   "cell_type": "code",
   "execution_count": 12,
   "id": "ed4dd24a-3372-4eb0-90d4-972e73243d75",
   "metadata": {},
   "outputs": [
    {
     "data": {
      "text/plain": [
       "'Realismo mágico'"
      ]
     },
     "execution_count": 12,
     "metadata": {},
     "output_type": "execute_result"
    }
   ],
   "source": [
    "libro.get('genre')"
   ]
  },
  {
   "cell_type": "code",
   "execution_count": 13,
   "id": "96d22b0a-1ddc-4d25-b7f2-302b510b6fac",
   "metadata": {},
   "outputs": [
    {
     "data": {
      "text/plain": [
       "{'pencils': 20, 'books': 10, 'erasers': 5}"
      ]
     },
     "execution_count": 13,
     "metadata": {},
     "output_type": "execute_result"
    }
   ],
   "source": [
    "inventary = {'pencils': 20 , 'books': 10 , 'erasers': 5}\n",
    "inventary"
   ]
  },
  {
   "cell_type": "code",
   "execution_count": 14,
   "id": "6bbef89c-e205-4de6-a1dd-530f806b8d02",
   "metadata": {},
   "outputs": [
    {
     "data": {
      "text/plain": [
       "{'pencils': 20, 'books': 10, 'erasers': 5, 'markers': 15}"
      ]
     },
     "execution_count": 14,
     "metadata": {},
     "output_type": "execute_result"
    }
   ],
   "source": [
    "inventary['markers'] = 15\n",
    "inventary"
   ]
  },
  {
   "cell_type": "code",
   "execution_count": 16,
   "id": "1b2e08e3-736e-412b-9d3a-c62c8c6ddbc0",
   "metadata": {},
   "outputs": [
    {
     "data": {
      "text/plain": [
       "{'pencils': 20, 'books': 12, 'erasers': 5, 'markers': 15}"
      ]
     },
     "execution_count": 16,
     "metadata": {},
     "output_type": "execute_result"
    }
   ],
   "source": [
    "inventary['books'] = 12\n",
    "inventary"
   ]
  },
  {
   "cell_type": "markdown",
   "id": "44324513-2a6d-4ffa-9db7-e4a6e4785da9",
   "metadata": {},
   "source": [
    "# Ejercicio Opcional"
   ]
  },
  {
   "cell_type": "markdown",
   "id": "d3f3f9aa-a02b-494b-8e5e-0b82d41bd85b",
   "metadata": {},
   "source": [
    "Vamos a crear un programa para gestionar una lista de contactos utilizando diccionarios. El programa permitirá al usuario realizar las siguientes operaciones:\n",
    "\n",
    "* Añadir un nuevo contacto.\n",
    "* Modificar el número de teléfono de un contacto existente.\n",
    "* Eliminar un contacto.\n",
    "* Mostrar todos los contactos.\n",
    "\n",
    "Instrucciones:\n",
    "\n",
    "1. Define un diccionario llamado contactos para almacenar los nombres como llaves y los números de teléfono como valores.\n",
    "2. Crea funciones para cada una de las operaciones:\n",
    "    * agregar_contacto(contactos, nombre, telefono)\n",
    "    * modificar_contacto(contactos, nombre, telefono)\n",
    "    * eliminar_contacto(contactos, nombre)\n",
    "    * mostrar_contactos(contactos)\n",
    "3. Implementa un menú que permita al usuario elegir la operación que desea realizar.\n",
    "4. Utiliza un ciclo para mantener el programa en ejecución hasta que el usuario decida salir.\n",
    "\n",
    "Hint: Usa la siguiente estructura\n"
   ]
  },
  {
   "cell_type": "code",
   "execution_count": 17,
   "id": "18637e21-4b7e-4844-84e9-b28459977138",
   "metadata": {},
   "outputs": [
    {
     "name": "stdout",
     "output_type": "stream",
     "text": [
      "\n",
      "Gestión de Contactos\n",
      "1. Agregar contacto\n",
      "2. Modificar contacto\n",
      "3. Eliminar contacto\n",
      "4. Mostrar contactos\n",
      "5. Salir\n"
     ]
    },
    {
     "name": "stdin",
     "output_type": "stream",
     "text": [
      "Elige una opción (1-5):  1\n",
      "Introduce el nombre del contacto:  Contacto1\n",
      "Introduce el número de teléfono:  999999\n"
     ]
    },
    {
     "name": "stdout",
     "output_type": "stream",
     "text": [
      "Contacto 'Contacto1' agregado con número 999999.\n",
      "\n",
      "Gestión de Contactos\n",
      "1. Agregar contacto\n",
      "2. Modificar contacto\n",
      "3. Eliminar contacto\n",
      "4. Mostrar contactos\n",
      "5. Salir\n"
     ]
    },
    {
     "name": "stdin",
     "output_type": "stream",
     "text": [
      "Elige una opción (1-5):  4\n"
     ]
    },
    {
     "name": "stdout",
     "output_type": "stream",
     "text": [
      "\n",
      "Lista de contactos:\n",
      "Nombre: Contacto1, Teléfono: 999999\n",
      "\n",
      "Gestión de Contactos\n",
      "1. Agregar contacto\n",
      "2. Modificar contacto\n",
      "3. Eliminar contacto\n",
      "4. Mostrar contactos\n",
      "5. Salir\n"
     ]
    },
    {
     "name": "stdin",
     "output_type": "stream",
     "text": [
      "Elige una opción (1-5):  5\n"
     ]
    },
    {
     "name": "stdout",
     "output_type": "stream",
     "text": [
      "Saliendo del programa.\n"
     ]
    }
   ],
   "source": [
    "# Definir el diccionario de contactos\n",
    "contactos = {}\n",
    "\n",
    "# Función para agregar un nuevo contacto\n",
    "def agregar_contacto(contactos, nombre, telefono):\n",
    "    if nombre in contactos:\n",
    "        print(f\"El contacto '{nombre}' ya existe.\")\n",
    "    else:\n",
    "        contactos[nombre] = telefono\n",
    "        print(f\"Contacto '{nombre}' agregado con número {telefono}.\")\n",
    "\n",
    "# Función para modificar el número de teléfono de un contacto existente\n",
    "def modificar_contacto(contactos, nombre, telefono):\n",
    "    if nombre in contactos:\n",
    "        contactos[nombre] = telefono\n",
    "        print(f\"Número de teléfono del contacto '{nombre}' actualizado a {telefono}.\")\n",
    "    else:\n",
    "        print(f\"El contacto '{nombre}' no existe.\")\n",
    "\n",
    "# Función para eliminar un contacto\n",
    "def eliminar_contacto(contactos, nombre):\n",
    "    if nombre in contactos:\n",
    "        del contactos[nombre]\n",
    "        print(f\"Contacto '{nombre}' eliminado.\")\n",
    "    else:\n",
    "        print(f\"El contacto '{nombre}' no existe.\")\n",
    "\n",
    "# Función para mostrar todos los contactos\n",
    "def mostrar_contactos(contactos):\n",
    "    if contactos:\n",
    "        print(\"\\nLista de contactos:\")\n",
    "        for nombre, telefono in contactos.items():\n",
    "            print(f\"Nombre: {nombre}, Teléfono: {telefono}\")\n",
    "    else:\n",
    "        print(\"No hay contactos en la lista.\")\n",
    "\n",
    "# Menú para gestionar los contactos\n",
    "def menu():\n",
    "    while True:\n",
    "        print(\"\\nGestión de Contactos\")\n",
    "        print(\"1. Agregar contacto\")\n",
    "        print(\"2. Modificar contacto\")\n",
    "        print(\"3. Eliminar contacto\")\n",
    "        print(\"4. Mostrar contactos\")\n",
    "        print(\"5. Salir\")\n",
    "\n",
    "        opcion = input(\"Elige una opción (1-5): \")\n",
    "\n",
    "        if opcion == '1':\n",
    "            nombre = input(\"Introduce el nombre del contacto: \")\n",
    "            telefono = input(\"Introduce el número de teléfono: \")\n",
    "            agregar_contacto(contactos, nombre, telefono)\n",
    "        elif opcion == '2':\n",
    "            nombre = input(\"Introduce el nombre del contacto: \")\n",
    "            telefono = input(\"Introduce el nuevo número de teléfono: \")\n",
    "            modificar_contacto(contactos, nombre, telefono)\n",
    "        elif opcion == '3':\n",
    "            nombre = input(\"Introduce el nombre del contacto: \")\n",
    "            eliminar_contacto(contactos, nombre)\n",
    "        elif opcion == '4':\n",
    "            mostrar_contactos(contactos)\n",
    "        elif opcion == '5':\n",
    "            print(\"Saliendo del programa.\")\n",
    "            break\n",
    "        else:\n",
    "            print(\"Opción no válida. Inténtalo de nuevo.\")\n",
    "\n",
    "# Ejecutar el menú\n",
    "menu()\n"
   ]
  },
  {
   "cell_type": "code",
   "execution_count": null,
   "id": "e97eba19-6511-41eb-b392-63e430a6967d",
   "metadata": {},
   "outputs": [],
   "source": []
  }
 ],
 "metadata": {
  "kernelspec": {
   "display_name": "Python 3 (ipykernel)",
   "language": "python",
   "name": "python3"
  },
  "language_info": {
   "codemirror_mode": {
    "name": "ipython",
    "version": 3
   },
   "file_extension": ".py",
   "mimetype": "text/x-python",
   "name": "python",
   "nbconvert_exporter": "python",
   "pygments_lexer": "ipython3",
   "version": "3.8.19"
  }
 },
 "nbformat": 4,
 "nbformat_minor": 5
}
