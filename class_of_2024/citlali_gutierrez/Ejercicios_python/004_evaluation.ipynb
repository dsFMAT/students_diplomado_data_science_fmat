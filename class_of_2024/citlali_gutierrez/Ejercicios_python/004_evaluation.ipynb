{
 "cells": [
  {
   "cell_type": "markdown",
   "id": "3e4522f4-30d4-4d03-b33b-f39cb4a4a55a",
   "metadata": {},
   "source": [
    "## Ejercicios: "
   ]
  },
  {
   "cell_type": "markdown",
   "id": "50b5e4c9-20c0-4e59-b3d6-aabd21d4ba11",
   "metadata": {},
   "source": [
    "### Ejercicio 1: Verificar la Edad para Votar\n",
    "\n",
    "Escribe un script que verifique si una persona es elegible para votar. Una persona puede votar si tiene 18 años o más.\n"
   ]
  },
  {
   "cell_type": "code",
   "execution_count": 14,
   "id": "3b3fd414-939e-48ca-8424-bce7230a0893",
   "metadata": {},
   "outputs": [
    {
     "name": "stdout",
     "output_type": "stream",
     "text": [
      "Si puede votar\n"
     ]
    }
   ],
   "source": [
    "age = 18\n",
    "if age >= 18:\n",
    "    print(f\"Si puede votar\")\n",
    "else:\n",
    "    print(f\"No puede votar\")"
   ]
  },
  {
   "cell_type": "markdown",
   "id": "5e804b58-d17c-4713-9605-b6ed569e38bb",
   "metadata": {},
   "source": [
    "### Ejercicio 2. Clasificar un Número\n",
    "\n",
    "Escribe un programa que clasifique un número como positivo, negativo o cero. Usa la sentencia `elif`"
   ]
  },
  {
   "cell_type": "code",
   "execution_count": 15,
   "id": "dbec776f-3127-449c-bf66-c70a475d2080",
   "metadata": {},
   "outputs": [
    {
     "name": "stdout",
     "output_type": "stream",
     "text": [
      "El numero es 0\n"
     ]
    }
   ],
   "source": [
    "number = 0\n",
    "\n",
    "if number == 0:\n",
    "    print(f\"El numero es 0\")\n",
    "elif number < 0:\n",
    "    print(f\"El numero es negativo\")\n",
    "else:\n",
    "    print(f\"El numero es positivo\")"
   ]
  },
  {
   "cell_type": "markdown",
   "id": "00dbba2b-da89-4e0d-8d80-aa6af7162c70",
   "metadata": {},
   "source": [
    "### Ejercicio 3: Calcular la Tarifa de Envío\n",
    "\n",
    "Escribe un programa que determine la tarifa de envío basada en el peso del paquete.\n",
    "\n",
    "* Si el peso es menor o igual a 1 kg, la tarifa es de \\$5 .\n",
    "* Si el peso es mayor a 1 kg y menor o igual a 5 kg, la tarifa es de \\$10.\n",
    "* Si el peso es mayor a 5 kg, la tarifa es de \\$15."
   ]
  },
  {
   "cell_type": "code",
   "execution_count": 13,
   "id": "d8a87b9c-d506-400c-87fc-d647a8c2d3e7",
   "metadata": {},
   "outputs": [
    {
     "name": "stdout",
     "output_type": "stream",
     "text": [
      "La tarifa de envío es de $15\n"
     ]
    }
   ],
   "source": [
    "weight = 8\n",
    "\n",
    "if weight <= 1:\n",
    "    print(f\"La tarifa de envío es de $5\")\n",
    "elif weight > 1 and weight <= 5:\n",
    "    print(f\"La tarifa de envío es de $10\")\n",
    "else:\n",
    "    print(f\"La tarifa de envío es de $15\")"
   ]
  },
  {
   "cell_type": "markdown",
   "id": "5188a9f2-98ef-4a93-b0b7-1238f6846af4",
   "metadata": {},
   "source": [
    "### Ejercicio 4. Verificar si un número es par y positivo\n",
    "\n",
    "Escribe un programa que determine si un número es par y positivo. Usa condiciones multiples\n",
    "\n"
   ]
  },
  {
   "cell_type": "code",
   "execution_count": 16,
   "id": "691ec6a4-f165-4047-b556-adc2ddc135f8",
   "metadata": {},
   "outputs": [
    {
     "name": "stdout",
     "output_type": "stream",
     "text": [
      "El numero es par y positivo\n"
     ]
    }
   ],
   "source": [
    "numero = 4\n",
    "\n",
    "\n",
    "if numero%2==0 and numero>0:\n",
    "    print(f\"El numero es par y positivo\")\n",
    "else:\n",
    "    print(f\"El numero no es par y positivo\")"
   ]
  }
 ],
 "metadata": {
  "kernelspec": {
   "display_name": "Python 3 (ipykernel)",
   "language": "python",
   "name": "python3"
  },
  "language_info": {
   "codemirror_mode": {
    "name": "ipython",
    "version": 3
   },
   "file_extension": ".py",
   "mimetype": "text/x-python",
   "name": "python",
   "nbconvert_exporter": "python",
   "pygments_lexer": "ipython3",
   "version": "3.8.19"
  }
 },
 "nbformat": 4,
 "nbformat_minor": 5
}
