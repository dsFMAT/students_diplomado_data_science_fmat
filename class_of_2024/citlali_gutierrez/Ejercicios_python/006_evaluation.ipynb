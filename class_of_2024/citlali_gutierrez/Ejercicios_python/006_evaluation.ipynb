{
 "cells": [
  {
   "cell_type": "markdown",
   "id": "a52a8052-0fa2-4a86-877d-63d2904bdd77",
   "metadata": {},
   "source": [
    "# Ejercicio"
   ]
  },
  {
   "cell_type": "markdown",
   "id": "4f259ee4-ecce-48b0-8219-1fffbe77de06",
   "metadata": {},
   "source": [
    "# Función para Calcular el Área de un Rectángulo \n",
    "\n",
    "Escribe una función llamada calcular_area_rectangulo que reciba dos parámetros, ancho y alto, y retorne el área del rectángulo. Prueba la función con diferentes valores de ancho y alto.\n",
    "\n",
    "Instrucciones:\n",
    "\n",
    "* Define la función calcular_area_rectangulo que reciba dos parámetros: ancho y alto.\n",
    "* Calcula el área del rectángulo usando la fórmula ancho * alto.\n",
    "* Retorna el área calculada.\n",
    "* Llama a la función con diferentes valores y muestra los resultados.\n"
   ]
  },
  {
   "cell_type": "code",
   "execution_count": 28,
   "id": "445b32ba-730f-4e14-a24d-5f0800bab7a0",
   "metadata": {},
   "outputs": [],
   "source": [
    "def calcular_area_rectangulo (ancho, alto):\n",
    "    if ancho>0 and alto>0:\n",
    "        print(f\"El area es de {ancho*alto}\")\n",
    "    else:\n",
    "        print(f\"Introduzca valores validos (números mayores a 0)\")"
   ]
  },
  {
   "cell_type": "code",
   "execution_count": 35,
   "id": "522ee9f9-b04d-4939-a149-915500244c7c",
   "metadata": {},
   "outputs": [
    {
     "name": "stdout",
     "output_type": "stream",
     "text": [
      "El area es de 50\n"
     ]
    }
   ],
   "source": [
    "ancho = 5\n",
    "alto = 10\n",
    "calcular_area_rectangulo(ancho, alto)"
   ]
  },
  {
   "cell_type": "code",
   "execution_count": 32,
   "id": "30140717-9d05-4e65-a346-ce6fc3721238",
   "metadata": {},
   "outputs": [
    {
     "name": "stdout",
     "output_type": "stream",
     "text": [
      "Introduzca valores validos (números mayores a 0)\n",
      "Introduzca valores validos (números mayores a 0)\n",
      "El area es de 2\n",
      "El area es de 4\n"
     ]
    }
   ],
   "source": [
    "#ciclo para evaluar con varios numeros que pueda tomar ancho y alto\n",
    "for ancho in range(-1, 3):\n",
    "    for alto in range(2, 3):\n",
    "        calcular_area_rectangulo(ancho, alto)"
   ]
  }
 ],
 "metadata": {
  "kernelspec": {
   "display_name": "Python 3 (ipykernel)",
   "language": "python",
   "name": "python3"
  },
  "language_info": {
   "codemirror_mode": {
    "name": "ipython",
    "version": 3
   },
   "file_extension": ".py",
   "mimetype": "text/x-python",
   "name": "python",
   "nbconvert_exporter": "python",
   "pygments_lexer": "ipython3",
   "version": "3.8.19"
  }
 },
 "nbformat": 4,
 "nbformat_minor": 5
}
