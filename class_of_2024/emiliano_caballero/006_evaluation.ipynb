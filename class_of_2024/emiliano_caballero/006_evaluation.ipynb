{
 "cells": [
  {
   "cell_type": "markdown",
   "id": "a52a8052-0fa2-4a86-877d-63d2904bdd77",
   "metadata": {},
   "source": [
    "# Ejercicio"
   ]
  },
  {
   "cell_type": "markdown",
   "id": "4f259ee4-ecce-48b0-8219-1fffbe77de06",
   "metadata": {},
   "source": [
    "# Función para Calcular el Área de un Rectángulo \n",
    "\n",
    "Escribe una función llamada calcular_area_rectangulo que reciba dos parámetros, ancho y alto, y retorne el área del rectángulo. Prueba la función con diferentes valores de ancho y alto.\n",
    "\n",
    "Instrucciones:\n",
    "\n",
    "* Define la función calcular_area_rectangulo que reciba dos parámetros: ancho y alto.\n",
    "* Calcula el área del rectángulo usando la fórmula ancho * alto.\n",
    "* Retorna el área calculada.\n",
    "* Llama a la función con diferentes valores y muestra los resultados.\n"
   ]
  },
  {
   "cell_type": "code",
   "execution_count": 1,
   "id": "445b32ba-730f-4e14-a24d-5f0800bab7a0",
   "metadata": {},
   "outputs": [],
   "source": [
    "# Creando función que calcula el área de un rectángulo\n",
    "\n",
    "def calcular_area_rectangulo(ancho, alto):\n",
    "    # Calcula el área del rectángulo\n",
    "    area = ancho * alto\n",
    "    # Retorna el área calculada\n",
    "    return area"
   ]
  },
  {
   "cell_type": "code",
   "execution_count": 2,
   "id": "ba0ec70e-e009-4b22-9ee2-f08949df9287",
   "metadata": {},
   "outputs": [
    {
     "name": "stdout",
     "output_type": "stream",
     "text": [
      "50\n",
      "21\n",
      "96\n",
      "300\n"
     ]
    }
   ],
   "source": [
    "# Probando\n",
    "print(calcular_area_rectangulo(5, 10))  # Área: 50\n",
    "print(calcular_area_rectangulo(7, 3))   # Área: 21\n",
    "print(calcular_area_rectangulo(12, 8))  # Área: 96\n",
    "print(calcular_area_rectangulo(15, 20)) # Área: 300"
   ]
  },
  {
   "cell_type": "code",
   "execution_count": null,
   "id": "3d4ff045-b3b5-4c22-a378-1b5170485fad",
   "metadata": {},
   "outputs": [],
   "source": []
  }
 ],
 "metadata": {
  "kernelspec": {
   "display_name": "Python 3 (ipykernel)",
   "language": "python",
   "name": "python3"
  },
  "language_info": {
   "codemirror_mode": {
    "name": "ipython",
    "version": 3
   },
   "file_extension": ".py",
   "mimetype": "text/x-python",
   "name": "python",
   "nbconvert_exporter": "python",
   "pygments_lexer": "ipython3",
   "version": "3.8.19"
  }
 },
 "nbformat": 4,
 "nbformat_minor": 5
}
