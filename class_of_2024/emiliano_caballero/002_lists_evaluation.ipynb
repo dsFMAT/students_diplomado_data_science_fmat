{
 "cells": [
  {
   "cell_type": "markdown",
   "id": "4f7040f6-5da7-47f6-b077-8b8100f444a8",
   "metadata": {},
   "source": [
    "# Ejercicio\n",
    "\n",
    "Transformar una lista usando operaciones básicas\n",
    "\n",
    "Objetivo: Usar las operaciones de listas append, insert, del, pop, remove y modificación de elementos existentes para transformar la lista inicial en la lista objetivo.\n",
    "\n",
    "**Usar todas las opciones de manipulación de listas vistas en este notebook**\n",
    "\n",
    "Lista inicial:\n"
   ]
  },
  {
   "cell_type": "code",
   "execution_count": 1,
   "id": "bcc50554-b848-4324-9fe5-a57092fdeacf",
   "metadata": {},
   "outputs": [],
   "source": [
    "\n",
    "my_list = ['this', 'list', 'is', 'twenty', '25']\n"
   ]
  },
  {
   "cell_type": "code",
   "execution_count": 2,
   "id": "853b359c-ab58-4186-856b-567499b10cb0",
   "metadata": {},
   "outputs": [
    {
     "name": "stdout",
     "output_type": "stream",
     "text": [
      "['this list', 'is', 'fifty', '25']\n"
     ]
    }
   ],
   "source": [
    "## Respuesta\n",
    "\n",
    "# Paso 1: Fusionar 'this' y 'list'\n",
    "# Quitar 'this' y 'list'\n",
    "first = my_list.pop(0)  # 'this'\n",
    "second = my_list.pop(0) # 'list'\n",
    "# Insertar 'this list' al inicio\n",
    "my_list.insert(0, f\"{first} {second}\")\n",
    "\n",
    "# Paso 2: Reemplazar 'twenty' por 'fifty' y '25' por '50'\n",
    "\n",
    "my_list.pop(2)\n",
    "my_list.pop(2)\n",
    "\n",
    "my_list.insert(2, 'fifty')\n",
    "my_list.insert(3, '25')\n",
    "\n",
    "print(my_list)"
   ]
  },
  {
   "cell_type": "code",
   "execution_count": 3,
   "id": "3ca2ec79-df6f-4f30-b167-e40e23a50fc9",
   "metadata": {},
   "outputs": [],
   "source": [
    "# Lista final\n",
    "# my_list = ['this list', 'is', 'fifty', '50']"
   ]
  }
 ],
 "metadata": {
  "kernelspec": {
   "display_name": "Python 3 (ipykernel)",
   "language": "python",
   "name": "python3"
  },
  "language_info": {
   "codemirror_mode": {
    "name": "ipython",
    "version": 3
   },
   "file_extension": ".py",
   "mimetype": "text/x-python",
   "name": "python",
   "nbconvert_exporter": "python",
   "pygments_lexer": "ipython3",
   "version": "3.8.19"
  }
 },
 "nbformat": 4,
 "nbformat_minor": 5
}
