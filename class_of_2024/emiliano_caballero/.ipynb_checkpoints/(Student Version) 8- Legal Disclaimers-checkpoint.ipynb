{
 "cells": [
  {
   "cell_type": "markdown",
   "id": "6746de20-d093-4a16-860d-b9720a48907d",
   "metadata": {
    "slideshow": {
     "slide_type": "slide"
    }
   },
   "source": [
    "#### Diplomado en Ciencia de Datos\n",
    "Módulo 2: Business Intelligence  \n",
    "## Tema 8: Legal Disclaimers\n",
    "\n",
    "*Notebook by [Pedro V Hernandez Serrano](https://github.com/pedrohserrano)*"
   ]
  },
  {
   "cell_type": "markdown",
   "id": "71f6c9b7-0d73-47a7-a665-f8699f86e329",
   "metadata": {},
   "source": [
    "---\n",
    "![](../img/header.jpg)"
   ]
  },
  {
   "cell_type": "markdown",
   "id": "00d5c027-0cda-4d2b-9ed2-9cde545746ae",
   "metadata": {
    "tags": []
   },
   "source": [
    "# Preparando el Reporte final\n",
    "\n",
    "En este notebook vamos a escribir los disclaimers legales (o descargo de responsabilidades) que corresponden a los 3 tipos de disclaimers\n",
    "\n",
    "![](../img/disclaimers.png)\n",
    "\n",
    "**IMPORTANTE: La idea es que usen las respuestas de estos ejercicios en su reporte final** 😃"
   ]
  },
  {
   "cell_type": "markdown",
   "id": "891afd0f-ea20-4985-bf22-09112944c2d5",
   "metadata": {
    "tags": []
   },
   "source": [
    "---\n",
    "# EJERCICIO 1\n",
    "\n",
    "- **Escenario**: Imagina que tu organización está utilizando los datos de Inside Airbnb para analizar el mercado de alquileres en varias ciudades.\n",
    "    - Escribe un breve párrafo explicando cómo se obtuvieron los datos de Inside Airbnb y cómo piensan utilizarlos en el análisis. \n",
    "    - Menciona de manera breve los disclaimers y texto de transparencia en cuanto al origen de los datos como aparecen en el sitio: [**Inside Airbnb**](https://insideairbnb.com/)"
   ]
  },
  {
   "cell_type": "markdown",
   "id": "7f2af887-8aa8-4c5d-9233-4106c63a6cdb",
   "metadata": {},
   "source": [
    "\n",
    "Inside Airbnb obtiene datos de alquileres a corto plazo a través de la recopilación de información pública en el sitio web de Airbnb, incluyendo listados, precios y calificaciones. Nuestra organización utilizará estos datos para analizar el mercado de alquileres en varias ciudades, identificando tendencias y evaluando la competitividad de precios. Es importante mencionar que estos datos son proporcionados con fines educativos y de investigación, y pueden no representar la totalidad del mercado, por lo que su uso debe ser considerado con precaución.\n"
   ]
  },
  {
   "cell_type": "markdown",
   "id": "cc573db4-e5c0-4315-ad4b-39f05b6ff98a",
   "metadata": {
    "tags": []
   },
   "source": [
    "---\n",
    "# EJERCICIO 2\n",
    "\n",
    "- Basado en el mismo escenario\n",
    "    - Escribe un breve párrafo sobre la licencia bajo la cual estás utilizando los datos de Inside Airbnb.\n",
    "    - Explica si es posible usar estos datos para fines comerciales, y qué requisitos debes cumplir en cuanto a los términos de uso de la licencia en caso que el analisis se haga público."
   ]
  },
  {
   "cell_type": "markdown",
   "id": "75702e38-1378-49ba-9b9f-644892e6b8be",
   "metadata": {
    "tags": []
   },
   "source": [
    "\n",
    "Los datos de Inside Airbnb se utilizan bajo la licencia Open Database License (ODbL), que permite la utilización, modificación y distribución de los datos, siempre que se atribuya la fuente original y se comparta cualquier modificación bajo la misma licencia. Aunque es posible utilizar estos datos para fines comerciales, es fundamental cumplir con los requisitos de atribución y compartir cualquier análisis público bajo la misma licencia ODbL. Esto asegura que otros puedan acceder y beneficiarse de los datos y análisis realizados, fomentando la transparencia y la colaboración.\n",
    "\n"
   ]
  },
  {
   "cell_type": "markdown",
   "id": "54aabf13-f954-44be-8c02-65c457bb19e6",
   "metadata": {},
   "source": [
    "---\n",
    "# EJERCICIO 3\n",
    "\n",
    "- Aunque los datos no incluyen información sensible de los Airbnb hosts, existe la posibilidad de que ciertos datos, combinados con otras fuentes, puedan llevar a la identificación de propietarios individuales.\n",
    "    - Escribe un breve párrafo describiendo cómo asegurarás que los resultados de tu análisis respeten las normativas de protección de dato.\n",
    "    - **Hint:** Que puedes decir sobre **Anonimización?** Checa el siguiente video para aprender un [método de anonimización simple](https://www.youtube.com/watch?v=3JjwQHMFDvc)"
   ]
  },
  {
   "cell_type": "markdown",
   "id": "b0f4d688-a843-42b9-a893-9c03b244e16f",
   "metadata": {},
   "source": [
    "\n",
    "Para garantizar que los resultados de nuestro análisis respeten las normativas de protección de datos, implementaremos técnicas de anonimización para minimizar el riesgo de identificación de propietarios individuales. Esto incluirá la eliminación de identificadores personales y la agregación de datos, de modo que la información se presente en un formato que no permita vincularla a personas específicas. \n",
    "\n",
    "\n",
    "\n",
    "\n",
    "\n",
    "\n",
    "\n"
   ]
  },
  {
   "cell_type": "markdown",
   "id": "3d4de1c4-219e-42d1-8679-f70bce01b0d9",
   "metadata": {},
   "source": [
    "## 🎉🎉 Congrats!!  \n",
    "\n",
    "## You've finished the notebook"
   ]
  }
 ],
 "metadata": {
  "kernelspec": {
   "display_name": "Python 3 (ipykernel)",
   "language": "python",
   "name": "python3"
  },
  "language_info": {
   "codemirror_mode": {
    "name": "ipython",
    "version": 3
   },
   "file_extension": ".py",
   "mimetype": "text/x-python",
   "name": "python",
   "nbconvert_exporter": "python",
   "pygments_lexer": "ipython3",
   "version": "3.8.19"
  }
 },
 "nbformat": 4,
 "nbformat_minor": 5
}
