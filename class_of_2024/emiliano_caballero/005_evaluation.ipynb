{
 "cells": [
  {
   "cell_type": "markdown",
   "id": "52ddf98b-7411-425a-9d04-363ce9f9d2dd",
   "metadata": {},
   "source": [
    "## Ejercicios"
   ]
  },
  {
   "cell_type": "markdown",
   "id": "401e4b7a-5462-4b1f-b545-626947dde1b2",
   "metadata": {},
   "source": [
    "Iterar sobre la lista colors usando un ciclo for para imprimir cada elemento te la lista\n"
   ]
  },
  {
   "cell_type": "code",
   "execution_count": 1,
   "id": "bb0d2b3d-e73e-42ce-94d2-fb0193344511",
   "metadata": {},
   "outputs": [],
   "source": [
    "colors = [\"rojo\", \"verde\", \"azul\"]\n"
   ]
  },
  {
   "cell_type": "code",
   "execution_count": 2,
   "id": "996bbc4f-17d2-47fb-9bd5-ad4bdd88a7dd",
   "metadata": {},
   "outputs": [
    {
     "name": "stdout",
     "output_type": "stream",
     "text": [
      "rojo\n",
      "verde\n",
      "azul\n"
     ]
    }
   ],
   "source": [
    "for color in colors:\n",
    "    print(color)"
   ]
  },
  {
   "cell_type": "markdown",
   "id": "be3a3b81-ea4a-49d2-8d3e-025470777bde",
   "metadata": {},
   "source": [
    "Escribe un script que utilice un ciclo while para contar del 1 al 5. El script debe imprimir cada número en una nueva línea.\n"
   ]
  },
  {
   "cell_type": "code",
   "execution_count": 3,
   "id": "a9d253ea-bfe7-450f-a092-0d83f6e111b5",
   "metadata": {},
   "outputs": [
    {
     "name": "stdout",
     "output_type": "stream",
     "text": [
      "[[1], [2], [3], [4], [5]]\n"
     ]
    }
   ],
   "source": [
    "# Inicializar el contador\n",
    "contador = 1\n",
    "\n",
    "# Creando una lista para almacenar las listas\n",
    "listas_de_lista_de_numeros = []\n",
    "\n",
    "# Ciclo while para contar del 1 al 5\n",
    "while contador <= 5:\n",
    "    # Crear una nueva lista con el número actual\n",
    "    nueva_lista = [contador]\n",
    "    # Agregar la nueva lista a la lista principal\n",
    "    listas_de_lista_de_numeros.append(nueva_lista)\n",
    "    # Incrementar el contador\n",
    "    contador += 1\n",
    "\n",
    "# Imprimir la lista de listas\n",
    "print(listas_de_lista_de_numeros)\n"
   ]
  },
  {
   "cell_type": "markdown",
   "id": "4ccec020-cc6f-44f4-a5f6-12a1c8d7f4ed",
   "metadata": {},
   "source": [
    "Crea e imprime una lista que contenga la longitud de cada palabra en una lista de palabras, usando list comprehensions"
   ]
  },
  {
   "cell_type": "code",
   "execution_count": 4,
   "id": "b370dcea-3916-4cf5-ba76-90942f1c05b4",
   "metadata": {},
   "outputs": [],
   "source": [
    "words = [\"apple\", \"banana\", \"cherry\", \"date\"]\n"
   ]
  },
  {
   "cell_type": "code",
   "execution_count": 5,
   "id": "f17e5886-a133-45e1-9674-a673d827e1f6",
   "metadata": {},
   "outputs": [
    {
     "name": "stdout",
     "output_type": "stream",
     "text": [
      "[5, 6, 6, 4]\n"
     ]
    }
   ],
   "source": [
    "# Creando una lista que contenga las longitudes\n",
    "\n",
    "lengths = [len(word) for word in words]\n",
    "print(lengths)\n"
   ]
  },
  {
   "cell_type": "code",
   "execution_count": null,
   "id": "20f24f28-49aa-4bee-9dfa-250de4aa330f",
   "metadata": {},
   "outputs": [],
   "source": []
  }
 ],
 "metadata": {
  "kernelspec": {
   "display_name": "Python 3 (ipykernel)",
   "language": "python",
   "name": "python3"
  },
  "language_info": {
   "codemirror_mode": {
    "name": "ipython",
    "version": 3
   },
   "file_extension": ".py",
   "mimetype": "text/x-python",
   "name": "python",
   "nbconvert_exporter": "python",
   "pygments_lexer": "ipython3",
   "version": "3.8.19"
  }
 },
 "nbformat": 4,
 "nbformat_minor": 5
}
