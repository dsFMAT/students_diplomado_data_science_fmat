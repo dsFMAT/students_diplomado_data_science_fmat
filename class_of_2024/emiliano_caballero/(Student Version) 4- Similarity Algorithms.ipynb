{
 "cells": [
  {
   "cell_type": "markdown",
   "id": "6746de20-d093-4a16-860d-b9720a48907d",
   "metadata": {
    "slideshow": {
     "slide_type": "slide"
    }
   },
   "source": [
    "#### Diplomado en Ciencia de Datos\n",
    "Módulo 2: Business Intelligence  \n",
    "## Tema 4: Consideraciones Éticas\n",
    "\n",
    "*Notebook by [Pedro V Hernandez Serrano](https://github.com/pedrohserrano)*"
   ]
  },
  {
   "cell_type": "markdown",
   "id": "71f6c9b7-0d73-47a7-a665-f8699f86e329",
   "metadata": {},
   "source": [
    "---\n",
    "![](../img/header.jpg)"
   ]
  },
  {
   "cell_type": "markdown",
   "id": "00d5c027-0cda-4d2b-9ed2-9cde545746ae",
   "metadata": {
    "tags": []
   },
   "source": [
    "# Consideraciones éticas en el uso de Algorítmos de Similitud\n",
    "\n",
    "Los algoritmos de similitud miden cuán parecidos son dos objetos en función de características específicas, como en las distancias Euclidiana, Manhattan o la Similitud Coseno. Sin embargo, **es importante considerar el contexto y las implicaciones éticas al definir \"similitud\"**. La interpretación de similitud puede ser problemática cuando se asume que características seleccionadas (como ingresos o nivel educativo) son suficientes para capturar la esencia de los datos. En aplicaciones como contratación o análisis de crédito, esta suposición puede llevar a decisiones injustas o discriminatorias.\n",
    "\n",
    "La relevancia contextual también es clave: **lo que define similitud en un contexto (como investigación médica) puede no ser adecuado en otro (como marketing), y no considerar estas diferencias puede llevar a conclusiones erróneas**. Finalmente, el impacto en la toma de decisiones es crítico. Los algoritmos de similitud influyen en decisiones importantes y deben evitar causar daño a grupos o individuos. Asumir que dos objetos similares en un espacio matemático son iguales en la vida real puede tener graves consecuencias si no se toma en cuenta el contexto.\n",
    "\n",
    "Al utilizar estos algoritmos, es fundamental reflexionar sobre el impacto de las decisiones basadas en ellos para garantizar que no refuercen desigualdades ni causen daños involuntarios.\n"
   ]
  },
  {
   "cell_type": "markdown",
   "id": "c003aa50-75b6-4d68-a02c-f826f0bfaca8",
   "metadata": {
    "tags": []
   },
   "source": [
    "**Original blog implementing the most popular similarity algorithms**  \n",
    "\n",
    "✅ [dataaspirant.com](https://dataaspirant.com/five-most-popular-similarity-measures-implementation-in-python/)"
   ]
  },
  {
   "cell_type": "markdown",
   "id": "c69d20a1-a8c6-4f4f-a828-5b9611491795",
   "metadata": {},
   "source": [
    "![](https://i0.wp.com/dataaspirant.com/wp-content/uploads/2015/04/cover_post_final.png?w=1000&ssl=1)"
   ]
  },
  {
   "cell_type": "markdown",
   "id": "0fe9da70-42d9-4f73-8f37-3cbfc803512c",
   "metadata": {
    "tags": []
   },
   "source": [
    "---\n",
    "# EJERCICIO 1\n",
    "\n",
    "- Desarrolla una funcion en Python que calcule la [distancia euclidiana](https://www.google.com/search?sca_esv=08fa89593227d7c4&sca_upv=1&sxsrf=ADLYWILxL5ZB2RJ2Ur94L62oXEBk5CorNg:1725814856550&q=euclidean+distance+formula&source=lnms&fbs=AEQNm0Aa4sjWe7Rqy32pFwRj0UkWd8nbOJfsBGGB5IQQO6L3J_86uWOeqwdnV0yaSF-x2joQcoZ-0Q2Udkt2zEybT7HdNV1kobqvEwEVRYBCltlBtd67W1w89UVGf7QOAkvJWcD0qzhOT-WizJ4nyd1QOGdS_33AboApQh8NDOYXDdgzT_HrFjEfW4zkALzuIfB9KacfX-PQ&sa=X&ved=2ahUKEwiMteOr6bOIAxVX9rsIHW25HdMQ0pQJegQIDRAB&biw=1920&bih=974&dpr=1)\n",
    "- Prueba la función con los siguientes vectores:  \n",
    " `v1 = [0,1,2,5,6]`  \n",
    " `v2 = [0,2,3,5,7]`  \n",
    "- El resultado debe ser aprox `1.73`"
   ]
  },
  {
   "cell_type": "code",
   "execution_count": 17,
   "id": "6ab60aef-4c0c-40c2-a54c-acbbd7fff2f3",
   "metadata": {
    "slideshow": {
     "slide_type": "subslide"
    },
    "tags": []
   },
   "outputs": [
    {
     "name": "stdout",
     "output_type": "stream",
     "text": [
      "La distancia euclidiana entre [0, 1, 2, 5, 6] y [0, 2, 3, 5, 7] es 1.73\n"
     ]
    }
   ],
   "source": [
    "import math\n",
    "\n",
    "def distancia_euclidiana(x, y):\n",
    "    if len(x) != len(y):\n",
    "        raise ValueError(\"Los puntos deben tener la misma dimensión.\")\n",
    "    \n",
    "    suma_cuadrados = sum((p1 - p2) ** 2 for p1, p2 in zip(x, y))\n",
    "    return math.sqrt(suma_cuadrados)\n",
    "\n",
    "# Ejemplo de uso con listas\n",
    "v1 = [0, 1, 2, 5, 6]\n",
    "v2 = [0, 2, 3, 5, 7]\n",
    "distancia = distancia_euclidiana(v1, v2)\n",
    "print(f\"La distancia euclidiana entre {v1} y {v2} es {distancia:.2f}\")\n",
    "\n",
    "\n"
   ]
  },
  {
   "cell_type": "markdown",
   "id": "95b787db-0c79-404d-bd2c-e2a4f9ebf65c",
   "metadata": {
    "tags": []
   },
   "source": [
    "---\n",
    "# EJERCICIO 2\n",
    "\n",
    "- Desarrolla una funcion en Python que calcule la [distancia manhattan](https://www.google.com/search?q=manhattan+distance+formula&sca_esv=08fa89593227d7c4&sca_upv=1&biw=1920&bih=974&ei=V9jdZtmAEoiwi-gP-9nf-AI&oq=euclidean+distance+formula&gs_lp=Egxnd3Mtd2l6LXNlcnAiGmV1Y2xpZGVhbiBkaXN0YW5jZSBmb3JtdWxhKgIIADIKEAAYsAMY1gQYRzIKEAAYsAMY1gQYRzIKEAAYsAMY1gQYRzIKEAAYsAMY1gQYRzIKEAAYsAMY1gQYRzIKEAAYsAMY1gQYRzIKEAAYsAMY1gQYRzIKEAAYsAMY1gQYRzINEAAYgAQYsAMYQxiKBTINEAAYgAQYsAMYQxiKBUiLElAAWABwAngBkAEAmAEAoAEAqgEAuAEDyAEAmAICoAIQmAMAiAYBkAYKkgcBMqAHAA&sclient=gws-wiz-serp)\n",
    "- Prueba la función con los siguientes vectores:  \n",
    " `v1 = [0,1,2,5,6]`  \n",
    " `v2 = [0,2,3,5,7]`  \n",
    "- El resultado debe ser `3`"
   ]
  },
  {
   "cell_type": "code",
   "execution_count": 21,
   "id": "be069a86-c57e-4645-84bf-a62d097843af",
   "metadata": {
    "slideshow": {
     "slide_type": "subslide"
    },
    "tags": []
   },
   "outputs": [
    {
     "name": "stdout",
     "output_type": "stream",
     "text": [
      "La distancia de Manhattan entre [0, 1, 2, 5, 6] y [0, 2, 3, 5, 7] es 3.00\n"
     ]
    }
   ],
   "source": [
    "def distancia_manhattan(x, y):\n",
    "\n",
    "    if len(x) != len(y):\n",
    "        raise ValueError(\"Los puntos deben tener la misma dimensión.\")\n",
    "    \n",
    "    suma_absoluta = sum(abs(p1 - p2) for p1, p2 in zip(x, y))\n",
    "    return suma_absoluta\n",
    "\n",
    "# Ejemplo de uso con listas\n",
    "v1 = [0, 1, 2, 5, 6]\n",
    "v2 = [0, 2, 3, 5, 7]\n",
    "distancia = distancia_manhattan(v1, v2)\n",
    "print(f\"La distancia de Manhattan entre {v1} y {v2} es {distancia:.2f}\")\n"
   ]
  },
  {
   "cell_type": "markdown",
   "id": "06c971d7-29cb-472d-a0f2-cd696de4cbd3",
   "metadata": {},
   "source": [
    "---\n",
    "# EJERCICIO 3 (Opcional)\n",
    "\n",
    "- Desarrolla una funcion en Python que calcule la [distancia coseno](https://en.wikipedia.org/wiki/Cosine_similarity)\n",
    "- Prueba la función con los siguientes vectores:  \n",
    " `v1 = [0,1,2,5,6]`  \n",
    " `v2 = [0,2,3,5,7]`  \n",
    "- El resultado debe ser `0.99`"
   ]
  },
  {
   "cell_type": "markdown",
   "id": "ab6abe64-05cc-4888-a0da-5912284421f4",
   "metadata": {},
   "source": [
    "## Constructing a Similarity Network from a Dataset"
   ]
  },
  {
   "cell_type": "markdown",
   "id": "c3f46078-e9f5-4819-bc1a-1a2512feb597",
   "metadata": {},
   "source": [
    "The idea is to compute one similarity alorithm N*N times across the dataset, then take the top M similar records and constructa network"
   ]
  },
  {
   "cell_type": "code",
   "execution_count": 23,
   "id": "c586de43-c77d-4ccb-bd0b-1387244501ac",
   "metadata": {
    "tags": []
   },
   "outputs": [
    {
     "data": {
      "text/html": [
       "<div>\n",
       "<style scoped>\n",
       "    .dataframe tbody tr th:only-of-type {\n",
       "        vertical-align: middle;\n",
       "    }\n",
       "\n",
       "    .dataframe tbody tr th {\n",
       "        vertical-align: top;\n",
       "    }\n",
       "\n",
       "    .dataframe thead th {\n",
       "        text-align: right;\n",
       "    }\n",
       "</style>\n",
       "<table border=\"1\" class=\"dataframe\">\n",
       "  <thead>\n",
       "    <tr style=\"text-align: right;\">\n",
       "      <th></th>\n",
       "      <th>country</th>\n",
       "      <th>continent</th>\n",
       "      <th>year</th>\n",
       "      <th>lifeExp</th>\n",
       "      <th>pop</th>\n",
       "      <th>gdpPercap</th>\n",
       "      <th>iso_alpha</th>\n",
       "      <th>iso_num</th>\n",
       "    </tr>\n",
       "  </thead>\n",
       "  <tbody>\n",
       "    <tr>\n",
       "      <th>0</th>\n",
       "      <td>Afghanistan</td>\n",
       "      <td>Asia</td>\n",
       "      <td>1952</td>\n",
       "      <td>28.801</td>\n",
       "      <td>8425333</td>\n",
       "      <td>779.445314</td>\n",
       "      <td>AFG</td>\n",
       "      <td>4</td>\n",
       "    </tr>\n",
       "    <tr>\n",
       "      <th>1</th>\n",
       "      <td>Afghanistan</td>\n",
       "      <td>Asia</td>\n",
       "      <td>1957</td>\n",
       "      <td>30.332</td>\n",
       "      <td>9240934</td>\n",
       "      <td>820.853030</td>\n",
       "      <td>AFG</td>\n",
       "      <td>4</td>\n",
       "    </tr>\n",
       "    <tr>\n",
       "      <th>2</th>\n",
       "      <td>Afghanistan</td>\n",
       "      <td>Asia</td>\n",
       "      <td>1962</td>\n",
       "      <td>31.997</td>\n",
       "      <td>10267083</td>\n",
       "      <td>853.100710</td>\n",
       "      <td>AFG</td>\n",
       "      <td>4</td>\n",
       "    </tr>\n",
       "    <tr>\n",
       "      <th>3</th>\n",
       "      <td>Afghanistan</td>\n",
       "      <td>Asia</td>\n",
       "      <td>1967</td>\n",
       "      <td>34.020</td>\n",
       "      <td>11537966</td>\n",
       "      <td>836.197138</td>\n",
       "      <td>AFG</td>\n",
       "      <td>4</td>\n",
       "    </tr>\n",
       "    <tr>\n",
       "      <th>4</th>\n",
       "      <td>Afghanistan</td>\n",
       "      <td>Asia</td>\n",
       "      <td>1972</td>\n",
       "      <td>36.088</td>\n",
       "      <td>13079460</td>\n",
       "      <td>739.981106</td>\n",
       "      <td>AFG</td>\n",
       "      <td>4</td>\n",
       "    </tr>\n",
       "  </tbody>\n",
       "</table>\n",
       "</div>"
      ],
      "text/plain": [
       "       country continent  year  lifeExp       pop   gdpPercap iso_alpha  \\\n",
       "0  Afghanistan      Asia  1952   28.801   8425333  779.445314       AFG   \n",
       "1  Afghanistan      Asia  1957   30.332   9240934  820.853030       AFG   \n",
       "2  Afghanistan      Asia  1962   31.997  10267083  853.100710       AFG   \n",
       "3  Afghanistan      Asia  1967   34.020  11537966  836.197138       AFG   \n",
       "4  Afghanistan      Asia  1972   36.088  13079460  739.981106       AFG   \n",
       "\n",
       "   iso_num  \n",
       "0        4  \n",
       "1        4  \n",
       "2        4  \n",
       "3        4  \n",
       "4        4  "
      ]
     },
     "execution_count": 23,
     "metadata": {},
     "output_type": "execute_result"
    }
   ],
   "source": [
    "import pandas as pd\n",
    "\n",
    "dataset = pd.read_csv(\"../data/gapminder_data_world_health.csv\")\n",
    "dataset.head(5)"
   ]
  },
  {
   "cell_type": "markdown",
   "id": "48dfd4f6-35ef-463c-b50c-68cde6694515",
   "metadata": {},
   "source": [
    "---\n",
    "# EJERCICIO 4\n",
    "\n",
    "Con los datos de `gapminder_data_world_health.csv` utiliza el siguiente subset de la tabla como se muestra a continuación (es un query de el año 2007 en el que se tiene la esperanza de vida y la población indexada por país)"
   ]
  },
  {
   "cell_type": "code",
   "execution_count": 31,
   "id": "1466fb47-75cc-44eb-880f-cab87172599e",
   "metadata": {
    "tags": []
   },
   "outputs": [
    {
     "data": {
      "text/html": [
       "<div>\n",
       "<style scoped>\n",
       "    .dataframe tbody tr th:only-of-type {\n",
       "        vertical-align: middle;\n",
       "    }\n",
       "\n",
       "    .dataframe tbody tr th {\n",
       "        vertical-align: top;\n",
       "    }\n",
       "\n",
       "    .dataframe thead th {\n",
       "        text-align: right;\n",
       "    }\n",
       "</style>\n",
       "<table border=\"1\" class=\"dataframe\">\n",
       "  <thead>\n",
       "    <tr style=\"text-align: right;\">\n",
       "      <th></th>\n",
       "      <th>lifeExp</th>\n",
       "      <th>pop</th>\n",
       "    </tr>\n",
       "    <tr>\n",
       "      <th>country</th>\n",
       "      <th></th>\n",
       "      <th></th>\n",
       "    </tr>\n",
       "  </thead>\n",
       "  <tbody>\n",
       "    <tr>\n",
       "      <th>Afghanistan</th>\n",
       "      <td>43.828</td>\n",
       "      <td>31889923</td>\n",
       "    </tr>\n",
       "    <tr>\n",
       "      <th>Albania</th>\n",
       "      <td>76.423</td>\n",
       "      <td>3600523</td>\n",
       "    </tr>\n",
       "    <tr>\n",
       "      <th>Algeria</th>\n",
       "      <td>72.301</td>\n",
       "      <td>33333216</td>\n",
       "    </tr>\n",
       "    <tr>\n",
       "      <th>Angola</th>\n",
       "      <td>42.731</td>\n",
       "      <td>12420476</td>\n",
       "    </tr>\n",
       "    <tr>\n",
       "      <th>Argentina</th>\n",
       "      <td>75.320</td>\n",
       "      <td>40301927</td>\n",
       "    </tr>\n",
       "    <tr>\n",
       "      <th>Australia</th>\n",
       "      <td>81.235</td>\n",
       "      <td>20434176</td>\n",
       "    </tr>\n",
       "    <tr>\n",
       "      <th>Austria</th>\n",
       "      <td>79.829</td>\n",
       "      <td>8199783</td>\n",
       "    </tr>\n",
       "    <tr>\n",
       "      <th>Bahrain</th>\n",
       "      <td>75.635</td>\n",
       "      <td>708573</td>\n",
       "    </tr>\n",
       "    <tr>\n",
       "      <th>Bangladesh</th>\n",
       "      <td>64.062</td>\n",
       "      <td>150448339</td>\n",
       "    </tr>\n",
       "    <tr>\n",
       "      <th>Belgium</th>\n",
       "      <td>79.441</td>\n",
       "      <td>10392226</td>\n",
       "    </tr>\n",
       "  </tbody>\n",
       "</table>\n",
       "</div>"
      ],
      "text/plain": [
       "             lifeExp        pop\n",
       "country                        \n",
       "Afghanistan   43.828   31889923\n",
       "Albania       76.423    3600523\n",
       "Algeria       72.301   33333216\n",
       "Angola        42.731   12420476\n",
       "Argentina     75.320   40301927\n",
       "Australia     81.235   20434176\n",
       "Austria       79.829    8199783\n",
       "Bahrain       75.635     708573\n",
       "Bangladesh    64.062  150448339\n",
       "Belgium       79.441   10392226"
      ]
     },
     "execution_count": 31,
     "metadata": {},
     "output_type": "execute_result"
    }
   ],
   "source": [
    "df = dataset[dataset['year'] == 2007].set_index('country')\n",
    "df = df[['lifeExp', 'pop']]\n",
    "df.head(10)"
   ]
  },
  {
   "cell_type": "markdown",
   "id": "7be52fdd-4ceb-4167-b5d9-b3595b80119c",
   "metadata": {},
   "source": [
    "- **Utiliza el método Min-Max** para normalizar los vectores de Esperanza de vida y de Población, una vez que apliquemos las funciones de similitud es mejor tener los vectores en las misma escala: [Ejemplo aquí](https://www.geeksforgeeks.org/data-normalization-with-pandas/)"
   ]
  },
  {
   "cell_type": "code",
   "execution_count": 35,
   "id": "219df90b-4913-42d9-96ee-761f543bed78",
   "metadata": {
    "tags": []
   },
   "outputs": [
    {
     "data": {
      "text/html": [
       "<div>\n",
       "<style scoped>\n",
       "    .dataframe tbody tr th:only-of-type {\n",
       "        vertical-align: middle;\n",
       "    }\n",
       "\n",
       "    .dataframe tbody tr th {\n",
       "        vertical-align: top;\n",
       "    }\n",
       "\n",
       "    .dataframe thead th {\n",
       "        text-align: right;\n",
       "    }\n",
       "</style>\n",
       "<table border=\"1\" class=\"dataframe\">\n",
       "  <thead>\n",
       "    <tr style=\"text-align: right;\">\n",
       "      <th></th>\n",
       "      <th>lifeExp</th>\n",
       "      <th>pop</th>\n",
       "    </tr>\n",
       "    <tr>\n",
       "      <th>country</th>\n",
       "      <th></th>\n",
       "      <th></th>\n",
       "    </tr>\n",
       "  </thead>\n",
       "  <tbody>\n",
       "    <tr>\n",
       "      <th>Afghanistan</th>\n",
       "      <td>0.098046</td>\n",
       "      <td>0.024035</td>\n",
       "    </tr>\n",
       "    <tr>\n",
       "      <th>Albania</th>\n",
       "      <td>0.856246</td>\n",
       "      <td>0.002579</td>\n",
       "    </tr>\n",
       "    <tr>\n",
       "      <th>Algeria</th>\n",
       "      <td>0.760363</td>\n",
       "      <td>0.025130</td>\n",
       "    </tr>\n",
       "    <tr>\n",
       "      <th>Angola</th>\n",
       "      <td>0.072528</td>\n",
       "      <td>0.009269</td>\n",
       "    </tr>\n",
       "    <tr>\n",
       "      <th>Argentina</th>\n",
       "      <td>0.830589</td>\n",
       "      <td>0.030416</td>\n",
       "    </tr>\n",
       "  </tbody>\n",
       "</table>\n",
       "</div>"
      ],
      "text/plain": [
       "              lifeExp       pop\n",
       "country                        \n",
       "Afghanistan  0.098046  0.024035\n",
       "Albania      0.856246  0.002579\n",
       "Algeria      0.760363  0.025130\n",
       "Angola       0.072528  0.009269\n",
       "Argentina    0.830589  0.030416"
      ]
     },
     "execution_count": 35,
     "metadata": {},
     "output_type": "execute_result"
    }
   ],
   "source": [
    "# apply normalization techniques \n",
    "for column in df.columns: \n",
    "    df[column] = (df[column] - df[column].min()) / (df[column].max() - df[column].min())     \n",
    "  \n",
    "# view normalized data \n",
    "df.head()"
   ]
  },
  {
   "cell_type": "markdown",
   "id": "3f428dd4-5cff-4f6d-9f4c-fbc79bd19261",
   "metadata": {},
   "source": [
    "---\n",
    "# EJERCICIO 5\n",
    "\n",
    "**Crea un un nuevo dataset con los 3 paises más cercanos a cada país**, es decir un **dataset de \n",
    "distancias**, el resultado que se busca es como se ve en la imagen. Utilizarás el subset normalizado (ejercicio 4) para ello y una de las funciones que creaste (manhattan, euclideana o coseno)\n",
    "\n",
    "![](../img/distancias.png)\n",
    "\n",
    "**Cómo crear el dataset de distancias?**\n",
    "- Por cada país, necesitas calcular la distancia entre él y todos los demás países en el DataFrame. Evitando comparar cada país consigo mismo.\n",
    "- Cada iteración corresponde a cada país comparado, el país al que se le calculó la distancia, y la distancia entre ambos. (hint: una lista de tuplas o diccionarios puede ser útil aquí)\n",
    "- Después de hacer todas las comparaciones, convierte los resultados en un DataFrame con tres columnas: `nodeA`, `nodeB`, `distance`.\n",
    "- Para cada país (nodeA), agrupa las distancias calculadas y ordénalas de menor a mayor. Se quiere unicamente los tres países más cercanos a cada país (distancias más pequeñas para cada país)\n",
    "- No olvides revisar los resultados una vez que tengas la tabla final con los 3 países más cercanos para cada país"
   ]
  },
  {
   "cell_type": "code",
   "execution_count": null,
   "id": "e6d35a21-e030-4ae6-97a1-4fb11db4686d",
   "metadata": {},
   "outputs": [],
   "source": [
    "import math\n",
    "\n",
    "def distancia_euclidiana(x, y):\n",
    "    if len(x) != len(y):\n",
    "        raise ValueError(\"Los puntos deben tener la misma dimensión.\")\n",
    "    \n",
    "    suma_cuadrados = sum((p1 - p2) ** 2 for p1, p2 in zip(x, y))\n",
    "    return math.sqrt(suma_cuadrados)"
   ]
  },
  {
   "cell_type": "code",
   "execution_count": 41,
   "id": "ca3cb727-0f31-4838-91ab-2118238744eb",
   "metadata": {
    "tags": []
   },
   "outputs": [
    {
     "data": {
      "text/html": [
       "<div>\n",
       "<style scoped>\n",
       "    .dataframe tbody tr th:only-of-type {\n",
       "        vertical-align: middle;\n",
       "    }\n",
       "\n",
       "    .dataframe tbody tr th {\n",
       "        vertical-align: top;\n",
       "    }\n",
       "\n",
       "    .dataframe thead th {\n",
       "        text-align: right;\n",
       "    }\n",
       "</style>\n",
       "<table border=\"1\" class=\"dataframe\">\n",
       "  <thead>\n",
       "    <tr style=\"text-align: right;\">\n",
       "      <th></th>\n",
       "      <th>Pais_Origen</th>\n",
       "      <th>Pais_Destino</th>\n",
       "      <th>Distancia</th>\n",
       "    </tr>\n",
       "  </thead>\n",
       "  <tbody>\n",
       "    <tr>\n",
       "      <th>0</th>\n",
       "      <td>Afghanistan</td>\n",
       "      <td>Albania</td>\n",
       "      <td>0.758503</td>\n",
       "    </tr>\n",
       "    <tr>\n",
       "      <th>1</th>\n",
       "      <td>Afghanistan</td>\n",
       "      <td>Algeria</td>\n",
       "      <td>0.662318</td>\n",
       "    </tr>\n",
       "    <tr>\n",
       "      <th>2</th>\n",
       "      <td>Afghanistan</td>\n",
       "      <td>Angola</td>\n",
       "      <td>0.029482</td>\n",
       "    </tr>\n",
       "    <tr>\n",
       "      <th>3</th>\n",
       "      <td>Afghanistan</td>\n",
       "      <td>Argentina</td>\n",
       "      <td>0.732570</td>\n",
       "    </tr>\n",
       "    <tr>\n",
       "      <th>4</th>\n",
       "      <td>Afghanistan</td>\n",
       "      <td>Australia</td>\n",
       "      <td>0.870176</td>\n",
       "    </tr>\n",
       "    <tr>\n",
       "      <th>5</th>\n",
       "      <td>Afghanistan</td>\n",
       "      <td>Austria</td>\n",
       "      <td>0.837620</td>\n",
       "    </tr>\n",
       "    <tr>\n",
       "      <th>6</th>\n",
       "      <td>Afghanistan</td>\n",
       "      <td>Bahrain</td>\n",
       "      <td>0.740248</td>\n",
       "    </tr>\n",
       "    <tr>\n",
       "      <th>7</th>\n",
       "      <td>Afghanistan</td>\n",
       "      <td>Bangladesh</td>\n",
       "      <td>0.479180</td>\n",
       "    </tr>\n",
       "    <tr>\n",
       "      <th>8</th>\n",
       "      <td>Afghanistan</td>\n",
       "      <td>Belgium</td>\n",
       "      <td>0.828562</td>\n",
       "    </tr>\n",
       "  </tbody>\n",
       "</table>\n",
       "</div>"
      ],
      "text/plain": [
       "   Pais_Origen Pais_Destino  Distancia\n",
       "0  Afghanistan      Albania   0.758503\n",
       "1  Afghanistan      Algeria   0.662318\n",
       "2  Afghanistan       Angola   0.029482\n",
       "3  Afghanistan    Argentina   0.732570\n",
       "4  Afghanistan    Australia   0.870176\n",
       "5  Afghanistan      Austria   0.837620\n",
       "6  Afghanistan      Bahrain   0.740248\n",
       "7  Afghanistan   Bangladesh   0.479180\n",
       "8  Afghanistan      Belgium   0.828562"
      ]
     },
     "execution_count": 41,
     "metadata": {},
     "output_type": "execute_result"
    }
   ],
   "source": [
    "## dataframe \n",
    "\n",
    "# Crear una tabla con las distancias euclidianas entre cada país\n",
    "def tabla_distancias(df):\n",
    "    paises = df.index\n",
    "    distancias = []\n",
    "\n",
    "    for i in paises:\n",
    "        for j in paises:\n",
    "            if i != j:\n",
    "                # Calcular la distancia euclidiana entre los países i y j\n",
    "                distancia = distancia_euclidiana(df.loc[i], df.loc[j])\n",
    "                distancias.append([i, j, distancia])\n",
    "    \n",
    "    # Crear DataFrame con tres columnas: país de origen, país destino y la distancia\n",
    "    distancias_df = pd.DataFrame(distancias, columns=['Pais_Origen', 'Pais_Destino', 'Distancia'])\n",
    "    return distancias_df\n"
   ]
  },
  {
   "cell_type": "code",
   "execution_count": 43,
   "id": "6953072a-cfd2-4a0c-bb46-4de77b6298d4",
   "metadata": {},
   "outputs": [
    {
     "data": {
      "text/html": [
       "<div>\n",
       "<style scoped>\n",
       "    .dataframe tbody tr th:only-of-type {\n",
       "        vertical-align: middle;\n",
       "    }\n",
       "\n",
       "    .dataframe tbody tr th {\n",
       "        vertical-align: top;\n",
       "    }\n",
       "\n",
       "    .dataframe thead th {\n",
       "        text-align: right;\n",
       "    }\n",
       "</style>\n",
       "<table border=\"1\" class=\"dataframe\">\n",
       "  <thead>\n",
       "    <tr style=\"text-align: right;\">\n",
       "      <th></th>\n",
       "      <th>Pais_Origen</th>\n",
       "      <th>Pais_Destino</th>\n",
       "      <th>Distancia</th>\n",
       "    </tr>\n",
       "  </thead>\n",
       "  <tbody>\n",
       "    <tr>\n",
       "      <th>0</th>\n",
       "      <td>Afghanistan</td>\n",
       "      <td>Albania</td>\n",
       "      <td>0.758503</td>\n",
       "    </tr>\n",
       "    <tr>\n",
       "      <th>1</th>\n",
       "      <td>Afghanistan</td>\n",
       "      <td>Algeria</td>\n",
       "      <td>0.662318</td>\n",
       "    </tr>\n",
       "    <tr>\n",
       "      <th>2</th>\n",
       "      <td>Afghanistan</td>\n",
       "      <td>Angola</td>\n",
       "      <td>0.029482</td>\n",
       "    </tr>\n",
       "    <tr>\n",
       "      <th>3</th>\n",
       "      <td>Afghanistan</td>\n",
       "      <td>Argentina</td>\n",
       "      <td>0.732570</td>\n",
       "    </tr>\n",
       "    <tr>\n",
       "      <th>4</th>\n",
       "      <td>Afghanistan</td>\n",
       "      <td>Australia</td>\n",
       "      <td>0.870176</td>\n",
       "    </tr>\n",
       "    <tr>\n",
       "      <th>5</th>\n",
       "      <td>Afghanistan</td>\n",
       "      <td>Austria</td>\n",
       "      <td>0.837620</td>\n",
       "    </tr>\n",
       "    <tr>\n",
       "      <th>6</th>\n",
       "      <td>Afghanistan</td>\n",
       "      <td>Bahrain</td>\n",
       "      <td>0.740248</td>\n",
       "    </tr>\n",
       "    <tr>\n",
       "      <th>7</th>\n",
       "      <td>Afghanistan</td>\n",
       "      <td>Bangladesh</td>\n",
       "      <td>0.479180</td>\n",
       "    </tr>\n",
       "    <tr>\n",
       "      <th>8</th>\n",
       "      <td>Afghanistan</td>\n",
       "      <td>Belgium</td>\n",
       "      <td>0.828562</td>\n",
       "    </tr>\n",
       "  </tbody>\n",
       "</table>\n",
       "</div>"
      ],
      "text/plain": [
       "   Pais_Origen Pais_Destino  Distancia\n",
       "0  Afghanistan      Albania   0.758503\n",
       "1  Afghanistan      Algeria   0.662318\n",
       "2  Afghanistan       Angola   0.029482\n",
       "3  Afghanistan    Argentina   0.732570\n",
       "4  Afghanistan    Australia   0.870176\n",
       "5  Afghanistan      Austria   0.837620\n",
       "6  Afghanistan      Bahrain   0.740248\n",
       "7  Afghanistan   Bangladesh   0.479180\n",
       "8  Afghanistan      Belgium   0.828562"
      ]
     },
     "execution_count": 43,
     "metadata": {},
     "output_type": "execute_result"
    }
   ],
   "source": [
    "tabla_dist = tabla_distancias(df)\n",
    "\n",
    "# Mostrar la tabla de distancias\n",
    "tabla_dist.head(9)\n"
   ]
  },
  {
   "cell_type": "code",
   "execution_count": 75,
   "id": "00e714d9-4913-476b-9a82-c410cabdff13",
   "metadata": {},
   "outputs": [
    {
     "data": {
      "text/html": [
       "<div>\n",
       "<style scoped>\n",
       "    .dataframe tbody tr th:only-of-type {\n",
       "        vertical-align: middle;\n",
       "    }\n",
       "\n",
       "    .dataframe tbody tr th {\n",
       "        vertical-align: top;\n",
       "    }\n",
       "\n",
       "    .dataframe thead th {\n",
       "        text-align: right;\n",
       "    }\n",
       "</style>\n",
       "<table border=\"1\" class=\"dataframe\">\n",
       "  <thead>\n",
       "    <tr style=\"text-align: right;\">\n",
       "      <th></th>\n",
       "      <th>nodeA</th>\n",
       "      <th>nodeB</th>\n",
       "      <th>distance</th>\n",
       "    </tr>\n",
       "  </thead>\n",
       "  <tbody>\n",
       "    <tr>\n",
       "      <th>140</th>\n",
       "      <td>Afghanistan</td>\n",
       "      <td>Zimbabwe</td>\n",
       "      <td>0.016835</td>\n",
       "    </tr>\n",
       "    <tr>\n",
       "      <th>2</th>\n",
       "      <td>Afghanistan</td>\n",
       "      <td>Angola</td>\n",
       "      <td>0.029482</td>\n",
       "    </tr>\n",
       "    <tr>\n",
       "      <th>20</th>\n",
       "      <td>Afghanistan</td>\n",
       "      <td>Central African Republic</td>\n",
       "      <td>0.029778</td>\n",
       "    </tr>\n",
       "    <tr>\n",
       "      <th>275</th>\n",
       "      <td>Albania</td>\n",
       "      <td>Uruguay</td>\n",
       "      <td>0.000915</td>\n",
       "    </tr>\n",
       "    <tr>\n",
       "      <th>245</th>\n",
       "      <td>Albania</td>\n",
       "      <td>Reunion</td>\n",
       "      <td>0.002171</td>\n",
       "    </tr>\n",
       "    <tr>\n",
       "      <th>173</th>\n",
       "      <td>Albania</td>\n",
       "      <td>Czech Republic</td>\n",
       "      <td>0.005236</td>\n",
       "    </tr>\n",
       "    <tr>\n",
       "      <th>387</th>\n",
       "      <td>Algeria</td>\n",
       "      <td>Romania</td>\n",
       "      <td>0.009322</td>\n",
       "    </tr>\n",
       "    <tr>\n",
       "      <th>400</th>\n",
       "      <td>Algeria</td>\n",
       "      <td>Sri Lanka</td>\n",
       "      <td>0.010071</td>\n",
       "    </tr>\n",
       "    <tr>\n",
       "      <th>390</th>\n",
       "      <td>Algeria</td>\n",
       "      <td>Saudi Arabia</td>\n",
       "      <td>0.011895</td>\n",
       "    </tr>\n",
       "  </tbody>\n",
       "</table>\n",
       "</div>"
      ],
      "text/plain": [
       "           nodeA                     nodeB  distance\n",
       "140  Afghanistan                  Zimbabwe  0.016835\n",
       "2    Afghanistan                    Angola  0.029482\n",
       "20   Afghanistan  Central African Republic  0.029778\n",
       "275      Albania                   Uruguay  0.000915\n",
       "245      Albania                   Reunion  0.002171\n",
       "173      Albania            Czech Republic  0.005236\n",
       "387      Algeria                   Romania  0.009322\n",
       "400      Algeria                 Sri Lanka  0.010071\n",
       "390      Algeria              Saudi Arabia  0.011895"
      ]
     },
     "execution_count": 75,
     "metadata": {},
     "output_type": "execute_result"
    }
   ],
   "source": [
    "## top 3 distances \n",
    "\n",
    "def top_3_distancias_por_origen(tabla_dist):\n",
    "    # Clasificar los países destino por distancia para cada país de origen\n",
    "    tabla_dist['Rank'] = tabla_dist.groupby('Pais_Origen')['Distancia'].rank(method='first')\n",
    "    \n",
    "    # Filtrar para obtener solo los top n destinos más cercanos\n",
    "    top_3_distancias = tabla_dist[tabla_dist['Rank'] <= 3].copy()\n",
    "    \n",
    "    # Ordenar por país de origen y ranking\n",
    "    top_3_distancias = top_3_distancias[['Pais_Origen', 'Pais_Destino', 'Distancia']].sort_values(by=['Pais_Origen', 'Distancia'])\n",
    "    top_3_distancias = top_3_distancias.rename(columns={\n",
    "    'Pais_Origen': 'nodeA',\n",
    "    'Pais_Destino': 'nodeB',\n",
    "    'Distancia': 'distance'\n",
    "    })\n",
    "    \n",
    "    return top_3_distancias\n",
    "\n",
    "# Obtener el DataFrame con los top 3 destinos más cercanos para cada país\n",
    "df_top3 = top_3_distancias_por_origen(tabla_dist)\n",
    "df_top3.head(9)"
   ]
  },
  {
   "cell_type": "code",
   "execution_count": 79,
   "id": "465eecb5-854d-465c-912b-9542dbf9928d",
   "metadata": {},
   "outputs": [
    {
     "data": {
      "text/html": [
       "<div>\n",
       "<style scoped>\n",
       "    .dataframe tbody tr th:only-of-type {\n",
       "        vertical-align: middle;\n",
       "    }\n",
       "\n",
       "    .dataframe tbody tr th {\n",
       "        vertical-align: top;\n",
       "    }\n",
       "\n",
       "    .dataframe thead th {\n",
       "        text-align: right;\n",
       "    }\n",
       "</style>\n",
       "<table border=\"1\" class=\"dataframe\">\n",
       "  <thead>\n",
       "    <tr style=\"text-align: right;\">\n",
       "      <th></th>\n",
       "      <th>nodeA</th>\n",
       "      <th>nodeB</th>\n",
       "      <th>distance</th>\n",
       "    </tr>\n",
       "  </thead>\n",
       "  <tbody>\n",
       "    <tr>\n",
       "      <th>11698</th>\n",
       "      <td>Mexico</td>\n",
       "      <td>Vietnam</td>\n",
       "      <td>0.048632</td>\n",
       "    </tr>\n",
       "    <tr>\n",
       "      <th>11663</th>\n",
       "      <td>Mexico</td>\n",
       "      <td>Poland</td>\n",
       "      <td>0.055223</td>\n",
       "    </tr>\n",
       "    <tr>\n",
       "      <th>11566</th>\n",
       "      <td>Mexico</td>\n",
       "      <td>Argentina</td>\n",
       "      <td>0.055727</td>\n",
       "    </tr>\n",
       "  </tbody>\n",
       "</table>\n",
       "</div>"
      ],
      "text/plain": [
       "        nodeA      nodeB  distance\n",
       "11698  Mexico    Vietnam  0.048632\n",
       "11663  Mexico     Poland  0.055223\n",
       "11566  Mexico  Argentina  0.055727"
      ]
     },
     "execution_count": 79,
     "metadata": {},
     "output_type": "execute_result"
    }
   ],
   "source": [
    "df_top3[df_top3['nodeA'] == 'Mexico']"
   ]
  },
  {
   "cell_type": "markdown",
   "id": "29045c2c-fa13-4dd2-b1fe-36425ba8ed5f",
   "metadata": {},
   "source": [
    "---\n",
    "# EJERCICIO 6\n",
    "\n",
    "Reproduce el siguiente script.   \n",
    "El script utiliza la libreria `networkx` y `plotly` para visualizar una gráfica de red (network plot) visualizando la distancia (similitud) entre los paises basado en esperanza de vida y población.  \n",
    "\n",
    "**Nota:** Si el dataframe del ejercicio anterior no es correcto, la visualización no va a funcionar.\n",
    "\n",
    "**Responde lo siguiente:**\n",
    "- Cuales son los países más similares a México? **Vietnam, Polonia y Argentina**\n",
    "- Explica cuales serían las consideraciones éticas al decir que México es similar a esos países en el contexto de las variables `lifeExp` y `pop`, dando contexto de el año seleccionado y del significado de la funcion de similitud utilizada"
   ]
  },
  {
   "cell_type": "code",
   "execution_count": 84,
   "id": "5f383732-d95f-46f2-836d-cc533f478846",
   "metadata": {},
   "outputs": [],
   "source": [
    "df_network = df_top3.copy()"
   ]
  },
  {
   "cell_type": "code",
   "execution_count": 86,
   "id": "130f8a5b-2662-4421-a2c7-e5252daeb234",
   "metadata": {
    "tags": []
   },
   "outputs": [],
   "source": [
    "import networkx as nx\n",
    "\n",
    "#Empty graph object\n",
    "g = nx.Graph()\n",
    "\n",
    "# Adding all nodes\n",
    "g.add_nodes_from(list(df_network.nodeA.unique()))\n",
    "\n",
    "# Adding all edges\n",
    "edges_list = [(row[1][0],row[1][1],row[1][2]) for row in df_network.iterrows()]\n",
    "g.add_weighted_edges_from(edges_list)"
   ]
  },
  {
   "cell_type": "code",
   "execution_count": 88,
   "id": "b656ac48-9df3-4989-b303-1ddc99707d49",
   "metadata": {
    "tags": []
   },
   "outputs": [
    {
     "ename": "ModuleNotFoundError",
     "evalue": "No module named 'plotly'",
     "output_type": "error",
     "traceback": [
      "\u001b[0;31m---------------------------------------------------------------------------\u001b[0m",
      "\u001b[0;31mModuleNotFoundError\u001b[0m                       Traceback (most recent call last)",
      "Cell \u001b[0;32mIn[88], line 1\u001b[0m\n\u001b[0;32m----> 1\u001b[0m \u001b[38;5;28;01mimport\u001b[39;00m \u001b[38;5;21;01mplotly\u001b[39;00m\u001b[38;5;21;01m.\u001b[39;00m\u001b[38;5;21;01mgraph_objects\u001b[39;00m \u001b[38;5;28;01mas\u001b[39;00m \u001b[38;5;21;01mgo\u001b[39;00m\n\u001b[1;32m      3\u001b[0m pos \u001b[38;5;241m=\u001b[39m nx\u001b[38;5;241m.\u001b[39mspring_layout(g, dim\u001b[38;5;241m=\u001b[39m\u001b[38;5;241m2\u001b[39m, iterations\u001b[38;5;241m=\u001b[39m\u001b[38;5;241m10\u001b[39m, weight\u001b[38;5;241m=\u001b[39m\u001b[38;5;124m'\u001b[39m\u001b[38;5;124mweight\u001b[39m\u001b[38;5;124m'\u001b[39m, scale\u001b[38;5;241m=\u001b[39m\u001b[38;5;241m2\u001b[39m)\n\u001b[1;32m      5\u001b[0m \u001b[38;5;66;03m# Create a DataFrame for nodes\u001b[39;00m\n",
      "\u001b[0;31mModuleNotFoundError\u001b[0m: No module named 'plotly'"
     ]
    }
   ],
   "source": [
    "import plotly.graph_objects as go\n",
    "\n",
    "pos = nx.spring_layout(g, dim=2, iterations=10, weight='weight', scale=2)\n",
    "\n",
    "# Create a DataFrame for nodes\n",
    "node_x = []\n",
    "node_y = []\n",
    "for node in g.nodes():\n",
    "    x, y = pos[node]\n",
    "    node_x.append(x)\n",
    "    node_y.append(y)\n",
    "\n",
    "# Create a DataFrame for edges\n",
    "edge_x = []\n",
    "edge_y = []\n",
    "for edge in g.edges():\n",
    "    x0, y0 = pos[edge[0]]\n",
    "    x1, y1 = pos[edge[1]]\n",
    "    edge_x.append(x0)\n",
    "    edge_x.append(x1)\n",
    "    edge_x.append(None)  # For a break between edges\n",
    "    edge_y.append(y0)\n",
    "    edge_y.append(y1)\n",
    "    edge_y.append(None)  # For a break between edges\n",
    "\n",
    "# Create the plot\n",
    "fig = go.Figure()\n",
    "\n",
    "# Add edges to the plot\n",
    "fig.add_trace(go.Scatter(x=edge_x, y=edge_y,\n",
    "                         line=dict(width=0.5, color='gray'),\n",
    "                         hoverinfo='none',\n",
    "                         mode='lines'))\n",
    "\n",
    "# Add nodes to the plot\n",
    "fig.add_trace(go.Scatter(x=node_x, y=node_y,\n",
    "                         mode='markers+text',  # Show both markers and labels\n",
    "                         marker=dict(size=10, color='#9500ff'),\n",
    "                         text=[str(node) for node in g.nodes()],  # Add node labels\n",
    "                         textposition='top center',\n",
    "                         hoverinfo='text'))\n",
    "\n",
    "# Update layout for better aesthetics and set figure size\n",
    "fig.update_layout(\n",
    "    showlegend=False,\n",
    "    xaxis=dict(showgrid=False, zeroline=False),\n",
    "    yaxis=dict(showgrid=False, zeroline=False),\n",
    "    plot_bgcolor='white',\n",
    "    width=1200,  # Set the figure width\n",
    "    height=1500   # Set the figure height\n",
    ")\n",
    "\n",
    "# Display the plot\n",
    "fig.show()"
   ]
  },
  {
   "cell_type": "markdown",
   "id": "98f8676a-e0b6-4721-bd82-336ae1b276a4",
   "metadata": {},
   "source": [
    "La gráfica debe quedar como se ve en la imagen.   \n",
    "![](../img/countries_similarities.png)"
   ]
  },
  {
   "cell_type": "markdown",
   "id": "3d4de1c4-219e-42d1-8679-f70bce01b0d9",
   "metadata": {},
   "source": [
    "## 🎉🎉 Congrats!!  \n",
    "\n",
    "## You've finished the notebook"
   ]
  }
 ],
 "metadata": {
  "kernelspec": {
   "display_name": "Python 3 (ipykernel)",
   "language": "python",
   "name": "python3"
  },
  "language_info": {
   "codemirror_mode": {
    "name": "ipython",
    "version": 3
   },
   "file_extension": ".py",
   "mimetype": "text/x-python",
   "name": "python",
   "nbconvert_exporter": "python",
   "pygments_lexer": "ipython3",
   "version": "3.8.19"
  }
 },
 "nbformat": 4,
 "nbformat_minor": 5
}
