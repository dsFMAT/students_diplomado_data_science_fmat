{
 "cells": [
  {
   "cell_type": "code",
   "execution_count": 20,
   "id": "f6dda7d0-9120-4202-88ec-7f2820c61561",
   "metadata": {},
   "outputs": [],
   "source": [
    "import pandas as pd\n",
    "import numpy as np\n",
    "dataset = pd.read_csv('/app/my_data/students_diplomado_data_science_fmat/class_of_2024/Natasha_Baeza/gapminder_data_world_health.csv')"
   ]
  },
  {
   "cell_type": "code",
   "execution_count": 21,
   "id": "7e31b412-5423-4f13-ba8e-747a9aac026f",
   "metadata": {},
   "outputs": [
    {
     "data": {
      "text/html": [
       "<div>\n",
       "<style scoped>\n",
       "    .dataframe tbody tr th:only-of-type {\n",
       "        vertical-align: middle;\n",
       "    }\n",
       "\n",
       "    .dataframe tbody tr th {\n",
       "        vertical-align: top;\n",
       "    }\n",
       "\n",
       "    .dataframe thead th {\n",
       "        text-align: right;\n",
       "    }\n",
       "</style>\n",
       "<table border=\"1\" class=\"dataframe\">\n",
       "  <thead>\n",
       "    <tr style=\"text-align: right;\">\n",
       "      <th></th>\n",
       "      <th>country</th>\n",
       "      <th>continent</th>\n",
       "      <th>year</th>\n",
       "      <th>lifeExp</th>\n",
       "      <th>pop</th>\n",
       "      <th>gdpPercap</th>\n",
       "      <th>iso_alpha</th>\n",
       "      <th>iso_num</th>\n",
       "    </tr>\n",
       "  </thead>\n",
       "  <tbody>\n",
       "    <tr>\n",
       "      <th>0</th>\n",
       "      <td>Afghanistan</td>\n",
       "      <td>Asia</td>\n",
       "      <td>1952</td>\n",
       "      <td>28.801</td>\n",
       "      <td>8425333</td>\n",
       "      <td>779.445314</td>\n",
       "      <td>AFG</td>\n",
       "      <td>4</td>\n",
       "    </tr>\n",
       "    <tr>\n",
       "      <th>1</th>\n",
       "      <td>Afghanistan</td>\n",
       "      <td>Asia</td>\n",
       "      <td>1957</td>\n",
       "      <td>30.332</td>\n",
       "      <td>9240934</td>\n",
       "      <td>820.853030</td>\n",
       "      <td>AFG</td>\n",
       "      <td>4</td>\n",
       "    </tr>\n",
       "    <tr>\n",
       "      <th>2</th>\n",
       "      <td>Afghanistan</td>\n",
       "      <td>Asia</td>\n",
       "      <td>1962</td>\n",
       "      <td>31.997</td>\n",
       "      <td>10267083</td>\n",
       "      <td>853.100710</td>\n",
       "      <td>AFG</td>\n",
       "      <td>4</td>\n",
       "    </tr>\n",
       "    <tr>\n",
       "      <th>3</th>\n",
       "      <td>Afghanistan</td>\n",
       "      <td>Asia</td>\n",
       "      <td>1967</td>\n",
       "      <td>34.020</td>\n",
       "      <td>11537966</td>\n",
       "      <td>836.197138</td>\n",
       "      <td>AFG</td>\n",
       "      <td>4</td>\n",
       "    </tr>\n",
       "    <tr>\n",
       "      <th>4</th>\n",
       "      <td>Afghanistan</td>\n",
       "      <td>Asia</td>\n",
       "      <td>1972</td>\n",
       "      <td>36.088</td>\n",
       "      <td>13079460</td>\n",
       "      <td>739.981106</td>\n",
       "      <td>AFG</td>\n",
       "      <td>4</td>\n",
       "    </tr>\n",
       "    <tr>\n",
       "      <th>...</th>\n",
       "      <td>...</td>\n",
       "      <td>...</td>\n",
       "      <td>...</td>\n",
       "      <td>...</td>\n",
       "      <td>...</td>\n",
       "      <td>...</td>\n",
       "      <td>...</td>\n",
       "      <td>...</td>\n",
       "    </tr>\n",
       "    <tr>\n",
       "      <th>1699</th>\n",
       "      <td>Zimbabwe</td>\n",
       "      <td>Africa</td>\n",
       "      <td>1987</td>\n",
       "      <td>62.351</td>\n",
       "      <td>9216418</td>\n",
       "      <td>706.157306</td>\n",
       "      <td>ZWE</td>\n",
       "      <td>716</td>\n",
       "    </tr>\n",
       "    <tr>\n",
       "      <th>1700</th>\n",
       "      <td>Zimbabwe</td>\n",
       "      <td>Africa</td>\n",
       "      <td>1992</td>\n",
       "      <td>60.377</td>\n",
       "      <td>10704340</td>\n",
       "      <td>693.420786</td>\n",
       "      <td>ZWE</td>\n",
       "      <td>716</td>\n",
       "    </tr>\n",
       "    <tr>\n",
       "      <th>1701</th>\n",
       "      <td>Zimbabwe</td>\n",
       "      <td>Africa</td>\n",
       "      <td>1997</td>\n",
       "      <td>46.809</td>\n",
       "      <td>11404948</td>\n",
       "      <td>792.449960</td>\n",
       "      <td>ZWE</td>\n",
       "      <td>716</td>\n",
       "    </tr>\n",
       "    <tr>\n",
       "      <th>1702</th>\n",
       "      <td>Zimbabwe</td>\n",
       "      <td>Africa</td>\n",
       "      <td>2002</td>\n",
       "      <td>39.989</td>\n",
       "      <td>11926563</td>\n",
       "      <td>672.038623</td>\n",
       "      <td>ZWE</td>\n",
       "      <td>716</td>\n",
       "    </tr>\n",
       "    <tr>\n",
       "      <th>1703</th>\n",
       "      <td>Zimbabwe</td>\n",
       "      <td>Africa</td>\n",
       "      <td>2007</td>\n",
       "      <td>43.487</td>\n",
       "      <td>12311143</td>\n",
       "      <td>469.709298</td>\n",
       "      <td>ZWE</td>\n",
       "      <td>716</td>\n",
       "    </tr>\n",
       "  </tbody>\n",
       "</table>\n",
       "<p>1704 rows × 8 columns</p>\n",
       "</div>"
      ],
      "text/plain": [
       "          country continent  year  lifeExp       pop   gdpPercap iso_alpha  \\\n",
       "0     Afghanistan      Asia  1952   28.801   8425333  779.445314       AFG   \n",
       "1     Afghanistan      Asia  1957   30.332   9240934  820.853030       AFG   \n",
       "2     Afghanistan      Asia  1962   31.997  10267083  853.100710       AFG   \n",
       "3     Afghanistan      Asia  1967   34.020  11537966  836.197138       AFG   \n",
       "4     Afghanistan      Asia  1972   36.088  13079460  739.981106       AFG   \n",
       "...           ...       ...   ...      ...       ...         ...       ...   \n",
       "1699     Zimbabwe    Africa  1987   62.351   9216418  706.157306       ZWE   \n",
       "1700     Zimbabwe    Africa  1992   60.377  10704340  693.420786       ZWE   \n",
       "1701     Zimbabwe    Africa  1997   46.809  11404948  792.449960       ZWE   \n",
       "1702     Zimbabwe    Africa  2002   39.989  11926563  672.038623       ZWE   \n",
       "1703     Zimbabwe    Africa  2007   43.487  12311143  469.709298       ZWE   \n",
       "\n",
       "      iso_num  \n",
       "0           4  \n",
       "1           4  \n",
       "2           4  \n",
       "3           4  \n",
       "4           4  \n",
       "...       ...  \n",
       "1699      716  \n",
       "1700      716  \n",
       "1701      716  \n",
       "1702      716  \n",
       "1703      716  \n",
       "\n",
       "[1704 rows x 8 columns]"
      ]
     },
     "execution_count": 21,
     "metadata": {},
     "output_type": "execute_result"
    }
   ],
   "source": [
    "dataset"
   ]
  },
  {
   "cell_type": "markdown",
   "id": "9bfe9994-9d02-4ddb-975a-7f3d1aa9c1d6",
   "metadata": {},
   "source": [
    "### Ejercicio 1"
   ]
  },
  {
   "cell_type": "markdown",
   "id": "4a47daa0-3fa9-427d-a889-0b220e52b892",
   "metadata": {},
   "source": [
    "1.1 Describe las variables del dataset en los correspondientes tipos de datos y medidas.\n",
    "Cuales variables son categoricas y cuales son numéricas?\n",
    "Cuales son continuas de intervalo, continuas de ratio, nominales y ordinales?"
   ]
  },
  {
   "cell_type": "markdown",
   "id": "a560bf64-0bbb-4d48-b41e-44006fb9efa2",
   "metadata": {},
   "source": [
    "Las variables son:\n",
    "\n",
    "*Categóricas*:\n",
    "- Nominales: Country, Continent, iso_alpham iso_num\n",
    "- Ordinales: No hay, ninguna requiere un orden específico\n",
    "\n",
    "*Numéricas*\n",
    "- Continuas de intervalo: year (No se tiene un 0 absoluto)\n",
    "- Continuas de ratio: lifeExp,pop, gdppercap (Sí tiene un 0 absoluto que representa la ausencia en vida, población e ingresos) "
   ]
  },
  {
   "cell_type": "markdown",
   "id": "09b26998-9f0c-4bc9-b19a-f0fdd69c0e52",
   "metadata": {},
   "source": [
    "1.2 Utiliza la función de pandas dataset.dtypes\n",
    "Describe cual es la relación entre los \"data types\" que utiliza pandas y las que describiste el el punto anterior\n"
   ]
  },
  {
   "cell_type": "code",
   "execution_count": 22,
   "id": "3ee75001-7041-43d8-b0cc-b48719b5bbcd",
   "metadata": {},
   "outputs": [
    {
     "data": {
      "text/plain": [
       "country       object\n",
       "continent     object\n",
       "year           int64\n",
       "lifeExp      float64\n",
       "pop            int64\n",
       "gdpPercap    float64\n",
       "iso_alpha     object\n",
       "iso_num        int64\n",
       "dtype: object"
      ]
     },
     "execution_count": 22,
     "metadata": {},
     "output_type": "execute_result"
    }
   ],
   "source": [
    "dataset.dtypes"
   ]
  },
  {
   "cell_type": "markdown",
   "id": "7aafb194-6556-4ef2-aaab-be413869aba1",
   "metadata": {},
   "source": [
    "Las variables que pandas almacena como object son las categóricas nominales las cuales se etiquetan como cadenas de texto\n",
    "Las variables int64 o float64 al igual que lo descrito en el punto anterior tienen un cero significativo"
   ]
  },
  {
   "cell_type": "markdown",
   "id": "55dab8dc-93c3-445e-b443-b91fd2355077",
   "metadata": {},
   "source": [
    "## Ejercicio 2"
   ]
  },
  {
   "cell_type": "markdown",
   "id": "9e21ff52-6cde-4e50-89ad-2491f2fc4559",
   "metadata": {},
   "source": [
    "Utiliza la función groupby para agrupar los datos por continente y calcula el promedio de la columna lifeExp (esperanza de vida) para cada grupo"
   ]
  },
  {
   "cell_type": "code",
   "execution_count": 45,
   "id": "5b3eae45-1ec0-4047-9b15-6465f97afc28",
   "metadata": {},
   "outputs": [],
   "source": [
    "Promlifeexp=dataset.groupby('continent').agg({'lifeExp': 'mean'})"
   ]
  },
  {
   "cell_type": "code",
   "execution_count": 48,
   "id": "aed9df2e-25f4-4e94-9dcf-c876e8f57984",
   "metadata": {},
   "outputs": [
    {
     "data": {
      "text/html": [
       "<div>\n",
       "<style scoped>\n",
       "    .dataframe tbody tr th:only-of-type {\n",
       "        vertical-align: middle;\n",
       "    }\n",
       "\n",
       "    .dataframe tbody tr th {\n",
       "        vertical-align: top;\n",
       "    }\n",
       "\n",
       "    .dataframe thead th {\n",
       "        text-align: right;\n",
       "    }\n",
       "</style>\n",
       "<table border=\"1\" class=\"dataframe\">\n",
       "  <thead>\n",
       "    <tr style=\"text-align: right;\">\n",
       "      <th></th>\n",
       "      <th>lifeExp</th>\n",
       "    </tr>\n",
       "    <tr>\n",
       "      <th>continent</th>\n",
       "      <th></th>\n",
       "    </tr>\n",
       "  </thead>\n",
       "  <tbody>\n",
       "    <tr>\n",
       "      <th>Africa</th>\n",
       "      <td>48.9</td>\n",
       "    </tr>\n",
       "    <tr>\n",
       "      <th>Americas</th>\n",
       "      <td>64.7</td>\n",
       "    </tr>\n",
       "    <tr>\n",
       "      <th>Asia</th>\n",
       "      <td>60.1</td>\n",
       "    </tr>\n",
       "    <tr>\n",
       "      <th>Europe</th>\n",
       "      <td>71.9</td>\n",
       "    </tr>\n",
       "    <tr>\n",
       "      <th>Oceania</th>\n",
       "      <td>74.3</td>\n",
       "    </tr>\n",
       "  </tbody>\n",
       "</table>\n",
       "</div>"
      ],
      "text/plain": [
       "           lifeExp\n",
       "continent         \n",
       "Africa        48.9\n",
       "Americas      64.7\n",
       "Asia          60.1\n",
       "Europe        71.9\n",
       "Oceania       74.3"
      ]
     },
     "execution_count": 48,
     "metadata": {},
     "output_type": "execute_result"
    }
   ],
   "source": [
    "Promlifeexp=Promlifeexp.round(1)\n",
    "Promlifeexp"
   ]
  },
  {
   "cell_type": "code",
   "execution_count": null,
   "id": "cc0ae914-10ce-4116-bd67-d5289a73a5f4",
   "metadata": {},
   "outputs": [],
   "source": []
  },
  {
   "cell_type": "markdown",
   "id": "701be9dc-ef87-4899-9c66-3bfae3a98142",
   "metadata": {},
   "source": [
    "## Ejercicio 3"
   ]
  },
  {
   "cell_type": "markdown",
   "id": "a8daaa5b-8a8e-47fa-a722-d6cf332316e6",
   "metadata": {},
   "source": [
    "Extiende el ejercicio anterior para que, además del promedio de lifeExp, también calcules el valor máximo y mínimo de la esperanza de vida para cada continente."
   ]
  },
  {
   "cell_type": "code",
   "execution_count": 36,
   "id": "fe62569b-8a11-4e40-a838-6cff16b7033e",
   "metadata": {},
   "outputs": [
    {
     "data": {
      "text/html": [
       "<div>\n",
       "<style scoped>\n",
       "    .dataframe tbody tr th:only-of-type {\n",
       "        vertical-align: middle;\n",
       "    }\n",
       "\n",
       "    .dataframe tbody tr th {\n",
       "        vertical-align: top;\n",
       "    }\n",
       "\n",
       "    .dataframe thead th {\n",
       "        text-align: right;\n",
       "    }\n",
       "</style>\n",
       "<table border=\"1\" class=\"dataframe\">\n",
       "  <thead>\n",
       "    <tr style=\"text-align: right;\">\n",
       "      <th></th>\n",
       "      <th>Promlifeexp</th>\n",
       "      <th>Maxlifeexp</th>\n",
       "      <th>Minlifeexp</th>\n",
       "    </tr>\n",
       "    <tr>\n",
       "      <th>continent</th>\n",
       "      <th></th>\n",
       "      <th></th>\n",
       "      <th></th>\n",
       "    </tr>\n",
       "  </thead>\n",
       "  <tbody>\n",
       "    <tr>\n",
       "      <th>Africa</th>\n",
       "      <td>48.9</td>\n",
       "      <td>76.4</td>\n",
       "      <td>23.6</td>\n",
       "    </tr>\n",
       "    <tr>\n",
       "      <th>Americas</th>\n",
       "      <td>64.7</td>\n",
       "      <td>80.7</td>\n",
       "      <td>37.6</td>\n",
       "    </tr>\n",
       "    <tr>\n",
       "      <th>Asia</th>\n",
       "      <td>60.1</td>\n",
       "      <td>82.6</td>\n",
       "      <td>28.8</td>\n",
       "    </tr>\n",
       "    <tr>\n",
       "      <th>Europe</th>\n",
       "      <td>71.9</td>\n",
       "      <td>81.8</td>\n",
       "      <td>43.6</td>\n",
       "    </tr>\n",
       "    <tr>\n",
       "      <th>Oceania</th>\n",
       "      <td>74.3</td>\n",
       "      <td>81.2</td>\n",
       "      <td>69.1</td>\n",
       "    </tr>\n",
       "  </tbody>\n",
       "</table>\n",
       "</div>"
      ],
      "text/plain": [
       "           Promlifeexp  Maxlifeexp  Minlifeexp\n",
       "continent                                     \n",
       "Africa            48.9        76.4        23.6\n",
       "Americas          64.7        80.7        37.6\n",
       "Asia              60.1        82.6        28.8\n",
       "Europe            71.9        81.8        43.6\n",
       "Oceania           74.3        81.2        69.1"
      ]
     },
     "execution_count": 36,
     "metadata": {},
     "output_type": "execute_result"
    }
   ],
   "source": [
    "dataset.groupby('continent').agg(\n",
    "\n",
    "Promlifeexp=pd.NamedAgg(column='lifeExp', aggfunc=lambda x: np.round(np.mean(x), 1)),\n",
    "Maxlifeexp=pd.NamedAgg(column='lifeExp', aggfunc=lambda x: np.round(np.max(x), 1)),\n",
    "Minlifeexp=pd.NamedAgg(column='lifeExp', aggfunc=lambda x: np.round(np.min(x), 1)),\n",
    ")"
   ]
  },
  {
   "cell_type": "markdown",
   "id": "1c80b939-6035-4846-a506-679f613f30fe",
   "metadata": {},
   "source": [
    "## Ejercicio 4"
   ]
  },
  {
   "cell_type": "markdown",
   "id": "853c7f70-0518-4223-bee4-693b0c260dba",
   "metadata": {},
   "source": [
    "- Crea una tabla dinámica (pivot table) que muestre el promedio de `lifeExp` para cada continente (filas), con los años como columnas "
   ]
  },
  {
   "cell_type": "code",
   "execution_count": 40,
   "id": "774fd45c-e038-471f-acaa-c1daba6875f2",
   "metadata": {},
   "outputs": [],
   "source": [
    "TableLifeExp = dataset.pivot_table(values='lifeExp', index=['continent'],\n",
    "                       columns=['year'], aggfunc=np.mean)"
   ]
  },
  {
   "cell_type": "code",
   "execution_count": 41,
   "id": "6e3157a4-a233-47f6-bca2-5483f2ca6a37",
   "metadata": {},
   "outputs": [],
   "source": [
    "TableLifeExp = TableLifeExp.round(1)"
   ]
  },
  {
   "cell_type": "code",
   "execution_count": 42,
   "id": "53022608-db31-431d-af3d-3b2e429e8e27",
   "metadata": {},
   "outputs": [
    {
     "data": {
      "text/html": [
       "<div>\n",
       "<style scoped>\n",
       "    .dataframe tbody tr th:only-of-type {\n",
       "        vertical-align: middle;\n",
       "    }\n",
       "\n",
       "    .dataframe tbody tr th {\n",
       "        vertical-align: top;\n",
       "    }\n",
       "\n",
       "    .dataframe thead th {\n",
       "        text-align: right;\n",
       "    }\n",
       "</style>\n",
       "<table border=\"1\" class=\"dataframe\">\n",
       "  <thead>\n",
       "    <tr style=\"text-align: right;\">\n",
       "      <th>year</th>\n",
       "      <th>1952</th>\n",
       "      <th>1957</th>\n",
       "      <th>1962</th>\n",
       "      <th>1967</th>\n",
       "      <th>1972</th>\n",
       "      <th>1977</th>\n",
       "      <th>1982</th>\n",
       "      <th>1987</th>\n",
       "      <th>1992</th>\n",
       "      <th>1997</th>\n",
       "      <th>2002</th>\n",
       "      <th>2007</th>\n",
       "    </tr>\n",
       "    <tr>\n",
       "      <th>continent</th>\n",
       "      <th></th>\n",
       "      <th></th>\n",
       "      <th></th>\n",
       "      <th></th>\n",
       "      <th></th>\n",
       "      <th></th>\n",
       "      <th></th>\n",
       "      <th></th>\n",
       "      <th></th>\n",
       "      <th></th>\n",
       "      <th></th>\n",
       "      <th></th>\n",
       "    </tr>\n",
       "  </thead>\n",
       "  <tbody>\n",
       "    <tr>\n",
       "      <th>Africa</th>\n",
       "      <td>39.1</td>\n",
       "      <td>41.3</td>\n",
       "      <td>43.3</td>\n",
       "      <td>45.3</td>\n",
       "      <td>47.5</td>\n",
       "      <td>49.6</td>\n",
       "      <td>51.6</td>\n",
       "      <td>53.3</td>\n",
       "      <td>53.6</td>\n",
       "      <td>53.6</td>\n",
       "      <td>53.3</td>\n",
       "      <td>54.8</td>\n",
       "    </tr>\n",
       "    <tr>\n",
       "      <th>Americas</th>\n",
       "      <td>53.3</td>\n",
       "      <td>56.0</td>\n",
       "      <td>58.4</td>\n",
       "      <td>60.4</td>\n",
       "      <td>62.4</td>\n",
       "      <td>64.4</td>\n",
       "      <td>66.2</td>\n",
       "      <td>68.1</td>\n",
       "      <td>69.6</td>\n",
       "      <td>71.2</td>\n",
       "      <td>72.4</td>\n",
       "      <td>73.6</td>\n",
       "    </tr>\n",
       "    <tr>\n",
       "      <th>Asia</th>\n",
       "      <td>46.3</td>\n",
       "      <td>49.3</td>\n",
       "      <td>51.6</td>\n",
       "      <td>54.7</td>\n",
       "      <td>57.3</td>\n",
       "      <td>59.6</td>\n",
       "      <td>62.6</td>\n",
       "      <td>64.9</td>\n",
       "      <td>66.5</td>\n",
       "      <td>68.0</td>\n",
       "      <td>69.2</td>\n",
       "      <td>70.7</td>\n",
       "    </tr>\n",
       "    <tr>\n",
       "      <th>Europe</th>\n",
       "      <td>64.4</td>\n",
       "      <td>66.7</td>\n",
       "      <td>68.5</td>\n",
       "      <td>69.7</td>\n",
       "      <td>70.8</td>\n",
       "      <td>71.9</td>\n",
       "      <td>72.8</td>\n",
       "      <td>73.6</td>\n",
       "      <td>74.4</td>\n",
       "      <td>75.5</td>\n",
       "      <td>76.7</td>\n",
       "      <td>77.6</td>\n",
       "    </tr>\n",
       "    <tr>\n",
       "      <th>Oceania</th>\n",
       "      <td>69.3</td>\n",
       "      <td>70.3</td>\n",
       "      <td>71.1</td>\n",
       "      <td>71.3</td>\n",
       "      <td>71.9</td>\n",
       "      <td>72.9</td>\n",
       "      <td>74.3</td>\n",
       "      <td>75.3</td>\n",
       "      <td>76.9</td>\n",
       "      <td>78.2</td>\n",
       "      <td>79.7</td>\n",
       "      <td>80.7</td>\n",
       "    </tr>\n",
       "  </tbody>\n",
       "</table>\n",
       "</div>"
      ],
      "text/plain": [
       "year       1952  1957  1962  1967  1972  1977  1982  1987  1992  1997  2002  \\\n",
       "continent                                                                     \n",
       "Africa     39.1  41.3  43.3  45.3  47.5  49.6  51.6  53.3  53.6  53.6  53.3   \n",
       "Americas   53.3  56.0  58.4  60.4  62.4  64.4  66.2  68.1  69.6  71.2  72.4   \n",
       "Asia       46.3  49.3  51.6  54.7  57.3  59.6  62.6  64.9  66.5  68.0  69.2   \n",
       "Europe     64.4  66.7  68.5  69.7  70.8  71.9  72.8  73.6  74.4  75.5  76.7   \n",
       "Oceania    69.3  70.3  71.1  71.3  71.9  72.9  74.3  75.3  76.9  78.2  79.7   \n",
       "\n",
       "year       2007  \n",
       "continent        \n",
       "Africa     54.8  \n",
       "Americas   73.6  \n",
       "Asia       70.7  \n",
       "Europe     77.6  \n",
       "Oceania    80.7  "
      ]
     },
     "execution_count": 42,
     "metadata": {},
     "output_type": "execute_result"
    }
   ],
   "source": [
    "TableLifeExp"
   ]
  },
  {
   "cell_type": "markdown",
   "id": "beb99a04-f457-4c03-9567-4a959f619c39",
   "metadata": {},
   "source": [
    "## Ejercicio 5"
   ]
  },
  {
   "cell_type": "markdown",
   "id": "7bd68c11-9223-4b8e-92a8-232271af542f",
   "metadata": {},
   "source": [
    "Agrupa los datos por continente y calcula la suma de la columna iso_num para cada grupo.\n",
    "Reflexiona sobre el significado de esta suma en el contexto de los datos."
   ]
  },
  {
   "cell_type": "code",
   "execution_count": 50,
   "id": "092b7931-fd6b-45d6-948b-03a797d494c1",
   "metadata": {},
   "outputs": [],
   "source": [
    "SumIsoNum=dataset.groupby('continent').agg({'iso_num': 'sum'})"
   ]
  },
  {
   "cell_type": "code",
   "execution_count": 51,
   "id": "bd29cee6-ae4b-4167-a874-93842fa03ce4",
   "metadata": {},
   "outputs": [
    {
     "data": {
      "text/html": [
       "<div>\n",
       "<style scoped>\n",
       "    .dataframe tbody tr th:only-of-type {\n",
       "        vertical-align: middle;\n",
       "    }\n",
       "\n",
       "    .dataframe tbody tr th {\n",
       "        vertical-align: top;\n",
       "    }\n",
       "\n",
       "    .dataframe thead th {\n",
       "        text-align: right;\n",
       "    }\n",
       "</style>\n",
       "<table border=\"1\" class=\"dataframe\">\n",
       "  <thead>\n",
       "    <tr style=\"text-align: right;\">\n",
       "      <th></th>\n",
       "      <th>iso_num</th>\n",
       "    </tr>\n",
       "    <tr>\n",
       "      <th>continent</th>\n",
       "      <th></th>\n",
       "    </tr>\n",
       "  </thead>\n",
       "  <tbody>\n",
       "    <tr>\n",
       "      <th>Africa</th>\n",
       "      <td>286308</td>\n",
       "    </tr>\n",
       "    <tr>\n",
       "      <th>Americas</th>\n",
       "      <td>118116</td>\n",
       "    </tr>\n",
       "    <tr>\n",
       "      <th>Asia</th>\n",
       "      <td>160248</td>\n",
       "    </tr>\n",
       "    <tr>\n",
       "      <th>Europe</th>\n",
       "      <td>153948</td>\n",
       "    </tr>\n",
       "    <tr>\n",
       "      <th>Oceania</th>\n",
       "      <td>7080</td>\n",
       "    </tr>\n",
       "  </tbody>\n",
       "</table>\n",
       "</div>"
      ],
      "text/plain": [
       "           iso_num\n",
       "continent         \n",
       "Africa      286308\n",
       "Americas    118116\n",
       "Asia        160248\n",
       "Europe      153948\n",
       "Oceania       7080"
      ]
     },
     "execution_count": 51,
     "metadata": {},
     "output_type": "execute_result"
    }
   ],
   "source": [
    "SumIsoNum"
   ]
  },
  {
   "cell_type": "markdown",
   "id": "0da45068-5d95-4595-bccc-6f52e1951642",
   "metadata": {},
   "source": [
    "La variable Iso_num es un identificador de cada pais, la suma no agrega valor ya que solo es la suma de los indicadores agrupados por cada continente, para una mejor comprension de los datos da mayor visibilidad los datos como promedio de esperanza de vida o el max y min, en todo caso un dato interesante podria ser la suma de habitantes o promedio de habitantes y tambien el ingreso combinado con la esperanza de vida"
   ]
  },
  {
   "cell_type": "code",
   "execution_count": 58,
   "id": "1a6546d2-39d0-4ee4-9ee7-09e0b81a501b",
   "metadata": {},
   "outputs": [
    {
     "data": {
      "text/html": [
       "<div>\n",
       "<style scoped>\n",
       "    .dataframe tbody tr th:only-of-type {\n",
       "        vertical-align: middle;\n",
       "    }\n",
       "\n",
       "    .dataframe tbody tr th {\n",
       "        vertical-align: top;\n",
       "    }\n",
       "\n",
       "    .dataframe thead th {\n",
       "        text-align: right;\n",
       "    }\n",
       "</style>\n",
       "<table border=\"1\" class=\"dataframe\">\n",
       "  <thead>\n",
       "    <tr style=\"text-align: right;\">\n",
       "      <th></th>\n",
       "      <th>Promlifeexp</th>\n",
       "      <th>SumPoblacion</th>\n",
       "      <th>PromIngreso</th>\n",
       "    </tr>\n",
       "    <tr>\n",
       "      <th>continent</th>\n",
       "      <th></th>\n",
       "      <th></th>\n",
       "      <th></th>\n",
       "    </tr>\n",
       "  </thead>\n",
       "  <tbody>\n",
       "    <tr>\n",
       "      <th>Africa</th>\n",
       "      <td>48.9</td>\n",
       "      <td>6187585961</td>\n",
       "      <td>2193.75</td>\n",
       "    </tr>\n",
       "    <tr>\n",
       "      <th>Americas</th>\n",
       "      <td>64.7</td>\n",
       "      <td>7351438499</td>\n",
       "      <td>7136.11</td>\n",
       "    </tr>\n",
       "    <tr>\n",
       "      <th>Asia</th>\n",
       "      <td>60.1</td>\n",
       "      <td>30507333901</td>\n",
       "      <td>7902.15</td>\n",
       "    </tr>\n",
       "    <tr>\n",
       "      <th>Europe</th>\n",
       "      <td>71.9</td>\n",
       "      <td>6181115304</td>\n",
       "      <td>14469.48</td>\n",
       "    </tr>\n",
       "    <tr>\n",
       "      <th>Oceania</th>\n",
       "      <td>74.3</td>\n",
       "      <td>212992136</td>\n",
       "      <td>18621.61</td>\n",
       "    </tr>\n",
       "  </tbody>\n",
       "</table>\n",
       "</div>"
      ],
      "text/plain": [
       "           Promlifeexp  SumPoblacion  PromIngreso\n",
       "continent                                        \n",
       "Africa            48.9    6187585961      2193.75\n",
       "Americas          64.7    7351438499      7136.11\n",
       "Asia              60.1   30507333901      7902.15\n",
       "Europe            71.9    6181115304     14469.48\n",
       "Oceania           74.3     212992136     18621.61"
      ]
     },
     "execution_count": 58,
     "metadata": {},
     "output_type": "execute_result"
    }
   ],
   "source": [
    "dataset.groupby('continent').agg(\n",
    "\n",
    "Promlifeexp=pd.NamedAgg(column='lifeExp', aggfunc=lambda x: np.round(np.mean(x), 1)),\n",
    "SumPoblacion=pd.NamedAgg(column='pop', aggfunc=lambda x: np.round(np.sum(x), 1)),\n",
    "PromIngreso=pd.NamedAgg(column='gdpPercap', aggfunc=lambda x: np.round(np.mean(x), 2)),\n",
    ")"
   ]
  },
  {
   "cell_type": "markdown",
   "id": "1dbf1b4e-e146-4d25-a69a-609c857f2d73",
   "metadata": {},
   "source": [
    "Lo anterior se observa que la Esperanza de vida de Africa es muy baja y su ingreso es mucho menor a cualquiera de los otros continentes, algo adicional a explorar pero por el PIB puede dar indicarnos que pobreza y falta de ingresos para salud son posibles variables que influyen en la esperanza de vida de la poblacion"
   ]
  },
  {
   "cell_type": "code",
   "execution_count": 55,
   "id": "7f67b852-c1df-4d8c-8018-6ab4e19d8431",
   "metadata": {},
   "outputs": [
    {
     "name": "stdout",
     "output_type": "stream",
     "text": [
      "                 country  iso_num\n",
      "0            Afghanistan        4\n",
      "12               Albania        8\n",
      "24               Algeria       12\n",
      "36                Angola       24\n",
      "48             Argentina       32\n",
      "...                  ...      ...\n",
      "1644             Vietnam      704\n",
      "1656  West Bank and Gaza      275\n",
      "1668         Yemen, Rep.      887\n",
      "1680              Zambia      894\n",
      "1692            Zimbabwe      716\n",
      "\n",
      "[142 rows x 2 columns]\n"
     ]
    }
   ],
   "source": [
    "#Adicional solamente para comprobar que cada isonum es diferente por pais\n",
    "\n",
    "Distinct = dataset[['country', 'iso_num']].drop_duplicates()\n",
    "print(Distinct)"
   ]
  },
  {
   "cell_type": "code",
   "execution_count": null,
   "id": "01765452-beb3-4a49-8166-69d4dce15a7f",
   "metadata": {},
   "outputs": [],
   "source": []
  }
 ],
 "metadata": {
  "kernelspec": {
   "display_name": "Python 3 (ipykernel)",
   "language": "python",
   "name": "python3"
  },
  "language_info": {
   "codemirror_mode": {
    "name": "ipython",
    "version": 3
   },
   "file_extension": ".py",
   "mimetype": "text/x-python",
   "name": "python",
   "nbconvert_exporter": "python",
   "pygments_lexer": "ipython3",
   "version": "3.8.19"
  }
 },
 "nbformat": 4,
 "nbformat_minor": 5
}
