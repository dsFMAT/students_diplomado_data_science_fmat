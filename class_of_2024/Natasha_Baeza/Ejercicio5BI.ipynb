{
 "cells": [
  {
   "cell_type": "markdown",
   "id": "ee9327fa-f5de-44be-b7fb-270544b3fdf4",
   "metadata": {},
   "source": [
    "# Ejercicios Tema 5: Business Intelligence"
   ]
  },
  {
   "cell_type": "code",
   "execution_count": 52,
   "id": "925e6cda-bfd1-4921-b714-3be8cb72ef8b",
   "metadata": {},
   "outputs": [],
   "source": [
    "import pandas as pd\n",
    "import numpy as np\n",
    "dataset = pd.read_csv('/app/my_data/students_diplomado_data_science_fmat/class_of_2024/Natasha_Baeza/gapminder_data_world_health.csv')"
   ]
  },
  {
   "cell_type": "markdown",
   "id": "f0ad212e-70cb-4130-8861-e11363bf62ba",
   "metadata": {},
   "source": [
    "### Ejercicio 2"
   ]
  },
  {
   "cell_type": "markdown",
   "id": "ff3b5e46-4feb-47f6-9d95-b668408700d6",
   "metadata": {},
   "source": [
    "Desarrolla una gráfica de barras en Looker Studio que represente la analítica descriptiva del KPI de esperanza de vida promedio.\n",
    "- Prueba mostrando 5 países pobres (tu decides el subset apropiado) una esperanza de vida baja en el año más reciente disponible.\n",
    "- NOTA: En Looker Studio las variables categóricas se les llama \"Dimension\" y a las numericas se les llama \"Metric\"\n",
    "- Publica la grafica de barras e incrustala en este notebook usando IPython.display checa ejemplo aquí"
   ]
  },
  {
   "cell_type": "code",
   "execution_count": 30,
   "id": "71cf5723-9ad2-4b66-9c60-a4e227faadf4",
   "metadata": {},
   "outputs": [],
   "source": [
    "#Se realiza el campo calculado con la métrica de promedio de esperanza de vida\n",
    "# Se utiliza doble filtro: el primero filtrando por el año 2007 y el segundo filtrando para que se muestren\n",
    "# los 5 paises con esperanza de vida más baja en ese año (observando se usa el filtro que sea menor o igual a 42.6)"
   ]
  },
  {
   "cell_type": "code",
   "execution_count": 36,
   "id": "eb6d0057-1f76-487e-89b6-48d80a79cdb6",
   "metadata": {},
   "outputs": [
    {
     "data": {
      "text/html": [
       "\n",
       "        <iframe\n",
       "            width=\"650\"\n",
       "            height=\"300\"\n",
       "            src=\"https://lookerstudio.google.com/embed/reporting/36e6c2fe-550d-402a-acb2-75b63aabb7ed/page/v0kCE\"\n",
       "            frameborder=\"0\"\n",
       "            allowfullscreen\n",
       "            \n",
       "        ></iframe>\n",
       "        "
      ],
      "text/plain": [
       "<IPython.lib.display.IFrame at 0x7fe05be150d0>"
      ]
     },
     "execution_count": 36,
     "metadata": {},
     "output_type": "execute_result"
    }
   ],
   "source": [
    "import IPython\n",
    "src= 'https://lookerstudio.google.com/embed/reporting/36e6c2fe-550d-402a-acb2-75b63aabb7ed/page/v0kCE'\n",
    "IPython.display.IFrame(src,width=650, height=300)"
   ]
  },
  {
   "cell_type": "markdown",
   "id": "696dff89-8761-4e5c-8149-0668974b02ae",
   "metadata": {},
   "source": [
    "De lo anterior se observa que Suazilandia es el que tiene la esperanza de vida promedio más baja seguido por Mozambique, de igual forma Sierra y Lesotho son los que tienen una esperanza de vida similar"
   ]
  },
  {
   "cell_type": "markdown",
   "id": "ce2c4656-3f67-428c-968a-a0bb062827ca",
   "metadata": {},
   "source": [
    "### Ejercicio 3"
   ]
  },
  {
   "cell_type": "markdown",
   "id": "ec5c3b3d-5899-4871-950f-45c6722ae1da",
   "metadata": {},
   "source": [
    "Desarrolla un gráfico de dispersión que represente la analítica diagnóstica, examinando la relación entre el PIB per cápita y la esperanza de vida de esos países pobres.\n",
    "- Prueba correlacionando ambas variables, checa que pasa comparando años\n",
    "- Publica la grafica de barras e incrustala en este notebook usando IPython.display checa ejemplo aquí"
   ]
  },
  {
   "cell_type": "code",
   "execution_count": 35,
   "id": "93a1a201-dacd-4e77-b9e4-e1676106b766",
   "metadata": {},
   "outputs": [
    {
     "data": {
      "text/html": [
       "\n",
       "        <iframe\n",
       "            width=\"650\"\n",
       "            height=\"300\"\n",
       "            src=\"https://lookerstudio.google.com/embed/reporting/36e6c2fe-550d-402a-acb2-75b63aabb7ed/page/v0kCE\"\n",
       "            frameborder=\"0\"\n",
       "            allowfullscreen\n",
       "            \n",
       "        ></iframe>\n",
       "        "
      ],
      "text/plain": [
       "<IPython.lib.display.IFrame at 0x7fe05bbf64c0>"
      ]
     },
     "execution_count": 35,
     "metadata": {},
     "output_type": "execute_result"
    }
   ],
   "source": [
    "src= 'https://lookerstudio.google.com/embed/reporting/36e6c2fe-550d-402a-acb2-75b63aabb7ed/page/v0kCE'\n",
    "IPython.display.IFrame(src,width=650, height=300)"
   ]
  },
  {
   "cell_type": "markdown",
   "id": "efcc7949-0929-4b45-a404-62303bc09dfa",
   "metadata": {},
   "source": [
    "Se realizan comparaciones respecto a lo más reciente con lo anterior y se puede observar que en 2007 Swaziland tiene la esperanza menor de todos lo países (como se aprecia en el ejercicio anterior), sin embargo su PIB es el más alto de todos los del gráfico, adicional a esto se ve que tuvo una caida en la esperanza de vida respecto al año 2022\n",
    "\n",
    "Zambia y Sierra tuvieron un aumento en su esperanza de vida comparado vs 2022 pero su PIB sigue aproximadamente similar en ambos años"
   ]
  },
  {
   "cell_type": "markdown",
   "id": "ece9cb0e-674b-4a2a-9707-62c7ceff7b92",
   "metadata": {},
   "source": [
    "### Ejercicio 4"
   ]
  },
  {
   "cell_type": "markdown",
   "id": "de1576fe-b490-4d36-9ad0-f530c7b8d158",
   "metadata": {},
   "source": [
    "- Desarrolla un gráfico linear o waterfall que represente la analítica predictiva mostrando la tendencia de la esperanza de vida en los países seleccionados en los próximos años.\n",
    "- Que patrones puedes observar? Apoyate agregando un filtro"
   ]
  },
  {
   "cell_type": "markdown",
   "id": "44a7d60c-a654-4bfa-862a-1a4758b6d8e4",
   "metadata": {},
   "source": [
    "Se filtra el dataset por los países de interés que se obtuvieron en los ejercicios anteriores como los países de espernza de vida más baja:\n",
    "- Swaziland\n",
    "- Zambia\n",
    "- Mozambique\n",
    "- Lesotho\n",
    "- Sierra Leone"
   ]
  },
  {
   "cell_type": "code",
   "execution_count": 85,
   "id": "cf940496-46df-4e65-8db2-a5ea630635d7",
   "metadata": {},
   "outputs": [],
   "source": [
    "import numpy as np\n",
    "import pandas as pd\n",
    "from sklearn.linear_model import LinearRegression"
   ]
  },
  {
   "cell_type": "code",
   "execution_count": 53,
   "id": "2d1a790e-67ca-470f-aa12-983d1b50b936",
   "metadata": {
    "scrolled": true
   },
   "outputs": [
    {
     "data": {
      "text/html": [
       "<div>\n",
       "<style scoped>\n",
       "    .dataframe tbody tr th:only-of-type {\n",
       "        vertical-align: middle;\n",
       "    }\n",
       "\n",
       "    .dataframe tbody tr th {\n",
       "        vertical-align: top;\n",
       "    }\n",
       "\n",
       "    .dataframe thead th {\n",
       "        text-align: right;\n",
       "    }\n",
       "</style>\n",
       "<table border=\"1\" class=\"dataframe\">\n",
       "  <thead>\n",
       "    <tr style=\"text-align: right;\">\n",
       "      <th></th>\n",
       "      <th>country</th>\n",
       "      <th>continent</th>\n",
       "      <th>year</th>\n",
       "      <th>lifeExp</th>\n",
       "      <th>pop</th>\n",
       "      <th>gdpPercap</th>\n",
       "      <th>iso_alpha</th>\n",
       "      <th>iso_num</th>\n",
       "    </tr>\n",
       "  </thead>\n",
       "  <tbody>\n",
       "    <tr>\n",
       "      <th>0</th>\n",
       "      <td>Afghanistan</td>\n",
       "      <td>Asia</td>\n",
       "      <td>1952</td>\n",
       "      <td>28.801</td>\n",
       "      <td>8425333</td>\n",
       "      <td>779.445314</td>\n",
       "      <td>AFG</td>\n",
       "      <td>4</td>\n",
       "    </tr>\n",
       "    <tr>\n",
       "      <th>1</th>\n",
       "      <td>Afghanistan</td>\n",
       "      <td>Asia</td>\n",
       "      <td>1957</td>\n",
       "      <td>30.332</td>\n",
       "      <td>9240934</td>\n",
       "      <td>820.853030</td>\n",
       "      <td>AFG</td>\n",
       "      <td>4</td>\n",
       "    </tr>\n",
       "    <tr>\n",
       "      <th>2</th>\n",
       "      <td>Afghanistan</td>\n",
       "      <td>Asia</td>\n",
       "      <td>1962</td>\n",
       "      <td>31.997</td>\n",
       "      <td>10267083</td>\n",
       "      <td>853.100710</td>\n",
       "      <td>AFG</td>\n",
       "      <td>4</td>\n",
       "    </tr>\n",
       "    <tr>\n",
       "      <th>3</th>\n",
       "      <td>Afghanistan</td>\n",
       "      <td>Asia</td>\n",
       "      <td>1967</td>\n",
       "      <td>34.020</td>\n",
       "      <td>11537966</td>\n",
       "      <td>836.197138</td>\n",
       "      <td>AFG</td>\n",
       "      <td>4</td>\n",
       "    </tr>\n",
       "    <tr>\n",
       "      <th>4</th>\n",
       "      <td>Afghanistan</td>\n",
       "      <td>Asia</td>\n",
       "      <td>1972</td>\n",
       "      <td>36.088</td>\n",
       "      <td>13079460</td>\n",
       "      <td>739.981106</td>\n",
       "      <td>AFG</td>\n",
       "      <td>4</td>\n",
       "    </tr>\n",
       "    <tr>\n",
       "      <th>...</th>\n",
       "      <td>...</td>\n",
       "      <td>...</td>\n",
       "      <td>...</td>\n",
       "      <td>...</td>\n",
       "      <td>...</td>\n",
       "      <td>...</td>\n",
       "      <td>...</td>\n",
       "      <td>...</td>\n",
       "    </tr>\n",
       "    <tr>\n",
       "      <th>1699</th>\n",
       "      <td>Zimbabwe</td>\n",
       "      <td>Africa</td>\n",
       "      <td>1987</td>\n",
       "      <td>62.351</td>\n",
       "      <td>9216418</td>\n",
       "      <td>706.157306</td>\n",
       "      <td>ZWE</td>\n",
       "      <td>716</td>\n",
       "    </tr>\n",
       "    <tr>\n",
       "      <th>1700</th>\n",
       "      <td>Zimbabwe</td>\n",
       "      <td>Africa</td>\n",
       "      <td>1992</td>\n",
       "      <td>60.377</td>\n",
       "      <td>10704340</td>\n",
       "      <td>693.420786</td>\n",
       "      <td>ZWE</td>\n",
       "      <td>716</td>\n",
       "    </tr>\n",
       "    <tr>\n",
       "      <th>1701</th>\n",
       "      <td>Zimbabwe</td>\n",
       "      <td>Africa</td>\n",
       "      <td>1997</td>\n",
       "      <td>46.809</td>\n",
       "      <td>11404948</td>\n",
       "      <td>792.449960</td>\n",
       "      <td>ZWE</td>\n",
       "      <td>716</td>\n",
       "    </tr>\n",
       "    <tr>\n",
       "      <th>1702</th>\n",
       "      <td>Zimbabwe</td>\n",
       "      <td>Africa</td>\n",
       "      <td>2002</td>\n",
       "      <td>39.989</td>\n",
       "      <td>11926563</td>\n",
       "      <td>672.038623</td>\n",
       "      <td>ZWE</td>\n",
       "      <td>716</td>\n",
       "    </tr>\n",
       "    <tr>\n",
       "      <th>1703</th>\n",
       "      <td>Zimbabwe</td>\n",
       "      <td>Africa</td>\n",
       "      <td>2007</td>\n",
       "      <td>43.487</td>\n",
       "      <td>12311143</td>\n",
       "      <td>469.709298</td>\n",
       "      <td>ZWE</td>\n",
       "      <td>716</td>\n",
       "    </tr>\n",
       "  </tbody>\n",
       "</table>\n",
       "<p>1704 rows × 8 columns</p>\n",
       "</div>"
      ],
      "text/plain": [
       "          country continent  year  lifeExp       pop   gdpPercap iso_alpha  \\\n",
       "0     Afghanistan      Asia  1952   28.801   8425333  779.445314       AFG   \n",
       "1     Afghanistan      Asia  1957   30.332   9240934  820.853030       AFG   \n",
       "2     Afghanistan      Asia  1962   31.997  10267083  853.100710       AFG   \n",
       "3     Afghanistan      Asia  1967   34.020  11537966  836.197138       AFG   \n",
       "4     Afghanistan      Asia  1972   36.088  13079460  739.981106       AFG   \n",
       "...           ...       ...   ...      ...       ...         ...       ...   \n",
       "1699     Zimbabwe    Africa  1987   62.351   9216418  706.157306       ZWE   \n",
       "1700     Zimbabwe    Africa  1992   60.377  10704340  693.420786       ZWE   \n",
       "1701     Zimbabwe    Africa  1997   46.809  11404948  792.449960       ZWE   \n",
       "1702     Zimbabwe    Africa  2002   39.989  11926563  672.038623       ZWE   \n",
       "1703     Zimbabwe    Africa  2007   43.487  12311143  469.709298       ZWE   \n",
       "\n",
       "      iso_num  \n",
       "0           4  \n",
       "1           4  \n",
       "2           4  \n",
       "3           4  \n",
       "4           4  \n",
       "...       ...  \n",
       "1699      716  \n",
       "1700      716  \n",
       "1701      716  \n",
       "1702      716  \n",
       "1703      716  \n",
       "\n",
       "[1704 rows x 8 columns]"
      ]
     },
     "execution_count": 53,
     "metadata": {},
     "output_type": "execute_result"
    }
   ],
   "source": [
    "dataset"
   ]
  },
  {
   "cell_type": "code",
   "execution_count": 54,
   "id": "0b365161-520b-4f9c-9c5b-3bd60e782b3d",
   "metadata": {},
   "outputs": [],
   "source": [
    "paises= ['Swaziland', 'Zambia', 'Mozambique','Lesotho','Sierra Leone']"
   ]
  },
  {
   "cell_type": "code",
   "execution_count": 55,
   "id": "b3ff6dd2-9fb4-47e7-bfe1-021bb9c999d9",
   "metadata": {},
   "outputs": [],
   "source": [
    "df = dataset[dataset['country'].isin(paises)]"
   ]
  },
  {
   "cell_type": "code",
   "execution_count": 56,
   "id": "52467b94-6b28-4298-96d1-194ccf0531a0",
   "metadata": {},
   "outputs": [],
   "source": [
    "df = df[['country', 'year','lifeExp']]"
   ]
  },
  {
   "cell_type": "code",
   "execution_count": 91,
   "id": "0072fe92-ecc2-4915-8833-0637c46263fc",
   "metadata": {},
   "outputs": [],
   "source": [
    "## Se filtra por cada país para calcular la predicción para los siguientes años\n",
    "dfLes=df[df['country'] == 'Lesotho']\n",
    "dfMozam=df[df['country'] == 'Mozambique']\n",
    "dfSL=df[df['country'] == 'Sierra Leone']\n",
    "dfSwa=df[df['country'] == 'Swaziland']\n",
    "dfZam=df[df['country'] == 'Zambia']"
   ]
  },
  {
   "cell_type": "code",
   "execution_count": 93,
   "id": "e559c6a8-b6ca-49a7-94c9-0ed7b649dc0d",
   "metadata": {},
   "outputs": [
    {
     "name": "stderr",
     "output_type": "stream",
     "text": [
      "/opt/venv/lib/python3.8/site-packages/sklearn/base.py:465: UserWarning: X does not have valid feature names, but LinearRegression was fitted with feature names\n",
      "  warnings.warn(\n"
     ]
    },
    {
     "data": {
      "text/plain": [
       "array([53.1129697 , 53.59079837, 54.06862704, 54.54645571])"
      ]
     },
     "execution_count": 93,
     "metadata": {},
     "output_type": "execute_result"
    }
   ],
   "source": [
    "###Calculo de predicciones para Lesotho\n",
    "X1 = dfLes[['year']]\n",
    "y1 = dfLes['lifeExp']\n",
    "model = LinearRegression()\n",
    "model.fit(X1, y1)\n",
    "future_years = np.array([[2012], [2017], [2022], [2027]])\n",
    "predictions = model.predict(future_years)\n",
    "predictions"
   ]
  },
  {
   "cell_type": "code",
   "execution_count": 94,
   "id": "30fa52a7-665f-48fd-8174-e274124301e2",
   "metadata": {},
   "outputs": [
    {
     "name": "stderr",
     "output_type": "stream",
     "text": [
      "/opt/venv/lib/python3.8/site-packages/sklearn/base.py:465: UserWarning: X does not have valid feature names, but LinearRegression was fitted with feature names\n",
      "  warnings.warn(\n"
     ]
    },
    {
     "data": {
      "text/plain": [
       "array([47.67527273, 48.7976993 , 49.92012587, 51.04255245])"
      ]
     },
     "execution_count": 94,
     "metadata": {},
     "output_type": "execute_result"
    }
   ],
   "source": [
    "###Calculo de predicciones para Mozambique\n",
    "X2 = dfMozam[['year']]\n",
    "y2 = dfMozam['lifeExp']\n",
    "model = LinearRegression()\n",
    "model.fit(X2, y2)\n",
    "future_years = np.array([[2012], [2017], [2022], [2027]])\n",
    "predictions = model.predict(future_years)\n",
    "predictions"
   ]
  },
  {
   "cell_type": "code",
   "execution_count": 96,
   "id": "ce76d856-1a65-41b9-bac8-08af0c86bbc8",
   "metadata": {},
   "outputs": [
    {
     "name": "stderr",
     "output_type": "stream",
     "text": [
      "/opt/venv/lib/python3.8/site-packages/sklearn/base.py:465: UserWarning: X does not have valid feature names, but LinearRegression was fitted with feature names\n",
      "  warnings.warn(\n"
     ]
    },
    {
     "data": {
      "text/plain": [
       "array([43.72530303, 44.79547786, 45.86565268, 46.93582751])"
      ]
     },
     "execution_count": 96,
     "metadata": {},
     "output_type": "execute_result"
    }
   ],
   "source": [
    "###Calculo de predicciones para Sierra Leone\n",
    "X3 = dfSL[['year']]\n",
    "y3 = dfSL['lifeExp']\n",
    "model = LinearRegression()\n",
    "model.fit(X3, y3)\n",
    "future_years = np.array([[2012], [2017], [2022], [2027]])\n",
    "predictions = model.predict(future_years)\n",
    "predictions"
   ]
  },
  {
   "cell_type": "code",
   "execution_count": 98,
   "id": "14a675c7-8134-4ffc-a6ed-372bbca7bb64",
   "metadata": {},
   "outputs": [
    {
     "name": "stderr",
     "output_type": "stream",
     "text": [
      "/opt/venv/lib/python3.8/site-packages/sklearn/base.py:465: UserWarning: X does not have valid feature names, but LinearRegression was fitted with feature names\n",
      "  warnings.warn(\n"
     ]
    },
    {
     "data": {
      "text/plain": [
       "array([52.09234848, 52.56772261, 53.04309674, 53.51847086])"
      ]
     },
     "execution_count": 98,
     "metadata": {},
     "output_type": "execute_result"
    }
   ],
   "source": [
    "###Calculo de predicciones para Swaziland\n",
    "X4 = dfSwa[['year']]\n",
    "y4 = dfSwa['lifeExp']\n",
    "model = LinearRegression()\n",
    "model.fit(X4, y4)\n",
    "future_years = np.array([[2012], [2017], [2022], [2027]])\n",
    "predictions = model.predict(future_years)\n",
    "predictions"
   ]
  },
  {
   "cell_type": "code",
   "execution_count": 99,
   "id": "ec97ad0b-0fc2-48f0-9da0-115a79dca366",
   "metadata": {},
   "outputs": [
    {
     "name": "stderr",
     "output_type": "stream",
     "text": [
      "/opt/venv/lib/python3.8/site-packages/sklearn/base.py:465: UserWarning: X does not have valid feature names, but LinearRegression was fitted with feature names\n",
      "  warnings.warn(\n"
     ]
    },
    {
     "data": {
      "text/plain": [
       "array([44.03251515, 43.73038928, 43.4282634 , 43.12613753])"
      ]
     },
     "execution_count": 99,
     "metadata": {},
     "output_type": "execute_result"
    }
   ],
   "source": [
    "###Calculo de predicciones para Zambia\n",
    "X5 = dfZam[['year']]\n",
    "y5 = dfZam['lifeExp']\n",
    "model = LinearRegression()\n",
    "model.fit(X5, y5)\n",
    "future_years = np.array([[2012], [2017], [2022], [2027]])\n",
    "predictions = model.predict(future_years)\n",
    "predictions"
   ]
  },
  {
   "cell_type": "markdown",
   "id": "7ad02fd3-b4d4-48e3-8356-a84321d18c64",
   "metadata": {},
   "source": [
    "Posterior a los datos anteriores, se agregan a un dataset para crear el gráfico en looker studio"
   ]
  },
  {
   "cell_type": "code",
   "execution_count": 100,
   "id": "ad18e26a-bc2b-4e78-8866-7c321ac7df41",
   "metadata": {
    "scrolled": true
   },
   "outputs": [
    {
     "data": {
      "text/html": [
       "\n",
       "        <iframe\n",
       "            width=\"650\"\n",
       "            height=\"300\"\n",
       "            src=\"https://lookerstudio.google.com/embed/reporting/36e6c2fe-550d-402a-acb2-75b63aabb7ed/page/v0kCE\"\n",
       "            frameborder=\"0\"\n",
       "            allowfullscreen\n",
       "            \n",
       "        ></iframe>\n",
       "        "
      ],
      "text/plain": [
       "<IPython.lib.display.IFrame at 0x7fe048c3b880>"
      ]
     },
     "execution_count": 100,
     "metadata": {},
     "output_type": "execute_result"
    }
   ],
   "source": [
    "src= 'https://lookerstudio.google.com/embed/reporting/36e6c2fe-550d-402a-acb2-75b63aabb7ed/page/v0kCE'\n",
    "IPython.display.IFrame(src,width=650, height=300)"
   ]
  },
  {
   "cell_type": "markdown",
   "id": "a9ddcb44-936f-45ac-bcb2-605cc09148fb",
   "metadata": {},
   "source": [
    "Se observa en los datos que hasta los datos que se tienen en el dataset se aprecia que hay una subia sin embargo entre 2007 y 2012 hay una baja para luego mantener similar a partir de 2012 con la predicción, para los países de Zambia, Sierra  si se tiene un aumento y en el caso de Lesotho se predice un ligero decremento en la esperanza de vida"
   ]
  },
  {
   "cell_type": "markdown",
   "id": "0c4dff7e-7323-4da6-9570-13d7dfb26922",
   "metadata": {},
   "source": [
    "### Ejercicio 5"
   ]
  },
  {
   "cell_type": "markdown",
   "id": "94586f67-8b35-463c-bfbe-ad3e0223651b",
   "metadata": {},
   "source": [
    "- Para la analítica prescriptiva normalmente un diagrama de Sankey puede ayudar a la toma de decisones futuras. Con los datos que tenemos no es posible haver uno.\n",
    "- Investiga sobre los diagrama de Sankey y explica que tipo de datos necesitariamos para graficar, asumiendo que quisieramos recomendar intervenciones a estos países para incrementar su esperanza de vida."
   ]
  },
  {
   "cell_type": "markdown",
   "id": "0ae2b889-b329-48cb-bcfd-b8c6c3188780",
   "metadata": {},
   "source": [
    "El diagrama de Sankey funciona para poder visualizar relaciones y patrones de los datos, si quisieramos dar recomendaciontes necesitarìamos tener datos relacionados con:\n",
    "- Datos financieros (Ingresos de los países)\n",
    "- Salud (Programas realizados, enfermedades)\n",
    "- Nutrición\n",
    "- Acciones históricas (resultados)\n",
    "Con esto se podría tener como ha influido lo que se está trabajando o se ha trabajado y donde se pueden enfocar acciones"
   ]
  }
 ],
 "metadata": {
  "kernelspec": {
   "display_name": "Python 3 (ipykernel)",
   "language": "python",
   "name": "python3"
  },
  "language_info": {
   "codemirror_mode": {
    "name": "ipython",
    "version": 3
   },
   "file_extension": ".py",
   "mimetype": "text/x-python",
   "name": "python",
   "nbconvert_exporter": "python",
   "pygments_lexer": "ipython3",
   "version": "3.8.19"
  }
 },
 "nbformat": 4,
 "nbformat_minor": 5
}
