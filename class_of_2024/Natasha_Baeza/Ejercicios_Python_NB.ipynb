{
 "cells": [
  {
   "cell_type": "markdown",
   "id": "7aed2f7e-7901-457c-9127-699ceb9f6b31",
   "metadata": {},
   "source": [
    "# Ejercicios Introduction to Python NB"
   ]
  },
  {
   "cell_type": "markdown",
   "id": "ba816489-ba24-4197-a051-1642ddc30810",
   "metadata": {
    "jp-MarkdownHeadingCollapsed": true
   },
   "source": [
    "## Ejercicio 1: 002_lists_evaluation"
   ]
  },
  {
   "cell_type": "code",
   "execution_count": 1,
   "id": "543d9c91-4a3d-4df5-ba17-a0e119a77c2a",
   "metadata": {},
   "outputs": [],
   "source": [
    "my_list = ['this', 'list', 'is', 'twenty', '25']"
   ]
  },
  {
   "cell_type": "code",
   "execution_count": 2,
   "id": "1a85e51d-bbbc-477d-b6a0-eae82242cb41",
   "metadata": {},
   "outputs": [
    {
     "data": {
      "text/plain": [
       "['this list', 'is', 'fifty', 50]"
      ]
     },
     "execution_count": 2,
     "metadata": {},
     "output_type": "execute_result"
    }
   ],
   "source": [
    "##Respuesta al ejercicio utilizando todas las funciones\n",
    "my_list[1]= 'this list'\n",
    "my_list.append(50)\n",
    "my_list.insert(4,'fifty')\n",
    "my_list.remove('this')\n",
    "my_list.pop(4)\n",
    "del my_list [2]\n",
    "my_list\n"
   ]
  },
  {
   "cell_type": "code",
   "execution_count": 3,
   "id": "da662805-20ac-4fb8-998e-113f3a481082",
   "metadata": {},
   "outputs": [
    {
     "data": {
      "text/plain": [
       "['this list', 'is', 'fifty', '50']"
      ]
     },
     "execution_count": 3,
     "metadata": {},
     "output_type": "execute_result"
    }
   ],
   "source": [
    "##Respuesta al ejercicio resumen\n",
    "my_list = ['this', 'list', 'is', 'twenty', '25']\n",
    "my_list[1]= 'this list'\n",
    "my_list[3]= 'fifty'\n",
    "my_list[4]= '50'\n",
    "del my_list [0]\n",
    "my_list\n"
   ]
  },
  {
   "cell_type": "code",
   "execution_count": null,
   "id": "7e1b71e2-8560-4f5b-82ac-7eb2da8fa906",
   "metadata": {},
   "outputs": [],
   "source": []
  },
  {
   "cell_type": "markdown",
   "id": "d7c1ecf2-0f4d-46a4-916a-70d4e1febaa3",
   "metadata": {
    "jp-MarkdownHeadingCollapsed": true
   },
   "source": [
    "## Ejercicio 2: 003_evaluation (Aritméticos)"
   ]
  },
  {
   "cell_type": "markdown",
   "id": "5e33007e-e39b-421d-9b74-2476593219e3",
   "metadata": {},
   "source": [
    "Ejercicio\n",
    "Teniendo las siguientes calificaciones, determine si un alumno excenta, para excentar, tiene que tener un promedio minimo de 80 y no reprobar ni un quiz, el minimo aprobatorio es 80\n",
    "\n",
    "Hints:\n",
    "\n",
    "Haga uso de suma y división para calcular el promedio\n",
    "\n",
    "La variable excent debe de contener un booleano\n",
    "\n",
    "Devolver un mensaje mencionando si el alumno excenta o no.\n",
    "\n",
    "i.e El alumno excenta: False"
   ]
  },
  {
   "cell_type": "code",
   "execution_count": 42,
   "id": "1a522a3e-42f2-4f2c-8583-d85df8da7017",
   "metadata": {
    "scrolled": true
   },
   "outputs": [
    {
     "name": "stdout",
     "output_type": "stream",
     "text": [
      "El alumno excenta:False\n"
     ]
    }
   ],
   "source": [
    "quiz_1 = 85\n",
    "quiz_2 = 78\n",
    "quiz_3 = 92\n",
    "minimum_to_excent = 80\n",
    "\n",
    "\n",
    "avg= (quiz_1+quiz_2+quiz_3)/3\n",
    "excent = (quiz_1 >= minimum_to_excent) and (quiz_2 >= minimum_to_excent) and (quiz_3 >= minimum_to_excent) and (avg >=minimum_to_excent)\n",
    "print(\"El alumno excenta:\" + str(excent))"
   ]
  },
  {
   "cell_type": "markdown",
   "id": "9ee4e15e-6e56-4280-bfe8-38c067f90dba",
   "metadata": {},
   "source": []
  },
  {
   "cell_type": "markdown",
   "id": "32332127-53c8-43f4-8eec-59057822e2cb",
   "metadata": {
    "jp-MarkdownHeadingCollapsed": true
   },
   "source": [
    "## Ejercicio 3: 004_Evaluation (Condicionales)"
   ]
  },
  {
   "cell_type": "markdown",
   "id": "98e498fe-02f7-483d-9834-c88625f6e7e6",
   "metadata": {},
   "source": [
    "### Ejercicio 1: Verificar la Edad para Votar"
   ]
  },
  {
   "cell_type": "raw",
   "id": "06c7dc9e-98ad-40ab-8ba7-25592b049f26",
   "metadata": {},
   "source": [
    "Escribe un script que verifique si una persona es elegible para votar. Una persona puede votar si tiene 18 años o más."
   ]
  },
  {
   "cell_type": "code",
   "execution_count": 53,
   "id": "37a7a9b8-3e80-4e14-8e94-5c9d5198f5d7",
   "metadata": {},
   "outputs": [
    {
     "name": "stdout",
     "output_type": "stream",
     "text": [
      "La persona no puede votar, su edad es: 10\n"
     ]
    }
   ],
   "source": [
    "age = 10\n",
    "if age >= 18:\n",
    "    print (\"La persona puede votar, su edad es: \"+str(age))\n",
    "else:\n",
    "    print (\"La persona no puede votar, su edad es: \"+str(age))\n"
   ]
  },
  {
   "cell_type": "code",
   "execution_count": null,
   "id": "a735786d-1e0c-4857-8cd5-7938f8f017f3",
   "metadata": {},
   "outputs": [],
   "source": []
  },
  {
   "cell_type": "markdown",
   "id": "4d525448-0390-4e5b-bbf0-04715c45c3b8",
   "metadata": {},
   "source": [
    "### Ejercicio 2: Clasificar un nùmero"
   ]
  },
  {
   "cell_type": "markdown",
   "id": "1e6d3003-5300-4f1c-879d-72619508f364",
   "metadata": {},
   "source": [
    "Escribe un programa que clasifique un número como positivo, negativo o cero. Usa la sentencia elif"
   ]
  },
  {
   "cell_type": "code",
   "execution_count": 59,
   "id": "6dcf47f3-02ee-416e-a2b4-3e5211c9f07b",
   "metadata": {},
   "outputs": [
    {
     "name": "stdout",
     "output_type": "stream",
     "text": [
      "El número es negativo\n"
     ]
    }
   ],
   "source": [
    "number = -400\n",
    "if number > 0:\n",
    "    print (\"El número es positivo\")\n",
    "elif number ==0:\n",
    "    print (\"El número es 0\")\n",
    "else:\n",
    "    print (\"El número es negativo\")\n"
   ]
  },
  {
   "cell_type": "code",
   "execution_count": null,
   "id": "f7f5e318-8f0e-4552-8f6f-128c819f1f40",
   "metadata": {},
   "outputs": [],
   "source": []
  },
  {
   "cell_type": "markdown",
   "id": "8291f6a6-c869-4deb-b5a8-906264bec983",
   "metadata": {},
   "source": [
    "### Ejercicio 3: Calcular la Tarifa de Envío"
   ]
  },
  {
   "cell_type": "raw",
   "id": "ce56970c-b6be-4d04-abbe-54db87f97838",
   "metadata": {},
   "source": [
    "Escribe un programa que determine la tarifa de envío basada en el peso del paquete.\n",
    "\n",
    "Si el peso es menor o igual a 1 kg, la tarifa es de $5 .\n",
    "Si el peso es mayor a 1 kg y menor o igual a 5 kg, la tarifa es de $10.\n",
    "Si el peso es mayor a 5 kg, la tarifa es de $15."
   ]
  },
  {
   "cell_type": "code",
   "execution_count": 70,
   "id": "d823c1be-3032-478a-a6bc-92d0d9bfc942",
   "metadata": {},
   "outputs": [
    {
     "name": "stdout",
     "output_type": "stream",
     "text": [
      "La tarifa de envío es $15\n"
     ]
    }
   ],
   "source": [
    "Weight= 5.12\n",
    "if Weight <=1:\n",
    "    print (\"La tarifa de envío es $5\")  \n",
    "else: \n",
    "    if Weight <=5:\n",
    "        print (\"La tarifa de envío es $10\")\n",
    "    else:\n",
    "        print (\"La tarifa de envío es $15\")"
   ]
  },
  {
   "cell_type": "code",
   "execution_count": null,
   "id": "8a7fc3d8-9ed9-4941-8362-a1b09f6fb9c5",
   "metadata": {},
   "outputs": [],
   "source": []
  },
  {
   "cell_type": "markdown",
   "id": "531e26af-c861-4457-8b8d-6c62a4cf1fd0",
   "metadata": {},
   "source": [
    "### Ejercicio 4. Verificar si un número es par y positivo"
   ]
  },
  {
   "cell_type": "code",
   "execution_count": null,
   "id": "845351bc-0d31-4b8f-b8ed-0e7aaf1d0db2",
   "metadata": {},
   "outputs": [],
   "source": [
    "Escribe un programa que determine si un número es par y positivo. Usa condiciones multiples"
   ]
  },
  {
   "cell_type": "code",
   "execution_count": 83,
   "id": "8fbe9a62-928c-42d0-b3f8-cc41b029edc6",
   "metadata": {},
   "outputs": [
    {
     "name": "stdout",
     "output_type": "stream",
     "text": [
      "El número es impar negativo\n"
     ]
    }
   ],
   "source": [
    "numero = -5\n",
    "\n",
    "if numero % 2 == 0 and numero > 0:\n",
    "    print(\"El número es par y positivo\")\n",
    "elif numero % 2 == 0 and numero < 0:\n",
    "    print (\"El número es par pero es negativo\")\n",
    "elif numero % 2 != 0 and numero > 0:\n",
    "    print (\"El número es impar positivo\")\n",
    "elif numero % 2 != 0 and numero < 0:\n",
    "    print (\"El número es impar negativo\")\n",
    "else:\n",
    "    print(\"El número es cero\")"
   ]
  },
  {
   "cell_type": "code",
   "execution_count": null,
   "id": "1da4ef04-99fd-4f53-b3d5-76824540508b",
   "metadata": {},
   "outputs": [],
   "source": []
  },
  {
   "cell_type": "markdown",
   "id": "f71ca3b2-a42c-40e5-bce9-27de01bdb09f",
   "metadata": {
    "jp-MarkdownHeadingCollapsed": true
   },
   "source": [
    "## Ejercicio 4: 005_Loops"
   ]
  },
  {
   "cell_type": "markdown",
   "id": "9f30805d-4ccf-4d4f-b8fc-484105534620",
   "metadata": {},
   "source": [
    "### Ejercicio 1: Colores"
   ]
  },
  {
   "cell_type": "raw",
   "id": "282670c6-71a0-4d9d-8ac5-e596913ee476",
   "metadata": {},
   "source": [
    "Iterar sobre la lista colors usando un ciclo for para imprimir cada elemento de la lista"
   ]
  },
  {
   "cell_type": "code",
   "execution_count": 85,
   "id": "e933d843-fc10-4ca0-ba6c-205792776a06",
   "metadata": {},
   "outputs": [
    {
     "name": "stdout",
     "output_type": "stream",
     "text": [
      "rojo\n",
      "verde\n",
      "azul\n"
     ]
    }
   ],
   "source": [
    "colors = [\"rojo\", \"verde\", \"azul\"]\n",
    "for colors in colors:\n",
    "    print (colors)\n"
   ]
  },
  {
   "cell_type": "code",
   "execution_count": null,
   "id": "6df77f41-6149-42b2-a709-ba6bc56e9711",
   "metadata": {},
   "outputs": [],
   "source": []
  },
  {
   "cell_type": "markdown",
   "id": "bc4e75ad-724c-4474-b9a6-cc04ed59ee65",
   "metadata": {},
   "source": [
    "### Ejercicio 2: Conteo"
   ]
  },
  {
   "cell_type": "raw",
   "id": "c67d0dd5-0819-4794-b2d3-9f7b95cc2a76",
   "metadata": {},
   "source": [
    "Escribe un script que utilice un ciclo while para contar del 1 al 5. El script debe imprimir cada número en una nueva línea."
   ]
  },
  {
   "cell_type": "code",
   "execution_count": 91,
   "id": "49da7ea7-1fe1-46f1-ac91-dcf86fa1f9bb",
   "metadata": {},
   "outputs": [
    {
     "name": "stdout",
     "output_type": "stream",
     "text": [
      "1\n",
      "2\n",
      "3\n",
      "4\n",
      "5\n"
     ]
    }
   ],
   "source": [
    "Conteo = 1\n",
    "while Conteo < 6:\n",
    "    print(Conteo)\n",
    "    Conteo = Conteo + 1"
   ]
  },
  {
   "cell_type": "code",
   "execution_count": null,
   "id": "e61f8a00-e59b-48f3-bd52-64674c041788",
   "metadata": {},
   "outputs": [],
   "source": []
  },
  {
   "cell_type": "markdown",
   "id": "f150dcb3-63b8-4e04-b3f0-d874397213e9",
   "metadata": {},
   "source": [
    "### Ejercicio 3: Longitud"
   ]
  },
  {
   "cell_type": "raw",
   "id": "d60a828b-5092-4ac6-9aed-2d421e992f25",
   "metadata": {},
   "source": [
    "Crea e imprime una lista que contenga la longitud de cada palabra en una lista de palabras, usando list comprehensions"
   ]
  },
  {
   "cell_type": "code",
   "execution_count": 97,
   "id": "03bb026e-1061-425f-955a-5847ae837d3f",
   "metadata": {},
   "outputs": [
    {
     "name": "stdout",
     "output_type": "stream",
     "text": [
      "[5, 6, 6, 4]\n"
     ]
    }
   ],
   "source": [
    "words = [\"apple\", \"banana\", \"cherry\", \"date\"]\n",
    "long = [len(word) for word in words]\n",
    "print(long)"
   ]
  },
  {
   "cell_type": "code",
   "execution_count": null,
   "id": "a7df37ce-6d1e-4cb3-a5b4-c29b897db188",
   "metadata": {},
   "outputs": [],
   "source": []
  },
  {
   "cell_type": "code",
   "execution_count": null,
   "id": "d361fad5-e439-42c0-8a96-fbe3ca055b63",
   "metadata": {},
   "outputs": [],
   "source": []
  },
  {
   "cell_type": "markdown",
   "id": "3a7e82a6-d83b-4015-b9f7-70abad3ff8cb",
   "metadata": {
    "jp-MarkdownHeadingCollapsed": true
   },
   "source": [
    "## Ejercicio 5: 006_evaluation (Funciones)"
   ]
  },
  {
   "cell_type": "markdown",
   "id": "812479d8-e648-4e9a-9a0d-e044454e0db8",
   "metadata": {},
   "source": [
    "Cálculo área de un rectángulo\n",
    "\n",
    "Escribe una función llamada calcular_area_rectangulo que reciba dos parámetros, ancho y alto, y retorne el área del rectángulo. Prueba la función con diferentes valores de ancho y alto.\n",
    "\n",
    "Instrucciones:\n",
    "\n",
    "Define la función calcular_area_rectangulo que reciba dos parámetros: ancho y alto.\n",
    "Calcula el área del rectángulo usando la fórmula ancho * alto.\n",
    "Retorna el área calculada.\n",
    "Llama a la función con diferentes valores y muestra los resultados."
   ]
  },
  {
   "cell_type": "code",
   "execution_count": 119,
   "id": "1e20d56e-be6b-41ab-8043-c609b50011de",
   "metadata": {},
   "outputs": [
    {
     "name": "stdout",
     "output_type": "stream",
     "text": [
      "El área es: 16m^2\n",
      "El área es: 7m^2\n",
      "El área es: 36m^2\n"
     ]
    }
   ],
   "source": [
    "## Definición de la función área en metros\n",
    "def calcular_area_rectangulo(ancho, alto):\n",
    "    area = ancho * alto\n",
    "    return area\n",
    "\n",
    "## Ejemplo de resultados 1\n",
    "datos = calcular_area_rectangulo(2, 8)\n",
    "print(\"El área es: \" +str(datos)+\"m^2\")\n",
    "\n",
    "## Ejemplo de resultados 2\n",
    "Datos2 = calcular_area_rectangulo(1,7)\n",
    "print(\"El área es: \" +str(Datos2)+\"m^2\")\n",
    "\n",
    "## Ejemplo de resultados 3\n",
    "Datos3 = calcular_area_rectangulo(4,9)\n",
    "print(\"El área es: \" +str(Datos3)+\"m^2\")\n",
    "    "
   ]
  },
  {
   "cell_type": "code",
   "execution_count": null,
   "id": "c4f06f93-f202-4d1e-a79c-e80939bb57f8",
   "metadata": {},
   "outputs": [],
   "source": []
  },
  {
   "cell_type": "markdown",
   "id": "796380d5-ee83-403f-9c89-cb435caf59fd",
   "metadata": {
    "jp-MarkdownHeadingCollapsed": true
   },
   "source": [
    "## Ejercicio 6: 007_ evaluation (Diccionarios)"
   ]
  },
  {
   "cell_type": "markdown",
   "id": "1b0740a9-8f8d-4627-82b0-8efd3ad337b9",
   "metadata": {},
   "source": [
    "### Ejercicio 1: Diccionario libro"
   ]
  },
  {
   "cell_type": "raw",
   "id": "1962d960-1dce-4155-aaad-32bfcec8fedb",
   "metadata": {},
   "source": [
    "Instrucciones:\n",
    "\n",
    "1.Crea un diccionario llamado libro con las siguientes llaves y valores:\n",
    "'title': 'Cien Años de Soledad' 'author': 'Gabriel García Márquez' 'year': 1967\n",
    "\n",
    "2.Imprime el valor asociado a la llave 'título' y 'autor' del diccionario libro.\n",
    "\n",
    "3.Agrega una nueva entrada al diccionario: 'genre': 'Realismo mágico'.\n",
    "\n",
    "4.Modifica el valor asociado a la llave 'year' para que sea 1968.\n",
    "\n",
    "5.Elimina la entrada con la llave 'autor'.\n",
    "\n",
    "6.Muestra todas las llaves del diccionario usando el método keys().\n",
    "\n",
    "7.Muestra todos los valores del diccionario usando el método values().\n",
    "\n",
    "8.Muestra todos los pares llave-valor del diccionario usando el método items().\n",
    "\n",
    "9.Usa el método get() para obtener el valor asociado a la llave 'género'."
   ]
  },
  {
   "cell_type": "code",
   "execution_count": null,
   "id": "e9472000-52a1-48fc-a984-aba730396561",
   "metadata": {},
   "outputs": [],
   "source": []
  },
  {
   "cell_type": "code",
   "execution_count": 120,
   "id": "234e5938-0ad7-4b45-89df-e01597b7da8e",
   "metadata": {},
   "outputs": [
    {
     "name": "stdout",
     "output_type": "stream",
     "text": [
      "{'title': 'Cien años de Soledad', 'author': 'Gabriel García Marquez', 'year': 1967}\n"
     ]
    }
   ],
   "source": [
    "## 1.Crear un diccionario\n",
    "libro = {\n",
    "    \"title\": \"Cien años de Soledad\",\n",
    "    \"author\": \"Gabriel García Marquez\",\n",
    "    \"year\": 1967\n",
    "}\n",
    "print(libro)"
   ]
  },
  {
   "cell_type": "code",
   "execution_count": 121,
   "id": "83d97f2c-e214-4912-a3fc-cd9807647b14",
   "metadata": {},
   "outputs": [
    {
     "name": "stdout",
     "output_type": "stream",
     "text": [
      "Titulo: Cien años de Soledad\n",
      "Autor: Gabriel García Marquez\n"
     ]
    }
   ],
   "source": [
    "# 2.Valor titulo y autor\n",
    "\n",
    "titulo= libro[\"title\"]\n",
    "autor = libro[\"author\"]\n",
    "\n",
    "print(\"Titulo:\", titulo)\n",
    "print(\"Autor:\", autor)    "
   ]
  },
  {
   "cell_type": "code",
   "execution_count": 122,
   "id": "401d9192-33cc-4985-872b-7744b06b1bd6",
   "metadata": {},
   "outputs": [
    {
     "name": "stdout",
     "output_type": "stream",
     "text": [
      "{'title': 'Cien años de Soledad', 'author': 'Gabriel García Marquez', 'year': 1967, 'genre': 'Realismo Mágico'}\n"
     ]
    }
   ],
   "source": [
    "# 3.Agregando Genre\n",
    "\n",
    "libro[\"genre\"]= \"Realismo Mágico\"\n",
    "print (libro)"
   ]
  },
  {
   "cell_type": "code",
   "execution_count": 124,
   "id": "d6a5d96f-071c-4872-95d8-65d1d4cc9bf4",
   "metadata": {},
   "outputs": [
    {
     "name": "stdout",
     "output_type": "stream",
     "text": [
      "{'title': 'Cien años de Soledad', 'author': 'Gabriel García Marquez', 'year': 1968, 'genre': 'Realismo Mágico'}\n"
     ]
    }
   ],
   "source": [
    "# 4. Modificación de año\n",
    "\n",
    "libro[\"year\"]= 1968\n",
    "print (libro)"
   ]
  },
  {
   "cell_type": "code",
   "execution_count": 125,
   "id": "bef1eb4d-2740-4b9f-ad60-ea798304b399",
   "metadata": {},
   "outputs": [
    {
     "name": "stdout",
     "output_type": "stream",
     "text": [
      "{'title': 'Cien años de Soledad', 'year': 1968, 'genre': 'Realismo Mágico'}\n"
     ]
    }
   ],
   "source": [
    "# 5. Eliminación autor\n",
    "\n",
    "del libro[\"author\"]\n",
    "print (libro)"
   ]
  },
  {
   "cell_type": "code",
   "execution_count": 135,
   "id": "68caf980-e1c4-45c2-be3d-4198f3b7f43b",
   "metadata": {},
   "outputs": [
    {
     "name": "stdout",
     "output_type": "stream",
     "text": [
      "Llaves: dict_keys(['title', 'year', 'genre'])\n"
     ]
    }
   ],
   "source": [
    "#6. Llaves\n",
    "keys = libro.keys()\n",
    "print(\"Llaves:\", keys)"
   ]
  },
  {
   "cell_type": "code",
   "execution_count": 136,
   "id": "5f4a6d39-6ffd-45ee-a30f-b93f76419126",
   "metadata": {},
   "outputs": [
    {
     "name": "stdout",
     "output_type": "stream",
     "text": [
      "Valores: dict_values(['Cien años de Soledad', 1968, 'Realismo Mágico'])\n"
     ]
    }
   ],
   "source": [
    "#7. Valores\n",
    "Value = libro.values()\n",
    "print(\"Valores:\", Value)"
   ]
  },
  {
   "cell_type": "code",
   "execution_count": 137,
   "id": "e3e0a1db-2134-4e52-9a95-d4aadd1dfdfb",
   "metadata": {},
   "outputs": [
    {
     "name": "stdout",
     "output_type": "stream",
     "text": [
      "Llaves-valores: dict_items([('title', 'Cien años de Soledad'), ('year', 1968), ('genre', 'Realismo Mágico')])\n"
     ]
    }
   ],
   "source": [
    "#8.LLaves - valor\n",
    "items = libro.items()\n",
    "print(\"Llaves-valores:\", items)"
   ]
  },
  {
   "cell_type": "code",
   "execution_count": 138,
   "id": "21bc6cc0-1256-45ba-a003-674141b2d7aa",
   "metadata": {},
   "outputs": [
    {
     "name": "stdout",
     "output_type": "stream",
     "text": [
      "Género: Realismo Mágico\n"
     ]
    }
   ],
   "source": [
    "#9.Método GET\n",
    "Genero = libro.get(\"genre\")\n",
    "print(\"Género:\", Genero)"
   ]
  },
  {
   "cell_type": "code",
   "execution_count": null,
   "id": "ed4cdd57-6fd8-4250-9b89-95fdbd484ab1",
   "metadata": {},
   "outputs": [],
   "source": []
  },
  {
   "cell_type": "markdown",
   "id": "9da5e173-8471-41e2-a1be-6e5201727636",
   "metadata": {},
   "source": [
    "### Ejercicio 2: Diccionario Inventary"
   ]
  },
  {
   "cell_type": "raw",
   "id": "e8c5df6e-6b5d-45d2-853b-815ae0e0fe32",
   "metadata": {},
   "source": [
    "Crea un diccionario llamado inventary con las siguientes llaves y valores:\n",
    "\n",
    "'pencils': 20\n",
    "'books': 10\n",
    "'erasers': 5\n",
    "Agrega una nueva entrada: 'markers': 15.\n",
    "\n",
    "Modifica el valor asociado a la llave 'books' para que sea 12.\n",
    "\n",
    "Muestra el diccionario resultante."
   ]
  },
  {
   "cell_type": "code",
   "execution_count": 145,
   "id": "8a882e10-4973-41c2-894c-61fceaba5561",
   "metadata": {},
   "outputs": [
    {
     "name": "stdout",
     "output_type": "stream",
     "text": [
      "{'pencils': 20, 'books': 12, 'erasers': 5, 'markers': 15}\n"
     ]
    }
   ],
   "source": [
    "inventary = {\n",
    "    \"pencils\": 20,\n",
    "    \"books\":10,\n",
    "    \"erasers\": 5\n",
    "}\n",
    "\n",
    "inventary[\"markers\"]= 15\n",
    "inventary[\"books\"]= 12\n",
    "print (inventary)\n"
   ]
  },
  {
   "cell_type": "code",
   "execution_count": null,
   "id": "d4e57bbd-f13a-42d2-bd55-606e00280c9b",
   "metadata": {},
   "outputs": [],
   "source": []
  }
 ],
 "metadata": {
  "kernelspec": {
   "display_name": "Python 3 (ipykernel)",
   "language": "python",
   "name": "python3"
  },
  "language_info": {
   "codemirror_mode": {
    "name": "ipython",
    "version": 3
   },
   "file_extension": ".py",
   "mimetype": "text/x-python",
   "name": "python",
   "nbconvert_exporter": "python",
   "pygments_lexer": "ipython3",
   "version": "3.8.19"
  }
 },
 "nbformat": 4,
 "nbformat_minor": 5
}
