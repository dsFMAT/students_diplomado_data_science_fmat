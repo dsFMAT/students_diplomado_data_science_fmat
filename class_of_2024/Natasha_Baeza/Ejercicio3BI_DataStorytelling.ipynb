{
 "cells": [
  {
   "cell_type": "markdown",
   "id": "9a46bbe3-04ff-46c8-870e-9f51a035a99f",
   "metadata": {},
   "source": [
    "# Data Storytelling"
   ]
  },
  {
   "cell_type": "markdown",
   "id": "dc5d377a-f918-43b3-a715-9a5db100bb25",
   "metadata": {},
   "source": [
    "## Carga de datos y paqueterias"
   ]
  },
  {
   "cell_type": "code",
   "execution_count": 1,
   "id": "d514789a-3146-4a01-a8f4-31555bd134ec",
   "metadata": {
    "scrolled": true
   },
   "outputs": [
    {
     "name": "stdout",
     "output_type": "stream",
     "text": [
      "Requirement already satisfied: plotly in /opt/venv/lib/python3.8/site-packages (5.24.0)\n",
      "Requirement already satisfied: tenacity>=6.2.0 in /opt/venv/lib/python3.8/site-packages (from plotly) (9.0.0)\n",
      "Requirement already satisfied: packaging in /opt/venv/lib/python3.8/site-packages (from plotly) (24.1)\n"
     ]
    }
   ],
   "source": [
    "### Instalando paqueteria\n",
    "!pip install plotly"
   ]
  },
  {
   "cell_type": "code",
   "execution_count": 1,
   "id": "3ed288e6-4ef0-48b5-8c39-f97960d62fae",
   "metadata": {},
   "outputs": [],
   "source": [
    "import plotly.express as px\n",
    "import plotly.io as pio\n",
    "pio.renderers.default= 'iframe'"
   ]
  },
  {
   "cell_type": "code",
   "execution_count": 2,
   "id": "b52363a9-6f47-4cab-800a-75a9dd23d032",
   "metadata": {},
   "outputs": [],
   "source": [
    "### Importando paqueterias y data\n",
    "import pandas as pd\n",
    "import numpy as np\n",
    "dataset = pd.read_csv('/app/my_data/students_diplomado_data_science_fmat/class_of_2024/Natasha_Baeza/gapminder_data_world_health.csv')"
   ]
  },
  {
   "cell_type": "markdown",
   "id": "bb6bced5-83b2-4bb3-8412-1c78ed3cbbcf",
   "metadata": {},
   "source": [
    "## Ejercicio 1"
   ]
  },
  {
   "cell_type": "markdown",
   "id": "a5def693-dc32-459c-8c6a-b617166917d3",
   "metadata": {},
   "source": [
    "- Haz un query que filtre el año 1997 y se cree un subset\n",
    "- Crea una gráfica de dispersión con la función px.scatter que compare el GDP per capita y la esperanza de vida"
   ]
  },
  {
   "cell_type": "code",
   "execution_count": 41,
   "id": "1eddd96b-29ec-4d31-a3bb-fd0b00b1ccfd",
   "metadata": {},
   "outputs": [],
   "source": [
    "### Crear subset del año 1997\n",
    "Subsetyear= dataset[dataset.year==1997]"
   ]
  },
  {
   "cell_type": "code",
   "execution_count": 42,
   "id": "8e12e5a8-9dc1-4e77-bc38-413552dd253e",
   "metadata": {},
   "outputs": [
    {
     "data": {
      "text/html": [
       "<div>\n",
       "<style scoped>\n",
       "    .dataframe tbody tr th:only-of-type {\n",
       "        vertical-align: middle;\n",
       "    }\n",
       "\n",
       "    .dataframe tbody tr th {\n",
       "        vertical-align: top;\n",
       "    }\n",
       "\n",
       "    .dataframe thead th {\n",
       "        text-align: right;\n",
       "    }\n",
       "</style>\n",
       "<table border=\"1\" class=\"dataframe\">\n",
       "  <thead>\n",
       "    <tr style=\"text-align: right;\">\n",
       "      <th></th>\n",
       "      <th>country</th>\n",
       "      <th>continent</th>\n",
       "      <th>year</th>\n",
       "      <th>lifeExp</th>\n",
       "      <th>pop</th>\n",
       "      <th>gdpPercap</th>\n",
       "      <th>iso_alpha</th>\n",
       "      <th>iso_num</th>\n",
       "    </tr>\n",
       "  </thead>\n",
       "  <tbody>\n",
       "    <tr>\n",
       "      <th>9</th>\n",
       "      <td>Afghanistan</td>\n",
       "      <td>Asia</td>\n",
       "      <td>1997</td>\n",
       "      <td>41.763</td>\n",
       "      <td>22227415</td>\n",
       "      <td>635.341351</td>\n",
       "      <td>AFG</td>\n",
       "      <td>4</td>\n",
       "    </tr>\n",
       "    <tr>\n",
       "      <th>21</th>\n",
       "      <td>Albania</td>\n",
       "      <td>Europe</td>\n",
       "      <td>1997</td>\n",
       "      <td>72.950</td>\n",
       "      <td>3428038</td>\n",
       "      <td>3193.054604</td>\n",
       "      <td>ALB</td>\n",
       "      <td>8</td>\n",
       "    </tr>\n",
       "    <tr>\n",
       "      <th>33</th>\n",
       "      <td>Algeria</td>\n",
       "      <td>Africa</td>\n",
       "      <td>1997</td>\n",
       "      <td>69.152</td>\n",
       "      <td>29072015</td>\n",
       "      <td>4797.295051</td>\n",
       "      <td>DZA</td>\n",
       "      <td>12</td>\n",
       "    </tr>\n",
       "    <tr>\n",
       "      <th>45</th>\n",
       "      <td>Angola</td>\n",
       "      <td>Africa</td>\n",
       "      <td>1997</td>\n",
       "      <td>40.963</td>\n",
       "      <td>9875024</td>\n",
       "      <td>2277.140884</td>\n",
       "      <td>AGO</td>\n",
       "      <td>24</td>\n",
       "    </tr>\n",
       "    <tr>\n",
       "      <th>57</th>\n",
       "      <td>Argentina</td>\n",
       "      <td>Americas</td>\n",
       "      <td>1997</td>\n",
       "      <td>73.275</td>\n",
       "      <td>36203463</td>\n",
       "      <td>10967.281950</td>\n",
       "      <td>ARG</td>\n",
       "      <td>32</td>\n",
       "    </tr>\n",
       "  </tbody>\n",
       "</table>\n",
       "</div>"
      ],
      "text/plain": [
       "        country continent  year  lifeExp       pop     gdpPercap iso_alpha  \\\n",
       "9   Afghanistan      Asia  1997   41.763  22227415    635.341351       AFG   \n",
       "21      Albania    Europe  1997   72.950   3428038   3193.054604       ALB   \n",
       "33      Algeria    Africa  1997   69.152  29072015   4797.295051       DZA   \n",
       "45       Angola    Africa  1997   40.963   9875024   2277.140884       AGO   \n",
       "57    Argentina  Americas  1997   73.275  36203463  10967.281950       ARG   \n",
       "\n",
       "    iso_num  \n",
       "9         4  \n",
       "21        8  \n",
       "33       12  \n",
       "45       24  \n",
       "57       32  "
      ]
     },
     "execution_count": 42,
     "metadata": {},
     "output_type": "execute_result"
    }
   ],
   "source": [
    "Subsetyear.head()"
   ]
  },
  {
   "cell_type": "code",
   "execution_count": 43,
   "id": "9696caca-eed8-47e4-af53-cc3d75cf024a",
   "metadata": {
    "scrolled": true
   },
   "outputs": [
    {
     "data": {
      "text/html": [
       "<iframe\n",
       "    scrolling=\"no\"\n",
       "    width=\"100%\"\n",
       "    height=\"545px\"\n",
       "    src=\"iframe_figures/figure_43.html\"\n",
       "    frameborder=\"0\"\n",
       "    allowfullscreen\n",
       "></iframe>\n"
      ]
     },
     "metadata": {},
     "output_type": "display_data"
    }
   ],
   "source": [
    "disp= px.scatter(Subsetyear, x='gdpPercap', y='lifeExp')\n",
    "disp.show()"
   ]
  },
  {
   "cell_type": "markdown",
   "id": "d708c7cd-70ae-4923-bfe4-8d37459c8fee",
   "metadata": {},
   "source": [
    "## Ejercicio 2"
   ]
  },
  {
   "cell_type": "markdown",
   "id": "3a6b3108-3d6f-46e6-b094-c4f1a04be3e3",
   "metadata": {},
   "source": [
    "- Utiliza el mismo subset del datos del 2007\n",
    "- Crea de nuevo una gráfica de disperción incluyendo nuevos parámetros: color, size y size_max\n",
    "\n",
    "Nota: color tiene que ser una variable categórica, y size una variable numérica"
   ]
  },
  {
   "cell_type": "code",
   "execution_count": 44,
   "id": "cfd6deb2-36ae-4c83-b65c-15fd430948d1",
   "metadata": {},
   "outputs": [
    {
     "data": {
      "text/html": [
       "<iframe\n",
       "    scrolling=\"no\"\n",
       "    width=\"100%\"\n",
       "    height=\"545px\"\n",
       "    src=\"iframe_figures/figure_44.html\"\n",
       "    frameborder=\"0\"\n",
       "    allowfullscreen\n",
       "></iframe>\n"
      ]
     },
     "metadata": {},
     "output_type": "display_data"
    }
   ],
   "source": [
    "disp= px.scatter(Subsetyear, x='gdpPercap', y='lifeExp',color='continent',size='pop',size_max=40)\n",
    "disp.show()"
   ]
  },
  {
   "cell_type": "markdown",
   "id": "98c7be3a-e95b-4438-99ba-6caa24ec4ec3",
   "metadata": {},
   "source": [
    "## Ejercicio 3"
   ]
  },
  {
   "cell_type": "markdown",
   "id": "2aa9f004-5c2a-4aac-8290-6b6294cb3950",
   "metadata": {},
   "source": [
    "Utiliza la misma gráfica de dispersión, ahora queremos responder algunas preguntas para la narrativa de datos\n",
    "Agrega los siguientes parámetros para tener una mejor gráfica\n",
    "facet_col=\"continent\", log_x=True, trendline=\"ols\", hover_name=\"country\""
   ]
  },
  {
   "cell_type": "markdown",
   "id": "7e5e8aac-0156-4406-9cf2-eb11a7d8c778",
   "metadata": {},
   "source": [
    "Responde:\n",
    "\n",
    "- Si se cambia log_x=False por log_x=True, que es lo que pasa?\n",
    "- Que pais tiene el GPD per capita más bajo en asia?\n",
    "- Que paises tienen la esperanza de vida más alta en Africa"
   ]
  },
  {
   "cell_type": "code",
   "execution_count": 7,
   "id": "62670745-873e-494d-8484-efd176df505b",
   "metadata": {},
   "outputs": [
    {
     "data": {
      "text/html": [
       "<iframe\n",
       "    scrolling=\"no\"\n",
       "    width=\"1220px\"\n",
       "    height=\"820\"\n",
       "    src=\"iframe_figures/figure_7.html\"\n",
       "    frameborder=\"0\"\n",
       "    allowfullscreen\n",
       "></iframe>\n"
      ]
     },
     "metadata": {},
     "output_type": "display_data"
    }
   ],
   "source": [
    "disp= px.scatter(Subsetyear, x='gdpPercap', y='lifeExp',color='continent',size='pop',size_max=30,facet_col=\"continent\", log_x=True\n",
    "                , trendline=\"ols\", hover_name=\"country\", width=1200, height=800)\n",
    "disp.show()"
   ]
  },
  {
   "cell_type": "markdown",
   "id": "ae8012c2-6b5b-444d-9731-e5e780ef27b7",
   "metadata": {},
   "source": [
    "3.1 Actualmente teniendolog_x= True los valores del eje x tienen una escala logaritmica, que se puede observar por los valores del eje, al cambiarlo a False este dara como resultado que la escala se conservará de forma lineal"
   ]
  },
  {
   "cell_type": "markdown",
   "id": "0a4147dc-413d-426e-99db-a9a565363c61",
   "metadata": {},
   "source": [
    "3.2 en el gráfico puede verse que el país con GPD más bajo en 1997 es Afganistán, se observa un punto diminuto por la cantidad de población el cual está más cercano al eje x"
   ]
  },
  {
   "cell_type": "markdown",
   "id": "f4351287-e93a-4fda-a850-cf65b86e84a7",
   "metadata": {},
   "source": [
    "3.3 En el top 3 de países con mayor esperanza de vida se encuentran: Túnez, Libia y Argelia (Orden de mayor a menor), los cuál es se encuentran en los puntos más altos del eje y "
   ]
  },
  {
   "cell_type": "markdown",
   "id": "a95d1d8f-5cac-4669-918f-2ecce8920886",
   "metadata": {},
   "source": [
    "## Ejercicio 4"
   ]
  },
  {
   "cell_type": "markdown",
   "id": "7361fc25-792f-47d0-b8a7-9321ea0eaca8",
   "metadata": {},
   "source": [
    "- Elije un país para aplicar el filtro/query\n",
    "- Crea una gráfica de barras px.bar() donde los años sean el eje x y la población el eje y\n",
    "- Encuentra el botón para descargar la imagen y descargala en el mismo folder de tareas"
   ]
  },
  {
   "cell_type": "code",
   "execution_count": 28,
   "id": "a29f4be7-b41d-47f3-8624-f3eb8befcf54",
   "metadata": {},
   "outputs": [],
   "source": [
    "### Se escoge el país Japón ya que de ejercicios anteriores se observaba que el\n",
    "###continente Asiático es el que a lo largo de los años ha tenido un cambio significativo\n",
    "### en su esperanza de vida\n",
    "\n",
    "SubsetJP= dataset[dataset.country=='Japan']"
   ]
  },
  {
   "cell_type": "code",
   "execution_count": 29,
   "id": "0f1ad6c6-69e0-4a35-b69e-dc4b47a23994",
   "metadata": {
    "scrolled": true
   },
   "outputs": [
    {
     "data": {
      "text/html": [
       "<div>\n",
       "<style scoped>\n",
       "    .dataframe tbody tr th:only-of-type {\n",
       "        vertical-align: middle;\n",
       "    }\n",
       "\n",
       "    .dataframe tbody tr th {\n",
       "        vertical-align: top;\n",
       "    }\n",
       "\n",
       "    .dataframe thead th {\n",
       "        text-align: right;\n",
       "    }\n",
       "</style>\n",
       "<table border=\"1\" class=\"dataframe\">\n",
       "  <thead>\n",
       "    <tr style=\"text-align: right;\">\n",
       "      <th></th>\n",
       "      <th>country</th>\n",
       "      <th>continent</th>\n",
       "      <th>year</th>\n",
       "      <th>lifeExp</th>\n",
       "      <th>pop</th>\n",
       "      <th>gdpPercap</th>\n",
       "      <th>iso_alpha</th>\n",
       "      <th>iso_num</th>\n",
       "    </tr>\n",
       "  </thead>\n",
       "  <tbody>\n",
       "    <tr>\n",
       "      <th>792</th>\n",
       "      <td>Japan</td>\n",
       "      <td>Asia</td>\n",
       "      <td>1952</td>\n",
       "      <td>63.030</td>\n",
       "      <td>86459025</td>\n",
       "      <td>3216.956347</td>\n",
       "      <td>JPN</td>\n",
       "      <td>392</td>\n",
       "    </tr>\n",
       "    <tr>\n",
       "      <th>793</th>\n",
       "      <td>Japan</td>\n",
       "      <td>Asia</td>\n",
       "      <td>1957</td>\n",
       "      <td>65.500</td>\n",
       "      <td>91563009</td>\n",
       "      <td>4317.694365</td>\n",
       "      <td>JPN</td>\n",
       "      <td>392</td>\n",
       "    </tr>\n",
       "    <tr>\n",
       "      <th>794</th>\n",
       "      <td>Japan</td>\n",
       "      <td>Asia</td>\n",
       "      <td>1962</td>\n",
       "      <td>68.730</td>\n",
       "      <td>95831757</td>\n",
       "      <td>6576.649461</td>\n",
       "      <td>JPN</td>\n",
       "      <td>392</td>\n",
       "    </tr>\n",
       "    <tr>\n",
       "      <th>795</th>\n",
       "      <td>Japan</td>\n",
       "      <td>Asia</td>\n",
       "      <td>1967</td>\n",
       "      <td>71.430</td>\n",
       "      <td>100825279</td>\n",
       "      <td>9847.788607</td>\n",
       "      <td>JPN</td>\n",
       "      <td>392</td>\n",
       "    </tr>\n",
       "    <tr>\n",
       "      <th>796</th>\n",
       "      <td>Japan</td>\n",
       "      <td>Asia</td>\n",
       "      <td>1972</td>\n",
       "      <td>73.420</td>\n",
       "      <td>107188273</td>\n",
       "      <td>14778.786360</td>\n",
       "      <td>JPN</td>\n",
       "      <td>392</td>\n",
       "    </tr>\n",
       "    <tr>\n",
       "      <th>797</th>\n",
       "      <td>Japan</td>\n",
       "      <td>Asia</td>\n",
       "      <td>1977</td>\n",
       "      <td>75.380</td>\n",
       "      <td>113872473</td>\n",
       "      <td>16610.377010</td>\n",
       "      <td>JPN</td>\n",
       "      <td>392</td>\n",
       "    </tr>\n",
       "    <tr>\n",
       "      <th>798</th>\n",
       "      <td>Japan</td>\n",
       "      <td>Asia</td>\n",
       "      <td>1982</td>\n",
       "      <td>77.110</td>\n",
       "      <td>118454974</td>\n",
       "      <td>19384.105710</td>\n",
       "      <td>JPN</td>\n",
       "      <td>392</td>\n",
       "    </tr>\n",
       "    <tr>\n",
       "      <th>799</th>\n",
       "      <td>Japan</td>\n",
       "      <td>Asia</td>\n",
       "      <td>1987</td>\n",
       "      <td>78.670</td>\n",
       "      <td>122091325</td>\n",
       "      <td>22375.941890</td>\n",
       "      <td>JPN</td>\n",
       "      <td>392</td>\n",
       "    </tr>\n",
       "    <tr>\n",
       "      <th>800</th>\n",
       "      <td>Japan</td>\n",
       "      <td>Asia</td>\n",
       "      <td>1992</td>\n",
       "      <td>79.360</td>\n",
       "      <td>124329269</td>\n",
       "      <td>26824.895110</td>\n",
       "      <td>JPN</td>\n",
       "      <td>392</td>\n",
       "    </tr>\n",
       "    <tr>\n",
       "      <th>801</th>\n",
       "      <td>Japan</td>\n",
       "      <td>Asia</td>\n",
       "      <td>1997</td>\n",
       "      <td>80.690</td>\n",
       "      <td>125956499</td>\n",
       "      <td>28816.584990</td>\n",
       "      <td>JPN</td>\n",
       "      <td>392</td>\n",
       "    </tr>\n",
       "    <tr>\n",
       "      <th>802</th>\n",
       "      <td>Japan</td>\n",
       "      <td>Asia</td>\n",
       "      <td>2002</td>\n",
       "      <td>82.000</td>\n",
       "      <td>127065841</td>\n",
       "      <td>28604.591900</td>\n",
       "      <td>JPN</td>\n",
       "      <td>392</td>\n",
       "    </tr>\n",
       "    <tr>\n",
       "      <th>803</th>\n",
       "      <td>Japan</td>\n",
       "      <td>Asia</td>\n",
       "      <td>2007</td>\n",
       "      <td>82.603</td>\n",
       "      <td>127467972</td>\n",
       "      <td>31656.068060</td>\n",
       "      <td>JPN</td>\n",
       "      <td>392</td>\n",
       "    </tr>\n",
       "  </tbody>\n",
       "</table>\n",
       "</div>"
      ],
      "text/plain": [
       "    country continent  year  lifeExp        pop     gdpPercap iso_alpha  \\\n",
       "792   Japan      Asia  1952   63.030   86459025   3216.956347       JPN   \n",
       "793   Japan      Asia  1957   65.500   91563009   4317.694365       JPN   \n",
       "794   Japan      Asia  1962   68.730   95831757   6576.649461       JPN   \n",
       "795   Japan      Asia  1967   71.430  100825279   9847.788607       JPN   \n",
       "796   Japan      Asia  1972   73.420  107188273  14778.786360       JPN   \n",
       "797   Japan      Asia  1977   75.380  113872473  16610.377010       JPN   \n",
       "798   Japan      Asia  1982   77.110  118454974  19384.105710       JPN   \n",
       "799   Japan      Asia  1987   78.670  122091325  22375.941890       JPN   \n",
       "800   Japan      Asia  1992   79.360  124329269  26824.895110       JPN   \n",
       "801   Japan      Asia  1997   80.690  125956499  28816.584990       JPN   \n",
       "802   Japan      Asia  2002   82.000  127065841  28604.591900       JPN   \n",
       "803   Japan      Asia  2007   82.603  127467972  31656.068060       JPN   \n",
       "\n",
       "     iso_num  \n",
       "792      392  \n",
       "793      392  \n",
       "794      392  \n",
       "795      392  \n",
       "796      392  \n",
       "797      392  \n",
       "798      392  \n",
       "799      392  \n",
       "800      392  \n",
       "801      392  \n",
       "802      392  \n",
       "803      392  "
      ]
     },
     "execution_count": 29,
     "metadata": {},
     "output_type": "execute_result"
    }
   ],
   "source": [
    "SubsetJP.head(15)"
   ]
  },
  {
   "cell_type": "code",
   "execution_count": 30,
   "id": "f942972c-58e1-4bd8-9ae8-c0a060fd40e5",
   "metadata": {
    "scrolled": true
   },
   "outputs": [
    {
     "data": {
      "text/html": [
       "<iframe\n",
       "    scrolling=\"no\"\n",
       "    width=\"620px\"\n",
       "    height=\"320\"\n",
       "    src=\"iframe_figures/figure_30.html\"\n",
       "    frameborder=\"0\"\n",
       "    allowfullscreen\n",
       "></iframe>\n"
      ]
     },
     "metadata": {},
     "output_type": "display_data"
    }
   ],
   "source": [
    "popyear= px.bar(SubsetJP, x='year', y='pop', height=300, width=600, \n",
    "                color_discrete_sequence=['orange'], \n",
    "                labels={'year': 'Año', 'pop': 'Población'})\n",
    "popyear.show()"
   ]
  },
  {
   "cell_type": "markdown",
   "id": "37705f92-3e8d-4d3d-be34-19e56b9b341e",
   "metadata": {},
   "source": [
    "De la gráfica anterior se observa que desde 1950 a 1990 la población tuvo un aumento significativo, a partir de 1990 el indicador de población empezo a eatabilizarse hasta la fecha actual"
   ]
  },
  {
   "cell_type": "code",
   "execution_count": 31,
   "id": "05669d1c-053f-457c-b9b4-df80d85f92e0",
   "metadata": {},
   "outputs": [],
   "source": [
    "### Se ubica el icono de cámara guardar imagen sin embargo el navegador no permite \n",
    "###por lo que se instala una paqueteria para poder guardarla mediante código\n",
    "## pip install Kaleido\n",
    "\n",
    "popyear.write_image(\"popyear.png\")"
   ]
  },
  {
   "cell_type": "markdown",
   "id": "baafbf75-2370-46e8-b496-d4a9567e67c3",
   "metadata": {},
   "source": [
    "## Ejercicio 5"
   ]
  },
  {
   "cell_type": "markdown",
   "id": "d0f8eb83-5c32-4a5d-8d1d-dd325b323eb2",
   "metadata": {},
   "source": [
    "La misma función px.scatter tiene parámetros para animarla!\n",
    "- Utiliza la misma gráfica e incluye ahora animation_frame=\"year\", animation_group=\"country\" y ve lo que sucede"
   ]
  },
  {
   "cell_type": "code",
   "execution_count": 50,
   "id": "15026500-8936-40b5-8493-8ce3f6ae8d80",
   "metadata": {
    "scrolled": true
   },
   "outputs": [
    {
     "data": {
      "text/html": [
       "<iframe\n",
       "    scrolling=\"no\"\n",
       "    width=\"100%\"\n",
       "    height=\"545px\"\n",
       "    src=\"iframe_figures/figure_50.html\"\n",
       "    frameborder=\"0\"\n",
       "    allowfullscreen\n",
       "></iframe>\n"
      ]
     },
     "metadata": {},
     "output_type": "display_data"
    }
   ],
   "source": [
    "### Se intenta realizar la primera gráfica utilizando los valores pero para que se vea el cambio por año no debe tener algún filtro\n",
    "\n",
    "popyearanimated= px.scatter(Subsetyear, x='gdpPercap', y='lifeExp',\n",
    "                        animation_frame=\"year\",\n",
    "                        animation_group=\"country\")\n",
    "popyearanimated.show()"
   ]
  },
  {
   "cell_type": "code",
   "execution_count": 56,
   "id": "3cd95f39-562e-449c-b068-059186248a10",
   "metadata": {},
   "outputs": [
    {
     "data": {
      "text/html": [
       "<iframe\n",
       "    scrolling=\"no\"\n",
       "    width=\"100%\"\n",
       "    height=\"545px\"\n",
       "    src=\"iframe_figures/figure_56.html\"\n",
       "    frameborder=\"0\"\n",
       "    allowfullscreen\n",
       "></iframe>\n"
      ]
     },
     "metadata": {},
     "output_type": "display_data"
    }
   ],
   "source": [
    "\n",
    "Animated = px.scatter(dataset, x='gdpPercap', y='lifeExp',\n",
    "                 animation_frame=\"year\", \n",
    "                 animation_group=\"country\", \n",
    "                 size=\"pop\", \n",
    "                 color=\"continent\", \n",
    "                 hover_name=\"country\")\n",
    "Animated.show()"
   ]
  },
  {
   "cell_type": "markdown",
   "id": "3a899de2-528a-4530-811f-abef8d54f876",
   "metadata": {},
   "source": [
    "Se utiliza el primer comparativo de ejercicio 1 considerando toda la data para ver el cambio entre los años lo que\n",
    "al utilizar el animado da una mejor visualización interactiva"
   ]
  },
  {
   "cell_type": "code",
   "execution_count": null,
   "id": "40ce7bc7-4525-4aff-bd17-a85d081c260e",
   "metadata": {},
   "outputs": [],
   "source": []
  }
 ],
 "metadata": {
  "kernelspec": {
   "display_name": "Python 3 (ipykernel)",
   "language": "python",
   "name": "python3"
  },
  "language_info": {
   "codemirror_mode": {
    "name": "ipython",
    "version": 3
   },
   "file_extension": ".py",
   "mimetype": "text/x-python",
   "name": "python",
   "nbconvert_exporter": "python",
   "pygments_lexer": "ipython3",
   "version": "3.8.19"
  }
 },
 "nbformat": 4,
 "nbformat_minor": 5
}
