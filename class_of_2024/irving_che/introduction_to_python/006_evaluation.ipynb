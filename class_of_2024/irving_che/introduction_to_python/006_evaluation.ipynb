{
 "cells": [
  {
   "cell_type": "markdown",
   "id": "a52a8052-0fa2-4a86-877d-63d2904bdd77",
   "metadata": {},
   "source": [
    "# Ejercicio"
   ]
  },
  {
   "cell_type": "markdown",
   "id": "4f259ee4-ecce-48b0-8219-1fffbe77de06",
   "metadata": {},
   "source": [
    "# Función para Calcular el Área de un Rectángulo \n",
    "\n",
    "Escribe una función llamada calcular_area_rectangulo que reciba dos parámetros, ancho y alto, y retorne el área del rectángulo. Prueba la función con diferentes valores de ancho y alto.\n",
    "\n",
    "Instrucciones:\n",
    "\n",
    "* Define la función calcular_area_rectangulo que reciba dos parámetros: ancho y alto.\n",
    "* Calcula el área del rectángulo usando la fórmula ancho * alto.\n",
    "* Retorna el área calculada.\n",
    "* Llama a la función con diferentes valores y muestra los resultados.\n"
   ]
  },
  {
   "cell_type": "code",
   "execution_count": 1,
   "id": "445b32ba-730f-4e14-a24d-5f0800bab7a0",
   "metadata": {},
   "outputs": [
    {
     "name": "stdout",
     "output_type": "stream",
     "text": [
      "altura: 3 \n",
      "anchura: 5\n",
      " area: 15\n",
      "\n",
      "\n",
      "altura: 6 \n",
      "anchura: 10\n",
      " area: 60\n",
      "\n",
      "\n",
      "altura: 8 \n",
      "anchura: 4\n",
      " area: 32\n",
      "\n",
      "\n",
      "altura: 9 \n",
      "anchura: 11\n",
      " area: 99\n",
      "\n",
      "\n",
      "altura: 4 \n",
      "anchura: 4\n",
      " area: 16\n",
      "\n",
      "\n"
     ]
    }
   ],
   "source": [
    "def calcular_area_rectangulo(alto, ancho):\n",
    "    return alto*ancho;\n",
    "\n",
    "alturas = [3,6,8,9,4]\n",
    "anchuras = [5,10,4,11,4]\n",
    "\n",
    "count = 0\n",
    "while(count < len(alturas)):\n",
    "    print(f\"altura: {alturas[count]} \\nanchura: {anchuras[count]}\\n area: {calcular_area_rectangulo(alturas[count], anchuras[count])}\\n\\n\")\n",
    "    count = count + 1"
   ]
  },
  {
   "cell_type": "code",
   "execution_count": null,
   "id": "dc8d51df-cda2-4d1a-9b23-3e52a4a6b353",
   "metadata": {},
   "outputs": [],
   "source": []
  }
 ],
 "metadata": {
  "kernelspec": {
   "display_name": "Python 3 (ipykernel)",
   "language": "python",
   "name": "python3"
  },
  "language_info": {
   "codemirror_mode": {
    "name": "ipython",
    "version": 3
   },
   "file_extension": ".py",
   "mimetype": "text/x-python",
   "name": "python",
   "nbconvert_exporter": "python",
   "pygments_lexer": "ipython3",
   "version": "3.8.19"
  }
 },
 "nbformat": 4,
 "nbformat_minor": 5
}
