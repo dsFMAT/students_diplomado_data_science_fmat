{
 "cells": [
  {
   "cell_type": "markdown",
   "id": "a52a8052-0fa2-4a86-877d-63d2904bdd77",
   "metadata": {},
   "source": [
    "# Ejercicio"
   ]
  },
  {
   "cell_type": "markdown",
   "id": "4f259ee4-ecce-48b0-8219-1fffbe77de06",
   "metadata": {},
   "source": [
    "# Función para Calcular el Área de un Rectángulo \n",
    "\n",
    "Escribe una función llamada calcular_area_rectangulo que reciba dos parámetros, ancho y alto, y retorne el área del rectángulo. Prueba la función con diferentes valores de ancho y alto.\n",
    "\n",
    "Instrucciones:\n",
    "\n",
    "* Define la función calcular_area_rectangulo que reciba dos parámetros: ancho y alto.\n",
    "* Calcula el área del rectángulo usando la fórmula ancho * alto.\n",
    "* Retorna el área calculada.\n",
    "* Llama a la función con diferentes valores y muestra los resultados.\n"
   ]
  },
  {
   "cell_type": "code",
   "execution_count": 1,
   "id": "445b32ba-730f-4e14-a24d-5f0800bab7a0",
   "metadata": {},
   "outputs": [
    {
     "name": "stdout",
     "output_type": "stream",
     "text": [
      "El área del rectángulo con ancho 5 y alto 10 es: 50\n",
      "El área del rectángulo con ancho 3 y alto 7 es: 21\n",
      "El área del rectángulo con ancho 8 y alto 2 es: 16\n"
     ]
    }
   ],
   "source": [
    "# calcula el área del rectángulo\n",
    "def calcular_area_rectangulo(ancho, alto):\n",
    "    return ancho * alto\n",
    "\n",
    "# Lista de pares de valores de ancho y alto\n",
    "valores_prueba = [(5, 10), (3, 7), (8, 2)]\n",
    "\n",
    "# Calcular y mostrar el área, para no llamar tantas veces la impresión\n",
    "for ancho, alto in valores_prueba:\n",
    "    area = calcular_area_rectangulo(ancho, alto)\n",
    "    print(f\"El área del rectángulo con ancho {ancho} y alto {alto} es: {area}\")"
   ]
  },
  {
   "cell_type": "code",
   "execution_count": 2,
   "id": "e29542d0-f9ca-4d4a-881a-ebbb37c0dfeb",
   "metadata": {},
   "outputs": [
    {
     "name": "stdout",
     "output_type": "stream",
     "text": [
      "El área del rectángulo con ancho 5 y alto 10 es: 50\n",
      "El área del rectángulo con ancho 3 y alto 7 es: 21\n",
      "El área del rectángulo con ancho 8 y alto 2 es: 16\n"
     ]
    }
   ],
   "source": [
    "\n",
    "#con impresiones \n",
    "\n",
    "\n",
    "def calcular_area_rectangulo(ancho, alto):\n",
    "    area = ancho * alto\n",
    "    return area\n",
    "\n",
    "# Pruebas \n",
    "area1 = calcular_area_rectangulo(5, 10)\n",
    "area2 = calcular_area_rectangulo(3, 7)\n",
    "area3 = calcular_area_rectangulo(8, 2)\n",
    "\n",
    "#resultados\n",
    "print(\"El área del rectángulo con ancho 5 y alto 10 es:\", area1)\n",
    "print(\"El área del rectángulo con ancho 3 y alto 7 es:\", area2)\n",
    "print(\"El área del rectángulo con ancho 8 y alto 2 es:\", area3)"
   ]
  },
  {
   "cell_type": "code",
   "execution_count": null,
   "id": "bb22e504-1eda-44d6-8195-8818038e63b6",
   "metadata": {},
   "outputs": [],
   "source": []
  }
 ],
 "metadata": {
  "kernelspec": {
   "display_name": "Python 3 (ipykernel)",
   "language": "python",
   "name": "python3"
  },
  "language_info": {
   "codemirror_mode": {
    "name": "ipython",
    "version": 3
   },
   "file_extension": ".py",
   "mimetype": "text/x-python",
   "name": "python",
   "nbconvert_exporter": "python",
   "pygments_lexer": "ipython3",
   "version": "3.8.19"
  }
 },
 "nbformat": 4,
 "nbformat_minor": 5
}
