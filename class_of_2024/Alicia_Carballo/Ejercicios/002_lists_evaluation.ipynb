{
 "cells": [
  {
   "cell_type": "markdown",
   "id": "4f7040f6-5da7-47f6-b077-8b8100f444a8",
   "metadata": {},
   "source": [
    "# Ejercicio\n",
    "\n",
    "Transformar una lista usando operaciones básicas\n",
    "\n",
    "Objetivo: Usar las operaciones de listas append, insert, del, pop, remove y modificación de elementos existentes para transformar la lista inicial en la lista objetivo.\n",
    "\n",
    "**Usar todas las opciones de manipulación de listas vistas en este notebook**\n",
    "\n",
    "Lista inicial:\n"
   ]
  },
  {
   "cell_type": "code",
   "execution_count": null,
   "id": "bcc50554-b848-4324-9fe5-a57092fdeacf",
   "metadata": {},
   "outputs": [],
   "source": [
    "\n",
    "my_list = ['this', 'list', 'is', 'twenty', '25']\n"
   ]
  },
  {
   "cell_type": "code",
   "execution_count": null,
   "id": "3a16781f-4372-4823-a1ea-0dcdb8ef869c",
   "metadata": {},
   "outputs": [],
   "source": [
    "\n",
    "my_list = ['this list', 'is', 'fifty', '50']\n"
   ]
  },
  {
   "cell_type": "code",
   "execution_count": 11,
   "id": "853b359c-ab58-4186-856b-567499b10cb0",
   "metadata": {},
   "outputs": [
    {
     "name": "stdout",
     "output_type": "stream",
     "text": [
      "['this', 'is', 'twenty', '25']\n",
      "['this list', 'is', 'twenty', '25']\n",
      "['this list', 'is', '25']\n",
      "['this list', 'is', 'fifty', '25']\n",
      "['this list', 'is', 'fifty', '25']\n"
     ]
    }
   ],
   "source": [
    "## Responde el ejercicio en esta celda\n",
    "\n",
    "my_list = ['this', 'list', 'is', 'twenty', '25']\n",
    "my_list.remove('list')\n",
    "print(my_list)\n",
    "\n",
    "my_list[0] = 'this list'\n",
    "print(my_list)\n",
    "\n",
    "del my_list[2]\n",
    "print(my_list)\n",
    "\n",
    "my_list.insert(2, 'fifty')\n",
    "print(my_list) \n",
    "\n",
    "my_list.remove('25')\n",
    "my_list.insert(3, '25')\n",
    "print(my_list)\n",
    "\n",
    "\n",
    "\n",
    "\n"
   ]
  },
  {
   "cell_type": "code",
   "execution_count": null,
   "id": "57439d42-f4e1-47a9-9367-0a630e1c60a6",
   "metadata": {},
   "outputs": [],
   "source": []
  }
 ],
 "metadata": {
  "kernelspec": {
   "display_name": "Python 3 (ipykernel)",
   "language": "python",
   "name": "python3"
  },
  "language_info": {
   "codemirror_mode": {
    "name": "ipython",
    "version": 3
   },
   "file_extension": ".py",
   "mimetype": "text/x-python",
   "name": "python",
   "nbconvert_exporter": "python",
   "pygments_lexer": "ipython3",
   "version": "3.8.19"
  }
 },
 "nbformat": 4,
 "nbformat_minor": 5
}
