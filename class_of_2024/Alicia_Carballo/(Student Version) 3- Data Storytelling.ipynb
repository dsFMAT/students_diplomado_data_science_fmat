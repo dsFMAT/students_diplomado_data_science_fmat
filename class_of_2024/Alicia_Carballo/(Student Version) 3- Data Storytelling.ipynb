{
 "cells": [
  {
   "cell_type": "markdown",
   "metadata": {
    "slideshow": {
     "slide_type": "slide"
    }
   },
   "source": [
    "#### Diplomado en Ciencia de Datos\n",
    "Módulo 2: Business Intelligence  \n",
    "## **Tema 3: Data Storytelling**\n",
    "\n",
    "*Notebook by [Pedro V Hernandez Serrano](https://github.com/pedrohserrano)*"
   ]
  },
  {
   "cell_type": "markdown",
   "metadata": {},
   "source": [
    "---\n",
    "![](../img/header.jpg)"
   ]
  },
  {
   "cell_type": "markdown",
   "metadata": {
    "id": "p7PZsxSeh8ij",
    "tags": []
   },
   "source": [
    "# Creando narrativas de datos desde un jupyter notebook\n",
    "\n",
    "El poder de los lenguajes de programación es tal que nos permite crear **librerías (o paquetes)** reutilizables cuyo propósito es resolver tareas específicas. Mi ejemplo favorito del uso de python en la visualización de datos evento científico reciente, en el que la Dra. Katie Bouman lideró el equipo que \"tomó una fotografía\" de un agujero negro por primera vez en la historia utilizando únicamente bibliotecas de Python para lograrlo. Historia aquí: [\"how imaging a blackhole gives us one more reason to embrace python for larger datasets?](https://analyticsindiamag.com/how-imaging-a-blackhole-gives-us-one-more-reason-to-embrace-python-for-larger-datasets/)\n",
    "\n",
    "Los ejemplos que se dan en este notebook se han adaptado del [artículo de anuncio de Medium](https://medium.com/@plotlygraphs/introducing-plotly-express-808df010143d) que presenta [Plotly Express](https://plotly.express): una **biblioteca** basada en `Plotly.py` para la exploración rápida de datos y la generación de gráficas."
   ]
  },
  {
   "cell_type": "markdown",
   "metadata": {
    "id": "j7T4yWUbULxL"
   },
   "source": [
    "**Nota:** Dado que **Plotly Express** es una biblioteca externa, es necesario instalarla antes de ejecutarla.\n",
    "\n",
    "```shell\n",
    "!pip install plotly\n",
    "```"
   ]
  },
  {
   "cell_type": "markdown",
   "metadata": {},
   "source": [
    "**EN CASO DE NO TENER INSTALADO `plotly`:**"
   ]
  },
  {
   "cell_type": "code",
   "execution_count": null,
   "metadata": {},
   "outputs": [
    {
     "name": "stdout",
     "output_type": "stream",
     "text": [
      "Collecting plotly\n",
      "  Downloading plotly-5.24.1-py3-none-any.whl.metadata (7.3 kB)\n",
      "Collecting tenacity>=6.2.0 (from plotly)\n",
      "  Downloading tenacity-9.0.0-py3-none-any.whl.metadata (1.2 kB)\n",
      "Requirement already satisfied: packaging in /opt/venv/lib/python3.8/site-packages (from plotly) (24.1)\n",
      "Downloading plotly-5.24.1-py3-none-any.whl (19.1 MB)\n",
      "\u001b[2K   \u001b[90m━━━━━━━━━━━━━━━━━━━━━━━━━━━━━━━━━━━━━━━━\u001b[0m \u001b[32m19.1/19.1 MB\u001b[0m \u001b[31m2.5 MB/s\u001b[0m eta \u001b[36m0:00:00\u001b[0m00:01\u001b[0m00:01\u001b[0m\n",
      "\u001b[?25hDownloading tenacity-9.0.0-py3-none-any.whl (28 kB)\n",
      "Installing collected packages: tenacity, plotly\n"
     ]
    }
   ],
   "source": [
    "!pip install plotly"
   ]
  },
  {
   "cell_type": "markdown",
   "metadata": {},
   "source": [
    "**Ahora Reinicia el kernel de este notebook en el menú `Kernel > Restart Kernel`**\n",
    "\n",
    "En caso de ya tener instalado `plotly`, continúa con los siguientes pasos"
   ]
  },
  {
   "cell_type": "code",
   "execution_count": 8,
   "metadata": {
    "slideshow": {
     "slide_type": "subslide"
    },
    "tags": []
   },
   "outputs": [],
   "source": [
    "import plotly.express as px\n",
    "import plotly.io as pio\n",
    "pio.renderers.default = 'iframe'\n"
   ]
  },
  {
   "cell_type": "markdown",
   "metadata": {},
   "source": [
    "## The Data: Global flows\n",
    "\n",
    "Para este notebook, usaremos el [ejemplo de Gapminder](https://www.gapminder.org/fw/world-health-chart/), un dataset que ya está contenido en la biblioteca de Plotly, pero también en un CSV en este repo. El dataset contiene información sobre la esperanza de vida, la población y el PIB per cápita de los países por año."
   ]
  },
  {
   "cell_type": "code",
   "execution_count": 9,
   "metadata": {
    "tags": []
   },
   "outputs": [],
   "source": [
    "import pandas as pd\n",
    "dataset = pd.read_csv('../data/gapminder_data_world_health.csv')"
   ]
  },
  {
   "cell_type": "markdown",
   "metadata": {
    "tags": []
   },
   "source": [
    "---\n",
    "## Regla general para graficar en Plotly express\n",
    "\n",
    "```python\n",
    "px._______(data = ____, x=_____, y=_____, other_paremeters=____)\n",
    "\n",
    "\n",
    "px.scatter(data=dataset, x=variable_x, y=variable_y)\n",
    "```"
   ]
  },
  {
   "cell_type": "markdown",
   "metadata": {
    "id": "2VjxrvxYkbh1"
   },
   "source": [
    "**Creating advanced visualizations**\n",
    "\n",
    "The following command will: Use the `data2007` cut. Take the `gdpPercap` as **X** axis and `lifeExp` as **Y** axis value. Render a scatter plot.  \n",
    "**Note:** you can hover your cursor on the plot and explore individual data elements."
   ]
  },
  {
   "cell_type": "markdown",
   "metadata": {
    "id": "O-bnM-8llsIj"
   },
   "source": [
    "# EJERCICIO 1\n",
    "\n",
    "- Haz un query que filtre el año 1997 y se cree un subset\n",
    "- Crea una gráfica de disperción con la función `px.scatter` que compare el GDP per capita y la esperanza de vida"
   ]
  },
  {
   "cell_type": "code",
   "execution_count": 27,
   "metadata": {
    "tags": []
   },
   "outputs": [
    {
     "data": {
      "text/html": [
       "<iframe\n",
       "    scrolling=\"no\"\n",
       "    width=\"100%\"\n",
       "    height=\"545px\"\n",
       "    src=\"iframe_figures/figure_27.html\"\n",
       "    frameborder=\"0\"\n",
       "    allowfullscreen\n",
       "></iframe>\n"
      ]
     },
     "metadata": {},
     "output_type": "display_data"
    }
   ],
   "source": [
    "# px._______(data = ____, x=_____, y=_____, other_paremeters=____)\n",
    "\n",
    "\n",
    "import plotly.express as px\n",
    "\n",
    "#subset\n",
    "dataset_2007 = dataset[dataset['year'] == 2007]\n",
    "\n",
    "\n",
    "# Dispersión\n",
    "fig = px.scatter(dataset_2007, \n",
    "                 x='gdpPercap',  # PIB per cápita\n",
    "                 y='lifeExp',  \n",
    "                 title='GDP per Capita vs Life Expectancy (2007)',\n",
    "                 labels={'gdpPercap': 'GDP per Capita', 'lifeExp': 'Life Expectancy'},\n",
    "                 hover_name='country',  # Muestra el nombre del país al pasar el cursor\n",
    "                 size='pop',  # Tamaño de los puntos basado en la población\n",
    "                 color='continent',  # Colorea por continente\n",
    "                 log_x=True,  \n",
    "                 size_max=60,  \n",
    "                 opacity=0.7,  # Opacidad de los puntos\n",
    "                 #color_discrete_sequence=px.colors.qualitative.D3  # para cambiar la paleta de colores\n",
    "                ) #identacion si lo muevo no funciona\n",
    "\n",
    "\n",
    "fig.show()\n",
    "\n"
   ]
  },
  {
   "cell_type": "markdown",
   "metadata": {
    "id": "en4ywIG2pb8L"
   },
   "source": [
    "**Adding Color and Size**"
   ]
  },
  {
   "cell_type": "markdown",
   "metadata": {
    "id": "xkPY-SjNw50q"
   },
   "source": [
    "The following command is very similar than the last one, except that this contains **new parameters** within the function: `color`, `size` and `size_max`.   \n",
    "\n",
    "**Note:** You can scroll down the values and also use the zoom option in the plot"
   ]
  },
  {
   "cell_type": "markdown",
   "metadata": {
    "id": "DfqVA7VuyCP-",
    "tags": []
   },
   "source": [
    "# EJERCICIO 2\n",
    "\n",
    "- Utiliza el mismo subset del datos del 2007\n",
    "- Crea de nuevo una gráfica de disperción incluyendo nuevos parámetros: `color`, `size` y `size_max`\n",
    "Nota: `color` tiene que ser una variable categórica, y `size` una variable numérica"
   ]
  },
  {
   "cell_type": "markdown",
   "metadata": {
    "id": "gpO-KtNcFUlE"
   },
   "source": [
    "**Understanding a graphic**"
   ]
  },
  {
   "cell_type": "code",
   "execution_count": 29,
   "metadata": {
    "tags": []
   },
   "outputs": [
    {
     "data": {
      "text/html": [
       "<iframe\n",
       "    scrolling=\"no\"\n",
       "    width=\"100%\"\n",
       "    height=\"545px\"\n",
       "    src=\"iframe_figures/figure_29.html\"\n",
       "    frameborder=\"0\"\n",
       "    allowfullscreen\n",
       "></iframe>\n"
      ]
     },
     "metadata": {},
     "output_type": "display_data"
    }
   ],
   "source": [
    "# px._______(data = ____, x=_____, y=_____, other_paremeters=____)\n",
    "\n",
    "#numerica:poblacion cate:continente \n",
    "\n",
    "import plotly.express as px\n",
    "\n",
    "\n",
    "dataset_2007 = dataset[dataset['year'] == 2007]\n",
    "\n",
    "# gráfica de dispersión\n",
    "fig = px.scatter(dataset_2007, \n",
    "                 x='gdpPercap', \n",
    "                 y='lifeExp',  \n",
    "                 title='GDP per Capita vs Life Expectancy (2007)',\n",
    "                 labels={'gdpPercap': 'GDP per Capita', 'lifeExp': 'Life Expectancy'},\n",
    "                 hover_name='country',  \n",
    "                 size='pop',  \n",
    "                 color='continent', \n",
    "                 log_x=True, \n",
    "                 size_max=60,  \n",
    "                 opacity=0.7) \n",
    "\n",
    "fig.show()\n"
   ]
  },
  {
   "cell_type": "code",
   "execution_count": null,
   "metadata": {},
   "outputs": [],
   "source": [
    "¿qué tiene de diferencia de lo anterior ?\n",
    "-interactividad, el tipo de visualización,parámetros \n",
    "Ejercicio2: Nuevos Parámetros:color: Categórico (para diferenciar grupos como continentes).\n",
    "size: Numérico (para el tamaño de los puntoscon una variable como la población),\n",
    "hace zoom\n"
   ]
  },
  {
   "cell_type": "markdown",
   "metadata": {
    "id": "2GIHizJFFWY6"
   },
   "source": [
    "Everytime a new parameter is added to the formula, the plotting result is changing."
   ]
  },
  {
   "cell_type": "markdown",
   "metadata": {
    "id": "hvF5zaw-JV-y",
    "tags": []
   },
   "source": [
    "# EJERCICIO 3\n",
    "\n",
    "- Utiliza la misma gráfica de dispersión, ahora queremos responder algunas preguntas para la narrativa de datos\n",
    "- Agrega los siguientes parámetros para tener una mejor gráfica\n",
    "```python\n",
    "facet_col=\"continent\", log_x=True, trendline=\"ols\", hover_name=\"country\"\n",
    "```\n",
    "Responde: \n",
    "- Si se cambia `log_x=False` por `log_x=True`, que es lo que pasa?\n",
    "- Que pais tiene el GPD per capita más bajo en asia?\n",
    "- Que paises tienen la esperanza de vida más alta en Africa"
   ]
  },
  {
   "cell_type": "code",
   "execution_count": 30,
   "metadata": {
    "tags": []
   },
   "outputs": [
    {
     "data": {
      "text/html": [
       "<iframe\n",
       "    scrolling=\"no\"\n",
       "    width=\"100%\"\n",
       "    height=\"545px\"\n",
       "    src=\"iframe_figures/figure_30.html\"\n",
       "    frameborder=\"0\"\n",
       "    allowfullscreen\n",
       "></iframe>\n"
      ]
     },
     "metadata": {},
     "output_type": "display_data"
    }
   ],
   "source": [
    "# px._______(data = ____, x=_____, y=_____, other_paremeters=____)\n",
    "\n",
    "\n",
    "# Responde:\n",
    "#1.mostrará el PIB per cápita en su escala real,los valores\n",
    "#muy grandes serán vistos en primera y los valores más pequeños serán menos visibles, es útil cuando los datos \n",
    "#tienen valores grandes.\n",
    "\n",
    "\n",
    "\n",
    "\n",
    "import plotly.express as px\n",
    "\n",
    "\n",
    "fig = px.scatter(dataset_2007, \n",
    "                 x='gdpPercap', \n",
    "                 y='lifeExp', \n",
    "                 title='GDP per Capita vs Life Expectancy (2007)',\n",
    "                 labels={'gdpPercap': 'GDP per Capita', 'lifeExp': 'Life Expectancy'},\n",
    "                 hover_name='country', \n",
    "                 size='pop',  \n",
    "                 color='continent',\n",
    "                 log_x=True, #aquí cambiamos,es útil cuando los datos tienen una amplia gama de valores\n",
    "                 size_max=60,\n",
    "                 opacity=0.7,  \n",
    "                 color_discrete_sequence=px.colors.qualitative.D3,  \n",
    "                 facet_col='continent',  # facetas por continente\n",
    "                 trendline='ols')  # Línea de tendencia con OLS (Ordinary Least Squares)\n",
    "\n",
    "fig.show()\n",
    "\n",
    "\n",
    "\n",
    "\n",
    "\n",
    "\n",
    "\n",
    "\n"
   ]
  },
  {
   "cell_type": "code",
   "execution_count": 34,
   "metadata": {},
   "outputs": [
    {
     "data": {
      "text/plain": [
       "country      Myanmar\n",
       "gdpPercap      944.0\n",
       "Name: 1055, dtype: object"
      ]
     },
     "execution_count": 34,
     "metadata": {},
     "output_type": "execute_result"
    }
   ],
   "source": [
    "#2.Que pais tiene el GPD per capita más bajo en asia?\n",
    "#3.Que paises tienen la esperanza de vida más alta en Africa\n",
    "\n",
    "\n",
    "# datos para Asia\n",
    "dataset_asia = dataset_2007[dataset_2007['continent'] == 'Asia']\n",
    "\n",
    "# país con el GDP per Capita más bajo\n",
    "country_lowest_gdp_asia = dataset_asia.loc[dataset_asia['gdpPercap'].idxmin()]\n",
    "country_lowest_gdp_asia[['country', 'gdpPercap']]\n",
    "\n",
    "\n"
   ]
  },
  {
   "cell_type": "code",
   "execution_count": 35,
   "metadata": {},
   "outputs": [
    {
     "data": {
      "text/plain": [
       "country    Reunion\n",
       "lifeExp     76.442\n",
       "Name: 1271, dtype: object"
      ]
     },
     "execution_count": 35,
     "metadata": {},
     "output_type": "execute_result"
    }
   ],
   "source": [
    "# para África\n",
    "dataset_africa = dataset_2007[dataset_2007['continent'] == 'Africa']\n",
    "\n",
    "# esperanza de vida más alta\n",
    "highest_life_exp_africa = dataset_africa.loc[dataset_africa['lifeExp'].idxmax()]\n",
    "highest_life_exp_africa[['country', 'lifeExp']]\n",
    "\n"
   ]
  },
  {
   "cell_type": "markdown",
   "metadata": {
    "id": "NOUbCBD-Yit0"
   },
   "source": [
    "**Quantity over time**"
   ]
  },
  {
   "cell_type": "markdown",
   "metadata": {
    "id": "_xpCbceR27g7"
   },
   "source": [
    "Creating a country subset so that we can analyse data over time. Take the `year` as X axis and `lifeExp` (Population) as Y axis value. Render an horizontal bar plot.  "
   ]
  },
  {
   "cell_type": "markdown",
   "metadata": {
    "id": "Z-7cnQUe4Kea"
   },
   "source": [
    "# EJERCICIO 4 \n",
    "\n",
    "- Elije un país para aplicar el filtro/query\n",
    "- Crea una gráfica de barras `px.bar()` donde los años sean el eje x y la población el eje y\n",
    "- Encuentra el botón para descargar la imagen y descargala en el mismo folder de tareas"
   ]
  },
  {
   "cell_type": "code",
   "execution_count": 37,
   "metadata": {
    "tags": []
   },
   "outputs": [
    {
     "data": {
      "text/html": [
       "<iframe\n",
       "    scrolling=\"no\"\n",
       "    width=\"100%\"\n",
       "    height=\"545px\"\n",
       "    src=\"iframe_figures/figure_37.html\"\n",
       "    frameborder=\"0\"\n",
       "    allowfullscreen\n",
       "></iframe>\n"
      ]
     },
     "metadata": {},
     "output_type": "display_data"
    }
   ],
   "source": [
    "# px._______(data = ____, x=_____, y=_____)\n",
    "\n",
    "\n",
    "\n",
    "\n",
    "import pandas as pd\n",
    "import plotly.express as px\n",
    "\n",
    "\n",
    "dataset = pd.read_csv('../data/gapminder_data_world_health.csv')\n",
    "\n",
    "# Filtrar datos para el país específico (por ejemplo, India)\n",
    "country_name = 'China'\n",
    "country_subset = dataset[dataset['country'] == country_name]\n",
    "\n",
    "# Crear el gráfico de barras horizontales\n",
    "fig = px.bar(country_subset, \n",
    "             x='lifeExp',  # Cambia esto a 'pop' si prefieres analizar la población\n",
    "             y='year', \n",
    "             orientation='h',  # Horizontal\n",
    "             title=f'Life Expectancy Over Time for {country_name}',\n",
    "             labels={'lifeExp': 'Life Expectancy', 'year': 'Year'},\n",
    "             text='lifeExp')  # Muestra los valores de la esperanza de vida en las barras\n",
    "\n",
    "fig.show()\n",
    "\n",
    "\n",
    "\n",
    "\n",
    "\n"
   ]
  },
  {
   "cell_type": "markdown",
   "metadata": {
    "id": "snmrNAabKmqr",
    "tags": []
   },
   "source": [
    "**Animated plot**\n",
    "\n",
    "There is a new play/stop button inside the graph, click on it and enjoy the visuals!  \n",
    "## What would it be your **data story**?"
   ]
  },
  {
   "cell_type": "markdown",
   "metadata": {
    "id": "Z-7cnQUe4Kea"
   },
   "source": [
    "# EJERCICIO 5 \n",
    "\n",
    "- La misma función `px.scatter` tiene parámetros para animarla!\n",
    "- Utiliza la misma gráfica e incluye ahora  `animation_frame=\"year\"`, `animation_group=\"country\"` y ve lo que sucede"
   ]
  },
  {
   "cell_type": "code",
   "execution_count": 38,
   "metadata": {
    "tags": []
   },
   "outputs": [
    {
     "data": {
      "text/html": [
       "<iframe\n",
       "    scrolling=\"no\"\n",
       "    width=\"100%\"\n",
       "    height=\"545px\"\n",
       "    src=\"iframe_figures/figure_38.html\"\n",
       "    frameborder=\"0\"\n",
       "    allowfullscreen\n",
       "></iframe>\n"
      ]
     },
     "metadata": {},
     "output_type": "display_data"
    }
   ],
   "source": [
    "# px._______(data = ____, x=_____, y=_____)\n",
    "\n",
    "import pandas as pd\n",
    "import plotly.express as px\n",
    "\n",
    "dataset = pd.read_csv('../data/gapminder_data_world_health.csv')\n",
    "\n",
    "# dispersión animada, en años\n",
    "fig = px.scatter(dataset, \n",
    "                 x='gdpPercap', \n",
    "                 y='lifeExp', \n",
    "                 animation_frame='year',  \n",
    "                 animation_group='country',\n",
    "                 title='GDP per Capita vs Life Expectancy Over Time',\n",
    "                 labels={'gdpPercap': 'GDP per Capita', 'lifeExp': 'Life Expectancy'},\n",
    "                 hover_name='country',  \n",
    "                 size='pop',  \n",
    "                 color='continent',  \n",
    "                 log_x=True,  \n",
    "                 size_max=60) \n",
    "\n",
    "fig.show()\n",
    "\n",
    "\n"
   ]
  },
  {
   "cell_type": "markdown",
   "metadata": {},
   "source": [
    "Because this is geographic data, we can also represent it as an animated map, which makes it clear that `px` can make way more than just scatterplots."
   ]
  },
  {
   "cell_type": "markdown",
   "metadata": {},
   "source": [
    "## 🎉🎉 Congrats!!  \n",
    "\n",
    "## You've finished the notebook"
   ]
  }
 ],
 "metadata": {
  "jupytext": {
   "formats": "ipynb,md"
  },
  "kernelspec": {
   "display_name": "Python 3 (ipykernel)",
   "language": "python",
   "name": "python3"
  },
  "language_info": {
   "codemirror_mode": {
    "name": "ipython",
    "version": 3
   },
   "file_extension": ".py",
   "mimetype": "text/x-python",
   "name": "python",
   "nbconvert_exporter": "python",
   "pygments_lexer": "ipython3",
   "version": "3.8.19"
  }
 },
 "nbformat": 4,
 "nbformat_minor": 4
}
