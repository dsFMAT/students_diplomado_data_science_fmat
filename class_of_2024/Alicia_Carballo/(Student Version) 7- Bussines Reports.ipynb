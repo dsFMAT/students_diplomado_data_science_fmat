{
 "cells": [
  {
   "cell_type": "markdown",
   "id": "6746de20-d093-4a16-860d-b9720a48907d",
   "metadata": {
    "slideshow": {
     "slide_type": "slide"
    }
   },
   "source": [
    "#### Diplomado en Ciencia de Datos\n",
    "Módulo 2: Business Intelligence  \n",
    "## Tema 7: Bussines Reports\n",
    "\n",
    "*Notebook by [Pedro V Hernandez Serrano](https://github.com/pedrohserrano)*"
   ]
  },
  {
   "cell_type": "markdown",
   "id": "71f6c9b7-0d73-47a7-a665-f8699f86e329",
   "metadata": {},
   "source": [
    "---\n",
    "![](../img/header.jpg)"
   ]
  },
  {
   "cell_type": "markdown",
   "id": "00d5c027-0cda-4d2b-9ed2-9cde545746ae",
   "metadata": {
    "tags": []
   },
   "source": [
    "# Preparando el Reporte final\n",
    "\n",
    "En este notebook vamos a practicar en [Looker Studio](https://lookerstudio.google.com/) lo que se ha visto las últimas clases utilizando los datos de Airbnb."
   ]
  },
  {
   "cell_type": "markdown",
   "id": "891afd0f-ea20-4985-bf22-09112944c2d5",
   "metadata": {
    "tags": []
   },
   "source": [
    "---\n",
    "# EJERCICIO 1\n",
    "\n",
    "- Analiza el rendimiento de los neighborhoods en términos de satisfacción del huésped considerando múltiples categorías de review: limpieza (`review_scores_cleanliness`), comunicación (`review_scores_communication`), ubicación (`review_scores_location`), valor (`review_scores_value`).\n",
    "- Posibles gráficas:\n",
    "    - Heatmap para visualizar varias categorías de review en diferentes neighborhoods.\n",
    "    - Gráfico de barras apiladas para comparar las puntuaciones promedio de cada categoría por neighborhood."
   ]
  },
  {
   "cell_type": "code",
   "execution_count": 9,
   "id": "302bfa60-4078-4de3-89b0-aeb7c2ad1ea8",
   "metadata": {},
   "outputs": [
    {
     "data": {
      "text/html": [
       "\n",
       "        <iframe\n",
       "            width=\"800\"\n",
       "            height=\"600\"\n",
       "            src=\"https://lookerstudio.google.com/embed/reporting/b5699818-a80d-4c92-8729-12afef5cb67f/page/XaKDE\"\n",
       "            frameborder=\"0\"\n",
       "            allowfullscreen\n",
       "            \n",
       "        ></iframe>\n",
       "        "
      ],
      "text/plain": [
       "<IPython.lib.display.IFrame at 0x7fe9f84e3be0>"
      ]
     },
     "execution_count": 9,
     "metadata": {},
     "output_type": "execute_result"
    }
   ],
   "source": [
    "\n",
    "\n",
    "\n",
    "\n",
    "\n",
    "'''\n",
    "En la parte superior de cada barra apilada, se muestra un valor numérico que representar una calificación\n",
    "o puntuación, promedio o una métrica asociada a la categoría en cuestión (calificación de limpieza).\n",
    "\n",
    "La barra más larga corresponde a \"Mexico City, Ciudad...\", con 5,500 registros aproximadamente, lo que indica que\n",
    "la mayoría de los datos están concentrados en esa categoría.\n",
    "Podemos notar que \"Mexico City\" tienen significativamente menos registros, lo que sugiere que \n",
    "los datos están desbalanceados,encima de las barras, hay números que van desde 4.8 hasta 5.0, lo que \n",
    "representa una métrica de calidad o evaluación. La categoría más grande tiene una calificación de 5.0,indicando\n",
    "que esa localización tiene una mejor percepción.\n",
    "\n",
    "\n",
    "'''\n",
    "\n",
    "import IPython\n",
    "\n",
    "src = 'https://lookerstudio.google.com/embed/reporting/b5699818-a80d-4c92-8729-12afef5cb67f/page/XaKDE'\n",
    "\n",
    "IPython.display.IFrame(src, width=800, height=600)"
   ]
  },
  {
   "cell_type": "code",
   "execution_count": 5,
   "id": "a52621c2-69f7-43b8-988a-1756c9a955a5",
   "metadata": {},
   "outputs": [
    {
     "data": {
      "text/html": [
       "\n",
       "        <iframe\n",
       "            width=\"800\"\n",
       "            height=\"600\"\n",
       "            src=\"https://lookerstudio.google.com/embed/reporting/b5699818-a80d-4c92-8729-12afef5cb67f/page/XaKDE\"\n",
       "            frameborder=\"0\"\n",
       "            allowfullscreen\n",
       "            \n",
       "        ></iframe>\n",
       "        "
      ],
      "text/plain": [
       "<IPython.lib.display.IFrame at 0x7fe9f84e3b20>"
      ]
     },
     "execution_count": 5,
     "metadata": {},
     "output_type": "execute_result"
    }
   ],
   "source": [
    "\n"
   ]
  },
  {
   "cell_type": "markdown",
   "id": "cc573db4-e5c0-4315-ad4b-39f05b6ff98a",
   "metadata": {
    "tags": []
   },
   "source": [
    "---\n",
    "# EJERCICIO 2\n",
    "\n",
    "- Analiza la correlación entre el precio de los listings y las puntuaciones de las reviews en cada neighborhood.\n",
    "- Posibles gráficas:\n",
    "    - Scatter plot con `price` en el eje X y `review_scores_rating` en el eje Y, desglosado por neighborhood.\n",
    "    - Bubble plot con `price` en el eje X, `review_scores_rating` en el eje Y, y el tamaño de la burbuja representando la `availability_365`."
   ]
  },
  {
   "cell_type": "code",
   "execution_count": 2,
   "id": "56c894d5-00ec-4794-a903-f7bc993027e8",
   "metadata": {
    "tags": []
   },
   "outputs": [
    {
     "data": {
      "text/html": [
       "\n",
       "        <iframe\n",
       "            width=\"800\"\n",
       "            height=\"600\"\n",
       "            src=\"https://lookerstudio.google.com/embed/reporting/b5699818-a80d-4c92-8729-12afef5cb67f/page/p_f67vxgmgld\"\n",
       "            frameborder=\"0\"\n",
       "            allowfullscreen\n",
       "            \n",
       "        ></iframe>\n",
       "        "
      ],
      "text/plain": [
       "<IPython.lib.display.IFrame at 0x7f9f69c098b0>"
      ]
     },
     "execution_count": 2,
     "metadata": {},
     "output_type": "execute_result"
    }
   ],
   "source": [
    "# from IPython______________\n",
    "\n",
    "# IFrame(_____________________)\n",
    "\n",
    "import IPython\n",
    "\n",
    "src = 'https://lookerstudio.google.com/embed/reporting/b5699818-a80d-4c92-8729-12afef5cb67f/page/p_f67vxgmgld'\n",
    "\n",
    "IPython.display.IFrame(src, width=800, height=600)\n",
    "\n",
    "\n",
    "\n",
    "'''\n",
    "Gráfico de burbujas que representa una relación entre el \"precio\" y la \"calificación de reseñas\" o \"review_scores_rating\".\n",
    "Las burbujas varían en tamaño y color, representando diferentes vecindarios,localidades dentro de Ciudad de México.\n",
    "El precio, donde los valores van desde 0 hasta más de 3 millones.\n",
    "El eje vertical representa la puntuación de las reseñas, con valores que van entre 0 y 150.\n",
    "La burbuja más grande se encuentra alrededor del rango de 3 millones en el precio y parece tener una\n",
    "calificación de reseñas bastante alta, cerca de 150.\n",
    "Las burbujas más pequeñas están todas concentradas hacia la parte inferior izquierda de la gráfica, \n",
    "con precios mucho más bajos y con puntuaciones de reseñas menores.\n",
    "\n",
    "\n"
   ]
  },
  {
   "cell_type": "markdown",
   "id": "54aabf13-f954-44be-8c02-65c457bb19e6",
   "metadata": {},
   "source": [
    "---\n",
    "# EJERCICIO 3\n",
    "\n",
    "- Analiza la relación entre la disponibilidad de los listings y su popularidad en cada neighborhood.\n",
    "- Posibles gráficas:\n",
    "    - Line plot con `availability_365` en el eje X y `number_of_reviews` en el eje Y, desglosado por neighborhood.\n",
    "\t- Scatter plot con `availability_365` en el eje X y `number_of_reviews` en el eje Y, color por neighborhood.\n",
    "- Nota: Es posible que se tenga que procesar `availability_365`"
   ]
  },
  {
   "cell_type": "code",
   "execution_count": 3,
   "id": "74fce850-4627-4c01-8406-1b16cca59c61",
   "metadata": {},
   "outputs": [
    {
     "data": {
      "text/html": [
       "\n",
       "        <iframe\n",
       "            width=\"800\"\n",
       "            height=\"600\"\n",
       "            src=\"https://lookerstudio.google.com/embed/reporting/b5699818-a80d-4c92-8729-12afef5cb67f/page/p_gcm0hnngld\"\n",
       "            frameborder=\"0\"\n",
       "            allowfullscreen\n",
       "            \n",
       "        ></iframe>\n",
       "        "
      ],
      "text/plain": [
       "<IPython.lib.display.IFrame at 0x7f9f69c09070>"
      ]
     },
     "execution_count": 3,
     "metadata": {},
     "output_type": "execute_result"
    }
   ],
   "source": [
    "'''\n",
    "availability_365 mide la disponibilidad de una propiedad durante el año, con valores que van desde 0 hasta 200 mil. Este rango parece\n",
    "Estaría reflejando el número de días en los que una propiedad estuvo disponible durante el año.\n",
    "number_of_reviews mide el número de reseñas, que varía desde 0 hasta 40.\n",
    "\n",
    "Notamos que aa mayoría de los puntos están agrupados en la esquina inferior izquierda, \n",
    "lo que sugiere que la mayoría de las propiedades tienen una baja disponibilidad (menos de 50 mil unidades)\n",
    "y reciben pocas reseñas (menos de 5 mil). La gráfica muestra que muy pocas propiedades tienen una alta disponibilidad mayor a 50 mil,\n",
    "y la mayoría parece estar disponible solo una temporada o parte del año.\n",
    "\n",
    "\n",
    "'''\n",
    "\n",
    "import IPython\n",
    "\n",
    "src = 'https://lookerstudio.google.com/embed/reporting/b5699818-a80d-4c92-8729-12afef5cb67f/page/p_gcm0hnngld'\n",
    "\n",
    "IPython.display.IFrame(src, width=800, height=600)\n",
    "\n",
    "\n",
    "\n",
    "\n",
    "\n",
    "\n",
    "\n"
   ]
  },
  {
   "cell_type": "markdown",
   "id": "0e2842e0-3565-45ff-9168-ca118af45570",
   "metadata": {},
   "source": [
    "---\n",
    "# EJERCICIO 4\n",
    "\n",
    "- Analiza los mejores y peores neighborhoods en cuanto a puntuación de reviews. Compara sus características como disponibilidad, tipo de habitación y precios.\n",
    "- Posibles gráficas:\n",
    "    - Gráfico de barras apiladas para comparar el tipo de habitación (`room_type`) en los neighborhoods con mejores y peores `review_scores_rating`.\n",
    "    - Tabla dinámica para comparar la disponibilidad promedio (`availability_365`) y los precios (`price`) entre los neighborhoods con mejores y peores reviews"
   ]
  },
  {
   "cell_type": "code",
   "execution_count": 1,
   "id": "6bd891a6-c8bb-4d7c-a43a-8d6f352efe55",
   "metadata": {},
   "outputs": [
    {
     "data": {
      "text/html": [
       "\n",
       "        <iframe\n",
       "            width=\"800\"\n",
       "            height=\"600\"\n",
       "            src=\"https://lookerstudio.google.com/embed/reporting/b5699818-a80d-4c92-8729-12afef5cb67f/page/p_gcm0hnngld\"\n",
       "            frameborder=\"0\"\n",
       "            allowfullscreen\n",
       "            \n",
       "        ></iframe>\n",
       "        "
      ],
      "text/plain": [
       "<IPython.lib.display.IFrame at 0x7fc4b82be0a0>"
      ]
     },
     "execution_count": 1,
     "metadata": {},
     "output_type": "execute_result"
    }
   ],
   "source": [
    "\n",
    "\n",
    "'''\n",
    "En esta gráfica tenemos una comparación de dos métricas: “review_scores_rating” y “review_scores_value”\n",
    "para los ciudades de México, este grafico nos permite identificar las ciudades con mejor y peor desempeño...\n",
    "'''\n",
    "\n",
    "import IPython\n",
    "\n",
    "src = 'https://lookerstudio.google.com/embed/reporting/b5699818-a80d-4c92-8729-12afef5cb67f/page/p_gcm0hnngld'\n",
    "\n",
    "IPython.display.IFrame(src, width=800, height=600)\n",
    "\n"
   ]
  },
  {
   "cell_type": "markdown",
   "id": "386a41c6-dbec-47c8-99ae-2d876af34f53",
   "metadata": {},
   "source": [
    "---\n",
    "# EJERCICIO 5\n",
    "\n",
    "- Analiza la relación entre el número de listings que un host gestiona y sus puntuaciones de reviews\n",
    "- Posibles gráficas:\n",
    "    - Scatter plot con `calculated_host_listings_count` en el eje X y `review_scores_rating` en el eje Y, desglosado por neighborhood.\n",
    "    - Box plot para comparar la distribución de puntuaciones de reviews en diferentes rangos de `calculated_host_listings_count`"
   ]
  },
  {
   "cell_type": "code",
   "execution_count": null,
   "id": "cf3d10b4-dc34-46b2-9cda-e70bf64ba30f",
   "metadata": {},
   "outputs": [],
   "source": [
    "\n",
    "\n",
    "\n",
    "import IPython\n",
    "\n",
    "src = 'https://lookerstudio.google.com/embed/reporting/b5699818-a80d-4c92-8729-12afef5cb67f/page/p_gcm0hnngld'\n",
    "\n",
    "IPython.display.IFrame(src, width=800, height=600)\n",
    "\n"
   ]
  },
  {
   "cell_type": "markdown",
   "id": "1c467b2c-3cbf-41a4-9688-6dd5d88bfbd9",
   "metadata": {},
   "source": [
    "---\n",
    "# EJERCICIO 6\n",
    "\n",
    "- Clasifica los listings en categorías de rango de precios y visualiza la distribución de los tipos de habitación dentro de esos rangos\n",
    "- Posibles gráficas:\n",
    "    - Box plot para mostrar la distribución de `room_type` en cada `price_range`.\n",
    "    - Gráfico de barras apiladas que muestre la cantidad de tipos de habitación (`room_type`) en cada `price_range`"
   ]
  },
  {
   "cell_type": "code",
   "execution_count": null,
   "id": "d2cc605a-bb53-49f4-a352-e9c6bc026540",
   "metadata": {},
   "outputs": [],
   "source": [
    "#no carga el data.\n"
   ]
  },
  {
   "cell_type": "markdown",
   "id": "3d4de1c4-219e-42d1-8679-f70bce01b0d9",
   "metadata": {},
   "source": [
    "## 🎉🎉 Congrats!!  \n",
    "\n",
    "## You've finished the notebook"
   ]
  }
 ],
 "metadata": {
  "kernelspec": {
   "display_name": "Python 3 (ipykernel)",
   "language": "python",
   "name": "python3"
  },
  "language_info": {
   "codemirror_mode": {
    "name": "ipython",
    "version": 3
   },
   "file_extension": ".py",
   "mimetype": "text/x-python",
   "name": "python",
   "nbconvert_exporter": "python",
   "pygments_lexer": "ipython3",
   "version": "3.8.19"
  }
 },
 "nbformat": 4,
 "nbformat_minor": 5
}
