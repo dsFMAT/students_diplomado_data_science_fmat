{
 "cells": [
  {
   "cell_type": "markdown",
   "id": "e3c1f71f-6296-4b85-bd3b-a566bf4099c6",
   "metadata": {},
   "source": [
    "## Ejercicio\n",
    "\n",
    "Teniendo las siguientes calificaciones, determine si un alumno excenta, para excentar, tiene que tener un promedio minimo de 80 y no reprobar ni un quiz, el minimo aprobatorio es 80 \n",
    "\n",
    "Hints: \n",
    "* Haga uso de suma y división para calcular el promedio\n",
    "* La variable excent debe de contener un booleano\n",
    "* Devolver un mensaje mencionando si el alumno excenta o no.\n",
    "\n",
    "  *i.e El alumno excenta: False*"
   ]
  },
  {
   "cell_type": "code",
   "execution_count": 14,
   "id": "29e8f73e-c2d5-4434-ad63-39008b19653e",
   "metadata": {},
   "outputs": [
    {
     "data": {
      "text/plain": [
       "'El alumno excenta: False'"
      ]
     },
     "execution_count": 14,
     "metadata": {},
     "output_type": "execute_result"
    }
   ],
   "source": [
    "quiz_1 = 85\n",
    "quiz_2 = 70\n",
    "quiz_3 = 80\n",
    "minimum_to_excent = 80\n",
    "\n",
    "grades = [quiz_1, quiz_2, quiz_3]\n",
    "avg = sum(grades)/len(grades)\n",
    "excent = True if (sum(1 if nota < 80 else 0 for nota in grades) == 0) and (avg >= minimum_to_excent) else False\n",
    "\n",
    "msg= f\"El alumno excenta: {excent}\"\n",
    "msg"
   ]
  }
 ],
 "metadata": {
  "kernelspec": {
   "display_name": "Python 3 (ipykernel)",
   "language": "python",
   "name": "python3"
  },
  "language_info": {
   "codemirror_mode": {
    "name": "ipython",
    "version": 3
   },
   "file_extension": ".py",
   "mimetype": "text/x-python",
   "name": "python",
   "nbconvert_exporter": "python",
   "pygments_lexer": "ipython3",
   "version": "3.8.19"
  }
 },
 "nbformat": 4,
 "nbformat_minor": 5
}
