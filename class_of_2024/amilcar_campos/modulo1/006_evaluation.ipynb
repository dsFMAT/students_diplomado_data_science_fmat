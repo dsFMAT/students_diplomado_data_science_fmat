{
 "cells": [
  {
   "cell_type": "markdown",
   "id": "a52a8052-0fa2-4a86-877d-63d2904bdd77",
   "metadata": {},
   "source": [
    "# Ejercicio"
   ]
  },
  {
   "cell_type": "markdown",
   "id": "4f259ee4-ecce-48b0-8219-1fffbe77de06",
   "metadata": {},
   "source": [
    "# Función para Calcular el Área de un Rectángulo \n",
    "\n",
    "Escribe una función llamada calcular_area_rectangulo que reciba dos parámetros, ancho y alto, y retorne el área del rectángulo. Prueba la función con diferentes valores de ancho y alto.\n",
    "\n",
    "Instrucciones:\n",
    "\n",
    "* Define la función calcular_area_rectangulo que reciba dos parámetros: ancho y alto.\n",
    "* Calcula el área del rectángulo usando la fórmula ancho * alto.\n",
    "* Retorna el área calculada.\n",
    "* Llama a la función con diferentes valores y muestra los resultados.\n"
   ]
  },
  {
   "cell_type": "code",
   "execution_count": 1,
   "id": "445b32ba-730f-4e14-a24d-5f0800bab7a0",
   "metadata": {},
   "outputs": [
    {
     "name": "stdout",
     "output_type": "stream",
     "text": [
      "2\n",
      "12\n",
      "30\n",
      "56\n",
      "90\n",
      "132\n"
     ]
    }
   ],
   "source": [
    "def calcular_area_rectangulo(ancho, alto):\n",
    "    area = ancho * alto\n",
    "    return area\n",
    "print(calcular_area_rectangulo(1,2))\n",
    "print(calcular_area_rectangulo(3,4))\n",
    "print(calcular_area_rectangulo(5,6))\n",
    "print(calcular_area_rectangulo(7,8))\n",
    "print(calcular_area_rectangulo(9,10))\n",
    "print(calcular_area_rectangulo(11,12))"
   ]
  }
 ],
 "metadata": {
  "kernelspec": {
   "display_name": "Python 3 (ipykernel)",
   "language": "python",
   "name": "python3"
  },
  "language_info": {
   "codemirror_mode": {
    "name": "ipython",
    "version": 3
   },
   "file_extension": ".py",
   "mimetype": "text/x-python",
   "name": "python",
   "nbconvert_exporter": "python",
   "pygments_lexer": "ipython3",
   "version": "3.8.19"
  }
 },
 "nbformat": 4,
 "nbformat_minor": 5
}
