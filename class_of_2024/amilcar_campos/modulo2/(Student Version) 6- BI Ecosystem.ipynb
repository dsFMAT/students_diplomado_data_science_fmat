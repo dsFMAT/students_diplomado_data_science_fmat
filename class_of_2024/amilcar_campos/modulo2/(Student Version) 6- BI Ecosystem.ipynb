{
 "cells": [
  {
   "cell_type": "markdown",
   "id": "6746de20-d093-4a16-860d-b9720a48907d",
   "metadata": {
    "slideshow": {
     "slide_type": "slide"
    }
   },
   "source": [
    "#### Diplomado en Ciencia de Datos\n",
    "Módulo 2: Business Intelligence  \n",
    "## Tema 6: Ecosistema de BI\n",
    "\n",
    "*Notebook by [Pedro V Hernandez Serrano](https://github.com/pedrohserrano)*"
   ]
  },
  {
   "cell_type": "markdown",
   "id": "71f6c9b7-0d73-47a7-a665-f8699f86e329",
   "metadata": {},
   "source": [
    "---\n",
    "![](../img/header.jpg)"
   ]
  },
  {
   "cell_type": "markdown",
   "id": "00d5c027-0cda-4d2b-9ed2-9cde545746ae",
   "metadata": {
    "tags": []
   },
   "source": [
    "# Diseñando un ecosistema de BI\n",
    "\n",
    "El ecosistema de BI se refiere a las herramientas, procesos y tecnologías interconectadas que se utilizan para recopilar, procesar y analizar datos para la toma de decisión.\n",
    "\n",
    "- **Data Sources**: Se refiere a los datos crudos (“raw data”) o los datos sin datos sin procesar; como bases de datos, API o sensores de IoT.\n",
    "- **Procesos de ETL (Extracción, transformación y load)**: procesos (semi)automáticos que recopilan, limpian y dan formato a datos de varias fuentes en un repositorio central.\n",
    "- **Data warehouse**: repositorios centralizados que almacenan datos estructurados optimizados para análisis e reporteo.\n",
    "- **Presentation**: Las herramientas BI son aplicaciones de software diseñadas para conectar, analizar y visualizar datos."
   ]
  },
  {
   "cell_type": "markdown",
   "id": "c69d20a1-a8c6-4f4f-a828-5b9611491795",
   "metadata": {},
   "source": [
    "<img src=\"https://www.researchgate.net/publication/335781756/figure/fig1/AS:802476919910401@1568336815310/General-architecture-of-the-business-intelligence-process-adapted-from-34.png\" alt=\"ETL amd DWH\" width=\"80%\">"
   ]
  },
  {
   "cell_type": "markdown",
   "id": "ab6abe64-05cc-4888-a0da-5912284421f4",
   "metadata": {},
   "source": [
    "## Diagrams as Code"
   ]
  },
  {
   "cell_type": "markdown",
   "id": "c3f46078-e9f5-4819-bc1a-1a2512feb597",
   "metadata": {},
   "source": [
    "Diagrams (Python Library) lets you draw the cloud system architecture in plain python code.\n",
    "\n",
    "**[👉👉🏼 Here the documentation!!](https://diagrams.mingrammer.com/)**"
   ]
  },
  {
   "cell_type": "markdown",
   "id": "891afd0f-ea20-4985-bf22-09112944c2d5",
   "metadata": {
    "tags": []
   },
   "source": [
    "---\n",
    "# EJERCICIO 1\n",
    "\n",
    "- Instala la librería **Diagrams** siguiendo el ejemplo de **Quick Start** como se explica en la [documentación](https://diagrams.mingrammer.com/docs/getting-started/installation).\n",
    "- **Nota**: Es probable que **Diagrams** no funcione dentro de Jupyter Notebooks debido a dependencias de **Graphviz**. De todos modos checa la sección [\"jupyer notebooks\"](https://diagrams.mingrammer.com/docs/guides/diagram)\n",
    "- Hay que ejecutar el código en un ejecutable Python (.py) via terminal.\n",
    "- Testea que la instalación es correcta ejecutando el código de ejemplo, que debe generar un diagrama simple ![](https://diagrams.mingrammer.com/img/web_service_diagram.png)\n",
    "- El resultado debe ser un archivo PNG con el diagrama generado que puedes guardar y adjuntar en la entrega."
   ]
  },
  {
   "cell_type": "markdown",
   "id": "2c0ce699-c391-4126-ac94-9fc464415454",
   "metadata": {},
   "source": [
    "---\n",
    "# EJERCICIO 2\n",
    "\n",
    "- Desarrolla un diagrama en **Diagrams** que represente el 1er principio de Data Warehousing: **Automatización de ETL**.\n",
    "- Diseña un flujo que represente el proceso de ETL que usarás en tu proyecto con los datos de Airbnb, asegurándote de incluir el data source, los pasos de ETL y finalmente al repositorio del data warehouse.\n",
    "- El resultado debe ser un diagrama en PNG como en el ejemplo: ![diag1](../img/diag1.png)"
   ]
  },
  {
   "cell_type": "code",
   "execution_count": 2,
   "id": "d2b9d90d-9992-4919-b294-0c8eb4362961",
   "metadata": {
    "tags": []
   },
   "outputs": [],
   "source": [
    "\n",
    "\n"
   ]
  },
  {
   "cell_type": "markdown",
   "id": "d01c40c6-8ff8-4dd7-b5cd-5655786b0ac9",
   "metadata": {
    "tags": []
   },
   "source": [
    "---\n",
    "# EJERCICIO 3\n",
    "\n",
    "- Desarrolla un diagrama en **Diagrams** que ilustre los principios de **Centralización** y **Accesibilidad** en un Data Warehouse.\n",
    "- Diseña un esquema que represente un Data Warehouse que **centraliza** tus datos de Airbnb y permite el **acceso** para el análisis y la creación de reportes (conexión con Looker Studio). \n",
    "- El resultado debe ser un diagrama en PNG como en el ejemplo: ![diag2](../img/diag2.png)"
   ]
  },
  {
   "cell_type": "code",
   "execution_count": 2,
   "id": "56c894d5-00ec-4794-a903-f7bc993027e8",
   "metadata": {
    "tags": []
   },
   "outputs": [],
   "source": [
    "\n",
    "\n"
   ]
  },
  {
   "cell_type": "markdown",
   "id": "3d4de1c4-219e-42d1-8679-f70bce01b0d9",
   "metadata": {},
   "source": [
    "## 🎉🎉 Congrats!!  \n",
    "\n",
    "## You've finished the notebook"
   ]
  }
 ],
 "metadata": {
  "kernelspec": {
   "display_name": "Python 3 (ipykernel)",
   "language": "python",
   "name": "python3"
  },
  "language_info": {
   "codemirror_mode": {
    "name": "ipython",
    "version": 3
   },
   "file_extension": ".py",
   "mimetype": "text/x-python",
   "name": "python",
   "nbconvert_exporter": "python",
   "pygments_lexer": "ipython3",
   "version": "3.8.19"
  }
 },
 "nbformat": 4,
 "nbformat_minor": 5
}
